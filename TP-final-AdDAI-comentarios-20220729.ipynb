{
 "cells": [
  {
   "cell_type": "markdown",
   "metadata": {
    "slideshow": {
     "slide_type": "slide"
    }
   },
   "source": [
    "# Trabajo Final. Análisis de Datos"
   ]
  },
  {
   "cell_type": "markdown",
   "metadata": {},
   "source": [
    "## Alumnos:\n",
    "\n",
    "### Domenje, Carlos R.\n",
    "\n",
    "### Fux, Santiago.\n",
    "\n",
    "---"
   ]
  },
  {
   "cell_type": "markdown",
   "metadata": {
    "slideshow": {
     "slide_type": "slide"
    }
   },
   "source": [
    "## DATASET: Uso de Taxis Yellow Cab en USA en el año 2020\n",
    "\n",
    "**Problema.** Intentaremos responder las siguientes preguntas:\n",
    "\n",
    "1. ¿Existe una manera de caracterizar los lugares más recurrentes para inicio / fin de viaje?\n",
    "\n",
    "2. ¿Cómo son los viajes típicamente en distancia y tiempo?\n",
    "\n",
    "3. ¿Podremos segmentar los viajes de alguna manera? (clusterización)"
   ]
  },
  {
   "cell_type": "markdown",
   "metadata": {},
   "source": [
    "## 1. Obtención de datos\n",
    "\n",
    "Para importar los datos, buscamos en la página web brindada por la cátedra:\n",
    "\n",
    "- [Yellow Cab - Dataset](https://www1.nyc.gov/site/tlc/about/tlc-trip-record-data.page)\n",
    "\n",
    "**Nota**: El dataset utilizado será el del año 2020 y será descargado en una carpeta llamada \"data\" dentro de la carpeta contenedora del proyecto."
   ]
  },
  {
   "cell_type": "code",
   "execution_count": 15,
   "metadata": {
    "scrolled": true
   },
   "outputs": [],
   "source": [
    "# Path del dataset a utilizar.\n",
    "DATASET_PATH = \"./data\""
   ]
  },
  {
   "cell_type": "code",
   "execution_count": 16,
   "metadata": {},
   "outputs": [
    {
     "name": "stdout",
     "output_type": "stream",
     "text": [
      "yellow_tripdata_2020-07.parquet\n"
     ]
    }
   ],
   "source": [
    "# listamos los archivos que se encuentran en el path\n",
    "!ls {DATASET_PATH}"
   ]
  },
  {
   "cell_type": "code",
   "execution_count": 17,
   "metadata": {},
   "outputs": [],
   "source": [
    "# Importamos las librerias necesarias para interactuar con el dataset.\n",
    "\n",
    "#Pandas.\n",
    "import pandas as pd"
   ]
  },
  {
   "cell_type": "code",
   "execution_count": 18,
   "metadata": {},
   "outputs": [
    {
     "data": {
      "text/html": [
       "<div>\n",
       "<style scoped>\n",
       "    .dataframe tbody tr th:only-of-type {\n",
       "        vertical-align: middle;\n",
       "    }\n",
       "\n",
       "    .dataframe tbody tr th {\n",
       "        vertical-align: top;\n",
       "    }\n",
       "\n",
       "    .dataframe thead th {\n",
       "        text-align: right;\n",
       "    }\n",
       "</style>\n",
       "<table border=\"1\" class=\"dataframe\">\n",
       "  <thead>\n",
       "    <tr style=\"text-align: right;\">\n",
       "      <th></th>\n",
       "      <th>VendorID</th>\n",
       "      <th>tpep_pickup_datetime</th>\n",
       "      <th>tpep_dropoff_datetime</th>\n",
       "      <th>passenger_count</th>\n",
       "      <th>trip_distance</th>\n",
       "      <th>RatecodeID</th>\n",
       "      <th>store_and_fwd_flag</th>\n",
       "      <th>PULocationID</th>\n",
       "      <th>DOLocationID</th>\n",
       "      <th>payment_type</th>\n",
       "      <th>fare_amount</th>\n",
       "      <th>extra</th>\n",
       "      <th>mta_tax</th>\n",
       "      <th>tip_amount</th>\n",
       "      <th>tolls_amount</th>\n",
       "      <th>improvement_surcharge</th>\n",
       "      <th>total_amount</th>\n",
       "      <th>congestion_surcharge</th>\n",
       "      <th>airport_fee</th>\n",
       "    </tr>\n",
       "  </thead>\n",
       "  <tbody>\n",
       "    <tr>\n",
       "      <th>0</th>\n",
       "      <td>1</td>\n",
       "      <td>2020-07-01 00:25:32</td>\n",
       "      <td>2020-07-01 00:33:39</td>\n",
       "      <td>1.0</td>\n",
       "      <td>1.50</td>\n",
       "      <td>1.0</td>\n",
       "      <td>N</td>\n",
       "      <td>238</td>\n",
       "      <td>75</td>\n",
       "      <td>2</td>\n",
       "      <td>8.0</td>\n",
       "      <td>0.5</td>\n",
       "      <td>0.5</td>\n",
       "      <td>0.00</td>\n",
       "      <td>0.0</td>\n",
       "      <td>0.3</td>\n",
       "      <td>9.30</td>\n",
       "      <td>0.0</td>\n",
       "      <td>None</td>\n",
       "    </tr>\n",
       "    <tr>\n",
       "      <th>1</th>\n",
       "      <td>1</td>\n",
       "      <td>2020-07-01 00:03:19</td>\n",
       "      <td>2020-07-01 00:25:43</td>\n",
       "      <td>1.0</td>\n",
       "      <td>9.50</td>\n",
       "      <td>1.0</td>\n",
       "      <td>N</td>\n",
       "      <td>138</td>\n",
       "      <td>216</td>\n",
       "      <td>1</td>\n",
       "      <td>26.5</td>\n",
       "      <td>0.5</td>\n",
       "      <td>0.5</td>\n",
       "      <td>0.00</td>\n",
       "      <td>0.0</td>\n",
       "      <td>0.3</td>\n",
       "      <td>27.80</td>\n",
       "      <td>0.0</td>\n",
       "      <td>None</td>\n",
       "    </tr>\n",
       "    <tr>\n",
       "      <th>2</th>\n",
       "      <td>2</td>\n",
       "      <td>2020-07-01 00:15:11</td>\n",
       "      <td>2020-07-01 00:29:24</td>\n",
       "      <td>1.0</td>\n",
       "      <td>5.85</td>\n",
       "      <td>1.0</td>\n",
       "      <td>N</td>\n",
       "      <td>230</td>\n",
       "      <td>88</td>\n",
       "      <td>2</td>\n",
       "      <td>18.5</td>\n",
       "      <td>0.5</td>\n",
       "      <td>0.5</td>\n",
       "      <td>0.00</td>\n",
       "      <td>0.0</td>\n",
       "      <td>0.3</td>\n",
       "      <td>22.30</td>\n",
       "      <td>2.5</td>\n",
       "      <td>None</td>\n",
       "    </tr>\n",
       "    <tr>\n",
       "      <th>3</th>\n",
       "      <td>2</td>\n",
       "      <td>2020-07-01 00:30:49</td>\n",
       "      <td>2020-07-01 00:38:26</td>\n",
       "      <td>1.0</td>\n",
       "      <td>1.90</td>\n",
       "      <td>1.0</td>\n",
       "      <td>N</td>\n",
       "      <td>88</td>\n",
       "      <td>232</td>\n",
       "      <td>1</td>\n",
       "      <td>8.0</td>\n",
       "      <td>0.5</td>\n",
       "      <td>0.5</td>\n",
       "      <td>2.36</td>\n",
       "      <td>0.0</td>\n",
       "      <td>0.3</td>\n",
       "      <td>14.16</td>\n",
       "      <td>2.5</td>\n",
       "      <td>None</td>\n",
       "    </tr>\n",
       "    <tr>\n",
       "      <th>4</th>\n",
       "      <td>2</td>\n",
       "      <td>2020-07-01 00:31:26</td>\n",
       "      <td>2020-07-01 00:38:02</td>\n",
       "      <td>1.0</td>\n",
       "      <td>1.25</td>\n",
       "      <td>1.0</td>\n",
       "      <td>N</td>\n",
       "      <td>37</td>\n",
       "      <td>17</td>\n",
       "      <td>2</td>\n",
       "      <td>6.5</td>\n",
       "      <td>0.5</td>\n",
       "      <td>0.5</td>\n",
       "      <td>0.00</td>\n",
       "      <td>0.0</td>\n",
       "      <td>0.3</td>\n",
       "      <td>7.80</td>\n",
       "      <td>0.0</td>\n",
       "      <td>None</td>\n",
       "    </tr>\n",
       "  </tbody>\n",
       "</table>\n",
       "</div>"
      ],
      "text/plain": [
       "   VendorID tpep_pickup_datetime tpep_dropoff_datetime  passenger_count  \\\n",
       "0         1  2020-07-01 00:25:32   2020-07-01 00:33:39              1.0   \n",
       "1         1  2020-07-01 00:03:19   2020-07-01 00:25:43              1.0   \n",
       "2         2  2020-07-01 00:15:11   2020-07-01 00:29:24              1.0   \n",
       "3         2  2020-07-01 00:30:49   2020-07-01 00:38:26              1.0   \n",
       "4         2  2020-07-01 00:31:26   2020-07-01 00:38:02              1.0   \n",
       "\n",
       "   trip_distance  RatecodeID store_and_fwd_flag  PULocationID  DOLocationID  \\\n",
       "0           1.50         1.0                  N           238            75   \n",
       "1           9.50         1.0                  N           138           216   \n",
       "2           5.85         1.0                  N           230            88   \n",
       "3           1.90         1.0                  N            88           232   \n",
       "4           1.25         1.0                  N            37            17   \n",
       "\n",
       "   payment_type  fare_amount  extra  mta_tax  tip_amount  tolls_amount  \\\n",
       "0             2          8.0    0.5      0.5        0.00           0.0   \n",
       "1             1         26.5    0.5      0.5        0.00           0.0   \n",
       "2             2         18.5    0.5      0.5        0.00           0.0   \n",
       "3             1          8.0    0.5      0.5        2.36           0.0   \n",
       "4             2          6.5    0.5      0.5        0.00           0.0   \n",
       "\n",
       "   improvement_surcharge  total_amount  congestion_surcharge airport_fee  \n",
       "0                    0.3          9.30                   0.0        None  \n",
       "1                    0.3         27.80                   0.0        None  \n",
       "2                    0.3         22.30                   2.5        None  \n",
       "3                    0.3         14.16                   2.5        None  \n",
       "4                    0.3          7.80                   0.0        None  "
      ]
     },
     "execution_count": 18,
     "metadata": {},
     "output_type": "execute_result"
    }
   ],
   "source": [
    "# El archivo del dataset tiene como formato .parquet, el cual es un archivo que esta orientado a columnas. \n",
    "# El dataset evaluado corresponde al mes de Julio de 2020\n",
    "df = pd.read_parquet( \"./data/yellow_tripdata_2020-07.parquet\")\n",
    "\n",
    "# Para obtener una primer aproximación de cada columna, \n",
    "# podemos utilizar la funcion head, que nos mostrará las 5 primeras filas con sus respectivas columnas del dataset\n",
    "df.head()"
   ]
  },
  {
   "cell_type": "code",
   "execution_count": 19,
   "metadata": {},
   "outputs": [
    {
     "name": "stdout",
     "output_type": "stream",
     "text": [
      "<class 'pandas.core.frame.DataFrame'>\n",
      "RangeIndex: 800412 entries, 0 to 800411\n",
      "Data columns (total 19 columns):\n",
      " #   Column                 Non-Null Count   Dtype         \n",
      "---  ------                 --------------   -----         \n",
      " 0   VendorID               800412 non-null  int64         \n",
      " 1   tpep_pickup_datetime   800412 non-null  datetime64[ns]\n",
      " 2   tpep_dropoff_datetime  800412 non-null  datetime64[ns]\n",
      " 3   passenger_count        737565 non-null  float64       \n",
      " 4   trip_distance          800412 non-null  float64       \n",
      " 5   RatecodeID             737565 non-null  float64       \n",
      " 6   store_and_fwd_flag     737565 non-null  object        \n",
      " 7   PULocationID           800412 non-null  int64         \n",
      " 8   DOLocationID           800412 non-null  int64         \n",
      " 9   payment_type           800412 non-null  int64         \n",
      " 10  fare_amount            800412 non-null  float64       \n",
      " 11  extra                  800412 non-null  float64       \n",
      " 12  mta_tax                800412 non-null  float64       \n",
      " 13  tip_amount             800412 non-null  float64       \n",
      " 14  tolls_amount           800412 non-null  float64       \n",
      " 15  improvement_surcharge  800412 non-null  float64       \n",
      " 16  total_amount           800412 non-null  float64       \n",
      " 17  congestion_surcharge   737565 non-null  float64       \n",
      " 18  airport_fee            0 non-null       object        \n",
      "dtypes: datetime64[ns](2), float64(11), int64(4), object(2)\n",
      "memory usage: 116.0+ MB\n"
     ]
    }
   ],
   "source": [
    "## Para obtener una descripción del tipo de datos que contiene cada columna, utilizamos la funcion info()\n",
    "# Podemos además, obtener una idea general de cuantos datos no nulos contiene.\n",
    "df.info()"
   ]
  },
  {
   "cell_type": "code",
   "execution_count": 20,
   "metadata": {},
   "outputs": [
    {
     "data": {
      "text/html": [
       "<div>\n",
       "<style scoped>\n",
       "    .dataframe tbody tr th:only-of-type {\n",
       "        vertical-align: middle;\n",
       "    }\n",
       "\n",
       "    .dataframe tbody tr th {\n",
       "        vertical-align: top;\n",
       "    }\n",
       "\n",
       "    .dataframe thead th {\n",
       "        text-align: right;\n",
       "    }\n",
       "</style>\n",
       "<table border=\"1\" class=\"dataframe\">\n",
       "  <thead>\n",
       "    <tr style=\"text-align: right;\">\n",
       "      <th></th>\n",
       "      <th>VendorID</th>\n",
       "      <th>passenger_count</th>\n",
       "      <th>trip_distance</th>\n",
       "      <th>RatecodeID</th>\n",
       "      <th>PULocationID</th>\n",
       "      <th>DOLocationID</th>\n",
       "      <th>payment_type</th>\n",
       "      <th>fare_amount</th>\n",
       "      <th>extra</th>\n",
       "      <th>mta_tax</th>\n",
       "      <th>tip_amount</th>\n",
       "      <th>tolls_amount</th>\n",
       "      <th>improvement_surcharge</th>\n",
       "      <th>total_amount</th>\n",
       "      <th>congestion_surcharge</th>\n",
       "    </tr>\n",
       "  </thead>\n",
       "  <tbody>\n",
       "    <tr>\n",
       "      <th>count</th>\n",
       "      <td>800412.000000</td>\n",
       "      <td>737565.000000</td>\n",
       "      <td>800412.000000</td>\n",
       "      <td>737565.000000</td>\n",
       "      <td>800412.000000</td>\n",
       "      <td>800412.000000</td>\n",
       "      <td>800412.000000</td>\n",
       "      <td>800412.000000</td>\n",
       "      <td>800412.000000</td>\n",
       "      <td>800412.000000</td>\n",
       "      <td>800412.000000</td>\n",
       "      <td>800412.000000</td>\n",
       "      <td>800412.000000</td>\n",
       "      <td>800412.000000</td>\n",
       "      <td>737565.000000</td>\n",
       "    </tr>\n",
       "    <tr>\n",
       "      <th>mean</th>\n",
       "      <td>1.645142</td>\n",
       "      <td>1.378401</td>\n",
       "      <td>4.304165</td>\n",
       "      <td>1.046801</td>\n",
       "      <td>160.061218</td>\n",
       "      <td>156.104931</td>\n",
       "      <td>1.246323</td>\n",
       "      <td>13.438400</td>\n",
       "      <td>1.003705</td>\n",
       "      <td>0.492124</td>\n",
       "      <td>1.789151</td>\n",
       "      <td>0.316874</td>\n",
       "      <td>0.296943</td>\n",
       "      <td>18.631460</td>\n",
       "      <td>2.145680</td>\n",
       "    </tr>\n",
       "    <tr>\n",
       "      <th>std</th>\n",
       "      <td>0.478961</td>\n",
       "      <td>1.039790</td>\n",
       "      <td>473.708961</td>\n",
       "      <td>1.203844</td>\n",
       "      <td>68.563400</td>\n",
       "      <td>72.990234</td>\n",
       "      <td>0.620122</td>\n",
       "      <td>13.675661</td>\n",
       "      <td>1.240157</td>\n",
       "      <td>0.078519</td>\n",
       "      <td>2.643472</td>\n",
       "      <td>1.533511</td>\n",
       "      <td>0.041673</td>\n",
       "      <td>15.060771</td>\n",
       "      <td>0.898707</td>\n",
       "    </tr>\n",
       "    <tr>\n",
       "      <th>min</th>\n",
       "      <td>1.000000</td>\n",
       "      <td>0.000000</td>\n",
       "      <td>0.000000</td>\n",
       "      <td>1.000000</td>\n",
       "      <td>1.000000</td>\n",
       "      <td>1.000000</td>\n",
       "      <td>0.000000</td>\n",
       "      <td>-391.500000</td>\n",
       "      <td>-4.500000</td>\n",
       "      <td>-0.500000</td>\n",
       "      <td>-25.830000</td>\n",
       "      <td>-18.360000</td>\n",
       "      <td>-0.300000</td>\n",
       "      <td>-397.600000</td>\n",
       "      <td>-2.500000</td>\n",
       "    </tr>\n",
       "    <tr>\n",
       "      <th>25%</th>\n",
       "      <td>1.000000</td>\n",
       "      <td>1.000000</td>\n",
       "      <td>1.000000</td>\n",
       "      <td>1.000000</td>\n",
       "      <td>107.000000</td>\n",
       "      <td>90.000000</td>\n",
       "      <td>1.000000</td>\n",
       "      <td>6.000000</td>\n",
       "      <td>0.000000</td>\n",
       "      <td>0.500000</td>\n",
       "      <td>0.000000</td>\n",
       "      <td>0.000000</td>\n",
       "      <td>0.300000</td>\n",
       "      <td>10.800000</td>\n",
       "      <td>2.500000</td>\n",
       "    </tr>\n",
       "    <tr>\n",
       "      <th>50%</th>\n",
       "      <td>2.000000</td>\n",
       "      <td>1.000000</td>\n",
       "      <td>1.790000</td>\n",
       "      <td>1.000000</td>\n",
       "      <td>161.000000</td>\n",
       "      <td>161.000000</td>\n",
       "      <td>1.000000</td>\n",
       "      <td>9.000000</td>\n",
       "      <td>0.500000</td>\n",
       "      <td>0.500000</td>\n",
       "      <td>1.660000</td>\n",
       "      <td>0.000000</td>\n",
       "      <td>0.300000</td>\n",
       "      <td>14.160000</td>\n",
       "      <td>2.500000</td>\n",
       "    </tr>\n",
       "    <tr>\n",
       "      <th>75%</th>\n",
       "      <td>2.000000</td>\n",
       "      <td>1.000000</td>\n",
       "      <td>3.400000</td>\n",
       "      <td>1.000000</td>\n",
       "      <td>234.000000</td>\n",
       "      <td>233.000000</td>\n",
       "      <td>2.000000</td>\n",
       "      <td>15.000000</td>\n",
       "      <td>2.500000</td>\n",
       "      <td>0.500000</td>\n",
       "      <td>2.750000</td>\n",
       "      <td>0.000000</td>\n",
       "      <td>0.300000</td>\n",
       "      <td>20.550000</td>\n",
       "      <td>2.500000</td>\n",
       "    </tr>\n",
       "    <tr>\n",
       "      <th>max</th>\n",
       "      <td>6.000000</td>\n",
       "      <td>9.000000</td>\n",
       "      <td>256069.130000</td>\n",
       "      <td>99.000000</td>\n",
       "      <td>265.000000</td>\n",
       "      <td>265.000000</td>\n",
       "      <td>4.000000</td>\n",
       "      <td>1995.000000</td>\n",
       "      <td>90.060000</td>\n",
       "      <td>3.300000</td>\n",
       "      <td>1001.000000</td>\n",
       "      <td>126.120000</td>\n",
       "      <td>0.300000</td>\n",
       "      <td>1995.000000</td>\n",
       "      <td>2.500000</td>\n",
       "    </tr>\n",
       "  </tbody>\n",
       "</table>\n",
       "</div>"
      ],
      "text/plain": [
       "            VendorID  passenger_count  trip_distance     RatecodeID  \\\n",
       "count  800412.000000    737565.000000  800412.000000  737565.000000   \n",
       "mean        1.645142         1.378401       4.304165       1.046801   \n",
       "std         0.478961         1.039790     473.708961       1.203844   \n",
       "min         1.000000         0.000000       0.000000       1.000000   \n",
       "25%         1.000000         1.000000       1.000000       1.000000   \n",
       "50%         2.000000         1.000000       1.790000       1.000000   \n",
       "75%         2.000000         1.000000       3.400000       1.000000   \n",
       "max         6.000000         9.000000  256069.130000      99.000000   \n",
       "\n",
       "        PULocationID   DOLocationID   payment_type    fare_amount  \\\n",
       "count  800412.000000  800412.000000  800412.000000  800412.000000   \n",
       "mean      160.061218     156.104931       1.246323      13.438400   \n",
       "std        68.563400      72.990234       0.620122      13.675661   \n",
       "min         1.000000       1.000000       0.000000    -391.500000   \n",
       "25%       107.000000      90.000000       1.000000       6.000000   \n",
       "50%       161.000000     161.000000       1.000000       9.000000   \n",
       "75%       234.000000     233.000000       2.000000      15.000000   \n",
       "max       265.000000     265.000000       4.000000    1995.000000   \n",
       "\n",
       "               extra        mta_tax     tip_amount   tolls_amount  \\\n",
       "count  800412.000000  800412.000000  800412.000000  800412.000000   \n",
       "mean        1.003705       0.492124       1.789151       0.316874   \n",
       "std         1.240157       0.078519       2.643472       1.533511   \n",
       "min        -4.500000      -0.500000     -25.830000     -18.360000   \n",
       "25%         0.000000       0.500000       0.000000       0.000000   \n",
       "50%         0.500000       0.500000       1.660000       0.000000   \n",
       "75%         2.500000       0.500000       2.750000       0.000000   \n",
       "max        90.060000       3.300000    1001.000000     126.120000   \n",
       "\n",
       "       improvement_surcharge   total_amount  congestion_surcharge  \n",
       "count          800412.000000  800412.000000         737565.000000  \n",
       "mean                0.296943      18.631460              2.145680  \n",
       "std                 0.041673      15.060771              0.898707  \n",
       "min                -0.300000    -397.600000             -2.500000  \n",
       "25%                 0.300000      10.800000              2.500000  \n",
       "50%                 0.300000      14.160000              2.500000  \n",
       "75%                 0.300000      20.550000              2.500000  \n",
       "max                 0.300000    1995.000000              2.500000  "
      ]
     },
     "execution_count": 20,
     "metadata": {},
     "output_type": "execute_result"
    }
   ],
   "source": [
    "# La función describe() nos da una vista general de valores de cantidades de datos, media, desv. standard, valores min y max de cada columna.\n",
    "df.describe()"
   ]
  },
  {
   "cell_type": "markdown",
   "metadata": {},
   "source": [
    "### Descripción de Columnas del Dataset.\n"
   ]
  },
  {
   "cell_type": "code",
   "execution_count": 21,
   "metadata": {},
   "outputs": [
    {
     "data": {
      "text/plain": [
       "VendorID                          int64\n",
       "tpep_pickup_datetime     datetime64[ns]\n",
       "tpep_dropoff_datetime    datetime64[ns]\n",
       "passenger_count                 float64\n",
       "trip_distance                   float64\n",
       "RatecodeID                      float64\n",
       "store_and_fwd_flag               object\n",
       "PULocationID                      int64\n",
       "DOLocationID                      int64\n",
       "payment_type                      int64\n",
       "fare_amount                     float64\n",
       "extra                           float64\n",
       "mta_tax                         float64\n",
       "tip_amount                      float64\n",
       "tolls_amount                    float64\n",
       "improvement_surcharge           float64\n",
       "total_amount                    float64\n",
       "congestion_surcharge            float64\n",
       "airport_fee                      object\n",
       "dtype: object"
      ]
     },
     "execution_count": 21,
     "metadata": {},
     "output_type": "execute_result"
    }
   ],
   "source": [
    "df.dtypes"
   ]
  },
  {
   "cell_type": "code",
   "execution_count": 22,
   "metadata": {},
   "outputs": [],
   "source": [
    "# funcion para plotear las distribuciones de los atributos\n",
    "def display_dataset_distributions(dataset):\n",
    "    fig = dataset.hist(xlabelsize=12, ylabelsize=12,figsize=(22,20))\n",
    "    [x.title.set_size(14) for x in fig.ravel()]\n",
    "    plt.tight_layout()\n",
    "    plt.show()\n",
    "\n",
    "# funcion para imprimir nulos\n",
    "def print_null_info(col):\n",
    "    print(f'Cantidad de nulos: {col.isnull().sum()}')\n",
    "\n",
    "# funcion para imprimir datos de v. categoricas\n",
    "def print_categorical(col):\n",
    "    print(f'Ordinalidad: {col.unique()}')\n",
    "    print_null_info(col)\n",
    "    print('Ocurrencias:')\n",
    "    print(col.value_counts().sort_values())"
   ]
  },
  {
   "cell_type": "code",
   "execution_count": 23,
   "metadata": {},
   "outputs": [
    {
     "ename": "NameError",
     "evalue": "name 'plt' is not defined",
     "output_type": "error",
     "traceback": [
      "\u001b[0;31m---------------------------------------------------------------------------\u001b[0m",
      "\u001b[0;31mNameError\u001b[0m                                 Traceback (most recent call last)",
      "Input \u001b[0;32mIn [23]\u001b[0m, in \u001b[0;36m<cell line: 2>\u001b[0;34m()\u001b[0m\n\u001b[1;32m      1\u001b[0m \u001b[38;5;66;03m#imprimo distribuciones \u001b[39;00m\n\u001b[0;32m----> 2\u001b[0m \u001b[43mdisplay_dataset_distributions\u001b[49m\u001b[43m(\u001b[49m\u001b[43mdf\u001b[49m\u001b[43m)\u001b[49m\n",
      "Input \u001b[0;32mIn [22]\u001b[0m, in \u001b[0;36mdisplay_dataset_distributions\u001b[0;34m(dataset)\u001b[0m\n\u001b[1;32m      3\u001b[0m fig \u001b[38;5;241m=\u001b[39m dataset\u001b[38;5;241m.\u001b[39mhist(xlabelsize\u001b[38;5;241m=\u001b[39m\u001b[38;5;241m12\u001b[39m, ylabelsize\u001b[38;5;241m=\u001b[39m\u001b[38;5;241m12\u001b[39m,figsize\u001b[38;5;241m=\u001b[39m(\u001b[38;5;241m22\u001b[39m,\u001b[38;5;241m20\u001b[39m))\n\u001b[1;32m      4\u001b[0m [x\u001b[38;5;241m.\u001b[39mtitle\u001b[38;5;241m.\u001b[39mset_size(\u001b[38;5;241m14\u001b[39m) \u001b[38;5;28;01mfor\u001b[39;00m x \u001b[38;5;129;01min\u001b[39;00m fig\u001b[38;5;241m.\u001b[39mravel()]\n\u001b[0;32m----> 5\u001b[0m \u001b[43mplt\u001b[49m\u001b[38;5;241m.\u001b[39mtight_layout()\n\u001b[1;32m      6\u001b[0m plt\u001b[38;5;241m.\u001b[39mshow()\n",
      "\u001b[0;31mNameError\u001b[0m: name 'plt' is not defined"
     ]
    },
    {
     "data": {
      "image/png": "[encoded data removed]",
      "text/plain": [
       "<Figure size 1584x1440 with 20 Axes>"
      ]
     },
     "metadata": {
      "needs_background": "light"
     },
     "output_type": "display_data"
    }
   ],
   "source": [
    "#imprimo distribuciones \n",
    "display_dataset_distributions(df)"
   ]
  },
  {
   "cell_type": "markdown",
   "metadata": {},
   "source": [
    "\n",
    "- **VendorID**: Proveedor de servicios de tecnologias en taxis (T-PEP)\n",
    "    - Tipo de dato: Categórica ordinal  \n",
    "    - Tipo de variable: Entrada  \n"
   ]
  },
  {
   "cell_type": "code",
   "execution_count": null,
   "metadata": {},
   "outputs": [
    {
     "name": "stdout",
     "output_type": "stream",
     "text": [
      "Ordinalidad: [1 2 6 5]\n",
      "Cantidad de nulos: 0\n",
      "Ocurrencias:\n",
      "5         3\n",
      "6        17\n",
      "1    284110\n",
      "2    516282\n",
      "Name: VendorID, dtype: int64\n"
     ]
    }
   ],
   "source": [
    "print_categorical(df.VendorID)"
   ]
  },
  {
   "cell_type": "markdown",
   "metadata": {},
   "source": [
    "\n",
    "- **tpep_pickup_datetime**: Fecha y hora en el cual el reloj fue activado al iniciar un viaje.\n",
    "    - Tipo de dato: Timestamp compuesto  \n",
    "    - Tipo de variable: Entrada  \n",
    "\n",
    "    - Ejemplo del dato en el dataset: 2020-07-01 00:25:32\n"
   ]
  },
  {
   "cell_type": "code",
   "execution_count": null,
   "metadata": {},
   "outputs": [
    {
     "name": "stdout",
     "output_type": "stream",
     "text": [
      "Cantidad de nulos: 0\n"
     ]
    }
   ],
   "source": [
    "print_null_info(df.tpep_pickup_datetime)"
   ]
  },
  {
   "cell_type": "markdown",
   "metadata": {},
   "source": [
    "- **tpep_dropoff_datetime**: Fecha y hora en el cual el reloj fue desactivador al finalizar un viaje.\n",
    "    - Tipo de dato: Timestamp compuesto\n",
    "    - Tipo de variable: Entrada  / Salida\n",
    "\n",
    "    - Ejemplo del dato en el dataset: 2020-07-01 00:33:39\n"
   ]
  },
  {
   "cell_type": "code",
   "execution_count": null,
   "metadata": {},
   "outputs": [
    {
     "name": "stdout",
     "output_type": "stream",
     "text": [
      "Cantidad de nulos: 0\n"
     ]
    }
   ],
   "source": [
    "print_null_info(df.tpep_dropoff_datetime)"
   ]
  },
  {
   "cell_type": "markdown",
   "metadata": {},
   "source": [
    "- **passenger_count**: El número de pasajeros en el vehiculo. (Es un dato que lo ingresa el conductor.)\n",
    "    - Tipo de dato: Numérico \n",
    "    - Tipo de variable: Entrada\n",
    "    - Ejemplo del dato en el dataset: 1.0"
   ]
  },
  {
   "cell_type": "code",
   "execution_count": null,
   "metadata": {},
   "outputs": [
    {
     "name": "stdout",
     "output_type": "stream",
     "text": [
      "Cantidad de nulos: 62847\n"
     ]
    }
   ],
   "source": [
    "print_null_info(df.passenger_count)"
   ]
  },
  {
   "cell_type": "markdown",
   "metadata": {},
   "source": [
    "\n",
    "- **trip_distance**: La distancia del viaje transcurrido en millas reportada por el taxímetro. \n",
    "    - Tipo de dato: Numérico \n",
    "    - Tipo de variable: Entrada  \n",
    "\n",
    "    - Ejemplo del dato en el dataset: 1.50\n"
   ]
  },
  {
   "cell_type": "code",
   "execution_count": null,
   "metadata": {},
   "outputs": [
    {
     "name": "stdout",
     "output_type": "stream",
     "text": [
      "Cantidad de nulos: 0\n"
     ]
    }
   ],
   "source": [
    "print_null_info(df.trip_distance)"
   ]
  },
  {
   "cell_type": "markdown",
   "metadata": {},
   "source": [
    "- **PULocationID**: TLC Zona en la que el taxímetro se activó.\n",
    "    - Tipo de dato: Categórica ordinal\n",
    "    - Tipo de variable: Entrada / Salida\n",
    "\n",
    "    - Ejemplo del dato en el dataset: 238\n"
   ]
  },
  {
   "cell_type": "code",
   "execution_count": null,
   "metadata": {},
   "outputs": [
    {
     "name": "stdout",
     "output_type": "stream",
     "text": [
      "Ordinalidad: [238 138 230  88  37 140 137 166 239 132  79  45 263 170 141 249 142  43\n",
      " 114 186  68  90 164  74  75 107  25  13 211 179 143 151 148  48 125 162\n",
      "  50 234   7 231 229 262  41  87  80 233 244 193 224 247 113 183 236 259\n",
      " 237 116 100 258  42  70 264 161 181  49  10 168 246 146 158 235 226 232\n",
      " 250 243 163 152 144 255 167  24  69 242  47  65  76   4  97 165 145 213\n",
      "  32  18  39  51 261 169  89  38  61 159 129 225 177 188  52 207 134  81\n",
      " 171  95 101  33  56 117 265 248 133  14 196 260 257  60 220 126  55  78\n",
      " 197  82 123 209 218   9 223 217 157  98 130 111 222 228  35 215  40  62\n",
      "  72 155 252  91 256 136 192 216  17  77 178 227 106  22  34  67  83 208\n",
      " 219  19 124 241  29  63  28  92 127 185  26 174 139 102  64 108   1 182\n",
      " 200 119 128  54  16 210  94  20 175 202 112  44  93  12  71 121 195 191\n",
      " 153  86  36 189 203 212   3 204  85 254 149 205  96 147 131 160 198 135\n",
      " 150  66  57 194   8 173  15   6 184 180 122  84 115 221 190  53  59   2\n",
      "  27 201  73  21  31  11 214 120 118  23 240 154 206  58 109  30 156  46\n",
      " 253 251  99 176   5 245 172]\n",
      "Cantidad de nulos: 0\n",
      "Ocurrencias:\n",
      "5          1\n",
      "176        1\n",
      "251        1\n",
      "111        2\n",
      "172        2\n",
      "       ...  \n",
      "140    26114\n",
      "141    27793\n",
      "186    33096\n",
      "236    33484\n",
      "237    36245\n",
      "Name: PULocationID, Length: 259, dtype: int64\n",
      "Total categorías: 259\n"
     ]
    }
   ],
   "source": [
    "print_categorical(df.PULocationID)\n",
    "print(f'Total categorías: {len(df.PULocationID.unique())}')"
   ]
  },
  {
   "cell_type": "markdown",
   "metadata": {},
   "source": [
    "\n",
    "- **DOLocationID**: TLC Zona en la que el taxímetro se desactivó.\n",
    "    - Tipo de dato: Categórica ordinal\n",
    "    - Tipo de variable: Entrada / Salida \n",
    "\n",
    "    - Ejemplo del dato en el dataset: 75\n"
   ]
  },
  {
   "cell_type": "code",
   "execution_count": null,
   "metadata": {},
   "outputs": [
    {
     "name": "stdout",
     "output_type": "stream",
     "text": [
      "Ordinalidad: [ 75 216  88 232  17  61 260  41 142 249 112 195  45 263 116 141 254 140\n",
      "  48  74 186 262 237 239 234 230 225 231  79 166 236   7  97 170 164 248\n",
      " 128 238   4  25  89  13 137   8 100 162  80 247 148 158  37  16 145  70\n",
      " 156 107 119 159 265  26 144 217 229 261 173  96 244 143 193 151 246  76\n",
      " 191 259 224 189  65  43  64 226 188 135 120  68 113 129 152 212  50  86\n",
      " 125 114 146  28 102  90 264  39 123  14 196 198 233 256  42 177  49  22\n",
      "  10  35 132  24 258 211 161 255  81  56 117 165 240 169  71 241 126  94\n",
      "  62 210  69 138 168  63  21  91  87 228 130 163  32  18  82 223 174 227\n",
      "  60  19 213 203 219 181  85  67  55  36  34 243 197 157 127  73 179  54\n",
      "  33 209  66 147   1 235  92  51 131 242 136 160 182 101 220  95 121  47\n",
      "  12  93 207  78 202 171  53 133 111  20  83 190 252 192 124  72 185  29\n",
      " 257 167 150  40 222  15 122 205  98  77 134 251 106  11 218 153  57 200\n",
      " 215  46   9  52 155 175 178 208 118 139 183 250   3  23  44 149  58 108\n",
      "  31 201  84 204 194 115  38 176   6 180 206   5  59 221 214 187 154  27\n",
      " 184  30 109 245 253 172   2  99]\n",
      "Cantidad de nulos: 0\n",
      "Ocurrencias:\n",
      "99         5\n",
      "2          5\n",
      "187        6\n",
      "172        6\n",
      "253        7\n",
      "       ...  \n",
      "140    23094\n",
      "170    23278\n",
      "141    24102\n",
      "237    30032\n",
      "236    31795\n",
      "Name: DOLocationID, Length: 260, dtype: int64\n",
      "Total categorías: 259\n"
     ]
    }
   ],
   "source": [
    "print_categorical(df.DOLocationID)\n",
    "print(f'Total categorías: {len(df.PULocationID.unique())}')"
   ]
  },
  {
   "cell_type": "markdown",
   "metadata": {},
   "source": [
    "\n",
    "- **RatecodeID**:  El código de tarifa final vigente al final del viaje.\n",
    "    - Tipo de dato: Categórica ordinal\n",
    "    - Tipo de variable: Entrada  \n",
    "\n",
    "    - 1= Standard rate\n",
    "    - 2= JFK \n",
    "    - 3= Newark\n",
    "    - 4= Nassau or Westchester\n",
    "    - 5= Negotiated fare\n",
    "    - 6= Group ride\n"
   ]
  },
  {
   "cell_type": "code",
   "execution_count": null,
   "metadata": {},
   "outputs": [
    {
     "name": "stdout",
     "output_type": "stream",
     "text": [
      "Ordinalidad: [ 1.  2.  4.  5.  3. 99.  6. nan]\n",
      "Cantidad de nulos: 62847\n",
      "Ocurrencias:\n",
      "6.0          4\n",
      "99.0       104\n",
      "4.0        668\n",
      "3.0        826\n",
      "5.0       3470\n",
      "2.0       6771\n",
      "1.0     725722\n",
      "Name: RatecodeID, dtype: int64\n"
     ]
    }
   ],
   "source": [
    "print_categorical(df.RatecodeID)"
   ]
  },
  {
   "cell_type": "markdown",
   "metadata": {},
   "source": [
    "- **store_and_fwd_flag**:  Este flag indica si el registro de viaje se llevó a cabo en la memoria del dispositivo del vehiculo antes de enviar al proveedor, también conocido como \"almacenar y reenviar\", porque el vehiculo no tenia conexion al servidor.\n",
    "    - Tipo de dato: Categórica  \n",
    "    - Tipo de variable: Entrada  \n",
    "\n",
    "    - Y= Almacenar y reenviar informacion.\n",
    "    - N= No almacenar y enviar informacion.\n"
   ]
  },
  {
   "cell_type": "code",
   "execution_count": null,
   "metadata": {},
   "outputs": [
    {
     "name": "stdout",
     "output_type": "stream",
     "text": [
      "Ordinalidad: ['N' 'Y' None]\n",
      "Cantidad de nulos: 62847\n",
      "Ocurrencias:\n",
      "Y      7550\n",
      "N    730015\n",
      "Name: store_and_fwd_flag, dtype: int64\n"
     ]
    }
   ],
   "source": [
    "print_categorical(df.store_and_fwd_flag)"
   ]
  },
  {
   "cell_type": "markdown",
   "metadata": {},
   "source": [
    "\n",
    "- **payment_type**: Un código numérico que significa cómo el pasajero pagó por el viaje.\n",
    "    - Tipo de dato: Categórica ordinal  \n",
    "    - Tipo de variable: Entrada  \n",
    "\n",
    "    - 1= Credit card\n",
    "    - 2= Cash\n",
    "    - 3= No charge\n",
    "    - 4= Dispute\n",
    "    - 5= Unknown\n",
    "    - 6= Voided trip\n"
   ]
  },
  {
   "cell_type": "code",
   "execution_count": null,
   "metadata": {},
   "outputs": [
    {
     "name": "stdout",
     "output_type": "stream",
     "text": [
      "Ordinalidad: [2 1 4 3 0]\n",
      "Cantidad de nulos: 0\n",
      "Ocurrencias:\n",
      "4      3312\n",
      "3      6819\n",
      "0     62847\n",
      "2    236433\n",
      "1    491001\n",
      "Name: payment_type, dtype: int64\n"
     ]
    }
   ],
   "source": [
    "print_categorical(df.payment_type)"
   ]
  },
  {
   "cell_type": "markdown",
   "metadata": {},
   "source": [
    "- **fare_amount**: La tarifa de tiempo y distancia calculada por el taxímetro.\n",
    "    - Tipo de dato: Numérico  \n",
    "    - Tipo de variable: Salida  \n",
    "\n",
    "    - Ejemplo del dato en el dataset: 8.0\n"
   ]
  },
  {
   "cell_type": "code",
   "execution_count": null,
   "metadata": {},
   "outputs": [
    {
     "name": "stdout",
     "output_type": "stream",
     "text": [
      "Cantidad de nulos: 0\n"
     ]
    }
   ],
   "source": [
    "print_null_info(df.fare_amount)"
   ]
  },
  {
   "cell_type": "markdown",
   "metadata": {},
   "source": [
    "- **Extra**: Varios extras y recargos. Actualmente, esto solo incluye los cargos de $0.50 y $1 por la hora pico y por la noche.\n",
    "    - Tipo de dato: Numérico  \n",
    "    - Tipo de variable: Salida  \n",
    "\n",
    "    - Ejemplo del dato en el dataset: 0.5\n"
   ]
  },
  {
   "cell_type": "code",
   "execution_count": 29,
   "metadata": {},
   "outputs": [
    {
     "name": "stdout",
     "output_type": "stream",
     "text": [
      "Cantidad de nulos: 0\n",
      "Ordinalidad: [ 0.5   3.    0.    2.5  -0.5   3.5   1.    1.3   0.8   4.5  -1.    7.\n",
      "  1.8  -4.5   5.3   2.    2.05 12.78 47.4   0.3   3.3  -2.5   6.5  -2.\n",
      " 90.06 -0.45  0.99  4.08  3.46  2.75  5.03  2.45  1.39  3.31  0.93  2.23\n",
      "  0.76  4.21  0.7   0.63  2.92  1.11  5.36  1.47]\n",
      "Cantidad de nulos: 0\n",
      "Ocurrencias:\n",
      " 2.45          1\n",
      " 4.21          1\n",
      " 0.76          1\n",
      " 2.23          1\n",
      " 0.93          1\n",
      " 3.31          1\n",
      " 1.39          1\n",
      " 6.50          1\n",
      " 5.03          1\n",
      " 5.36          1\n",
      " 3.46          1\n",
      " 0.99          1\n",
      "-0.45          1\n",
      " 90.06         1\n",
      "-2.00          1\n",
      " 3.30          1\n",
      " 47.40         1\n",
      " 12.78         1\n",
      " 2.05          1\n",
      " 4.08          1\n",
      " 0.70          1\n",
      " 1.47          1\n",
      " 0.63          1\n",
      " 2.92          1\n",
      " 1.11          1\n",
      " 5.30          1\n",
      " 2.75          2\n",
      "-2.50          2\n",
      " 2.00          4\n",
      " 0.30         12\n",
      "-4.50         21\n",
      " 1.80         42\n",
      " 1.30         52\n",
      " 0.80        151\n",
      " 7.00        306\n",
      "-1.00        693\n",
      "-0.50        883\n",
      " 4.50       1101\n",
      " 3.00      32668\n",
      " 3.50      52114\n",
      " 0.50      81755\n",
      " 1.00     103055\n",
      " 2.50     149077\n",
      " 0.00     378448\n",
      "Name: extra, dtype: int64\n"
     ]
    }
   ],
   "source": [
    "print_null_info(df.extra)\n",
    "print_categorical(df.extra)"
   ]
  },
  {
   "cell_type": "markdown",
   "metadata": {},
   "source": [
    "\n",
    "- **mta_tax**: Impuesto MTA de $0.50 que se activa automáticamente según la tasa de uso del medidor.\n",
    "    - Tipo de dato: Numérico\n",
    "    - Tipo de variable: Salida  \n",
    "\n",
    "    - Ejemplo del dato en el dataset: 0.5\n"
   ]
  },
  {
   "cell_type": "code",
   "execution_count": 30,
   "metadata": {},
   "outputs": [
    {
     "name": "stdout",
     "output_type": "stream",
     "text": [
      "Cantidad de nulos: 0\n",
      "Ordinalidad: [ 0.5 -0.5  0.   3.3  2.8]\n",
      "Cantidad de nulos: 0\n",
      "Ocurrencias:\n",
      " 3.3         1\n",
      " 2.8         1\n",
      "-0.5      3633\n",
      " 0.0      5353\n",
      " 0.5    791424\n",
      "Name: mta_tax, dtype: int64\n"
     ]
    }
   ],
   "source": [
    "print_null_info(df.mta_tax)\n",
    "print_categorical(df.mta_tax)"
   ]
  },
  {
   "cell_type": "markdown",
   "metadata": {},
   "source": [
    "- **improvement_surcharge**: Recargo de mejora de $ 0.30 en viaje en el descenso de bandera. El recargo por mejora comenzó a cobrarse en 2015.\n",
    "    - Tipo de dato: Numérico  \n",
    "    - Tipo de variable: Salida  \n",
    "\n",
    "    - Ejemplo del dato en el dataset: 0.3\n"
   ]
  },
  {
   "cell_type": "code",
   "execution_count": 26,
   "metadata": {},
   "outputs": [
    {
     "name": "stdout",
     "output_type": "stream",
     "text": [
      "Cantidad de nulos: 0\n",
      "Ordinalidad: [ 0.3 -0.3  0. ]\n",
      "Cantidad de nulos: 0\n",
      "Ocurrencias:\n",
      " 0.0       784\n",
      "-0.3      3686\n",
      " 0.3    795942\n",
      "Name: improvement_surcharge, dtype: int64\n"
     ]
    }
   ],
   "source": [
    "print_null_info(df.improvement_surcharge)\n",
    "print_categorical(df.improvement_surcharge)"
   ]
  },
  {
   "cell_type": "markdown",
   "metadata": {},
   "source": [
    "- **tip_amount**: Importe de la propina: este campo se completa automáticamente para las propinas de tarjetas de crédito. Las propinas en efectivo no están incluidas.\n",
    "    - Tipo de dato: Numérico\n",
    "    - Tipo de variable: Salida  \n",
    "\n",
    "    - Ejemplo del dato en el dataset: 0.00  \n"
   ]
  },
  {
   "cell_type": "code",
   "execution_count": 28,
   "metadata": {},
   "outputs": [
    {
     "name": "stdout",
     "output_type": "stream",
     "text": [
      "Cantidad de nulos: 0\n",
      "Ordinalidad: [ 0.    2.36  6.09 ... 11.09 12.93 17.32]\n",
      "Cantidad de nulos: 0\n",
      "Ocurrencias:\n",
      " 17.32         1\n",
      " 28.30         1\n",
      " 20.42         1\n",
      " 19.20         1\n",
      "-20.80         1\n",
      "           ...  \n",
      " 3.00       9609\n",
      " 2.00      29329\n",
      " 2.75      34794\n",
      " 1.00      37223\n",
      " 0.00     306113\n",
      "Name: tip_amount, Length: 2043, dtype: int64\n"
     ]
    }
   ],
   "source": [
    "print_null_info(df.tip_amount)\n",
    "print_categorical(df.tip_amount)"
   ]
  },
  {
   "cell_type": "markdown",
   "metadata": {},
   "source": [
    "- **tolls_amount**: Importe total de todos los peajes pagados en el viaje.\n",
    "    - Tipo de dato: Numérico\n",
    "    - Tipo de variable: Salida  \n",
    "    - Ejemplo del dato en el dataset: 0.00\n"
   ]
  },
  {
   "cell_type": "code",
   "execution_count": 31,
   "metadata": {},
   "outputs": [
    {
     "name": "stdout",
     "output_type": "stream",
     "text": [
      "Cantidad de nulos: 0\n",
      "Ordinalidad: [ 0.0000e+00  6.1200e+00  1.2240e+01  1.1750e+01  5.6200e+00  1.3750e+01\n",
      "  1.8360e+01 -6.1200e+00  8.4100e+00  2.8000e+00  1.9000e+01  2.2900e+00\n",
      "  1.5900e+01 -1.8360e+01  1.8530e+01  1.6250e+01  1.0700e+01  1.9870e+01\n",
      "  1.8250e+01  3.0990e+01  3.0000e+00  2.6870e+01  2.5990e+01  7.0000e+00\n",
      "  6.9200e+00  5.0000e+00  2.6240e+01  2.1000e+01  1.1840e+01  3.2890e+01\n",
      "  1.7750e+01  2.8000e+01  1.5450e+01  1.8760e+01  1.3900e+01  1.7870e+01\n",
      "  9.5000e+00  1.0500e+01  6.2100e+00  8.1200e+00  2.1370e+01  8.5000e+00\n",
      "  1.6000e+01  1.9510e+01  1.6200e+01  7.7200e+00  6.1800e+00  2.7500e+01\n",
      "  1.3300e+01  2.0750e+01  2.0000e+01  7.1200e+00  1.8750e+01  1.6040e+01\n",
      "  1.9750e+01  1.2940e+01  2.7000e+01  2.3500e+01  1.6340e+01  2.0870e+01\n",
      "  2.5000e+01  1.4530e+01  1.5000e+01  4.5800e+00  1.8650e+01 -8.4100e+00\n",
      "  2.0670e+01  2.3990e+01  1.5120e+01  5.7600e+00  4.3370e+01  3.0950e+01\n",
      "  3.1000e+01 -2.8000e+00  1.5350e+01  2.5500e+01  1.6750e+01  1.8620e+01\n",
      "  6.0000e+00  2.2370e+01  6.1600e+00  6.7500e+00  6.1000e+00 -1.1750e+01\n",
      "  2.1750e+01  1.5250e+01  1.0000e+00  1.7250e+01  8.9200e+00  1.7190e+01\n",
      "  1.1120e+01  1.2500e+01  1.8500e+01  5.3000e+00  2.5870e+01  1.0620e+01\n",
      "  2.4500e+01  5.2800e+01 -1.2240e+01  1.5150e+01  1.4850e+01  1.6400e+01\n",
      "  2.7500e+00  6.5200e+00  6.5000e+00  5.0000e+01  5.6000e+00  2.2560e+01\n",
      "  2.0000e+00  1.9350e+01  8.0000e+00  3.2470e+01  2.5000e+00  2.5000e-01\n",
      "  2.4000e+01  4.9980e+01  8.6200e+00  5.3990e+01  9.0000e-02  1.8000e+01\n",
      "  7.7800e+00  6.1300e+00  1.4750e+01  3.9740e+01  1.0000e+01  2.6700e+01\n",
      "  6.6000e+01  2.3780e+01  1.3000e+01  2.0620e+01  1.2120e+01  2.6400e+00\n",
      "  4.0000e+00  1.6150e+01  2.5240e+01  5.2000e+00  6.2000e+00  3.5740e+01\n",
      "  3.0600e+01  1.6550e+01  5.1200e+00  1.8120e+01  3.2370e+01  1.6330e+01\n",
      "  2.3000e+01  5.8000e+00  1.4500e+01  1.7000e+01  3.1500e+01  2.7750e+01\n",
      "  1.7500e+01  1.7150e+01  2.8790e+01  7.1300e+00  1.7300e+01  1.7550e+01\n",
      "  3.3620e+01  4.1250e+01  3.9730e+01  2.4480e+01  9.9200e+00  9.4400e+00\n",
      "  2.9620e+01  1.3350e+01  1.0000e-01  6.0600e+00  1.9500e+01  6.5300e+00\n",
      "  2.0550e+01  2.3750e+01  3.0630e+01  3.5000e+00  2.9990e+01  1.4550e+01\n",
      " -1.3750e+01  1.6500e+01  9.2000e-01  1.2612e+02  3.4500e+01  1.5750e+01\n",
      "  1.8840e+01  2.7990e+01  1.0000e-02  1.5040e+01  2.2750e+01  2.0650e+01\n",
      " -1.0620e+01  1.8310e+01  6.0500e+00  1.0120e+01  1.4250e+01  1.4000e+01\n",
      "  7.2040e+01  2.4870e+01  1.8380e+01  2.8750e+01  3.2000e+01 -7.0000e+00\n",
      "  1.7510e+01  4.1200e+00  6.1000e+01  4.7000e+00  2.5620e+01  3.0110e+01\n",
      "  1.5620e+01  2.6280e+01  1.6120e+01  1.1210e+01  6.1100e+00  1.0680e+01\n",
      "  7.7900e+00  5.5000e+00  1.0290e+01  4.5900e+00  1.6720e+01  1.3120e+01\n",
      "  1.0800e+01  9.1500e+00  1.0870e+01  4.7500e+00  7.8000e+00  1.6820e+01\n",
      "  9.1200e+00  2.1740e+01  3.2590e+01  1.0900e+01  2.6250e+01  9.0000e+00\n",
      "  3.0250e+01  8.2900e+00  1.4120e+01  2.1120e+01  1.2000e+00  2.0160e+01\n",
      "  5.6800e+00  8.8700e+00  1.1400e+01]\n",
      "Cantidad de nulos: 0\n",
      "Ocurrencias:\n",
      " 20.16         1\n",
      " 32.59         1\n",
      " 17.51         1\n",
      "-7.00          1\n",
      " 32.00         1\n",
      "           ...  \n",
      " 11.75       549\n",
      " 12.24       922\n",
      " 2.80        923\n",
      " 6.12      33627\n",
      " 0.00     761868\n",
      "Name: tolls_amount, Length: 237, dtype: int64\n"
     ]
    }
   ],
   "source": [
    "print_null_info(df.tolls_amount)\n"
   ]
  },
  {
   "cell_type": "markdown",
   "metadata": {},
   "source": [
    "\n",
    "- **total_amount**: El monto total cobrado a los pasajeros. No incluye propinas en efectivo.\n",
    "    - Tipo de dato: Numérico  \n",
    "    - Tipo de variable: Salida  \n",
    "    - Ejemplo del dato en el dataset: 9.30\n"
   ]
  },
  {
   "cell_type": "code",
   "execution_count": null,
   "metadata": {},
   "outputs": [
    {
     "name": "stdout",
     "output_type": "stream",
     "text": [
      "Cantidad de nulos: 0\n"
     ]
    }
   ],
   "source": [
    "print_null_info(df.total_amount)"
   ]
  },
  {
   "cell_type": "markdown",
   "metadata": {},
   "source": [
    "- **congestion_surcharge**: Importe total recaudado en el viaje por el recargo por congestión del Estado de Nueva York.\n",
    "    - Tipo de dato: Numérico\n",
    "    - Tipo de variable: Salida  \n",
    "    - Ejemplo del dato en el dataset: 0.00\n"
   ]
  },
  {
   "cell_type": "code",
   "execution_count": 27,
   "metadata": {},
   "outputs": [
    {
     "name": "stdout",
     "output_type": "stream",
     "text": [
      "Cantidad de nulos: 62847\n",
      "Ordinalidad: [ 0.   2.5 -2.5  0.8  0.5  nan]\n",
      "Cantidad de nulos: 62847\n",
      "Ocurrencias:\n",
      " 0.8         1\n",
      " 0.5         1\n",
      "-2.5      2798\n",
      " 0.0     98936\n",
      " 2.5    635829\n",
      "Name: congestion_surcharge, dtype: int64\n"
     ]
    }
   ],
   "source": [
    "print_null_info(df.congestion_surcharge)\n"
   ]
  },
  {
   "cell_type": "markdown",
   "metadata": {},
   "source": [
    "- **airport_fee**: $1.25 para recoger solo en los aeropuertos LaGuardia y John F. Kennedy\n",
    "    - Tipo de dato: Numérico  \n",
    "    - Tipo de variable: Salida\n",
    "    - Ejemplo del dato en el dataset: None"
   ]
  },
  {
   "cell_type": "code",
   "execution_count": null,
   "metadata": {},
   "outputs": [
    {
     "name": "stdout",
     "output_type": "stream",
     "text": [
      "Cantidad de nulos: 800412\n"
     ]
    }
   ],
   "source": [
    "print_null_info(df.airport_fee)"
   ]
  },
  {
   "cell_type": "markdown",
   "metadata": {},
   "source": [
    "Puntos a analizar en el dataset (Santaigo 2022-07-29)\n",
    "-----------------------------------------------------\n",
    "\n",
    " 0   VendorID               800412 non-null  SJF: No aporta valor  \n",
    " 1   tpep_pickup_datetime   800412 non-null  SJF: Se puede descomponer en día de la semana y hora?\n",
    " 2   tpep_dropoff_datetime  800412 non-null  SJF: Se puede descomponer en día de la semana y hora?\n",
    " 3   passenger_count        737565 non-null  SJF: Contiene nulos -> Pero casi todos son de 1 pasajeron en general. Hacer una regresión daría desbalanceado\n",
    " 4   trip_distance          800412 non-null  float64       SJF: ok\n",
    " 5   RatecodeID             737565 non-null  float64  SJF: Super desbalanceada -> Se puede quitar?     \n",
    " 6   store_and_fwd_flag     737565 non-null  object       SJF: No aporta informacion \n",
    " 7   PULocationID           800412 non-null  int64         SJF: Cómo bajar su número (259 categorias) -> Binary encoding + categoría others?\n",
    " 8   DOLocationID           800412 non-null  int64          SJF: Cómo bajar su número (259 categorias) -> Binary encoding + categoría others? \n",
    " 9   payment_type           800412 non-null  int64         SJF: ok\n",
    " 10  fare_amount            800412 non-null  float64       SJF: ok\n",
    " 11  extra                  800412 non-null  float64       SJF: OK. Se puede censurar (crap) para quitar outliers\n",
    " 12  mta_tax                800412 non-null  float64       SJF: Muy desbalanceado. Conviene quitar? Hay valores negativos (podar?)\n",
    " 13  tip_amount             800412 non-null  float64       SJF: Hay valores negativos (podar?). Se podrían armar bins para evitar outliers?\n",
    " 14  tolls_amount           800412 non-null  float64       SJF_ Muy desbalanceada\n",
    " 15  improvement_surcharge  800412 non-null  float64       SJF: Super desbalanceado. Conviene quitar? Hay valores negativos (podar?)\n",
    " 16  total_amount           800412 non-null  float64       SJF: Es redundante? Conviene quitar?\n",
    " 17  congestion_surcharge   737565 non-null  float64       Muy desbalanceada. Puede discretizarse en 0/1 directamente?\n",
    " 18  airport_fee            0 non-null       object  SJF: Quitar no tiene info\n"
   ]
  }
 ],
 "metadata": {
  "kernelspec": {
   "display_name": "Python 3.9.13 64-bit",
   "language": "python",
   "name": "python3"
  },
  "language_info": {
   "codemirror_mode": {
    "name": "ipython",
    "version": 3
   },
   "file_extension": ".py",
   "mimetype": "text/x-python",
   "name": "python",
   "nbconvert_exporter": "python",
   "pygments_lexer": "ipython3",
   "version": "3.8.10"
  },
  "vscode": {
   "interpreter": {
    "hash": "b0fa6594d8f4cbf19f97940f81e996739fb7646882a419484c72d19e05852a7e"
   }
  }
 },
 "nbformat": 4,
 "nbformat_minor": 4
}
