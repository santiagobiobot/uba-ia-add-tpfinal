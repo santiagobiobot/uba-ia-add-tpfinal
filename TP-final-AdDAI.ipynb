{
 "cells": [
  {
   "cell_type": "markdown",
   "metadata": {
    "slideshow": {
     "slide_type": "slide"
    }
   },
   "source": [
    "# Trabajo Final. Análisis de Datos"
   ]
  },
  {
   "cell_type": "markdown",
   "metadata": {},
   "source": [
    "## Alumnos:\n",
    "\n",
    "### Domenje, Carlos R.\n",
    "\n",
    "### Fux, Santiago.\n",
    "\n",
    "---"
   ]
  },
  {
   "cell_type": "markdown",
   "metadata": {
    "slideshow": {
     "slide_type": "slide"
    }
   },
   "source": [
    "## DATASET: Uso de Taxis Yellow Cab en USA en el año 2020\n",
    "\n",
    "**Problema.** Responderemos a la siguiente pregunta\n",
    "\n",
    "1. ¿Existe una manera de caracterizar los lugares más recurrentes para inicio / fin de viaje?\n"
   ]
  },
  {
   "cell_type": "markdown",
   "metadata": {},
   "source": [
    "## 1. Obtención de datos\n",
    "\n",
    "Para importar los datos, buscamos en la página web brindada por la cátedra:\n",
    "\n",
    "- [Yellow Cab - Dataset](https://www1.nyc.gov/site/tlc/about/tlc-trip-record-data.page)\n",
    "\n",
    "**Nota**: El dataset utilizado será el del año 2020, los tres primeros meses (Enero, Febrero, Marzo) y será descargado en una carpeta llamada \"data\" dentro de la carpeta contenedora del proyecto."
   ]
  },
  {
   "cell_type": "code",
   "execution_count": 124,
   "metadata": {
    "scrolled": true
   },
   "outputs": [],
   "source": [
    "# Path del dataset a utilizar.\n",
    "DATASET_PATH = r'./data'"
   ]
  },
  {
   "cell_type": "code",
   "execution_count": 125,
   "metadata": {},
   "outputs": [
    {
     "name": "stdout",
     "output_type": "stream",
     "text": [
      "yellow_tripdata_2020-01.parquet  yellow_tripdata_2020-03.parquet\n",
      "yellow_tripdata_2020-02.parquet\n"
     ]
    }
   ],
   "source": [
    "# listamos los archivos que se encuentran en el path\n",
    "!ls {DATASET_PATH}"
   ]
  },
  {
   "cell_type": "code",
   "execution_count": 126,
   "metadata": {},
   "outputs": [],
   "source": [
    "# Importamos las librerias necesarias para interactuar con el dataset.\n",
    "\n",
    "import pandas as pd\n",
    "import glob\n",
    "import matplotlib\n",
    "import matplotlib.pyplot as plt\n",
    "import numpy as np\n",
    "\n",
    "import sklearn as sk\n",
    "from sklearn.model_selection import train_test_split\n",
    "from sklearn.linear_model import LogisticRegression, LogisticRegressionCV\n",
    "from sklearn.metrics import accuracy_score,plot_confusion_matrix,roc_auc_score, classification_report, confusion_matrix, precision_recall_curve, auc\n",
    "from sklearn.preprocessing import StandardScaler\n",
    "\n",
    "# Set decimals format with 3 decimals\n",
    "pd.set_option('display.float_format', lambda x: '%.3f' % x)"
   ]
  },
  {
   "cell_type": "code",
   "execution_count": 127,
   "metadata": {},
   "outputs": [
    {
     "data": {
      "text/html": [
       "<div>\n",
       "<style scoped>\n",
       "    .dataframe tbody tr th:only-of-type {\n",
       "        vertical-align: middle;\n",
       "    }\n",
       "\n",
       "    .dataframe tbody tr th {\n",
       "        vertical-align: top;\n",
       "    }\n",
       "\n",
       "    .dataframe thead th {\n",
       "        text-align: right;\n",
       "    }\n",
       "</style>\n",
       "<table border=\"1\" class=\"dataframe\">\n",
       "  <thead>\n",
       "    <tr style=\"text-align: right;\">\n",
       "      <th></th>\n",
       "      <th>VendorID</th>\n",
       "      <th>passenger_count</th>\n",
       "      <th>trip_distance</th>\n",
       "      <th>RatecodeID</th>\n",
       "      <th>PULocationID</th>\n",
       "      <th>DOLocationID</th>\n",
       "      <th>payment_type</th>\n",
       "      <th>fare_amount</th>\n",
       "      <th>extra</th>\n",
       "      <th>mta_tax</th>\n",
       "      <th>tip_amount</th>\n",
       "      <th>tolls_amount</th>\n",
       "      <th>improvement_surcharge</th>\n",
       "      <th>total_amount</th>\n",
       "      <th>congestion_surcharge</th>\n",
       "    </tr>\n",
       "  </thead>\n",
       "  <tbody>\n",
       "    <tr>\n",
       "      <th>count</th>\n",
       "      <td>1571207.000</td>\n",
       "      <td>1556095.000</td>\n",
       "      <td>1571207.000</td>\n",
       "      <td>1556095.000</td>\n",
       "      <td>1571207.000</td>\n",
       "      <td>1571207.000</td>\n",
       "      <td>1571207.000</td>\n",
       "      <td>1571207.000</td>\n",
       "      <td>1571207.000</td>\n",
       "      <td>1571207.000</td>\n",
       "      <td>1571207.000</td>\n",
       "      <td>1571207.000</td>\n",
       "      <td>1571207.000</td>\n",
       "      <td>1571207.000</td>\n",
       "      <td>1556095.000</td>\n",
       "    </tr>\n",
       "    <tr>\n",
       "      <th>mean</th>\n",
       "      <td>1.673</td>\n",
       "      <td>1.503</td>\n",
       "      <td>3.048</td>\n",
       "      <td>1.055</td>\n",
       "      <td>164.472</td>\n",
       "      <td>162.317</td>\n",
       "      <td>1.253</td>\n",
       "      <td>12.601</td>\n",
       "      <td>1.106</td>\n",
       "      <td>0.492</td>\n",
       "      <td>2.190</td>\n",
       "      <td>0.330</td>\n",
       "      <td>0.298</td>\n",
       "      <td>18.542</td>\n",
       "      <td>2.296</td>\n",
       "    </tr>\n",
       "    <tr>\n",
       "      <th>std</th>\n",
       "      <td>0.470</td>\n",
       "      <td>1.144</td>\n",
       "      <td>215.708</td>\n",
       "      <td>0.728</td>\n",
       "      <td>65.736</td>\n",
       "      <td>70.016</td>\n",
       "      <td>0.486</td>\n",
       "      <td>11.798</td>\n",
       "      <td>1.255</td>\n",
       "      <td>0.073</td>\n",
       "      <td>2.733</td>\n",
       "      <td>1.593</td>\n",
       "      <td>0.035</td>\n",
       "      <td>14.377</td>\n",
       "      <td>0.707</td>\n",
       "    </tr>\n",
       "    <tr>\n",
       "      <th>min</th>\n",
       "      <td>1.000</td>\n",
       "      <td>0.000</td>\n",
       "      <td>-29.090</td>\n",
       "      <td>1.000</td>\n",
       "      <td>1.000</td>\n",
       "      <td>1.000</td>\n",
       "      <td>0.000</td>\n",
       "      <td>-1238.000</td>\n",
       "      <td>-4.500</td>\n",
       "      <td>-0.500</td>\n",
       "      <td>-493.220</td>\n",
       "      <td>-25.000</td>\n",
       "      <td>-0.300</td>\n",
       "      <td>-1242.300</td>\n",
       "      <td>-2.500</td>\n",
       "    </tr>\n",
       "    <tr>\n",
       "      <th>25%</th>\n",
       "      <td>1.000</td>\n",
       "      <td>1.000</td>\n",
       "      <td>0.970</td>\n",
       "      <td>1.000</td>\n",
       "      <td>125.000</td>\n",
       "      <td>113.000</td>\n",
       "      <td>1.000</td>\n",
       "      <td>6.500</td>\n",
       "      <td>0.000</td>\n",
       "      <td>0.500</td>\n",
       "      <td>0.000</td>\n",
       "      <td>0.000</td>\n",
       "      <td>0.300</td>\n",
       "      <td>11.160</td>\n",
       "      <td>2.500</td>\n",
       "    </tr>\n",
       "    <tr>\n",
       "      <th>50%</th>\n",
       "      <td>2.000</td>\n",
       "      <td>1.000</td>\n",
       "      <td>1.600</td>\n",
       "      <td>1.000</td>\n",
       "      <td>162.000</td>\n",
       "      <td>162.000</td>\n",
       "      <td>1.000</td>\n",
       "      <td>9.000</td>\n",
       "      <td>0.500</td>\n",
       "      <td>0.500</td>\n",
       "      <td>1.950</td>\n",
       "      <td>0.000</td>\n",
       "      <td>0.300</td>\n",
       "      <td>14.300</td>\n",
       "      <td>2.500</td>\n",
       "    </tr>\n",
       "    <tr>\n",
       "      <th>75%</th>\n",
       "      <td>2.000</td>\n",
       "      <td>2.000</td>\n",
       "      <td>2.920</td>\n",
       "      <td>1.000</td>\n",
       "      <td>234.000</td>\n",
       "      <td>234.000</td>\n",
       "      <td>2.000</td>\n",
       "      <td>14.000</td>\n",
       "      <td>2.500</td>\n",
       "      <td>0.500</td>\n",
       "      <td>2.860</td>\n",
       "      <td>0.000</td>\n",
       "      <td>0.300</td>\n",
       "      <td>19.880</td>\n",
       "      <td>2.500</td>\n",
       "    </tr>\n",
       "    <tr>\n",
       "      <th>max</th>\n",
       "      <td>6.000</td>\n",
       "      <td>9.000</td>\n",
       "      <td>269803.730</td>\n",
       "      <td>99.000</td>\n",
       "      <td>265.000</td>\n",
       "      <td>265.000</td>\n",
       "      <td>4.000</td>\n",
       "      <td>804.000</td>\n",
       "      <td>87.560</td>\n",
       "      <td>3.300</td>\n",
       "      <td>450.000</td>\n",
       "      <td>190.000</td>\n",
       "      <td>0.300</td>\n",
       "      <td>1023.670</td>\n",
       "      <td>2.750</td>\n",
       "    </tr>\n",
       "  </tbody>\n",
       "</table>\n",
       "</div>"
      ],
      "text/plain": [
       "         VendorID  passenger_count  trip_distance  RatecodeID  PULocationID  \\\n",
       "count 1571207.000      1556095.000    1571207.000 1556095.000   1571207.000   \n",
       "mean        1.673            1.503          3.048       1.055       164.472   \n",
       "std         0.470            1.144        215.708       0.728        65.736   \n",
       "min         1.000            0.000        -29.090       1.000         1.000   \n",
       "25%         1.000            1.000          0.970       1.000       125.000   \n",
       "50%         2.000            1.000          1.600       1.000       162.000   \n",
       "75%         2.000            2.000          2.920       1.000       234.000   \n",
       "max         6.000            9.000     269803.730      99.000       265.000   \n",
       "\n",
       "       DOLocationID  payment_type  fare_amount       extra     mta_tax  \\\n",
       "count   1571207.000   1571207.000  1571207.000 1571207.000 1571207.000   \n",
       "mean        162.317         1.253       12.601       1.106       0.492   \n",
       "std          70.016         0.486       11.798       1.255       0.073   \n",
       "min           1.000         0.000    -1238.000      -4.500      -0.500   \n",
       "25%         113.000         1.000        6.500       0.000       0.500   \n",
       "50%         162.000         1.000        9.000       0.500       0.500   \n",
       "75%         234.000         2.000       14.000       2.500       0.500   \n",
       "max         265.000         4.000      804.000      87.560       3.300   \n",
       "\n",
       "       tip_amount  tolls_amount  improvement_surcharge  total_amount  \\\n",
       "count 1571207.000   1571207.000            1571207.000   1571207.000   \n",
       "mean        2.190         0.330                  0.298        18.542   \n",
       "std         2.733         1.593                  0.035        14.377   \n",
       "min      -493.220       -25.000                 -0.300     -1242.300   \n",
       "25%         0.000         0.000                  0.300        11.160   \n",
       "50%         1.950         0.000                  0.300        14.300   \n",
       "75%         2.860         0.000                  0.300        19.880   \n",
       "max       450.000       190.000                  0.300      1023.670   \n",
       "\n",
       "       congestion_surcharge  \n",
       "count           1556095.000  \n",
       "mean                  2.296  \n",
       "std                   0.707  \n",
       "min                  -2.500  \n",
       "25%                   2.500  \n",
       "50%                   2.500  \n",
       "75%                   2.500  \n",
       "max                   2.750  "
      ]
     },
     "execution_count": 127,
     "metadata": {},
     "output_type": "execute_result"
    }
   ],
   "source": [
    "# El archivo del dataset tiene como formato .parquet, el cual es un archivo que esta orientado a columnas. \n",
    "all_files = glob.glob(\"./data/*.parquet\")\n",
    "\n",
    "df_list = []\n",
    "\n",
    "for filename in all_files:\n",
    "    # Se carga el archivo\n",
    "    df = pd.read_parquet(filename)\n",
    "    # Tomo el 10% del dataset total   \n",
    "    df = df.sample(frac=0.1)\n",
    "    # Agrego a la lista\n",
    "    df_list.append(df)\n",
    "\n",
    "\n",
    "df = pd.concat(df_list, axis=0, ignore_index=True)\n",
    "\n",
    "\n",
    "df.describe()"
   ]
  },
  {
   "cell_type": "code",
   "execution_count": 128,
   "metadata": {},
   "outputs": [
    {
     "name": "stdout",
     "output_type": "stream",
     "text": [
      "<class 'pandas.core.frame.DataFrame'>\n",
      "RangeIndex: 1571207 entries, 0 to 1571206\n",
      "Data columns (total 19 columns):\n",
      " #   Column                 Non-Null Count    Dtype         \n",
      "---  ------                 --------------    -----         \n",
      " 0   VendorID               1571207 non-null  int64         \n",
      " 1   tpep_pickup_datetime   1571207 non-null  datetime64[ns]\n",
      " 2   tpep_dropoff_datetime  1571207 non-null  datetime64[ns]\n",
      " 3   passenger_count        1556095 non-null  float64       \n",
      " 4   trip_distance          1571207 non-null  float64       \n",
      " 5   RatecodeID             1556095 non-null  float64       \n",
      " 6   store_and_fwd_flag     1556095 non-null  object        \n",
      " 7   PULocationID           1571207 non-null  int64         \n",
      " 8   DOLocationID           1571207 non-null  int64         \n",
      " 9   payment_type           1571207 non-null  int64         \n",
      " 10  fare_amount            1571207 non-null  float64       \n",
      " 11  extra                  1571207 non-null  float64       \n",
      " 12  mta_tax                1571207 non-null  float64       \n",
      " 13  tip_amount             1571207 non-null  float64       \n",
      " 14  tolls_amount           1571207 non-null  float64       \n",
      " 15  improvement_surcharge  1571207 non-null  float64       \n",
      " 16  total_amount           1571207 non-null  float64       \n",
      " 17  congestion_surcharge   1556095 non-null  float64       \n",
      " 18  airport_fee            0 non-null        object        \n",
      "dtypes: datetime64[ns](2), float64(11), int64(4), object(2)\n",
      "memory usage: 227.8+ MB\n"
     ]
    }
   ],
   "source": [
    "## Para obtener una descripción del tipo de datos que contiene cada columna, utilizamos la funcion info()\n",
    "# Podemos además, obtener una idea general de cuantos datos no nulos contiene.\n",
    "df.info()"
   ]
  },
  {
   "cell_type": "code",
   "execution_count": 129,
   "metadata": {},
   "outputs": [
    {
     "data": {
      "text/html": [
       "<div>\n",
       "<style scoped>\n",
       "    .dataframe tbody tr th:only-of-type {\n",
       "        vertical-align: middle;\n",
       "    }\n",
       "\n",
       "    .dataframe tbody tr th {\n",
       "        vertical-align: top;\n",
       "    }\n",
       "\n",
       "    .dataframe thead th {\n",
       "        text-align: right;\n",
       "    }\n",
       "</style>\n",
       "<table border=\"1\" class=\"dataframe\">\n",
       "  <thead>\n",
       "    <tr style=\"text-align: right;\">\n",
       "      <th></th>\n",
       "      <th>VendorID</th>\n",
       "      <th>passenger_count</th>\n",
       "      <th>trip_distance</th>\n",
       "      <th>RatecodeID</th>\n",
       "      <th>PULocationID</th>\n",
       "      <th>DOLocationID</th>\n",
       "      <th>payment_type</th>\n",
       "      <th>fare_amount</th>\n",
       "      <th>extra</th>\n",
       "      <th>mta_tax</th>\n",
       "      <th>tip_amount</th>\n",
       "      <th>tolls_amount</th>\n",
       "      <th>improvement_surcharge</th>\n",
       "      <th>total_amount</th>\n",
       "      <th>congestion_surcharge</th>\n",
       "    </tr>\n",
       "  </thead>\n",
       "  <tbody>\n",
       "    <tr>\n",
       "      <th>count</th>\n",
       "      <td>1571207.000</td>\n",
       "      <td>1556095.000</td>\n",
       "      <td>1571207.000</td>\n",
       "      <td>1556095.000</td>\n",
       "      <td>1571207.000</td>\n",
       "      <td>1571207.000</td>\n",
       "      <td>1571207.000</td>\n",
       "      <td>1571207.000</td>\n",
       "      <td>1571207.000</td>\n",
       "      <td>1571207.000</td>\n",
       "      <td>1571207.000</td>\n",
       "      <td>1571207.000</td>\n",
       "      <td>1571207.000</td>\n",
       "      <td>1571207.000</td>\n",
       "      <td>1556095.000</td>\n",
       "    </tr>\n",
       "    <tr>\n",
       "      <th>mean</th>\n",
       "      <td>1.673</td>\n",
       "      <td>1.503</td>\n",
       "      <td>3.048</td>\n",
       "      <td>1.055</td>\n",
       "      <td>164.472</td>\n",
       "      <td>162.317</td>\n",
       "      <td>1.253</td>\n",
       "      <td>12.601</td>\n",
       "      <td>1.106</td>\n",
       "      <td>0.492</td>\n",
       "      <td>2.190</td>\n",
       "      <td>0.330</td>\n",
       "      <td>0.298</td>\n",
       "      <td>18.542</td>\n",
       "      <td>2.296</td>\n",
       "    </tr>\n",
       "    <tr>\n",
       "      <th>std</th>\n",
       "      <td>0.470</td>\n",
       "      <td>1.144</td>\n",
       "      <td>215.708</td>\n",
       "      <td>0.728</td>\n",
       "      <td>65.736</td>\n",
       "      <td>70.016</td>\n",
       "      <td>0.486</td>\n",
       "      <td>11.798</td>\n",
       "      <td>1.255</td>\n",
       "      <td>0.073</td>\n",
       "      <td>2.733</td>\n",
       "      <td>1.593</td>\n",
       "      <td>0.035</td>\n",
       "      <td>14.377</td>\n",
       "      <td>0.707</td>\n",
       "    </tr>\n",
       "    <tr>\n",
       "      <th>min</th>\n",
       "      <td>1.000</td>\n",
       "      <td>0.000</td>\n",
       "      <td>-29.090</td>\n",
       "      <td>1.000</td>\n",
       "      <td>1.000</td>\n",
       "      <td>1.000</td>\n",
       "      <td>0.000</td>\n",
       "      <td>-1238.000</td>\n",
       "      <td>-4.500</td>\n",
       "      <td>-0.500</td>\n",
       "      <td>-493.220</td>\n",
       "      <td>-25.000</td>\n",
       "      <td>-0.300</td>\n",
       "      <td>-1242.300</td>\n",
       "      <td>-2.500</td>\n",
       "    </tr>\n",
       "    <tr>\n",
       "      <th>25%</th>\n",
       "      <td>1.000</td>\n",
       "      <td>1.000</td>\n",
       "      <td>0.970</td>\n",
       "      <td>1.000</td>\n",
       "      <td>125.000</td>\n",
       "      <td>113.000</td>\n",
       "      <td>1.000</td>\n",
       "      <td>6.500</td>\n",
       "      <td>0.000</td>\n",
       "      <td>0.500</td>\n",
       "      <td>0.000</td>\n",
       "      <td>0.000</td>\n",
       "      <td>0.300</td>\n",
       "      <td>11.160</td>\n",
       "      <td>2.500</td>\n",
       "    </tr>\n",
       "    <tr>\n",
       "      <th>50%</th>\n",
       "      <td>2.000</td>\n",
       "      <td>1.000</td>\n",
       "      <td>1.600</td>\n",
       "      <td>1.000</td>\n",
       "      <td>162.000</td>\n",
       "      <td>162.000</td>\n",
       "      <td>1.000</td>\n",
       "      <td>9.000</td>\n",
       "      <td>0.500</td>\n",
       "      <td>0.500</td>\n",
       "      <td>1.950</td>\n",
       "      <td>0.000</td>\n",
       "      <td>0.300</td>\n",
       "      <td>14.300</td>\n",
       "      <td>2.500</td>\n",
       "    </tr>\n",
       "    <tr>\n",
       "      <th>75%</th>\n",
       "      <td>2.000</td>\n",
       "      <td>2.000</td>\n",
       "      <td>2.920</td>\n",
       "      <td>1.000</td>\n",
       "      <td>234.000</td>\n",
       "      <td>234.000</td>\n",
       "      <td>2.000</td>\n",
       "      <td>14.000</td>\n",
       "      <td>2.500</td>\n",
       "      <td>0.500</td>\n",
       "      <td>2.860</td>\n",
       "      <td>0.000</td>\n",
       "      <td>0.300</td>\n",
       "      <td>19.880</td>\n",
       "      <td>2.500</td>\n",
       "    </tr>\n",
       "    <tr>\n",
       "      <th>max</th>\n",
       "      <td>6.000</td>\n",
       "      <td>9.000</td>\n",
       "      <td>269803.730</td>\n",
       "      <td>99.000</td>\n",
       "      <td>265.000</td>\n",
       "      <td>265.000</td>\n",
       "      <td>4.000</td>\n",
       "      <td>804.000</td>\n",
       "      <td>87.560</td>\n",
       "      <td>3.300</td>\n",
       "      <td>450.000</td>\n",
       "      <td>190.000</td>\n",
       "      <td>0.300</td>\n",
       "      <td>1023.670</td>\n",
       "      <td>2.750</td>\n",
       "    </tr>\n",
       "  </tbody>\n",
       "</table>\n",
       "</div>"
      ],
      "text/plain": [
       "         VendorID  passenger_count  trip_distance  RatecodeID  PULocationID  \\\n",
       "count 1571207.000      1556095.000    1571207.000 1556095.000   1571207.000   \n",
       "mean        1.673            1.503          3.048       1.055       164.472   \n",
       "std         0.470            1.144        215.708       0.728        65.736   \n",
       "min         1.000            0.000        -29.090       1.000         1.000   \n",
       "25%         1.000            1.000          0.970       1.000       125.000   \n",
       "50%         2.000            1.000          1.600       1.000       162.000   \n",
       "75%         2.000            2.000          2.920       1.000       234.000   \n",
       "max         6.000            9.000     269803.730      99.000       265.000   \n",
       "\n",
       "       DOLocationID  payment_type  fare_amount       extra     mta_tax  \\\n",
       "count   1571207.000   1571207.000  1571207.000 1571207.000 1571207.000   \n",
       "mean        162.317         1.253       12.601       1.106       0.492   \n",
       "std          70.016         0.486       11.798       1.255       0.073   \n",
       "min           1.000         0.000    -1238.000      -4.500      -0.500   \n",
       "25%         113.000         1.000        6.500       0.000       0.500   \n",
       "50%         162.000         1.000        9.000       0.500       0.500   \n",
       "75%         234.000         2.000       14.000       2.500       0.500   \n",
       "max         265.000         4.000      804.000      87.560       3.300   \n",
       "\n",
       "       tip_amount  tolls_amount  improvement_surcharge  total_amount  \\\n",
       "count 1571207.000   1571207.000            1571207.000   1571207.000   \n",
       "mean        2.190         0.330                  0.298        18.542   \n",
       "std         2.733         1.593                  0.035        14.377   \n",
       "min      -493.220       -25.000                 -0.300     -1242.300   \n",
       "25%         0.000         0.000                  0.300        11.160   \n",
       "50%         1.950         0.000                  0.300        14.300   \n",
       "75%         2.860         0.000                  0.300        19.880   \n",
       "max       450.000       190.000                  0.300      1023.670   \n",
       "\n",
       "       congestion_surcharge  \n",
       "count           1556095.000  \n",
       "mean                  2.296  \n",
       "std                   0.707  \n",
       "min                  -2.500  \n",
       "25%                   2.500  \n",
       "50%                   2.500  \n",
       "75%                   2.500  \n",
       "max                   2.750  "
      ]
     },
     "execution_count": 129,
     "metadata": {},
     "output_type": "execute_result"
    }
   ],
   "source": [
    "# La función describe() nos da una vista general de valores de cantidades de datos, media, desv. standard, valores min y max de cada columna.\n",
    "df.describe()"
   ]
  },
  {
   "cell_type": "markdown",
   "metadata": {},
   "source": [
    "### Descripción de Columnas del Dataset.\n"
   ]
  },
  {
   "cell_type": "code",
   "execution_count": 130,
   "metadata": {},
   "outputs": [
    {
     "data": {
      "text/plain": [
       "VendorID                          int64\n",
       "tpep_pickup_datetime     datetime64[ns]\n",
       "tpep_dropoff_datetime    datetime64[ns]\n",
       "passenger_count                 float64\n",
       "trip_distance                   float64\n",
       "RatecodeID                      float64\n",
       "store_and_fwd_flag               object\n",
       "PULocationID                      int64\n",
       "DOLocationID                      int64\n",
       "payment_type                      int64\n",
       "fare_amount                     float64\n",
       "extra                           float64\n",
       "mta_tax                         float64\n",
       "tip_amount                      float64\n",
       "tolls_amount                    float64\n",
       "improvement_surcharge           float64\n",
       "total_amount                    float64\n",
       "congestion_surcharge            float64\n",
       "airport_fee                      object\n",
       "dtype: object"
      ]
     },
     "execution_count": 130,
     "metadata": {},
     "output_type": "execute_result"
    }
   ],
   "source": [
    "# Listado de tipos de variables presentes en el dataset\n",
    "df.dtypes"
   ]
  },
  {
   "cell_type": "code",
   "execution_count": 131,
   "metadata": {},
   "outputs": [],
   "source": [
    "# funcion para plotear las distribuciones de los atributos\n",
    "def display_dataset_distributions(dataset):\n",
    "    fig = dataset.hist(xlabelsize=10, ylabelsize=10,figsize=(18,18))\n",
    "    [x.title.set_size(14) for x in fig.ravel()]\n",
    "    plt.tight_layout\n",
    "    plt.show()\n",
    "    \n",
    "\n",
    "# funcion para imprimir nulos\n",
    "def print_null_info(col):\n",
    "    print(f'Cantidad de nulos: {col.isnull().sum()}/{col.size}')\n",
    "\n",
    "# funcion para imprimir datos de v. categoricas\n",
    "def print_categorical(col):\n",
    "    print(f'Ordinalidad: {col.unique()}')\n",
    "    print_null_info(col)\n",
    "    print('Ocurrencias:')\n",
    "    print(col.value_counts().sort_values())"
   ]
  },
  {
   "cell_type": "code",
   "execution_count": 132,
   "metadata": {},
   "outputs": [
    {
     "data": {
      "image/png": "[encoded data removed]",
      "text/plain": [
       "<Figure size 1296x1296 with 20 Axes>"
      ]
     },
     "metadata": {
      "needs_background": "light"
     },
     "output_type": "display_data"
    }
   ],
   "source": [
    "#imprimo distribuciones \n",
    "display_dataset_distributions(df)"
   ]
  },
  {
   "cell_type": "markdown",
   "metadata": {},
   "source": [
    "\n",
    "- **VendorID**: Proveedor de servicios de tecnologias en taxis (T-PEP)\n",
    "    - Tipo de dato: Categórica ordinal  \n",
    "    - Tipo de variable: Entrada  \n"
   ]
  },
  {
   "cell_type": "code",
   "execution_count": 133,
   "metadata": {},
   "outputs": [
    {
     "name": "stdout",
     "output_type": "stream",
     "text": [
      "Ordinalidad: [1 2 5 6]\n",
      "Cantidad de nulos: 0/1571207\n",
      "Ocurrencias:\n",
      "5          2\n",
      "6         72\n",
      "1     513691\n",
      "2    1057442\n",
      "Name: VendorID, dtype: int64\n"
     ]
    }
   ],
   "source": [
    "print_categorical(df.VendorID)"
   ]
  },
  {
   "cell_type": "markdown",
   "metadata": {},
   "source": [
    "\n",
    "- **tpep_pickup_datetime**: Fecha y hora en el cual el reloj fue activado al iniciar un viaje.\n",
    "    - Tipo de dato: Timestamp compuesto  \n",
    "    - Tipo de variable: Entrada  \n",
    "\n",
    "    - Ejemplo del dato en el dataset: 2020-07-01 00:25:32\n"
   ]
  },
  {
   "cell_type": "code",
   "execution_count": 134,
   "metadata": {},
   "outputs": [
    {
     "name": "stdout",
     "output_type": "stream",
     "text": [
      "Cantidad de nulos: 0/1571207\n"
     ]
    }
   ],
   "source": [
    "print_null_info(df.tpep_pickup_datetime)"
   ]
  },
  {
   "cell_type": "markdown",
   "metadata": {},
   "source": [
    "- **tpep_dropoff_datetime**: Fecha y hora en el cual el reloj fue desactivador al finalizar un viaje.\n",
    "    - Tipo de dato: Timestamp compuesto\n",
    "    - Tipo de variable: Entrada  / Salida\n",
    "\n",
    "    - Ejemplo del dato en el dataset: 2020-07-01 00:33:39\n"
   ]
  },
  {
   "cell_type": "code",
   "execution_count": 135,
   "metadata": {},
   "outputs": [
    {
     "name": "stdout",
     "output_type": "stream",
     "text": [
      "Cantidad de nulos: 0/1571207\n"
     ]
    }
   ],
   "source": [
    "print_null_info(df.tpep_dropoff_datetime)"
   ]
  },
  {
   "cell_type": "markdown",
   "metadata": {},
   "source": [
    "- **passenger_count**: El número de pasajeros en el vehiculo. (Es un dato que lo ingresa el conductor.)\n",
    "    - Tipo de dato: Numérico \n",
    "    - Tipo de variable: Entrada\n",
    "    - Ejemplo del dato en el dataset: 1.0"
   ]
  },
  {
   "cell_type": "code",
   "execution_count": 136,
   "metadata": {},
   "outputs": [
    {
     "name": "stdout",
     "output_type": "stream",
     "text": [
      "Cantidad de nulos: 15112/1571207\n"
     ]
    }
   ],
   "source": [
    "print_null_info(df.passenger_count)"
   ]
  },
  {
   "cell_type": "markdown",
   "metadata": {},
   "source": [
    "\n",
    "- **trip_distance**: La distancia del viaje transcurrido en millas reportada por el taxímetro. \n",
    "    - Tipo de dato: Numérico \n",
    "    - Tipo de variable: Entrada  \n",
    "\n",
    "    - Ejemplo del dato en el dataset: 1.50\n"
   ]
  },
  {
   "cell_type": "code",
   "execution_count": 137,
   "metadata": {},
   "outputs": [
    {
     "name": "stdout",
     "output_type": "stream",
     "text": [
      "Cantidad de nulos: 0/1571207\n"
     ]
    }
   ],
   "source": [
    "print_null_info(df.trip_distance)"
   ]
  },
  {
   "cell_type": "markdown",
   "metadata": {},
   "source": [
    "- **PULocationID**: TLC Zona en la que el taxímetro se activó.\n",
    "    - Tipo de dato: Categórica ordinal\n",
    "    - Tipo de variable: Entrada / Salida\n",
    "\n",
    "    - Ejemplo del dato en el dataset: 238\n"
   ]
  },
  {
   "cell_type": "code",
   "execution_count": 138,
   "metadata": {},
   "outputs": [
    {
     "name": "stdout",
     "output_type": "stream",
     "text": [
      "Ordinalidad: [ 90 107  48 132 237 230 141 163 161 162  75 137 229 262 186 164 138 223\n",
      " 238 234 100 140 125 170 239 263 236 142  41 264  87  45 246 211  50  43\n",
      "  68 231 249 166 113  79 158 261 129   4  74 148  28 144 143  52  13  66\n",
      "   7 116  69 232 151 233 114 152  51  33 112 145  88  42 181 195  24 182\n",
      " 193 146  93  65  49 121 258 244 224 260  18 179 242 265  36 206  80 155\n",
      "  40 106 209 226  17 185  85 255  61  97  22 194 210 191  16 130 218  67\n",
      " 200  12 228  25 159 208  64 202 259 243  76 169 180  34 219 256  14  35\n",
      " 215 188 124 247 189 168 123  62 248 139 197  56  47 174 119 225  92 147\n",
      " 196 214  78 222 135  55  82  10 167  89 165 122 213 157 216 254 175  71\n",
      " 126 184  95 235  21 212  37  91  70  32  20 173 227 115 118  53  39 136\n",
      " 127 217  72 177  81 253 134  38  46 198  83 131  77   1 101 203 117  11\n",
      "  26 160 220 207  63 178 108 149 156 133  94  98   9 153 171 192 241  15\n",
      "  54 205  19 183 252   3  29  44 190 102  86 240 257 250  73  23  60 201\n",
      "   8  27 150 128   5  84 154  58 109 251  31  99 120 221 199  30  57   6\n",
      "  59  96 187]\n",
      "Cantidad de nulos: 0/1571207\n",
      "Ocurrencias:\n",
      "187        1\n",
      "27         1\n",
      "99         1\n",
      "84         1\n",
      "221        1\n",
      "       ...  \n",
      "230    55432\n",
      "162    57533\n",
      "236    66117\n",
      "161    68105\n",
      "237    69875\n",
      "Name: PULocationID, Length: 255, dtype: int64\n"
     ]
    }
   ],
   "source": [
    "print_categorical(df.PULocationID)"
   ]
  },
  {
   "cell_type": "markdown",
   "metadata": {},
   "source": [
    "\n",
    "- **DOLocationID**: TLC Zona en la que el taxímetro se desactivó.\n",
    "    - Tipo de dato: Categórica ordinal\n",
    "    - Tipo de variable: Entrada / Salida \n",
    "\n",
    "    - Ejemplo del dato en el dataset: 75\n"
   ]
  },
  {
   "cell_type": "code",
   "execution_count": 139,
   "metadata": {},
   "outputs": [
    {
     "name": "stdout",
     "output_type": "stream",
     "text": [
      "Ordinalidad: [186 234 166 262 170 236 232 107 137 229  33 230 237  28 246  79 162 143\n",
      " 223 140 249  48 161 164  43 263  42 142 233  35 148 158 114  68  13 100\n",
      " 261 145 163 144 213 231  24 255  87  41  23 141  50  89 113 239  65 151\n",
      " 238  80  75 138  52 125 165  14  93 211  56 196  90 175 181 264 260 243\n",
      " 180 132 116 189 124  53 185   7 256 112  74 146  40   4 129  88 179 224\n",
      "  25  66  97 106 193 188 216  49 152   1  45 218 209 118 235 205 123 221\n",
      "  82  70 265 225  76  94 127  57 244  39 130  98  38  37  55 226   3  61\n",
      " 160  22 254 176 197  92 157 120 228 135 173  12  78 217  16  69  10 212\n",
      " 159  17 147 247 167  21 128  51 177  36  77 257  95 227 171  54 198 258\n",
      "  64 219  83  91 136 195 174 168 119 248 215 202 259  62  72  29 169 133\n",
      " 194  71 155   9 253 150  34 250 134  85 108 203  26  19  18 240 220  15\n",
      " 101 210 183  20  63 191 149 182 242 139 117 121 131  47   5 172 241 122\n",
      " 184 252  86 200  81 178  32 126 206  46  67 222   8 190 208  73  60 153\n",
      "  27 251 192 102  84  11 207 115 201  31  96 245  44  58 214 156 154 111\n",
      "   6 204 109  59  30  99 187]\n",
      "Cantidad de nulos: 0/1571207\n",
      "Ocurrencias:\n",
      "99         2\n",
      "204        3\n",
      "30         6\n",
      "187        6\n",
      "176       10\n",
      "       ...  \n",
      "162    46817\n",
      "170    48484\n",
      "161    60304\n",
      "237    63624\n",
      "236    69739\n",
      "Name: DOLocationID, Length: 259, dtype: int64\n"
     ]
    }
   ],
   "source": [
    "print_categorical(df.DOLocationID)"
   ]
  },
  {
   "cell_type": "markdown",
   "metadata": {},
   "source": [
    "\n",
    "- **RatecodeID**:  El código de tarifa final vigente al final del viaje.\n",
    "    - Tipo de dato: Categórica ordinal\n",
    "    - Tipo de variable: Entrada  \n",
    "\n",
    "    - 1= Standard rate\n",
    "    - 2= JFK \n",
    "    - 3= Newark\n",
    "    - 4= Nassau or Westchester\n",
    "    - 5= Negotiated fare\n",
    "    - 6= Group ride\n"
   ]
  },
  {
   "cell_type": "code",
   "execution_count": 140,
   "metadata": {},
   "outputs": [
    {
     "name": "stdout",
     "output_type": "stream",
     "text": [
      "Ordinalidad: [ 1.  2.  5. nan  3.  4. 99.  6.]\n",
      "Cantidad de nulos: 15112/1571207\n",
      "Ocurrencias:\n",
      "6.000          11\n",
      "99.000         66\n",
      "4.000        1209\n",
      "3.000        3129\n",
      "5.000        8579\n",
      "2.000       35495\n",
      "1.000     1507606\n",
      "Name: RatecodeID, dtype: int64\n"
     ]
    }
   ],
   "source": [
    "print_categorical(df.RatecodeID)"
   ]
  },
  {
   "cell_type": "markdown",
   "metadata": {},
   "source": [
    "- **store_and_fwd_flag**:  Este flag indica si el registro de viaje se llevó a cabo en la memoria del dispositivo del vehiculo antes de enviar al proveedor, también conocido como \"almacenar y reenviar\", porque el vehiculo no tenia conexion al servidor.\n",
    "    - Tipo de dato: Categórica  \n",
    "    - Tipo de variable: Entrada  \n",
    "\n",
    "    - Y= Almacenar y reenviar informacion.\n",
    "    - N= No almacenar y enviar informacion.\n"
   ]
  },
  {
   "cell_type": "code",
   "execution_count": 141,
   "metadata": {},
   "outputs": [
    {
     "name": "stdout",
     "output_type": "stream",
     "text": [
      "Ordinalidad: ['N' 'Y' None]\n",
      "Cantidad de nulos: 15112/1571207\n",
      "Ocurrencias:\n",
      "Y      15921\n",
      "N    1540174\n",
      "Name: store_and_fwd_flag, dtype: int64\n"
     ]
    }
   ],
   "source": [
    "print_categorical(df.store_and_fwd_flag)"
   ]
  },
  {
   "cell_type": "markdown",
   "metadata": {},
   "source": [
    "\n",
    "- **payment_type**: Un código numérico que significa cómo el pasajero pagó por el viaje.\n",
    "    - Tipo de dato: Categórica ordinal  \n",
    "    - Tipo de variable: Entrada  \n",
    "\n",
    "    - 1= Credit card\n",
    "    - 2= Cash\n",
    "    - 3= No charge\n",
    "    - 4= Dispute\n",
    "    - 5= Unknown\n",
    "    - 6= Voided trip\n"
   ]
  },
  {
   "cell_type": "code",
   "execution_count": 142,
   "metadata": {},
   "outputs": [
    {
     "name": "stdout",
     "output_type": "stream",
     "text": [
      "Ordinalidad: [1 2 4 0 3]\n",
      "Cantidad de nulos: 0/1571207\n",
      "Ocurrencias:\n",
      "4       4545\n",
      "3       8130\n",
      "0      15112\n",
      "2     382093\n",
      "1    1161327\n",
      "Name: payment_type, dtype: int64\n"
     ]
    }
   ],
   "source": [
    "print_categorical(df.payment_type)"
   ]
  },
  {
   "cell_type": "markdown",
   "metadata": {},
   "source": [
    "- **fare_amount**: La tarifa de tiempo y distancia calculada por el taxímetro.\n",
    "    - Tipo de dato: Numérico  \n",
    "    - Tipo de variable: Salida  \n",
    "\n",
    "    - Ejemplo del dato en el dataset: 8.0\n"
   ]
  },
  {
   "cell_type": "code",
   "execution_count": 143,
   "metadata": {},
   "outputs": [
    {
     "name": "stdout",
     "output_type": "stream",
     "text": [
      "Cantidad de nulos: 0/1571207\n"
     ]
    }
   ],
   "source": [
    "print_null_info(df.fare_amount)"
   ]
  },
  {
   "cell_type": "markdown",
   "metadata": {},
   "source": [
    "- **Extra**: Varios extras y recargos. Actualmente, esto solo incluye los cargos de $0.50 y $1 por la hora pico y por la noche.\n",
    "    - Tipo de dato: Numérico  \n",
    "    - Tipo de variable: Salida  \n",
    "\n",
    "    - Ejemplo del dato en el dataset: 0.5\n"
   ]
  },
  {
   "cell_type": "code",
   "execution_count": 144,
   "metadata": {},
   "outputs": [
    {
     "name": "stdout",
     "output_type": "stream",
     "text": [
      "Cantidad de nulos: 0/1571207\n"
     ]
    }
   ],
   "source": [
    "print_null_info(df.extra)"
   ]
  },
  {
   "cell_type": "markdown",
   "metadata": {},
   "source": [
    "\n",
    "- **mta_tax**: Impuesto MTA de $0.50 que se activa automáticamente según la tasa de uso del medidor.\n",
    "    - Tipo de dato: Numérico\n",
    "    - Tipo de variable: Salida  \n",
    "\n",
    "    - Ejemplo del dato en el dataset: 0.5\n"
   ]
  },
  {
   "cell_type": "code",
   "execution_count": 145,
   "metadata": {},
   "outputs": [
    {
     "name": "stdout",
     "output_type": "stream",
     "text": [
      "Cantidad de nulos: 0/1571207\n"
     ]
    }
   ],
   "source": [
    "print_null_info(df.mta_tax)"
   ]
  },
  {
   "cell_type": "markdown",
   "metadata": {},
   "source": [
    "- **improvement_surcharge**: Recargo de mejora de $ 0.30 en viaje en el descenso de bandera. El recargo por mejora comenzó a cobrarse en 2015.\n",
    "    - Tipo de dato: Numérico  \n",
    "    - Tipo de variable: Salida  \n",
    "\n",
    "    - Ejemplo del dato en el dataset: 0.3\n"
   ]
  },
  {
   "cell_type": "code",
   "execution_count": 146,
   "metadata": {},
   "outputs": [
    {
     "name": "stdout",
     "output_type": "stream",
     "text": [
      "Cantidad de nulos: 0/1571207\n"
     ]
    }
   ],
   "source": [
    "print_null_info(df.improvement_surcharge)"
   ]
  },
  {
   "cell_type": "markdown",
   "metadata": {},
   "source": [
    "- **tip_amount**: Importe de la propina: este campo se completa automáticamente para las propinas de tarjetas de crédito. Las propinas en efectivo no están incluidas.\n",
    "    - Tipo de dato: Numérico\n",
    "    - Tipo de variable: Salida  \n",
    "\n",
    "    - Ejemplo del dato en el dataset: 0.00  \n"
   ]
  },
  {
   "cell_type": "code",
   "execution_count": 147,
   "metadata": {},
   "outputs": [
    {
     "name": "stdout",
     "output_type": "stream",
     "text": [
      "Cantidad de nulos: 0/1571207\n"
     ]
    }
   ],
   "source": [
    "print_null_info(df.tip_amount)"
   ]
  },
  {
   "cell_type": "markdown",
   "metadata": {},
   "source": [
    "- **tolls_amount**: Importe total de todos los peajes pagados en el viaje.\n",
    "    - Tipo de dato: Numérico\n",
    "    - Tipo de variable: Salida  \n",
    "    - Ejemplo del dato en el dataset: 0.00\n"
   ]
  },
  {
   "cell_type": "code",
   "execution_count": 148,
   "metadata": {},
   "outputs": [
    {
     "name": "stdout",
     "output_type": "stream",
     "text": [
      "Cantidad de nulos: 0/1571207\n"
     ]
    }
   ],
   "source": [
    "print_null_info(df.tolls_amount)"
   ]
  },
  {
   "cell_type": "markdown",
   "metadata": {},
   "source": [
    "\n",
    "- **total_amount**: El monto total cobrado a los pasajeros. No incluye propinas en efectivo.\n",
    "    - Tipo de dato: Numérico  \n",
    "    - Tipo de variable: Salida  \n",
    "    - Ejemplo del dato en el dataset: 9.30\n"
   ]
  },
  {
   "cell_type": "code",
   "execution_count": 149,
   "metadata": {},
   "outputs": [
    {
     "name": "stdout",
     "output_type": "stream",
     "text": [
      "Cantidad de nulos: 0/1571207\n"
     ]
    }
   ],
   "source": [
    "print_null_info(df.total_amount)"
   ]
  },
  {
   "cell_type": "markdown",
   "metadata": {},
   "source": [
    "- **congestion_surcharge**: Importe total recaudado en el viaje por el recargo por congestión del Estado de Nueva York.\n",
    "    - Tipo de dato: Numérico\n",
    "    - Tipo de variable: Salida  \n",
    "    - Ejemplo del dato en el dataset: 0.00\n"
   ]
  },
  {
   "cell_type": "code",
   "execution_count": 150,
   "metadata": {},
   "outputs": [
    {
     "name": "stdout",
     "output_type": "stream",
     "text": [
      "Cantidad de nulos: 15112/1571207\n"
     ]
    }
   ],
   "source": [
    "print_null_info(df.congestion_surcharge)"
   ]
  },
  {
   "cell_type": "markdown",
   "metadata": {},
   "source": [
    "- **airport_fee**: $1.25 para recoger solo en los aeropuertos LaGuardia y John F. Kennedy\n",
    "    - Tipo de dato: Numérico  \n",
    "    - Tipo de variable: Salida\n",
    "    - Ejemplo del dato en el dataset: None"
   ]
  },
  {
   "cell_type": "code",
   "execution_count": 151,
   "metadata": {},
   "outputs": [
    {
     "name": "stdout",
     "output_type": "stream",
     "text": [
      "Cantidad de nulos: 1571207/1571207\n"
     ]
    }
   ],
   "source": [
    "print_null_info(df.airport_fee)"
   ]
  },
  {
   "cell_type": "markdown",
   "metadata": {},
   "source": [
    "## 2. Limpieza de los datos\n"
   ]
  },
  {
   "cell_type": "markdown",
   "metadata": {},
   "source": [
    "### 2.1 Datos faltantes"
   ]
  },
  {
   "cell_type": "code",
   "execution_count": 152,
   "metadata": {},
   "outputs": [
    {
     "data": {
      "text/plain": [
       "29850691"
      ]
     },
     "execution_count": 152,
     "metadata": {},
     "output_type": "execute_result"
    }
   ],
   "source": [
    "# verificamos cantidad de items repetidos y los eliminamos\n",
    "df = df.drop_duplicates()\n",
    "df.size"
   ]
  },
  {
   "cell_type": "code",
   "execution_count": 153,
   "metadata": {},
   "outputs": [
    {
     "name": "stdout",
     "output_type": "stream",
     "text": [
      "VendorID: 0/1571089\n",
      "tpep_pickup_datetime: 0/1571089\n",
      "tpep_dropoff_datetime: 0/1571089\n",
      "passenger_count: 14994/1571089\n",
      "trip_distance: 0/1571089\n",
      "RatecodeID: 14994/1571089\n",
      "store_and_fwd_flag: 14994/1571089\n",
      "PULocationID: 0/1571089\n",
      "DOLocationID: 0/1571089\n",
      "payment_type: 0/1571089\n",
      "fare_amount: 0/1571089\n",
      "extra: 0/1571089\n",
      "mta_tax: 0/1571089\n",
      "tip_amount: 0/1571089\n",
      "tolls_amount: 0/1571089\n",
      "improvement_surcharge: 0/1571089\n",
      "total_amount: 0/1571089\n",
      "congestion_surcharge: 14994/1571089\n",
      "airport_fee: 1571089/1571089\n"
     ]
    }
   ],
   "source": [
    "# verificamos cantidad de nulos en cada categoría\n",
    "for i in range(len(df.columns)):\n",
    "  col_name = df.columns[i]\n",
    "  col_data = df[col_name]\n",
    "  print(f'{col_name}: {col_data.isnull().sum()}/{col_data.size}')"
   ]
  },
  {
   "cell_type": "markdown",
   "metadata": {},
   "source": [
    "#### 2.1.1 Análisis de faltantes"
   ]
  },
  {
   "cell_type": "markdown",
   "metadata": {},
   "source": [
    "Las categorías con faltantes son las siguientes:\n",
    "\n",
    "* passenger_count: 15180/1571072\n",
    "* RatecodeID: 15180/1571072\n",
    "* store_and_fwd_flag: 15180/1571072\n",
    "* congestion_surcharge: 15180/1571072\n",
    "* airport_fee: 1571072/1571072\n",
    "\n",
    "Para cada una de estas columnas se decide:\n",
    "* __passenger_count__ es ingresado a mano por lo que los datos faltantes suponemos que corresponden a fallas en la carga por parte del conductor. Se decide eliminar los faltantes dado que representan el 1%\n",
    "* __RatecodeID__ no aporta información por lo que se elimina esta feature\n",
    "* __store_and_fwd_flag__ no aporta información por lo que se elimina esta feature\n",
    "* __congestion_surcharge__ : los faltantes representan el 1% por lo que se quitan\n",
    "* __airport_fee__ se quita ya que todos los valores son nulos\n"
   ]
  },
  {
   "cell_type": "code",
   "execution_count": 154,
   "metadata": {},
   "outputs": [
    {
     "data": {
      "text/plain": [
       "1556095"
      ]
     },
     "execution_count": 154,
     "metadata": {},
     "output_type": "execute_result"
    }
   ],
   "source": [
    "# descarto datos nulos de los features con interés (passenger count y congestion_surcharge)\n",
    "df = df.dropna(subset=['passenger_count', 'congestion_surcharge'])\n",
    "len(df['passenger_count'])"
   ]
  },
  {
   "cell_type": "markdown",
   "metadata": {},
   "source": [
    "#### 2.1.2 Datos no nulos inválidos"
   ]
  },
  {
   "cell_type": "markdown",
   "metadata": {},
   "source": [
    "En algunos features se detectan valores fuera del rango esperado (tal como valores negativos o fuera del rango de las categorías definidas)"
   ]
  },
  {
   "cell_type": "code",
   "execution_count": 155,
   "metadata": {},
   "outputs": [
    {
     "name": "stdout",
     "output_type": "stream",
     "text": [
      "trip_distance: 2/1556095\n",
      "fare_amount: 5051/1556095\n",
      "extra: 2418/1556095\n",
      "mta_tax: 4930/1556095\n",
      "tip_amount: 63/1556095\n",
      "tolls_amount: 103/1556095\n",
      "improvement_surcharge: 5046/1556095\n",
      "total_amount: 5050/1556095\n",
      "congestion_surcharge: 3995/1556095\n"
     ]
    }
   ],
   "source": [
    "# verificamos cantidad de negativos en las categorías numéricas\n",
    "cols_to_check = ['trip_distance', 'fare_amount', 'extra', 'mta_tax', 'tip_amount', 'tolls_amount', 'improvement_surcharge', 'total_amount', 'congestion_surcharge']\n",
    "\n",
    "for i, col in enumerate(cols_to_check):\n",
    "  col_data = df[col]\n",
    "  print(f'{col}: {col_data[col_data < 0].count()}/{col_data.size}')\n",
    "  "
   ]
  },
  {
   "cell_type": "code",
   "execution_count": 156,
   "metadata": {},
   "outputs": [
    {
     "data": {
      "text/plain": [
       "1535931"
      ]
     },
     "execution_count": 156,
     "metadata": {},
     "output_type": "execute_result"
    }
   ],
   "source": [
    "# trip distance: borro <= 0\n",
    "df = df[(df['trip_distance'] > 0)]\n",
    "# fare_amount: borro < 0\n",
    "df = df[(df['fare_amount'] >= 0)]\n",
    "# extra: borro < 0\n",
    "df = df[(df['extra'] >= 0)]\n",
    "# mta_tax: borro < 0\n",
    "df = df[(df['mta_tax'] >= 0)]\n",
    "# tip_amount: borro < 0\n",
    "df = df[(df['tip_amount'] >= 0)]\n",
    "#tolls amount: borro < 0\n",
    "df = df[(df['tolls_amount'] >= 0)]\n",
    "#improvement_surcharge: borro < 0\n",
    "df = df[(df['improvement_surcharge'] >= 0)]\n",
    "#total_amount: borro < 0\n",
    "df = df[(df['total_amount'] >= 0)]\n",
    "#congestion_surcharge: borro < 0\n",
    "df = df[(df['congestion_surcharge'] >= 0)]\n",
    "\n",
    "len(df)\n",
    "\n"
   ]
  },
  {
   "cell_type": "markdown",
   "metadata": {},
   "source": [
    "#### 2.1.3 Filtro entradas por tipo de pago\n",
    "Descarto otros pagos diferenes de CREDIT (payment_type = 1)"
   ]
  },
  {
   "cell_type": "code",
   "execution_count": 158,
   "metadata": {},
   "outputs": [
    {
     "data": {
      "text/plain": [
       "1151676"
      ]
     },
     "execution_count": 158,
     "metadata": {},
     "output_type": "execute_result"
    }
   ],
   "source": [
    "df = df[df[\"payment_type\"] == 1]\n",
    "len(df)\n"
   ]
  },
  {
   "cell_type": "markdown",
   "metadata": {},
   "source": [
    "#### 2.1.3 Eliminación de variables con baja varianza"
   ]
  },
  {
   "cell_type": "code",
   "execution_count": 159,
   "metadata": {},
   "outputs": [],
   "source": [
    "# TODO"
   ]
  },
  {
   "cell_type": "markdown",
   "metadata": {},
   "source": [
    "### 2.2 Ingeniería de datos"
   ]
  },
  {
   "cell_type": "markdown",
   "metadata": {},
   "source": [
    "#### 2.2.1 Features de tiempo y hora del día"
   ]
  },
  {
   "cell_type": "code",
   "execution_count": 160,
   "metadata": {},
   "outputs": [
    {
     "data": {
      "text/plain": [
       "(0, 0, 0)"
      ]
     },
     "execution_count": 160,
     "metadata": {},
     "output_type": "execute_result"
    }
   ],
   "source": [
    "# generamos una nueva columna \"duration\" con el tiempo de viaje\n",
    "ts_init = pd.to_datetime(df['tpep_pickup_datetime']).values.astype(np.int64) / 1000000000\n",
    "ts_end = pd.to_datetime(df['tpep_dropoff_datetime']).values.astype(np.int64) / 1000000000\n",
    "duration = ts_end - ts_init\n",
    "df['duration'] = duration\n",
    "\n",
    "# ademas creamos 3 categorías para el horario en que se inició el viaje: diurno, vespertino y nocturno\n",
    "MORNING_START = 6\n",
    "MORNING_END = 13\n",
    "AFTERNOON_START = 14\n",
    "AFTERNOON_END = 20\n",
    "EVENING_START = 21\n",
    "EVENING_END = 5 \n",
    "\n",
    "day_interval = df['tpep_pickup_datetime'].dt.hour\n",
    "df['morning'] = pd.cut(day_interval, bins=[-float('Inf'), MORNING_START - 1, MORNING_END, float('Inf')], labels=[0, 1, 0], ordered=False)\n",
    "df['afternoon'] = pd.cut(day_interval, bins=[-float('Inf'), AFTERNOON_START - 1, AFTERNOON_END, float('Inf')], labels=[0, 1, 0], ordered=False)\n",
    "df['evening'] = pd.cut(day_interval, bins=[-float('Inf'), 0, EVENING_END, EVENING_START, 23, float('Inf')], labels=[0, 1, 0, 1, 0], ordered=False)\n",
    "\n",
    "# reviso que sean validas \n",
    "df['morning'].values.isnull().sum(), df['afternoon'].values.isnull().sum(), df['evening'].values.isnull().sum()"
   ]
  },
  {
   "cell_type": "code",
   "execution_count": 161,
   "metadata": {},
   "outputs": [
    {
     "name": "stdout",
     "output_type": "stream",
     "text": [
      "Duraciones inválidas: 0\n"
     ]
    }
   ],
   "source": [
    "# termino de borrar todos los negativos\n",
    "df['morning'].values.isnull().sum(), df['afternoon'].values.isnull().sum(), df['evening'].values.isnull().sum()\n",
    "\n",
    "# verifico si tengo entradas con duration < 0\n",
    "duration_invalid = df[df['duration'] < 0]['duration'].count()\n",
    "print(f'Duraciones inválidas: {duration_invalid}')"
   ]
  },
  {
   "cell_type": "markdown",
   "metadata": {},
   "source": [
    "#### 2.2.2 Codificación del origen y destino"
   ]
  },
  {
   "cell_type": "code",
   "execution_count": 162,
   "metadata": {},
   "outputs": [],
   "source": [
    "# definimos el umbral mínimo de cantidad de viajes para podar las categorías PULocationID y DOLocationID.\n",
    "location_id_min_th_count = 0.01\n",
    "total_items = len(df['PULocationID'])\n",
    "\n",
    "# convertimos PULocationID usando frequency encoding y me quedo con los que representan al menos 1%\n",
    "pulocation_id_freq_map = (df['PULocationID'].value_counts(sort=True) / total_items).to_dict()\n",
    "df['PULocationIDFreq'] = df['PULocationID'].apply(lambda x: pulocation_id_freq_map[x])\n",
    "# convertimos DOLocationID\n",
    "dolocation_id_freq_map = (df['DOLocationID'].value_counts(sort=True) / total_items).to_dict()\n",
    "df['DOLocationIDFreq'] = df['DOLocationID'].apply(lambda x: dolocation_id_freq_map[x])\n",
    "\n",
    "#pongo en 0 todas las categorías con menor frecuencia que <location_id_min_th_count>\n",
    "def clear_location_low_values(x, th):\n",
    "  if x <= th:\n",
    "    return 0\n",
    "  return x\n",
    "\n",
    "df['PULocationIDFreq'] = df['PULocationIDFreq'].apply(lambda x: clear_location_low_values(x, location_id_min_th_count))\n",
    "df['DOLocationIDFreq'] = df['DOLocationIDFreq'].apply(lambda x: clear_location_low_values(x, location_id_min_th_count))\n"
   ]
  },
  {
   "cell_type": "markdown",
   "metadata": {},
   "source": [
    "#### 2.2.3 Balance de la variable de salida"
   ]
  },
  {
   "cell_type": "code",
   "execution_count": 163,
   "metadata": {},
   "outputs": [
    {
     "data": {
      "text/plain": [
       "(1, 265)"
      ]
     },
     "execution_count": 163,
     "metadata": {},
     "output_type": "execute_result"
    }
   ],
   "source": [
    "#verifico el rango de los ids\n",
    "df['DOLocationID'].min(), df['DOLocationID'].max()\n"
   ]
  },
  {
   "cell_type": "code",
   "execution_count": 164,
   "metadata": {},
   "outputs": [
    {
     "data": {
      "text/plain": [
       "(array([0, 0, 0, 0, 0, 0, 0, 0, 0, 0]), 11516.76)"
      ]
     },
     "execution_count": 164,
     "metadata": {},
     "output_type": "execute_result"
    }
   ],
   "source": [
    "#asigno a la categoria 0 a todos los que aparecen por debajo del 1%\n",
    "location_id_min_th_count = 0.01 * len(df)\n",
    "df['DOLocationIDTruncated'] = df['DOLocationID'].apply(lambda x: clear_location_low_values(x, location_id_min_th_count))\n",
    "df['DOLocationIDTruncated'].values[:10], location_id_min_th_count\n"
   ]
  },
  {
   "cell_type": "code",
   "execution_count": 165,
   "metadata": {},
   "outputs": [
    {
     "data": {
      "text/html": [
       "<div>\n",
       "<style scoped>\n",
       "    .dataframe tbody tr th:only-of-type {\n",
       "        vertical-align: middle;\n",
       "    }\n",
       "\n",
       "    .dataframe tbody tr th {\n",
       "        vertical-align: top;\n",
       "    }\n",
       "\n",
       "    .dataframe thead th {\n",
       "        text-align: right;\n",
       "    }\n",
       "</style>\n",
       "<table border=\"1\" class=\"dataframe\">\n",
       "  <thead>\n",
       "    <tr style=\"text-align: right;\">\n",
       "      <th></th>\n",
       "      <th>VendorID</th>\n",
       "      <th>passenger_count</th>\n",
       "      <th>trip_distance</th>\n",
       "      <th>RatecodeID</th>\n",
       "      <th>PULocationID</th>\n",
       "      <th>DOLocationID</th>\n",
       "      <th>payment_type</th>\n",
       "      <th>fare_amount</th>\n",
       "      <th>extra</th>\n",
       "      <th>mta_tax</th>\n",
       "      <th>tip_amount</th>\n",
       "      <th>tolls_amount</th>\n",
       "      <th>improvement_surcharge</th>\n",
       "      <th>total_amount</th>\n",
       "      <th>congestion_surcharge</th>\n",
       "      <th>duration</th>\n",
       "      <th>PULocationIDFreq</th>\n",
       "      <th>DOLocationIDFreq</th>\n",
       "      <th>DOLocationIDTruncated</th>\n",
       "    </tr>\n",
       "  </thead>\n",
       "  <tbody>\n",
       "    <tr>\n",
       "      <th>count</th>\n",
       "      <td>1151676.000</td>\n",
       "      <td>1151676.000</td>\n",
       "      <td>1151676.000</td>\n",
       "      <td>1151676.000</td>\n",
       "      <td>1151676.000</td>\n",
       "      <td>1151676.000</td>\n",
       "      <td>1151676.000</td>\n",
       "      <td>1151676.000</td>\n",
       "      <td>1151676.000</td>\n",
       "      <td>1151676.000</td>\n",
       "      <td>1151676.000</td>\n",
       "      <td>1151676.000</td>\n",
       "      <td>1151676.000</td>\n",
       "      <td>1151676.000</td>\n",
       "      <td>1151676.000</td>\n",
       "      <td>1151676.000</td>\n",
       "      <td>1151676.000</td>\n",
       "      <td>1151676.000</td>\n",
       "      <td>1151676.000</td>\n",
       "    </tr>\n",
       "    <tr>\n",
       "      <th>mean</th>\n",
       "      <td>1.671</td>\n",
       "      <td>1.496</td>\n",
       "      <td>2.864</td>\n",
       "      <td>1.040</td>\n",
       "      <td>166.081</td>\n",
       "      <td>163.967</td>\n",
       "      <td>1.000</td>\n",
       "      <td>12.451</td>\n",
       "      <td>1.130</td>\n",
       "      <td>0.498</td>\n",
       "      <td>2.948</td>\n",
       "      <td>0.339</td>\n",
       "      <td>0.300</td>\n",
       "      <td>19.267</td>\n",
       "      <td>2.379</td>\n",
       "      <td>949.827</td>\n",
       "      <td>0.024</td>\n",
       "      <td>0.020</td>\n",
       "      <td>0.000</td>\n",
       "    </tr>\n",
       "    <tr>\n",
       "      <th>std</th>\n",
       "      <td>0.470</td>\n",
       "      <td>1.142</td>\n",
       "      <td>3.699</td>\n",
       "      <td>0.296</td>\n",
       "      <td>65.212</td>\n",
       "      <td>69.356</td>\n",
       "      <td>0.000</td>\n",
       "      <td>10.980</td>\n",
       "      <td>1.253</td>\n",
       "      <td>0.031</td>\n",
       "      <td>2.680</td>\n",
       "      <td>1.603</td>\n",
       "      <td>0.003</td>\n",
       "      <td>14.075</td>\n",
       "      <td>0.537</td>\n",
       "      <td>3581.712</td>\n",
       "      <td>0.013</td>\n",
       "      <td>0.013</td>\n",
       "      <td>0.000</td>\n",
       "    </tr>\n",
       "    <tr>\n",
       "      <th>min</th>\n",
       "      <td>1.000</td>\n",
       "      <td>0.000</td>\n",
       "      <td>0.010</td>\n",
       "      <td>1.000</td>\n",
       "      <td>1.000</td>\n",
       "      <td>1.000</td>\n",
       "      <td>1.000</td>\n",
       "      <td>0.000</td>\n",
       "      <td>0.000</td>\n",
       "      <td>0.000</td>\n",
       "      <td>0.000</td>\n",
       "      <td>0.000</td>\n",
       "      <td>0.000</td>\n",
       "      <td>0.000</td>\n",
       "      <td>0.000</td>\n",
       "      <td>0.000</td>\n",
       "      <td>0.000</td>\n",
       "      <td>0.000</td>\n",
       "      <td>0.000</td>\n",
       "    </tr>\n",
       "    <tr>\n",
       "      <th>25%</th>\n",
       "      <td>1.000</td>\n",
       "      <td>1.000</td>\n",
       "      <td>1.000</td>\n",
       "      <td>1.000</td>\n",
       "      <td>132.000</td>\n",
       "      <td>113.000</td>\n",
       "      <td>1.000</td>\n",
       "      <td>6.500</td>\n",
       "      <td>0.000</td>\n",
       "      <td>0.500</td>\n",
       "      <td>1.730</td>\n",
       "      <td>0.000</td>\n",
       "      <td>0.300</td>\n",
       "      <td>11.800</td>\n",
       "      <td>2.500</td>\n",
       "      <td>400.000</td>\n",
       "      <td>0.018</td>\n",
       "      <td>0.012</td>\n",
       "      <td>0.000</td>\n",
       "    </tr>\n",
       "    <tr>\n",
       "      <th>50%</th>\n",
       "      <td>2.000</td>\n",
       "      <td>1.000</td>\n",
       "      <td>1.650</td>\n",
       "      <td>1.000</td>\n",
       "      <td>162.000</td>\n",
       "      <td>162.000</td>\n",
       "      <td>1.000</td>\n",
       "      <td>9.000</td>\n",
       "      <td>0.500</td>\n",
       "      <td>0.500</td>\n",
       "      <td>2.320</td>\n",
       "      <td>0.000</td>\n",
       "      <td>0.300</td>\n",
       "      <td>14.800</td>\n",
       "      <td>2.500</td>\n",
       "      <td>645.000</td>\n",
       "      <td>0.024</td>\n",
       "      <td>0.021</td>\n",
       "      <td>0.000</td>\n",
       "    </tr>\n",
       "    <tr>\n",
       "      <th>75%</th>\n",
       "      <td>2.000</td>\n",
       "      <td>2.000</td>\n",
       "      <td>2.900</td>\n",
       "      <td>1.000</td>\n",
       "      <td>234.000</td>\n",
       "      <td>234.000</td>\n",
       "      <td>1.000</td>\n",
       "      <td>13.500</td>\n",
       "      <td>2.500</td>\n",
       "      <td>0.500</td>\n",
       "      <td>3.260</td>\n",
       "      <td>0.000</td>\n",
       "      <td>0.300</td>\n",
       "      <td>20.310</td>\n",
       "      <td>2.500</td>\n",
       "      <td>1021.000</td>\n",
       "      <td>0.033</td>\n",
       "      <td>0.028</td>\n",
       "      <td>0.000</td>\n",
       "    </tr>\n",
       "    <tr>\n",
       "      <th>max</th>\n",
       "      <td>2.000</td>\n",
       "      <td>9.000</td>\n",
       "      <td>310.900</td>\n",
       "      <td>99.000</td>\n",
       "      <td>265.000</td>\n",
       "      <td>265.000</td>\n",
       "      <td>1.000</td>\n",
       "      <td>804.000</td>\n",
       "      <td>9.500</td>\n",
       "      <td>3.300</td>\n",
       "      <td>450.000</td>\n",
       "      <td>190.000</td>\n",
       "      <td>0.300</td>\n",
       "      <td>1023.670</td>\n",
       "      <td>2.750</td>\n",
       "      <td>86382.000</td>\n",
       "      <td>0.045</td>\n",
       "      <td>0.047</td>\n",
       "      <td>0.000</td>\n",
       "    </tr>\n",
       "  </tbody>\n",
       "</table>\n",
       "</div>"
      ],
      "text/plain": [
       "         VendorID  passenger_count  trip_distance  RatecodeID  PULocationID  \\\n",
       "count 1151676.000      1151676.000    1151676.000 1151676.000   1151676.000   \n",
       "mean        1.671            1.496          2.864       1.040       166.081   \n",
       "std         0.470            1.142          3.699       0.296        65.212   \n",
       "min         1.000            0.000          0.010       1.000         1.000   \n",
       "25%         1.000            1.000          1.000       1.000       132.000   \n",
       "50%         2.000            1.000          1.650       1.000       162.000   \n",
       "75%         2.000            2.000          2.900       1.000       234.000   \n",
       "max         2.000            9.000        310.900      99.000       265.000   \n",
       "\n",
       "       DOLocationID  payment_type  fare_amount       extra     mta_tax  \\\n",
       "count   1151676.000   1151676.000  1151676.000 1151676.000 1151676.000   \n",
       "mean        163.967         1.000       12.451       1.130       0.498   \n",
       "std          69.356         0.000       10.980       1.253       0.031   \n",
       "min           1.000         1.000        0.000       0.000       0.000   \n",
       "25%         113.000         1.000        6.500       0.000       0.500   \n",
       "50%         162.000         1.000        9.000       0.500       0.500   \n",
       "75%         234.000         1.000       13.500       2.500       0.500   \n",
       "max         265.000         1.000      804.000       9.500       3.300   \n",
       "\n",
       "       tip_amount  tolls_amount  improvement_surcharge  total_amount  \\\n",
       "count 1151676.000   1151676.000            1151676.000   1151676.000   \n",
       "mean        2.948         0.339                  0.300        19.267   \n",
       "std         2.680         1.603                  0.003        14.075   \n",
       "min         0.000         0.000                  0.000         0.000   \n",
       "25%         1.730         0.000                  0.300        11.800   \n",
       "50%         2.320         0.000                  0.300        14.800   \n",
       "75%         3.260         0.000                  0.300        20.310   \n",
       "max       450.000       190.000                  0.300      1023.670   \n",
       "\n",
       "       congestion_surcharge    duration  PULocationIDFreq  DOLocationIDFreq  \\\n",
       "count           1151676.000 1151676.000       1151676.000       1151676.000   \n",
       "mean                  2.379     949.827             0.024             0.020   \n",
       "std                   0.537    3581.712             0.013             0.013   \n",
       "min                   0.000       0.000             0.000             0.000   \n",
       "25%                   2.500     400.000             0.018             0.012   \n",
       "50%                   2.500     645.000             0.024             0.021   \n",
       "75%                   2.500    1021.000             0.033             0.028   \n",
       "max                   2.750   86382.000             0.045             0.047   \n",
       "\n",
       "       DOLocationIDTruncated  \n",
       "count            1151676.000  \n",
       "mean                   0.000  \n",
       "std                    0.000  \n",
       "min                    0.000  \n",
       "25%                    0.000  \n",
       "50%                    0.000  \n",
       "75%                    0.000  \n",
       "max                    0.000  "
      ]
     },
     "execution_count": 165,
     "metadata": {},
     "output_type": "execute_result"
    }
   ],
   "source": [
    "df.describe()"
   ]
  },
  {
   "cell_type": "markdown",
   "metadata": {},
   "source": [
    "### 2.3 Selección final de las features"
   ]
  },
  {
   "cell_type": "markdown",
   "metadata": {},
   "source": [
    "En base al procesamiento anterior, seleccionamos los siguientes features del dataset:"
   ]
  },
  {
   "cell_type": "code",
   "execution_count": 167,
   "metadata": {},
   "outputs": [],
   "source": [
    "\n",
    "feature_cols = [\n",
    "  'passenger_count', 'trip_distance', 'fare_amount', 'extra', \n",
    "  'mta_tax', 'tip_amount', 'tolls_amount', \n",
    "  'improvement_surcharge', 'total_amount', \n",
    "  'congestion_surcharge', 'duration', 'PULocationIDFreq',\n",
    "  'morning', 'afternoon', 'evening']\n",
    "target_col = ['DOLocationID']\n",
    "\n",
    "X = df[feature_cols]\n",
    "y = df[target_col]"
   ]
  },
  {
   "cell_type": "code",
   "execution_count": 168,
   "metadata": {},
   "outputs": [
    {
     "data": {
      "text/plain": [
       "(1151676, 1)"
      ]
     },
     "execution_count": 168,
     "metadata": {},
     "output_type": "execute_result"
    }
   ],
   "source": [
    "y.shape"
   ]
  },
  {
   "cell_type": "markdown",
   "metadata": {},
   "source": [
    "## 3.Entrenamiento de modelos \n",
    "### 3.1 Separación de datos\n"
   ]
  },
  {
   "cell_type": "code",
   "execution_count": 169,
   "metadata": {},
   "outputs": [
    {
     "data": {
      "text/plain": [
       "(863757, 1)"
      ]
     },
     "execution_count": 169,
     "metadata": {},
     "output_type": "execute_result"
    }
   ],
   "source": [
    "# Particionamos en train y test\n",
    "train_ratio = 0.7\n",
    "test_ratio = 0.3\n",
    "\n",
    "X_train, X_test, y_train, y_test = train_test_split(X, y, stratify=y, random_state=1)\n"
   ]
  },
  {
   "cell_type": "code",
   "execution_count": 171,
   "metadata": {},
   "outputs": [
    {
     "name": "stdout",
     "output_type": "stream",
     "text": [
      "train len=863757\n",
      "test len=287919\n"
     ]
    }
   ],
   "source": [
    "#imprimo tamaños de los dataset de train y test\n",
    "print(f'train len={len(X_train)}')\n",
    "print(f'test len={len(X_test)}')"
   ]
  },
  {
   "cell_type": "markdown",
   "metadata": {},
   "source": [
    "### 3.2 Random Forest"
   ]
  },
  {
   "cell_type": "code",
   "execution_count": 172,
   "metadata": {},
   "outputs": [],
   "source": [
    "from sklearn.ensemble import RandomForestClassifier"
   ]
  },
  {
   "cell_type": "code",
   "execution_count": 173,
   "metadata": {},
   "outputs": [],
   "source": [
    "total_trees = 100 # number of trees\n",
    "max_depth = 2\n",
    "\n",
    "rf = RandomForestClassifier(n_estimators = total_trees, max_depth = max_depth, random_state=0)"
   ]
  },
  {
   "cell_type": "code",
   "execution_count": 174,
   "metadata": {},
   "outputs": [
    {
     "data": {
      "text/plain": [
       "RandomForestClassifier(max_depth=2, random_state=0)"
      ]
     },
     "execution_count": 174,
     "metadata": {},
     "output_type": "execute_result"
    }
   ],
   "source": [
    "rf.fit(X_train, y_train.values.reshape(-1))\n"
   ]
  },
  {
   "cell_type": "code",
   "execution_count": 175,
   "metadata": {},
   "outputs": [],
   "source": [
    "\n",
    "# Utilizamos el método de predicción en los datos de prueba\n",
    "y_rf_pred = rf.predict(X_test)"
   ]
  },
  {
   "cell_type": "code",
   "execution_count": 193,
   "metadata": {},
   "outputs": [
    {
     "name": "stderr",
     "output_type": "stream",
     "text": [
      "/home/santiago/miniconda3/envs/automl/lib/python3.8/site-packages/sklearn/metrics/_classification.py:1221: UndefinedMetricWarning: Precision and F-score are ill-defined and being set to 0.0 in labels with no predicted samples. Use `zero_division` parameter to control this behavior.\n",
      "  _warn_prf(average, modifier, msg_start, len(result))\n"
     ]
    },
    {
     "name": "stdout",
     "output_type": "stream",
     "text": [
      "              precision    recall  f1-score   support\n",
      "\n",
      "           1       0.67      0.97      0.79       555\n",
      "           3       0.00      0.00      0.00        13\n",
      "           4       0.00      0.00      0.00      1167\n",
      "           5       0.00      0.00      0.00         3\n",
      "           6       0.00      0.00      0.00         3\n",
      "           7       0.00      0.00      0.00       815\n",
      "           8       0.00      0.00      0.00         7\n",
      "           9       0.00      0.00      0.00        14\n",
      "          10       0.00      0.00      0.00        77\n",
      "          11       0.00      0.00      0.00        14\n",
      "          12       0.00      0.00      0.00       109\n",
      "          13       0.00      0.00      0.00      2632\n",
      "          14       0.00      0.00      0.00       182\n",
      "          15       0.00      0.00      0.00        17\n",
      "          16       0.00      0.00      0.00        25\n",
      "          17       0.00      0.00      0.00       288\n",
      "          18       0.00      0.00      0.00        21\n",
      "          19       0.00      0.00      0.00        11\n",
      "          20       0.00      0.00      0.00        16\n",
      "          21       0.00      0.00      0.00        16\n",
      "          22       0.00      0.00      0.00        36\n",
      "          23       0.00      0.00      0.00         7\n",
      "          24       0.00      0.00      0.00       943\n",
      "          25       0.00      0.00      0.00       523\n",
      "          26       0.00      0.00      0.00        44\n",
      "          27       0.00      0.00      0.00         3\n",
      "          28       0.00      0.00      0.00        44\n",
      "          29       0.00      0.00      0.00        12\n",
      "          30       0.00      0.00      0.00         1\n",
      "          31       0.00      0.00      0.00         7\n",
      "          32       0.00      0.00      0.00        12\n",
      "          33       0.00      0.00      0.00       908\n",
      "          34       0.00      0.00      0.00        35\n",
      "          35       0.00      0.00      0.00        27\n",
      "          36       0.00      0.00      0.00       178\n",
      "          37       0.00      0.00      0.00       270\n",
      "          38       0.00      0.00      0.00        16\n",
      "          39       0.00      0.00      0.00        38\n",
      "          40       0.00      0.00      0.00       328\n",
      "          41       0.00      0.00      0.00      1647\n",
      "          42       0.00      0.00      0.00       964\n",
      "          43       0.00      0.00      0.00      3399\n",
      "          44       0.00      0.00      0.00         3\n",
      "          45       0.00      0.00      0.00       624\n",
      "          46       0.00      0.00      0.00         3\n",
      "          47       0.00      0.00      0.00        16\n",
      "          48       0.00      0.00      0.00      7174\n",
      "          49       0.00      0.00      0.00       434\n",
      "          50       0.00      0.00      0.00      3347\n",
      "          51       0.00      0.00      0.00        16\n",
      "          52       0.00      0.00      0.00       277\n",
      "          53       0.00      0.00      0.00        12\n",
      "          54       0.00      0.00      0.00        85\n",
      "          55       0.00      0.00      0.00        18\n",
      "          56       0.00      0.00      0.00        32\n",
      "          57       0.00      0.00      0.00         4\n",
      "          58       0.00      0.00      0.00         4\n",
      "          59       0.00      0.00      0.00         1\n",
      "          60       0.00      0.00      0.00        10\n",
      "          61       0.00      0.00      0.00       336\n",
      "          62       0.00      0.00      0.00        86\n",
      "          63       0.00      0.00      0.00        15\n",
      "          64       0.00      0.00      0.00        18\n",
      "          65       0.00      0.00      0.00       468\n",
      "          66       0.00      0.00      0.00       418\n",
      "          67       0.00      0.00      0.00        32\n",
      "          68       0.00      0.00      0.00      6728\n",
      "          69       0.00      0.00      0.00        63\n",
      "          70       0.00      0.00      0.00        65\n",
      "          71       0.00      0.00      0.00        27\n",
      "          72       0.00      0.00      0.00        22\n",
      "          73       0.00      0.00      0.00        10\n",
      "          74       0.00      0.00      0.00      1833\n",
      "          75       0.00      0.00      0.00      3315\n",
      "          76       0.00      0.00      0.00        37\n",
      "          77       0.00      0.00      0.00        10\n",
      "          78       0.00      0.00      0.00        11\n",
      "          79       0.00      0.00      0.00      6747\n",
      "          80       0.00      0.00      0.00       397\n",
      "          81       0.00      0.00      0.00         7\n",
      "          82       0.00      0.00      0.00       100\n",
      "          83       0.00      0.00      0.00        46\n",
      "          84       0.00      0.00      0.00         2\n",
      "          85       0.00      0.00      0.00        27\n",
      "          86       0.00      0.00      0.00        16\n",
      "          87       0.00      0.00      0.00      2446\n",
      "          88       0.00      0.00      0.00      1025\n",
      "          89       0.00      0.00      0.00       200\n",
      "          90       0.00      0.00      0.00      4580\n",
      "          91       0.00      0.00      0.00        26\n",
      "          92       0.00      0.00      0.00        52\n",
      "          93       0.00      0.00      0.00        25\n",
      "          94       0.00      0.00      0.00        11\n",
      "          95       0.00      0.00      0.00       279\n",
      "          96       0.00      0.00      0.00         3\n",
      "          97       0.00      0.00      0.00       443\n",
      "          98       0.00      0.00      0.00        16\n",
      "         100       0.00      0.00      0.00      4030\n",
      "         101       0.00      0.00      0.00        14\n",
      "         102       0.00      0.00      0.00        26\n",
      "         106       0.00      0.00      0.00       120\n",
      "         107       0.00      0.00      0.00      6496\n",
      "         108       0.00      0.00      0.00         8\n",
      "         109       0.00      0.00      0.00         2\n",
      "         111       0.00      0.00      0.00         4\n",
      "         112       0.00      0.00      0.00       604\n",
      "         113       0.00      0.00      0.00      4190\n",
      "         114       0.00      0.00      0.00      3041\n",
      "         115       0.00      0.00      0.00         3\n",
      "         116       0.00      0.00      0.00       654\n",
      "         117       0.00      0.00      0.00         7\n",
      "         118       0.00      0.00      0.00         7\n",
      "         119       0.00      0.00      0.00        25\n",
      "         120       0.00      0.00      0.00        12\n",
      "         121       0.00      0.00      0.00        27\n",
      "         122       0.00      0.00      0.00         7\n",
      "         123       0.00      0.00      0.00        32\n",
      "         124       0.00      0.00      0.00        22\n",
      "         125       0.00      0.00      0.00      1500\n",
      "         126       0.00      0.00      0.00        16\n",
      "         127       0.00      0.00      0.00       178\n",
      "         128       0.00      0.00      0.00        17\n",
      "         129       0.00      0.00      0.00       276\n",
      "         130       0.00      0.00      0.00        48\n",
      "         131       0.00      0.00      0.00        23\n",
      "         132       0.24      0.94      0.38      2085\n",
      "         133       0.00      0.00      0.00        67\n",
      "         134       0.00      0.00      0.00        51\n",
      "         135       0.00      0.00      0.00        52\n",
      "         136       0.00      0.00      0.00        23\n",
      "         137       0.00      0.00      0.00      4054\n",
      "         138       0.17      0.96      0.29      2999\n",
      "         139       0.00      0.00      0.00        14\n",
      "         140       0.00      0.00      0.00      5898\n",
      "         141       0.00      0.00      0.00      7929\n",
      "         142       0.00      0.00      0.00      8172\n",
      "         143       0.00      0.00      0.00      4409\n",
      "         144       0.00      0.00      0.00      2508\n",
      "         145       0.00      0.00      0.00       805\n",
      "         146       0.00      0.00      0.00       263\n",
      "         147       0.00      0.00      0.00        13\n",
      "         148       0.00      0.00      0.00      2848\n",
      "         149       0.00      0.00      0.00        25\n",
      "         150       0.00      0.00      0.00        11\n",
      "         151       0.00      0.00      0.00      2556\n",
      "         152       0.00      0.00      0.00       376\n",
      "         153       0.00      0.00      0.00         7\n",
      "         154       0.00      0.00      0.00         1\n",
      "         155       0.00      0.00      0.00        23\n",
      "         156       0.00      0.00      0.00         2\n",
      "         157       0.00      0.00      0.00        50\n",
      "         158       0.00      0.00      0.00      2947\n",
      "         159       0.00      0.00      0.00        45\n",
      "         160       0.00      0.00      0.00        49\n",
      "         161       0.00      0.00      0.00     11108\n",
      "         162       0.00      0.00      0.00      8897\n",
      "         163       0.00      0.00      0.00      6749\n",
      "         164       0.00      0.00      0.00      5745\n",
      "         165       0.00      0.00      0.00        53\n",
      "         166       0.00      0.00      0.00      2236\n",
      "         167       0.00      0.00      0.00        17\n",
      "         168       0.00      0.00      0.00       107\n",
      "         169       0.00      0.00      0.00        27\n",
      "         170       0.00      0.00      0.00      9399\n",
      "         171       0.00      0.00      0.00        21\n",
      "         172       0.00      0.00      0.00         4\n",
      "         173       0.00      0.00      0.00        20\n",
      "         174       0.00      0.00      0.00        18\n",
      "         175       0.00      0.00      0.00        16\n",
      "         176       0.00      0.00      0.00         2\n",
      "         177       0.00      0.00      0.00        34\n",
      "         178       0.00      0.00      0.00        18\n",
      "         179       0.00      0.00      0.00       272\n",
      "         180       0.00      0.00      0.00        12\n",
      "         181       0.00      0.00      0.00       887\n",
      "         182       0.00      0.00      0.00        19\n",
      "         183       0.00      0.00      0.00         8\n",
      "         184       0.00      0.00      0.00         1\n",
      "         185       0.00      0.00      0.00        21\n",
      "         186       0.00      0.00      0.00      6756\n",
      "         187       0.00      0.00      0.00         1\n",
      "         188       0.00      0.00      0.00       174\n",
      "         189       0.00      0.00      0.00       265\n",
      "         190       0.00      0.00      0.00        37\n",
      "         191       0.00      0.00      0.00        22\n",
      "         192       0.00      0.00      0.00        14\n",
      "         193       0.00      0.00      0.00        97\n",
      "         194       0.00      0.00      0.00        20\n",
      "         195       0.00      0.00      0.00        81\n",
      "         196       0.00      0.00      0.00        77\n",
      "         197       0.00      0.00      0.00        41\n",
      "         198       0.00      0.00      0.00       106\n",
      "         200       0.00      0.00      0.00        93\n",
      "         201       0.00      0.00      0.00         9\n",
      "         202       0.00      0.00      0.00       111\n",
      "         203       0.00      0.00      0.00        17\n",
      "         204       0.00      0.00      0.00         1\n",
      "         205       0.00      0.00      0.00        28\n",
      "         206       0.00      0.00      0.00         4\n",
      "         207       0.00      0.00      0.00         2\n",
      "         208       0.00      0.00      0.00        24\n",
      "         209       0.00      0.00      0.00       819\n",
      "         210       0.00      0.00      0.00        23\n",
      "         211       0.00      0.00      0.00      2442\n",
      "         212       0.00      0.00      0.00        15\n",
      "         213       0.00      0.00      0.00        24\n",
      "         214       0.00      0.00      0.00         4\n",
      "         215       0.00      0.00      0.00        19\n",
      "         216       0.00      0.00      0.00        73\n",
      "         217       0.00      0.00      0.00        61\n",
      "         218       0.00      0.00      0.00        22\n",
      "         219       0.00      0.00      0.00        44\n",
      "         220       0.00      0.00      0.00       111\n",
      "         221       0.00      0.00      0.00         4\n",
      "         222       0.00      0.00      0.00         4\n",
      "         223       0.00      0.00      0.00       395\n",
      "         224       0.00      0.00      0.00      1208\n",
      "         225       0.00      0.00      0.00       183\n",
      "         226       0.00      0.00      0.00       425\n",
      "         227       0.00      0.00      0.00        41\n",
      "         228       0.00      0.00      0.00       148\n",
      "         229       0.00      0.00      0.00      5762\n",
      "         230       0.00      0.00      0.00      7628\n",
      "         231       0.00      0.00      0.00      5241\n",
      "         232       0.00      0.00      0.00      1134\n",
      "         233       0.00      0.00      0.00      4341\n",
      "         234       0.00      0.00      0.00      8255\n",
      "         235       0.00      0.00      0.00        27\n",
      "         236       0.05      0.98      0.10     13593\n",
      "         237       0.00      0.00      0.00     11992\n",
      "         238       0.00      0.00      0.00      6966\n",
      "         239       0.00      0.00      0.00      8090\n",
      "         240       0.00      0.00      0.00         6\n",
      "         241       0.00      0.00      0.00        28\n",
      "         242       0.00      0.00      0.00        18\n",
      "         243       0.00      0.00      0.00       505\n",
      "         244       0.00      0.00      0.00       930\n",
      "         245       0.00      0.00      0.00         3\n",
      "         246       0.00      0.00      0.00      6098\n",
      "         247       0.00      0.00      0.00        47\n",
      "         248       0.00      0.00      0.00        16\n",
      "         249       0.00      0.00      0.00      5185\n",
      "         250       0.00      0.00      0.00        11\n",
      "         251       0.00      0.00      0.00         3\n",
      "         252       0.00      0.00      0.00        23\n",
      "         253       0.00      0.00      0.00         2\n",
      "         254       0.00      0.00      0.00        19\n",
      "         255       0.00      0.00      0.00       815\n",
      "         256       0.00      0.00      0.00       660\n",
      "         257       0.00      0.00      0.00       131\n",
      "         258       0.00      0.00      0.00        28\n",
      "         259       0.00      0.00      0.00        16\n",
      "         260       0.00      0.00      0.00       159\n",
      "         261       0.00      0.00      0.00      1241\n",
      "         262       0.00      0.00      0.00      4368\n",
      "         263       0.00      0.00      0.00      6072\n",
      "         264       0.00      0.00      0.00      1140\n",
      "         265       0.00      0.00      0.00       530\n",
      "\n",
      "    accuracy                           0.06    287919\n",
      "   macro avg       0.00      0.01      0.01    287919\n",
      "weighted avg       0.01      0.06      0.01    287919\n",
      "\n"
     ]
    },
    {
     "ename": "ValueError",
     "evalue": "multi_class must be in ('ovo', 'ovr')",
     "output_type": "error",
     "traceback": [
      "\u001b[0;31m---------------------------------------------------------------------------\u001b[0m",
      "\u001b[0;31mValueError\u001b[0m                                Traceback (most recent call last)",
      "Input \u001b[0;32mIn [193]\u001b[0m, in \u001b[0;36m<cell line: 2>\u001b[0;34m()\u001b[0m\n\u001b[1;32m      1\u001b[0m \u001b[38;5;28mprint\u001b[39m(classification_report(y_test,y_rf_pred))\n\u001b[0;32m----> 2\u001b[0m \u001b[38;5;28mprint\u001b[39m(\u001b[38;5;124m'\u001b[39m\u001b[38;5;124mArea bajo la curva ROC:\u001b[39m\u001b[38;5;124m'\u001b[39m,np\u001b[38;5;241m.\u001b[39mround(\u001b[43mroc_auc_score\u001b[49m\u001b[43m(\u001b[49m\u001b[43my_test\u001b[49m\u001b[43m,\u001b[49m\u001b[43my_rf_pred\u001b[49m\u001b[43m[\u001b[49m\u001b[43m:\u001b[49m\u001b[43m]\u001b[49m\u001b[43m)\u001b[49m,\u001b[38;5;241m4\u001b[39m))\n",
      "File \u001b[0;32m~/miniconda3/envs/automl/lib/python3.8/site-packages/sklearn/utils/validation.py:72\u001b[0m, in \u001b[0;36m_deprecate_positional_args.<locals>.inner_f\u001b[0;34m(*args, **kwargs)\u001b[0m\n\u001b[1;32m     67\u001b[0m     warnings\u001b[38;5;241m.\u001b[39mwarn(\u001b[38;5;124m\"\u001b[39m\u001b[38;5;124mPass \u001b[39m\u001b[38;5;132;01m{}\u001b[39;00m\u001b[38;5;124m as keyword args. From version 0.25 \u001b[39m\u001b[38;5;124m\"\u001b[39m\n\u001b[1;32m     68\u001b[0m                   \u001b[38;5;124m\"\u001b[39m\u001b[38;5;124mpassing these as positional arguments will \u001b[39m\u001b[38;5;124m\"\u001b[39m\n\u001b[1;32m     69\u001b[0m                   \u001b[38;5;124m\"\u001b[39m\u001b[38;5;124mresult in an error\u001b[39m\u001b[38;5;124m\"\u001b[39m\u001b[38;5;241m.\u001b[39mformat(\u001b[38;5;124m\"\u001b[39m\u001b[38;5;124m, \u001b[39m\u001b[38;5;124m\"\u001b[39m\u001b[38;5;241m.\u001b[39mjoin(args_msg)),\n\u001b[1;32m     70\u001b[0m                   \u001b[38;5;167;01mFutureWarning\u001b[39;00m)\n\u001b[1;32m     71\u001b[0m kwargs\u001b[38;5;241m.\u001b[39mupdate({k: arg \u001b[38;5;28;01mfor\u001b[39;00m k, arg \u001b[38;5;129;01min\u001b[39;00m \u001b[38;5;28mzip\u001b[39m(sig\u001b[38;5;241m.\u001b[39mparameters, args)})\n\u001b[0;32m---> 72\u001b[0m \u001b[38;5;28;01mreturn\u001b[39;00m \u001b[43mf\u001b[49m\u001b[43m(\u001b[49m\u001b[38;5;241;43m*\u001b[39;49m\u001b[38;5;241;43m*\u001b[39;49m\u001b[43mkwargs\u001b[49m\u001b[43m)\u001b[49m\n",
      "File \u001b[0;32m~/miniconda3/envs/automl/lib/python3.8/site-packages/sklearn/metrics/_ranking.py:384\u001b[0m, in \u001b[0;36mroc_auc_score\u001b[0;34m(y_true, y_score, average, sample_weight, max_fpr, multi_class, labels)\u001b[0m\n\u001b[1;32m    379\u001b[0m         \u001b[38;5;28;01mraise\u001b[39;00m \u001b[38;5;167;01mValueError\u001b[39;00m(\u001b[38;5;124m\"\u001b[39m\u001b[38;5;124mPartial AUC computation not available in \u001b[39m\u001b[38;5;124m\"\u001b[39m\n\u001b[1;32m    380\u001b[0m                          \u001b[38;5;124m\"\u001b[39m\u001b[38;5;124mmulticlass setting, \u001b[39m\u001b[38;5;124m'\u001b[39m\u001b[38;5;124mmax_fpr\u001b[39m\u001b[38;5;124m'\u001b[39m\u001b[38;5;124m must be\u001b[39m\u001b[38;5;124m\"\u001b[39m\n\u001b[1;32m    381\u001b[0m                          \u001b[38;5;124m\"\u001b[39m\u001b[38;5;124m set to `None`, received `max_fpr=\u001b[39m\u001b[38;5;132;01m{0}\u001b[39;00m\u001b[38;5;124m` \u001b[39m\u001b[38;5;124m\"\u001b[39m\n\u001b[1;32m    382\u001b[0m                          \u001b[38;5;124m\"\u001b[39m\u001b[38;5;124minstead\u001b[39m\u001b[38;5;124m\"\u001b[39m\u001b[38;5;241m.\u001b[39mformat(max_fpr))\n\u001b[1;32m    383\u001b[0m     \u001b[38;5;28;01mif\u001b[39;00m multi_class \u001b[38;5;241m==\u001b[39m \u001b[38;5;124m'\u001b[39m\u001b[38;5;124mraise\u001b[39m\u001b[38;5;124m'\u001b[39m:\n\u001b[0;32m--> 384\u001b[0m         \u001b[38;5;28;01mraise\u001b[39;00m \u001b[38;5;167;01mValueError\u001b[39;00m(\u001b[38;5;124m\"\u001b[39m\u001b[38;5;124mmulti_class must be in (\u001b[39m\u001b[38;5;124m'\u001b[39m\u001b[38;5;124movo\u001b[39m\u001b[38;5;124m'\u001b[39m\u001b[38;5;124m, \u001b[39m\u001b[38;5;124m'\u001b[39m\u001b[38;5;124movr\u001b[39m\u001b[38;5;124m'\u001b[39m\u001b[38;5;124m)\u001b[39m\u001b[38;5;124m\"\u001b[39m)\n\u001b[1;32m    385\u001b[0m     \u001b[38;5;28;01mreturn\u001b[39;00m _multiclass_roc_auc_score(y_true, y_score, labels,\n\u001b[1;32m    386\u001b[0m                                      multi_class, average, sample_weight)\n\u001b[1;32m    387\u001b[0m \u001b[38;5;28;01melif\u001b[39;00m y_type \u001b[38;5;241m==\u001b[39m \u001b[38;5;124m\"\u001b[39m\u001b[38;5;124mbinary\u001b[39m\u001b[38;5;124m\"\u001b[39m:\n",
      "\u001b[0;31mValueError\u001b[0m: multi_class must be in ('ovo', 'ovr')"
     ]
    }
   ],
   "source": [
    "print(classification_report(y_test,y_rf_pred))\n",
    "print('Area bajo la curva ROC:',np.round(roc_auc_score(y_test,y_rf_pred),4))\n",
    "# rf_precision, rf_recall, rf_threshold=precision_recall_curve(y_test, y_rf_pred)\n",
    "# print('Area bajo la curva Precision-Recall:',np.round(auc(rf_recall,rf_precision),4))\n",
    "# plot_confusion_matrix(rf, X_test, y_test,cmap='Blues')"
   ]
  },
  {
   "cell_type": "markdown",
   "metadata": {},
   "source": [
    "### 3.3 Regresión logística"
   ]
  },
  {
   "cell_type": "code",
   "execution_count": null,
   "metadata": {},
   "outputs": [],
   "source": [
    "def logistic_regression_report(X_train,X_test,y_train,y_test):\n",
    "    \n",
    "    scaler=StandardScaler()  \n",
    "    \n",
    "    X_train_sc=scaler.fit_transform(X_train) # Estandarizamos los datos     \n",
    "    X_test_sc=scaler.transform(X_test)\n",
    "        \n",
    "    model=LogisticRegressionCV(scoring='f1')\n",
    "    \n",
    "    model.fit(X_train_sc,y_train)\n",
    "    y_pred=model.predict(X_test_sc)\n",
    "    y_proba=model.predict_proba(X_test_sc)\n",
    "    \n",
    "    print(classification_report(y_test,y_pred))    \n",
    "    print('Area bajo la curva ROC:',np.round(roc_auc_score(y_test,y_proba[:,1]),4))    \n",
    "    precision, recall,threshold=precision_recall_curve(y_test,y_proba[:,1])\n",
    "    print('Area bajo la curva Precision-Recall:',np.round(auc(recall,precision),4))\n",
    "    print(f'Precision:{precision}, Recall: {recall}:')\n",
    "    plot_confusion_matrix(model,X_test_sc,y_test,cmap='Blues')"
   ]
  },
  {
   "cell_type": "code",
   "execution_count": null,
   "metadata": {},
   "outputs": [
    {
     "name": "stderr",
     "output_type": "stream",
     "text": [
      "/home/santiago/miniconda3/envs/automl/lib/python3.8/site-packages/sklearn/utils/validation.py:72: DataConversionWarning: A column-vector y was passed when a 1d array was expected. Please change the shape of y to (n_samples, ), for example using ravel().\n",
      "  return f(**kwargs)\n",
      "/home/santiago/miniconda3/envs/automl/lib/python3.8/site-packages/sklearn/linear_model/_logistic.py:762: ConvergenceWarning: lbfgs failed to converge (status=1):\n",
      "STOP: TOTAL NO. of ITERATIONS REACHED LIMIT.\n",
      "\n",
      "Increase the number of iterations (max_iter) or scale the data as shown in:\n",
      "    https://scikit-learn.org/stable/modules/preprocessing.html\n",
      "Please also refer to the documentation for alternative solver options:\n",
      "    https://scikit-learn.org/stable/modules/linear_model.html#logistic-regression\n",
      "  n_iter_i = _check_optimize_result(\n"
     ]
    },
    {
     "ename": "ValueError",
     "evalue": "multiclass format is not supported",
     "output_type": "error",
     "traceback": [
      "\u001b[0;31m---------------------------------------------------------------------------\u001b[0m",
      "\u001b[0;31mValueError\u001b[0m                                Traceback (most recent call last)",
      "Input \u001b[0;32mIn [42]\u001b[0m, in \u001b[0;36m<cell line: 9>\u001b[0;34m()\u001b[0m\n\u001b[1;32m      7\u001b[0m lr\u001b[38;5;241m.\u001b[39mfit(X_train_sc,y_train)\n\u001b[1;32m      8\u001b[0m y_lr_pred \u001b[38;5;241m=\u001b[39m lr\u001b[38;5;241m.\u001b[39mpredict(X_test_sc)\n\u001b[0;32m----> 9\u001b[0m lr_precision, lr_recall, lr_threshold\u001b[38;5;241m=\u001b[39m\u001b[43mprecision_recall_curve\u001b[49m\u001b[43m(\u001b[49m\u001b[43my_test\u001b[49m\u001b[43m,\u001b[49m\u001b[43my_lr_pred\u001b[49m\u001b[43m)\u001b[49m\n\u001b[1;32m     11\u001b[0m lr_precision, lr_recall, lr_threshold\n",
      "File \u001b[0;32m~/miniconda3/envs/automl/lib/python3.8/site-packages/sklearn/utils/validation.py:72\u001b[0m, in \u001b[0;36m_deprecate_positional_args.<locals>.inner_f\u001b[0;34m(*args, **kwargs)\u001b[0m\n\u001b[1;32m     67\u001b[0m     warnings\u001b[38;5;241m.\u001b[39mwarn(\u001b[38;5;124m\"\u001b[39m\u001b[38;5;124mPass \u001b[39m\u001b[38;5;132;01m{}\u001b[39;00m\u001b[38;5;124m as keyword args. From version 0.25 \u001b[39m\u001b[38;5;124m\"\u001b[39m\n\u001b[1;32m     68\u001b[0m                   \u001b[38;5;124m\"\u001b[39m\u001b[38;5;124mpassing these as positional arguments will \u001b[39m\u001b[38;5;124m\"\u001b[39m\n\u001b[1;32m     69\u001b[0m                   \u001b[38;5;124m\"\u001b[39m\u001b[38;5;124mresult in an error\u001b[39m\u001b[38;5;124m\"\u001b[39m\u001b[38;5;241m.\u001b[39mformat(\u001b[38;5;124m\"\u001b[39m\u001b[38;5;124m, \u001b[39m\u001b[38;5;124m\"\u001b[39m\u001b[38;5;241m.\u001b[39mjoin(args_msg)),\n\u001b[1;32m     70\u001b[0m                   \u001b[38;5;167;01mFutureWarning\u001b[39;00m)\n\u001b[1;32m     71\u001b[0m kwargs\u001b[38;5;241m.\u001b[39mupdate({k: arg \u001b[38;5;28;01mfor\u001b[39;00m k, arg \u001b[38;5;129;01min\u001b[39;00m \u001b[38;5;28mzip\u001b[39m(sig\u001b[38;5;241m.\u001b[39mparameters, args)})\n\u001b[0;32m---> 72\u001b[0m \u001b[38;5;28;01mreturn\u001b[39;00m \u001b[43mf\u001b[49m\u001b[43m(\u001b[49m\u001b[38;5;241;43m*\u001b[39;49m\u001b[38;5;241;43m*\u001b[39;49m\u001b[43mkwargs\u001b[49m\u001b[43m)\u001b[49m\n",
      "File \u001b[0;32m~/miniconda3/envs/automl/lib/python3.8/site-packages/sklearn/metrics/_ranking.py:675\u001b[0m, in \u001b[0;36mprecision_recall_curve\u001b[0;34m(y_true, probas_pred, pos_label, sample_weight)\u001b[0m\n\u001b[1;32m    600\u001b[0m \u001b[38;5;129m@_deprecate_positional_args\u001b[39m\n\u001b[1;32m    601\u001b[0m \u001b[38;5;28;01mdef\u001b[39;00m \u001b[38;5;21mprecision_recall_curve\u001b[39m(y_true, probas_pred, \u001b[38;5;241m*\u001b[39m, pos_label\u001b[38;5;241m=\u001b[39m\u001b[38;5;28;01mNone\u001b[39;00m,\n\u001b[1;32m    602\u001b[0m                            sample_weight\u001b[38;5;241m=\u001b[39m\u001b[38;5;28;01mNone\u001b[39;00m):\n\u001b[1;32m    603\u001b[0m     \u001b[38;5;124;03m\"\"\"Compute precision-recall pairs for different probability thresholds\u001b[39;00m\n\u001b[1;32m    604\u001b[0m \n\u001b[1;32m    605\u001b[0m \u001b[38;5;124;03m    Note: this implementation is restricted to the binary classification task.\u001b[39;00m\n\u001b[0;32m   (...)\u001b[0m\n\u001b[1;32m    673\u001b[0m \n\u001b[1;32m    674\u001b[0m \u001b[38;5;124;03m    \"\"\"\u001b[39;00m\n\u001b[0;32m--> 675\u001b[0m     fps, tps, thresholds \u001b[38;5;241m=\u001b[39m \u001b[43m_binary_clf_curve\u001b[49m\u001b[43m(\u001b[49m\u001b[43my_true\u001b[49m\u001b[43m,\u001b[49m\u001b[43m \u001b[49m\u001b[43mprobas_pred\u001b[49m\u001b[43m,\u001b[49m\n\u001b[1;32m    676\u001b[0m \u001b[43m                                             \u001b[49m\u001b[43mpos_label\u001b[49m\u001b[38;5;241;43m=\u001b[39;49m\u001b[43mpos_label\u001b[49m\u001b[43m,\u001b[49m\n\u001b[1;32m    677\u001b[0m \u001b[43m                                             \u001b[49m\u001b[43msample_weight\u001b[49m\u001b[38;5;241;43m=\u001b[39;49m\u001b[43msample_weight\u001b[49m\u001b[43m)\u001b[49m\n\u001b[1;32m    679\u001b[0m     precision \u001b[38;5;241m=\u001b[39m tps \u001b[38;5;241m/\u001b[39m (tps \u001b[38;5;241m+\u001b[39m fps)\n\u001b[1;32m    680\u001b[0m     precision[np\u001b[38;5;241m.\u001b[39misnan(precision)] \u001b[38;5;241m=\u001b[39m \u001b[38;5;241m0\u001b[39m\n",
      "File \u001b[0;32m~/miniconda3/envs/automl/lib/python3.8/site-packages/sklearn/metrics/_ranking.py:539\u001b[0m, in \u001b[0;36m_binary_clf_curve\u001b[0;34m(y_true, y_score, pos_label, sample_weight)\u001b[0m\n\u001b[1;32m    536\u001b[0m y_type \u001b[38;5;241m=\u001b[39m type_of_target(y_true)\n\u001b[1;32m    537\u001b[0m \u001b[38;5;28;01mif\u001b[39;00m \u001b[38;5;129;01mnot\u001b[39;00m (y_type \u001b[38;5;241m==\u001b[39m \u001b[38;5;124m\"\u001b[39m\u001b[38;5;124mbinary\u001b[39m\u001b[38;5;124m\"\u001b[39m \u001b[38;5;129;01mor\u001b[39;00m\n\u001b[1;32m    538\u001b[0m         (y_type \u001b[38;5;241m==\u001b[39m \u001b[38;5;124m\"\u001b[39m\u001b[38;5;124mmulticlass\u001b[39m\u001b[38;5;124m\"\u001b[39m \u001b[38;5;129;01mand\u001b[39;00m pos_label \u001b[38;5;129;01mis\u001b[39;00m \u001b[38;5;129;01mnot\u001b[39;00m \u001b[38;5;28;01mNone\u001b[39;00m)):\n\u001b[0;32m--> 539\u001b[0m     \u001b[38;5;28;01mraise\u001b[39;00m \u001b[38;5;167;01mValueError\u001b[39;00m(\u001b[38;5;124m\"\u001b[39m\u001b[38;5;132;01m{0}\u001b[39;00m\u001b[38;5;124m format is not supported\u001b[39m\u001b[38;5;124m\"\u001b[39m\u001b[38;5;241m.\u001b[39mformat(y_type))\n\u001b[1;32m    541\u001b[0m check_consistent_length(y_true, y_score, sample_weight)\n\u001b[1;32m    542\u001b[0m y_true \u001b[38;5;241m=\u001b[39m column_or_1d(y_true)\n",
      "\u001b[0;31mValueError\u001b[0m: multiclass format is not supported"
     ]
    }
   ],
   "source": [
    "#logistic_regression_report(X_train, X_test, y_train, y_test)\n",
    "scaler = StandardScaler()  \n",
    "X_train_sc = scaler.fit_transform(X_train) # Estandarizamos los datos     \n",
    "X_test_sc = scaler.transform(X_test)\n",
    "\n",
    "lr = LogisticRegression(random_state = 1)\n",
    "lr.fit(X_train_sc,y_train)\n",
    "y_lr_pred = lr.predict(X_test_sc)\n",
    "lr_precision, lr_recall, lr_threshold=precision_recall_curve(y_test,y_lr_pred)\n",
    "\n",
    "lr_precision, lr_recall, lr_threshold"
   ]
  },
  {
   "cell_type": "code",
   "execution_count": null,
   "metadata": {},
   "outputs": [],
   "source": [
    "lr_precision"
   ]
  },
  {
   "cell_type": "markdown",
   "metadata": {},
   "source": [
    "# TODO - Falta terminar\n",
    "\n",
    "1. Aplicar filtrado Kendall para analizar las variables de entrada con respecto a la de salida\n",
    "2. Analizar variables con poca varianza\n",
    "3. Quedarse con las 10 Locations mas importantes de Pick Up y Drop Off y todas las otras meterlas en un id 0 (others)\n",
    "4. Correr Random Forest y Linear regression. Obtener los feature importance.\n",
    "5. Ejecutar pyCaret para ver en que concluye el automl"
   ]
  }
 ],
 "metadata": {
  "kernelspec": {
   "display_name": "Python 3.9.13 ('tp-ia')",
   "language": "python",
   "name": "python3"
  },
  "language_info": {
   "codemirror_mode": {
    "name": "ipython",
    "version": 3
   },
   "file_extension": ".py",
   "mimetype": "text/x-python",
   "name": "python",
   "nbconvert_exporter": "python",
   "pygments_lexer": "ipython3",
   "version": "3.8.13"
  },
  "vscode": {
   "interpreter": {
    "hash": "ff0b56c2c11e01fc93064e55eb1d315134029652b3f23c7e2f48e46ed7de5886"
   }
  }
 },
 "nbformat": 4,
 "nbformat_minor": 4
}
