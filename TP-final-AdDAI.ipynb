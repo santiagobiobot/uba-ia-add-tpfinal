{
 "cells": [
  {
   "cell_type": "markdown",
   "metadata": {
    "slideshow": {
     "slide_type": "slide"
    }
   },
   "source": [
    "# Trabajo Final. Análisis de Datos"
   ]
  },
  {
   "cell_type": "markdown",
   "metadata": {},
   "source": [
    "## Alumnos:\n",
    "\n",
    "### Domenje, Carlos R.\n",
    "\n",
    "### Fux, Santiago.\n",
    "\n",
    "---"
   ]
  },
  {
   "cell_type": "markdown",
   "metadata": {
    "slideshow": {
     "slide_type": "slide"
    }
   },
   "source": [
    "## DATASET: Uso de Taxis Yellow Cab en USA en el año 2020\n",
    "\n",
    "**Problema.** Responderemos a la siguiente pregunta\n",
    "\n",
    "1. ¿Existe una manera de caracterizar los lugares más recurrentes para inicio / fin de viaje?\n"
   ]
  },
  {
   "cell_type": "markdown",
   "metadata": {},
   "source": [
    "## 1. Obtención de datos\n",
    "\n",
    "Para importar los datos, buscamos en la página web brindada por la cátedra:\n",
    "\n",
    "- [Yellow Cab - Dataset](https://www1.nyc.gov/site/tlc/about/tlc-trip-record-data.page)\n",
    "\n",
    "**Nota**: El dataset utilizado será el del año 2020, los tres primeros meses (Enero, Febrero, Marzo) y será descargado en una carpeta llamada \"data\" dentro de la carpeta contenedora del proyecto."
   ]
  },
  {
   "cell_type": "code",
   "execution_count": 197,
   "metadata": {
    "scrolled": true
   },
   "outputs": [],
   "source": [
    "# Path del dataset a utilizar.\n",
    "DATASET_PATH = r'./data'"
   ]
  },
  {
   "cell_type": "code",
   "execution_count": 198,
   "metadata": {},
   "outputs": [
    {
     "name": "stdout",
     "output_type": "stream",
     "text": [
      "yellow_tripdata_2020-01.parquet  yellow_tripdata_2020-03.parquet\n",
      "yellow_tripdata_2020-02.parquet\n"
     ]
    }
   ],
   "source": [
    "# listamos los archivos que se encuentran en el path\n",
    "!ls {DATASET_PATH}"
   ]
  },
  {
   "cell_type": "code",
   "execution_count": 199,
   "metadata": {},
   "outputs": [],
   "source": [
    "# Importamos las librerias necesarias para interactuar con el dataset.\n",
    "\n",
    "import pandas as pd\n",
    "import glob\n",
    "import matplotlib\n",
    "import matplotlib.pyplot as plt\n",
    "import seaborn as sns\n",
    "import numpy as np\n",
    "\n",
    "import sklearn as sk\n",
    "from sklearn.model_selection import train_test_split\n",
    "from sklearn.linear_model import LogisticRegression, LogisticRegressionCV\n",
    "from sklearn.metrics import accuracy_score,plot_confusion_matrix,roc_auc_score, classification_report, confusion_matrix, precision_recall_curve, auc\n",
    "from sklearn.preprocessing import StandardScaler\n",
    "\n",
    "# Set decimals format with 3 decimals\n",
    "pd.set_option('display.float_format', lambda x: '%.3f' % x)"
   ]
  },
  {
   "cell_type": "code",
   "execution_count": 200,
   "metadata": {},
   "outputs": [
    {
     "data": {
      "text/html": [
       "<div>\n",
       "<style scoped>\n",
       "    .dataframe tbody tr th:only-of-type {\n",
       "        vertical-align: middle;\n",
       "    }\n",
       "\n",
       "    .dataframe tbody tr th {\n",
       "        vertical-align: top;\n",
       "    }\n",
       "\n",
       "    .dataframe thead th {\n",
       "        text-align: right;\n",
       "    }\n",
       "</style>\n",
       "<table border=\"1\" class=\"dataframe\">\n",
       "  <thead>\n",
       "    <tr style=\"text-align: right;\">\n",
       "      <th></th>\n",
       "      <th>VendorID</th>\n",
       "      <th>passenger_count</th>\n",
       "      <th>trip_distance</th>\n",
       "      <th>RatecodeID</th>\n",
       "      <th>PULocationID</th>\n",
       "      <th>DOLocationID</th>\n",
       "      <th>payment_type</th>\n",
       "      <th>fare_amount</th>\n",
       "      <th>extra</th>\n",
       "      <th>mta_tax</th>\n",
       "      <th>tip_amount</th>\n",
       "      <th>tolls_amount</th>\n",
       "      <th>improvement_surcharge</th>\n",
       "      <th>total_amount</th>\n",
       "      <th>congestion_surcharge</th>\n",
       "    </tr>\n",
       "  </thead>\n",
       "  <tbody>\n",
       "    <tr>\n",
       "      <th>count</th>\n",
       "      <td>1571207.000</td>\n",
       "      <td>1555999.000</td>\n",
       "      <td>1571207.000</td>\n",
       "      <td>1555999.000</td>\n",
       "      <td>1571207.000</td>\n",
       "      <td>1571207.000</td>\n",
       "      <td>1571207.000</td>\n",
       "      <td>1571207.000</td>\n",
       "      <td>1571207.000</td>\n",
       "      <td>1571207.000</td>\n",
       "      <td>1571207.000</td>\n",
       "      <td>1571207.000</td>\n",
       "      <td>1571207.000</td>\n",
       "      <td>1571207.000</td>\n",
       "      <td>1555999.000</td>\n",
       "    </tr>\n",
       "    <tr>\n",
       "      <th>mean</th>\n",
       "      <td>1.673</td>\n",
       "      <td>1.501</td>\n",
       "      <td>2.938</td>\n",
       "      <td>1.057</td>\n",
       "      <td>164.473</td>\n",
       "      <td>162.378</td>\n",
       "      <td>1.253</td>\n",
       "      <td>12.613</td>\n",
       "      <td>1.106</td>\n",
       "      <td>0.492</td>\n",
       "      <td>2.193</td>\n",
       "      <td>0.331</td>\n",
       "      <td>0.298</td>\n",
       "      <td>18.558</td>\n",
       "      <td>2.296</td>\n",
       "    </tr>\n",
       "    <tr>\n",
       "      <th>std</th>\n",
       "      <td>0.470</td>\n",
       "      <td>1.142</td>\n",
       "      <td>66.929</td>\n",
       "      <td>0.775</td>\n",
       "      <td>65.793</td>\n",
       "      <td>69.968</td>\n",
       "      <td>0.486</td>\n",
       "      <td>11.773</td>\n",
       "      <td>1.256</td>\n",
       "      <td>0.073</td>\n",
       "      <td>2.720</td>\n",
       "      <td>1.817</td>\n",
       "      <td>0.035</td>\n",
       "      <td>14.394</td>\n",
       "      <td>0.707</td>\n",
       "    </tr>\n",
       "    <tr>\n",
       "      <th>min</th>\n",
       "      <td>1.000</td>\n",
       "      <td>0.000</td>\n",
       "      <td>-30.620</td>\n",
       "      <td>1.000</td>\n",
       "      <td>1.000</td>\n",
       "      <td>1.000</td>\n",
       "      <td>0.000</td>\n",
       "      <td>-400.000</td>\n",
       "      <td>-7.000</td>\n",
       "      <td>-0.500</td>\n",
       "      <td>-61.910</td>\n",
       "      <td>-40.000</td>\n",
       "      <td>-0.300</td>\n",
       "      <td>-400.300</td>\n",
       "      <td>-2.500</td>\n",
       "    </tr>\n",
       "    <tr>\n",
       "      <th>25%</th>\n",
       "      <td>1.000</td>\n",
       "      <td>1.000</td>\n",
       "      <td>0.970</td>\n",
       "      <td>1.000</td>\n",
       "      <td>125.000</td>\n",
       "      <td>113.000</td>\n",
       "      <td>1.000</td>\n",
       "      <td>6.500</td>\n",
       "      <td>0.000</td>\n",
       "      <td>0.500</td>\n",
       "      <td>0.000</td>\n",
       "      <td>0.000</td>\n",
       "      <td>0.300</td>\n",
       "      <td>11.160</td>\n",
       "      <td>2.500</td>\n",
       "    </tr>\n",
       "    <tr>\n",
       "      <th>50%</th>\n",
       "      <td>2.000</td>\n",
       "      <td>1.000</td>\n",
       "      <td>1.600</td>\n",
       "      <td>1.000</td>\n",
       "      <td>162.000</td>\n",
       "      <td>162.000</td>\n",
       "      <td>1.000</td>\n",
       "      <td>9.000</td>\n",
       "      <td>0.500</td>\n",
       "      <td>0.500</td>\n",
       "      <td>1.950</td>\n",
       "      <td>0.000</td>\n",
       "      <td>0.300</td>\n",
       "      <td>14.300</td>\n",
       "      <td>2.500</td>\n",
       "    </tr>\n",
       "    <tr>\n",
       "      <th>75%</th>\n",
       "      <td>2.000</td>\n",
       "      <td>2.000</td>\n",
       "      <td>2.930</td>\n",
       "      <td>1.000</td>\n",
       "      <td>234.000</td>\n",
       "      <td>234.000</td>\n",
       "      <td>2.000</td>\n",
       "      <td>14.000</td>\n",
       "      <td>2.500</td>\n",
       "      <td>0.500</td>\n",
       "      <td>2.860</td>\n",
       "      <td>0.000</td>\n",
       "      <td>0.300</td>\n",
       "      <td>19.890</td>\n",
       "      <td>2.500</td>\n",
       "    </tr>\n",
       "    <tr>\n",
       "      <th>max</th>\n",
       "      <td>6.000</td>\n",
       "      <td>9.000</td>\n",
       "      <td>70137.720</td>\n",
       "      <td>99.000</td>\n",
       "      <td>265.000</td>\n",
       "      <td>265.000</td>\n",
       "      <td>5.000</td>\n",
       "      <td>1718.500</td>\n",
       "      <td>90.060</td>\n",
       "      <td>1.100</td>\n",
       "      <td>500.000</td>\n",
       "      <td>910.500</td>\n",
       "      <td>0.300</td>\n",
       "      <td>1722.300</td>\n",
       "      <td>2.750</td>\n",
       "    </tr>\n",
       "  </tbody>\n",
       "</table>\n",
       "</div>"
      ],
      "text/plain": [
       "         VendorID  passenger_count  trip_distance  RatecodeID  PULocationID  \\\n",
       "count 1571207.000      1555999.000    1571207.000 1555999.000   1571207.000   \n",
       "mean        1.673            1.501          2.938       1.057       164.473   \n",
       "std         0.470            1.142         66.929       0.775        65.793   \n",
       "min         1.000            0.000        -30.620       1.000         1.000   \n",
       "25%         1.000            1.000          0.970       1.000       125.000   \n",
       "50%         2.000            1.000          1.600       1.000       162.000   \n",
       "75%         2.000            2.000          2.930       1.000       234.000   \n",
       "max         6.000            9.000      70137.720      99.000       265.000   \n",
       "\n",
       "       DOLocationID  payment_type  fare_amount       extra     mta_tax  \\\n",
       "count   1571207.000   1571207.000  1571207.000 1571207.000 1571207.000   \n",
       "mean        162.378         1.253       12.613       1.106       0.492   \n",
       "std          69.968         0.486       11.773       1.256       0.073   \n",
       "min           1.000         0.000     -400.000      -7.000      -0.500   \n",
       "25%         113.000         1.000        6.500       0.000       0.500   \n",
       "50%         162.000         1.000        9.000       0.500       0.500   \n",
       "75%         234.000         2.000       14.000       2.500       0.500   \n",
       "max         265.000         5.000     1718.500      90.060       1.100   \n",
       "\n",
       "       tip_amount  tolls_amount  improvement_surcharge  total_amount  \\\n",
       "count 1571207.000   1571207.000            1571207.000   1571207.000   \n",
       "mean        2.193         0.331                  0.298        18.558   \n",
       "std         2.720         1.817                  0.035        14.394   \n",
       "min       -61.910       -40.000                 -0.300      -400.300   \n",
       "25%         0.000         0.000                  0.300        11.160   \n",
       "50%         1.950         0.000                  0.300        14.300   \n",
       "75%         2.860         0.000                  0.300        19.890   \n",
       "max       500.000       910.500                  0.300      1722.300   \n",
       "\n",
       "       congestion_surcharge  \n",
       "count           1555999.000  \n",
       "mean                  2.296  \n",
       "std                   0.707  \n",
       "min                  -2.500  \n",
       "25%                   2.500  \n",
       "50%                   2.500  \n",
       "75%                   2.500  \n",
       "max                   2.750  "
      ]
     },
     "execution_count": 200,
     "metadata": {},
     "output_type": "execute_result"
    }
   ],
   "source": [
    "# El archivo del dataset tiene como formato .parquet, el cual es un archivo que esta orientado a columnas. \n",
    "all_files = glob.glob(\"./data/*.parquet\")\n",
    "\n",
    "df_list = []\n",
    "\n",
    "for filename in all_files:\n",
    "    # Se carga el archivo\n",
    "    df = pd.read_parquet(filename)\n",
    "    # Tomo el 10% del dataset total   \n",
    "    df = df.sample(frac=0.1)\n",
    "    # Agrego a la lista\n",
    "    df_list.append(df)\n",
    "\n",
    "\n",
    "df = pd.concat(df_list, axis=0, ignore_index=True)\n",
    "\n",
    "\n",
    "df.describe()"
   ]
  },
  {
   "cell_type": "code",
   "execution_count": 201,
   "metadata": {},
   "outputs": [
    {
     "name": "stdout",
     "output_type": "stream",
     "text": [
      "<class 'pandas.core.frame.DataFrame'>\n",
      "RangeIndex: 1571207 entries, 0 to 1571206\n",
      "Data columns (total 19 columns):\n",
      " #   Column                 Non-Null Count    Dtype         \n",
      "---  ------                 --------------    -----         \n",
      " 0   VendorID               1571207 non-null  int64         \n",
      " 1   tpep_pickup_datetime   1571207 non-null  datetime64[ns]\n",
      " 2   tpep_dropoff_datetime  1571207 non-null  datetime64[ns]\n",
      " 3   passenger_count        1555999 non-null  float64       \n",
      " 4   trip_distance          1571207 non-null  float64       \n",
      " 5   RatecodeID             1555999 non-null  float64       \n",
      " 6   store_and_fwd_flag     1555999 non-null  object        \n",
      " 7   PULocationID           1571207 non-null  int64         \n",
      " 8   DOLocationID           1571207 non-null  int64         \n",
      " 9   payment_type           1571207 non-null  int64         \n",
      " 10  fare_amount            1571207 non-null  float64       \n",
      " 11  extra                  1571207 non-null  float64       \n",
      " 12  mta_tax                1571207 non-null  float64       \n",
      " 13  tip_amount             1571207 non-null  float64       \n",
      " 14  tolls_amount           1571207 non-null  float64       \n",
      " 15  improvement_surcharge  1571207 non-null  float64       \n",
      " 16  total_amount           1571207 non-null  float64       \n",
      " 17  congestion_surcharge   1555999 non-null  float64       \n",
      " 18  airport_fee            0 non-null        object        \n",
      "dtypes: datetime64[ns](2), float64(11), int64(4), object(2)\n",
      "memory usage: 227.8+ MB\n"
     ]
    }
   ],
   "source": [
    "## Para obtener una descripción del tipo de datos que contiene cada columna, utilizamos la funcion info()\n",
    "# Podemos además, obtener una idea general de cuantos datos no nulos contiene.\n",
    "df.info()"
   ]
  },
  {
   "cell_type": "code",
   "execution_count": 202,
   "metadata": {},
   "outputs": [
    {
     "data": {
      "text/html": [
       "<div>\n",
       "<style scoped>\n",
       "    .dataframe tbody tr th:only-of-type {\n",
       "        vertical-align: middle;\n",
       "    }\n",
       "\n",
       "    .dataframe tbody tr th {\n",
       "        vertical-align: top;\n",
       "    }\n",
       "\n",
       "    .dataframe thead th {\n",
       "        text-align: right;\n",
       "    }\n",
       "</style>\n",
       "<table border=\"1\" class=\"dataframe\">\n",
       "  <thead>\n",
       "    <tr style=\"text-align: right;\">\n",
       "      <th></th>\n",
       "      <th>VendorID</th>\n",
       "      <th>passenger_count</th>\n",
       "      <th>trip_distance</th>\n",
       "      <th>RatecodeID</th>\n",
       "      <th>PULocationID</th>\n",
       "      <th>DOLocationID</th>\n",
       "      <th>payment_type</th>\n",
       "      <th>fare_amount</th>\n",
       "      <th>extra</th>\n",
       "      <th>mta_tax</th>\n",
       "      <th>tip_amount</th>\n",
       "      <th>tolls_amount</th>\n",
       "      <th>improvement_surcharge</th>\n",
       "      <th>total_amount</th>\n",
       "      <th>congestion_surcharge</th>\n",
       "    </tr>\n",
       "  </thead>\n",
       "  <tbody>\n",
       "    <tr>\n",
       "      <th>count</th>\n",
       "      <td>1571207.000</td>\n",
       "      <td>1555999.000</td>\n",
       "      <td>1571207.000</td>\n",
       "      <td>1555999.000</td>\n",
       "      <td>1571207.000</td>\n",
       "      <td>1571207.000</td>\n",
       "      <td>1571207.000</td>\n",
       "      <td>1571207.000</td>\n",
       "      <td>1571207.000</td>\n",
       "      <td>1571207.000</td>\n",
       "      <td>1571207.000</td>\n",
       "      <td>1571207.000</td>\n",
       "      <td>1571207.000</td>\n",
       "      <td>1571207.000</td>\n",
       "      <td>1555999.000</td>\n",
       "    </tr>\n",
       "    <tr>\n",
       "      <th>mean</th>\n",
       "      <td>1.673</td>\n",
       "      <td>1.501</td>\n",
       "      <td>2.938</td>\n",
       "      <td>1.057</td>\n",
       "      <td>164.473</td>\n",
       "      <td>162.378</td>\n",
       "      <td>1.253</td>\n",
       "      <td>12.613</td>\n",
       "      <td>1.106</td>\n",
       "      <td>0.492</td>\n",
       "      <td>2.193</td>\n",
       "      <td>0.331</td>\n",
       "      <td>0.298</td>\n",
       "      <td>18.558</td>\n",
       "      <td>2.296</td>\n",
       "    </tr>\n",
       "    <tr>\n",
       "      <th>std</th>\n",
       "      <td>0.470</td>\n",
       "      <td>1.142</td>\n",
       "      <td>66.929</td>\n",
       "      <td>0.775</td>\n",
       "      <td>65.793</td>\n",
       "      <td>69.968</td>\n",
       "      <td>0.486</td>\n",
       "      <td>11.773</td>\n",
       "      <td>1.256</td>\n",
       "      <td>0.073</td>\n",
       "      <td>2.720</td>\n",
       "      <td>1.817</td>\n",
       "      <td>0.035</td>\n",
       "      <td>14.394</td>\n",
       "      <td>0.707</td>\n",
       "    </tr>\n",
       "    <tr>\n",
       "      <th>min</th>\n",
       "      <td>1.000</td>\n",
       "      <td>0.000</td>\n",
       "      <td>-30.620</td>\n",
       "      <td>1.000</td>\n",
       "      <td>1.000</td>\n",
       "      <td>1.000</td>\n",
       "      <td>0.000</td>\n",
       "      <td>-400.000</td>\n",
       "      <td>-7.000</td>\n",
       "      <td>-0.500</td>\n",
       "      <td>-61.910</td>\n",
       "      <td>-40.000</td>\n",
       "      <td>-0.300</td>\n",
       "      <td>-400.300</td>\n",
       "      <td>-2.500</td>\n",
       "    </tr>\n",
       "    <tr>\n",
       "      <th>25%</th>\n",
       "      <td>1.000</td>\n",
       "      <td>1.000</td>\n",
       "      <td>0.970</td>\n",
       "      <td>1.000</td>\n",
       "      <td>125.000</td>\n",
       "      <td>113.000</td>\n",
       "      <td>1.000</td>\n",
       "      <td>6.500</td>\n",
       "      <td>0.000</td>\n",
       "      <td>0.500</td>\n",
       "      <td>0.000</td>\n",
       "      <td>0.000</td>\n",
       "      <td>0.300</td>\n",
       "      <td>11.160</td>\n",
       "      <td>2.500</td>\n",
       "    </tr>\n",
       "    <tr>\n",
       "      <th>50%</th>\n",
       "      <td>2.000</td>\n",
       "      <td>1.000</td>\n",
       "      <td>1.600</td>\n",
       "      <td>1.000</td>\n",
       "      <td>162.000</td>\n",
       "      <td>162.000</td>\n",
       "      <td>1.000</td>\n",
       "      <td>9.000</td>\n",
       "      <td>0.500</td>\n",
       "      <td>0.500</td>\n",
       "      <td>1.950</td>\n",
       "      <td>0.000</td>\n",
       "      <td>0.300</td>\n",
       "      <td>14.300</td>\n",
       "      <td>2.500</td>\n",
       "    </tr>\n",
       "    <tr>\n",
       "      <th>75%</th>\n",
       "      <td>2.000</td>\n",
       "      <td>2.000</td>\n",
       "      <td>2.930</td>\n",
       "      <td>1.000</td>\n",
       "      <td>234.000</td>\n",
       "      <td>234.000</td>\n",
       "      <td>2.000</td>\n",
       "      <td>14.000</td>\n",
       "      <td>2.500</td>\n",
       "      <td>0.500</td>\n",
       "      <td>2.860</td>\n",
       "      <td>0.000</td>\n",
       "      <td>0.300</td>\n",
       "      <td>19.890</td>\n",
       "      <td>2.500</td>\n",
       "    </tr>\n",
       "    <tr>\n",
       "      <th>max</th>\n",
       "      <td>6.000</td>\n",
       "      <td>9.000</td>\n",
       "      <td>70137.720</td>\n",
       "      <td>99.000</td>\n",
       "      <td>265.000</td>\n",
       "      <td>265.000</td>\n",
       "      <td>5.000</td>\n",
       "      <td>1718.500</td>\n",
       "      <td>90.060</td>\n",
       "      <td>1.100</td>\n",
       "      <td>500.000</td>\n",
       "      <td>910.500</td>\n",
       "      <td>0.300</td>\n",
       "      <td>1722.300</td>\n",
       "      <td>2.750</td>\n",
       "    </tr>\n",
       "  </tbody>\n",
       "</table>\n",
       "</div>"
      ],
      "text/plain": [
       "         VendorID  passenger_count  trip_distance  RatecodeID  PULocationID  \\\n",
       "count 1571207.000      1555999.000    1571207.000 1555999.000   1571207.000   \n",
       "mean        1.673            1.501          2.938       1.057       164.473   \n",
       "std         0.470            1.142         66.929       0.775        65.793   \n",
       "min         1.000            0.000        -30.620       1.000         1.000   \n",
       "25%         1.000            1.000          0.970       1.000       125.000   \n",
       "50%         2.000            1.000          1.600       1.000       162.000   \n",
       "75%         2.000            2.000          2.930       1.000       234.000   \n",
       "max         6.000            9.000      70137.720      99.000       265.000   \n",
       "\n",
       "       DOLocationID  payment_type  fare_amount       extra     mta_tax  \\\n",
       "count   1571207.000   1571207.000  1571207.000 1571207.000 1571207.000   \n",
       "mean        162.378         1.253       12.613       1.106       0.492   \n",
       "std          69.968         0.486       11.773       1.256       0.073   \n",
       "min           1.000         0.000     -400.000      -7.000      -0.500   \n",
       "25%         113.000         1.000        6.500       0.000       0.500   \n",
       "50%         162.000         1.000        9.000       0.500       0.500   \n",
       "75%         234.000         2.000       14.000       2.500       0.500   \n",
       "max         265.000         5.000     1718.500      90.060       1.100   \n",
       "\n",
       "       tip_amount  tolls_amount  improvement_surcharge  total_amount  \\\n",
       "count 1571207.000   1571207.000            1571207.000   1571207.000   \n",
       "mean        2.193         0.331                  0.298        18.558   \n",
       "std         2.720         1.817                  0.035        14.394   \n",
       "min       -61.910       -40.000                 -0.300      -400.300   \n",
       "25%         0.000         0.000                  0.300        11.160   \n",
       "50%         1.950         0.000                  0.300        14.300   \n",
       "75%         2.860         0.000                  0.300        19.890   \n",
       "max       500.000       910.500                  0.300      1722.300   \n",
       "\n",
       "       congestion_surcharge  \n",
       "count           1555999.000  \n",
       "mean                  2.296  \n",
       "std                   0.707  \n",
       "min                  -2.500  \n",
       "25%                   2.500  \n",
       "50%                   2.500  \n",
       "75%                   2.500  \n",
       "max                   2.750  "
      ]
     },
     "execution_count": 202,
     "metadata": {},
     "output_type": "execute_result"
    }
   ],
   "source": [
    "# La función describe() nos da una vista general de valores de cantidades de datos, media, desv. standard, valores min y max de cada columna.\n",
    "df.describe()"
   ]
  },
  {
   "cell_type": "markdown",
   "metadata": {},
   "source": [
    "### Descripción de Columnas del Dataset.\n"
   ]
  },
  {
   "cell_type": "code",
   "execution_count": 203,
   "metadata": {},
   "outputs": [
    {
     "data": {
      "text/plain": [
       "VendorID                          int64\n",
       "tpep_pickup_datetime     datetime64[ns]\n",
       "tpep_dropoff_datetime    datetime64[ns]\n",
       "passenger_count                 float64\n",
       "trip_distance                   float64\n",
       "RatecodeID                      float64\n",
       "store_and_fwd_flag               object\n",
       "PULocationID                      int64\n",
       "DOLocationID                      int64\n",
       "payment_type                      int64\n",
       "fare_amount                     float64\n",
       "extra                           float64\n",
       "mta_tax                         float64\n",
       "tip_amount                      float64\n",
       "tolls_amount                    float64\n",
       "improvement_surcharge           float64\n",
       "total_amount                    float64\n",
       "congestion_surcharge            float64\n",
       "airport_fee                      object\n",
       "dtype: object"
      ]
     },
     "execution_count": 203,
     "metadata": {},
     "output_type": "execute_result"
    }
   ],
   "source": [
    "# Listado de tipos de variables presentes en el dataset\n",
    "df.dtypes"
   ]
  },
  {
   "cell_type": "code",
   "execution_count": 204,
   "metadata": {},
   "outputs": [],
   "source": [
    "# funcion para plotear las distribuciones de los atributos\n",
    "def display_dataset_distributions(dataset):\n",
    "    fig = dataset.hist(xlabelsize=10, ylabelsize=10,figsize=(18,18))\n",
    "    [x.title.set_size(14) for x in fig.ravel()]\n",
    "    plt.tight_layout\n",
    "    plt.show()\n",
    "    \n",
    "\n",
    "# funcion para imprimir nulos\n",
    "def print_null_info(col):\n",
    "    print(f'Cantidad de nulos: {col.isnull().sum()}/{col.size}')\n",
    "\n",
    "# funcion para imprimir datos de v. categoricas\n",
    "def print_categorical(col):\n",
    "    print(f'Ordinalidad: {col.unique()}')\n",
    "    print_null_info(col)\n",
    "    print('Ocurrencias:')\n",
    "    print(col.value_counts().sort_values())"
   ]
  },
  {
   "cell_type": "code",
   "execution_count": 205,
   "metadata": {},
   "outputs": [
    {
     "data": {
      "image/png": "[encoded data removed]",
      "text/plain": [
       "<Figure size 1296x1296 with 20 Axes>"
      ]
     },
     "metadata": {},
     "output_type": "display_data"
    }
   ],
   "source": [
    "#imprimo distribuciones \n",
    "display_dataset_distributions(df)"
   ]
  },
  {
   "cell_type": "markdown",
   "metadata": {},
   "source": [
    "\n",
    "- **VendorID**: Proveedor de servicios de tecnologias en taxis (T-PEP)\n",
    "    - Tipo de dato: Categórica ordinal  \n",
    "    - Tipo de variable: Entrada  \n"
   ]
  },
  {
   "cell_type": "code",
   "execution_count": 206,
   "metadata": {},
   "outputs": [
    {
     "name": "stdout",
     "output_type": "stream",
     "text": [
      "Ordinalidad: [2 1 5 6]\n",
      "Cantidad de nulos: 0/1571207\n",
      "Ocurrencias:\n",
      "5          2\n",
      "6         55\n",
      "1     514041\n",
      "2    1057109\n",
      "Name: VendorID, dtype: int64\n"
     ]
    }
   ],
   "source": [
    "print_categorical(df.VendorID)"
   ]
  },
  {
   "cell_type": "markdown",
   "metadata": {},
   "source": [
    "\n",
    "- **tpep_pickup_datetime**: Fecha y hora en el cual el reloj fue activado al iniciar un viaje.\n",
    "    - Tipo de dato: Timestamp compuesto  \n",
    "    - Tipo de variable: Entrada  \n",
    "\n",
    "    - Ejemplo del dato en el dataset: 2020-07-01 00:25:32\n"
   ]
  },
  {
   "cell_type": "code",
   "execution_count": 207,
   "metadata": {},
   "outputs": [
    {
     "name": "stdout",
     "output_type": "stream",
     "text": [
      "Cantidad de nulos: 0/1571207\n"
     ]
    }
   ],
   "source": [
    "print_null_info(df.tpep_pickup_datetime)"
   ]
  },
  {
   "cell_type": "markdown",
   "metadata": {},
   "source": [
    "- **tpep_dropoff_datetime**: Fecha y hora en el cual el reloj fue desactivador al finalizar un viaje.\n",
    "    - Tipo de dato: Timestamp compuesto\n",
    "    - Tipo de variable: Entrada  / Salida\n",
    "\n",
    "    - Ejemplo del dato en el dataset: 2020-07-01 00:33:39\n"
   ]
  },
  {
   "cell_type": "code",
   "execution_count": 208,
   "metadata": {},
   "outputs": [
    {
     "name": "stdout",
     "output_type": "stream",
     "text": [
      "Cantidad de nulos: 0/1571207\n"
     ]
    }
   ],
   "source": [
    "print_null_info(df.tpep_dropoff_datetime)"
   ]
  },
  {
   "cell_type": "markdown",
   "metadata": {},
   "source": [
    "- **passenger_count**: El número de pasajeros en el vehiculo. (Es un dato que lo ingresa el conductor.)\n",
    "    - Tipo de dato: Numérico \n",
    "    - Tipo de variable: Entrada\n",
    "    - Ejemplo del dato en el dataset: 1.0"
   ]
  },
  {
   "cell_type": "code",
   "execution_count": 209,
   "metadata": {},
   "outputs": [
    {
     "name": "stdout",
     "output_type": "stream",
     "text": [
      "Cantidad de nulos: 15208/1571207\n"
     ]
    }
   ],
   "source": [
    "print_null_info(df.passenger_count)"
   ]
  },
  {
   "cell_type": "markdown",
   "metadata": {},
   "source": [
    "\n",
    "- **trip_distance**: La distancia del viaje transcurrido en millas reportada por el taxímetro. \n",
    "    - Tipo de dato: Numérico \n",
    "    - Tipo de variable: Entrada  \n",
    "\n",
    "    - Ejemplo del dato en el dataset: 1.50\n"
   ]
  },
  {
   "cell_type": "code",
   "execution_count": 210,
   "metadata": {},
   "outputs": [
    {
     "name": "stdout",
     "output_type": "stream",
     "text": [
      "Cantidad de nulos: 0/1571207\n"
     ]
    }
   ],
   "source": [
    "print_null_info(df.trip_distance)"
   ]
  },
  {
   "cell_type": "markdown",
   "metadata": {},
   "source": [
    "- **PULocationID**: TLC Zona en la que el taxímetro se activó.\n",
    "    - Tipo de dato: Categórica ordinal\n",
    "    - Tipo de variable: Entrada / Salida\n",
    "\n",
    "    - Ejemplo del dato en el dataset: 238\n"
   ]
  },
  {
   "cell_type": "code",
   "execution_count": 211,
   "metadata": {},
   "outputs": [
    {
     "name": "stdout",
     "output_type": "stream",
     "text": [
      "Ordinalidad: [ 75 141  79 237 249 138 142 236 231 229 107  49 170 140 238 164 263  48\n",
      "  43 239  68 230 261 161 264  85 114 100 186  90 262 162 151 211 129 132\n",
      " 143  14 234 246 166  13 158 244  33 137 163 233  88 255  87 148   4  10\n",
      " 144 125  50  45  42  97 113  74  24 232  61 152 145 226 222 193 168 205\n",
      "   7 256 146 157 259 224 215 102  70 265 260  62 131  66  41 209  22 165\n",
      "  72 112  25 116  93  77  17 208 188 134 174  16 220 213 179 181  76  28\n",
      "  54 160 121 257  32  67  63  39 228  52  65  53  78  81  71 216  69  47\n",
      "  82  40   9 247 223 106  80 235  51 254  55 130 196 185 127  91 243  92\n",
      " 108 136  12  21 225  83   3 197  95  26 175 147 155 258 195  56  89 252\n",
      "   1 242 198  29  44  35  38  36 149 171 135  37 122 177 183 218 133 178\n",
      " 248 212 119 182 203 180 189   5 207 139 156 241 159 150  60 194 117 227\n",
      " 219 201 101 167 191  73 169  86  98 217 192 111 245 115 202 210 250  84\n",
      "  94  99  20  15 200 253 153 124  19 126 123  64 128  18 173  34 118 240\n",
      "   8 214  59  11   6  96  31 190 120  46   2  23 221 206 199 154 109 187\n",
      " 251 172  58 184  57 176  27]\n",
      "Cantidad de nulos: 0/1571207\n",
      "Ocurrencias:\n",
      "99         1\n",
      "176        1\n",
      "111        1\n",
      "187        2\n",
      "2          2\n",
      "       ...  \n",
      "230    55318\n",
      "162    57516\n",
      "236    65900\n",
      "161    68152\n",
      "237    70233\n",
      "Name: PULocationID, Length: 259, dtype: int64\n"
     ]
    }
   ],
   "source": [
    "print_categorical(df.PULocationID)"
   ]
  },
  {
   "cell_type": "markdown",
   "metadata": {},
   "source": [
    "\n",
    "- **DOLocationID**: TLC Zona en la que el taxímetro se desactivó.\n",
    "    - Tipo de dato: Categórica ordinal\n",
    "    - Tipo de variable: Entrada / Salida \n",
    "\n",
    "    - Ejemplo del dato en el dataset: 75\n"
   ]
  },
  {
   "cell_type": "code",
   "execution_count": 212,
   "metadata": {},
   "outputs": [
    {
     "name": "stdout",
     "output_type": "stream",
     "text": [
      "Ordinalidad: [151 237   4 236 249 233 107 100 234 211 263 246  48  74 145 164 238  90\n",
      "  43 166 162 161 141  68 230 264  87 261 137 186 223 140 231 114 262 129\n",
      "  13 134 163 143 189 239  50 142 229  75  39 158  79  60 113 138 170  97\n",
      " 224 181 244 228 144  40  95 148 232  65 168 226  80  93 117 265 132  17\n",
      "  49  88  45 106 125 146 188  33  12  41  66 177 209 193 220  51 159 157\n",
      "  37  42 255   1 131  70 190   7 257 112  25  24 225 127 179 254  61 152\n",
      "  69 260 116 256 216 165 160  83  89 196 218 243 194 171  10 123  94 135\n",
      " 203 133 130 252  55 210 213  56  53  28  86  14  76 126  36 235 120 212\n",
      " 173  92 200  62 198  82 217 215 219  73  29 241  16 205 169 122  21  78\n",
      "  47  35 128 102  52 136 191 197 167 195 250  11  54  20 178 182  72 247\n",
      "  64 174 124 242   9  19  81  91  71  22 119 248 180  58 155  63  31  85\n",
      "  96 185 108 222   3 101 258  98 202 201  18  77 240  26 175 253 227 139\n",
      "  32  34 121  23 259  38  15 149 207 192 153  67 183 208   5  84 147 245\n",
      " 150 111 251   8 184  57  46  99 118  44 154   2  27 172 156 109 115 214\n",
      "   6 206 221  30  59 204 187 176]\n",
      "Cantidad de nulos: 0/1571207\n",
      "Ocurrencias:\n",
      "2          2\n",
      "204        3\n",
      "99         3\n",
      "187        4\n",
      "30         5\n",
      "       ...  \n",
      "230    46130\n",
      "170    48221\n",
      "161    60333\n",
      "237    62954\n",
      "236    69682\n",
      "Name: DOLocationID, Length: 260, dtype: int64\n"
     ]
    }
   ],
   "source": [
    "print_categorical(df.DOLocationID)"
   ]
  },
  {
   "cell_type": "markdown",
   "metadata": {},
   "source": [
    "\n",
    "- **RatecodeID**:  El código de tarifa final vigente al final del viaje.\n",
    "    - Tipo de dato: Categórica ordinal\n",
    "    - Tipo de variable: Entrada  \n",
    "\n",
    "    - 1= Standard rate\n",
    "    - 2= JFK \n",
    "    - 3= Newark\n",
    "    - 4= Nassau or Westchester\n",
    "    - 5= Negotiated fare\n",
    "    - 6= Group ride\n"
   ]
  },
  {
   "cell_type": "code",
   "execution_count": 213,
   "metadata": {},
   "outputs": [
    {
     "name": "stdout",
     "output_type": "stream",
     "text": [
      "Ordinalidad: [ 1. nan  3.  2.  5.  4. 99.  6.]\n",
      "Cantidad de nulos: 15208/1571207\n",
      "Ocurrencias:\n",
      "6.000          11\n",
      "99.000         77\n",
      "4.000        1229\n",
      "3.000        3176\n",
      "5.000        8810\n",
      "2.000       35740\n",
      "1.000     1506956\n",
      "Name: RatecodeID, dtype: int64\n"
     ]
    }
   ],
   "source": [
    "print_categorical(df.RatecodeID)"
   ]
  },
  {
   "cell_type": "markdown",
   "metadata": {},
   "source": [
    "- **store_and_fwd_flag**:  Este flag indica si el registro de viaje se llevó a cabo en la memoria del dispositivo del vehiculo antes de enviar al proveedor, también conocido como \"almacenar y reenviar\", porque el vehiculo no tenia conexion al servidor.\n",
    "    - Tipo de dato: Categórica  \n",
    "    - Tipo de variable: Entrada  \n",
    "\n",
    "    - Y= Almacenar y reenviar informacion.\n",
    "    - N= No almacenar y enviar informacion.\n"
   ]
  },
  {
   "cell_type": "code",
   "execution_count": 214,
   "metadata": {},
   "outputs": [
    {
     "name": "stdout",
     "output_type": "stream",
     "text": [
      "Ordinalidad: ['N' None 'Y']\n",
      "Cantidad de nulos: 15208/1571207\n",
      "Ocurrencias:\n",
      "Y      15998\n",
      "N    1540001\n",
      "Name: store_and_fwd_flag, dtype: int64\n"
     ]
    }
   ],
   "source": [
    "print_categorical(df.store_and_fwd_flag)"
   ]
  },
  {
   "cell_type": "markdown",
   "metadata": {},
   "source": [
    "\n",
    "- **payment_type**: Un código numérico que significa cómo el pasajero pagó por el viaje.\n",
    "    - Tipo de dato: Categórica ordinal  \n",
    "    - Tipo de variable: Entrada  \n",
    "\n",
    "    - 1= Credit card\n",
    "    - 2= Cash\n",
    "    - 3= No charge\n",
    "    - 4= Dispute\n",
    "    - 5= Unknown\n",
    "    - 6= Voided trip\n"
   ]
  },
  {
   "cell_type": "code",
   "execution_count": 215,
   "metadata": {},
   "outputs": [
    {
     "name": "stdout",
     "output_type": "stream",
     "text": [
      "Ordinalidad: [2 1 0 3 4 5]\n",
      "Cantidad de nulos: 0/1571207\n",
      "Ocurrencias:\n",
      "5          1\n",
      "4       4526\n",
      "3       8127\n",
      "0      15208\n",
      "2     382223\n",
      "1    1161122\n",
      "Name: payment_type, dtype: int64\n"
     ]
    }
   ],
   "source": [
    "print_categorical(df.payment_type)"
   ]
  },
  {
   "cell_type": "markdown",
   "metadata": {},
   "source": [
    "- **fare_amount**: La tarifa de tiempo y distancia calculada por el taxímetro.\n",
    "    - Tipo de dato: Numérico  \n",
    "    - Tipo de variable: Salida  \n",
    "\n",
    "    - Ejemplo del dato en el dataset: 8.0\n"
   ]
  },
  {
   "cell_type": "code",
   "execution_count": 216,
   "metadata": {},
   "outputs": [
    {
     "name": "stdout",
     "output_type": "stream",
     "text": [
      "Cantidad de nulos: 0/1571207\n"
     ]
    }
   ],
   "source": [
    "print_null_info(df.fare_amount)"
   ]
  },
  {
   "cell_type": "markdown",
   "metadata": {},
   "source": [
    "- **Extra**: Varios extras y recargos. Actualmente, esto solo incluye los cargos de $0.50 y $1 por la hora pico y por la noche.\n",
    "    - Tipo de dato: Numérico  \n",
    "    - Tipo de variable: Salida  \n",
    "\n",
    "    - Ejemplo del dato en el dataset: 0.5\n"
   ]
  },
  {
   "cell_type": "code",
   "execution_count": 217,
   "metadata": {},
   "outputs": [
    {
     "name": "stdout",
     "output_type": "stream",
     "text": [
      "Cantidad de nulos: 0/1571207\n"
     ]
    }
   ],
   "source": [
    "print_null_info(df.extra)"
   ]
  },
  {
   "cell_type": "markdown",
   "metadata": {},
   "source": [
    "\n",
    "- **mta_tax**: Impuesto MTA de $0.50 que se activa automáticamente según la tasa de uso del medidor.\n",
    "    - Tipo de dato: Numérico\n",
    "    - Tipo de variable: Salida  \n",
    "\n",
    "    - Ejemplo del dato en el dataset: 0.5\n"
   ]
  },
  {
   "cell_type": "code",
   "execution_count": 218,
   "metadata": {},
   "outputs": [
    {
     "name": "stdout",
     "output_type": "stream",
     "text": [
      "Cantidad de nulos: 0/1571207\n"
     ]
    }
   ],
   "source": [
    "print_null_info(df.mta_tax)"
   ]
  },
  {
   "cell_type": "markdown",
   "metadata": {},
   "source": [
    "- **improvement_surcharge**: Recargo de mejora de $ 0.30 en viaje en el descenso de bandera. El recargo por mejora comenzó a cobrarse en 2015.\n",
    "    - Tipo de dato: Numérico  \n",
    "    - Tipo de variable: Salida  \n",
    "\n",
    "    - Ejemplo del dato en el dataset: 0.3\n"
   ]
  },
  {
   "cell_type": "code",
   "execution_count": 219,
   "metadata": {},
   "outputs": [
    {
     "name": "stdout",
     "output_type": "stream",
     "text": [
      "Cantidad de nulos: 0/1571207\n"
     ]
    }
   ],
   "source": [
    "print_null_info(df.improvement_surcharge)"
   ]
  },
  {
   "cell_type": "markdown",
   "metadata": {},
   "source": [
    "- **tip_amount**: Importe de la propina: este campo se completa automáticamente para las propinas de tarjetas de crédito. Las propinas en efectivo no están incluidas.\n",
    "    - Tipo de dato: Numérico\n",
    "    - Tipo de variable: Salida  \n",
    "\n",
    "    - Ejemplo del dato en el dataset: 0.00  \n"
   ]
  },
  {
   "cell_type": "code",
   "execution_count": 220,
   "metadata": {},
   "outputs": [
    {
     "name": "stdout",
     "output_type": "stream",
     "text": [
      "Cantidad de nulos: 0/1571207\n"
     ]
    }
   ],
   "source": [
    "print_null_info(df.tip_amount)"
   ]
  },
  {
   "cell_type": "markdown",
   "metadata": {},
   "source": [
    "- **tolls_amount**: Importe total de todos los peajes pagados en el viaje.\n",
    "    - Tipo de dato: Numérico\n",
    "    - Tipo de variable: Salida  \n",
    "    - Ejemplo del dato en el dataset: 0.00\n"
   ]
  },
  {
   "cell_type": "code",
   "execution_count": 221,
   "metadata": {},
   "outputs": [
    {
     "name": "stdout",
     "output_type": "stream",
     "text": [
      "Cantidad de nulos: 0/1571207\n"
     ]
    }
   ],
   "source": [
    "print_null_info(df.tolls_amount)"
   ]
  },
  {
   "cell_type": "markdown",
   "metadata": {},
   "source": [
    "\n",
    "- **total_amount**: El monto total cobrado a los pasajeros. No incluye propinas en efectivo.\n",
    "    - Tipo de dato: Numérico  \n",
    "    - Tipo de variable: Salida  \n",
    "    - Ejemplo del dato en el dataset: 9.30\n"
   ]
  },
  {
   "cell_type": "code",
   "execution_count": 222,
   "metadata": {},
   "outputs": [
    {
     "name": "stdout",
     "output_type": "stream",
     "text": [
      "Cantidad de nulos: 0/1571207\n"
     ]
    }
   ],
   "source": [
    "print_null_info(df.total_amount)"
   ]
  },
  {
   "cell_type": "markdown",
   "metadata": {},
   "source": [
    "- **congestion_surcharge**: Importe total recaudado en el viaje por el recargo por congestión del Estado de Nueva York.\n",
    "    - Tipo de dato: Numérico\n",
    "    - Tipo de variable: Salida  \n",
    "    - Ejemplo del dato en el dataset: 0.00\n"
   ]
  },
  {
   "cell_type": "code",
   "execution_count": 223,
   "metadata": {},
   "outputs": [
    {
     "name": "stdout",
     "output_type": "stream",
     "text": [
      "Cantidad de nulos: 15208/1571207\n"
     ]
    }
   ],
   "source": [
    "print_null_info(df.congestion_surcharge)"
   ]
  },
  {
   "cell_type": "markdown",
   "metadata": {},
   "source": [
    "- **airport_fee**: $1.25 para recoger solo en los aeropuertos LaGuardia y John F. Kennedy\n",
    "    - Tipo de dato: Numérico  \n",
    "    - Tipo de variable: Salida\n",
    "    - Ejemplo del dato en el dataset: None"
   ]
  },
  {
   "cell_type": "code",
   "execution_count": 224,
   "metadata": {},
   "outputs": [
    {
     "name": "stdout",
     "output_type": "stream",
     "text": [
      "Cantidad de nulos: 1571207/1571207\n"
     ]
    }
   ],
   "source": [
    "print_null_info(df.airport_fee)"
   ]
  },
  {
   "cell_type": "markdown",
   "metadata": {},
   "source": [
    "## 2. Limpieza de los datos\n"
   ]
  },
  {
   "cell_type": "markdown",
   "metadata": {},
   "source": [
    "### 2.1 Datos faltantes"
   ]
  },
  {
   "cell_type": "code",
   "execution_count": 225,
   "metadata": {},
   "outputs": [
    {
     "data": {
      "text/plain": [
       "29850748"
      ]
     },
     "execution_count": 225,
     "metadata": {},
     "output_type": "execute_result"
    }
   ],
   "source": [
    "# verificamos cantidad de items repetidos y los eliminamos\n",
    "df = df.drop_duplicates()\n",
    "df.size"
   ]
  },
  {
   "cell_type": "code",
   "execution_count": 226,
   "metadata": {},
   "outputs": [
    {
     "name": "stdout",
     "output_type": "stream",
     "text": [
      "VendorID: 0/1571092\n",
      "tpep_pickup_datetime: 0/1571092\n",
      "tpep_dropoff_datetime: 0/1571092\n",
      "passenger_count: 15093/1571092\n",
      "trip_distance: 0/1571092\n",
      "RatecodeID: 15093/1571092\n",
      "store_and_fwd_flag: 15093/1571092\n",
      "PULocationID: 0/1571092\n",
      "DOLocationID: 0/1571092\n",
      "payment_type: 0/1571092\n",
      "fare_amount: 0/1571092\n",
      "extra: 0/1571092\n",
      "mta_tax: 0/1571092\n",
      "tip_amount: 0/1571092\n",
      "tolls_amount: 0/1571092\n",
      "improvement_surcharge: 0/1571092\n",
      "total_amount: 0/1571092\n",
      "congestion_surcharge: 15093/1571092\n",
      "airport_fee: 1571092/1571092\n"
     ]
    }
   ],
   "source": [
    "# verificamos cantidad de nulos en cada categoría\n",
    "for i in range(len(df.columns)):\n",
    "  col_name = df.columns[i]\n",
    "  col_data = df[col_name]\n",
    "  print(f'{col_name}: {col_data.isnull().sum()}/{col_data.size}')"
   ]
  },
  {
   "cell_type": "markdown",
   "metadata": {},
   "source": [
    "#### 2.1.1 Análisis de faltantes"
   ]
  },
  {
   "cell_type": "markdown",
   "metadata": {},
   "source": [
    "Las categorías con faltantes son las siguientes:\n",
    "\n",
    "* passenger_count: 15180/1571072\n",
    "* RatecodeID: 15180/1571072\n",
    "* store_and_fwd_flag: 15180/1571072\n",
    "* congestion_surcharge: 15180/1571072\n",
    "* airport_fee: 1571072/1571072\n",
    "\n",
    "Para cada una de estas columnas se decide:\n",
    "* __passenger_count__ es ingresado a mano por lo que los datos faltantes suponemos que corresponden a fallas en la carga por parte del conductor. Se decide eliminar los faltantes dado que representan el 1%\n",
    "* __RatecodeID__ no aporta información por lo que se elimina esta feature\n",
    "* __store_and_fwd_flag__ no aporta información por lo que se elimina esta feature\n",
    "* __congestion_surcharge__ : los faltantes representan el 1% por lo que se quitan\n",
    "* __airport_fee__ se quita ya que todos los valores son nulos\n"
   ]
  },
  {
   "cell_type": "code",
   "execution_count": 227,
   "metadata": {},
   "outputs": [
    {
     "data": {
      "text/plain": [
       "1555999"
      ]
     },
     "execution_count": 227,
     "metadata": {},
     "output_type": "execute_result"
    }
   ],
   "source": [
    "# descarto datos nulos de los features con interés (passenger count y congestion_surcharge)\n",
    "df = df.dropna(subset=['passenger_count', 'congestion_surcharge'])\n",
    "len(df['passenger_count'])"
   ]
  },
  {
   "cell_type": "markdown",
   "metadata": {},
   "source": [
    "#### 2.1.2 Datos no nulos inválidos"
   ]
  },
  {
   "cell_type": "markdown",
   "metadata": {},
   "source": [
    "En algunos features se detectan valores fuera del rango esperado (tal como valores negativos o fuera del rango de las categorías definidas)"
   ]
  },
  {
   "cell_type": "code",
   "execution_count": 228,
   "metadata": {},
   "outputs": [
    {
     "name": "stdout",
     "output_type": "stream",
     "text": [
      "trip_distance: 0/1555999\n",
      "fare_amount: 4984/1555999\n",
      "extra: 2363/1555999\n",
      "mta_tax: 4880/1555999\n",
      "tip_amount: 44/1555999\n",
      "tolls_amount: 115/1555999\n",
      "improvement_surcharge: 4984/1555999\n",
      "total_amount: 4984/1555999\n",
      "congestion_surcharge: 3968/1555999\n"
     ]
    }
   ],
   "source": [
    "# verificamos cantidad de negativos en las categorías numéricas\n",
    "cols_to_check = ['trip_distance', 'fare_amount', 'extra', 'mta_tax', 'tip_amount', 'tolls_amount', 'improvement_surcharge', 'total_amount', 'congestion_surcharge']\n",
    "\n",
    "for i, col in enumerate(cols_to_check):\n",
    "  col_data = df[col]\n",
    "  print(f'{col}: {col_data[col_data < 0].count()}/{col_data.size}')\n",
    "  "
   ]
  },
  {
   "cell_type": "code",
   "execution_count": 229,
   "metadata": {},
   "outputs": [
    {
     "data": {
      "text/plain": [
       "1535503"
      ]
     },
     "execution_count": 229,
     "metadata": {},
     "output_type": "execute_result"
    }
   ],
   "source": [
    "# trip distance: borro <= 0\n",
    "df = df[(df['trip_distance'] > 0)]\n",
    "# fare_amount: borro < 0\n",
    "df = df[(df['fare_amount'] >= 0)]\n",
    "# extra: borro < 0\n",
    "df = df[(df['extra'] >= 0)]\n",
    "# mta_tax: borro < 0\n",
    "df = df[(df['mta_tax'] >= 0)]\n",
    "# tip_amount: borro < 0\n",
    "df = df[(df['tip_amount'] >= 0)]\n",
    "#tolls amount: borro < 0\n",
    "df = df[(df['tolls_amount'] >= 0)]\n",
    "#improvement_surcharge: borro < 0\n",
    "df = df[(df['improvement_surcharge'] >= 0)]\n",
    "#total_amount: borro < 0\n",
    "df = df[(df['total_amount'] >= 0)]\n",
    "#congestion_surcharge: borro < 0\n",
    "df = df[(df['congestion_surcharge'] >= 0)]\n",
    "\n",
    "len(df)\n",
    "\n"
   ]
  },
  {
   "cell_type": "markdown",
   "metadata": {},
   "source": [
    "#### 2.1.3 Filtro entradas por tipo de pago\n",
    "Descarto otros pagos diferenes de CREDIT (payment_type = 1)"
   ]
  },
  {
   "cell_type": "code",
   "execution_count": 230,
   "metadata": {},
   "outputs": [
    {
     "data": {
      "text/plain": [
       "1151139"
      ]
     },
     "execution_count": 230,
     "metadata": {},
     "output_type": "execute_result"
    }
   ],
   "source": [
    "df = df[df[\"payment_type\"] == 1]\n",
    "len(df)\n"
   ]
  },
  {
   "cell_type": "markdown",
   "metadata": {},
   "source": [
    "#### 2.1.3 Eliminación de variables con baja varianza"
   ]
  },
  {
   "cell_type": "code",
   "execution_count": 231,
   "metadata": {},
   "outputs": [],
   "source": [
    "# TODO"
   ]
  },
  {
   "cell_type": "markdown",
   "metadata": {},
   "source": [
    "### 2.2 Ingeniería de datos"
   ]
  },
  {
   "cell_type": "markdown",
   "metadata": {},
   "source": [
    "#### 2.2.1 Features de tiempo y hora del día"
   ]
  },
  {
   "cell_type": "code",
   "execution_count": 232,
   "metadata": {},
   "outputs": [
    {
     "data": {
      "text/plain": [
       "(0, 0, 0)"
      ]
     },
     "execution_count": 232,
     "metadata": {},
     "output_type": "execute_result"
    }
   ],
   "source": [
    "# generamos una nueva columna \"duration\" con el tiempo de viaje\n",
    "ts_init = pd.to_datetime(df['tpep_pickup_datetime']).values.astype(np.int64) / 1000000000\n",
    "ts_end = pd.to_datetime(df['tpep_dropoff_datetime']).values.astype(np.int64) / 1000000000\n",
    "duration = ts_end - ts_init\n",
    "df['duration'] = duration\n",
    "\n",
    "# ademas creamos 3 categorías para el horario en que se inició el viaje: diurno, vespertino y nocturno\n",
    "MORNING_START = 6\n",
    "MORNING_END = 13\n",
    "AFTERNOON_START = 14\n",
    "AFTERNOON_END = 20\n",
    "EVENING_START = 21\n",
    "EVENING_END = 5 \n",
    "\n",
    "day_interval = df['tpep_pickup_datetime'].dt.hour\n",
    "df['morning'] = pd.cut(day_interval, bins=[-float('Inf'), MORNING_START - 1, MORNING_END, float('Inf')], labels=[0, 1, 0], ordered=False)\n",
    "df['afternoon'] = pd.cut(day_interval, bins=[-float('Inf'), AFTERNOON_START - 1, AFTERNOON_END, float('Inf')], labels=[0, 1, 0], ordered=False)\n",
    "df['evening'] = pd.cut(day_interval, bins=[-float('Inf'), 0, EVENING_END, EVENING_START, 23, float('Inf')], labels=[0, 1, 0, 1, 0], ordered=False)\n",
    "\n",
    "# reviso que sean validas \n",
    "df['morning'].values.isnull().sum(), df['afternoon'].values.isnull().sum(), df['evening'].values.isnull().sum()"
   ]
  },
  {
   "cell_type": "code",
   "execution_count": 233,
   "metadata": {},
   "outputs": [
    {
     "name": "stdout",
     "output_type": "stream",
     "text": [
      "Duraciones inválidas: 1\n"
     ]
    }
   ],
   "source": [
    "# termino de borrar todos los negativos\n",
    "df['morning'].values.isnull().sum(), df['afternoon'].values.isnull().sum(), df['evening'].values.isnull().sum()\n",
    "\n",
    "# verifico si tengo entradas con duration < 0\n",
    "duration_invalid = df[df['duration'] < 0]['duration'].count()\n",
    "print(f'Duraciones inválidas: {duration_invalid}')"
   ]
  },
  {
   "cell_type": "markdown",
   "metadata": {},
   "source": [
    "#### 2.2.2 Codificación del origen y destino"
   ]
  },
  {
   "cell_type": "code",
   "execution_count": 234,
   "metadata": {},
   "outputs": [],
   "source": [
    "# definimos el umbral mínimo de cantidad de viajes para podar las categorías PULocationID y DOLocationID.\n",
    "location_id_min_th_count = 0.01\n",
    "total_items = len(df['PULocationID'])\n",
    "\n",
    "# convertimos PULocationID usando frequency encoding y me quedo con los que representan al menos 1%\n",
    "pulocation_id_freq_map = (df['PULocationID'].value_counts(sort=True) / total_items).to_dict()\n",
    "df['PULocationIDFreq'] = df['PULocationID'].apply(lambda x: pulocation_id_freq_map[x])\n",
    "# convertimos DOLocationID\n",
    "dolocation_id_freq_map = (df['DOLocationID'].value_counts(sort=True) / total_items).to_dict()\n",
    "df['DOLocationIDFreq'] = df['DOLocationID'].apply(lambda x: dolocation_id_freq_map[x])\n",
    "\n",
    "#pongo en 0 todas las categorías con menor frecuencia que <location_id_min_th_count>\n",
    "def clear_location_low_values(x, th):\n",
    "  if x <= th:\n",
    "    return 0\n",
    "  return x\n",
    "\n",
    "df['PULocationIDFreq'] = df['PULocationIDFreq'].apply(lambda x: clear_location_low_values(x, location_id_min_th_count))\n",
    "df['DOLocationIDFreq'] = df['DOLocationIDFreq'].apply(lambda x: clear_location_low_values(x, location_id_min_th_count))\n"
   ]
  },
  {
   "cell_type": "markdown",
   "metadata": {},
   "source": [
    "#### 2.2.3 Balance de la variable de salida"
   ]
  },
  {
   "cell_type": "code",
   "execution_count": 235,
   "metadata": {},
   "outputs": [
    {
     "data": {
      "text/plain": [
       "(1, 265)"
      ]
     },
     "execution_count": 235,
     "metadata": {},
     "output_type": "execute_result"
    }
   ],
   "source": [
    "#verifico el rango de los ids\n",
    "df['DOLocationID'].min(), df['DOLocationID'].max()\n"
   ]
  },
  {
   "cell_type": "code",
   "execution_count": 236,
   "metadata": {},
   "outputs": [
    {
     "data": {
      "text/plain": [
       "(array([0, 0, 0, 0, 0, 0, 0, 0, 0, 0]), 11511.39)"
      ]
     },
     "execution_count": 236,
     "metadata": {},
     "output_type": "execute_result"
    }
   ],
   "source": [
    "#asigno a la categoria 0 a todos los que aparecen por debajo del 1%\n",
    "location_id_min_th_count = 0.01 * len(df)\n",
    "df['DOLocationIDTruncated'] = df['DOLocationID'].apply(lambda x: clear_location_low_values(x, location_id_min_th_count))\n",
    "df['DOLocationIDTruncated'].values[:10], location_id_min_th_count\n"
   ]
  },
  {
   "cell_type": "code",
   "execution_count": 237,
   "metadata": {},
   "outputs": [
    {
     "data": {
      "text/html": [
       "<div>\n",
       "<style scoped>\n",
       "    .dataframe tbody tr th:only-of-type {\n",
       "        vertical-align: middle;\n",
       "    }\n",
       "\n",
       "    .dataframe tbody tr th {\n",
       "        vertical-align: top;\n",
       "    }\n",
       "\n",
       "    .dataframe thead th {\n",
       "        text-align: right;\n",
       "    }\n",
       "</style>\n",
       "<table border=\"1\" class=\"dataframe\">\n",
       "  <thead>\n",
       "    <tr style=\"text-align: right;\">\n",
       "      <th></th>\n",
       "      <th>VendorID</th>\n",
       "      <th>passenger_count</th>\n",
       "      <th>trip_distance</th>\n",
       "      <th>RatecodeID</th>\n",
       "      <th>PULocationID</th>\n",
       "      <th>DOLocationID</th>\n",
       "      <th>payment_type</th>\n",
       "      <th>fare_amount</th>\n",
       "      <th>extra</th>\n",
       "      <th>mta_tax</th>\n",
       "      <th>tip_amount</th>\n",
       "      <th>tolls_amount</th>\n",
       "      <th>improvement_surcharge</th>\n",
       "      <th>total_amount</th>\n",
       "      <th>congestion_surcharge</th>\n",
       "      <th>duration</th>\n",
       "      <th>PULocationIDFreq</th>\n",
       "      <th>DOLocationIDFreq</th>\n",
       "      <th>DOLocationIDTruncated</th>\n",
       "    </tr>\n",
       "  </thead>\n",
       "  <tbody>\n",
       "    <tr>\n",
       "      <th>count</th>\n",
       "      <td>1151139.000</td>\n",
       "      <td>1151139.000</td>\n",
       "      <td>1151139.000</td>\n",
       "      <td>1151139.000</td>\n",
       "      <td>1151139.000</td>\n",
       "      <td>1151139.000</td>\n",
       "      <td>1151139.000</td>\n",
       "      <td>1151139.000</td>\n",
       "      <td>1151139.000</td>\n",
       "      <td>1151139.000</td>\n",
       "      <td>1151139.000</td>\n",
       "      <td>1151139.000</td>\n",
       "      <td>1151139.000</td>\n",
       "      <td>1151139.000</td>\n",
       "      <td>1151139.000</td>\n",
       "      <td>1151139.000</td>\n",
       "      <td>1151139.000</td>\n",
       "      <td>1151139.000</td>\n",
       "      <td>1151139.000</td>\n",
       "    </tr>\n",
       "    <tr>\n",
       "      <th>mean</th>\n",
       "      <td>1.670</td>\n",
       "      <td>1.494</td>\n",
       "      <td>2.866</td>\n",
       "      <td>1.040</td>\n",
       "      <td>166.104</td>\n",
       "      <td>164.038</td>\n",
       "      <td>1.000</td>\n",
       "      <td>12.457</td>\n",
       "      <td>1.132</td>\n",
       "      <td>0.498</td>\n",
       "      <td>2.950</td>\n",
       "      <td>0.341</td>\n",
       "      <td>0.300</td>\n",
       "      <td>19.276</td>\n",
       "      <td>2.378</td>\n",
       "      <td>949.195</td>\n",
       "      <td>0.024</td>\n",
       "      <td>0.020</td>\n",
       "      <td>0.000</td>\n",
       "    </tr>\n",
       "    <tr>\n",
       "      <th>std</th>\n",
       "      <td>0.470</td>\n",
       "      <td>1.140</td>\n",
       "      <td>3.677</td>\n",
       "      <td>0.298</td>\n",
       "      <td>65.258</td>\n",
       "      <td>69.309</td>\n",
       "      <td>0.000</td>\n",
       "      <td>10.941</td>\n",
       "      <td>1.254</td>\n",
       "      <td>0.031</td>\n",
       "      <td>2.685</td>\n",
       "      <td>1.684</td>\n",
       "      <td>0.003</td>\n",
       "      <td>14.062</td>\n",
       "      <td>0.538</td>\n",
       "      <td>3573.600</td>\n",
       "      <td>0.013</td>\n",
       "      <td>0.013</td>\n",
       "      <td>0.000</td>\n",
       "    </tr>\n",
       "    <tr>\n",
       "      <th>min</th>\n",
       "      <td>1.000</td>\n",
       "      <td>0.000</td>\n",
       "      <td>0.010</td>\n",
       "      <td>1.000</td>\n",
       "      <td>1.000</td>\n",
       "      <td>1.000</td>\n",
       "      <td>1.000</td>\n",
       "      <td>0.000</td>\n",
       "      <td>0.000</td>\n",
       "      <td>0.000</td>\n",
       "      <td>0.000</td>\n",
       "      <td>0.000</td>\n",
       "      <td>0.000</td>\n",
       "      <td>0.000</td>\n",
       "      <td>0.000</td>\n",
       "      <td>-166222.000</td>\n",
       "      <td>0.000</td>\n",
       "      <td>0.000</td>\n",
       "      <td>0.000</td>\n",
       "    </tr>\n",
       "    <tr>\n",
       "      <th>25%</th>\n",
       "      <td>1.000</td>\n",
       "      <td>1.000</td>\n",
       "      <td>1.000</td>\n",
       "      <td>1.000</td>\n",
       "      <td>132.000</td>\n",
       "      <td>113.000</td>\n",
       "      <td>1.000</td>\n",
       "      <td>6.500</td>\n",
       "      <td>0.000</td>\n",
       "      <td>0.500</td>\n",
       "      <td>1.750</td>\n",
       "      <td>0.000</td>\n",
       "      <td>0.300</td>\n",
       "      <td>11.800</td>\n",
       "      <td>2.500</td>\n",
       "      <td>400.000</td>\n",
       "      <td>0.018</td>\n",
       "      <td>0.012</td>\n",
       "      <td>0.000</td>\n",
       "    </tr>\n",
       "    <tr>\n",
       "      <th>50%</th>\n",
       "      <td>2.000</td>\n",
       "      <td>1.000</td>\n",
       "      <td>1.650</td>\n",
       "      <td>1.000</td>\n",
       "      <td>162.000</td>\n",
       "      <td>162.000</td>\n",
       "      <td>1.000</td>\n",
       "      <td>9.000</td>\n",
       "      <td>0.500</td>\n",
       "      <td>0.500</td>\n",
       "      <td>2.320</td>\n",
       "      <td>0.000</td>\n",
       "      <td>0.300</td>\n",
       "      <td>14.800</td>\n",
       "      <td>2.500</td>\n",
       "      <td>645.000</td>\n",
       "      <td>0.024</td>\n",
       "      <td>0.021</td>\n",
       "      <td>0.000</td>\n",
       "    </tr>\n",
       "    <tr>\n",
       "      <th>75%</th>\n",
       "      <td>2.000</td>\n",
       "      <td>2.000</td>\n",
       "      <td>2.910</td>\n",
       "      <td>1.000</td>\n",
       "      <td>234.000</td>\n",
       "      <td>234.000</td>\n",
       "      <td>1.000</td>\n",
       "      <td>13.500</td>\n",
       "      <td>2.500</td>\n",
       "      <td>0.500</td>\n",
       "      <td>3.260</td>\n",
       "      <td>0.000</td>\n",
       "      <td>0.300</td>\n",
       "      <td>20.350</td>\n",
       "      <td>2.500</td>\n",
       "      <td>1021.000</td>\n",
       "      <td>0.033</td>\n",
       "      <td>0.028</td>\n",
       "      <td>0.000</td>\n",
       "    </tr>\n",
       "    <tr>\n",
       "      <th>max</th>\n",
       "      <td>2.000</td>\n",
       "      <td>9.000</td>\n",
       "      <td>156.670</td>\n",
       "      <td>99.000</td>\n",
       "      <td>265.000</td>\n",
       "      <td>265.000</td>\n",
       "      <td>1.000</td>\n",
       "      <td>433.000</td>\n",
       "      <td>33.750</td>\n",
       "      <td>0.500</td>\n",
       "      <td>500.000</td>\n",
       "      <td>600.040</td>\n",
       "      <td>0.300</td>\n",
       "      <td>846.590</td>\n",
       "      <td>2.750</td>\n",
       "      <td>86385.000</td>\n",
       "      <td>0.046</td>\n",
       "      <td>0.047</td>\n",
       "      <td>0.000</td>\n",
       "    </tr>\n",
       "  </tbody>\n",
       "</table>\n",
       "</div>"
      ],
      "text/plain": [
       "         VendorID  passenger_count  trip_distance  RatecodeID  PULocationID  \\\n",
       "count 1151139.000      1151139.000    1151139.000 1151139.000   1151139.000   \n",
       "mean        1.670            1.494          2.866       1.040       166.104   \n",
       "std         0.470            1.140          3.677       0.298        65.258   \n",
       "min         1.000            0.000          0.010       1.000         1.000   \n",
       "25%         1.000            1.000          1.000       1.000       132.000   \n",
       "50%         2.000            1.000          1.650       1.000       162.000   \n",
       "75%         2.000            2.000          2.910       1.000       234.000   \n",
       "max         2.000            9.000        156.670      99.000       265.000   \n",
       "\n",
       "       DOLocationID  payment_type  fare_amount       extra     mta_tax  \\\n",
       "count   1151139.000   1151139.000  1151139.000 1151139.000 1151139.000   \n",
       "mean        164.038         1.000       12.457       1.132       0.498   \n",
       "std          69.309         0.000       10.941       1.254       0.031   \n",
       "min           1.000         1.000        0.000       0.000       0.000   \n",
       "25%         113.000         1.000        6.500       0.000       0.500   \n",
       "50%         162.000         1.000        9.000       0.500       0.500   \n",
       "75%         234.000         1.000       13.500       2.500       0.500   \n",
       "max         265.000         1.000      433.000      33.750       0.500   \n",
       "\n",
       "       tip_amount  tolls_amount  improvement_surcharge  total_amount  \\\n",
       "count 1151139.000   1151139.000            1151139.000   1151139.000   \n",
       "mean        2.950         0.341                  0.300        19.276   \n",
       "std         2.685         1.684                  0.003        14.062   \n",
       "min         0.000         0.000                  0.000         0.000   \n",
       "25%         1.750         0.000                  0.300        11.800   \n",
       "50%         2.320         0.000                  0.300        14.800   \n",
       "75%         3.260         0.000                  0.300        20.350   \n",
       "max       500.000       600.040                  0.300       846.590   \n",
       "\n",
       "       congestion_surcharge    duration  PULocationIDFreq  DOLocationIDFreq  \\\n",
       "count           1151139.000 1151139.000       1151139.000       1151139.000   \n",
       "mean                  2.378     949.195             0.024             0.020   \n",
       "std                   0.538    3573.600             0.013             0.013   \n",
       "min                   0.000 -166222.000             0.000             0.000   \n",
       "25%                   2.500     400.000             0.018             0.012   \n",
       "50%                   2.500     645.000             0.024             0.021   \n",
       "75%                   2.500    1021.000             0.033             0.028   \n",
       "max                   2.750   86385.000             0.046             0.047   \n",
       "\n",
       "       DOLocationIDTruncated  \n",
       "count            1151139.000  \n",
       "mean                   0.000  \n",
       "std                    0.000  \n",
       "min                    0.000  \n",
       "25%                    0.000  \n",
       "50%                    0.000  \n",
       "75%                    0.000  \n",
       "max                    0.000  "
      ]
     },
     "execution_count": 237,
     "metadata": {},
     "output_type": "execute_result"
    }
   ],
   "source": [
    "df.describe()"
   ]
  },
  {
   "cell_type": "markdown",
   "metadata": {},
   "source": [
    "### 2.3 Selección final de las features"
   ]
  },
  {
   "cell_type": "markdown",
   "metadata": {},
   "source": [
    "En base al procesamiento anterior, seleccionamos los siguientes features del dataset:"
   ]
  },
  {
   "cell_type": "code",
   "execution_count": 248,
   "metadata": {},
   "outputs": [],
   "source": [
    "\n",
    "feature_cols = [\n",
    "  'passenger_count', 'trip_distance', 'fare_amount', 'extra', \n",
    "  'mta_tax', 'tip_amount', 'tolls_amount', \n",
    "  'improvement_surcharge', 'total_amount', \n",
    "  'congestion_surcharge', 'duration', 'PULocationIDFreq',\n",
    "  'morning', 'afternoon', 'evening']\n",
    "# target_col = ['DOLocationID']\n",
    "\n",
    "X = df[feature_cols]\n",
    "y = df['DOLocationIDTruncated']"
   ]
  },
  {
   "cell_type": "code",
   "execution_count": 249,
   "metadata": {},
   "outputs": [
    {
     "data": {
      "text/plain": [
       "(1151139,)"
      ]
     },
     "execution_count": 249,
     "metadata": {},
     "output_type": "execute_result"
    }
   ],
   "source": [
    "y.shape"
   ]
  },
  {
   "cell_type": "markdown",
   "metadata": {},
   "source": [
    "#### 2.3.1 Selección de features con el coeficiente de Kendall"
   ]
  },
  {
   "cell_type": "markdown",
   "metadata": {},
   "source": [
    "El coeficiente de Kendall permite analizar la correlación entre variables numéricas de entrada y una variable de salida categórica (DOLocationID). \n",
    "- Test de correlación de Kendall: \n",
    "    - Test no paramétrico, i.e. no asume ninguna distribución de los datos\n",
    "    - $H_0$: Las variables son independientes, $H_1$: Las variables no son independientes.\n",
    "    - Se basa en el estadístico $\\tau = {\\frac {2}{n(n-1)}}\\sum _{i<j}{sgn}(x_{i}-x_{j}){sgn}(y_{i}-y_{j})$ \n",
    "    - Orden $n^2$, si hay muchos datos puede ser muy costoso."
   ]
  },
  {
   "cell_type": "code",
   "execution_count": 250,
   "metadata": {},
   "outputs": [
    {
     "data": {
      "image/png": "[encoded data removed]",
      "text/plain": [
       "<Figure size 1584x1152 with 2 Axes>"
      ]
     },
     "metadata": {},
     "output_type": "display_data"
    }
   ],
   "source": [
    "fig, axes = plt.subplots(1,1,figsize=(22,16))\n",
    "\n",
    "tau = df.corr(method='kendall')\n",
    "axes.set_title(\"Kendall\")\n",
    "sns.heatmap(tau, cmap=sns.diverging_palette(220,10,as_cmap=True),annot=True,fmt=\".2f\")\n",
    "sns.set(font_scale=0.9)"
   ]
  },
  {
   "cell_type": "markdown",
   "metadata": {},
   "source": [
    "__Conclusión__:  \n",
    "Se detectan correlaciones fuertes (superior al 75%) entre los siguientes features:\n",
    "fare_amount - trip_distance (0.81)\n",
    "total_amount - trip_distance (0.77)\n",
    "total_amount - fare_amount (0.90)\n",
    "duration - fare_amount (0.86)\n",
    "duration - total_amount (0.80)\n",
    "\n",
    "Se concluye que podría llegar a seleccionarse entre total_amount y fare_amount en lugar de avanzar con ambas dada su alto grado de correlación"
   ]
  },
  {
   "cell_type": "markdown",
   "metadata": {},
   "source": [
    "## 3.Entrenamiento de modelos \n",
    "### 3.1 Separación de datos\n"
   ]
  },
  {
   "cell_type": "code",
   "execution_count": 264,
   "metadata": {},
   "outputs": [],
   "source": [
    "# Particionamos en train y test\n",
    "train_ratio = 0.7\n",
    "test_ratio = 0.3\n",
    "\n",
    "X_train, X_test, y_train, y_test = train_test_split(X, y, stratify=y, random_state=1)\n"
   ]
  },
  {
   "cell_type": "code",
   "execution_count": 265,
   "metadata": {},
   "outputs": [
    {
     "name": "stdout",
     "output_type": "stream",
     "text": [
      "train size=(863354, 15)\n",
      "test size=(287785, 15)\n"
     ]
    }
   ],
   "source": [
    "#imprimo tamaños de los dataset de train y test\n",
    "print(f'train size={X_train.shape}')\n",
    "print(f'test size={X_test.shape}')"
   ]
  },
  {
   "cell_type": "markdown",
   "metadata": {},
   "source": [
    "### 3.2 Random Forest"
   ]
  },
  {
   "cell_type": "code",
   "execution_count": 253,
   "metadata": {},
   "outputs": [],
   "source": [
    "from sklearn.ensemble import RandomForestClassifier"
   ]
  },
  {
   "cell_type": "code",
   "execution_count": 254,
   "metadata": {},
   "outputs": [],
   "source": [
    "total_trees = 100 # number of trees\n",
    "max_depth = 2\n",
    "\n",
    "rf = RandomForestClassifier(n_estimators = total_trees, max_depth = max_depth, random_state=0)"
   ]
  },
  {
   "cell_type": "code",
   "execution_count": 258,
   "metadata": {},
   "outputs": [
    {
     "data": {
      "text/plain": [
       "RandomForestClassifier(max_depth=2, random_state=0)"
      ]
     },
     "execution_count": 258,
     "metadata": {},
     "output_type": "execute_result"
    }
   ],
   "source": [
    "# rf.fit(X_train, y_train.values.reshape(-1))\n",
    "rf.fit(X_train, y_train)"
   ]
  },
  {
   "cell_type": "code",
   "execution_count": 259,
   "metadata": {},
   "outputs": [],
   "source": [
    "\n",
    "# Utilizamos el método de predicción en los datos de prueba\n",
    "y_rf_pred = rf.predict(X_test)"
   ]
  },
  {
   "cell_type": "code",
   "execution_count": 260,
   "metadata": {},
   "outputs": [
    {
     "name": "stdout",
     "output_type": "stream",
     "text": [
      "              precision    recall  f1-score   support\n",
      "\n",
      "           0       1.00      1.00      1.00    287785\n",
      "\n",
      "    accuracy                           1.00    287785\n",
      "   macro avg       1.00      1.00      1.00    287785\n",
      "weighted avg       1.00      1.00      1.00    287785\n",
      "\n"
     ]
    },
    {
     "ename": "ValueError",
     "evalue": "Only one class present in y_true. ROC AUC score is not defined in that case.",
     "output_type": "error",
     "traceback": [
      "\u001b[0;31m---------------------------------------------------------------------------\u001b[0m",
      "\u001b[0;31mValueError\u001b[0m                                Traceback (most recent call last)",
      "Input \u001b[0;32mIn [260]\u001b[0m, in \u001b[0;36m<cell line: 2>\u001b[0;34m()\u001b[0m\n\u001b[1;32m      1\u001b[0m \u001b[38;5;28mprint\u001b[39m(classification_report(y_test,y_rf_pred))\n\u001b[0;32m----> 2\u001b[0m \u001b[38;5;28mprint\u001b[39m(\u001b[38;5;124m'\u001b[39m\u001b[38;5;124mArea bajo la curva ROC:\u001b[39m\u001b[38;5;124m'\u001b[39m,np\u001b[38;5;241m.\u001b[39mround(\u001b[43mroc_auc_score\u001b[49m\u001b[43m(\u001b[49m\u001b[43my_test\u001b[49m\u001b[43m,\u001b[49m\u001b[43my_rf_pred\u001b[49m\u001b[43m)\u001b[49m,\u001b[38;5;241m4\u001b[39m))\n",
      "File \u001b[0;32m~/miniconda3/envs/automl/lib/python3.8/site-packages/sklearn/utils/validation.py:72\u001b[0m, in \u001b[0;36m_deprecate_positional_args.<locals>.inner_f\u001b[0;34m(*args, **kwargs)\u001b[0m\n\u001b[1;32m     67\u001b[0m     warnings\u001b[38;5;241m.\u001b[39mwarn(\u001b[38;5;124m\"\u001b[39m\u001b[38;5;124mPass \u001b[39m\u001b[38;5;132;01m{}\u001b[39;00m\u001b[38;5;124m as keyword args. From version 0.25 \u001b[39m\u001b[38;5;124m\"\u001b[39m\n\u001b[1;32m     68\u001b[0m                   \u001b[38;5;124m\"\u001b[39m\u001b[38;5;124mpassing these as positional arguments will \u001b[39m\u001b[38;5;124m\"\u001b[39m\n\u001b[1;32m     69\u001b[0m                   \u001b[38;5;124m\"\u001b[39m\u001b[38;5;124mresult in an error\u001b[39m\u001b[38;5;124m\"\u001b[39m\u001b[38;5;241m.\u001b[39mformat(\u001b[38;5;124m\"\u001b[39m\u001b[38;5;124m, \u001b[39m\u001b[38;5;124m\"\u001b[39m\u001b[38;5;241m.\u001b[39mjoin(args_msg)),\n\u001b[1;32m     70\u001b[0m                   \u001b[38;5;167;01mFutureWarning\u001b[39;00m)\n\u001b[1;32m     71\u001b[0m kwargs\u001b[38;5;241m.\u001b[39mupdate({k: arg \u001b[38;5;28;01mfor\u001b[39;00m k, arg \u001b[38;5;129;01min\u001b[39;00m \u001b[38;5;28mzip\u001b[39m(sig\u001b[38;5;241m.\u001b[39mparameters, args)})\n\u001b[0;32m---> 72\u001b[0m \u001b[38;5;28;01mreturn\u001b[39;00m \u001b[43mf\u001b[49m\u001b[43m(\u001b[49m\u001b[38;5;241;43m*\u001b[39;49m\u001b[38;5;241;43m*\u001b[39;49m\u001b[43mkwargs\u001b[49m\u001b[43m)\u001b[49m\n",
      "File \u001b[0;32m~/miniconda3/envs/automl/lib/python3.8/site-packages/sklearn/metrics/_ranking.py:390\u001b[0m, in \u001b[0;36mroc_auc_score\u001b[0;34m(y_true, y_score, average, sample_weight, max_fpr, multi_class, labels)\u001b[0m\n\u001b[1;32m    388\u001b[0m     labels \u001b[38;5;241m=\u001b[39m np\u001b[38;5;241m.\u001b[39munique(y_true)\n\u001b[1;32m    389\u001b[0m     y_true \u001b[38;5;241m=\u001b[39m label_binarize(y_true, classes\u001b[38;5;241m=\u001b[39mlabels)[:, \u001b[38;5;241m0\u001b[39m]\n\u001b[0;32m--> 390\u001b[0m     \u001b[38;5;28;01mreturn\u001b[39;00m \u001b[43m_average_binary_score\u001b[49m\u001b[43m(\u001b[49m\u001b[43mpartial\u001b[49m\u001b[43m(\u001b[49m\u001b[43m_binary_roc_auc_score\u001b[49m\u001b[43m,\u001b[49m\n\u001b[1;32m    391\u001b[0m \u001b[43m                                         \u001b[49m\u001b[43mmax_fpr\u001b[49m\u001b[38;5;241;43m=\u001b[39;49m\u001b[43mmax_fpr\u001b[49m\u001b[43m)\u001b[49m\u001b[43m,\u001b[49m\n\u001b[1;32m    392\u001b[0m \u001b[43m                                 \u001b[49m\u001b[43my_true\u001b[49m\u001b[43m,\u001b[49m\u001b[43m \u001b[49m\u001b[43my_score\u001b[49m\u001b[43m,\u001b[49m\u001b[43m \u001b[49m\u001b[43maverage\u001b[49m\u001b[43m,\u001b[49m\n\u001b[1;32m    393\u001b[0m \u001b[43m                                 \u001b[49m\u001b[43msample_weight\u001b[49m\u001b[38;5;241;43m=\u001b[39;49m\u001b[43msample_weight\u001b[49m\u001b[43m)\u001b[49m\n\u001b[1;32m    394\u001b[0m \u001b[38;5;28;01melse\u001b[39;00m:  \u001b[38;5;66;03m# multilabel-indicator\u001b[39;00m\n\u001b[1;32m    395\u001b[0m     \u001b[38;5;28;01mreturn\u001b[39;00m _average_binary_score(partial(_binary_roc_auc_score,\n\u001b[1;32m    396\u001b[0m                                          max_fpr\u001b[38;5;241m=\u001b[39mmax_fpr),\n\u001b[1;32m    397\u001b[0m                                  y_true, y_score, average,\n\u001b[1;32m    398\u001b[0m                                  sample_weight\u001b[38;5;241m=\u001b[39msample_weight)\n",
      "File \u001b[0;32m~/miniconda3/envs/automl/lib/python3.8/site-packages/sklearn/metrics/_base.py:77\u001b[0m, in \u001b[0;36m_average_binary_score\u001b[0;34m(binary_metric, y_true, y_score, average, sample_weight)\u001b[0m\n\u001b[1;32m     74\u001b[0m     \u001b[38;5;28;01mraise\u001b[39;00m \u001b[38;5;167;01mValueError\u001b[39;00m(\u001b[38;5;124m\"\u001b[39m\u001b[38;5;132;01m{0}\u001b[39;00m\u001b[38;5;124m format is not supported\u001b[39m\u001b[38;5;124m\"\u001b[39m\u001b[38;5;241m.\u001b[39mformat(y_type))\n\u001b[1;32m     76\u001b[0m \u001b[38;5;28;01mif\u001b[39;00m y_type \u001b[38;5;241m==\u001b[39m \u001b[38;5;124m\"\u001b[39m\u001b[38;5;124mbinary\u001b[39m\u001b[38;5;124m\"\u001b[39m:\n\u001b[0;32m---> 77\u001b[0m     \u001b[38;5;28;01mreturn\u001b[39;00m \u001b[43mbinary_metric\u001b[49m\u001b[43m(\u001b[49m\u001b[43my_true\u001b[49m\u001b[43m,\u001b[49m\u001b[43m \u001b[49m\u001b[43my_score\u001b[49m\u001b[43m,\u001b[49m\u001b[43m \u001b[49m\u001b[43msample_weight\u001b[49m\u001b[38;5;241;43m=\u001b[39;49m\u001b[43msample_weight\u001b[49m\u001b[43m)\u001b[49m\n\u001b[1;32m     79\u001b[0m check_consistent_length(y_true, y_score, sample_weight)\n\u001b[1;32m     80\u001b[0m y_true \u001b[38;5;241m=\u001b[39m check_array(y_true)\n",
      "File \u001b[0;32m~/miniconda3/envs/automl/lib/python3.8/site-packages/sklearn/metrics/_ranking.py:223\u001b[0m, in \u001b[0;36m_binary_roc_auc_score\u001b[0;34m(y_true, y_score, sample_weight, max_fpr)\u001b[0m\n\u001b[1;32m    221\u001b[0m \u001b[38;5;124;03m\"\"\"Binary roc auc score\"\"\"\u001b[39;00m\n\u001b[1;32m    222\u001b[0m \u001b[38;5;28;01mif\u001b[39;00m \u001b[38;5;28mlen\u001b[39m(np\u001b[38;5;241m.\u001b[39munique(y_true)) \u001b[38;5;241m!=\u001b[39m \u001b[38;5;241m2\u001b[39m:\n\u001b[0;32m--> 223\u001b[0m     \u001b[38;5;28;01mraise\u001b[39;00m \u001b[38;5;167;01mValueError\u001b[39;00m(\u001b[38;5;124m\"\u001b[39m\u001b[38;5;124mOnly one class present in y_true. ROC AUC score \u001b[39m\u001b[38;5;124m\"\u001b[39m\n\u001b[1;32m    224\u001b[0m                      \u001b[38;5;124m\"\u001b[39m\u001b[38;5;124mis not defined in that case.\u001b[39m\u001b[38;5;124m\"\u001b[39m)\n\u001b[1;32m    226\u001b[0m fpr, tpr, _ \u001b[38;5;241m=\u001b[39m roc_curve(y_true, y_score,\n\u001b[1;32m    227\u001b[0m                         sample_weight\u001b[38;5;241m=\u001b[39msample_weight)\n\u001b[1;32m    228\u001b[0m \u001b[38;5;28;01mif\u001b[39;00m max_fpr \u001b[38;5;129;01mis\u001b[39;00m \u001b[38;5;28;01mNone\u001b[39;00m \u001b[38;5;129;01mor\u001b[39;00m max_fpr \u001b[38;5;241m==\u001b[39m \u001b[38;5;241m1\u001b[39m:\n",
      "\u001b[0;31mValueError\u001b[0m: Only one class present in y_true. ROC AUC score is not defined in that case."
     ]
    }
   ],
   "source": [
    "print(classification_report(y_test,y_rf_pred))\n",
    "print('Area bajo la curva ROC:',np.round(roc_auc_score(y_test,y_rf_pred),4))\n",
    "# rf_precision, rf_recall, rf_threshold=precision_recall_curve(y_test, y_rf_pred)\n",
    "# print('Area bajo la curva Precision-Recall:',np.round(auc(rf_recall,rf_precision),4))\n",
    "# plot_confusion_matrix(rf, X_test, y_test,cmap='Blues')"
   ]
  },
  {
   "cell_type": "markdown",
   "metadata": {},
   "source": [
    "### 3.3 Regresión logística"
   ]
  },
  {
   "cell_type": "code",
   "execution_count": 266,
   "metadata": {},
   "outputs": [],
   "source": [
    "def logistic_regression_report(X_train,X_test,y_train,y_test):\n",
    "    \n",
    "    scaler=StandardScaler()  \n",
    "    \n",
    "    X_train_sc=scaler.fit_transform(X_train) # Estandarizamos los datos     \n",
    "    X_test_sc=scaler.transform(X_test)\n",
    "        \n",
    "    model=LogisticRegressionCV(scoring='f1')\n",
    "    \n",
    "    model.fit(X_train_sc,y_train)\n",
    "    y_pred=model.predict(X_test_sc)\n",
    "    y_proba=model.predict_proba(X_test_sc)\n",
    "    \n",
    "    print(classification_report(y_test,y_pred))    \n",
    "    print('Area bajo la curva ROC:',np.round(roc_auc_score(y_test,y_proba[:,1]),4))    \n",
    "    precision, recall,threshold=precision_recall_curve(y_test,y_proba[:,1])\n",
    "    print('Area bajo la curva Precision-Recall:',np.round(auc(recall,precision),4))\n",
    "    print(f'Precision:{precision}, Recall: {recall}:')\n",
    "    plot_confusion_matrix(model,X_test_sc,y_test,cmap='Blues')"
   ]
  },
  {
   "cell_type": "code",
   "execution_count": 267,
   "metadata": {},
   "outputs": [
    {
     "ename": "ValueError",
     "evalue": "This solver needs samples of at least 2 classes in the data, but the data contains only one class: 0",
     "output_type": "error",
     "traceback": [
      "\u001b[0;31m---------------------------------------------------------------------------\u001b[0m",
      "\u001b[0;31mValueError\u001b[0m                                Traceback (most recent call last)",
      "Input \u001b[0;32mIn [267]\u001b[0m, in \u001b[0;36m<cell line: 2>\u001b[0;34m()\u001b[0m\n\u001b[1;32m      1\u001b[0m \u001b[38;5;66;03m#corremos el modelo de regresión lineal\u001b[39;00m\n\u001b[0;32m----> 2\u001b[0m \u001b[43mlogistic_regression_report\u001b[49m\u001b[43m(\u001b[49m\u001b[43mX_train\u001b[49m\u001b[43m,\u001b[49m\u001b[43m \u001b[49m\u001b[43mX_test\u001b[49m\u001b[43m,\u001b[49m\u001b[43m \u001b[49m\u001b[43my_train\u001b[49m\u001b[43m,\u001b[49m\u001b[43m \u001b[49m\u001b[43my_test\u001b[49m\u001b[43m)\u001b[49m\n",
      "Input \u001b[0;32mIn [266]\u001b[0m, in \u001b[0;36mlogistic_regression_report\u001b[0;34m(X_train, X_test, y_train, y_test)\u001b[0m\n\u001b[1;32m      6\u001b[0m X_test_sc\u001b[38;5;241m=\u001b[39mscaler\u001b[38;5;241m.\u001b[39mtransform(X_test)\n\u001b[1;32m      8\u001b[0m model\u001b[38;5;241m=\u001b[39mLogisticRegressionCV(scoring\u001b[38;5;241m=\u001b[39m\u001b[38;5;124m'\u001b[39m\u001b[38;5;124mf1\u001b[39m\u001b[38;5;124m'\u001b[39m)\n\u001b[0;32m---> 10\u001b[0m \u001b[43mmodel\u001b[49m\u001b[38;5;241;43m.\u001b[39;49m\u001b[43mfit\u001b[49m\u001b[43m(\u001b[49m\u001b[43mX_train_sc\u001b[49m\u001b[43m,\u001b[49m\u001b[43my_train\u001b[49m\u001b[43m)\u001b[49m\n\u001b[1;32m     11\u001b[0m y_pred\u001b[38;5;241m=\u001b[39mmodel\u001b[38;5;241m.\u001b[39mpredict(X_test_sc)\n\u001b[1;32m     12\u001b[0m y_proba\u001b[38;5;241m=\u001b[39mmodel\u001b[38;5;241m.\u001b[39mpredict_proba(X_test_sc)\n",
      "File \u001b[0;32m~/miniconda3/envs/automl/lib/python3.8/site-packages/sklearn/linear_model/_logistic.py:1851\u001b[0m, in \u001b[0;36mLogisticRegressionCV.fit\u001b[0;34m(self, X, y, sample_weight)\u001b[0m\n\u001b[1;32m   1848\u001b[0m n_classes \u001b[38;5;241m=\u001b[39m \u001b[38;5;28mlen\u001b[39m(encoded_labels)\n\u001b[1;32m   1850\u001b[0m \u001b[38;5;28;01mif\u001b[39;00m n_classes \u001b[38;5;241m<\u001b[39m \u001b[38;5;241m2\u001b[39m:\n\u001b[0;32m-> 1851\u001b[0m     \u001b[38;5;28;01mraise\u001b[39;00m \u001b[38;5;167;01mValueError\u001b[39;00m(\u001b[38;5;124m\"\u001b[39m\u001b[38;5;124mThis solver needs samples of at least 2 classes\u001b[39m\u001b[38;5;124m\"\u001b[39m\n\u001b[1;32m   1852\u001b[0m                      \u001b[38;5;124m\"\u001b[39m\u001b[38;5;124m in the data, but the data contains only one\u001b[39m\u001b[38;5;124m\"\u001b[39m\n\u001b[1;32m   1853\u001b[0m                      \u001b[38;5;124m\"\u001b[39m\u001b[38;5;124m class: \u001b[39m\u001b[38;5;132;01m%r\u001b[39;00m\u001b[38;5;124m\"\u001b[39m \u001b[38;5;241m%\u001b[39m classes[\u001b[38;5;241m0\u001b[39m])\n\u001b[1;32m   1855\u001b[0m \u001b[38;5;28;01mif\u001b[39;00m n_classes \u001b[38;5;241m==\u001b[39m \u001b[38;5;241m2\u001b[39m:\n\u001b[1;32m   1856\u001b[0m     \u001b[38;5;66;03m# OvR in case of binary problems is as good as fitting\u001b[39;00m\n\u001b[1;32m   1857\u001b[0m     \u001b[38;5;66;03m# the higher label\u001b[39;00m\n\u001b[1;32m   1858\u001b[0m     n_classes \u001b[38;5;241m=\u001b[39m \u001b[38;5;241m1\u001b[39m\n",
      "\u001b[0;31mValueError\u001b[0m: This solver needs samples of at least 2 classes in the data, but the data contains only one class: 0"
     ]
    }
   ],
   "source": [
    "#corremos el modelo de regresión lineal\n",
    "logistic_regression_report(X_train, X_test, y_train, y_test)"
   ]
  },
  {
   "cell_type": "code",
   "execution_count": 284,
   "metadata": {},
   "outputs": [
    {
     "data": {
      "text/plain": [
       "array([0])"
      ]
     },
     "execution_count": 284,
     "metadata": {},
     "output_type": "execute_result"
    }
   ],
   "source": [
    "#logistic_regression_report(X_train, X_test, y_train, y_test)\n",
    "scaler = StandardScaler()  \n",
    "X_train_sc = scaler.fit_transform(X_train) # Estandarizamos los datos     \n",
    "X_test_sc = scaler.transform(X_test)\n",
    "df['DOLocationIDTruncated'].unique()"
   ]
  },
  {
   "cell_type": "code",
   "execution_count": 276,
   "metadata": {},
   "outputs": [
    {
     "ename": "ValueError",
     "evalue": "This solver needs samples of at least 2 classes in the data, but the data contains only one class: 0",
     "output_type": "error",
     "traceback": [
      "\u001b[0;31m---------------------------------------------------------------------------\u001b[0m",
      "\u001b[0;31mValueError\u001b[0m                                Traceback (most recent call last)",
      "Input \u001b[0;32mIn [276]\u001b[0m, in \u001b[0;36m<cell line: 2>\u001b[0;34m()\u001b[0m\n\u001b[1;32m      1\u001b[0m lr \u001b[38;5;241m=\u001b[39m LogisticRegression(random_state \u001b[38;5;241m=\u001b[39m \u001b[38;5;241m1\u001b[39m)\n\u001b[0;32m----> 2\u001b[0m \u001b[43mlr\u001b[49m\u001b[38;5;241;43m.\u001b[39;49m\u001b[43mfit\u001b[49m\u001b[43m(\u001b[49m\u001b[43mX_train_sc\u001b[49m\u001b[43m,\u001b[49m\u001b[43my_train\u001b[49m\u001b[43m)\u001b[49m\n\u001b[1;32m      3\u001b[0m y_lr_pred \u001b[38;5;241m=\u001b[39m lr\u001b[38;5;241m.\u001b[39mpredict(X_test_sc)\n\u001b[1;32m      4\u001b[0m lr_precision, lr_recall, lr_threshold\u001b[38;5;241m=\u001b[39mprecision_recall_curve(y_test,y_lr_pred)\n",
      "File \u001b[0;32m~/miniconda3/envs/automl/lib/python3.8/site-packages/sklearn/linear_model/_logistic.py:1372\u001b[0m, in \u001b[0;36mLogisticRegression.fit\u001b[0;34m(self, X, y, sample_weight)\u001b[0m\n\u001b[1;32m   1370\u001b[0m classes_ \u001b[38;5;241m=\u001b[39m \u001b[38;5;28mself\u001b[39m\u001b[38;5;241m.\u001b[39mclasses_\n\u001b[1;32m   1371\u001b[0m \u001b[38;5;28;01mif\u001b[39;00m n_classes \u001b[38;5;241m<\u001b[39m \u001b[38;5;241m2\u001b[39m:\n\u001b[0;32m-> 1372\u001b[0m     \u001b[38;5;28;01mraise\u001b[39;00m \u001b[38;5;167;01mValueError\u001b[39;00m(\u001b[38;5;124m\"\u001b[39m\u001b[38;5;124mThis solver needs samples of at least 2 classes\u001b[39m\u001b[38;5;124m\"\u001b[39m\n\u001b[1;32m   1373\u001b[0m                      \u001b[38;5;124m\"\u001b[39m\u001b[38;5;124m in the data, but the data contains only one\u001b[39m\u001b[38;5;124m\"\u001b[39m\n\u001b[1;32m   1374\u001b[0m                      \u001b[38;5;124m\"\u001b[39m\u001b[38;5;124m class: \u001b[39m\u001b[38;5;132;01m%r\u001b[39;00m\u001b[38;5;124m\"\u001b[39m \u001b[38;5;241m%\u001b[39m classes_[\u001b[38;5;241m0\u001b[39m])\n\u001b[1;32m   1376\u001b[0m \u001b[38;5;28;01mif\u001b[39;00m \u001b[38;5;28mlen\u001b[39m(\u001b[38;5;28mself\u001b[39m\u001b[38;5;241m.\u001b[39mclasses_) \u001b[38;5;241m==\u001b[39m \u001b[38;5;241m2\u001b[39m:\n\u001b[1;32m   1377\u001b[0m     n_classes \u001b[38;5;241m=\u001b[39m \u001b[38;5;241m1\u001b[39m\n",
      "\u001b[0;31mValueError\u001b[0m: This solver needs samples of at least 2 classes in the data, but the data contains only one class: 0"
     ]
    }
   ],
   "source": [
    "\n",
    "lr = LogisticRegression(random_state = 1)\n",
    "lr.fit(X_train_sc,y_train)\n",
    "y_lr_pred = lr.predict(X_test_sc)\n",
    "lr_precision, lr_recall, lr_threshold=precision_recall_curve(y_test,y_lr_pred)\n",
    "\n",
    "lr_precision, lr_recall, lr_threshold"
   ]
  },
  {
   "cell_type": "code",
   "execution_count": null,
   "metadata": {},
   "outputs": [],
   "source": [
    "lr_precision"
   ]
  },
  {
   "cell_type": "markdown",
   "metadata": {},
   "source": [
    "# TODO - Falta terminar\n",
    "\n",
    "1. Aplicar filtrado Kendall para analizar las variables de entrada con respecto a la de salida\n",
    "2. Analizar variables con poca varianza\n",
    "3. Quedarse con las 10 Locations mas importantes de Pick Up y Drop Off y todas las otras meterlas en un id 0 (others)\n",
    "4. Correr Random Forest y Linear regression. Obtener los feature importance.\n",
    "5. Ejecutar pyCaret para ver en que concluye el automl"
   ]
  }
 ],
 "metadata": {
  "kernelspec": {
   "display_name": "Python 3.9.13 ('tp-ia')",
   "language": "python",
   "name": "python3"
  },
  "language_info": {
   "codemirror_mode": {
    "name": "ipython",
    "version": 3
   },
   "file_extension": ".py",
   "mimetype": "text/x-python",
   "name": "python",
   "nbconvert_exporter": "python",
   "pygments_lexer": "ipython3",
   "version": "3.8.13"
  },
  "vscode": {
   "interpreter": {
    "hash": "ff0b56c2c11e01fc93064e55eb1d315134029652b3f23c7e2f48e46ed7de5886"
   }
  }
 },
 "nbformat": 4,
 "nbformat_minor": 4
}
