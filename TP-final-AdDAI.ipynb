{
 "cells": [
  {
   "cell_type": "markdown",
   "metadata": {
    "slideshow": {
     "slide_type": "slide"
    }
   },
   "source": [
    "# Trabajo Final. Análisis de Datos"
   ]
  },
  {
   "cell_type": "markdown",
   "metadata": {},
   "source": [
    "## Alumnos:\n",
    "\n",
    "### Domenje, Carlos R.\n",
    "\n",
    "### Fux, Santiago.\n",
    "\n",
    "---"
   ]
  },
  {
   "cell_type": "markdown",
   "metadata": {
    "slideshow": {
     "slide_type": "slide"
    }
   },
   "source": [
    "## DATASET: Uso de Taxis Yellow Cab en USA en el año 2020\n",
    "\n",
    "**Problema.** Responderemos a la siguiente pregunta\n",
    "\n",
    "1. ¿Existe una manera de caracterizar los lugares más recurrentes para inicio / fin de viaje?\n"
   ]
  },
  {
   "cell_type": "markdown",
   "metadata": {},
   "source": [
    "## 1. Obtención de datos\n",
    "\n",
    "Para importar los datos, buscamos en la página web brindada por la cátedra:\n",
    "\n",
    "- [Yellow Cab - Dataset](https://www1.nyc.gov/site/tlc/about/tlc-trip-record-data.page)\n",
    "\n",
    "**Nota**: El dataset utilizado será el del año 2020, los tres primeros meses (Enero, Febrero, Marzo) y será descargado en una carpeta llamada \"data\" dentro de la carpeta contenedora del proyecto."
   ]
  },
  {
   "cell_type": "code",
   "execution_count": 84,
   "metadata": {
    "scrolled": true
   },
   "outputs": [],
   "source": [
    "# Path del dataset a utilizar.\n",
    "DATASET_PATH = r'./data'"
   ]
  },
  {
   "cell_type": "code",
   "execution_count": 85,
   "metadata": {},
   "outputs": [
    {
     "name": "stdout",
     "output_type": "stream",
     "text": [
      "yellow_tripdata_2020-01.parquet  yellow_tripdata_2020-03.parquet\n",
      "yellow_tripdata_2020-02.parquet\n"
     ]
    }
   ],
   "source": [
    "# listamos los archivos que se encuentran en el path\n",
    "!ls {DATASET_PATH}"
   ]
  },
  {
   "cell_type": "code",
   "execution_count": 86,
   "metadata": {},
   "outputs": [],
   "source": [
    "# Importamos las librerias necesarias para interactuar con el dataset.\n",
    "\n",
    "import pandas as pd\n",
    "import glob\n",
    "import matplotlib\n",
    "import matplotlib.pyplot as plt\n",
    "import numpy as np\n",
    "\n",
    "import sklearn as sk\n",
    "from sklearn.model_selection import train_test_split\n",
    "\n",
    "# Set decimals format with 3 decimals\n",
    "pd.set_option('display.float_format', lambda x: '%.3f' % x)"
   ]
  },
  {
   "cell_type": "code",
   "execution_count": 87,
   "metadata": {},
   "outputs": [
    {
     "data": {
      "text/html": [
       "<div>\n",
       "<style scoped>\n",
       "    .dataframe tbody tr th:only-of-type {\n",
       "        vertical-align: middle;\n",
       "    }\n",
       "\n",
       "    .dataframe tbody tr th {\n",
       "        vertical-align: top;\n",
       "    }\n",
       "\n",
       "    .dataframe thead th {\n",
       "        text-align: right;\n",
       "    }\n",
       "</style>\n",
       "<table border=\"1\" class=\"dataframe\">\n",
       "  <thead>\n",
       "    <tr style=\"text-align: right;\">\n",
       "      <th></th>\n",
       "      <th>VendorID</th>\n",
       "      <th>passenger_count</th>\n",
       "      <th>trip_distance</th>\n",
       "      <th>RatecodeID</th>\n",
       "      <th>PULocationID</th>\n",
       "      <th>DOLocationID</th>\n",
       "      <th>payment_type</th>\n",
       "      <th>fare_amount</th>\n",
       "      <th>extra</th>\n",
       "      <th>mta_tax</th>\n",
       "      <th>tip_amount</th>\n",
       "      <th>tolls_amount</th>\n",
       "      <th>improvement_surcharge</th>\n",
       "      <th>total_amount</th>\n",
       "      <th>congestion_surcharge</th>\n",
       "    </tr>\n",
       "  </thead>\n",
       "  <tbody>\n",
       "    <tr>\n",
       "      <th>count</th>\n",
       "      <td>1571207.000</td>\n",
       "      <td>1556043.000</td>\n",
       "      <td>1571207.000</td>\n",
       "      <td>1556043.000</td>\n",
       "      <td>1571207.000</td>\n",
       "      <td>1571207.000</td>\n",
       "      <td>1571207.000</td>\n",
       "      <td>1571207.000</td>\n",
       "      <td>1571207.000</td>\n",
       "      <td>1571207.000</td>\n",
       "      <td>1571207.000</td>\n",
       "      <td>1571207.000</td>\n",
       "      <td>1571207.000</td>\n",
       "      <td>1571207.000</td>\n",
       "      <td>1556043.000</td>\n",
       "    </tr>\n",
       "    <tr>\n",
       "      <th>mean</th>\n",
       "      <td>1.673</td>\n",
       "      <td>1.502</td>\n",
       "      <td>2.879</td>\n",
       "      <td>1.056</td>\n",
       "      <td>164.342</td>\n",
       "      <td>162.255</td>\n",
       "      <td>1.252</td>\n",
       "      <td>12.613</td>\n",
       "      <td>1.107</td>\n",
       "      <td>0.492</td>\n",
       "      <td>2.192</td>\n",
       "      <td>0.332</td>\n",
       "      <td>0.298</td>\n",
       "      <td>18.559</td>\n",
       "      <td>2.296</td>\n",
       "    </tr>\n",
       "    <tr>\n",
       "      <th>std</th>\n",
       "      <td>0.470</td>\n",
       "      <td>1.142</td>\n",
       "      <td>11.978</td>\n",
       "      <td>0.749</td>\n",
       "      <td>65.736</td>\n",
       "      <td>70.007</td>\n",
       "      <td>0.486</td>\n",
       "      <td>11.688</td>\n",
       "      <td>1.258</td>\n",
       "      <td>0.073</td>\n",
       "      <td>2.641</td>\n",
       "      <td>1.781</td>\n",
       "      <td>0.035</td>\n",
       "      <td>14.289</td>\n",
       "      <td>0.707</td>\n",
       "    </tr>\n",
       "    <tr>\n",
       "      <th>min</th>\n",
       "      <td>1.000</td>\n",
       "      <td>0.000</td>\n",
       "      <td>-30.620</td>\n",
       "      <td>1.000</td>\n",
       "      <td>1.000</td>\n",
       "      <td>1.000</td>\n",
       "      <td>0.000</td>\n",
       "      <td>-730.000</td>\n",
       "      <td>-4.500</td>\n",
       "      <td>-0.500</td>\n",
       "      <td>-56.840</td>\n",
       "      <td>-35.740</td>\n",
       "      <td>-0.300</td>\n",
       "      <td>-730.300</td>\n",
       "      <td>-2.500</td>\n",
       "    </tr>\n",
       "    <tr>\n",
       "      <th>25%</th>\n",
       "      <td>1.000</td>\n",
       "      <td>1.000</td>\n",
       "      <td>0.970</td>\n",
       "      <td>1.000</td>\n",
       "      <td>125.000</td>\n",
       "      <td>113.000</td>\n",
       "      <td>1.000</td>\n",
       "      <td>6.500</td>\n",
       "      <td>0.000</td>\n",
       "      <td>0.500</td>\n",
       "      <td>0.000</td>\n",
       "      <td>0.000</td>\n",
       "      <td>0.300</td>\n",
       "      <td>11.160</td>\n",
       "      <td>2.500</td>\n",
       "    </tr>\n",
       "    <tr>\n",
       "      <th>50%</th>\n",
       "      <td>2.000</td>\n",
       "      <td>1.000</td>\n",
       "      <td>1.600</td>\n",
       "      <td>1.000</td>\n",
       "      <td>162.000</td>\n",
       "      <td>162.000</td>\n",
       "      <td>1.000</td>\n",
       "      <td>9.000</td>\n",
       "      <td>0.500</td>\n",
       "      <td>0.500</td>\n",
       "      <td>1.950</td>\n",
       "      <td>0.000</td>\n",
       "      <td>0.300</td>\n",
       "      <td>14.300</td>\n",
       "      <td>2.500</td>\n",
       "    </tr>\n",
       "    <tr>\n",
       "      <th>75%</th>\n",
       "      <td>2.000</td>\n",
       "      <td>2.000</td>\n",
       "      <td>2.930</td>\n",
       "      <td>1.000</td>\n",
       "      <td>234.000</td>\n",
       "      <td>234.000</td>\n",
       "      <td>2.000</td>\n",
       "      <td>14.000</td>\n",
       "      <td>2.500</td>\n",
       "      <td>0.500</td>\n",
       "      <td>2.860</td>\n",
       "      <td>0.000</td>\n",
       "      <td>0.300</td>\n",
       "      <td>19.890</td>\n",
       "      <td>2.500</td>\n",
       "    </tr>\n",
       "    <tr>\n",
       "      <th>max</th>\n",
       "      <td>6.000</td>\n",
       "      <td>9.000</td>\n",
       "      <td>14099.310</td>\n",
       "      <td>99.000</td>\n",
       "      <td>265.000</td>\n",
       "      <td>265.000</td>\n",
       "      <td>4.000</td>\n",
       "      <td>655.350</td>\n",
       "      <td>87.560</td>\n",
       "      <td>3.300</td>\n",
       "      <td>300.880</td>\n",
       "      <td>853.550</td>\n",
       "      <td>0.300</td>\n",
       "      <td>906.350</td>\n",
       "      <td>2.750</td>\n",
       "    </tr>\n",
       "  </tbody>\n",
       "</table>\n",
       "</div>"
      ],
      "text/plain": [
       "         VendorID  passenger_count  trip_distance  RatecodeID  PULocationID  \\\n",
       "count 1571207.000      1556043.000    1571207.000 1556043.000   1571207.000   \n",
       "mean        1.673            1.502          2.879       1.056       164.342   \n",
       "std         0.470            1.142         11.978       0.749        65.736   \n",
       "min         1.000            0.000        -30.620       1.000         1.000   \n",
       "25%         1.000            1.000          0.970       1.000       125.000   \n",
       "50%         2.000            1.000          1.600       1.000       162.000   \n",
       "75%         2.000            2.000          2.930       1.000       234.000   \n",
       "max         6.000            9.000      14099.310      99.000       265.000   \n",
       "\n",
       "       DOLocationID  payment_type  fare_amount       extra     mta_tax  \\\n",
       "count   1571207.000   1571207.000  1571207.000 1571207.000 1571207.000   \n",
       "mean        162.255         1.252       12.613       1.107       0.492   \n",
       "std          70.007         0.486       11.688       1.258       0.073   \n",
       "min           1.000         0.000     -730.000      -4.500      -0.500   \n",
       "25%         113.000         1.000        6.500       0.000       0.500   \n",
       "50%         162.000         1.000        9.000       0.500       0.500   \n",
       "75%         234.000         2.000       14.000       2.500       0.500   \n",
       "max         265.000         4.000      655.350      87.560       3.300   \n",
       "\n",
       "       tip_amount  tolls_amount  improvement_surcharge  total_amount  \\\n",
       "count 1571207.000   1571207.000            1571207.000   1571207.000   \n",
       "mean        2.192         0.332                  0.298        18.559   \n",
       "std         2.641         1.781                  0.035        14.289   \n",
       "min       -56.840       -35.740                 -0.300      -730.300   \n",
       "25%         0.000         0.000                  0.300        11.160   \n",
       "50%         1.950         0.000                  0.300        14.300   \n",
       "75%         2.860         0.000                  0.300        19.890   \n",
       "max       300.880       853.550                  0.300       906.350   \n",
       "\n",
       "       congestion_surcharge  \n",
       "count           1556043.000  \n",
       "mean                  2.296  \n",
       "std                   0.707  \n",
       "min                  -2.500  \n",
       "25%                   2.500  \n",
       "50%                   2.500  \n",
       "75%                   2.500  \n",
       "max                   2.750  "
      ]
     },
     "execution_count": 87,
     "metadata": {},
     "output_type": "execute_result"
    }
   ],
   "source": [
    "# El archivo del dataset tiene como formato .parquet, el cual es un archivo que esta orientado a columnas. \n",
    "all_files = glob.glob(\"./data/*.parquet\")\n",
    "\n",
    "dataframe_list = []\n",
    "\n",
    "for filename in all_files:\n",
    "    # Se carga el archivo\n",
    "    df = pd.read_parquet(filename)\n",
    "    # Tomo el 10% del dataset total   \n",
    "    df = df.sample(frac=0.1)\n",
    "    # Agrego a la lista\n",
    "    dataframe_list.append(df)\n",
    "\n",
    "\n",
    "dataframe = pd.concat(dataframe_list, axis=0, ignore_index=True)\n",
    "\n",
    "\n",
    "dataframe.describe()"
   ]
  },
  {
   "cell_type": "code",
   "execution_count": 88,
   "metadata": {},
   "outputs": [
    {
     "name": "stdout",
     "output_type": "stream",
     "text": [
      "<class 'pandas.core.frame.DataFrame'>\n",
      "RangeIndex: 1571207 entries, 0 to 1571206\n",
      "Data columns (total 19 columns):\n",
      " #   Column                 Non-Null Count    Dtype         \n",
      "---  ------                 --------------    -----         \n",
      " 0   VendorID               1571207 non-null  int64         \n",
      " 1   tpep_pickup_datetime   1571207 non-null  datetime64[ns]\n",
      " 2   tpep_dropoff_datetime  1571207 non-null  datetime64[ns]\n",
      " 3   passenger_count        1556043 non-null  float64       \n",
      " 4   trip_distance          1571207 non-null  float64       \n",
      " 5   RatecodeID             1556043 non-null  float64       \n",
      " 6   store_and_fwd_flag     1556043 non-null  object        \n",
      " 7   PULocationID           1571207 non-null  int64         \n",
      " 8   DOLocationID           1571207 non-null  int64         \n",
      " 9   payment_type           1571207 non-null  int64         \n",
      " 10  fare_amount            1571207 non-null  float64       \n",
      " 11  extra                  1571207 non-null  float64       \n",
      " 12  mta_tax                1571207 non-null  float64       \n",
      " 13  tip_amount             1571207 non-null  float64       \n",
      " 14  tolls_amount           1571207 non-null  float64       \n",
      " 15  improvement_surcharge  1571207 non-null  float64       \n",
      " 16  total_amount           1571207 non-null  float64       \n",
      " 17  congestion_surcharge   1556043 non-null  float64       \n",
      " 18  airport_fee            0 non-null        object        \n",
      "dtypes: datetime64[ns](2), float64(11), int64(4), object(2)\n",
      "memory usage: 227.8+ MB\n"
     ]
    }
   ],
   "source": [
    "## Para obtener una descripción del tipo de datos que contiene cada columna, utilizamos la funcion info()\n",
    "# Podemos además, obtener una idea general de cuantos datos no nulos contiene.\n",
    "dataframe.info()"
   ]
  },
  {
   "cell_type": "code",
   "execution_count": 89,
   "metadata": {},
   "outputs": [
    {
     "data": {
      "text/html": [
       "<div>\n",
       "<style scoped>\n",
       "    .dataframe tbody tr th:only-of-type {\n",
       "        vertical-align: middle;\n",
       "    }\n",
       "\n",
       "    .dataframe tbody tr th {\n",
       "        vertical-align: top;\n",
       "    }\n",
       "\n",
       "    .dataframe thead th {\n",
       "        text-align: right;\n",
       "    }\n",
       "</style>\n",
       "<table border=\"1\" class=\"dataframe\">\n",
       "  <thead>\n",
       "    <tr style=\"text-align: right;\">\n",
       "      <th></th>\n",
       "      <th>VendorID</th>\n",
       "      <th>passenger_count</th>\n",
       "      <th>trip_distance</th>\n",
       "      <th>RatecodeID</th>\n",
       "      <th>PULocationID</th>\n",
       "      <th>DOLocationID</th>\n",
       "      <th>payment_type</th>\n",
       "      <th>fare_amount</th>\n",
       "      <th>extra</th>\n",
       "      <th>mta_tax</th>\n",
       "      <th>tip_amount</th>\n",
       "      <th>tolls_amount</th>\n",
       "      <th>improvement_surcharge</th>\n",
       "      <th>total_amount</th>\n",
       "      <th>congestion_surcharge</th>\n",
       "    </tr>\n",
       "  </thead>\n",
       "  <tbody>\n",
       "    <tr>\n",
       "      <th>count</th>\n",
       "      <td>1571207.000</td>\n",
       "      <td>1556043.000</td>\n",
       "      <td>1571207.000</td>\n",
       "      <td>1556043.000</td>\n",
       "      <td>1571207.000</td>\n",
       "      <td>1571207.000</td>\n",
       "      <td>1571207.000</td>\n",
       "      <td>1571207.000</td>\n",
       "      <td>1571207.000</td>\n",
       "      <td>1571207.000</td>\n",
       "      <td>1571207.000</td>\n",
       "      <td>1571207.000</td>\n",
       "      <td>1571207.000</td>\n",
       "      <td>1571207.000</td>\n",
       "      <td>1556043.000</td>\n",
       "    </tr>\n",
       "    <tr>\n",
       "      <th>mean</th>\n",
       "      <td>1.673</td>\n",
       "      <td>1.502</td>\n",
       "      <td>2.879</td>\n",
       "      <td>1.056</td>\n",
       "      <td>164.342</td>\n",
       "      <td>162.255</td>\n",
       "      <td>1.252</td>\n",
       "      <td>12.613</td>\n",
       "      <td>1.107</td>\n",
       "      <td>0.492</td>\n",
       "      <td>2.192</td>\n",
       "      <td>0.332</td>\n",
       "      <td>0.298</td>\n",
       "      <td>18.559</td>\n",
       "      <td>2.296</td>\n",
       "    </tr>\n",
       "    <tr>\n",
       "      <th>std</th>\n",
       "      <td>0.470</td>\n",
       "      <td>1.142</td>\n",
       "      <td>11.978</td>\n",
       "      <td>0.749</td>\n",
       "      <td>65.736</td>\n",
       "      <td>70.007</td>\n",
       "      <td>0.486</td>\n",
       "      <td>11.688</td>\n",
       "      <td>1.258</td>\n",
       "      <td>0.073</td>\n",
       "      <td>2.641</td>\n",
       "      <td>1.781</td>\n",
       "      <td>0.035</td>\n",
       "      <td>14.289</td>\n",
       "      <td>0.707</td>\n",
       "    </tr>\n",
       "    <tr>\n",
       "      <th>min</th>\n",
       "      <td>1.000</td>\n",
       "      <td>0.000</td>\n",
       "      <td>-30.620</td>\n",
       "      <td>1.000</td>\n",
       "      <td>1.000</td>\n",
       "      <td>1.000</td>\n",
       "      <td>0.000</td>\n",
       "      <td>-730.000</td>\n",
       "      <td>-4.500</td>\n",
       "      <td>-0.500</td>\n",
       "      <td>-56.840</td>\n",
       "      <td>-35.740</td>\n",
       "      <td>-0.300</td>\n",
       "      <td>-730.300</td>\n",
       "      <td>-2.500</td>\n",
       "    </tr>\n",
       "    <tr>\n",
       "      <th>25%</th>\n",
       "      <td>1.000</td>\n",
       "      <td>1.000</td>\n",
       "      <td>0.970</td>\n",
       "      <td>1.000</td>\n",
       "      <td>125.000</td>\n",
       "      <td>113.000</td>\n",
       "      <td>1.000</td>\n",
       "      <td>6.500</td>\n",
       "      <td>0.000</td>\n",
       "      <td>0.500</td>\n",
       "      <td>0.000</td>\n",
       "      <td>0.000</td>\n",
       "      <td>0.300</td>\n",
       "      <td>11.160</td>\n",
       "      <td>2.500</td>\n",
       "    </tr>\n",
       "    <tr>\n",
       "      <th>50%</th>\n",
       "      <td>2.000</td>\n",
       "      <td>1.000</td>\n",
       "      <td>1.600</td>\n",
       "      <td>1.000</td>\n",
       "      <td>162.000</td>\n",
       "      <td>162.000</td>\n",
       "      <td>1.000</td>\n",
       "      <td>9.000</td>\n",
       "      <td>0.500</td>\n",
       "      <td>0.500</td>\n",
       "      <td>1.950</td>\n",
       "      <td>0.000</td>\n",
       "      <td>0.300</td>\n",
       "      <td>14.300</td>\n",
       "      <td>2.500</td>\n",
       "    </tr>\n",
       "    <tr>\n",
       "      <th>75%</th>\n",
       "      <td>2.000</td>\n",
       "      <td>2.000</td>\n",
       "      <td>2.930</td>\n",
       "      <td>1.000</td>\n",
       "      <td>234.000</td>\n",
       "      <td>234.000</td>\n",
       "      <td>2.000</td>\n",
       "      <td>14.000</td>\n",
       "      <td>2.500</td>\n",
       "      <td>0.500</td>\n",
       "      <td>2.860</td>\n",
       "      <td>0.000</td>\n",
       "      <td>0.300</td>\n",
       "      <td>19.890</td>\n",
       "      <td>2.500</td>\n",
       "    </tr>\n",
       "    <tr>\n",
       "      <th>max</th>\n",
       "      <td>6.000</td>\n",
       "      <td>9.000</td>\n",
       "      <td>14099.310</td>\n",
       "      <td>99.000</td>\n",
       "      <td>265.000</td>\n",
       "      <td>265.000</td>\n",
       "      <td>4.000</td>\n",
       "      <td>655.350</td>\n",
       "      <td>87.560</td>\n",
       "      <td>3.300</td>\n",
       "      <td>300.880</td>\n",
       "      <td>853.550</td>\n",
       "      <td>0.300</td>\n",
       "      <td>906.350</td>\n",
       "      <td>2.750</td>\n",
       "    </tr>\n",
       "  </tbody>\n",
       "</table>\n",
       "</div>"
      ],
      "text/plain": [
       "         VendorID  passenger_count  trip_distance  RatecodeID  PULocationID  \\\n",
       "count 1571207.000      1556043.000    1571207.000 1556043.000   1571207.000   \n",
       "mean        1.673            1.502          2.879       1.056       164.342   \n",
       "std         0.470            1.142         11.978       0.749        65.736   \n",
       "min         1.000            0.000        -30.620       1.000         1.000   \n",
       "25%         1.000            1.000          0.970       1.000       125.000   \n",
       "50%         2.000            1.000          1.600       1.000       162.000   \n",
       "75%         2.000            2.000          2.930       1.000       234.000   \n",
       "max         6.000            9.000      14099.310      99.000       265.000   \n",
       "\n",
       "       DOLocationID  payment_type  fare_amount       extra     mta_tax  \\\n",
       "count   1571207.000   1571207.000  1571207.000 1571207.000 1571207.000   \n",
       "mean        162.255         1.252       12.613       1.107       0.492   \n",
       "std          70.007         0.486       11.688       1.258       0.073   \n",
       "min           1.000         0.000     -730.000      -4.500      -0.500   \n",
       "25%         113.000         1.000        6.500       0.000       0.500   \n",
       "50%         162.000         1.000        9.000       0.500       0.500   \n",
       "75%         234.000         2.000       14.000       2.500       0.500   \n",
       "max         265.000         4.000      655.350      87.560       3.300   \n",
       "\n",
       "       tip_amount  tolls_amount  improvement_surcharge  total_amount  \\\n",
       "count 1571207.000   1571207.000            1571207.000   1571207.000   \n",
       "mean        2.192         0.332                  0.298        18.559   \n",
       "std         2.641         1.781                  0.035        14.289   \n",
       "min       -56.840       -35.740                 -0.300      -730.300   \n",
       "25%         0.000         0.000                  0.300        11.160   \n",
       "50%         1.950         0.000                  0.300        14.300   \n",
       "75%         2.860         0.000                  0.300        19.890   \n",
       "max       300.880       853.550                  0.300       906.350   \n",
       "\n",
       "       congestion_surcharge  \n",
       "count           1556043.000  \n",
       "mean                  2.296  \n",
       "std                   0.707  \n",
       "min                  -2.500  \n",
       "25%                   2.500  \n",
       "50%                   2.500  \n",
       "75%                   2.500  \n",
       "max                   2.750  "
      ]
     },
     "execution_count": 89,
     "metadata": {},
     "output_type": "execute_result"
    }
   ],
   "source": [
    "# La función describe() nos da una vista general de valores de cantidades de datos, media, desv. standard, valores min y max de cada columna.\n",
    "dataframe.describe()"
   ]
  },
  {
   "cell_type": "markdown",
   "metadata": {},
   "source": [
    "### Descripción de Columnas del Dataset.\n"
   ]
  },
  {
   "cell_type": "code",
   "execution_count": 90,
   "metadata": {},
   "outputs": [
    {
     "data": {
      "text/plain": [
       "VendorID                          int64\n",
       "tpep_pickup_datetime     datetime64[ns]\n",
       "tpep_dropoff_datetime    datetime64[ns]\n",
       "passenger_count                 float64\n",
       "trip_distance                   float64\n",
       "RatecodeID                      float64\n",
       "store_and_fwd_flag               object\n",
       "PULocationID                      int64\n",
       "DOLocationID                      int64\n",
       "payment_type                      int64\n",
       "fare_amount                     float64\n",
       "extra                           float64\n",
       "mta_tax                         float64\n",
       "tip_amount                      float64\n",
       "tolls_amount                    float64\n",
       "improvement_surcharge           float64\n",
       "total_amount                    float64\n",
       "congestion_surcharge            float64\n",
       "airport_fee                      object\n",
       "dtype: object"
      ]
     },
     "execution_count": 90,
     "metadata": {},
     "output_type": "execute_result"
    }
   ],
   "source": [
    "# Listado de tipos de variables presentes en el dataset\n",
    "dataframe.dtypes"
   ]
  },
  {
   "cell_type": "code",
   "execution_count": 91,
   "metadata": {},
   "outputs": [],
   "source": [
    "# funcion para plotear las distribuciones de los atributos\n",
    "def display_dataset_distributions(dataset):\n",
    "    fig = dataset.hist(xlabelsize=10, ylabelsize=10,figsize=(18,18))\n",
    "    [x.title.set_size(14) for x in fig.ravel()]\n",
    "    plt.tight_layout\n",
    "    plt.show()\n",
    "    \n",
    "\n",
    "# funcion para imprimir nulos\n",
    "def print_null_info(col):\n",
    "    print(f'Cantidad de nulos: {col.isnull().sum()}/{col.size}')\n",
    "\n",
    "# funcion para imprimir datos de v. categoricas\n",
    "def print_categorical(col):\n",
    "    print(f'Ordinalidad: {col.unique()}')\n",
    "    print_null_info(col)\n",
    "    print('Ocurrencias:')\n",
    "    print(col.value_counts().sort_values())"
   ]
  },
  {
   "cell_type": "code",
   "execution_count": 92,
   "metadata": {},
   "outputs": [
    {
     "data": {
      "image/png": "[encoded data removed]",
      "text/plain": [
       "<Figure size 1296x1296 with 20 Axes>"
      ]
     },
     "metadata": {
      "needs_background": "light"
     },
     "output_type": "display_data"
    }
   ],
   "source": [
    "#imprimo distribuciones \n",
    "display_dataset_distributions(dataframe)"
   ]
  },
  {
   "cell_type": "markdown",
   "metadata": {},
   "source": [
    "\n",
    "- **VendorID**: Proveedor de servicios de tecnologias en taxis (T-PEP)\n",
    "    - Tipo de dato: Categórica ordinal  \n",
    "    - Tipo de variable: Entrada  \n"
   ]
  },
  {
   "cell_type": "code",
   "execution_count": 93,
   "metadata": {},
   "outputs": [
    {
     "name": "stdout",
     "output_type": "stream",
     "text": [
      "Ordinalidad: [2 1 5 6]\n",
      "Cantidad de nulos: 0/1571207\n",
      "Ocurrencias:\n",
      "5          1\n",
      "6         60\n",
      "1     514387\n",
      "2    1056759\n",
      "Name: VendorID, dtype: int64\n"
     ]
    }
   ],
   "source": [
    "print_categorical(dataframe.VendorID)"
   ]
  },
  {
   "cell_type": "markdown",
   "metadata": {},
   "source": [
    "\n",
    "- **tpep_pickup_datetime**: Fecha y hora en el cual el reloj fue activado al iniciar un viaje.\n",
    "    - Tipo de dato: Timestamp compuesto  \n",
    "    - Tipo de variable: Entrada  \n",
    "\n",
    "    - Ejemplo del dato en el dataset: 2020-07-01 00:25:32\n"
   ]
  },
  {
   "cell_type": "code",
   "execution_count": 94,
   "metadata": {},
   "outputs": [
    {
     "name": "stdout",
     "output_type": "stream",
     "text": [
      "Cantidad de nulos: 0/1571207\n"
     ]
    }
   ],
   "source": [
    "print_null_info(dataframe.tpep_pickup_datetime)"
   ]
  },
  {
   "cell_type": "markdown",
   "metadata": {},
   "source": [
    "- **tpep_dropoff_datetime**: Fecha y hora en el cual el reloj fue desactivador al finalizar un viaje.\n",
    "    - Tipo de dato: Timestamp compuesto\n",
    "    - Tipo de variable: Entrada  / Salida\n",
    "\n",
    "    - Ejemplo del dato en el dataset: 2020-07-01 00:33:39\n"
   ]
  },
  {
   "cell_type": "code",
   "execution_count": 95,
   "metadata": {},
   "outputs": [
    {
     "name": "stdout",
     "output_type": "stream",
     "text": [
      "Cantidad de nulos: 0/1571207\n"
     ]
    }
   ],
   "source": [
    "print_null_info(dataframe.tpep_dropoff_datetime)"
   ]
  },
  {
   "cell_type": "markdown",
   "metadata": {},
   "source": [
    "- **passenger_count**: El número de pasajeros en el vehiculo. (Es un dato que lo ingresa el conductor.)\n",
    "    - Tipo de dato: Numérico \n",
    "    - Tipo de variable: Entrada\n",
    "    - Ejemplo del dato en el dataset: 1.0"
   ]
  },
  {
   "cell_type": "code",
   "execution_count": 96,
   "metadata": {},
   "outputs": [
    {
     "name": "stdout",
     "output_type": "stream",
     "text": [
      "Cantidad de nulos: 15164/1571207\n"
     ]
    }
   ],
   "source": [
    "print_null_info(dataframe.passenger_count)"
   ]
  },
  {
   "cell_type": "markdown",
   "metadata": {},
   "source": [
    "\n",
    "- **trip_distance**: La distancia del viaje transcurrido en millas reportada por el taxímetro. \n",
    "    - Tipo de dato: Numérico \n",
    "    - Tipo de variable: Entrada  \n",
    "\n",
    "    - Ejemplo del dato en el dataset: 1.50\n"
   ]
  },
  {
   "cell_type": "code",
   "execution_count": 97,
   "metadata": {},
   "outputs": [
    {
     "name": "stdout",
     "output_type": "stream",
     "text": [
      "Cantidad de nulos: 0/1571207\n"
     ]
    }
   ],
   "source": [
    "print_null_info(dataframe.trip_distance)"
   ]
  },
  {
   "cell_type": "markdown",
   "metadata": {},
   "source": [
    "- **PULocationID**: TLC Zona en la que el taxímetro se activó.\n",
    "    - Tipo de dato: Categórica ordinal\n",
    "    - Tipo de variable: Entrada / Salida\n",
    "\n",
    "    - Ejemplo del dato en el dataset: 238\n"
   ]
  },
  {
   "cell_type": "code",
   "execution_count": 98,
   "metadata": {},
   "outputs": [
    {
     "name": "stdout",
     "output_type": "stream",
     "text": [
      "Ordinalidad: [170 142  50 143 140 163 100 164 239 224 234 230  87  42  65  90 144  68\n",
      " 237 238 107 236 233 141 138  43 151 246 132 166 148 162 186  48 113  79\n",
      " 211 161  24 231 249 262 114  37 209  88  75 261 137 263  74  13  49 146\n",
      " 229  41 168 158 264 159 255  22  97 152 226 228 130 125  33  40 108 223\n",
      " 205 232 189 171  51 244   7  45 202   4  62  82 216 196  80  52 129  38\n",
      "  36 145  19 124  95  11 213 194  66  16  17 169  61 181 179  26  39  32\n",
      " 116 167 260 193 188 243 265 190  89 256 126 123 134  25 197 208  12  56\n",
      "  71 220  78 235 133 136  15  76 195 117 112 102  21  10  64 254 247  47\n",
      "  28  93  85 106 157 183  72  60  35 147 225 127 215 135 139 180  18 217\n",
      " 253 218  92 185 203  69 219 212 200  81 198  94  73  63  98 101 121  83\n",
      "  86 257 174  70 210 242 182 258 122 160 128 173 240  14 191 155  58 241\n",
      "   1 131 165 250 175 248  67   9  29 259  91 222 177   3 207  77 192  54\n",
      " 227  20 178  53  34 149   8 120 118 206 221 252 150 153  59 214  23 119\n",
      "  57  46 201  99   5  55 115  31 154  44  96 187 251 156  30 111   6  27]\n",
      "Cantidad de nulos: 0/1571207\n",
      "Ocurrencias:\n",
      "27         1\n",
      "99         1\n",
      "59         1\n",
      "111        1\n",
      "30         1\n",
      "       ...  \n",
      "230    55229\n",
      "162    57196\n",
      "236    65577\n",
      "161    67901\n",
      "237    70112\n",
      "Name: PULocationID, Length: 252, dtype: int64\n"
     ]
    }
   ],
   "source": [
    "print_categorical(dataframe.PULocationID)"
   ]
  },
  {
   "cell_type": "markdown",
   "metadata": {},
   "source": [
    "\n",
    "- **DOLocationID**: TLC Zona en la que el taxímetro se desactivó.\n",
    "    - Tipo de dato: Categórica ordinal\n",
    "    - Tipo de variable: Entrada / Salida \n",
    "\n",
    "    - Ejemplo del dato en el dataset: 75\n"
   ]
  },
  {
   "cell_type": "code",
   "execution_count": 99,
   "metadata": {},
   "outputs": [
    {
     "name": "stdout",
     "output_type": "stream",
     "text": [
      "Ordinalidad: [162 142 246 166 141 238 261 161  43 148 113 186 229  97 264 170 249  13\n",
      "  87 236 239 230 164 145  48 100 163  21  25 143 231  65 237  45 232 262\n",
      " 224 144  79  85  71 234 228 263 177  51 151 181 107 138 134 211 114 223\n",
      "  67  41 233  88 158  68  75 137 125 140  24  90 152  61 242 256 243 173\n",
      " 209  74 193 265  50 244 260 198 179 132 252 155  66  12 210 146 225  37\n",
      "  83 257 255 200  69   1 102 235  56  58 116 217  62  42  52 254  40   7\n",
      " 205 176  89  39 218  49 171 219 213  93  70 120  80 129 192 226  33  94\n",
      "  36  91 157  54 135 250 119 195 215 112  53 130   4  14 202  10  76 247\n",
      " 160  95  64 189 216  92  17  28 167  86  73 188 182  16 197  26  82 203\n",
      " 106 121 136 222 259 241 127  34 191 168 149 196 133 165  72  20  98 159\n",
      " 227 126 169   8  22 253 147  77   9  29 174 240 117 220  78 194  63 123\n",
      " 124 128 122 139 258  81 206 245 108 153 190 178 208  38 180  35 201 212\n",
      " 131  47  32 251 183  55 172  99  19 185  11 175  18 248 111  31 150  57\n",
      "  15   6 101 118   3 184 154  23 207 221 156  60  44  96 204   5 214  46\n",
      " 115  59  84 187 109   2  27  30]\n",
      "Cantidad de nulos: 0/1571207\n",
      "Ocurrencias:\n",
      "2          1\n",
      "99         3\n",
      "204        5\n",
      "176        8\n",
      "187       10\n",
      "       ...  \n",
      "162    46580\n",
      "170    47948\n",
      "161    60311\n",
      "237    63411\n",
      "236    68993\n",
      "Name: DOLocationID, Length: 260, dtype: int64\n"
     ]
    }
   ],
   "source": [
    "print_categorical(dataframe.DOLocationID)"
   ]
  },
  {
   "cell_type": "markdown",
   "metadata": {},
   "source": [
    "\n",
    "- **RatecodeID**:  El código de tarifa final vigente al final del viaje.\n",
    "    - Tipo de dato: Categórica ordinal\n",
    "    - Tipo de variable: Entrada  \n",
    "\n",
    "    - 1= Standard rate\n",
    "    - 2= JFK \n",
    "    - 3= Newark\n",
    "    - 4= Nassau or Westchester\n",
    "    - 5= Negotiated fare\n",
    "    - 6= Group ride\n"
   ]
  },
  {
   "cell_type": "code",
   "execution_count": 100,
   "metadata": {},
   "outputs": [
    {
     "name": "stdout",
     "output_type": "stream",
     "text": [
      "Ordinalidad: [ 1. nan  2.  5.  3.  4. 99.  6.]\n",
      "Cantidad de nulos: 15164/1571207\n",
      "Ocurrencias:\n",
      "6.000           7\n",
      "99.000         71\n",
      "4.000        1197\n",
      "3.000        3241\n",
      "5.000        8561\n",
      "2.000       35691\n",
      "1.000     1507275\n",
      "Name: RatecodeID, dtype: int64\n"
     ]
    }
   ],
   "source": [
    "print_categorical(dataframe.RatecodeID)"
   ]
  },
  {
   "cell_type": "markdown",
   "metadata": {},
   "source": [
    "- **store_and_fwd_flag**:  Este flag indica si el registro de viaje se llevó a cabo en la memoria del dispositivo del vehiculo antes de enviar al proveedor, también conocido como \"almacenar y reenviar\", porque el vehiculo no tenia conexion al servidor.\n",
    "    - Tipo de dato: Categórica  \n",
    "    - Tipo de variable: Entrada  \n",
    "\n",
    "    - Y= Almacenar y reenviar informacion.\n",
    "    - N= No almacenar y enviar informacion.\n"
   ]
  },
  {
   "cell_type": "code",
   "execution_count": 101,
   "metadata": {},
   "outputs": [
    {
     "name": "stdout",
     "output_type": "stream",
     "text": [
      "Ordinalidad: ['N' 'Y' None]\n",
      "Cantidad de nulos: 15164/1571207\n",
      "Ocurrencias:\n",
      "Y      16191\n",
      "N    1539852\n",
      "Name: store_and_fwd_flag, dtype: int64\n"
     ]
    }
   ],
   "source": [
    "print_categorical(dataframe.store_and_fwd_flag)"
   ]
  },
  {
   "cell_type": "markdown",
   "metadata": {},
   "source": [
    "\n",
    "- **payment_type**: Un código numérico que significa cómo el pasajero pagó por el viaje.\n",
    "    - Tipo de dato: Categórica ordinal  \n",
    "    - Tipo de variable: Entrada  \n",
    "\n",
    "    - 1= Credit card\n",
    "    - 2= Cash\n",
    "    - 3= No charge\n",
    "    - 4= Dispute\n",
    "    - 5= Unknown\n",
    "    - 6= Voided trip\n"
   ]
  },
  {
   "cell_type": "code",
   "execution_count": 102,
   "metadata": {},
   "outputs": [
    {
     "name": "stdout",
     "output_type": "stream",
     "text": [
      "Ordinalidad: [1 2 3 0 4]\n",
      "Cantidad de nulos: 0/1571207\n",
      "Ocurrencias:\n",
      "4       4644\n",
      "3       8086\n",
      "0      15164\n",
      "2     381674\n",
      "1    1161639\n",
      "Name: payment_type, dtype: int64\n"
     ]
    }
   ],
   "source": [
    "print_categorical(dataframe.payment_type)"
   ]
  },
  {
   "cell_type": "markdown",
   "metadata": {},
   "source": [
    "- **fare_amount**: La tarifa de tiempo y distancia calculada por el taxímetro.\n",
    "    - Tipo de dato: Numérico  \n",
    "    - Tipo de variable: Salida  \n",
    "\n",
    "    - Ejemplo del dato en el dataset: 8.0\n"
   ]
  },
  {
   "cell_type": "code",
   "execution_count": 103,
   "metadata": {},
   "outputs": [
    {
     "name": "stdout",
     "output_type": "stream",
     "text": [
      "Cantidad de nulos: 0/1571207\n"
     ]
    }
   ],
   "source": [
    "print_null_info(dataframe.fare_amount)"
   ]
  },
  {
   "cell_type": "markdown",
   "metadata": {},
   "source": [
    "- **Extra**: Varios extras y recargos. Actualmente, esto solo incluye los cargos de $0.50 y $1 por la hora pico y por la noche.\n",
    "    - Tipo de dato: Numérico  \n",
    "    - Tipo de variable: Salida  \n",
    "\n",
    "    - Ejemplo del dato en el dataset: 0.5\n"
   ]
  },
  {
   "cell_type": "code",
   "execution_count": 104,
   "metadata": {},
   "outputs": [
    {
     "name": "stdout",
     "output_type": "stream",
     "text": [
      "Cantidad de nulos: 0/1571207\n"
     ]
    }
   ],
   "source": [
    "print_null_info(dataframe.extra)"
   ]
  },
  {
   "cell_type": "markdown",
   "metadata": {},
   "source": [
    "\n",
    "- **mta_tax**: Impuesto MTA de $0.50 que se activa automáticamente según la tasa de uso del medidor.\n",
    "    - Tipo de dato: Numérico\n",
    "    - Tipo de variable: Salida  \n",
    "\n",
    "    - Ejemplo del dato en el dataset: 0.5\n"
   ]
  },
  {
   "cell_type": "code",
   "execution_count": 105,
   "metadata": {},
   "outputs": [
    {
     "name": "stdout",
     "output_type": "stream",
     "text": [
      "Cantidad de nulos: 0/1571207\n"
     ]
    }
   ],
   "source": [
    "print_null_info(dataframe.mta_tax)"
   ]
  },
  {
   "cell_type": "markdown",
   "metadata": {},
   "source": [
    "- **improvement_surcharge**: Recargo de mejora de $ 0.30 en viaje en el descenso de bandera. El recargo por mejora comenzó a cobrarse en 2015.\n",
    "    - Tipo de dato: Numérico  \n",
    "    - Tipo de variable: Salida  \n",
    "\n",
    "    - Ejemplo del dato en el dataset: 0.3\n"
   ]
  },
  {
   "cell_type": "code",
   "execution_count": 106,
   "metadata": {},
   "outputs": [
    {
     "name": "stdout",
     "output_type": "stream",
     "text": [
      "Cantidad de nulos: 0/1571207\n"
     ]
    }
   ],
   "source": [
    "print_null_info(dataframe.improvement_surcharge)"
   ]
  },
  {
   "cell_type": "markdown",
   "metadata": {},
   "source": [
    "- **tip_amount**: Importe de la propina: este campo se completa automáticamente para las propinas de tarjetas de crédito. Las propinas en efectivo no están incluidas.\n",
    "    - Tipo de dato: Numérico\n",
    "    - Tipo de variable: Salida  \n",
    "\n",
    "    - Ejemplo del dato en el dataset: 0.00  \n"
   ]
  },
  {
   "cell_type": "code",
   "execution_count": 107,
   "metadata": {},
   "outputs": [
    {
     "name": "stdout",
     "output_type": "stream",
     "text": [
      "Cantidad de nulos: 0/1571207\n"
     ]
    }
   ],
   "source": [
    "print_null_info(dataframe.tip_amount)"
   ]
  },
  {
   "cell_type": "markdown",
   "metadata": {},
   "source": [
    "- **tolls_amount**: Importe total de todos los peajes pagados en el viaje.\n",
    "    - Tipo de dato: Numérico\n",
    "    - Tipo de variable: Salida  \n",
    "    - Ejemplo del dato en el dataset: 0.00\n"
   ]
  },
  {
   "cell_type": "code",
   "execution_count": 108,
   "metadata": {},
   "outputs": [
    {
     "name": "stdout",
     "output_type": "stream",
     "text": [
      "Cantidad de nulos: 0/1571207\n"
     ]
    }
   ],
   "source": [
    "print_null_info(dataframe.tolls_amount)"
   ]
  },
  {
   "cell_type": "markdown",
   "metadata": {},
   "source": [
    "\n",
    "- **total_amount**: El monto total cobrado a los pasajeros. No incluye propinas en efectivo.\n",
    "    - Tipo de dato: Numérico  \n",
    "    - Tipo de variable: Salida  \n",
    "    - Ejemplo del dato en el dataset: 9.30\n"
   ]
  },
  {
   "cell_type": "code",
   "execution_count": 109,
   "metadata": {},
   "outputs": [
    {
     "name": "stdout",
     "output_type": "stream",
     "text": [
      "Cantidad de nulos: 0/1571207\n"
     ]
    }
   ],
   "source": [
    "print_null_info(dataframe.total_amount)"
   ]
  },
  {
   "cell_type": "markdown",
   "metadata": {},
   "source": [
    "- **congestion_surcharge**: Importe total recaudado en el viaje por el recargo por congestión del Estado de Nueva York.\n",
    "    - Tipo de dato: Numérico\n",
    "    - Tipo de variable: Salida  \n",
    "    - Ejemplo del dato en el dataset: 0.00\n"
   ]
  },
  {
   "cell_type": "code",
   "execution_count": 110,
   "metadata": {},
   "outputs": [
    {
     "name": "stdout",
     "output_type": "stream",
     "text": [
      "Cantidad de nulos: 15164/1571207\n"
     ]
    }
   ],
   "source": [
    "print_null_info(dataframe.congestion_surcharge)"
   ]
  },
  {
   "cell_type": "markdown",
   "metadata": {},
   "source": [
    "- **airport_fee**: $1.25 para recoger solo en los aeropuertos LaGuardia y John F. Kennedy\n",
    "    - Tipo de dato: Numérico  \n",
    "    - Tipo de variable: Salida\n",
    "    - Ejemplo del dato en el dataset: None"
   ]
  },
  {
   "cell_type": "code",
   "execution_count": 111,
   "metadata": {},
   "outputs": [
    {
     "name": "stdout",
     "output_type": "stream",
     "text": [
      "Cantidad de nulos: 1571207/1571207\n"
     ]
    }
   ],
   "source": [
    "print_null_info(dataframe.airport_fee)"
   ]
  },
  {
   "cell_type": "markdown",
   "metadata": {},
   "source": [
    "## 2. Limpieza de los datos\n"
   ]
  },
  {
   "cell_type": "markdown",
   "metadata": {},
   "source": [
    "### 2.1 Datos faltantes"
   ]
  },
  {
   "cell_type": "code",
   "execution_count": 112,
   "metadata": {},
   "outputs": [
    {
     "data": {
      "text/plain": [
       "29850444"
      ]
     },
     "execution_count": 112,
     "metadata": {},
     "output_type": "execute_result"
    }
   ],
   "source": [
    "# verificamos cantidad de items repetidos y los eliminamos\n",
    "#dataframe.duplicated().sum(), dataframe.size\n",
    "dataframe = dataframe.drop_duplicates()\n",
    "dataframe.size"
   ]
  },
  {
   "cell_type": "code",
   "execution_count": 113,
   "metadata": {},
   "outputs": [
    {
     "name": "stdout",
     "output_type": "stream",
     "text": [
      "VendorID: 0/1571076\n",
      "tpep_pickup_datetime: 0/1571076\n",
      "tpep_dropoff_datetime: 0/1571076\n",
      "passenger_count: 15033/1571076\n",
      "trip_distance: 0/1571076\n",
      "RatecodeID: 15033/1571076\n",
      "store_and_fwd_flag: 15033/1571076\n",
      "PULocationID: 0/1571076\n",
      "DOLocationID: 0/1571076\n",
      "payment_type: 0/1571076\n",
      "fare_amount: 0/1571076\n",
      "extra: 0/1571076\n",
      "mta_tax: 0/1571076\n",
      "tip_amount: 0/1571076\n",
      "tolls_amount: 0/1571076\n",
      "improvement_surcharge: 0/1571076\n",
      "total_amount: 0/1571076\n",
      "congestion_surcharge: 15033/1571076\n",
      "airport_fee: 1571076/1571076\n"
     ]
    }
   ],
   "source": [
    "# verificamos cantidad de nulos en cada categoría\n",
    "for i in range(len(dataframe.columns)):\n",
    "  col_name = dataframe.columns[i]\n",
    "  col_data = dataframe[col_name]\n",
    "  print(f'{col_name}: {col_data.isnull().sum()}/{col_data.size}')"
   ]
  },
  {
   "cell_type": "code",
   "execution_count": 114,
   "metadata": {},
   "outputs": [
    {
     "name": "stdout",
     "output_type": "stream",
     "text": [
      "Total original cols:19\n",
      "Total cols after removing unused data:15\n"
     ]
    }
   ],
   "source": [
    "# quitamos las columnas VendorID, RateCodeID, store_and_fwd_flag y airport_fee ya que son nulas o no aportan valor\n",
    "cols_to_drop = ['VendorID', 'RatecodeID', 'store_and_fwd_flag', 'airport_fee']\n",
    "print(f'Total original cols:{len(dataframe.columns)}')\n",
    "dataframe = dataframe.drop(cols_to_drop, axis=1)\n",
    "print(f'Total cols after removing unused data:{len(dataframe.columns)}')"
   ]
  },
  {
   "cell_type": "markdown",
   "metadata": {},
   "source": [
    "#### 2.1.1 Análisis de faltantes\n",
    "La única categoría con faltantes no filtrada es passenger_count. Se entiende que este dato es ingresado manualmente. \n",
    "Se propone eliminar dichas muestras ya que representan el 1% aproximadamente del dataset total\n"
   ]
  },
  {
   "cell_type": "code",
   "execution_count": 240,
   "metadata": {},
   "outputs": [
    {
     "data": {
      "text/plain": [
       "1556043"
      ]
     },
     "execution_count": 240,
     "metadata": {},
     "output_type": "execute_result"
    }
   ],
   "source": [
    "# descarto filas con passenger count o congestion_surcharge nulo\n",
    "dataframe = dataframe.dropna(subset=['passenger_count', 'congestion_surcharge'])\n",
    "len(dataframe['passenger_count'])"
   ]
  },
  {
   "cell_type": "markdown",
   "metadata": {},
   "source": [
    "### 2.2 Ingeniería de datos"
   ]
  },
  {
   "cell_type": "code",
   "execution_count": 220,
   "metadata": {},
   "outputs": [],
   "source": [
    "# generamos una nueva columna \"duration\" con el tiempo de viaje\n",
    "ts_init = pd.to_datetime(dataframe['tpep_pickup_datetime']).values.astype(np.int64) / 1000000000\n",
    "ts_end = pd.to_datetime(dataframe['tpep_dropoff_datetime']).values.astype(np.int64) / 1000000000\n",
    "duration = ts_end - ts_init\n",
    "dataframe['duration'] = duration\n",
    "\n",
    "# ademas creamos 3 categorías para el horario en que se inició el viaje: diurno, vespertino y nocturno\n",
    "MORNING_START = 6\n",
    "MORNING_END = 13\n",
    "AFTERNOON_START = 14\n",
    "AFTERNOON_END = 20\n",
    "EVENING_START = 21\n",
    "EVENING_END = 5 \n",
    "day_interval = dataframe['tpep_pickup_datetime'].dt.hour\n",
    "dataframe['morning'] = pd.cut(day_interval, bins=[-float('Inf'), MORNING_START - 1, MORNING_END, float('Inf')], labels=[0, 1, 0], ordered=False)\n",
    "dataframe['afternoon'] = pd.cut(day_interval, bins=[-float('Inf'), AFTERNOON_START - 1, AFTERNOON_END, float('Inf')], labels=[0, 1, 0], ordered=False)\n",
    "dataframe['evening'] = pd.cut(day_interval, bins=[-float('Inf'), 0, EVENING_END, EVENING_START, 23, float('Inf')], labels=[0, 1, 0, 1, 0], ordered=False)\n",
    "\n",
    "# reviso que sean validas \n",
    "dataframe['morning'].values.isnull().sum(), dataframe['afternoon'].values.isnull().sum(), dataframe['evening'].values.isnull().sum()"
   ]
  },
  {
   "cell_type": "code",
   "execution_count": 221,
   "metadata": {},
   "outputs": [
    {
     "data": {
      "text/plain": [
       "0         0.030\n",
       "1         0.027\n",
       "2         0.020\n",
       "3         0.000\n",
       "4         0.026\n",
       "           ... \n",
       "1571202   0.020\n",
       "1571203   0.000\n",
       "1571204   0.023\n",
       "1571205   0.000\n",
       "1571206   0.026\n",
       "Name: DOLocationIDFreq, Length: 1571076, dtype: float64"
      ]
     },
     "execution_count": 221,
     "metadata": {},
     "output_type": "execute_result"
    }
   ],
   "source": [
    "# definimos el umbral mínimo de cantidad de viajes para podar las categorías PULocationID y DOLocationID.\n",
    "location_id_min_th_count = 0.01\n",
    "total_items = len(dataframe['PULocationID'])\n",
    "\n",
    "# convertimos PULocationID usando frequency encoding y me quedo con los que representan al menos 1%\n",
    "pulocation_id_freq_map = (dataframe['PULocationID'].value_counts(sort=True) / total_items).to_dict()\n",
    "dataframe['PULocationIDFreq'] = dataframe['PULocationID'].apply(lambda x: pulocation_id_freq_map[x])\n",
    "# convertimos DOLocationID\n",
    "dolocation_id_freq_map = (dataframe['DOLocationID'].value_counts(sort=True) / total_items).to_dict()\n",
    "dataframe['DOLocationIDFreq'] = dataframe['DOLocationID'].apply(lambda x: dolocation_id_freq_map[x])\n",
    "\n",
    "#pongo en 0 todas las categorías con menor frecuencia que <location_id_min_th_count>\n",
    "def clear_location_low_values(x):\n",
    "  if x <= location_id_min_th_count:\n",
    "    return 0\n",
    "  return x\n",
    "\n",
    "dataframe['PULocationIDFreq'].apply(lambda x: clear_location_low_values(x))\n",
    "dataframe['DOLocationIDFreq'].apply(lambda x: clear_location_low_values(x))\n"
   ]
  },
  {
   "cell_type": "code",
   "execution_count": 235,
   "metadata": {},
   "outputs": [
    {
     "data": {
      "text/plain": [
       "(0, 0, 0)"
      ]
     },
     "execution_count": 235,
     "metadata": {},
     "output_type": "execute_result"
    }
   ],
   "source": [
    "# termino de borrar todos los negatios\n",
    "dataframe['morning'].values.isnull().sum(), dataframe['afternoon'].values.isnull().sum(), dataframe['evening'].values.isnull().sum()"
   ]
  },
  {
   "cell_type": "code",
   "execution_count": 222,
   "metadata": {},
   "outputs": [
    {
     "data": {
      "text/html": [
       "<div>\n",
       "<style scoped>\n",
       "    .dataframe tbody tr th:only-of-type {\n",
       "        vertical-align: middle;\n",
       "    }\n",
       "\n",
       "    .dataframe tbody tr th {\n",
       "        vertical-align: top;\n",
       "    }\n",
       "\n",
       "    .dataframe thead th {\n",
       "        text-align: right;\n",
       "    }\n",
       "</style>\n",
       "<table border=\"1\" class=\"dataframe\">\n",
       "  <thead>\n",
       "    <tr style=\"text-align: right;\">\n",
       "      <th></th>\n",
       "      <th>passenger_count</th>\n",
       "      <th>trip_distance</th>\n",
       "      <th>PULocationID</th>\n",
       "      <th>DOLocationID</th>\n",
       "      <th>payment_type</th>\n",
       "      <th>fare_amount</th>\n",
       "      <th>extra</th>\n",
       "      <th>mta_tax</th>\n",
       "      <th>tip_amount</th>\n",
       "      <th>tolls_amount</th>\n",
       "      <th>improvement_surcharge</th>\n",
       "      <th>total_amount</th>\n",
       "      <th>congestion_surcharge</th>\n",
       "      <th>duration</th>\n",
       "      <th>PULocationIDFreq</th>\n",
       "      <th>DOLocationIDFreq</th>\n",
       "    </tr>\n",
       "  </thead>\n",
       "  <tbody>\n",
       "    <tr>\n",
       "      <th>count</th>\n",
       "      <td>1556043.000</td>\n",
       "      <td>1571076.000</td>\n",
       "      <td>1571076.000</td>\n",
       "      <td>1571076.000</td>\n",
       "      <td>1571076.000</td>\n",
       "      <td>1571076.000</td>\n",
       "      <td>1571076.000</td>\n",
       "      <td>1571076.000</td>\n",
       "      <td>1571076.000</td>\n",
       "      <td>1571076.000</td>\n",
       "      <td>1571076.000</td>\n",
       "      <td>1571076.000</td>\n",
       "      <td>1556043.000</td>\n",
       "      <td>1571076.000</td>\n",
       "      <td>1571076.000</td>\n",
       "      <td>1571076.000</td>\n",
       "    </tr>\n",
       "    <tr>\n",
       "      <th>mean</th>\n",
       "      <td>1.502</td>\n",
       "      <td>2.878</td>\n",
       "      <td>164.345</td>\n",
       "      <td>162.259</td>\n",
       "      <td>1.253</td>\n",
       "      <td>12.612</td>\n",
       "      <td>1.107</td>\n",
       "      <td>0.492</td>\n",
       "      <td>2.193</td>\n",
       "      <td>0.332</td>\n",
       "      <td>0.298</td>\n",
       "      <td>18.557</td>\n",
       "      <td>2.296</td>\n",
       "      <td>953.111</td>\n",
       "      <td>0.024</td>\n",
       "      <td>0.020</td>\n",
       "    </tr>\n",
       "    <tr>\n",
       "      <th>std</th>\n",
       "      <td>1.142</td>\n",
       "      <td>11.979</td>\n",
       "      <td>65.734</td>\n",
       "      <td>70.005</td>\n",
       "      <td>0.486</td>\n",
       "      <td>11.687</td>\n",
       "      <td>1.258</td>\n",
       "      <td>0.073</td>\n",
       "      <td>2.641</td>\n",
       "      <td>1.781</td>\n",
       "      <td>0.035</td>\n",
       "      <td>14.288</td>\n",
       "      <td>0.707</td>\n",
       "      <td>3658.003</td>\n",
       "      <td>0.012</td>\n",
       "      <td>0.012</td>\n",
       "    </tr>\n",
       "    <tr>\n",
       "      <th>min</th>\n",
       "      <td>0.000</td>\n",
       "      <td>-30.620</td>\n",
       "      <td>1.000</td>\n",
       "      <td>1.000</td>\n",
       "      <td>0.000</td>\n",
       "      <td>-730.000</td>\n",
       "      <td>-4.500</td>\n",
       "      <td>-0.500</td>\n",
       "      <td>-56.840</td>\n",
       "      <td>-35.740</td>\n",
       "      <td>-0.300</td>\n",
       "      <td>-730.300</td>\n",
       "      <td>-2.500</td>\n",
       "      <td>-48.000</td>\n",
       "      <td>0.000</td>\n",
       "      <td>0.000</td>\n",
       "    </tr>\n",
       "    <tr>\n",
       "      <th>25%</th>\n",
       "      <td>1.000</td>\n",
       "      <td>0.970</td>\n",
       "      <td>125.000</td>\n",
       "      <td>113.000</td>\n",
       "      <td>1.000</td>\n",
       "      <td>6.500</td>\n",
       "      <td>0.000</td>\n",
       "      <td>0.500</td>\n",
       "      <td>0.000</td>\n",
       "      <td>0.000</td>\n",
       "      <td>0.300</td>\n",
       "      <td>11.160</td>\n",
       "      <td>2.500</td>\n",
       "      <td>385.000</td>\n",
       "      <td>0.016</td>\n",
       "      <td>0.010</td>\n",
       "    </tr>\n",
       "    <tr>\n",
       "      <th>50%</th>\n",
       "      <td>1.000</td>\n",
       "      <td>1.600</td>\n",
       "      <td>162.000</td>\n",
       "      <td>162.000</td>\n",
       "      <td>1.000</td>\n",
       "      <td>9.000</td>\n",
       "      <td>0.500</td>\n",
       "      <td>0.500</td>\n",
       "      <td>1.950</td>\n",
       "      <td>0.000</td>\n",
       "      <td>0.300</td>\n",
       "      <td>14.300</td>\n",
       "      <td>2.500</td>\n",
       "      <td>635.000</td>\n",
       "      <td>0.024</td>\n",
       "      <td>0.020</td>\n",
       "    </tr>\n",
       "    <tr>\n",
       "      <th>75%</th>\n",
       "      <td>2.000</td>\n",
       "      <td>2.930</td>\n",
       "      <td>234.000</td>\n",
       "      <td>234.000</td>\n",
       "      <td>2.000</td>\n",
       "      <td>14.000</td>\n",
       "      <td>2.500</td>\n",
       "      <td>0.500</td>\n",
       "      <td>2.860</td>\n",
       "      <td>0.000</td>\n",
       "      <td>0.300</td>\n",
       "      <td>19.890</td>\n",
       "      <td>2.500</td>\n",
       "      <td>1020.000</td>\n",
       "      <td>0.031</td>\n",
       "      <td>0.027</td>\n",
       "    </tr>\n",
       "    <tr>\n",
       "      <th>max</th>\n",
       "      <td>9.000</td>\n",
       "      <td>14099.310</td>\n",
       "      <td>265.000</td>\n",
       "      <td>265.000</td>\n",
       "      <td>4.000</td>\n",
       "      <td>655.350</td>\n",
       "      <td>87.560</td>\n",
       "      <td>3.300</td>\n",
       "      <td>300.880</td>\n",
       "      <td>853.550</td>\n",
       "      <td>0.300</td>\n",
       "      <td>906.350</td>\n",
       "      <td>2.750</td>\n",
       "      <td>185770.000</td>\n",
       "      <td>0.045</td>\n",
       "      <td>0.044</td>\n",
       "    </tr>\n",
       "  </tbody>\n",
       "</table>\n",
       "</div>"
      ],
      "text/plain": [
       "       passenger_count  trip_distance  PULocationID  DOLocationID  \\\n",
       "count      1556043.000    1571076.000   1571076.000   1571076.000   \n",
       "mean             1.502          2.878       164.345       162.259   \n",
       "std              1.142         11.979        65.734        70.005   \n",
       "min              0.000        -30.620         1.000         1.000   \n",
       "25%              1.000          0.970       125.000       113.000   \n",
       "50%              1.000          1.600       162.000       162.000   \n",
       "75%              2.000          2.930       234.000       234.000   \n",
       "max              9.000      14099.310       265.000       265.000   \n",
       "\n",
       "       payment_type  fare_amount       extra     mta_tax  tip_amount  \\\n",
       "count   1571076.000  1571076.000 1571076.000 1571076.000 1571076.000   \n",
       "mean          1.253       12.612       1.107       0.492       2.193   \n",
       "std           0.486       11.687       1.258       0.073       2.641   \n",
       "min           0.000     -730.000      -4.500      -0.500     -56.840   \n",
       "25%           1.000        6.500       0.000       0.500       0.000   \n",
       "50%           1.000        9.000       0.500       0.500       1.950   \n",
       "75%           2.000       14.000       2.500       0.500       2.860   \n",
       "max           4.000      655.350      87.560       3.300     300.880   \n",
       "\n",
       "       tolls_amount  improvement_surcharge  total_amount  \\\n",
       "count   1571076.000            1571076.000   1571076.000   \n",
       "mean          0.332                  0.298        18.557   \n",
       "std           1.781                  0.035        14.288   \n",
       "min         -35.740                 -0.300      -730.300   \n",
       "25%           0.000                  0.300        11.160   \n",
       "50%           0.000                  0.300        14.300   \n",
       "75%           0.000                  0.300        19.890   \n",
       "max         853.550                  0.300       906.350   \n",
       "\n",
       "       congestion_surcharge    duration  PULocationIDFreq  DOLocationIDFreq  \n",
       "count           1556043.000 1571076.000       1571076.000       1571076.000  \n",
       "mean                  2.296     953.111             0.024             0.020  \n",
       "std                   0.707    3658.003             0.012             0.012  \n",
       "min                  -2.500     -48.000             0.000             0.000  \n",
       "25%                   2.500     385.000             0.016             0.010  \n",
       "50%                   2.500     635.000             0.024             0.020  \n",
       "75%                   2.500    1020.000             0.031             0.027  \n",
       "max                   2.750  185770.000             0.045             0.044  "
      ]
     },
     "execution_count": 222,
     "metadata": {},
     "output_type": "execute_result"
    }
   ],
   "source": [
    "dataframe.describe()"
   ]
  },
  {
   "cell_type": "markdown",
   "metadata": {},
   "source": [
    "## 3.Entrenamiento de modelos \n",
    "### 3.1 Separación de datos\n"
   ]
  },
  {
   "cell_type": "code",
   "execution_count": 118,
   "metadata": {},
   "outputs": [],
   "source": [
    "# Particionamos en train y test\n",
    "train_ratio = 0.7\n",
    "test_ratio = 0.3\n",
    "\n",
    "feature_cols = ['passenger_count'] # TODO ADD HERE COLS\n",
    "target_col = ['DOLocationID'] # TODO DOUBLE CHECK COL\n",
    "\n",
    "X = dataframe[feature_cols].values\n",
    "y = dataframe[target_col].values\n",
    "\n",
    "X_train, X_test, y_train, y_test = train_test_split(X, y, random_state=1)\n"
   ]
  }
 ],
 "metadata": {
  "kernelspec": {
   "display_name": "Python 3.9.13 ('tp-ia')",
   "language": "python",
   "name": "python3"
  },
  "language_info": {
   "codemirror_mode": {
    "name": "ipython",
    "version": 3
   },
   "file_extension": ".py",
   "mimetype": "text/x-python",
   "name": "python",
   "nbconvert_exporter": "python",
   "pygments_lexer": "ipython3",
   "version": "3.8.13"
  },
  "vscode": {
   "interpreter": {
    "hash": "ff0b56c2c11e01fc93064e55eb1d315134029652b3f23c7e2f48e46ed7de5886"
   }
  }
 },
 "nbformat": 4,
 "nbformat_minor": 4
}
