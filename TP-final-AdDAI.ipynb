{
 "cells": [
  {
   "cell_type": "markdown",
   "metadata": {
    "slideshow": {
     "slide_type": "slide"
    }
   },
   "source": [
    "# Trabajo Final. Análisis de Datos"
   ]
  },
  {
   "cell_type": "markdown",
   "metadata": {},
   "source": [
    "## Alumnos:\n",
    "\n",
    "### Domenje, Carlos R.\n",
    "\n",
    "### Fux, Santiago.\n",
    "\n",
    "---"
   ]
  },
  {
   "cell_type": "markdown",
   "metadata": {
    "slideshow": {
     "slide_type": "slide"
    }
   },
   "source": [
    "## DATASET: Uso de Taxis Yellow Cab en USA en el año 2020\n",
    "\n",
    "**Problema.** Responderemos a la siguiente pregunta\n",
    "\n",
    "1. ¿Existe una manera de caracterizar los lugares más recurrentes para inicio / fin de viaje?\n"
   ]
  },
  {
   "cell_type": "markdown",
   "metadata": {},
   "source": [
    "## 1. Obtención de datos\n",
    "\n",
    "Para importar los datos, buscamos en la página web brindada por la cátedra:\n",
    "\n",
    "- [Yellow Cab - Dataset](https://www1.nyc.gov/site/tlc/about/tlc-trip-record-data.page)\n",
    "\n",
    "**Nota**: El dataset utilizado será el del año 2020, los tres primeros meses (Enero, Febrero, Marzo) y será descargado en una carpeta llamada \"data\" dentro de la carpeta contenedora del proyecto."
   ]
  },
  {
   "cell_type": "code",
   "execution_count": 1,
   "metadata": {
    "scrolled": true
   },
   "outputs": [],
   "source": [
    "# Path del dataset a utilizar.\n",
    "DATASET_PATH = r'./data'"
   ]
  },
  {
   "cell_type": "code",
   "execution_count": 2,
   "metadata": {},
   "outputs": [
    {
     "name": "stdout",
     "output_type": "stream",
     "text": [
      "yellow_tripdata_2020-01.parquet yellow_tripdata_2020-03.parquet\n",
      "yellow_tripdata_2020-02.parquet\n"
     ]
    }
   ],
   "source": [
    "# listamos los archivos que se encuentran en el path\n",
    "!ls {DATASET_PATH}"
   ]
  },
  {
   "cell_type": "code",
   "execution_count": 3,
   "metadata": {},
   "outputs": [],
   "source": [
    "# Importamos las librerias necesarias para interactuar con el dataset.\n",
    "\n",
    "import pandas as pd\n",
    "import glob\n",
    "import matplotlib\n",
    "import matplotlib.pyplot as plt\n",
    "import numpy as np\n",
    "\n",
    "import seaborn as sns; sns.set()\n",
    "import sklearn as sk\n",
    "from sklearn.model_selection import train_test_split\n",
    "\n",
    "# Set decimals format with 3 decimals\n",
    "pd.set_option('display.float_format', lambda x: '%.3f' % x)"
   ]
  },
  {
   "cell_type": "code",
   "execution_count": 4,
   "metadata": {},
   "outputs": [
    {
     "data": {
      "text/html": [
       "<div>\n",
       "<style scoped>\n",
       "    .dataframe tbody tr th:only-of-type {\n",
       "        vertical-align: middle;\n",
       "    }\n",
       "\n",
       "    .dataframe tbody tr th {\n",
       "        vertical-align: top;\n",
       "    }\n",
       "\n",
       "    .dataframe thead th {\n",
       "        text-align: right;\n",
       "    }\n",
       "</style>\n",
       "<table border=\"1\" class=\"dataframe\">\n",
       "  <thead>\n",
       "    <tr style=\"text-align: right;\">\n",
       "      <th></th>\n",
       "      <th>VendorID</th>\n",
       "      <th>passenger_count</th>\n",
       "      <th>trip_distance</th>\n",
       "      <th>RatecodeID</th>\n",
       "      <th>PULocationID</th>\n",
       "      <th>DOLocationID</th>\n",
       "      <th>payment_type</th>\n",
       "      <th>fare_amount</th>\n",
       "      <th>extra</th>\n",
       "      <th>mta_tax</th>\n",
       "      <th>tip_amount</th>\n",
       "      <th>tolls_amount</th>\n",
       "      <th>improvement_surcharge</th>\n",
       "      <th>total_amount</th>\n",
       "      <th>congestion_surcharge</th>\n",
       "    </tr>\n",
       "  </thead>\n",
       "  <tbody>\n",
       "    <tr>\n",
       "      <th>count</th>\n",
       "      <td>1571207.000</td>\n",
       "      <td>1555924.000</td>\n",
       "      <td>1571207.000</td>\n",
       "      <td>1555924.000</td>\n",
       "      <td>1571207.000</td>\n",
       "      <td>1571207.000</td>\n",
       "      <td>1571207.000</td>\n",
       "      <td>1571207.000</td>\n",
       "      <td>1571207.000</td>\n",
       "      <td>1571207.000</td>\n",
       "      <td>1571207.000</td>\n",
       "      <td>1571207.000</td>\n",
       "      <td>1571207.000</td>\n",
       "      <td>1571207.000</td>\n",
       "      <td>1555924.000</td>\n",
       "    </tr>\n",
       "    <tr>\n",
       "      <th>mean</th>\n",
       "      <td>1.673</td>\n",
       "      <td>1.501</td>\n",
       "      <td>3.046</td>\n",
       "      <td>1.056</td>\n",
       "      <td>164.420</td>\n",
       "      <td>162.224</td>\n",
       "      <td>1.252</td>\n",
       "      <td>12.617</td>\n",
       "      <td>1.107</td>\n",
       "      <td>0.492</td>\n",
       "      <td>2.192</td>\n",
       "      <td>0.331</td>\n",
       "      <td>0.298</td>\n",
       "      <td>18.561</td>\n",
       "      <td>2.297</td>\n",
       "    </tr>\n",
       "    <tr>\n",
       "      <th>std</th>\n",
       "      <td>0.470</td>\n",
       "      <td>1.142</td>\n",
       "      <td>176.422</td>\n",
       "      <td>0.737</td>\n",
       "      <td>65.720</td>\n",
       "      <td>70.011</td>\n",
       "      <td>0.486</td>\n",
       "      <td>11.774</td>\n",
       "      <td>1.257</td>\n",
       "      <td>0.073</td>\n",
       "      <td>2.711</td>\n",
       "      <td>1.777</td>\n",
       "      <td>0.035</td>\n",
       "      <td>14.383</td>\n",
       "      <td>0.706</td>\n",
       "    </tr>\n",
       "    <tr>\n",
       "      <th>min</th>\n",
       "      <td>1.000</td>\n",
       "      <td>0.000</td>\n",
       "      <td>-29.470</td>\n",
       "      <td>1.000</td>\n",
       "      <td>1.000</td>\n",
       "      <td>1.000</td>\n",
       "      <td>0.000</td>\n",
       "      <td>-300.000</td>\n",
       "      <td>-7.000</td>\n",
       "      <td>-0.500</td>\n",
       "      <td>-45.000</td>\n",
       "      <td>-25.990</td>\n",
       "      <td>-0.300</td>\n",
       "      <td>-303.300</td>\n",
       "      <td>-2.500</td>\n",
       "    </tr>\n",
       "    <tr>\n",
       "      <th>25%</th>\n",
       "      <td>1.000</td>\n",
       "      <td>1.000</td>\n",
       "      <td>0.970</td>\n",
       "      <td>1.000</td>\n",
       "      <td>125.000</td>\n",
       "      <td>113.000</td>\n",
       "      <td>1.000</td>\n",
       "      <td>6.500</td>\n",
       "      <td>0.000</td>\n",
       "      <td>0.500</td>\n",
       "      <td>0.000</td>\n",
       "      <td>0.000</td>\n",
       "      <td>0.300</td>\n",
       "      <td>11.160</td>\n",
       "      <td>2.500</td>\n",
       "    </tr>\n",
       "    <tr>\n",
       "      <th>50%</th>\n",
       "      <td>2.000</td>\n",
       "      <td>1.000</td>\n",
       "      <td>1.600</td>\n",
       "      <td>1.000</td>\n",
       "      <td>162.000</td>\n",
       "      <td>162.000</td>\n",
       "      <td>1.000</td>\n",
       "      <td>9.000</td>\n",
       "      <td>0.500</td>\n",
       "      <td>0.500</td>\n",
       "      <td>1.950</td>\n",
       "      <td>0.000</td>\n",
       "      <td>0.300</td>\n",
       "      <td>14.300</td>\n",
       "      <td>2.500</td>\n",
       "    </tr>\n",
       "    <tr>\n",
       "      <th>75%</th>\n",
       "      <td>2.000</td>\n",
       "      <td>2.000</td>\n",
       "      <td>2.930</td>\n",
       "      <td>1.000</td>\n",
       "      <td>234.000</td>\n",
       "      <td>234.000</td>\n",
       "      <td>2.000</td>\n",
       "      <td>14.000</td>\n",
       "      <td>2.500</td>\n",
       "      <td>0.500</td>\n",
       "      <td>2.860</td>\n",
       "      <td>0.000</td>\n",
       "      <td>0.300</td>\n",
       "      <td>19.890</td>\n",
       "      <td>2.500</td>\n",
       "    </tr>\n",
       "    <tr>\n",
       "      <th>max</th>\n",
       "      <td>6.000</td>\n",
       "      <td>9.000</td>\n",
       "      <td>210148.620</td>\n",
       "      <td>99.000</td>\n",
       "      <td>265.000</td>\n",
       "      <td>265.000</td>\n",
       "      <td>4.000</td>\n",
       "      <td>960.500</td>\n",
       "      <td>90.060</td>\n",
       "      <td>0.500</td>\n",
       "      <td>445.680</td>\n",
       "      <td>831.750</td>\n",
       "      <td>0.300</td>\n",
       "      <td>960.800</td>\n",
       "      <td>2.750</td>\n",
       "    </tr>\n",
       "  </tbody>\n",
       "</table>\n",
       "</div>"
      ],
      "text/plain": [
       "         VendorID  passenger_count  trip_distance  RatecodeID  PULocationID  \\\n",
       "count 1571207.000      1555924.000    1571207.000 1555924.000   1571207.000   \n",
       "mean        1.673            1.501          3.046       1.056       164.420   \n",
       "std         0.470            1.142        176.422       0.737        65.720   \n",
       "min         1.000            0.000        -29.470       1.000         1.000   \n",
       "25%         1.000            1.000          0.970       1.000       125.000   \n",
       "50%         2.000            1.000          1.600       1.000       162.000   \n",
       "75%         2.000            2.000          2.930       1.000       234.000   \n",
       "max         6.000            9.000     210148.620      99.000       265.000   \n",
       "\n",
       "       DOLocationID  payment_type  fare_amount       extra     mta_tax  \\\n",
       "count   1571207.000   1571207.000  1571207.000 1571207.000 1571207.000   \n",
       "mean        162.224         1.252       12.617       1.107       0.492   \n",
       "std          70.011         0.486       11.774       1.257       0.073   \n",
       "min           1.000         0.000     -300.000      -7.000      -0.500   \n",
       "25%         113.000         1.000        6.500       0.000       0.500   \n",
       "50%         162.000         1.000        9.000       0.500       0.500   \n",
       "75%         234.000         2.000       14.000       2.500       0.500   \n",
       "max         265.000         4.000      960.500      90.060       0.500   \n",
       "\n",
       "       tip_amount  tolls_amount  improvement_surcharge  total_amount  \\\n",
       "count 1571207.000   1571207.000            1571207.000   1571207.000   \n",
       "mean        2.192         0.331                  0.298        18.561   \n",
       "std         2.711         1.777                  0.035        14.383   \n",
       "min       -45.000       -25.990                 -0.300      -303.300   \n",
       "25%         0.000         0.000                  0.300        11.160   \n",
       "50%         1.950         0.000                  0.300        14.300   \n",
       "75%         2.860         0.000                  0.300        19.890   \n",
       "max       445.680       831.750                  0.300       960.800   \n",
       "\n",
       "       congestion_surcharge  \n",
       "count           1555924.000  \n",
       "mean                  2.297  \n",
       "std                   0.706  \n",
       "min                  -2.500  \n",
       "25%                   2.500  \n",
       "50%                   2.500  \n",
       "75%                   2.500  \n",
       "max                   2.750  "
      ]
     },
     "execution_count": 4,
     "metadata": {},
     "output_type": "execute_result"
    }
   ],
   "source": [
    "# El archivo del dataset tiene como formato .parquet, el cual es un archivo que esta orientado a columnas. \n",
    "all_files = glob.glob(\"./data/*.parquet\")\n",
    "\n",
    "dataframe_list = []\n",
    "\n",
    "for filename in all_files:\n",
    "    # Se carga el archivo\n",
    "    df = pd.read_parquet(filename)\n",
    "    # Tomo el 10% del dataset total   \n",
    "    df = df.sample(frac=0.1)\n",
    "    # Agrego a la lista\n",
    "    dataframe_list.append(df)\n",
    "\n",
    "\n",
    "dataframe = pd.concat(dataframe_list, axis=0, ignore_index=True)\n",
    "\n",
    "\n",
    "dataframe.describe()"
   ]
  },
  {
   "cell_type": "code",
   "execution_count": 5,
   "metadata": {},
   "outputs": [
    {
     "name": "stdout",
     "output_type": "stream",
     "text": [
      "<class 'pandas.core.frame.DataFrame'>\n",
      "RangeIndex: 1571207 entries, 0 to 1571206\n",
      "Data columns (total 19 columns):\n",
      " #   Column                 Non-Null Count    Dtype         \n",
      "---  ------                 --------------    -----         \n",
      " 0   VendorID               1571207 non-null  int64         \n",
      " 1   tpep_pickup_datetime   1571207 non-null  datetime64[ns]\n",
      " 2   tpep_dropoff_datetime  1571207 non-null  datetime64[ns]\n",
      " 3   passenger_count        1555924 non-null  float64       \n",
      " 4   trip_distance          1571207 non-null  float64       \n",
      " 5   RatecodeID             1555924 non-null  float64       \n",
      " 6   store_and_fwd_flag     1555924 non-null  object        \n",
      " 7   PULocationID           1571207 non-null  int64         \n",
      " 8   DOLocationID           1571207 non-null  int64         \n",
      " 9   payment_type           1571207 non-null  int64         \n",
      " 10  fare_amount            1571207 non-null  float64       \n",
      " 11  extra                  1571207 non-null  float64       \n",
      " 12  mta_tax                1571207 non-null  float64       \n",
      " 13  tip_amount             1571207 non-null  float64       \n",
      " 14  tolls_amount           1571207 non-null  float64       \n",
      " 15  improvement_surcharge  1571207 non-null  float64       \n",
      " 16  total_amount           1571207 non-null  float64       \n",
      " 17  congestion_surcharge   1555924 non-null  float64       \n",
      " 18  airport_fee            0 non-null        object        \n",
      "dtypes: datetime64[ns](2), float64(11), int64(4), object(2)\n",
      "memory usage: 227.8+ MB\n"
     ]
    }
   ],
   "source": [
    "## Para obtener una descripción del tipo de datos que contiene cada columna, utilizamos la funcion info()\n",
    "# Podemos además, obtener una idea general de cuantos datos no nulos contiene.\n",
    "dataframe.info()"
   ]
  },
  {
   "cell_type": "code",
   "execution_count": 6,
   "metadata": {},
   "outputs": [
    {
     "data": {
      "text/html": [
       "<div>\n",
       "<style scoped>\n",
       "    .dataframe tbody tr th:only-of-type {\n",
       "        vertical-align: middle;\n",
       "    }\n",
       "\n",
       "    .dataframe tbody tr th {\n",
       "        vertical-align: top;\n",
       "    }\n",
       "\n",
       "    .dataframe thead th {\n",
       "        text-align: right;\n",
       "    }\n",
       "</style>\n",
       "<table border=\"1\" class=\"dataframe\">\n",
       "  <thead>\n",
       "    <tr style=\"text-align: right;\">\n",
       "      <th></th>\n",
       "      <th>VendorID</th>\n",
       "      <th>passenger_count</th>\n",
       "      <th>trip_distance</th>\n",
       "      <th>RatecodeID</th>\n",
       "      <th>PULocationID</th>\n",
       "      <th>DOLocationID</th>\n",
       "      <th>payment_type</th>\n",
       "      <th>fare_amount</th>\n",
       "      <th>extra</th>\n",
       "      <th>mta_tax</th>\n",
       "      <th>tip_amount</th>\n",
       "      <th>tolls_amount</th>\n",
       "      <th>improvement_surcharge</th>\n",
       "      <th>total_amount</th>\n",
       "      <th>congestion_surcharge</th>\n",
       "    </tr>\n",
       "  </thead>\n",
       "  <tbody>\n",
       "    <tr>\n",
       "      <th>count</th>\n",
       "      <td>1571207.000</td>\n",
       "      <td>1555924.000</td>\n",
       "      <td>1571207.000</td>\n",
       "      <td>1555924.000</td>\n",
       "      <td>1571207.000</td>\n",
       "      <td>1571207.000</td>\n",
       "      <td>1571207.000</td>\n",
       "      <td>1571207.000</td>\n",
       "      <td>1571207.000</td>\n",
       "      <td>1571207.000</td>\n",
       "      <td>1571207.000</td>\n",
       "      <td>1571207.000</td>\n",
       "      <td>1571207.000</td>\n",
       "      <td>1571207.000</td>\n",
       "      <td>1555924.000</td>\n",
       "    </tr>\n",
       "    <tr>\n",
       "      <th>mean</th>\n",
       "      <td>1.673</td>\n",
       "      <td>1.501</td>\n",
       "      <td>3.046</td>\n",
       "      <td>1.056</td>\n",
       "      <td>164.420</td>\n",
       "      <td>162.224</td>\n",
       "      <td>1.252</td>\n",
       "      <td>12.617</td>\n",
       "      <td>1.107</td>\n",
       "      <td>0.492</td>\n",
       "      <td>2.192</td>\n",
       "      <td>0.331</td>\n",
       "      <td>0.298</td>\n",
       "      <td>18.561</td>\n",
       "      <td>2.297</td>\n",
       "    </tr>\n",
       "    <tr>\n",
       "      <th>std</th>\n",
       "      <td>0.470</td>\n",
       "      <td>1.142</td>\n",
       "      <td>176.422</td>\n",
       "      <td>0.737</td>\n",
       "      <td>65.720</td>\n",
       "      <td>70.011</td>\n",
       "      <td>0.486</td>\n",
       "      <td>11.774</td>\n",
       "      <td>1.257</td>\n",
       "      <td>0.073</td>\n",
       "      <td>2.711</td>\n",
       "      <td>1.777</td>\n",
       "      <td>0.035</td>\n",
       "      <td>14.383</td>\n",
       "      <td>0.706</td>\n",
       "    </tr>\n",
       "    <tr>\n",
       "      <th>min</th>\n",
       "      <td>1.000</td>\n",
       "      <td>0.000</td>\n",
       "      <td>-29.470</td>\n",
       "      <td>1.000</td>\n",
       "      <td>1.000</td>\n",
       "      <td>1.000</td>\n",
       "      <td>0.000</td>\n",
       "      <td>-300.000</td>\n",
       "      <td>-7.000</td>\n",
       "      <td>-0.500</td>\n",
       "      <td>-45.000</td>\n",
       "      <td>-25.990</td>\n",
       "      <td>-0.300</td>\n",
       "      <td>-303.300</td>\n",
       "      <td>-2.500</td>\n",
       "    </tr>\n",
       "    <tr>\n",
       "      <th>25%</th>\n",
       "      <td>1.000</td>\n",
       "      <td>1.000</td>\n",
       "      <td>0.970</td>\n",
       "      <td>1.000</td>\n",
       "      <td>125.000</td>\n",
       "      <td>113.000</td>\n",
       "      <td>1.000</td>\n",
       "      <td>6.500</td>\n",
       "      <td>0.000</td>\n",
       "      <td>0.500</td>\n",
       "      <td>0.000</td>\n",
       "      <td>0.000</td>\n",
       "      <td>0.300</td>\n",
       "      <td>11.160</td>\n",
       "      <td>2.500</td>\n",
       "    </tr>\n",
       "    <tr>\n",
       "      <th>50%</th>\n",
       "      <td>2.000</td>\n",
       "      <td>1.000</td>\n",
       "      <td>1.600</td>\n",
       "      <td>1.000</td>\n",
       "      <td>162.000</td>\n",
       "      <td>162.000</td>\n",
       "      <td>1.000</td>\n",
       "      <td>9.000</td>\n",
       "      <td>0.500</td>\n",
       "      <td>0.500</td>\n",
       "      <td>1.950</td>\n",
       "      <td>0.000</td>\n",
       "      <td>0.300</td>\n",
       "      <td>14.300</td>\n",
       "      <td>2.500</td>\n",
       "    </tr>\n",
       "    <tr>\n",
       "      <th>75%</th>\n",
       "      <td>2.000</td>\n",
       "      <td>2.000</td>\n",
       "      <td>2.930</td>\n",
       "      <td>1.000</td>\n",
       "      <td>234.000</td>\n",
       "      <td>234.000</td>\n",
       "      <td>2.000</td>\n",
       "      <td>14.000</td>\n",
       "      <td>2.500</td>\n",
       "      <td>0.500</td>\n",
       "      <td>2.860</td>\n",
       "      <td>0.000</td>\n",
       "      <td>0.300</td>\n",
       "      <td>19.890</td>\n",
       "      <td>2.500</td>\n",
       "    </tr>\n",
       "    <tr>\n",
       "      <th>max</th>\n",
       "      <td>6.000</td>\n",
       "      <td>9.000</td>\n",
       "      <td>210148.620</td>\n",
       "      <td>99.000</td>\n",
       "      <td>265.000</td>\n",
       "      <td>265.000</td>\n",
       "      <td>4.000</td>\n",
       "      <td>960.500</td>\n",
       "      <td>90.060</td>\n",
       "      <td>0.500</td>\n",
       "      <td>445.680</td>\n",
       "      <td>831.750</td>\n",
       "      <td>0.300</td>\n",
       "      <td>960.800</td>\n",
       "      <td>2.750</td>\n",
       "    </tr>\n",
       "  </tbody>\n",
       "</table>\n",
       "</div>"
      ],
      "text/plain": [
       "         VendorID  passenger_count  trip_distance  RatecodeID  PULocationID  \\\n",
       "count 1571207.000      1555924.000    1571207.000 1555924.000   1571207.000   \n",
       "mean        1.673            1.501          3.046       1.056       164.420   \n",
       "std         0.470            1.142        176.422       0.737        65.720   \n",
       "min         1.000            0.000        -29.470       1.000         1.000   \n",
       "25%         1.000            1.000          0.970       1.000       125.000   \n",
       "50%         2.000            1.000          1.600       1.000       162.000   \n",
       "75%         2.000            2.000          2.930       1.000       234.000   \n",
       "max         6.000            9.000     210148.620      99.000       265.000   \n",
       "\n",
       "       DOLocationID  payment_type  fare_amount       extra     mta_tax  \\\n",
       "count   1571207.000   1571207.000  1571207.000 1571207.000 1571207.000   \n",
       "mean        162.224         1.252       12.617       1.107       0.492   \n",
       "std          70.011         0.486       11.774       1.257       0.073   \n",
       "min           1.000         0.000     -300.000      -7.000      -0.500   \n",
       "25%         113.000         1.000        6.500       0.000       0.500   \n",
       "50%         162.000         1.000        9.000       0.500       0.500   \n",
       "75%         234.000         2.000       14.000       2.500       0.500   \n",
       "max         265.000         4.000      960.500      90.060       0.500   \n",
       "\n",
       "       tip_amount  tolls_amount  improvement_surcharge  total_amount  \\\n",
       "count 1571207.000   1571207.000            1571207.000   1571207.000   \n",
       "mean        2.192         0.331                  0.298        18.561   \n",
       "std         2.711         1.777                  0.035        14.383   \n",
       "min       -45.000       -25.990                 -0.300      -303.300   \n",
       "25%         0.000         0.000                  0.300        11.160   \n",
       "50%         1.950         0.000                  0.300        14.300   \n",
       "75%         2.860         0.000                  0.300        19.890   \n",
       "max       445.680       831.750                  0.300       960.800   \n",
       "\n",
       "       congestion_surcharge  \n",
       "count           1555924.000  \n",
       "mean                  2.297  \n",
       "std                   0.706  \n",
       "min                  -2.500  \n",
       "25%                   2.500  \n",
       "50%                   2.500  \n",
       "75%                   2.500  \n",
       "max                   2.750  "
      ]
     },
     "execution_count": 6,
     "metadata": {},
     "output_type": "execute_result"
    }
   ],
   "source": [
    "# La función describe() nos da una vista general de valores de cantidades de datos, media, desv. standard, valores min y max de cada columna.\n",
    "dataframe.describe()"
   ]
  },
  {
   "cell_type": "markdown",
   "metadata": {},
   "source": [
    "### Descripción de Columnas del Dataset.\n"
   ]
  },
  {
   "cell_type": "code",
   "execution_count": 7,
   "metadata": {},
   "outputs": [
    {
     "data": {
      "text/plain": [
       "VendorID                          int64\n",
       "tpep_pickup_datetime     datetime64[ns]\n",
       "tpep_dropoff_datetime    datetime64[ns]\n",
       "passenger_count                 float64\n",
       "trip_distance                   float64\n",
       "RatecodeID                      float64\n",
       "store_and_fwd_flag               object\n",
       "PULocationID                      int64\n",
       "DOLocationID                      int64\n",
       "payment_type                      int64\n",
       "fare_amount                     float64\n",
       "extra                           float64\n",
       "mta_tax                         float64\n",
       "tip_amount                      float64\n",
       "tolls_amount                    float64\n",
       "improvement_surcharge           float64\n",
       "total_amount                    float64\n",
       "congestion_surcharge            float64\n",
       "airport_fee                      object\n",
       "dtype: object"
      ]
     },
     "execution_count": 7,
     "metadata": {},
     "output_type": "execute_result"
    }
   ],
   "source": [
    "# Listado de tipos de variables presentes en el dataset\n",
    "dataframe.dtypes"
   ]
  },
  {
   "cell_type": "code",
   "execution_count": 8,
   "metadata": {},
   "outputs": [],
   "source": [
    "# funcion para plotear las distribuciones de los atributos\n",
    "def display_dataset_distributions(dataset):\n",
    "    fig = dataset.hist(xlabelsize=10, ylabelsize=10,figsize=(18,18))\n",
    "    [x.title.set_size(14) for x in fig.ravel()]\n",
    "    plt.tight_layout\n",
    "    plt.show()\n",
    "    \n",
    "\n",
    "# funcion para imprimir nulos\n",
    "def print_null_info(col):\n",
    "    print(f'Cantidad de nulos: {col.isnull().sum()}/{col.size}')\n",
    "\n",
    "# funcion para imprimir datos de v. categoricas\n",
    "def print_categorical(col):\n",
    "    print(f'Ordinalidad: {col.unique()}')\n",
    "    print_null_info(col)\n",
    "    print('Ocurrencias:')\n",
    "    print(col.value_counts().sort_values())"
   ]
  },
  {
   "cell_type": "code",
   "execution_count": 9,
   "metadata": {},
   "outputs": [
    {
     "data": {
      "image/png": "[encoded data removed]",
      "text/plain": [
       "<Figure size 1296x1296 with 20 Axes>"
      ]
     },
     "metadata": {
      "needs_background": "light"
     },
     "output_type": "display_data"
    }
   ],
   "source": [
    "#imprimo distribuciones \n",
    "display_dataset_distributions(dataframe)"
   ]
  },
  {
   "cell_type": "markdown",
   "metadata": {},
   "source": [
    "\n",
    "- **VendorID**: Proveedor de servicios de tecnologias en taxis (T-PEP)\n",
    "    - Tipo de dato: Categórica ordinal  \n",
    "    - Tipo de variable: Entrada  \n"
   ]
  },
  {
   "cell_type": "code",
   "execution_count": 10,
   "metadata": {},
   "outputs": [
    {
     "name": "stdout",
     "output_type": "stream",
     "text": [
      "Ordinalidad: [2 1 6 5]\n",
      "Cantidad de nulos: 0/1571207\n",
      "Ocurrencias:\n",
      "5          4\n",
      "6         47\n",
      "1     514175\n",
      "2    1056981\n",
      "Name: VendorID, dtype: int64\n"
     ]
    }
   ],
   "source": [
    "print_categorical(dataframe.VendorID)"
   ]
  },
  {
   "cell_type": "markdown",
   "metadata": {},
   "source": [
    "\n",
    "- **tpep_pickup_datetime**: Fecha y hora en el cual el reloj fue activado al iniciar un viaje.\n",
    "    - Tipo de dato: Timestamp compuesto  \n",
    "    - Tipo de variable: Entrada  \n",
    "\n",
    "    - Ejemplo del dato en el dataset: 2020-07-01 00:25:32\n"
   ]
  },
  {
   "cell_type": "code",
   "execution_count": 11,
   "metadata": {},
   "outputs": [
    {
     "name": "stdout",
     "output_type": "stream",
     "text": [
      "Cantidad de nulos: 0/1571207\n"
     ]
    }
   ],
   "source": [
    "print_null_info(dataframe.tpep_pickup_datetime)"
   ]
  },
  {
   "cell_type": "markdown",
   "metadata": {},
   "source": [
    "- **tpep_dropoff_datetime**: Fecha y hora en el cual el reloj fue desactivador al finalizar un viaje.\n",
    "    - Tipo de dato: Timestamp compuesto\n",
    "    - Tipo de variable: Entrada  / Salida\n",
    "\n",
    "    - Ejemplo del dato en el dataset: 2020-07-01 00:33:39\n"
   ]
  },
  {
   "cell_type": "code",
   "execution_count": 12,
   "metadata": {},
   "outputs": [
    {
     "name": "stdout",
     "output_type": "stream",
     "text": [
      "Cantidad de nulos: 0/1571207\n"
     ]
    }
   ],
   "source": [
    "print_null_info(dataframe.tpep_dropoff_datetime)"
   ]
  },
  {
   "cell_type": "markdown",
   "metadata": {},
   "source": [
    "- **passenger_count**: El número de pasajeros en el vehiculo. (Es un dato que lo ingresa el conductor.)\n",
    "    - Tipo de dato: Numérico \n",
    "    - Tipo de variable: Entrada\n",
    "    - Ejemplo del dato en el dataset: 1.0"
   ]
  },
  {
   "cell_type": "code",
   "execution_count": 13,
   "metadata": {},
   "outputs": [
    {
     "name": "stdout",
     "output_type": "stream",
     "text": [
      "Cantidad de nulos: 15283/1571207\n"
     ]
    }
   ],
   "source": [
    "print_null_info(dataframe.passenger_count)"
   ]
  },
  {
   "cell_type": "markdown",
   "metadata": {},
   "source": [
    "\n",
    "- **trip_distance**: La distancia del viaje transcurrido en millas reportada por el taxímetro. \n",
    "    - Tipo de dato: Numérico \n",
    "    - Tipo de variable: Entrada  \n",
    "\n",
    "    - Ejemplo del dato en el dataset: 1.50\n"
   ]
  },
  {
   "cell_type": "code",
   "execution_count": 14,
   "metadata": {},
   "outputs": [
    {
     "name": "stdout",
     "output_type": "stream",
     "text": [
      "Cantidad de nulos: 0/1571207\n"
     ]
    }
   ],
   "source": [
    "print_null_info(dataframe.trip_distance)"
   ]
  },
  {
   "cell_type": "markdown",
   "metadata": {},
   "source": [
    "- **PULocationID**: TLC Zona en la que el taxímetro se activó.\n",
    "    - Tipo de dato: Categórica ordinal\n",
    "    - Tipo de variable: Entrada / Salida\n",
    "\n",
    "    - Ejemplo del dato en el dataset: 238\n"
   ]
  },
  {
   "cell_type": "code",
   "execution_count": 15,
   "metadata": {},
   "outputs": [
    {
     "name": "stdout",
     "output_type": "stream",
     "text": [
      "Ordinalidad: [ 87 239  68 162 186 234 144 246 236 261 230 211 143 249 138 164 151 132\n",
      " 161  42  90  43 107  74 237 263 226  48 158 229 262  75 233 137 140 163\n",
      " 238 231 114 170 264 146 142 141 166 148  88   4 185  24 228 100 244 152\n",
      "  79  70 125  50  13  52  65 116 113 247 232   7  41 129 260 193 189  56\n",
      "  45 224  25  80 196  95 130 181 167 265  66  97 202 209  33 197  76  93\n",
      " 255 250  40  71 223 179  92  12 102  89  69  82  49  61  51 127 210  54\n",
      "  78  98 257 168  28  72  37 205 157 194 145 134 177 106  83  14  36 256\n",
      " 243 217 254 188 227  62 121 131 215   9 173 128  77 235  10 119 225  47\n",
      " 216 219  26  17 222  35 190   1 153 208 117  18 122 159 126  91 169 182\n",
      "  19  11 218 155 175  81 124  39 203  16 212 248 242  38 207 115 258 123\n",
      " 112  32 241  60  29 136 259 201 213 252 133 198  85 147 165 191 171  53\n",
      " 192   3 220  20  86 108 240 149  55 135  73   6  31  21  27  58 150  63\n",
      "  22 253 160 109 139 200  94 195 214 178 174 101 183 118  44   5  59  46\n",
      " 180  15  64  34  23   8 206  67  99 120  96 154 105 156 251 221 172  57\n",
      " 111 176]\n",
      "Cantidad de nulos: 0/1571207\n",
      "Ocurrencias:\n",
      "176        1\n",
      "105        1\n",
      "111        1\n",
      "172        1\n",
      "251        1\n",
      "       ...  \n",
      "186    55370\n",
      "162    57500\n",
      "236    65682\n",
      "161    68136\n",
      "237    69858\n",
      "Name: PULocationID, Length: 254, dtype: int64\n"
     ]
    }
   ],
   "source": [
    "print_categorical(dataframe.PULocationID)"
   ]
  },
  {
   "cell_type": "markdown",
   "metadata": {},
   "source": [
    "\n",
    "- **DOLocationID**: TLC Zona en la que el taxímetro se desactivó.\n",
    "    - Tipo de dato: Categórica ordinal\n",
    "    - Tipo de variable: Entrada / Salida \n",
    "\n",
    "    - Ejemplo del dato en el dataset: 75\n"
   ]
  },
  {
   "cell_type": "code",
   "execution_count": 16,
   "metadata": {},
   "outputs": [
    {
     "name": "stdout",
     "output_type": "stream",
     "text": [
      "Ordinalidad: [246 238 140   4  90 231 249 234 161 230 239  13 226  88 236 100 113  42\n",
      " 164 263 107  48 233 163  50 186 170 237  75 138 218 262 162  79 144 158\n",
      " 125  68 264  45 232 132 229 181 211 119 142 255  49   3  43  35 224 141\n",
      "  72  95 143  70 129 137  41 116 179  87  52 223 130 151 174  89 114  82\n",
      " 216 166  32  39 160 261 256 247  25 112  24 148  60 152  17 209  97  76\n",
      "   7 167  62 260 203  74   1 197  65  28  18 193  56 190 121 135  69 117\n",
      "  33 254 196 134  93  10  14  61 244 265 228 217  80 252 225 168 243 180\n",
      " 159  66  40 215  37  91 145 127 102 191 146 207 200  36  55 123 222  98\n",
      "  19 133 131 106  26 202  63 241 195 208 198 149 136 189 171 124  47 227\n",
      " 213   9 258  54  92  71  83 177 147 235 205  84 188  53 173 122  77 157\n",
      " 259 155 139  22  85  78  15 165  51 257 185 182 206 183  11   8 178 120\n",
      " 219  21 220 250 210  31  86 248  12  81  38 126 201 240  34  16 169 153\n",
      "  20 192  29 214 212  64 245  94  67 242 176 194 175 108 253  73 101 115\n",
      " 118 150 128   5 184 221  23  96 109  57  46 111 154 187 251  59  27 172\n",
      "  30 156   6  44  58  99 204]\n",
      "Cantidad de nulos: 0/1571207\n",
      "Ocurrencias:\n",
      "99         3\n",
      "204        4\n",
      "30         7\n",
      "187        9\n",
      "172       11\n",
      "       ...  \n",
      "162    46505\n",
      "170    48495\n",
      "161    60172\n",
      "237    62758\n",
      "236    69267\n",
      "Name: DOLocationID, Length: 259, dtype: int64\n"
     ]
    }
   ],
   "source": [
    "print_categorical(dataframe.DOLocationID)"
   ]
  },
  {
   "cell_type": "markdown",
   "metadata": {},
   "source": [
    "\n",
    "- **RatecodeID**:  El código de tarifa final vigente al final del viaje.\n",
    "    - Tipo de dato: Categórica ordinal\n",
    "    - Tipo de variable: Entrada  \n",
    "\n",
    "    - 1= Standard rate\n",
    "    - 2= JFK \n",
    "    - 3= Newark\n",
    "    - 4= Nassau or Westchester\n",
    "    - 5= Negotiated fare\n",
    "    - 6= Group ride\n"
   ]
  },
  {
   "cell_type": "code",
   "execution_count": 17,
   "metadata": {},
   "outputs": [
    {
     "name": "stdout",
     "output_type": "stream",
     "text": [
      "Ordinalidad: [ 1.  2. nan  5.  3.  4. 99.  6.]\n",
      "Cantidad de nulos: 15283/1571207\n",
      "Ocurrencias:\n",
      "6.000          10\n",
      "99.000         68\n",
      "4.000        1196\n",
      "3.000        3130\n",
      "5.000        8662\n",
      "2.000       35906\n",
      "1.000     1506952\n",
      "Name: RatecodeID, dtype: int64\n"
     ]
    }
   ],
   "source": [
    "print_categorical(dataframe.RatecodeID)"
   ]
  },
  {
   "cell_type": "markdown",
   "metadata": {},
   "source": [
    "- **store_and_fwd_flag**:  Este flag indica si el registro de viaje se llevó a cabo en la memoria del dispositivo del vehiculo antes de enviar al proveedor, también conocido como \"almacenar y reenviar\", porque el vehiculo no tenia conexion al servidor.\n",
    "    - Tipo de dato: Categórica  \n",
    "    - Tipo de variable: Entrada  \n",
    "\n",
    "    - Y= Almacenar y reenviar informacion.\n",
    "    - N= No almacenar y enviar informacion.\n"
   ]
  },
  {
   "cell_type": "code",
   "execution_count": 18,
   "metadata": {},
   "outputs": [
    {
     "name": "stdout",
     "output_type": "stream",
     "text": [
      "Ordinalidad: ['N' None 'Y']\n",
      "Cantidad de nulos: 15283/1571207\n",
      "Ocurrencias:\n",
      "Y      15818\n",
      "N    1540106\n",
      "Name: store_and_fwd_flag, dtype: int64\n"
     ]
    }
   ],
   "source": [
    "print_categorical(dataframe.store_and_fwd_flag)"
   ]
  },
  {
   "cell_type": "markdown",
   "metadata": {},
   "source": [
    "\n",
    "- **payment_type**: Un código numérico que significa cómo el pasajero pagó por el viaje.\n",
    "    - Tipo de dato: Categórica ordinal  \n",
    "    - Tipo de variable: Entrada  \n",
    "\n",
    "    - 1= Credit card\n",
    "    - 2= Cash\n",
    "    - 3= No charge\n",
    "    - 4= Dispute\n",
    "    - 5= Unknown\n",
    "    - 6= Voided trip\n"
   ]
  },
  {
   "cell_type": "code",
   "execution_count": 19,
   "metadata": {},
   "outputs": [
    {
     "name": "stdout",
     "output_type": "stream",
     "text": [
      "Ordinalidad: [1 2 0 3 4]\n",
      "Cantidad de nulos: 0/1571207\n",
      "Ocurrencias:\n",
      "4       4548\n",
      "3       8129\n",
      "0      15283\n",
      "2     381608\n",
      "1    1161639\n",
      "Name: payment_type, dtype: int64\n"
     ]
    }
   ],
   "source": [
    "print_categorical(dataframe.payment_type)"
   ]
  },
  {
   "cell_type": "markdown",
   "metadata": {},
   "source": [
    "- **fare_amount**: La tarifa de tiempo y distancia calculada por el taxímetro.\n",
    "    - Tipo de dato: Numérico  \n",
    "    - Tipo de variable: Salida  \n",
    "\n",
    "    - Ejemplo del dato en el dataset: 8.0\n"
   ]
  },
  {
   "cell_type": "code",
   "execution_count": 20,
   "metadata": {},
   "outputs": [
    {
     "name": "stdout",
     "output_type": "stream",
     "text": [
      "Cantidad de nulos: 0/1571207\n"
     ]
    }
   ],
   "source": [
    "print_null_info(dataframe.fare_amount)"
   ]
  },
  {
   "cell_type": "markdown",
   "metadata": {},
   "source": [
    "- **Extra**: Varios extras y recargos. Actualmente, esto solo incluye los cargos de $0.50 y $1 por la hora pico y por la noche.\n",
    "    - Tipo de dato: Numérico  \n",
    "    - Tipo de variable: Salida  \n",
    "\n",
    "    - Ejemplo del dato en el dataset: 0.5\n"
   ]
  },
  {
   "cell_type": "code",
   "execution_count": 21,
   "metadata": {},
   "outputs": [
    {
     "name": "stdout",
     "output_type": "stream",
     "text": [
      "Cantidad de nulos: 0/1571207\n"
     ]
    }
   ],
   "source": [
    "print_null_info(dataframe.extra)"
   ]
  },
  {
   "cell_type": "markdown",
   "metadata": {},
   "source": [
    "\n",
    "- **mta_tax**: Impuesto MTA de $0.50 que se activa automáticamente según la tasa de uso del medidor.\n",
    "    - Tipo de dato: Numérico\n",
    "    - Tipo de variable: Salida  \n",
    "\n",
    "    - Ejemplo del dato en el dataset: 0.5\n"
   ]
  },
  {
   "cell_type": "code",
   "execution_count": 22,
   "metadata": {},
   "outputs": [
    {
     "name": "stdout",
     "output_type": "stream",
     "text": [
      "Cantidad de nulos: 0/1571207\n"
     ]
    }
   ],
   "source": [
    "print_null_info(dataframe.mta_tax)"
   ]
  },
  {
   "cell_type": "markdown",
   "metadata": {},
   "source": [
    "- **improvement_surcharge**: Recargo de mejora de $ 0.30 en viaje en el descenso de bandera. El recargo por mejora comenzó a cobrarse en 2015.\n",
    "    - Tipo de dato: Numérico  \n",
    "    - Tipo de variable: Salida  \n",
    "\n",
    "    - Ejemplo del dato en el dataset: 0.3\n"
   ]
  },
  {
   "cell_type": "code",
   "execution_count": 23,
   "metadata": {},
   "outputs": [
    {
     "name": "stdout",
     "output_type": "stream",
     "text": [
      "Cantidad de nulos: 0/1571207\n"
     ]
    }
   ],
   "source": [
    "print_null_info(dataframe.improvement_surcharge)"
   ]
  },
  {
   "cell_type": "markdown",
   "metadata": {},
   "source": [
    "- **tip_amount**: Importe de la propina: este campo se completa automáticamente para las propinas de tarjetas de crédito. Las propinas en efectivo no están incluidas.\n",
    "    - Tipo de dato: Numérico\n",
    "    - Tipo de variable: Salida  \n",
    "\n",
    "    - Ejemplo del dato en el dataset: 0.00  \n"
   ]
  },
  {
   "cell_type": "code",
   "execution_count": 24,
   "metadata": {},
   "outputs": [
    {
     "name": "stdout",
     "output_type": "stream",
     "text": [
      "Cantidad de nulos: 0/1571207\n"
     ]
    }
   ],
   "source": [
    "print_null_info(dataframe.tip_amount)"
   ]
  },
  {
   "cell_type": "markdown",
   "metadata": {},
   "source": [
    "- **tolls_amount**: Importe total de todos los peajes pagados en el viaje.\n",
    "    - Tipo de dato: Numérico\n",
    "    - Tipo de variable: Salida  \n",
    "    - Ejemplo del dato en el dataset: 0.00\n"
   ]
  },
  {
   "cell_type": "code",
   "execution_count": 25,
   "metadata": {},
   "outputs": [
    {
     "name": "stdout",
     "output_type": "stream",
     "text": [
      "Cantidad de nulos: 0/1571207\n"
     ]
    }
   ],
   "source": [
    "print_null_info(dataframe.tolls_amount)"
   ]
  },
  {
   "cell_type": "markdown",
   "metadata": {},
   "source": [
    "\n",
    "- **total_amount**: El monto total cobrado a los pasajeros. No incluye propinas en efectivo.\n",
    "    - Tipo de dato: Numérico  \n",
    "    - Tipo de variable: Salida  \n",
    "    - Ejemplo del dato en el dataset: 9.30\n"
   ]
  },
  {
   "cell_type": "code",
   "execution_count": 26,
   "metadata": {},
   "outputs": [
    {
     "name": "stdout",
     "output_type": "stream",
     "text": [
      "Cantidad de nulos: 0/1571207\n"
     ]
    }
   ],
   "source": [
    "print_null_info(dataframe.total_amount)"
   ]
  },
  {
   "cell_type": "markdown",
   "metadata": {},
   "source": [
    "- **congestion_surcharge**: Importe total recaudado en el viaje por el recargo por congestión del Estado de Nueva York.\n",
    "    - Tipo de dato: Numérico\n",
    "    - Tipo de variable: Salida  \n",
    "    - Ejemplo del dato en el dataset: 0.00\n"
   ]
  },
  {
   "cell_type": "code",
   "execution_count": 27,
   "metadata": {},
   "outputs": [
    {
     "name": "stdout",
     "output_type": "stream",
     "text": [
      "Cantidad de nulos: 15283/1571207\n"
     ]
    }
   ],
   "source": [
    "print_null_info(dataframe.congestion_surcharge)"
   ]
  },
  {
   "cell_type": "markdown",
   "metadata": {},
   "source": [
    "- **airport_fee**: $1.25 para recoger solo en los aeropuertos LaGuardia y John F. Kennedy\n",
    "    - Tipo de dato: Numérico  \n",
    "    - Tipo de variable: Salida\n",
    "    - Ejemplo del dato en el dataset: None"
   ]
  },
  {
   "cell_type": "code",
   "execution_count": 28,
   "metadata": {},
   "outputs": [
    {
     "name": "stdout",
     "output_type": "stream",
     "text": [
      "Cantidad de nulos: 1571207/1571207\n"
     ]
    }
   ],
   "source": [
    "print_null_info(dataframe.airport_fee)"
   ]
  },
  {
   "cell_type": "markdown",
   "metadata": {},
   "source": [
    "## 2. Limpieza de los datos\n"
   ]
  },
  {
   "cell_type": "markdown",
   "metadata": {},
   "source": [
    "### 2.1 Datos faltantes"
   ]
  },
  {
   "cell_type": "code",
   "execution_count": 29,
   "metadata": {},
   "outputs": [
    {
     "data": {
      "text/plain": [
       "29850577"
      ]
     },
     "execution_count": 29,
     "metadata": {},
     "output_type": "execute_result"
    }
   ],
   "source": [
    "# verificamos cantidad de items repetidos y los eliminamos\n",
    "#dataframe.duplicated().sum(), dataframe.size\n",
    "dataframe = dataframe.drop_duplicates()\n",
    "dataframe.size"
   ]
  },
  {
   "cell_type": "code",
   "execution_count": 30,
   "metadata": {},
   "outputs": [
    {
     "name": "stdout",
     "output_type": "stream",
     "text": [
      "VendorID: 0/1571083\n",
      "tpep_pickup_datetime: 0/1571083\n",
      "tpep_dropoff_datetime: 0/1571083\n",
      "passenger_count: 15159/1571083\n",
      "trip_distance: 0/1571083\n",
      "RatecodeID: 15159/1571083\n",
      "store_and_fwd_flag: 15159/1571083\n",
      "PULocationID: 0/1571083\n",
      "DOLocationID: 0/1571083\n",
      "payment_type: 0/1571083\n",
      "fare_amount: 0/1571083\n",
      "extra: 0/1571083\n",
      "mta_tax: 0/1571083\n",
      "tip_amount: 0/1571083\n",
      "tolls_amount: 0/1571083\n",
      "improvement_surcharge: 0/1571083\n",
      "total_amount: 0/1571083\n",
      "congestion_surcharge: 15159/1571083\n",
      "airport_fee: 1571083/1571083\n"
     ]
    }
   ],
   "source": [
    "# verificamos cantidad de nulos en cada categoría\n",
    "for i in range(len(dataframe.columns)):\n",
    "  col_name = dataframe.columns[i]\n",
    "  col_data = dataframe[col_name]\n",
    "  print(f'{col_name}: {col_data.isnull().sum()}/{col_data.size}')"
   ]
  },
  {
   "cell_type": "code",
   "execution_count": 31,
   "metadata": {},
   "outputs": [
    {
     "name": "stdout",
     "output_type": "stream",
     "text": [
      "Total original cols:19\n",
      "Total cols after removing unused data:15\n"
     ]
    }
   ],
   "source": [
    "# quitamos las columnas VendorID, RateCodeID, store_and_fwd_flag y airport_fee ya que son nulas o no aportan valor\n",
    "cols_to_drop = ['VendorID', 'RatecodeID', 'store_and_fwd_flag', 'airport_fee']\n",
    "print(f'Total original cols:{len(dataframe.columns)}')\n",
    "dataframe = dataframe.drop(cols_to_drop, axis=1)\n",
    "print(f'Total cols after removing unused data:{len(dataframe.columns)}')"
   ]
  },
  {
   "cell_type": "markdown",
   "metadata": {},
   "source": [
    "#### 2.1.1 Análisis de faltantes\n",
    "La única categoría con faltantes no filtrada es passenger_count. Se entiende que este dato es ingresado manualmente. \n",
    "Se propone eliminar dichas muestras ya que representan el 1% aproximadamente del dataset total\n"
   ]
  },
  {
   "cell_type": "code",
   "execution_count": 32,
   "metadata": {},
   "outputs": [
    {
     "data": {
      "text/plain": [
       "1555924"
      ]
     },
     "execution_count": 32,
     "metadata": {},
     "output_type": "execute_result"
    }
   ],
   "source": [
    "# descarto filas con passenger count o congestion_surcharge nulo\n",
    "dataframe = dataframe.dropna(subset=['passenger_count', 'congestion_surcharge'])\n",
    "len(dataframe['passenger_count'])"
   ]
  },
  {
   "cell_type": "markdown",
   "metadata": {},
   "source": [
    "### 2.2 Ingeniería de datos"
   ]
  },
  {
   "cell_type": "code",
   "execution_count": 33,
   "metadata": {},
   "outputs": [
    {
     "data": {
      "text/html": [
       "<div>\n",
       "<style scoped>\n",
       "    .dataframe tbody tr th:only-of-type {\n",
       "        vertical-align: middle;\n",
       "    }\n",
       "\n",
       "    .dataframe tbody tr th {\n",
       "        vertical-align: top;\n",
       "    }\n",
       "\n",
       "    .dataframe thead th {\n",
       "        text-align: right;\n",
       "    }\n",
       "</style>\n",
       "<table border=\"1\" class=\"dataframe\">\n",
       "  <thead>\n",
       "    <tr style=\"text-align: right;\">\n",
       "      <th></th>\n",
       "      <th>passenger_count</th>\n",
       "      <th>trip_distance</th>\n",
       "      <th>PULocationID</th>\n",
       "      <th>DOLocationID</th>\n",
       "      <th>payment_type</th>\n",
       "      <th>fare_amount</th>\n",
       "      <th>extra</th>\n",
       "      <th>mta_tax</th>\n",
       "      <th>tip_amount</th>\n",
       "      <th>tolls_amount</th>\n",
       "      <th>improvement_surcharge</th>\n",
       "      <th>total_amount</th>\n",
       "      <th>congestion_surcharge</th>\n",
       "      <th>trip_duration</th>\n",
       "    </tr>\n",
       "  </thead>\n",
       "  <tbody>\n",
       "    <tr>\n",
       "      <th>count</th>\n",
       "      <td>1555924.000</td>\n",
       "      <td>1555924.000</td>\n",
       "      <td>1555924.000</td>\n",
       "      <td>1555924.000</td>\n",
       "      <td>1555924.000</td>\n",
       "      <td>1555924.000</td>\n",
       "      <td>1555924.000</td>\n",
       "      <td>1555924.000</td>\n",
       "      <td>1555924.000</td>\n",
       "      <td>1555924.000</td>\n",
       "      <td>1555924.000</td>\n",
       "      <td>1555924.000</td>\n",
       "      <td>1555924.000</td>\n",
       "      <td>1555924.000</td>\n",
       "    </tr>\n",
       "    <tr>\n",
       "      <th>mean</th>\n",
       "      <td>1.501</td>\n",
       "      <td>2.820</td>\n",
       "      <td>164.694</td>\n",
       "      <td>162.533</td>\n",
       "      <td>1.264</td>\n",
       "      <td>12.445</td>\n",
       "      <td>1.097</td>\n",
       "      <td>0.494</td>\n",
       "      <td>2.213</td>\n",
       "      <td>0.318</td>\n",
       "      <td>0.298</td>\n",
       "      <td>18.403</td>\n",
       "      <td>2.297</td>\n",
       "      <td>952.729</td>\n",
       "    </tr>\n",
       "    <tr>\n",
       "      <th>std</th>\n",
       "      <td>1.142</td>\n",
       "      <td>3.694</td>\n",
       "      <td>65.571</td>\n",
       "      <td>69.895</td>\n",
       "      <td>0.472</td>\n",
       "      <td>11.623</td>\n",
       "      <td>1.251</td>\n",
       "      <td>0.068</td>\n",
       "      <td>2.714</td>\n",
       "      <td>1.758</td>\n",
       "      <td>0.035</td>\n",
       "      <td>14.281</td>\n",
       "      <td>0.706</td>\n",
       "      <td>3749.694</td>\n",
       "    </tr>\n",
       "    <tr>\n",
       "      <th>min</th>\n",
       "      <td>0.000</td>\n",
       "      <td>-1.790</td>\n",
       "      <td>1.000</td>\n",
       "      <td>1.000</td>\n",
       "      <td>1.000</td>\n",
       "      <td>-300.000</td>\n",
       "      <td>-7.000</td>\n",
       "      <td>-0.500</td>\n",
       "      <td>-45.000</td>\n",
       "      <td>-25.990</td>\n",
       "      <td>-0.300</td>\n",
       "      <td>-303.300</td>\n",
       "      <td>-2.500</td>\n",
       "      <td>0.000</td>\n",
       "    </tr>\n",
       "    <tr>\n",
       "      <th>25%</th>\n",
       "      <td>1.000</td>\n",
       "      <td>0.960</td>\n",
       "      <td>132.000</td>\n",
       "      <td>113.000</td>\n",
       "      <td>1.000</td>\n",
       "      <td>6.500</td>\n",
       "      <td>0.000</td>\n",
       "      <td>0.500</td>\n",
       "      <td>0.000</td>\n",
       "      <td>0.000</td>\n",
       "      <td>0.300</td>\n",
       "      <td>11.160</td>\n",
       "      <td>2.500</td>\n",
       "      <td>383.000</td>\n",
       "    </tr>\n",
       "    <tr>\n",
       "      <th>50%</th>\n",
       "      <td>1.000</td>\n",
       "      <td>1.600</td>\n",
       "      <td>162.000</td>\n",
       "      <td>162.000</td>\n",
       "      <td>1.000</td>\n",
       "      <td>9.000</td>\n",
       "      <td>0.500</td>\n",
       "      <td>0.500</td>\n",
       "      <td>1.960</td>\n",
       "      <td>0.000</td>\n",
       "      <td>0.300</td>\n",
       "      <td>14.300</td>\n",
       "      <td>2.500</td>\n",
       "      <td>631.000</td>\n",
       "    </tr>\n",
       "    <tr>\n",
       "      <th>75%</th>\n",
       "      <td>2.000</td>\n",
       "      <td>2.900</td>\n",
       "      <td>234.000</td>\n",
       "      <td>234.000</td>\n",
       "      <td>2.000</td>\n",
       "      <td>13.500</td>\n",
       "      <td>2.500</td>\n",
       "      <td>0.500</td>\n",
       "      <td>2.900</td>\n",
       "      <td>0.000</td>\n",
       "      <td>0.300</td>\n",
       "      <td>19.750</td>\n",
       "      <td>2.500</td>\n",
       "      <td>1012.000</td>\n",
       "    </tr>\n",
       "    <tr>\n",
       "      <th>max</th>\n",
       "      <td>9.000</td>\n",
       "      <td>369.940</td>\n",
       "      <td>265.000</td>\n",
       "      <td>265.000</td>\n",
       "      <td>4.000</td>\n",
       "      <td>960.500</td>\n",
       "      <td>90.060</td>\n",
       "      <td>0.500</td>\n",
       "      <td>445.680</td>\n",
       "      <td>831.750</td>\n",
       "      <td>0.300</td>\n",
       "      <td>960.800</td>\n",
       "      <td>2.750</td>\n",
       "      <td>332995.000</td>\n",
       "    </tr>\n",
       "  </tbody>\n",
       "</table>\n",
       "</div>"
      ],
      "text/plain": [
       "       passenger_count  trip_distance  PULocationID  DOLocationID  \\\n",
       "count      1555924.000    1555924.000   1555924.000   1555924.000   \n",
       "mean             1.501          2.820       164.694       162.533   \n",
       "std              1.142          3.694        65.571        69.895   \n",
       "min              0.000         -1.790         1.000         1.000   \n",
       "25%              1.000          0.960       132.000       113.000   \n",
       "50%              1.000          1.600       162.000       162.000   \n",
       "75%              2.000          2.900       234.000       234.000   \n",
       "max              9.000        369.940       265.000       265.000   \n",
       "\n",
       "       payment_type  fare_amount       extra     mta_tax  tip_amount  \\\n",
       "count   1555924.000  1555924.000 1555924.000 1555924.000 1555924.000   \n",
       "mean          1.264       12.445       1.097       0.494       2.213   \n",
       "std           0.472       11.623       1.251       0.068       2.714   \n",
       "min           1.000     -300.000      -7.000      -0.500     -45.000   \n",
       "25%           1.000        6.500       0.000       0.500       0.000   \n",
       "50%           1.000        9.000       0.500       0.500       1.960   \n",
       "75%           2.000       13.500       2.500       0.500       2.900   \n",
       "max           4.000      960.500      90.060       0.500     445.680   \n",
       "\n",
       "       tolls_amount  improvement_surcharge  total_amount  \\\n",
       "count   1555924.000            1555924.000   1555924.000   \n",
       "mean          0.318                  0.298        18.403   \n",
       "std           1.758                  0.035        14.281   \n",
       "min         -25.990                 -0.300      -303.300   \n",
       "25%           0.000                  0.300        11.160   \n",
       "50%           0.000                  0.300        14.300   \n",
       "75%           0.000                  0.300        19.750   \n",
       "max         831.750                  0.300       960.800   \n",
       "\n",
       "       congestion_surcharge  trip_duration  \n",
       "count           1555924.000    1555924.000  \n",
       "mean                  2.297        952.729  \n",
       "std                   0.706       3749.694  \n",
       "min                  -2.500          0.000  \n",
       "25%                   2.500        383.000  \n",
       "50%                   2.500        631.000  \n",
       "75%                   2.500       1012.000  \n",
       "max                   2.750     332995.000  "
      ]
     },
     "execution_count": 33,
     "metadata": {},
     "output_type": "execute_result"
    }
   ],
   "source": [
    "# generamos una nueva columna \"duration\" con el tiempo de viaje\n",
    "ts_init = pd.to_datetime(dataframe['tpep_pickup_datetime']).values.astype(np.int64) / 1000000000\n",
    "ts_end = pd.to_datetime(dataframe['tpep_dropoff_datetime']).values.astype(np.int64) / 1000000000\n",
    "duration = ts_end - ts_init\n",
    "dataframe['trip_duration'] = duration\n",
    "\n",
    "# ademas creamos 3 categorías para el horario en que se inició el viaje: diurno, vespertino y nocturno\n",
    "MORNING_START = 6\n",
    "MORNING_END = 13\n",
    "AFTERNOON_START = 14\n",
    "AFTERNOON_END = 20\n",
    "EVENING_START = 21\n",
    "EVENING_END = 5 \n",
    "day_interval = dataframe['tpep_pickup_datetime'].dt.hour\n",
    "dataframe['morning'] = pd.cut(day_interval, bins=[-float('Inf'), MORNING_START - 1, MORNING_END, float('Inf')], labels=[0, 1, 0], ordered=False)\n",
    "dataframe['afternoon'] = pd.cut(day_interval, bins=[-float('Inf'), AFTERNOON_START - 1, AFTERNOON_END, float('Inf')], labels=[0, 1, 0], ordered=False)\n",
    "dataframe['evening'] = pd.cut(day_interval, bins=[-float('Inf'), 0, EVENING_END, EVENING_START, 23, float('Inf')], labels=[0, 1, 0, 1, 0], ordered=False)\n",
    "\n",
    "# reviso que sean validas \n",
    "dataframe['morning'].values.isnull().sum(), dataframe['afternoon'].values.isnull().sum(), dataframe['evening'].values.isnull().sum()\n",
    "\n",
    "dataframe.describe()"
   ]
  },
  {
   "cell_type": "code",
   "execution_count": 34,
   "metadata": {},
   "outputs": [
    {
     "data": {
      "text/plain": [
       "<AxesSubplot:>"
      ]
     },
     "execution_count": 34,
     "metadata": {},
     "output_type": "execute_result"
    },
    {
     "data": {
      "image/png": "[encoded data removed]",
      "text/plain": [
       "<Figure size 432x288 with 1 Axes>"
      ]
     },
     "metadata": {
      "needs_background": "light"
     },
     "output_type": "display_data"
    }
   ],
   "source": [
    "# Trip Duration\n",
    "\n",
    "dataframe.plot(kind='line', y='trip_duration')"
   ]
  },
  {
   "cell_type": "code",
   "execution_count": 36,
   "metadata": {},
   "outputs": [
    {
     "data": {
      "text/plain": [
       "Text(0.5, 1.0, 'Cantidad de datos en la noche')"
      ]
     },
     "execution_count": 36,
     "metadata": {},
     "output_type": "execute_result"
    },
    {
     "data": {
      "image/png": "[encoded data removed]",
      "text/plain": [
       "<Figure size 1440x2160 with 3 Axes>"
      ]
     },
     "metadata": {
      "needs_background": "light"
     },
     "output_type": "display_data"
    }
   ],
   "source": [
    "#  Visualización de los datos generados para MORNING - AFTERNOON - EVENING  \n",
    "j = 1\n",
    "fig = plt.figure(figsize=(20,30))\n",
    "plt.subplot(3,3,j)\n",
    "sns.countplot(x='morning', data=dataframe)\n",
    "plt.title(f\"Cantidad de datos en la mañana\")\n",
    "plt.subplot(3,3,j+1)\n",
    "sns.countplot(x='afternoon', data=dataframe)\n",
    "plt.title(f\"Cantidad de datos en la tarde\")\n",
    "plt.subplot(3,3,j+2)\n",
    "sns.countplot(x='evening', data=dataframe)\n",
    "plt.title(f\"Cantidad de datos en la noche\")"
   ]
  },
  {
   "cell_type": "code",
   "execution_count": 41,
   "metadata": {},
   "outputs": [
    {
     "data": {
      "text/html": [
       "<div>\n",
       "<style scoped>\n",
       "    .dataframe tbody tr th:only-of-type {\n",
       "        vertical-align: middle;\n",
       "    }\n",
       "\n",
       "    .dataframe tbody tr th {\n",
       "        vertical-align: top;\n",
       "    }\n",
       "\n",
       "    .dataframe thead th {\n",
       "        text-align: right;\n",
       "    }\n",
       "</style>\n",
       "<table border=\"1\" class=\"dataframe\">\n",
       "  <thead>\n",
       "    <tr style=\"text-align: right;\">\n",
       "      <th></th>\n",
       "      <th>tpep_pickup_datetime</th>\n",
       "      <th>tpep_dropoff_datetime</th>\n",
       "      <th>passenger_count</th>\n",
       "      <th>trip_distance</th>\n",
       "      <th>PULocationID</th>\n",
       "      <th>DOLocationID</th>\n",
       "      <th>payment_type</th>\n",
       "      <th>fare_amount</th>\n",
       "      <th>extra</th>\n",
       "      <th>mta_tax</th>\n",
       "      <th>...</th>\n",
       "      <th>tolls_amount</th>\n",
       "      <th>improvement_surcharge</th>\n",
       "      <th>total_amount</th>\n",
       "      <th>congestion_surcharge</th>\n",
       "      <th>trip_duration</th>\n",
       "      <th>morning</th>\n",
       "      <th>afternoon</th>\n",
       "      <th>evening</th>\n",
       "      <th>PULocationIDFreq</th>\n",
       "      <th>DOLocationIDFreq</th>\n",
       "    </tr>\n",
       "  </thead>\n",
       "  <tbody>\n",
       "    <tr>\n",
       "      <th>0</th>\n",
       "      <td>2020-03-03 13:49:45</td>\n",
       "      <td>2020-03-03 14:05:38</td>\n",
       "      <td>1.000</td>\n",
       "      <td>2.780</td>\n",
       "      <td>87</td>\n",
       "      <td>246</td>\n",
       "      <td>1</td>\n",
       "      <td>13.000</td>\n",
       "      <td>0.000</td>\n",
       "      <td>0.500</td>\n",
       "      <td>...</td>\n",
       "      <td>0.000</td>\n",
       "      <td>0.300</td>\n",
       "      <td>20.380</td>\n",
       "      <td>2.500</td>\n",
       "      <td>953.000</td>\n",
       "      <td>1</td>\n",
       "      <td>0</td>\n",
       "      <td>0</td>\n",
       "      <td>0.007</td>\n",
       "      <td>0.020</td>\n",
       "    </tr>\n",
       "    <tr>\n",
       "      <th>1</th>\n",
       "      <td>2020-03-06 14:04:10</td>\n",
       "      <td>2020-03-06 14:10:50</td>\n",
       "      <td>1.000</td>\n",
       "      <td>0.810</td>\n",
       "      <td>239</td>\n",
       "      <td>238</td>\n",
       "      <td>2</td>\n",
       "      <td>6.000</td>\n",
       "      <td>0.000</td>\n",
       "      <td>0.500</td>\n",
       "      <td>...</td>\n",
       "      <td>0.000</td>\n",
       "      <td>0.300</td>\n",
       "      <td>9.300</td>\n",
       "      <td>2.500</td>\n",
       "      <td>400.000</td>\n",
       "      <td>0</td>\n",
       "      <td>1</td>\n",
       "      <td>0</td>\n",
       "      <td>0.027</td>\n",
       "      <td>0.023</td>\n",
       "    </tr>\n",
       "    <tr>\n",
       "      <th>2</th>\n",
       "      <td>2020-03-07 02:33:25</td>\n",
       "      <td>2020-03-07 02:51:47</td>\n",
       "      <td>2.000</td>\n",
       "      <td>4.470</td>\n",
       "      <td>68</td>\n",
       "      <td>140</td>\n",
       "      <td>2</td>\n",
       "      <td>17.500</td>\n",
       "      <td>0.500</td>\n",
       "      <td>0.500</td>\n",
       "      <td>...</td>\n",
       "      <td>0.000</td>\n",
       "      <td>0.300</td>\n",
       "      <td>21.300</td>\n",
       "      <td>2.500</td>\n",
       "      <td>1102.000</td>\n",
       "      <td>0</td>\n",
       "      <td>0</td>\n",
       "      <td>1</td>\n",
       "      <td>0.023</td>\n",
       "      <td>0.020</td>\n",
       "    </tr>\n",
       "    <tr>\n",
       "      <th>3</th>\n",
       "      <td>2020-03-23 21:08:20</td>\n",
       "      <td>2020-03-23 21:18:08</td>\n",
       "      <td>1.000</td>\n",
       "      <td>3.300</td>\n",
       "      <td>162</td>\n",
       "      <td>4</td>\n",
       "      <td>2</td>\n",
       "      <td>11.500</td>\n",
       "      <td>3.000</td>\n",
       "      <td>0.500</td>\n",
       "      <td>...</td>\n",
       "      <td>0.000</td>\n",
       "      <td>0.300</td>\n",
       "      <td>15.300</td>\n",
       "      <td>2.500</td>\n",
       "      <td>588.000</td>\n",
       "      <td>0</td>\n",
       "      <td>0</td>\n",
       "      <td>0</td>\n",
       "      <td>0.037</td>\n",
       "      <td>0.004</td>\n",
       "    </tr>\n",
       "    <tr>\n",
       "      <th>4</th>\n",
       "      <td>2020-03-01 16:45:41</td>\n",
       "      <td>2020-03-01 16:50:10</td>\n",
       "      <td>2.000</td>\n",
       "      <td>0.680</td>\n",
       "      <td>186</td>\n",
       "      <td>90</td>\n",
       "      <td>1</td>\n",
       "      <td>5.000</td>\n",
       "      <td>0.000</td>\n",
       "      <td>0.500</td>\n",
       "      <td>...</td>\n",
       "      <td>0.000</td>\n",
       "      <td>0.300</td>\n",
       "      <td>8.300</td>\n",
       "      <td>2.500</td>\n",
       "      <td>269.000</td>\n",
       "      <td>0</td>\n",
       "      <td>1</td>\n",
       "      <td>0</td>\n",
       "      <td>0.036</td>\n",
       "      <td>0.015</td>\n",
       "    </tr>\n",
       "  </tbody>\n",
       "</table>\n",
       "<p>5 rows × 21 columns</p>\n",
       "</div>"
      ],
      "text/plain": [
       "  tpep_pickup_datetime tpep_dropoff_datetime  passenger_count  trip_distance  \\\n",
       "0  2020-03-03 13:49:45   2020-03-03 14:05:38            1.000          2.780   \n",
       "1  2020-03-06 14:04:10   2020-03-06 14:10:50            1.000          0.810   \n",
       "2  2020-03-07 02:33:25   2020-03-07 02:51:47            2.000          4.470   \n",
       "3  2020-03-23 21:08:20   2020-03-23 21:18:08            1.000          3.300   \n",
       "4  2020-03-01 16:45:41   2020-03-01 16:50:10            2.000          0.680   \n",
       "\n",
       "   PULocationID  DOLocationID  payment_type  fare_amount  extra  mta_tax  ...  \\\n",
       "0            87           246             1       13.000  0.000    0.500  ...   \n",
       "1           239           238             2        6.000  0.000    0.500  ...   \n",
       "2            68           140             2       17.500  0.500    0.500  ...   \n",
       "3           162             4             2       11.500  3.000    0.500  ...   \n",
       "4           186            90             1        5.000  0.000    0.500  ...   \n",
       "\n",
       "   tolls_amount  improvement_surcharge  total_amount  congestion_surcharge  \\\n",
       "0         0.000                  0.300        20.380                 2.500   \n",
       "1         0.000                  0.300         9.300                 2.500   \n",
       "2         0.000                  0.300        21.300                 2.500   \n",
       "3         0.000                  0.300        15.300                 2.500   \n",
       "4         0.000                  0.300         8.300                 2.500   \n",
       "\n",
       "   trip_duration  morning afternoon evening PULocationIDFreq  DOLocationIDFreq  \n",
       "0        953.000        1         0       0            0.007             0.020  \n",
       "1        400.000        0         1       0            0.027             0.023  \n",
       "2       1102.000        0         0       1            0.023             0.020  \n",
       "3        588.000        0         0       0            0.037             0.004  \n",
       "4        269.000        0         1       0            0.036             0.015  \n",
       "\n",
       "[5 rows x 21 columns]"
      ]
     },
     "execution_count": 41,
     "metadata": {},
     "output_type": "execute_result"
    }
   ],
   "source": [
    "# definimos el umbral mínimo de cantidad de viajes para podar las categorías PULocationID y DOLocationID.\n",
    "location_id_min_th_count = 0.01\n",
    "total_items = len(dataframe['PULocationID'])\n",
    "\n",
    "# convertimos PULocationID usando frequency encoding y me quedo con los que representan al menos 1%\n",
    "pulocation_id_freq_map = (dataframe['PULocationID'].value_counts(sort=True) / total_items).to_dict()\n",
    "dataframe['PULocationIDFreq'] = dataframe['PULocationID'].apply(lambda x: pulocation_id_freq_map[x])\n",
    "# convertimos DOLocationID\n",
    "dolocation_id_freq_map = (dataframe['DOLocationID'].value_counts(sort=True) / total_items).to_dict()\n",
    "dataframe['DOLocationIDFreq'] = dataframe['DOLocationID'].apply(lambda x: dolocation_id_freq_map[x])\n",
    "\n",
    "#pongo en 0 todas las categorías con menor frecuencia que <location_id_min_th_count>\n",
    "def clear_location_low_values(x):\n",
    "  if x <= location_id_min_th_count:\n",
    "    return 0\n",
    "  return x\n",
    "\n",
    "dataframe['PULocationIDFreq'].apply(lambda x: clear_location_low_values(x))\n",
    "dataframe['DOLocationIDFreq'].apply(lambda x: clear_location_low_values(x))\n"
   ]
  },
  {
   "cell_type": "code",
   "execution_count": 42,
   "metadata": {},
   "outputs": [
    {
     "data": {
      "text/plain": [
       "<AxesSubplot:>"
      ]
     },
     "execution_count": 42,
     "metadata": {},
     "output_type": "execute_result"
    },
    {
     "data": {
      "image/png": "[encoded data removed]",
      "text/plain": [
       "<Figure size 432x288 with 1 Axes>"
      ]
     },
     "metadata": {
      "needs_background": "light"
     },
     "output_type": "display_data"
    }
   ],
   "source": [
    "# Deteccion de negativos en fare-amount\n",
    "dataframe.plot(kind='line', y='fare_amount')"
   ]
  },
  {
   "cell_type": "code",
   "execution_count": 45,
   "metadata": {},
   "outputs": [
    {
     "ename": "KeyboardInterrupt",
     "evalue": "",
     "output_type": "error",
     "traceback": [
      "\u001b[0;31m---------------------------------------------------------------------------\u001b[0m",
      "\u001b[0;31mKeyboardInterrupt\u001b[0m                         Traceback (most recent call last)",
      "\u001b[1;32m/Users/carlosdomenje/Documents/CEIA/2do - Bimestre/Repo-AD/uba-ia-add-tpfinal/TP-final-AdDAI.ipynb Celda 66\u001b[0m in \u001b[0;36m<cell line: 1>\u001b[0;34m()\u001b[0m\n\u001b[1;32m      <a href='vscode-notebook-cell:/Users/carlosdomenje/Documents/CEIA/2do%20-%20Bimestre/Repo-AD/uba-ia-add-tpfinal/TP-final-AdDAI.ipynb#Y130sZmlsZQ%3D%3D?line=0'>1</a>\u001b[0m \u001b[39mfor\u001b[39;00m i, value \u001b[39min\u001b[39;00m \u001b[39menumerate\u001b[39m(dataframe[\u001b[39m'\u001b[39m\u001b[39mfare_amount\u001b[39m\u001b[39m'\u001b[39m]):\n\u001b[1;32m      <a href='vscode-notebook-cell:/Users/carlosdomenje/Documents/CEIA/2do%20-%20Bimestre/Repo-AD/uba-ia-add-tpfinal/TP-final-AdDAI.ipynb#Y130sZmlsZQ%3D%3D?line=1'>2</a>\u001b[0m     \u001b[39mif\u001b[39;00m (value \u001b[39m<\u001b[39m \u001b[39m0\u001b[39m):\n\u001b[0;32m----> <a href='vscode-notebook-cell:/Users/carlosdomenje/Documents/CEIA/2do%20-%20Bimestre/Repo-AD/uba-ia-add-tpfinal/TP-final-AdDAI.ipynb#Y130sZmlsZQ%3D%3D?line=2'>3</a>\u001b[0m         dataframe \u001b[39m=\u001b[39m dataframe\u001b[39m.\u001b[39;49mdrop(dataframe\u001b[39m.\u001b[39;49mindex[i])\n\u001b[1;32m      <a href='vscode-notebook-cell:/Users/carlosdomenje/Documents/CEIA/2do%20-%20Bimestre/Repo-AD/uba-ia-add-tpfinal/TP-final-AdDAI.ipynb#Y130sZmlsZQ%3D%3D?line=4'>5</a>\u001b[0m dataframe\u001b[39m.\u001b[39mplot(kind\u001b[39m=\u001b[39m\u001b[39m'\u001b[39m\u001b[39mline\u001b[39m\u001b[39m'\u001b[39m, y\u001b[39m=\u001b[39m\u001b[39m'\u001b[39m\u001b[39mfare_amount\u001b[39m\u001b[39m'\u001b[39m)\n",
      "File \u001b[0;32m/opt/miniconda3/envs/tp-ia/lib/python3.9/site-packages/pandas/util/_decorators.py:311\u001b[0m, in \u001b[0;36mdeprecate_nonkeyword_arguments.<locals>.decorate.<locals>.wrapper\u001b[0;34m(*args, **kwargs)\u001b[0m\n\u001b[1;32m    305\u001b[0m \u001b[39mif\u001b[39;00m \u001b[39mlen\u001b[39m(args) \u001b[39m>\u001b[39m num_allow_args:\n\u001b[1;32m    306\u001b[0m     warnings\u001b[39m.\u001b[39mwarn(\n\u001b[1;32m    307\u001b[0m         msg\u001b[39m.\u001b[39mformat(arguments\u001b[39m=\u001b[39marguments),\n\u001b[1;32m    308\u001b[0m         \u001b[39mFutureWarning\u001b[39;00m,\n\u001b[1;32m    309\u001b[0m         stacklevel\u001b[39m=\u001b[39mstacklevel,\n\u001b[1;32m    310\u001b[0m     )\n\u001b[0;32m--> 311\u001b[0m \u001b[39mreturn\u001b[39;00m func(\u001b[39m*\u001b[39;49margs, \u001b[39m*\u001b[39;49m\u001b[39m*\u001b[39;49mkwargs)\n",
      "File \u001b[0;32m/opt/miniconda3/envs/tp-ia/lib/python3.9/site-packages/pandas/core/frame.py:4954\u001b[0m, in \u001b[0;36mDataFrame.drop\u001b[0;34m(self, labels, axis, index, columns, level, inplace, errors)\u001b[0m\n\u001b[1;32m   4806\u001b[0m \u001b[39m@deprecate_nonkeyword_arguments\u001b[39m(version\u001b[39m=\u001b[39m\u001b[39mNone\u001b[39;00m, allowed_args\u001b[39m=\u001b[39m[\u001b[39m\"\u001b[39m\u001b[39mself\u001b[39m\u001b[39m\"\u001b[39m, \u001b[39m\"\u001b[39m\u001b[39mlabels\u001b[39m\u001b[39m\"\u001b[39m])\n\u001b[1;32m   4807\u001b[0m \u001b[39mdef\u001b[39;00m \u001b[39mdrop\u001b[39m(\n\u001b[1;32m   4808\u001b[0m     \u001b[39mself\u001b[39m,\n\u001b[0;32m   (...)\u001b[0m\n\u001b[1;32m   4815\u001b[0m     errors: \u001b[39mstr\u001b[39m \u001b[39m=\u001b[39m \u001b[39m\"\u001b[39m\u001b[39mraise\u001b[39m\u001b[39m\"\u001b[39m,\n\u001b[1;32m   4816\u001b[0m ):\n\u001b[1;32m   4817\u001b[0m     \u001b[39m\"\"\"\u001b[39;00m\n\u001b[1;32m   4818\u001b[0m \u001b[39m    Drop specified labels from rows or columns.\u001b[39;00m\n\u001b[1;32m   4819\u001b[0m \n\u001b[0;32m   (...)\u001b[0m\n\u001b[1;32m   4952\u001b[0m \u001b[39m            weight  1.0     0.8\u001b[39;00m\n\u001b[1;32m   4953\u001b[0m \u001b[39m    \"\"\"\u001b[39;00m\n\u001b[0;32m-> 4954\u001b[0m     \u001b[39mreturn\u001b[39;00m \u001b[39msuper\u001b[39;49m()\u001b[39m.\u001b[39;49mdrop(\n\u001b[1;32m   4955\u001b[0m         labels\u001b[39m=\u001b[39;49mlabels,\n\u001b[1;32m   4956\u001b[0m         axis\u001b[39m=\u001b[39;49maxis,\n\u001b[1;32m   4957\u001b[0m         index\u001b[39m=\u001b[39;49mindex,\n\u001b[1;32m   4958\u001b[0m         columns\u001b[39m=\u001b[39;49mcolumns,\n\u001b[1;32m   4959\u001b[0m         level\u001b[39m=\u001b[39;49mlevel,\n\u001b[1;32m   4960\u001b[0m         inplace\u001b[39m=\u001b[39;49minplace,\n\u001b[1;32m   4961\u001b[0m         errors\u001b[39m=\u001b[39;49merrors,\n\u001b[1;32m   4962\u001b[0m     )\n",
      "File \u001b[0;32m/opt/miniconda3/envs/tp-ia/lib/python3.9/site-packages/pandas/core/generic.py:4267\u001b[0m, in \u001b[0;36mNDFrame.drop\u001b[0;34m(self, labels, axis, index, columns, level, inplace, errors)\u001b[0m\n\u001b[1;32m   4265\u001b[0m \u001b[39mfor\u001b[39;00m axis, labels \u001b[39min\u001b[39;00m axes\u001b[39m.\u001b[39mitems():\n\u001b[1;32m   4266\u001b[0m     \u001b[39mif\u001b[39;00m labels \u001b[39mis\u001b[39;00m \u001b[39mnot\u001b[39;00m \u001b[39mNone\u001b[39;00m:\n\u001b[0;32m-> 4267\u001b[0m         obj \u001b[39m=\u001b[39m obj\u001b[39m.\u001b[39;49m_drop_axis(labels, axis, level\u001b[39m=\u001b[39;49mlevel, errors\u001b[39m=\u001b[39;49merrors)\n\u001b[1;32m   4269\u001b[0m \u001b[39mif\u001b[39;00m inplace:\n\u001b[1;32m   4270\u001b[0m     \u001b[39mself\u001b[39m\u001b[39m.\u001b[39m_update_inplace(obj)\n",
      "File \u001b[0;32m/opt/miniconda3/envs/tp-ia/lib/python3.9/site-packages/pandas/core/generic.py:4305\u001b[0m, in \u001b[0;36mNDFrame._drop_axis\u001b[0;34m(self, labels, axis, level, errors, consolidate, only_slice)\u001b[0m\n\u001b[1;32m   4302\u001b[0m axis_num \u001b[39m=\u001b[39m \u001b[39mself\u001b[39m\u001b[39m.\u001b[39m_get_axis_number(axis)\n\u001b[1;32m   4303\u001b[0m axis \u001b[39m=\u001b[39m \u001b[39mself\u001b[39m\u001b[39m.\u001b[39m_get_axis(axis)\n\u001b[0;32m-> 4305\u001b[0m \u001b[39mif\u001b[39;00m axis\u001b[39m.\u001b[39;49mis_unique:\n\u001b[1;32m   4306\u001b[0m     \u001b[39mif\u001b[39;00m level \u001b[39mis\u001b[39;00m \u001b[39mnot\u001b[39;00m \u001b[39mNone\u001b[39;00m:\n\u001b[1;32m   4307\u001b[0m         \u001b[39mif\u001b[39;00m \u001b[39mnot\u001b[39;00m \u001b[39misinstance\u001b[39m(axis, MultiIndex):\n",
      "File \u001b[0;32m/opt/miniconda3/envs/tp-ia/lib/python3.9/site-packages/pandas/_libs/properties.pyx:37\u001b[0m, in \u001b[0;36mpandas._libs.properties.CachedProperty.__get__\u001b[0;34m()\u001b[0m\n",
      "File \u001b[0;32m/opt/miniconda3/envs/tp-ia/lib/python3.9/site-packages/pandas/core/indexes/base.py:2237\u001b[0m, in \u001b[0;36mIndex.is_unique\u001b[0;34m(self)\u001b[0m\n\u001b[1;32m   2232\u001b[0m \u001b[39m@cache_readonly\u001b[39m\n\u001b[1;32m   2233\u001b[0m \u001b[39mdef\u001b[39;00m \u001b[39mis_unique\u001b[39m(\u001b[39mself\u001b[39m) \u001b[39m-\u001b[39m\u001b[39m>\u001b[39m \u001b[39mbool\u001b[39m:\n\u001b[1;32m   2234\u001b[0m     \u001b[39m\"\"\"\u001b[39;00m\n\u001b[1;32m   2235\u001b[0m \u001b[39m    Return if the index has unique values.\u001b[39;00m\n\u001b[1;32m   2236\u001b[0m \u001b[39m    \"\"\"\u001b[39;00m\n\u001b[0;32m-> 2237\u001b[0m     \u001b[39mreturn\u001b[39;00m \u001b[39mself\u001b[39;49m\u001b[39m.\u001b[39;49m_engine\u001b[39m.\u001b[39;49mis_unique\n",
      "\u001b[0;31mKeyboardInterrupt\u001b[0m: "
     ]
    }
   ],
   "source": [
    "for i, value in enumerate(dataframe['fare_amount']):\n",
    "    if (value < 0):\n",
    "        dataframe = dataframe.drop(dataframe.index[i])\n",
    "        \n",
    "dataframe.plot(kind='line', y='fare_amount')"
   ]
  },
  {
   "cell_type": "code",
   "execution_count": 39,
   "metadata": {},
   "outputs": [
    {
     "data": {
      "text/html": [
       "<div>\n",
       "<style scoped>\n",
       "    .dataframe tbody tr th:only-of-type {\n",
       "        vertical-align: middle;\n",
       "    }\n",
       "\n",
       "    .dataframe tbody tr th {\n",
       "        vertical-align: top;\n",
       "    }\n",
       "\n",
       "    .dataframe thead th {\n",
       "        text-align: right;\n",
       "    }\n",
       "</style>\n",
       "<table border=\"1\" class=\"dataframe\">\n",
       "  <thead>\n",
       "    <tr style=\"text-align: right;\">\n",
       "      <th></th>\n",
       "      <th>passenger_count</th>\n",
       "      <th>trip_distance</th>\n",
       "      <th>PULocationID</th>\n",
       "      <th>DOLocationID</th>\n",
       "      <th>payment_type</th>\n",
       "      <th>fare_amount</th>\n",
       "      <th>extra</th>\n",
       "      <th>mta_tax</th>\n",
       "      <th>tip_amount</th>\n",
       "      <th>tolls_amount</th>\n",
       "      <th>improvement_surcharge</th>\n",
       "      <th>total_amount</th>\n",
       "      <th>congestion_surcharge</th>\n",
       "      <th>trip_duration</th>\n",
       "      <th>PULocationIDFreq</th>\n",
       "      <th>DOLocationIDFreq</th>\n",
       "    </tr>\n",
       "  </thead>\n",
       "  <tbody>\n",
       "    <tr>\n",
       "      <th>count</th>\n",
       "      <td>1555924.000</td>\n",
       "      <td>1555924.000</td>\n",
       "      <td>1555924.000</td>\n",
       "      <td>1555924.000</td>\n",
       "      <td>1555924.000</td>\n",
       "      <td>1555924.000</td>\n",
       "      <td>1555924.000</td>\n",
       "      <td>1555924.000</td>\n",
       "      <td>1555924.000</td>\n",
       "      <td>1555924.000</td>\n",
       "      <td>1555924.000</td>\n",
       "      <td>1555924.000</td>\n",
       "      <td>1555924.000</td>\n",
       "      <td>1555924.000</td>\n",
       "      <td>1555924.000</td>\n",
       "      <td>1555924.000</td>\n",
       "    </tr>\n",
       "    <tr>\n",
       "      <th>mean</th>\n",
       "      <td>1.501</td>\n",
       "      <td>2.820</td>\n",
       "      <td>164.694</td>\n",
       "      <td>162.533</td>\n",
       "      <td>1.264</td>\n",
       "      <td>12.445</td>\n",
       "      <td>1.097</td>\n",
       "      <td>0.494</td>\n",
       "      <td>2.213</td>\n",
       "      <td>0.318</td>\n",
       "      <td>0.298</td>\n",
       "      <td>18.403</td>\n",
       "      <td>2.297</td>\n",
       "      <td>952.729</td>\n",
       "      <td>0.024</td>\n",
       "      <td>0.020</td>\n",
       "    </tr>\n",
       "    <tr>\n",
       "      <th>std</th>\n",
       "      <td>1.142</td>\n",
       "      <td>3.694</td>\n",
       "      <td>65.571</td>\n",
       "      <td>69.895</td>\n",
       "      <td>0.472</td>\n",
       "      <td>11.623</td>\n",
       "      <td>1.251</td>\n",
       "      <td>0.068</td>\n",
       "      <td>2.714</td>\n",
       "      <td>1.758</td>\n",
       "      <td>0.035</td>\n",
       "      <td>14.281</td>\n",
       "      <td>0.706</td>\n",
       "      <td>3749.694</td>\n",
       "      <td>0.012</td>\n",
       "      <td>0.012</td>\n",
       "    </tr>\n",
       "    <tr>\n",
       "      <th>min</th>\n",
       "      <td>0.000</td>\n",
       "      <td>-1.790</td>\n",
       "      <td>1.000</td>\n",
       "      <td>1.000</td>\n",
       "      <td>1.000</td>\n",
       "      <td>-300.000</td>\n",
       "      <td>-7.000</td>\n",
       "      <td>-0.500</td>\n",
       "      <td>-45.000</td>\n",
       "      <td>-25.990</td>\n",
       "      <td>-0.300</td>\n",
       "      <td>-303.300</td>\n",
       "      <td>-2.500</td>\n",
       "      <td>0.000</td>\n",
       "      <td>0.000</td>\n",
       "      <td>0.000</td>\n",
       "    </tr>\n",
       "    <tr>\n",
       "      <th>25%</th>\n",
       "      <td>1.000</td>\n",
       "      <td>0.960</td>\n",
       "      <td>132.000</td>\n",
       "      <td>113.000</td>\n",
       "      <td>1.000</td>\n",
       "      <td>6.500</td>\n",
       "      <td>0.000</td>\n",
       "      <td>0.500</td>\n",
       "      <td>0.000</td>\n",
       "      <td>0.000</td>\n",
       "      <td>0.300</td>\n",
       "      <td>11.160</td>\n",
       "      <td>2.500</td>\n",
       "      <td>383.000</td>\n",
       "      <td>0.017</td>\n",
       "      <td>0.011</td>\n",
       "    </tr>\n",
       "    <tr>\n",
       "      <th>50%</th>\n",
       "      <td>1.000</td>\n",
       "      <td>1.600</td>\n",
       "      <td>162.000</td>\n",
       "      <td>162.000</td>\n",
       "      <td>1.000</td>\n",
       "      <td>9.000</td>\n",
       "      <td>0.500</td>\n",
       "      <td>0.500</td>\n",
       "      <td>1.960</td>\n",
       "      <td>0.000</td>\n",
       "      <td>0.300</td>\n",
       "      <td>14.300</td>\n",
       "      <td>2.500</td>\n",
       "      <td>631.000</td>\n",
       "      <td>0.023</td>\n",
       "      <td>0.020</td>\n",
       "    </tr>\n",
       "    <tr>\n",
       "      <th>75%</th>\n",
       "      <td>2.000</td>\n",
       "      <td>2.900</td>\n",
       "      <td>234.000</td>\n",
       "      <td>234.000</td>\n",
       "      <td>2.000</td>\n",
       "      <td>13.500</td>\n",
       "      <td>2.500</td>\n",
       "      <td>0.500</td>\n",
       "      <td>2.900</td>\n",
       "      <td>0.000</td>\n",
       "      <td>0.300</td>\n",
       "      <td>19.750</td>\n",
       "      <td>2.500</td>\n",
       "      <td>1012.000</td>\n",
       "      <td>0.032</td>\n",
       "      <td>0.027</td>\n",
       "    </tr>\n",
       "    <tr>\n",
       "      <th>max</th>\n",
       "      <td>9.000</td>\n",
       "      <td>369.940</td>\n",
       "      <td>265.000</td>\n",
       "      <td>265.000</td>\n",
       "      <td>4.000</td>\n",
       "      <td>960.500</td>\n",
       "      <td>90.060</td>\n",
       "      <td>0.500</td>\n",
       "      <td>445.680</td>\n",
       "      <td>831.750</td>\n",
       "      <td>0.300</td>\n",
       "      <td>960.800</td>\n",
       "      <td>2.750</td>\n",
       "      <td>332995.000</td>\n",
       "      <td>0.045</td>\n",
       "      <td>0.044</td>\n",
       "    </tr>\n",
       "  </tbody>\n",
       "</table>\n",
       "</div>"
      ],
      "text/plain": [
       "       passenger_count  trip_distance  PULocationID  DOLocationID  \\\n",
       "count      1555924.000    1555924.000   1555924.000   1555924.000   \n",
       "mean             1.501          2.820       164.694       162.533   \n",
       "std              1.142          3.694        65.571        69.895   \n",
       "min              0.000         -1.790         1.000         1.000   \n",
       "25%              1.000          0.960       132.000       113.000   \n",
       "50%              1.000          1.600       162.000       162.000   \n",
       "75%              2.000          2.900       234.000       234.000   \n",
       "max              9.000        369.940       265.000       265.000   \n",
       "\n",
       "       payment_type  fare_amount       extra     mta_tax  tip_amount  \\\n",
       "count   1555924.000  1555924.000 1555924.000 1555924.000 1555924.000   \n",
       "mean          1.264       12.445       1.097       0.494       2.213   \n",
       "std           0.472       11.623       1.251       0.068       2.714   \n",
       "min           1.000     -300.000      -7.000      -0.500     -45.000   \n",
       "25%           1.000        6.500       0.000       0.500       0.000   \n",
       "50%           1.000        9.000       0.500       0.500       1.960   \n",
       "75%           2.000       13.500       2.500       0.500       2.900   \n",
       "max           4.000      960.500      90.060       0.500     445.680   \n",
       "\n",
       "       tolls_amount  improvement_surcharge  total_amount  \\\n",
       "count   1555924.000            1555924.000   1555924.000   \n",
       "mean          0.318                  0.298        18.403   \n",
       "std           1.758                  0.035        14.281   \n",
       "min         -25.990                 -0.300      -303.300   \n",
       "25%           0.000                  0.300        11.160   \n",
       "50%           0.000                  0.300        14.300   \n",
       "75%           0.000                  0.300        19.750   \n",
       "max         831.750                  0.300       960.800   \n",
       "\n",
       "       congestion_surcharge  trip_duration  PULocationIDFreq  DOLocationIDFreq  \n",
       "count           1555924.000    1555924.000       1555924.000       1555924.000  \n",
       "mean                  2.297        952.729             0.024             0.020  \n",
       "std                   0.706       3749.694             0.012             0.012  \n",
       "min                  -2.500          0.000             0.000             0.000  \n",
       "25%                   2.500        383.000             0.017             0.011  \n",
       "50%                   2.500        631.000             0.023             0.020  \n",
       "75%                   2.500       1012.000             0.032             0.027  \n",
       "max                   2.750     332995.000             0.045             0.044  "
      ]
     },
     "execution_count": 39,
     "metadata": {},
     "output_type": "execute_result"
    }
   ],
   "source": [
    "dataframe.describe()"
   ]
  },
  {
   "cell_type": "markdown",
   "metadata": {},
   "source": [
    "## 3.Entrenamiento de modelos \n",
    "### 3.1 Separación de datos\n"
   ]
  },
  {
   "cell_type": "code",
   "execution_count": 40,
   "metadata": {},
   "outputs": [],
   "source": [
    "# Particionamos en train y test\n",
    "train_ratio = 0.7\n",
    "test_ratio = 0.3\n",
    "\n",
    "feature_cols = ['passenger_count'] # TODO ADD HERE COLS\n",
    "target_col = ['DOLocationID'] # TODO DOUBLE CHECK COL\n",
    "\n",
    "X = dataframe[feature_cols].values\n",
    "y = dataframe[target_col].values\n",
    "\n",
    "X_train, X_test, y_train, y_test = train_test_split(X, y, random_state=1)\n"
   ]
  }
 ],
 "metadata": {
  "kernelspec": {
   "display_name": "Python 3.9.13 ('tp-ia')",
   "language": "python",
   "name": "python3"
  },
  "language_info": {
   "codemirror_mode": {
    "name": "ipython",
    "version": 3
   },
   "file_extension": ".py",
   "mimetype": "text/x-python",
   "name": "python",
   "nbconvert_exporter": "python",
   "pygments_lexer": "ipython3",
   "version": "3.9.13"
  },
  "vscode": {
   "interpreter": {
    "hash": "ff0b56c2c11e01fc93064e55eb1d315134029652b3f23c7e2f48e46ed7de5886"
   }
  }
 },
 "nbformat": 4,
 "nbformat_minor": 4
}
