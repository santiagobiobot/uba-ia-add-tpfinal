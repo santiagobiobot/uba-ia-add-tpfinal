{
 "cells": [
  {
   "cell_type": "markdown",
   "metadata": {
    "slideshow": {
     "slide_type": "slide"
    }
   },
   "source": [
    "# Trabajo Final. Análisis de Datos"
   ]
  },
  {
   "cell_type": "markdown",
   "metadata": {},
   "source": [
    "## Alumnos:\n",
    "\n",
    "### Domenje, Carlos R.\n",
    "\n",
    "### Fux, Santiago.\n",
    "\n",
    "---"
   ]
  },
  {
   "cell_type": "markdown",
   "metadata": {
    "slideshow": {
     "slide_type": "slide"
    }
   },
   "source": [
    "## DATASET: Uso de Taxis Yellow Cab en USA en el año 2020\n",
    "\n",
    "**Problema.** Responderemos a la siguiente pregunta\n",
    "\n",
    "1. ¿Existe una manera de caracterizar los lugares más recurrentes para inicio / fin de viaje?\n"
   ]
  },
  {
   "cell_type": "markdown",
   "metadata": {},
   "source": [
    "## 1. Obtención de datos\n",
    "\n",
    "Para importar los datos, buscamos en la página web brindada por la cátedra:\n",
    "\n",
    "- [Yellow Cab - Dataset](https://www1.nyc.gov/site/tlc/about/tlc-trip-record-data.page)\n",
    "\n",
    "**Nota**: El dataset utilizado será el del año 2020, los tres primeros meses (Enero, Febrero, Marzo) y será descargado en una carpeta llamada \"data\" dentro de la carpeta contenedora del proyecto."
   ]
  },
  {
   "cell_type": "code",
   "execution_count": 23,
   "metadata": {
    "scrolled": true
   },
   "outputs": [],
   "source": [
    "# Path del dataset a utilizar.\n",
    "DATASET_PATH = r'./data'"
   ]
  },
  {
   "cell_type": "code",
   "execution_count": 24,
   "metadata": {},
   "outputs": [
    {
     "name": "stdout",
     "output_type": "stream",
     "text": [
      "yellow_tripdata_2020-01.parquet yellow_tripdata_2020-03.parquet\n",
      "yellow_tripdata_2020-02.parquet\n"
     ]
    }
   ],
   "source": [
    "# listamos los archivos que se encuentran en el path\n",
    "!ls {DATASET_PATH}"
   ]
  },
  {
   "cell_type": "code",
   "execution_count": 35,
   "metadata": {},
   "outputs": [],
   "source": [
    "# Importamos las librerias necesarias para interactuar con el dataset.\n",
    "\n",
    "import pandas as pd\n",
    "import glob\n",
    "import matplotlib\n",
    "import matplotlib.pyplot as plt\n",
    "\n",
    "\n",
    "\n",
    "# Set decimals format with 3 decimals\n",
    "pd.set_option('display.float_format', lambda x: '%.3f' % x)"
   ]
  },
  {
   "cell_type": "code",
   "execution_count": 36,
   "metadata": {},
   "outputs": [
    {
     "data": {
      "text/html": [
       "<div>\n",
       "<style scoped>\n",
       "    .dataframe tbody tr th:only-of-type {\n",
       "        vertical-align: middle;\n",
       "    }\n",
       "\n",
       "    .dataframe tbody tr th {\n",
       "        vertical-align: top;\n",
       "    }\n",
       "\n",
       "    .dataframe thead th {\n",
       "        text-align: right;\n",
       "    }\n",
       "</style>\n",
       "<table border=\"1\" class=\"dataframe\">\n",
       "  <thead>\n",
       "    <tr style=\"text-align: right;\">\n",
       "      <th></th>\n",
       "      <th>VendorID</th>\n",
       "      <th>tpep_pickup_datetime</th>\n",
       "      <th>tpep_dropoff_datetime</th>\n",
       "      <th>passenger_count</th>\n",
       "      <th>trip_distance</th>\n",
       "      <th>RatecodeID</th>\n",
       "      <th>store_and_fwd_flag</th>\n",
       "      <th>PULocationID</th>\n",
       "      <th>DOLocationID</th>\n",
       "      <th>payment_type</th>\n",
       "      <th>fare_amount</th>\n",
       "      <th>extra</th>\n",
       "      <th>mta_tax</th>\n",
       "      <th>tip_amount</th>\n",
       "      <th>tolls_amount</th>\n",
       "      <th>improvement_surcharge</th>\n",
       "      <th>total_amount</th>\n",
       "      <th>congestion_surcharge</th>\n",
       "      <th>airport_fee</th>\n",
       "    </tr>\n",
       "  </thead>\n",
       "  <tbody>\n",
       "    <tr>\n",
       "      <th>0</th>\n",
       "      <td>1</td>\n",
       "      <td>2020-03-01 00:31:13</td>\n",
       "      <td>2020-03-01 01:01:42</td>\n",
       "      <td>1.000</td>\n",
       "      <td>4.700</td>\n",
       "      <td>1.000</td>\n",
       "      <td>N</td>\n",
       "      <td>88</td>\n",
       "      <td>255</td>\n",
       "      <td>1</td>\n",
       "      <td>22.000</td>\n",
       "      <td>3.000</td>\n",
       "      <td>0.500</td>\n",
       "      <td>2.000</td>\n",
       "      <td>0.000</td>\n",
       "      <td>0.300</td>\n",
       "      <td>27.800</td>\n",
       "      <td>2.500</td>\n",
       "      <td>None</td>\n",
       "    </tr>\n",
       "    <tr>\n",
       "      <th>1</th>\n",
       "      <td>2</td>\n",
       "      <td>2020-03-01 00:08:22</td>\n",
       "      <td>2020-03-01 00:08:49</td>\n",
       "      <td>1.000</td>\n",
       "      <td>0.000</td>\n",
       "      <td>1.000</td>\n",
       "      <td>N</td>\n",
       "      <td>193</td>\n",
       "      <td>193</td>\n",
       "      <td>2</td>\n",
       "      <td>2.500</td>\n",
       "      <td>0.500</td>\n",
       "      <td>0.500</td>\n",
       "      <td>0.000</td>\n",
       "      <td>0.000</td>\n",
       "      <td>0.300</td>\n",
       "      <td>3.800</td>\n",
       "      <td>0.000</td>\n",
       "      <td>None</td>\n",
       "    </tr>\n",
       "    <tr>\n",
       "      <th>2</th>\n",
       "      <td>1</td>\n",
       "      <td>2020-03-01 00:52:18</td>\n",
       "      <td>2020-03-01 00:59:16</td>\n",
       "      <td>1.000</td>\n",
       "      <td>1.100</td>\n",
       "      <td>1.000</td>\n",
       "      <td>N</td>\n",
       "      <td>246</td>\n",
       "      <td>90</td>\n",
       "      <td>1</td>\n",
       "      <td>6.000</td>\n",
       "      <td>3.000</td>\n",
       "      <td>0.500</td>\n",
       "      <td>1.950</td>\n",
       "      <td>0.000</td>\n",
       "      <td>0.300</td>\n",
       "      <td>11.750</td>\n",
       "      <td>2.500</td>\n",
       "      <td>None</td>\n",
       "    </tr>\n",
       "    <tr>\n",
       "      <th>3</th>\n",
       "      <td>2</td>\n",
       "      <td>2020-03-01 00:47:53</td>\n",
       "      <td>2020-03-01 00:50:57</td>\n",
       "      <td>2.000</td>\n",
       "      <td>0.870</td>\n",
       "      <td>1.000</td>\n",
       "      <td>N</td>\n",
       "      <td>151</td>\n",
       "      <td>238</td>\n",
       "      <td>1</td>\n",
       "      <td>5.000</td>\n",
       "      <td>0.500</td>\n",
       "      <td>0.500</td>\n",
       "      <td>1.760</td>\n",
       "      <td>0.000</td>\n",
       "      <td>0.300</td>\n",
       "      <td>10.560</td>\n",
       "      <td>2.500</td>\n",
       "      <td>None</td>\n",
       "    </tr>\n",
       "    <tr>\n",
       "      <th>4</th>\n",
       "      <td>1</td>\n",
       "      <td>2020-03-01 00:43:19</td>\n",
       "      <td>2020-03-01 00:58:27</td>\n",
       "      <td>0.000</td>\n",
       "      <td>4.400</td>\n",
       "      <td>1.000</td>\n",
       "      <td>N</td>\n",
       "      <td>79</td>\n",
       "      <td>261</td>\n",
       "      <td>1</td>\n",
       "      <td>16.500</td>\n",
       "      <td>3.000</td>\n",
       "      <td>0.500</td>\n",
       "      <td>4.050</td>\n",
       "      <td>0.000</td>\n",
       "      <td>0.300</td>\n",
       "      <td>24.350</td>\n",
       "      <td>2.500</td>\n",
       "      <td>None</td>\n",
       "    </tr>\n",
       "  </tbody>\n",
       "</table>\n",
       "</div>"
      ],
      "text/plain": [
       "   VendorID tpep_pickup_datetime tpep_dropoff_datetime  passenger_count  \\\n",
       "0         1  2020-03-01 00:31:13   2020-03-01 01:01:42            1.000   \n",
       "1         2  2020-03-01 00:08:22   2020-03-01 00:08:49            1.000   \n",
       "2         1  2020-03-01 00:52:18   2020-03-01 00:59:16            1.000   \n",
       "3         2  2020-03-01 00:47:53   2020-03-01 00:50:57            2.000   \n",
       "4         1  2020-03-01 00:43:19   2020-03-01 00:58:27            0.000   \n",
       "\n",
       "   trip_distance  RatecodeID store_and_fwd_flag  PULocationID  DOLocationID  \\\n",
       "0          4.700       1.000                  N            88           255   \n",
       "1          0.000       1.000                  N           193           193   \n",
       "2          1.100       1.000                  N           246            90   \n",
       "3          0.870       1.000                  N           151           238   \n",
       "4          4.400       1.000                  N            79           261   \n",
       "\n",
       "   payment_type  fare_amount  extra  mta_tax  tip_amount  tolls_amount  \\\n",
       "0             1       22.000  3.000    0.500       2.000         0.000   \n",
       "1             2        2.500  0.500    0.500       0.000         0.000   \n",
       "2             1        6.000  3.000    0.500       1.950         0.000   \n",
       "3             1        5.000  0.500    0.500       1.760         0.000   \n",
       "4             1       16.500  3.000    0.500       4.050         0.000   \n",
       "\n",
       "   improvement_surcharge  total_amount  congestion_surcharge airport_fee  \n",
       "0                  0.300        27.800                 2.500        None  \n",
       "1                  0.300         3.800                 0.000        None  \n",
       "2                  0.300        11.750                 2.500        None  \n",
       "3                  0.300        10.560                 2.500        None  \n",
       "4                  0.300        24.350                 2.500        None  "
      ]
     },
     "execution_count": 36,
     "metadata": {},
     "output_type": "execute_result"
    }
   ],
   "source": [
    "# El archivo del dataset tiene como formato .parquet, el cual es un archivo que esta orientado a columnas. \n",
    "all_files = glob.glob(\"./data/*.parquet\")\n",
    "\n",
    "dataframe_list = []\n",
    "\n",
    "for filename in all_files:\n",
    "    df = pd.read_parquet(filename)\n",
    "    dataframe_list.append(df)\n",
    "\n",
    "\n",
    "dataframe = pd.concat(dataframe_list, axis=0, ignore_index=True)\n",
    "\n",
    "# Para obtener una primer aproximación de cada columna, \n",
    "# podemos utilizar la funcion head, que nos mostrará las 5 primeras filas con sus respectivas columnas del dataset\n",
    "dataframe.head()"
   ]
  },
  {
   "cell_type": "code",
   "execution_count": 37,
   "metadata": {},
   "outputs": [
    {
     "name": "stdout",
     "output_type": "stream",
     "text": [
      "<class 'pandas.core.frame.DataFrame'>\n",
      "RangeIndex: 6405008 entries, 0 to 6405007\n",
      "Data columns (total 19 columns):\n",
      " #   Column                 Dtype         \n",
      "---  ------                 -----         \n",
      " 0   VendorID               int64         \n",
      " 1   tpep_pickup_datetime   datetime64[ns]\n",
      " 2   tpep_dropoff_datetime  datetime64[ns]\n",
      " 3   passenger_count        float64       \n",
      " 4   trip_distance          float64       \n",
      " 5   RatecodeID             float64       \n",
      " 6   store_and_fwd_flag     object        \n",
      " 7   PULocationID           int64         \n",
      " 8   DOLocationID           int64         \n",
      " 9   payment_type           int64         \n",
      " 10  fare_amount            float64       \n",
      " 11  extra                  float64       \n",
      " 12  mta_tax                float64       \n",
      " 13  tip_amount             float64       \n",
      " 14  tolls_amount           float64       \n",
      " 15  improvement_surcharge  float64       \n",
      " 16  total_amount           float64       \n",
      " 17  congestion_surcharge   float64       \n",
      " 18  airport_fee            object        \n",
      "dtypes: datetime64[ns](2), float64(11), int64(4), object(2)\n",
      "memory usage: 928.5+ MB\n"
     ]
    }
   ],
   "source": [
    "## Para obtener una descripción del tipo de datos que contiene cada columna, utilizamos la funcion info()\n",
    "# Podemos además, obtener una idea general de cuantos datos no nulos contiene.\n",
    "df.info()"
   ]
  },
  {
   "cell_type": "code",
   "execution_count": 38,
   "metadata": {},
   "outputs": [
    {
     "data": {
      "text/html": [
       "<div>\n",
       "<style scoped>\n",
       "    .dataframe tbody tr th:only-of-type {\n",
       "        vertical-align: middle;\n",
       "    }\n",
       "\n",
       "    .dataframe tbody tr th {\n",
       "        vertical-align: top;\n",
       "    }\n",
       "\n",
       "    .dataframe thead th {\n",
       "        text-align: right;\n",
       "    }\n",
       "</style>\n",
       "<table border=\"1\" class=\"dataframe\">\n",
       "  <thead>\n",
       "    <tr style=\"text-align: right;\">\n",
       "      <th></th>\n",
       "      <th>VendorID</th>\n",
       "      <th>passenger_count</th>\n",
       "      <th>trip_distance</th>\n",
       "      <th>RatecodeID</th>\n",
       "      <th>PULocationID</th>\n",
       "      <th>DOLocationID</th>\n",
       "      <th>payment_type</th>\n",
       "      <th>fare_amount</th>\n",
       "      <th>extra</th>\n",
       "      <th>mta_tax</th>\n",
       "      <th>tip_amount</th>\n",
       "      <th>tolls_amount</th>\n",
       "      <th>improvement_surcharge</th>\n",
       "      <th>total_amount</th>\n",
       "      <th>congestion_surcharge</th>\n",
       "    </tr>\n",
       "  </thead>\n",
       "  <tbody>\n",
       "    <tr>\n",
       "      <th>count</th>\n",
       "      <td>6405008.000</td>\n",
       "      <td>6339567.000</td>\n",
       "      <td>6405008.000</td>\n",
       "      <td>6339567.000</td>\n",
       "      <td>6405008.000</td>\n",
       "      <td>6405008.000</td>\n",
       "      <td>6405008.000</td>\n",
       "      <td>6405008.000</td>\n",
       "      <td>6405008.000</td>\n",
       "      <td>6405008.000</td>\n",
       "      <td>6405008.000</td>\n",
       "      <td>6405008.000</td>\n",
       "      <td>6405008.000</td>\n",
       "      <td>6405008.000</td>\n",
       "      <td>6339567.000</td>\n",
       "    </tr>\n",
       "    <tr>\n",
       "      <th>mean</th>\n",
       "      <td>1.673</td>\n",
       "      <td>1.515</td>\n",
       "      <td>2.930</td>\n",
       "      <td>1.060</td>\n",
       "      <td>164.732</td>\n",
       "      <td>162.663</td>\n",
       "      <td>1.257</td>\n",
       "      <td>12.694</td>\n",
       "      <td>1.115</td>\n",
       "      <td>0.492</td>\n",
       "      <td>2.189</td>\n",
       "      <td>0.349</td>\n",
       "      <td>0.298</td>\n",
       "      <td>18.663</td>\n",
       "      <td>2.299</td>\n",
       "    </tr>\n",
       "    <tr>\n",
       "      <th>std</th>\n",
       "      <td>0.469</td>\n",
       "      <td>1.152</td>\n",
       "      <td>83.159</td>\n",
       "      <td>0.812</td>\n",
       "      <td>65.544</td>\n",
       "      <td>69.913</td>\n",
       "      <td>0.489</td>\n",
       "      <td>12.127</td>\n",
       "      <td>1.260</td>\n",
       "      <td>0.074</td>\n",
       "      <td>2.760</td>\n",
       "      <td>1.767</td>\n",
       "      <td>0.034</td>\n",
       "      <td>14.757</td>\n",
       "      <td>0.702</td>\n",
       "    </tr>\n",
       "    <tr>\n",
       "      <th>min</th>\n",
       "      <td>1.000</td>\n",
       "      <td>0.000</td>\n",
       "      <td>-30.620</td>\n",
       "      <td>1.000</td>\n",
       "      <td>1.000</td>\n",
       "      <td>1.000</td>\n",
       "      <td>0.000</td>\n",
       "      <td>-1238.000</td>\n",
       "      <td>-27.000</td>\n",
       "      <td>-0.500</td>\n",
       "      <td>-91.000</td>\n",
       "      <td>-35.740</td>\n",
       "      <td>-0.300</td>\n",
       "      <td>-1242.300</td>\n",
       "      <td>-2.500</td>\n",
       "    </tr>\n",
       "    <tr>\n",
       "      <th>25%</th>\n",
       "      <td>1.000</td>\n",
       "      <td>1.000</td>\n",
       "      <td>0.960</td>\n",
       "      <td>1.000</td>\n",
       "      <td>132.000</td>\n",
       "      <td>113.000</td>\n",
       "      <td>1.000</td>\n",
       "      <td>6.500</td>\n",
       "      <td>0.000</td>\n",
       "      <td>0.500</td>\n",
       "      <td>0.000</td>\n",
       "      <td>0.000</td>\n",
       "      <td>0.300</td>\n",
       "      <td>11.160</td>\n",
       "      <td>2.500</td>\n",
       "    </tr>\n",
       "    <tr>\n",
       "      <th>50%</th>\n",
       "      <td>2.000</td>\n",
       "      <td>1.000</td>\n",
       "      <td>1.600</td>\n",
       "      <td>1.000</td>\n",
       "      <td>162.000</td>\n",
       "      <td>162.000</td>\n",
       "      <td>1.000</td>\n",
       "      <td>9.000</td>\n",
       "      <td>0.500</td>\n",
       "      <td>0.500</td>\n",
       "      <td>1.950</td>\n",
       "      <td>0.000</td>\n",
       "      <td>0.300</td>\n",
       "      <td>14.300</td>\n",
       "      <td>2.500</td>\n",
       "    </tr>\n",
       "    <tr>\n",
       "      <th>75%</th>\n",
       "      <td>2.000</td>\n",
       "      <td>2.000</td>\n",
       "      <td>2.930</td>\n",
       "      <td>1.000</td>\n",
       "      <td>234.000</td>\n",
       "      <td>234.000</td>\n",
       "      <td>2.000</td>\n",
       "      <td>14.000</td>\n",
       "      <td>2.500</td>\n",
       "      <td>0.500</td>\n",
       "      <td>2.860</td>\n",
       "      <td>0.000</td>\n",
       "      <td>0.300</td>\n",
       "      <td>19.800</td>\n",
       "      <td>2.500</td>\n",
       "    </tr>\n",
       "    <tr>\n",
       "      <th>max</th>\n",
       "      <td>5.000</td>\n",
       "      <td>9.000</td>\n",
       "      <td>210240.070</td>\n",
       "      <td>99.000</td>\n",
       "      <td>265.000</td>\n",
       "      <td>265.000</td>\n",
       "      <td>5.000</td>\n",
       "      <td>4265.000</td>\n",
       "      <td>113.010</td>\n",
       "      <td>30.800</td>\n",
       "      <td>1100.000</td>\n",
       "      <td>910.500</td>\n",
       "      <td>0.300</td>\n",
       "      <td>4268.300</td>\n",
       "      <td>2.750</td>\n",
       "    </tr>\n",
       "  </tbody>\n",
       "</table>\n",
       "</div>"
      ],
      "text/plain": [
       "         VendorID  passenger_count  trip_distance  RatecodeID  PULocationID  \\\n",
       "count 6405008.000      6339567.000    6405008.000 6339567.000   6405008.000   \n",
       "mean        1.673            1.515          2.930       1.060       164.732   \n",
       "std         0.469            1.152         83.159       0.812        65.544   \n",
       "min         1.000            0.000        -30.620       1.000         1.000   \n",
       "25%         1.000            1.000          0.960       1.000       132.000   \n",
       "50%         2.000            1.000          1.600       1.000       162.000   \n",
       "75%         2.000            2.000          2.930       1.000       234.000   \n",
       "max         5.000            9.000     210240.070      99.000       265.000   \n",
       "\n",
       "       DOLocationID  payment_type  fare_amount       extra     mta_tax  \\\n",
       "count   6405008.000   6405008.000  6405008.000 6405008.000 6405008.000   \n",
       "mean        162.663         1.257       12.694       1.115       0.492   \n",
       "std          69.913         0.489       12.127       1.260       0.074   \n",
       "min           1.000         0.000    -1238.000     -27.000      -0.500   \n",
       "25%         113.000         1.000        6.500       0.000       0.500   \n",
       "50%         162.000         1.000        9.000       0.500       0.500   \n",
       "75%         234.000         2.000       14.000       2.500       0.500   \n",
       "max         265.000         5.000     4265.000     113.010      30.800   \n",
       "\n",
       "       tip_amount  tolls_amount  improvement_surcharge  total_amount  \\\n",
       "count 6405008.000   6405008.000            6405008.000   6405008.000   \n",
       "mean        2.189         0.349                  0.298        18.663   \n",
       "std         2.760         1.767                  0.034        14.757   \n",
       "min       -91.000       -35.740                 -0.300     -1242.300   \n",
       "25%         0.000         0.000                  0.300        11.160   \n",
       "50%         1.950         0.000                  0.300        14.300   \n",
       "75%         2.860         0.000                  0.300        19.800   \n",
       "max      1100.000       910.500                  0.300      4268.300   \n",
       "\n",
       "       congestion_surcharge  \n",
       "count           6339567.000  \n",
       "mean                  2.299  \n",
       "std                   0.702  \n",
       "min                  -2.500  \n",
       "25%                   2.500  \n",
       "50%                   2.500  \n",
       "75%                   2.500  \n",
       "max                   2.750  "
      ]
     },
     "execution_count": 38,
     "metadata": {},
     "output_type": "execute_result"
    }
   ],
   "source": [
    "# La función describe() nos da una vista general de valores de cantidades de datos, media, desv. standard, valores min y max de cada columna.\n",
    "df.describe()"
   ]
  },
  {
   "cell_type": "markdown",
   "metadata": {},
   "source": [
    "### Descripción de Columnas del Dataset.\n"
   ]
  },
  {
   "cell_type": "code",
   "execution_count": 39,
   "metadata": {},
   "outputs": [
    {
     "data": {
      "text/plain": [
       "VendorID                          int64\n",
       "tpep_pickup_datetime     datetime64[ns]\n",
       "tpep_dropoff_datetime    datetime64[ns]\n",
       "passenger_count                 float64\n",
       "trip_distance                   float64\n",
       "RatecodeID                      float64\n",
       "store_and_fwd_flag               object\n",
       "PULocationID                      int64\n",
       "DOLocationID                      int64\n",
       "payment_type                      int64\n",
       "fare_amount                     float64\n",
       "extra                           float64\n",
       "mta_tax                         float64\n",
       "tip_amount                      float64\n",
       "tolls_amount                    float64\n",
       "improvement_surcharge           float64\n",
       "total_amount                    float64\n",
       "congestion_surcharge            float64\n",
       "airport_fee                      object\n",
       "dtype: object"
      ]
     },
     "execution_count": 39,
     "metadata": {},
     "output_type": "execute_result"
    }
   ],
   "source": [
    "# Listado de tipos de variables presentes en el dataset\n",
    "df.dtypes"
   ]
  },
  {
   "cell_type": "code",
   "execution_count": 44,
   "metadata": {},
   "outputs": [],
   "source": [
    "# funcion para plotear las distribuciones de los atributos\n",
    "def display_dataset_distributions(dataset):\n",
    "    fig = dataset.hist(xlabelsize=10, ylabelsize=10,figsize=(18,18))\n",
    "    [x.title.set_size(14) for x in fig.ravel()]\n",
    "    plt.tight_layout\n",
    "    plt.show()\n",
    "    \n",
    "\n",
    "# funcion para imprimir nulos\n",
    "def print_null_info(col):\n",
    "    print(f'Cantidad de nulos: {col.isnull().sum()}')\n",
    "\n",
    "# funcion para imprimir datos de v. categoricas\n",
    "def print_categorical(col):\n",
    "    print(f'Ordinalidad: {col.unique()}')\n",
    "    print_null_info(col)\n",
    "    print('Ocurrencias:')\n",
    "    print(col.value_counts().sort_values())"
   ]
  },
  {
   "cell_type": "code",
   "execution_count": 45,
   "metadata": {},
   "outputs": [
    {
     "data": {
      "image/png": "[encoded data removed]",
      "text/plain": [
       "<Figure size 1296x1296 with 20 Axes>"
      ]
     },
     "metadata": {
      "needs_background": "light"
     },
     "output_type": "display_data"
    }
   ],
   "source": [
    "#imprimo distribuciones \n",
    "display_dataset_distributions(df)"
   ]
  },
  {
   "cell_type": "markdown",
   "metadata": {},
   "source": [
    "\n",
    "- **VendorID**: Proveedor de servicios de tecnologias en taxis (T-PEP)\n",
    "    - Tipo de dato: Categórica ordinal  \n",
    "    - Tipo de variable: Entrada  \n"
   ]
  },
  {
   "cell_type": "code",
   "execution_count": 46,
   "metadata": {},
   "outputs": [
    {
     "name": "stdout",
     "output_type": "stream",
     "text": [
      "Ordinalidad: [1 2 5]\n",
      "Cantidad de nulos: 0\n",
      "Ocurrencias:\n",
      "5          5\n",
      "1    2094439\n",
      "2    4310564\n",
      "Name: VendorID, dtype: int64\n"
     ]
    }
   ],
   "source": [
    "print_categorical(df.VendorID)"
   ]
  },
  {
   "cell_type": "markdown",
   "metadata": {},
   "source": [
    "\n",
    "- **tpep_pickup_datetime**: Fecha y hora en el cual el reloj fue activado al iniciar un viaje.\n",
    "    - Tipo de dato: Timestamp compuesto  \n",
    "    - Tipo de variable: Entrada  \n",
    "\n",
    "    - Ejemplo del dato en el dataset: 2020-07-01 00:25:32\n"
   ]
  },
  {
   "cell_type": "code",
   "execution_count": 47,
   "metadata": {},
   "outputs": [
    {
     "name": "stdout",
     "output_type": "stream",
     "text": [
      "Cantidad de nulos: 0\n"
     ]
    }
   ],
   "source": [
    "print_null_info(df.tpep_pickup_datetime)"
   ]
  },
  {
   "cell_type": "markdown",
   "metadata": {},
   "source": [
    "- **tpep_dropoff_datetime**: Fecha y hora en el cual el reloj fue desactivador al finalizar un viaje.\n",
    "    - Tipo de dato: Timestamp compuesto\n",
    "    - Tipo de variable: Entrada  / Salida\n",
    "\n",
    "    - Ejemplo del dato en el dataset: 2020-07-01 00:33:39\n"
   ]
  },
  {
   "cell_type": "code",
   "execution_count": 48,
   "metadata": {},
   "outputs": [
    {
     "name": "stdout",
     "output_type": "stream",
     "text": [
      "Cantidad de nulos: 0\n"
     ]
    }
   ],
   "source": [
    "print_null_info(df.tpep_dropoff_datetime)"
   ]
  },
  {
   "cell_type": "markdown",
   "metadata": {},
   "source": [
    "- **passenger_count**: El número de pasajeros en el vehiculo. (Es un dato que lo ingresa el conductor.)\n",
    "    - Tipo de dato: Numérico \n",
    "    - Tipo de variable: Entrada\n",
    "    - Ejemplo del dato en el dataset: 1.0"
   ]
  },
  {
   "cell_type": "code",
   "execution_count": 49,
   "metadata": {},
   "outputs": [
    {
     "name": "stdout",
     "output_type": "stream",
     "text": [
      "Cantidad de nulos: 65441\n"
     ]
    }
   ],
   "source": [
    "print_null_info(df.passenger_count)"
   ]
  },
  {
   "cell_type": "markdown",
   "metadata": {},
   "source": [
    "\n",
    "- **trip_distance**: La distancia del viaje transcurrido en millas reportada por el taxímetro. \n",
    "    - Tipo de dato: Numérico \n",
    "    - Tipo de variable: Entrada  \n",
    "\n",
    "    - Ejemplo del dato en el dataset: 1.50\n"
   ]
  },
  {
   "cell_type": "code",
   "execution_count": 50,
   "metadata": {},
   "outputs": [
    {
     "name": "stdout",
     "output_type": "stream",
     "text": [
      "Cantidad de nulos: 0\n"
     ]
    }
   ],
   "source": [
    "print_null_info(df.trip_distance)"
   ]
  },
  {
   "cell_type": "markdown",
   "metadata": {},
   "source": [
    "- **PULocationID**: TLC Zona en la que el taxímetro se activó.\n",
    "    - Tipo de dato: Categórica ordinal\n",
    "    - Tipo de variable: Entrada / Salida\n",
    "\n",
    "    - Ejemplo del dato en el dataset: 238\n"
   ]
  },
  {
   "cell_type": "code",
   "execution_count": 51,
   "metadata": {},
   "outputs": [
    {
     "name": "stdout",
     "output_type": "stream",
     "text": [
      "Ordinalidad: [238 239 193   7 246 163 161  43 143 211 234 138 170 236  50 142 237  24\n",
      " 232  79 233 148 144 229  41  48  95 141  90 166 249  87 113 107 185 162\n",
      " 189 140 262 263 151 231  40 261 137 158 181 132  68 164 114 125  75 255\n",
      " 129  93 226 260 209  65 116  74  13 145 224 256 112 264  17 186  42 157\n",
      "  88   4  45 257 127 152  12 179 243 244  18 119 190  97 100 265 220 153\n",
      "  66 196  25  80  36  73 135 146  49  47  51  92 136  37 198 202 173  52\n",
      "  33  76 169  70  56  10 216  77  32  69 108 235   3 225 228 188 126  94\n",
      "  60 213  89  83  82 254 194  14 159  34  85 168 223  61 167 247 230  67\n",
      " 106 217 133 160  62 134 165 147 241 191  54 102 174  78  71  22  55 212\n",
      "  20  63  35  29 215 120 240 195  72 258 208 183  91  53 121  39  19  28\n",
      " 227 250 155 182   1 242  26 177 197 131  38  16 221 130 219  21 171 200\n",
      " 180  44  23 117 207   5 139 222 123 206 124 218 101 210   8 248 214  31\n",
      "  64  11 150 178 203  81  99  46 149 128 205 252 154 156 187 253 118  86\n",
      " 175  58  98 122  15 192 109 259  96 115 184   9   6 111  30   2  57 251\n",
      "  84 201 105 172  59 245 176 204  27]\n",
      "Cantidad de nulos: 0\n",
      "Ocurrencias:\n",
      "204         1\n",
      "172         1\n",
      "30          1\n",
      "105         2\n",
      "176         2\n",
      "        ...  \n",
      "186    228746\n",
      "162    235602\n",
      "236    272592\n",
      "161    282213\n",
      "237    292989\n",
      "Name: PULocationID, Length: 261, dtype: int64\n"
     ]
    }
   ],
   "source": [
    "print_categorical(df.PULocationID)"
   ]
  },
  {
   "cell_type": "markdown",
   "metadata": {},
   "source": [
    "\n",
    "- **DOLocationID**: TLC Zona en la que el taxímetro se desactivó.\n",
    "    - Tipo de dato: Categórica ordinal\n",
    "    - Tipo de variable: Entrada / Salida \n",
    "\n",
    "    - Ejemplo del dato en el dataset: 75\n"
   ]
  },
  {
   "cell_type": "code",
   "execution_count": 52,
   "metadata": {},
   "outputs": [
    {
     "name": "stdout",
     "output_type": "stream",
     "text": [
      "Ordinalidad: [239 238 151 193  48  79 161 144  25 234  90 142 216 162 262 261 236 141\n",
      " 112 233 170 107  49 229  41  74  68  95 140 148 213 100 137 263 248 226\n",
      "   7 237  42  80  24 243 231 246 244 186 143 224  45  65 181 158  82 232\n",
      "  75 265 145  43 211 125 223 113 134 220 114 249 255 164 129  28 260 153\n",
      "  87  66 116  55 159   4 189  50  13 163  37 122 256 225  10 218 166 179\n",
      " 221  17 127 209 264 195  18 168 147  67 106  89  33 138  22 108 173  92\n",
      " 149 136  97  62 198  78  93 250  14 146  69 160 217  88 200  20 258 188\n",
      "  72 150 135 165 230  94 196  70 212 152  61 119   6 126 133 169  36  71\n",
      " 247  40  16 190 121 202 128 205 206 130 227  21  56 191  51  15  19 241\n",
      "  52 235 208 157 171  83 197  91  32 175 228 219 167 257  47  31 259  35\n",
      " 203 132 139 124 254  39 210 123  23  76  54 184 177  12  81  64 252  85\n",
      " 155 178  63 131 215 192  26 102  77  53 185 182   8  86  38   1  29  60\n",
      " 180 174 242 183 253   3  98  73  11 120  59  30 222  34 245  27   9 240\n",
      "  57  58 251 117 201 101 176 156 204 154 214 115 118 194 104  44   5 111\n",
      " 207  99 187  46  96 109  84 172 105   2]\n",
      "Cantidad de nulos: 0\n",
      "Ocurrencias:\n",
      "104         1\n",
      "105         3\n",
      "2           7\n",
      "99         16\n",
      "204        33\n",
      "        ...  \n",
      "162    194146\n",
      "170    196877\n",
      "161    249719\n",
      "237    263588\n",
      "236    289289\n",
      "Name: DOLocationID, Length: 262, dtype: int64\n"
     ]
    }
   ],
   "source": [
    "print_categorical(df.DOLocationID)"
   ]
  },
  {
   "cell_type": "markdown",
   "metadata": {},
   "source": [
    "\n",
    "- **RatecodeID**:  El código de tarifa final vigente al final del viaje.\n",
    "    - Tipo de dato: Categórica ordinal\n",
    "    - Tipo de variable: Entrada  \n",
    "\n",
    "    - 1= Standard rate\n",
    "    - 2= JFK \n",
    "    - 3= Newark\n",
    "    - 4= Nassau or Westchester\n",
    "    - 5= Negotiated fare\n",
    "    - 6= Group ride\n"
   ]
  },
  {
   "cell_type": "code",
   "execution_count": 53,
   "metadata": {},
   "outputs": [
    {
     "name": "stdout",
     "output_type": "stream",
     "text": [
      "Ordinalidad: [ 1.  5.  3.  2.  4. 99.  6. nan]\n",
      "Cantidad de nulos: 65441\n",
      "Ocurrencias:\n",
      "6.000          46\n",
      "99.000        350\n",
      "4.000        5130\n",
      "3.000       13476\n",
      "5.000       36296\n",
      "2.000      157733\n",
      "1.000     6126536\n",
      "Name: RatecodeID, dtype: int64\n"
     ]
    }
   ],
   "source": [
    "print_categorical(df.RatecodeID)"
   ]
  },
  {
   "cell_type": "markdown",
   "metadata": {},
   "source": [
    "- **store_and_fwd_flag**:  Este flag indica si el registro de viaje se llevó a cabo en la memoria del dispositivo del vehiculo antes de enviar al proveedor, también conocido como \"almacenar y reenviar\", porque el vehiculo no tenia conexion al servidor.\n",
    "    - Tipo de dato: Categórica  \n",
    "    - Tipo de variable: Entrada  \n",
    "\n",
    "    - Y= Almacenar y reenviar informacion.\n",
    "    - N= No almacenar y enviar informacion.\n"
   ]
  },
  {
   "cell_type": "code",
   "execution_count": 54,
   "metadata": {},
   "outputs": [
    {
     "name": "stdout",
     "output_type": "stream",
     "text": [
      "Ordinalidad: ['N' 'Y' None]\n",
      "Cantidad de nulos: 65441\n",
      "Ocurrencias:\n",
      "Y      68120\n",
      "N    6271447\n",
      "Name: store_and_fwd_flag, dtype: int64\n"
     ]
    }
   ],
   "source": [
    "print_categorical(df.store_and_fwd_flag)"
   ]
  },
  {
   "cell_type": "markdown",
   "metadata": {},
   "source": [
    "\n",
    "- **payment_type**: Un código numérico que significa cómo el pasajero pagó por el viaje.\n",
    "    - Tipo de dato: Categórica ordinal  \n",
    "    - Tipo de variable: Entrada  \n",
    "\n",
    "    - 1= Credit card\n",
    "    - 2= Cash\n",
    "    - 3= No charge\n",
    "    - 4= Dispute\n",
    "    - 5= Unknown\n",
    "    - 6= Voided trip\n"
   ]
  },
  {
   "cell_type": "code",
   "execution_count": 55,
   "metadata": {},
   "outputs": [
    {
     "name": "stdout",
     "output_type": "stream",
     "text": [
      "Ordinalidad: [1 2 4 3 5 0]\n",
      "Cantidad de nulos: 0\n",
      "Ocurrencias:\n",
      "5          1\n",
      "4      18065\n",
      "3      32770\n",
      "0      65441\n",
      "2    1593834\n",
      "1    4694897\n",
      "Name: payment_type, dtype: int64\n"
     ]
    }
   ],
   "source": [
    "print_categorical(df.payment_type)"
   ]
  },
  {
   "cell_type": "markdown",
   "metadata": {},
   "source": [
    "- **fare_amount**: La tarifa de tiempo y distancia calculada por el taxímetro.\n",
    "    - Tipo de dato: Numérico  \n",
    "    - Tipo de variable: Salida  \n",
    "\n",
    "    - Ejemplo del dato en el dataset: 8.0\n"
   ]
  },
  {
   "cell_type": "code",
   "execution_count": 56,
   "metadata": {},
   "outputs": [
    {
     "name": "stdout",
     "output_type": "stream",
     "text": [
      "Cantidad de nulos: 0\n"
     ]
    }
   ],
   "source": [
    "print_null_info(df.fare_amount)"
   ]
  },
  {
   "cell_type": "markdown",
   "metadata": {},
   "source": [
    "- **Extra**: Varios extras y recargos. Actualmente, esto solo incluye los cargos de $0.50 y $1 por la hora pico y por la noche.\n",
    "    - Tipo de dato: Numérico  \n",
    "    - Tipo de variable: Salida  \n",
    "\n",
    "    - Ejemplo del dato en el dataset: 0.5\n"
   ]
  },
  {
   "cell_type": "code",
   "execution_count": 57,
   "metadata": {},
   "outputs": [
    {
     "name": "stdout",
     "output_type": "stream",
     "text": [
      "Cantidad de nulos: 0\n"
     ]
    }
   ],
   "source": [
    "print_null_info(df.extra)"
   ]
  },
  {
   "cell_type": "markdown",
   "metadata": {},
   "source": [
    "\n",
    "- **mta_tax**: Impuesto MTA de $0.50 que se activa automáticamente según la tasa de uso del medidor.\n",
    "    - Tipo de dato: Numérico\n",
    "    - Tipo de variable: Salida  \n",
    "\n",
    "    - Ejemplo del dato en el dataset: 0.5\n"
   ]
  },
  {
   "cell_type": "code",
   "execution_count": 58,
   "metadata": {},
   "outputs": [
    {
     "name": "stdout",
     "output_type": "stream",
     "text": [
      "Cantidad de nulos: 0\n"
     ]
    }
   ],
   "source": [
    "print_null_info(df.mta_tax)"
   ]
  },
  {
   "cell_type": "markdown",
   "metadata": {},
   "source": [
    "- **improvement_surcharge**: Recargo de mejora de $ 0.30 en viaje en el descenso de bandera. El recargo por mejora comenzó a cobrarse en 2015.\n",
    "    - Tipo de dato: Numérico  \n",
    "    - Tipo de variable: Salida  \n",
    "\n",
    "    - Ejemplo del dato en el dataset: 0.3\n"
   ]
  },
  {
   "cell_type": "code",
   "execution_count": 59,
   "metadata": {},
   "outputs": [
    {
     "name": "stdout",
     "output_type": "stream",
     "text": [
      "Cantidad de nulos: 0\n"
     ]
    }
   ],
   "source": [
    "print_null_info(df.improvement_surcharge)"
   ]
  },
  {
   "cell_type": "markdown",
   "metadata": {},
   "source": [
    "- **tip_amount**: Importe de la propina: este campo se completa automáticamente para las propinas de tarjetas de crédito. Las propinas en efectivo no están incluidas.\n",
    "    - Tipo de dato: Numérico\n",
    "    - Tipo de variable: Salida  \n",
    "\n",
    "    - Ejemplo del dato en el dataset: 0.00  \n"
   ]
  },
  {
   "cell_type": "code",
   "execution_count": 60,
   "metadata": {},
   "outputs": [
    {
     "name": "stdout",
     "output_type": "stream",
     "text": [
      "Cantidad de nulos: 0\n"
     ]
    }
   ],
   "source": [
    "print_null_info(df.tip_amount)"
   ]
  },
  {
   "cell_type": "markdown",
   "metadata": {},
   "source": [
    "- **tolls_amount**: Importe total de todos los peajes pagados en el viaje.\n",
    "    - Tipo de dato: Numérico\n",
    "    - Tipo de variable: Salida  \n",
    "    - Ejemplo del dato en el dataset: 0.00\n"
   ]
  },
  {
   "cell_type": "code",
   "execution_count": 61,
   "metadata": {},
   "outputs": [
    {
     "name": "stdout",
     "output_type": "stream",
     "text": [
      "Cantidad de nulos: 0\n"
     ]
    }
   ],
   "source": [
    "print_null_info(df.tolls_amount)"
   ]
  },
  {
   "cell_type": "markdown",
   "metadata": {},
   "source": [
    "\n",
    "- **total_amount**: El monto total cobrado a los pasajeros. No incluye propinas en efectivo.\n",
    "    - Tipo de dato: Numérico  \n",
    "    - Tipo de variable: Salida  \n",
    "    - Ejemplo del dato en el dataset: 9.30\n"
   ]
  },
  {
   "cell_type": "code",
   "execution_count": 62,
   "metadata": {},
   "outputs": [
    {
     "name": "stdout",
     "output_type": "stream",
     "text": [
      "Cantidad de nulos: 0\n"
     ]
    }
   ],
   "source": [
    "print_null_info(df.total_amount)"
   ]
  },
  {
   "cell_type": "markdown",
   "metadata": {},
   "source": [
    "- **congestion_surcharge**: Importe total recaudado en el viaje por el recargo por congestión del Estado de Nueva York.\n",
    "    - Tipo de dato: Numérico\n",
    "    - Tipo de variable: Salida  \n",
    "    - Ejemplo del dato en el dataset: 0.00\n"
   ]
  },
  {
   "cell_type": "code",
   "execution_count": 63,
   "metadata": {},
   "outputs": [
    {
     "name": "stdout",
     "output_type": "stream",
     "text": [
      "Cantidad de nulos: 65441\n"
     ]
    }
   ],
   "source": [
    "print_null_info(df.congestion_surcharge)"
   ]
  },
  {
   "cell_type": "markdown",
   "metadata": {},
   "source": [
    "- **airport_fee**: $1.25 para recoger solo en los aeropuertos LaGuardia y John F. Kennedy\n",
    "    - Tipo de dato: Numérico  \n",
    "    - Tipo de variable: Salida\n",
    "    - Ejemplo del dato en el dataset: None"
   ]
  },
  {
   "cell_type": "code",
   "execution_count": 64,
   "metadata": {},
   "outputs": [
    {
     "name": "stdout",
     "output_type": "stream",
     "text": [
      "Cantidad de nulos: 6405008\n"
     ]
    }
   ],
   "source": [
    "print_null_info(df.airport_fee)"
   ]
  }
 ],
 "metadata": {
  "kernelspec": {
   "display_name": "Python 3.9.13 64-bit",
   "language": "python",
   "name": "python3"
  },
  "language_info": {
   "codemirror_mode": {
    "name": "ipython",
    "version": 3
   },
   "file_extension": ".py",
   "mimetype": "text/x-python",
   "name": "python",
   "nbconvert_exporter": "python",
   "pygments_lexer": "ipython3",
   "version": "3.9.13"
  },
  "vscode": {
   "interpreter": {
    "hash": "b0fa6594d8f4cbf19f97940f81e996739fb7646882a419484c72d19e05852a7e"
   }
  }
 },
 "nbformat": 4,
 "nbformat_minor": 4
}
