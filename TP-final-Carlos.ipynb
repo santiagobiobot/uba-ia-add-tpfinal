{
 "cells": [
  {
   "cell_type": "markdown",
   "metadata": {
    "slideshow": {
     "slide_type": "slide"
    }
   },
   "source": [
    "# Trabajo Final. Análisis de Datos"
   ]
  },
  {
   "cell_type": "markdown",
   "metadata": {},
   "source": [
    "## Alumnos:\n",
    "\n",
    "### Domenje, Carlos R.\n",
    "\n",
    "### Fux, Santiago.\n",
    "\n",
    "---"
   ]
  },
  {
   "cell_type": "markdown",
   "metadata": {
    "slideshow": {
     "slide_type": "slide"
    }
   },
   "source": [
    "## DATASET: Uso de Taxis Yellow Cab en USA en el año 2020\n",
    "\n",
    "**Problema.** Responderemos a la siguiente pregunta\n",
    "\n",
    "1. ¿Existe una manera de caracterizar los lugares más recurrentes para inicio / fin de viaje?\n"
   ]
  },
  {
   "cell_type": "markdown",
   "metadata": {},
   "source": [
    "## 1. Obtención de datos\n",
    "\n",
    "Para importar los datos, buscamos en la página web brindada por la cátedra:\n",
    "\n",
    "- [Yellow Cab - Dataset](https://www1.nyc.gov/site/tlc/about/tlc-trip-record-data.page)\n",
    "\n",
    "**Nota**: El dataset utilizado será el del año 2020, los tres primeros meses (Enero, Febrero, Marzo) y será descargado en una carpeta llamada \"data\" dentro de la carpeta contenedora del proyecto."
   ]
  },
  {
   "cell_type": "code",
   "execution_count": 1,
   "metadata": {
    "scrolled": true
   },
   "outputs": [],
   "source": [
    "# Path del dataset a utilizar.\n",
    "DATASET_PATH = r'./data'"
   ]
  },
  {
   "cell_type": "code",
   "execution_count": 2,
   "metadata": {},
   "outputs": [
    {
     "name": "stdout",
     "output_type": "stream",
     "text": [
      "yellow_tripdata_2020-01.parquet yellow_tripdata_2020-03.parquet\n",
      "yellow_tripdata_2020-02.parquet\n"
     ]
    }
   ],
   "source": [
    "# listamos los archivos que se encuentran en el path\n",
    "!ls {DATASET_PATH}"
   ]
  },
  {
   "cell_type": "code",
   "execution_count": 3,
   "metadata": {},
   "outputs": [],
   "source": [
    "# Importamos las librerias necesarias para interactuar con el dataset.\n",
    "\n",
    "import pandas as pd\n",
    "import glob\n",
    "import matplotlib\n",
    "import matplotlib.pyplot as plt\n",
    "import numpy as np\n",
    "import seaborn as sns; sns.set()\n",
    "import scipy.stats as stats\n",
    "import sklearn as sk\n",
    "from sklearn.model_selection import train_test_split\n",
    "from sklearn.linear_model import LogisticRegression, LogisticRegressionCV\n",
    "from sklearn.metrics import accuracy_score,plot_confusion_matrix,roc_auc_score, classification_report, confusion_matrix, precision_recall_curve, auc\n",
    "from sklearn.preprocessing import StandardScaler\n",
    "from collections import Counter\n",
    "# Set decimals format with 3 decimals\n",
    "pd.set_option('display.float_format', lambda x: '%.3f' % x)"
   ]
  },
  {
   "cell_type": "code",
   "execution_count": 4,
   "metadata": {},
   "outputs": [
    {
     "data": {
      "text/html": [
       "<div>\n",
       "<style scoped>\n",
       "    .dataframe tbody tr th:only-of-type {\n",
       "        vertical-align: middle;\n",
       "    }\n",
       "\n",
       "    .dataframe tbody tr th {\n",
       "        vertical-align: top;\n",
       "    }\n",
       "\n",
       "    .dataframe thead th {\n",
       "        text-align: right;\n",
       "    }\n",
       "</style>\n",
       "<table border=\"1\" class=\"dataframe\">\n",
       "  <thead>\n",
       "    <tr style=\"text-align: right;\">\n",
       "      <th></th>\n",
       "      <th>VendorID</th>\n",
       "      <th>passenger_count</th>\n",
       "      <th>trip_distance</th>\n",
       "      <th>RatecodeID</th>\n",
       "      <th>PULocationID</th>\n",
       "      <th>DOLocationID</th>\n",
       "      <th>payment_type</th>\n",
       "      <th>fare_amount</th>\n",
       "      <th>extra</th>\n",
       "      <th>mta_tax</th>\n",
       "      <th>tip_amount</th>\n",
       "      <th>tolls_amount</th>\n",
       "      <th>improvement_surcharge</th>\n",
       "      <th>total_amount</th>\n",
       "      <th>congestion_surcharge</th>\n",
       "    </tr>\n",
       "  </thead>\n",
       "  <tbody>\n",
       "    <tr>\n",
       "      <th>count</th>\n",
       "      <td>1571207.000</td>\n",
       "      <td>1556055.000</td>\n",
       "      <td>1571207.000</td>\n",
       "      <td>1556055.000</td>\n",
       "      <td>1571207.000</td>\n",
       "      <td>1571207.000</td>\n",
       "      <td>1571207.000</td>\n",
       "      <td>1571207.000</td>\n",
       "      <td>1571207.000</td>\n",
       "      <td>1571207.000</td>\n",
       "      <td>1571207.000</td>\n",
       "      <td>1571207.000</td>\n",
       "      <td>1571207.000</td>\n",
       "      <td>1571207.000</td>\n",
       "      <td>1556055.000</td>\n",
       "    </tr>\n",
       "    <tr>\n",
       "      <th>mean</th>\n",
       "      <td>1.673</td>\n",
       "      <td>1.501</td>\n",
       "      <td>2.883</td>\n",
       "      <td>1.057</td>\n",
       "      <td>164.480</td>\n",
       "      <td>162.240</td>\n",
       "      <td>1.252</td>\n",
       "      <td>12.613</td>\n",
       "      <td>1.106</td>\n",
       "      <td>0.492</td>\n",
       "      <td>2.192</td>\n",
       "      <td>0.331</td>\n",
       "      <td>0.298</td>\n",
       "      <td>18.558</td>\n",
       "      <td>2.297</td>\n",
       "    </tr>\n",
       "    <tr>\n",
       "      <th>std</th>\n",
       "      <td>0.470</td>\n",
       "      <td>1.142</td>\n",
       "      <td>22.347</td>\n",
       "      <td>0.775</td>\n",
       "      <td>65.790</td>\n",
       "      <td>69.994</td>\n",
       "      <td>0.485</td>\n",
       "      <td>11.658</td>\n",
       "      <td>1.256</td>\n",
       "      <td>0.073</td>\n",
       "      <td>2.672</td>\n",
       "      <td>1.583</td>\n",
       "      <td>0.034</td>\n",
       "      <td>14.242</td>\n",
       "      <td>0.705</td>\n",
       "    </tr>\n",
       "    <tr>\n",
       "      <th>min</th>\n",
       "      <td>1.000</td>\n",
       "      <td>0.000</td>\n",
       "      <td>-26.760</td>\n",
       "      <td>1.000</td>\n",
       "      <td>1.000</td>\n",
       "      <td>1.000</td>\n",
       "      <td>0.000</td>\n",
       "      <td>-280.000</td>\n",
       "      <td>-4.500</td>\n",
       "      <td>-0.500</td>\n",
       "      <td>-10.000</td>\n",
       "      <td>-19.250</td>\n",
       "      <td>-0.300</td>\n",
       "      <td>-280.300</td>\n",
       "      <td>-2.500</td>\n",
       "    </tr>\n",
       "    <tr>\n",
       "      <th>25%</th>\n",
       "      <td>1.000</td>\n",
       "      <td>1.000</td>\n",
       "      <td>0.970</td>\n",
       "      <td>1.000</td>\n",
       "      <td>125.000</td>\n",
       "      <td>113.000</td>\n",
       "      <td>1.000</td>\n",
       "      <td>6.500</td>\n",
       "      <td>0.000</td>\n",
       "      <td>0.500</td>\n",
       "      <td>0.000</td>\n",
       "      <td>0.000</td>\n",
       "      <td>0.300</td>\n",
       "      <td>11.160</td>\n",
       "      <td>2.500</td>\n",
       "    </tr>\n",
       "    <tr>\n",
       "      <th>50%</th>\n",
       "      <td>2.000</td>\n",
       "      <td>1.000</td>\n",
       "      <td>1.600</td>\n",
       "      <td>1.000</td>\n",
       "      <td>162.000</td>\n",
       "      <td>162.000</td>\n",
       "      <td>1.000</td>\n",
       "      <td>9.000</td>\n",
       "      <td>0.500</td>\n",
       "      <td>0.500</td>\n",
       "      <td>1.950</td>\n",
       "      <td>0.000</td>\n",
       "      <td>0.300</td>\n",
       "      <td>14.300</td>\n",
       "      <td>2.500</td>\n",
       "    </tr>\n",
       "    <tr>\n",
       "      <th>75%</th>\n",
       "      <td>2.000</td>\n",
       "      <td>2.000</td>\n",
       "      <td>2.930</td>\n",
       "      <td>1.000</td>\n",
       "      <td>234.000</td>\n",
       "      <td>234.000</td>\n",
       "      <td>2.000</td>\n",
       "      <td>14.000</td>\n",
       "      <td>2.500</td>\n",
       "      <td>0.500</td>\n",
       "      <td>2.860</td>\n",
       "      <td>0.000</td>\n",
       "      <td>0.300</td>\n",
       "      <td>19.890</td>\n",
       "      <td>2.500</td>\n",
       "    </tr>\n",
       "    <tr>\n",
       "      <th>max</th>\n",
       "      <td>6.000</td>\n",
       "      <td>9.000</td>\n",
       "      <td>27620.850</td>\n",
       "      <td>99.000</td>\n",
       "      <td>265.000</td>\n",
       "      <td>265.000</td>\n",
       "      <td>4.000</td>\n",
       "      <td>800.000</td>\n",
       "      <td>90.060</td>\n",
       "      <td>3.300</td>\n",
       "      <td>445.680</td>\n",
       "      <td>149.000</td>\n",
       "      <td>0.300</td>\n",
       "      <td>1040.390</td>\n",
       "      <td>2.750</td>\n",
       "    </tr>\n",
       "  </tbody>\n",
       "</table>\n",
       "</div>"
      ],
      "text/plain": [
       "         VendorID  passenger_count  trip_distance  RatecodeID  PULocationID  \\\n",
       "count 1571207.000      1556055.000    1571207.000 1556055.000   1571207.000   \n",
       "mean        1.673            1.501          2.883       1.057       164.480   \n",
       "std         0.470            1.142         22.347       0.775        65.790   \n",
       "min         1.000            0.000        -26.760       1.000         1.000   \n",
       "25%         1.000            1.000          0.970       1.000       125.000   \n",
       "50%         2.000            1.000          1.600       1.000       162.000   \n",
       "75%         2.000            2.000          2.930       1.000       234.000   \n",
       "max         6.000            9.000      27620.850      99.000       265.000   \n",
       "\n",
       "       DOLocationID  payment_type  fare_amount       extra     mta_tax  \\\n",
       "count   1571207.000   1571207.000  1571207.000 1571207.000 1571207.000   \n",
       "mean        162.240         1.252       12.613       1.106       0.492   \n",
       "std          69.994         0.485       11.658       1.256       0.073   \n",
       "min           1.000         0.000     -280.000      -4.500      -0.500   \n",
       "25%         113.000         1.000        6.500       0.000       0.500   \n",
       "50%         162.000         1.000        9.000       0.500       0.500   \n",
       "75%         234.000         2.000       14.000       2.500       0.500   \n",
       "max         265.000         4.000      800.000      90.060       3.300   \n",
       "\n",
       "       tip_amount  tolls_amount  improvement_surcharge  total_amount  \\\n",
       "count 1571207.000   1571207.000            1571207.000   1571207.000   \n",
       "mean        2.192         0.331                  0.298        18.558   \n",
       "std         2.672         1.583                  0.034        14.242   \n",
       "min       -10.000       -19.250                 -0.300      -280.300   \n",
       "25%         0.000         0.000                  0.300        11.160   \n",
       "50%         1.950         0.000                  0.300        14.300   \n",
       "75%         2.860         0.000                  0.300        19.890   \n",
       "max       445.680       149.000                  0.300      1040.390   \n",
       "\n",
       "       congestion_surcharge  \n",
       "count           1556055.000  \n",
       "mean                  2.297  \n",
       "std                   0.705  \n",
       "min                  -2.500  \n",
       "25%                   2.500  \n",
       "50%                   2.500  \n",
       "75%                   2.500  \n",
       "max                   2.750  "
      ]
     },
     "execution_count": 4,
     "metadata": {},
     "output_type": "execute_result"
    }
   ],
   "source": [
    "# El archivo del dataset tiene como formato .parquet, el cual es un archivo que esta orientado a columnas. \n",
    "all_files = glob.glob(\"./data/*.parquet\")\n",
    "\n",
    "df_list = []\n",
    "\n",
    "for filename in all_files:\n",
    "    # Se carga el archivo\n",
    "    df = pd.read_parquet(filename)\n",
    "    # Tomo el 10% del dataset total   \n",
    "    df = df.sample(frac=0.1)\n",
    "    # Agrego a la lista\n",
    "    df_list.append(df)\n",
    "\n",
    "\n",
    "df = pd.concat(df_list, axis=0, ignore_index=True)\n",
    "\n",
    "\n",
    "df.describe()"
   ]
  },
  {
   "cell_type": "code",
   "execution_count": 5,
   "metadata": {},
   "outputs": [
    {
     "name": "stdout",
     "output_type": "stream",
     "text": [
      "<class 'pandas.core.frame.DataFrame'>\n",
      "RangeIndex: 1571207 entries, 0 to 1571206\n",
      "Data columns (total 19 columns):\n",
      " #   Column                 Non-Null Count    Dtype         \n",
      "---  ------                 --------------    -----         \n",
      " 0   VendorID               1571207 non-null  int64         \n",
      " 1   tpep_pickup_datetime   1571207 non-null  datetime64[ns]\n",
      " 2   tpep_dropoff_datetime  1571207 non-null  datetime64[ns]\n",
      " 3   passenger_count        1556055 non-null  float64       \n",
      " 4   trip_distance          1571207 non-null  float64       \n",
      " 5   RatecodeID             1556055 non-null  float64       \n",
      " 6   store_and_fwd_flag     1556055 non-null  object        \n",
      " 7   PULocationID           1571207 non-null  int64         \n",
      " 8   DOLocationID           1571207 non-null  int64         \n",
      " 9   payment_type           1571207 non-null  int64         \n",
      " 10  fare_amount            1571207 non-null  float64       \n",
      " 11  extra                  1571207 non-null  float64       \n",
      " 12  mta_tax                1571207 non-null  float64       \n",
      " 13  tip_amount             1571207 non-null  float64       \n",
      " 14  tolls_amount           1571207 non-null  float64       \n",
      " 15  improvement_surcharge  1571207 non-null  float64       \n",
      " 16  total_amount           1571207 non-null  float64       \n",
      " 17  congestion_surcharge   1556055 non-null  float64       \n",
      " 18  airport_fee            0 non-null        object        \n",
      "dtypes: datetime64[ns](2), float64(11), int64(4), object(2)\n",
      "memory usage: 227.8+ MB\n"
     ]
    }
   ],
   "source": [
    "## Para obtener una descripción del tipo de datos que contiene cada columna, utilizamos la funcion info()\n",
    "# Podemos además, obtener una idea general de cuantos datos no nulos contiene.\n",
    "df.info()"
   ]
  },
  {
   "cell_type": "code",
   "execution_count": 6,
   "metadata": {},
   "outputs": [
    {
     "data": {
      "text/html": [
       "<div>\n",
       "<style scoped>\n",
       "    .dataframe tbody tr th:only-of-type {\n",
       "        vertical-align: middle;\n",
       "    }\n",
       "\n",
       "    .dataframe tbody tr th {\n",
       "        vertical-align: top;\n",
       "    }\n",
       "\n",
       "    .dataframe thead th {\n",
       "        text-align: right;\n",
       "    }\n",
       "</style>\n",
       "<table border=\"1\" class=\"dataframe\">\n",
       "  <thead>\n",
       "    <tr style=\"text-align: right;\">\n",
       "      <th></th>\n",
       "      <th>VendorID</th>\n",
       "      <th>passenger_count</th>\n",
       "      <th>trip_distance</th>\n",
       "      <th>RatecodeID</th>\n",
       "      <th>PULocationID</th>\n",
       "      <th>DOLocationID</th>\n",
       "      <th>payment_type</th>\n",
       "      <th>fare_amount</th>\n",
       "      <th>extra</th>\n",
       "      <th>mta_tax</th>\n",
       "      <th>tip_amount</th>\n",
       "      <th>tolls_amount</th>\n",
       "      <th>improvement_surcharge</th>\n",
       "      <th>total_amount</th>\n",
       "      <th>congestion_surcharge</th>\n",
       "    </tr>\n",
       "  </thead>\n",
       "  <tbody>\n",
       "    <tr>\n",
       "      <th>count</th>\n",
       "      <td>1571207.000</td>\n",
       "      <td>1556055.000</td>\n",
       "      <td>1571207.000</td>\n",
       "      <td>1556055.000</td>\n",
       "      <td>1571207.000</td>\n",
       "      <td>1571207.000</td>\n",
       "      <td>1571207.000</td>\n",
       "      <td>1571207.000</td>\n",
       "      <td>1571207.000</td>\n",
       "      <td>1571207.000</td>\n",
       "      <td>1571207.000</td>\n",
       "      <td>1571207.000</td>\n",
       "      <td>1571207.000</td>\n",
       "      <td>1571207.000</td>\n",
       "      <td>1556055.000</td>\n",
       "    </tr>\n",
       "    <tr>\n",
       "      <th>mean</th>\n",
       "      <td>1.673</td>\n",
       "      <td>1.501</td>\n",
       "      <td>2.883</td>\n",
       "      <td>1.057</td>\n",
       "      <td>164.480</td>\n",
       "      <td>162.240</td>\n",
       "      <td>1.252</td>\n",
       "      <td>12.613</td>\n",
       "      <td>1.106</td>\n",
       "      <td>0.492</td>\n",
       "      <td>2.192</td>\n",
       "      <td>0.331</td>\n",
       "      <td>0.298</td>\n",
       "      <td>18.558</td>\n",
       "      <td>2.297</td>\n",
       "    </tr>\n",
       "    <tr>\n",
       "      <th>std</th>\n",
       "      <td>0.470</td>\n",
       "      <td>1.142</td>\n",
       "      <td>22.347</td>\n",
       "      <td>0.775</td>\n",
       "      <td>65.790</td>\n",
       "      <td>69.994</td>\n",
       "      <td>0.485</td>\n",
       "      <td>11.658</td>\n",
       "      <td>1.256</td>\n",
       "      <td>0.073</td>\n",
       "      <td>2.672</td>\n",
       "      <td>1.583</td>\n",
       "      <td>0.034</td>\n",
       "      <td>14.242</td>\n",
       "      <td>0.705</td>\n",
       "    </tr>\n",
       "    <tr>\n",
       "      <th>min</th>\n",
       "      <td>1.000</td>\n",
       "      <td>0.000</td>\n",
       "      <td>-26.760</td>\n",
       "      <td>1.000</td>\n",
       "      <td>1.000</td>\n",
       "      <td>1.000</td>\n",
       "      <td>0.000</td>\n",
       "      <td>-280.000</td>\n",
       "      <td>-4.500</td>\n",
       "      <td>-0.500</td>\n",
       "      <td>-10.000</td>\n",
       "      <td>-19.250</td>\n",
       "      <td>-0.300</td>\n",
       "      <td>-280.300</td>\n",
       "      <td>-2.500</td>\n",
       "    </tr>\n",
       "    <tr>\n",
       "      <th>25%</th>\n",
       "      <td>1.000</td>\n",
       "      <td>1.000</td>\n",
       "      <td>0.970</td>\n",
       "      <td>1.000</td>\n",
       "      <td>125.000</td>\n",
       "      <td>113.000</td>\n",
       "      <td>1.000</td>\n",
       "      <td>6.500</td>\n",
       "      <td>0.000</td>\n",
       "      <td>0.500</td>\n",
       "      <td>0.000</td>\n",
       "      <td>0.000</td>\n",
       "      <td>0.300</td>\n",
       "      <td>11.160</td>\n",
       "      <td>2.500</td>\n",
       "    </tr>\n",
       "    <tr>\n",
       "      <th>50%</th>\n",
       "      <td>2.000</td>\n",
       "      <td>1.000</td>\n",
       "      <td>1.600</td>\n",
       "      <td>1.000</td>\n",
       "      <td>162.000</td>\n",
       "      <td>162.000</td>\n",
       "      <td>1.000</td>\n",
       "      <td>9.000</td>\n",
       "      <td>0.500</td>\n",
       "      <td>0.500</td>\n",
       "      <td>1.950</td>\n",
       "      <td>0.000</td>\n",
       "      <td>0.300</td>\n",
       "      <td>14.300</td>\n",
       "      <td>2.500</td>\n",
       "    </tr>\n",
       "    <tr>\n",
       "      <th>75%</th>\n",
       "      <td>2.000</td>\n",
       "      <td>2.000</td>\n",
       "      <td>2.930</td>\n",
       "      <td>1.000</td>\n",
       "      <td>234.000</td>\n",
       "      <td>234.000</td>\n",
       "      <td>2.000</td>\n",
       "      <td>14.000</td>\n",
       "      <td>2.500</td>\n",
       "      <td>0.500</td>\n",
       "      <td>2.860</td>\n",
       "      <td>0.000</td>\n",
       "      <td>0.300</td>\n",
       "      <td>19.890</td>\n",
       "      <td>2.500</td>\n",
       "    </tr>\n",
       "    <tr>\n",
       "      <th>max</th>\n",
       "      <td>6.000</td>\n",
       "      <td>9.000</td>\n",
       "      <td>27620.850</td>\n",
       "      <td>99.000</td>\n",
       "      <td>265.000</td>\n",
       "      <td>265.000</td>\n",
       "      <td>4.000</td>\n",
       "      <td>800.000</td>\n",
       "      <td>90.060</td>\n",
       "      <td>3.300</td>\n",
       "      <td>445.680</td>\n",
       "      <td>149.000</td>\n",
       "      <td>0.300</td>\n",
       "      <td>1040.390</td>\n",
       "      <td>2.750</td>\n",
       "    </tr>\n",
       "  </tbody>\n",
       "</table>\n",
       "</div>"
      ],
      "text/plain": [
       "         VendorID  passenger_count  trip_distance  RatecodeID  PULocationID  \\\n",
       "count 1571207.000      1556055.000    1571207.000 1556055.000   1571207.000   \n",
       "mean        1.673            1.501          2.883       1.057       164.480   \n",
       "std         0.470            1.142         22.347       0.775        65.790   \n",
       "min         1.000            0.000        -26.760       1.000         1.000   \n",
       "25%         1.000            1.000          0.970       1.000       125.000   \n",
       "50%         2.000            1.000          1.600       1.000       162.000   \n",
       "75%         2.000            2.000          2.930       1.000       234.000   \n",
       "max         6.000            9.000      27620.850      99.000       265.000   \n",
       "\n",
       "       DOLocationID  payment_type  fare_amount       extra     mta_tax  \\\n",
       "count   1571207.000   1571207.000  1571207.000 1571207.000 1571207.000   \n",
       "mean        162.240         1.252       12.613       1.106       0.492   \n",
       "std          69.994         0.485       11.658       1.256       0.073   \n",
       "min           1.000         0.000     -280.000      -4.500      -0.500   \n",
       "25%         113.000         1.000        6.500       0.000       0.500   \n",
       "50%         162.000         1.000        9.000       0.500       0.500   \n",
       "75%         234.000         2.000       14.000       2.500       0.500   \n",
       "max         265.000         4.000      800.000      90.060       3.300   \n",
       "\n",
       "       tip_amount  tolls_amount  improvement_surcharge  total_amount  \\\n",
       "count 1571207.000   1571207.000            1571207.000   1571207.000   \n",
       "mean        2.192         0.331                  0.298        18.558   \n",
       "std         2.672         1.583                  0.034        14.242   \n",
       "min       -10.000       -19.250                 -0.300      -280.300   \n",
       "25%         0.000         0.000                  0.300        11.160   \n",
       "50%         1.950         0.000                  0.300        14.300   \n",
       "75%         2.860         0.000                  0.300        19.890   \n",
       "max       445.680       149.000                  0.300      1040.390   \n",
       "\n",
       "       congestion_surcharge  \n",
       "count           1556055.000  \n",
       "mean                  2.297  \n",
       "std                   0.705  \n",
       "min                  -2.500  \n",
       "25%                   2.500  \n",
       "50%                   2.500  \n",
       "75%                   2.500  \n",
       "max                   2.750  "
      ]
     },
     "execution_count": 6,
     "metadata": {},
     "output_type": "execute_result"
    }
   ],
   "source": [
    "# La función describe() nos da una vista general de valores de cantidades de datos, media, desv. standard, valores min y max de cada columna.\n",
    "df.describe()"
   ]
  },
  {
   "cell_type": "markdown",
   "metadata": {},
   "source": [
    "### Descripción de Columnas del Dataset.\n"
   ]
  },
  {
   "cell_type": "code",
   "execution_count": 7,
   "metadata": {},
   "outputs": [
    {
     "data": {
      "text/plain": [
       "VendorID                          int64\n",
       "tpep_pickup_datetime     datetime64[ns]\n",
       "tpep_dropoff_datetime    datetime64[ns]\n",
       "passenger_count                 float64\n",
       "trip_distance                   float64\n",
       "RatecodeID                      float64\n",
       "store_and_fwd_flag               object\n",
       "PULocationID                      int64\n",
       "DOLocationID                      int64\n",
       "payment_type                      int64\n",
       "fare_amount                     float64\n",
       "extra                           float64\n",
       "mta_tax                         float64\n",
       "tip_amount                      float64\n",
       "tolls_amount                    float64\n",
       "improvement_surcharge           float64\n",
       "total_amount                    float64\n",
       "congestion_surcharge            float64\n",
       "airport_fee                      object\n",
       "dtype: object"
      ]
     },
     "execution_count": 7,
     "metadata": {},
     "output_type": "execute_result"
    }
   ],
   "source": [
    "# Listado de tipos de variables presentes en el dataset\n",
    "df.dtypes"
   ]
  },
  {
   "cell_type": "code",
   "execution_count": 8,
   "metadata": {},
   "outputs": [],
   "source": [
    "# funcion para plotear las distribuciones de los atributos\n",
    "def display_dataset_distributions(dataset):\n",
    "    fig = dataset.hist(xlabelsize=10, ylabelsize=10,figsize=(18,18))\n",
    "    [x.title.set_size(14) for x in fig.ravel()]\n",
    "    plt.tight_layout\n",
    "    plt.show()\n",
    "    \n",
    "\n",
    "# funcion para imprimir nulos\n",
    "def print_null_info(col):\n",
    "    print(f'Cantidad de nulos: {col.isnull().sum()}/{col.size}')\n",
    "\n",
    "# funcion para imprimir datos de v. categoricas\n",
    "def print_categorical(col):\n",
    "    print(f'Ordinalidad: {col.unique()}')\n",
    "    print_null_info(col)\n",
    "    print('Ocurrencias:')\n",
    "    print(col.value_counts().sort_values())"
   ]
  },
  {
   "cell_type": "code",
   "execution_count": 9,
   "metadata": {},
   "outputs": [
    {
     "data": {
      "image/png": "[encoded data removed]",
      "text/plain": [
       "<Figure size 1296x1296 with 20 Axes>"
      ]
     },
     "metadata": {
      "needs_background": "light"
     },
     "output_type": "display_data"
    }
   ],
   "source": [
    "#imprimo distribuciones \n",
    "display_dataset_distributions(df)"
   ]
  },
  {
   "cell_type": "markdown",
   "metadata": {},
   "source": [
    "\n",
    "- **VendorID**: Proveedor de servicios de tecnologias en taxis (T-PEP)\n",
    "    - Tipo de dato: Categórica ordinal  \n",
    "    - Tipo de variable: Entrada  \n"
   ]
  },
  {
   "cell_type": "code",
   "execution_count": 10,
   "metadata": {},
   "outputs": [
    {
     "name": "stdout",
     "output_type": "stream",
     "text": [
      "Ordinalidad: [2 1 6 5]\n",
      "Cantidad de nulos: 0/1571207\n",
      "Ocurrencias:\n",
      "5          3\n",
      "6         58\n",
      "1     513942\n",
      "2    1057204\n",
      "Name: VendorID, dtype: int64\n"
     ]
    }
   ],
   "source": [
    "print_categorical(df.VendorID)"
   ]
  },
  {
   "cell_type": "markdown",
   "metadata": {},
   "source": [
    "\n",
    "- **tpep_pickup_datetime**: Fecha y hora en el cual el reloj fue activado al iniciar un viaje.\n",
    "    - Tipo de dato: Timestamp compuesto  \n",
    "    - Tipo de variable: Entrada  \n",
    "\n",
    "    - Ejemplo del dato en el dataset: 2020-07-01 00:25:32\n"
   ]
  },
  {
   "cell_type": "code",
   "execution_count": 11,
   "metadata": {},
   "outputs": [
    {
     "name": "stdout",
     "output_type": "stream",
     "text": [
      "Cantidad de nulos: 0/1571207\n"
     ]
    }
   ],
   "source": [
    "print_null_info(df.tpep_pickup_datetime)"
   ]
  },
  {
   "cell_type": "markdown",
   "metadata": {},
   "source": [
    "- **tpep_dropoff_datetime**: Fecha y hora en el cual el reloj fue desactivador al finalizar un viaje.\n",
    "    - Tipo de dato: Timestamp compuesto\n",
    "    - Tipo de variable: Entrada  / Salida\n",
    "\n",
    "    - Ejemplo del dato en el dataset: 2020-07-01 00:33:39\n"
   ]
  },
  {
   "cell_type": "code",
   "execution_count": 12,
   "metadata": {},
   "outputs": [
    {
     "name": "stdout",
     "output_type": "stream",
     "text": [
      "Cantidad de nulos: 0/1571207\n"
     ]
    }
   ],
   "source": [
    "print_null_info(df.tpep_dropoff_datetime)"
   ]
  },
  {
   "cell_type": "markdown",
   "metadata": {},
   "source": [
    "- **passenger_count**: El número de pasajeros en el vehiculo. (Es un dato que lo ingresa el conductor.)\n",
    "    - Tipo de dato: Numérico \n",
    "    - Tipo de variable: Entrada\n",
    "    - Ejemplo del dato en el dataset: 1.0"
   ]
  },
  {
   "cell_type": "code",
   "execution_count": 13,
   "metadata": {},
   "outputs": [
    {
     "name": "stdout",
     "output_type": "stream",
     "text": [
      "Cantidad de nulos: 15152/1571207\n"
     ]
    }
   ],
   "source": [
    "print_null_info(df.passenger_count)"
   ]
  },
  {
   "cell_type": "markdown",
   "metadata": {},
   "source": [
    "\n",
    "- **trip_distance**: La distancia del viaje transcurrido en millas reportada por el taxímetro. \n",
    "    - Tipo de dato: Numérico \n",
    "    - Tipo de variable: Entrada  \n",
    "\n",
    "    - Ejemplo del dato en el dataset: 1.50\n"
   ]
  },
  {
   "cell_type": "code",
   "execution_count": 14,
   "metadata": {},
   "outputs": [
    {
     "name": "stdout",
     "output_type": "stream",
     "text": [
      "Cantidad de nulos: 0/1571207\n"
     ]
    }
   ],
   "source": [
    "print_null_info(df.trip_distance)"
   ]
  },
  {
   "cell_type": "markdown",
   "metadata": {},
   "source": [
    "- **PULocationID**: TLC Zona en la que el taxímetro se activó.\n",
    "    - Tipo de dato: Categórica ordinal\n",
    "    - Tipo de variable: Entrada / Salida\n",
    "\n",
    "    - Ejemplo del dato en el dataset: 238\n"
   ]
  },
  {
   "cell_type": "code",
   "execution_count": 15,
   "metadata": {},
   "outputs": [
    {
     "name": "stdout",
     "output_type": "stream",
     "text": [
      "Ordinalidad: [236 161 162 205  87 158  43 107 152  75 237 209 170 141 151 142 246 164\n",
      " 140 229 238 249 186 144  79  90 132  68 137 230 114 143 211 260  61  13\n",
      " 116 233 234  50 163  48 261 148 239 248  33 243 113 262  97 100 125  24\n",
      " 138 242 193 145 179 232   4 146 224  74 166 264 231 181 129  95 244 265\n",
      "  45 263  65  94  88  89  51  41  25 169 168   7 247  52  72 218  42 119\n",
      " 226  82  80 189  14   1  10 154  85  56 188 219 225 196 220  49 167 124\n",
      "  83  40 135 149 222  66 216 256 215 139  37 200 255  76  93 112 191 223\n",
      " 203 202 254  78  39 241  12 210 195  62 159  63  91 192   3 106  35 173\n",
      " 121  19 228 102   8  71 194 213 130 207 127 212 185 235 122 250 131 136\n",
      "  86 183  21  22  26 177  20 182 147  28 126 197 259 160  77  17 134 108\n",
      "  70  92 180 117 217 133 128  98  69 198  81  60  64 155 257  16 123 227\n",
      "   5 101 252  58 258 165 174 171  18  36  32 175 178 206  47  38 190  23\n",
      "  55 157 115 208  34  31  73  29 153   9 118  54  11  67  46 172 214  15\n",
      " 150  57 199 201  44 109 120 156  53 253   6  59 221 240 105   2 251 187\n",
      " 176 184]\n",
      "Cantidad de nulos: 0/1571207\n",
      "Ocurrencias:\n",
      "176        1\n",
      "105        1\n",
      "6          1\n",
      "251        1\n",
      "2          1\n",
      "       ...  \n",
      "230    55027\n",
      "162    57207\n",
      "236    65737\n",
      "161    67901\n",
      "237    70041\n",
      "Name: PULocationID, Length: 254, dtype: int64\n"
     ]
    }
   ],
   "source": [
    "print_categorical(df.PULocationID)"
   ]
  },
  {
   "cell_type": "markdown",
   "metadata": {},
   "source": [
    "\n",
    "- **DOLocationID**: TLC Zona en la que el taxímetro se desactivó.\n",
    "    - Tipo de dato: Categórica ordinal\n",
    "    - Tipo de variable: Entrada / Salida \n",
    "\n",
    "    - Ejemplo del dato en el dataset: 75\n"
   ]
  },
  {
   "cell_type": "code",
   "execution_count": 16,
   "metadata": {},
   "outputs": [
    {
     "name": "stdout",
     "output_type": "stream",
     "text": [
      "Ordinalidad: [262 230 100  61  21 114  43 233 140 229 151 142 186  13  79 263 163 246\n",
      "  50 234 238  90 137 236 164 231  75 148 161 138 116 113  48 130 144  28\n",
      " 170  68 129  35 244 166 141 143  24 239 158   7 261 162 237  95 107 255\n",
      "  17 132  41 249 243  87 242 226  89 232 145 250  74 208  51 125 112 182\n",
      "   4 106 223  37 127 203 264  45 211 256 181 260 123  82 179 159 190  40\n",
      "   1 216  10 188  67 209  97 200  42  88  33  56  66 124  22  25 168  52\n",
      " 257 210 193  39 120 224 252 265 152 191 235  14 173  65 134  19 225 215\n",
      " 136  62  49  70 139  11 220 198 218 133  12  83 258 119 189  71 227  80\n",
      " 131  85  69 254  26  94 197 149   5 253  72  55  93 147 247 121  20  64\n",
      " 146  54  31 228 201 167 135 217 202 248 171  36  32 155  76 219 213 195\n",
      " 165 102  91 207  53 169 196 126  60  77 180 241  63   3  27  29 122 128\n",
      "  34  16 183 157   9 108  96  38 160 251 212  57  47 174 222 185 192  15\n",
      " 259 240 175 177  92  23 154 178  78  86 153 184 221 205  59 101  81 206\n",
      "  73  98 194  18 117   8 118 245 115 172 204 156 176 150  44   2   6  84\n",
      " 109 214 187  46  58 111  30  99 105]\n",
      "Cantidad de nulos: 0/1571207\n",
      "Ocurrencias:\n",
      "105        1\n",
      "99         2\n",
      "2          4\n",
      "187        5\n",
      "30         8\n",
      "       ...  \n",
      "162    46787\n",
      "170    48348\n",
      "161    59726\n",
      "237    63487\n",
      "236    69209\n",
      "Name: DOLocationID, Length: 261, dtype: int64\n"
     ]
    }
   ],
   "source": [
    "print_categorical(df.DOLocationID)"
   ]
  },
  {
   "cell_type": "markdown",
   "metadata": {},
   "source": [
    "\n",
    "- **RatecodeID**:  El código de tarifa final vigente al final del viaje.\n",
    "    - Tipo de dato: Categórica ordinal\n",
    "    - Tipo de variable: Entrada  \n",
    "\n",
    "    - 1= Standard rate\n",
    "    - 2= JFK \n",
    "    - 3= Newark\n",
    "    - 4= Nassau or Westchester\n",
    "    - 5= Negotiated fare\n",
    "    - 6= Group ride\n"
   ]
  },
  {
   "cell_type": "code",
   "execution_count": 17,
   "metadata": {},
   "outputs": [
    {
     "name": "stdout",
     "output_type": "stream",
     "text": [
      "Ordinalidad: [ 1. nan  2.  5.  3.  4. 99.  6.]\n",
      "Cantidad de nulos: 15152/1571207\n",
      "Ocurrencias:\n",
      "6.000           7\n",
      "99.000         77\n",
      "4.000        1261\n",
      "3.000        3205\n",
      "5.000        8738\n",
      "2.000       35488\n",
      "1.000     1507279\n",
      "Name: RatecodeID, dtype: int64\n"
     ]
    }
   ],
   "source": [
    "print_categorical(df.RatecodeID)"
   ]
  },
  {
   "cell_type": "markdown",
   "metadata": {},
   "source": [
    "- **store_and_fwd_flag**:  Este flag indica si el registro de viaje se llevó a cabo en la memoria del dispositivo del vehiculo antes de enviar al proveedor, también conocido como \"almacenar y reenviar\", porque el vehiculo no tenia conexion al servidor.\n",
    "    - Tipo de dato: Categórica  \n",
    "    - Tipo de variable: Entrada  \n",
    "\n",
    "    - Y= Almacenar y reenviar informacion.\n",
    "    - N= No almacenar y enviar informacion.\n"
   ]
  },
  {
   "cell_type": "code",
   "execution_count": 18,
   "metadata": {},
   "outputs": [
    {
     "name": "stdout",
     "output_type": "stream",
     "text": [
      "Ordinalidad: ['N' None 'Y']\n",
      "Cantidad de nulos: 15152/1571207\n",
      "Ocurrencias:\n",
      "Y      16043\n",
      "N    1540012\n",
      "Name: store_and_fwd_flag, dtype: int64\n"
     ]
    }
   ],
   "source": [
    "print_categorical(df.store_and_fwd_flag)"
   ]
  },
  {
   "cell_type": "markdown",
   "metadata": {},
   "source": [
    "\n",
    "- **payment_type**: Un código numérico que significa cómo el pasajero pagó por el viaje.\n",
    "    - Tipo de dato: Categórica ordinal  \n",
    "    - Tipo de variable: Entrada  \n",
    "\n",
    "    - 1= Credit card\n",
    "    - 2= Cash\n",
    "    - 3= No charge\n",
    "    - 4= Dispute\n",
    "    - 5= Unknown\n",
    "    - 6= Voided trip\n"
   ]
  },
  {
   "cell_type": "code",
   "execution_count": 19,
   "metadata": {},
   "outputs": [
    {
     "name": "stdout",
     "output_type": "stream",
     "text": [
      "Ordinalidad: [1 2 0 3 4]\n",
      "Cantidad de nulos: 0/1571207\n",
      "Ocurrencias:\n",
      "4       4499\n",
      "3       8255\n",
      "0      15152\n",
      "2     381654\n",
      "1    1161647\n",
      "Name: payment_type, dtype: int64\n"
     ]
    }
   ],
   "source": [
    "print_categorical(df.payment_type)"
   ]
  },
  {
   "cell_type": "markdown",
   "metadata": {},
   "source": [
    "- **fare_amount**: La tarifa de tiempo y distancia calculada por el taxímetro.\n",
    "    - Tipo de dato: Numérico  \n",
    "    - Tipo de variable: Salida  \n",
    "\n",
    "    - Ejemplo del dato en el dataset: 8.0\n"
   ]
  },
  {
   "cell_type": "code",
   "execution_count": 20,
   "metadata": {},
   "outputs": [
    {
     "name": "stdout",
     "output_type": "stream",
     "text": [
      "Cantidad de nulos: 0/1571207\n"
     ]
    }
   ],
   "source": [
    "print_null_info(df.fare_amount)"
   ]
  },
  {
   "cell_type": "markdown",
   "metadata": {},
   "source": [
    "- **Extra**: Varios extras y recargos. Actualmente, esto solo incluye los cargos de $0.50 y $1 por la hora pico y por la noche.\n",
    "    - Tipo de dato: Numérico  \n",
    "    - Tipo de variable: Salida  \n",
    "\n",
    "    - Ejemplo del dato en el dataset: 0.5\n"
   ]
  },
  {
   "cell_type": "code",
   "execution_count": 21,
   "metadata": {},
   "outputs": [
    {
     "name": "stdout",
     "output_type": "stream",
     "text": [
      "Cantidad de nulos: 0/1571207\n"
     ]
    }
   ],
   "source": [
    "print_null_info(df.extra)"
   ]
  },
  {
   "cell_type": "markdown",
   "metadata": {},
   "source": [
    "\n",
    "- **mta_tax**: Impuesto MTA de $0.50 que se activa automáticamente según la tasa de uso del medidor.\n",
    "    - Tipo de dato: Numérico\n",
    "    - Tipo de variable: Salida  \n",
    "\n",
    "    - Ejemplo del dato en el dataset: 0.5\n"
   ]
  },
  {
   "cell_type": "code",
   "execution_count": 22,
   "metadata": {},
   "outputs": [
    {
     "name": "stdout",
     "output_type": "stream",
     "text": [
      "Cantidad de nulos: 0/1571207\n"
     ]
    }
   ],
   "source": [
    "print_null_info(df.mta_tax)"
   ]
  },
  {
   "cell_type": "markdown",
   "metadata": {},
   "source": [
    "- **improvement_surcharge**: Recargo de mejora de $ 0.30 en viaje en el descenso de bandera. El recargo por mejora comenzó a cobrarse en 2015.\n",
    "    - Tipo de dato: Numérico  \n",
    "    - Tipo de variable: Salida  \n",
    "\n",
    "    - Ejemplo del dato en el dataset: 0.3\n"
   ]
  },
  {
   "cell_type": "code",
   "execution_count": 23,
   "metadata": {},
   "outputs": [
    {
     "name": "stdout",
     "output_type": "stream",
     "text": [
      "Cantidad de nulos: 0/1571207\n"
     ]
    }
   ],
   "source": [
    "print_null_info(df.improvement_surcharge)"
   ]
  },
  {
   "cell_type": "markdown",
   "metadata": {},
   "source": [
    "- **tip_amount**: Importe de la propina: este campo se completa automáticamente para las propinas de tarjetas de crédito. Las propinas en efectivo no están incluidas.\n",
    "    - Tipo de dato: Numérico\n",
    "    - Tipo de variable: Salida  \n",
    "\n",
    "    - Ejemplo del dato en el dataset: 0.00  \n"
   ]
  },
  {
   "cell_type": "code",
   "execution_count": 24,
   "metadata": {},
   "outputs": [
    {
     "name": "stdout",
     "output_type": "stream",
     "text": [
      "Cantidad de nulos: 0/1571207\n"
     ]
    }
   ],
   "source": [
    "print_null_info(df.tip_amount)"
   ]
  },
  {
   "cell_type": "markdown",
   "metadata": {},
   "source": [
    "- **tolls_amount**: Importe total de todos los peajes pagados en el viaje.\n",
    "    - Tipo de dato: Numérico\n",
    "    - Tipo de variable: Salida  \n",
    "    - Ejemplo del dato en el dataset: 0.00\n"
   ]
  },
  {
   "cell_type": "code",
   "execution_count": 25,
   "metadata": {},
   "outputs": [
    {
     "name": "stdout",
     "output_type": "stream",
     "text": [
      "Cantidad de nulos: 0/1571207\n"
     ]
    }
   ],
   "source": [
    "print_null_info(df.tolls_amount)"
   ]
  },
  {
   "cell_type": "markdown",
   "metadata": {},
   "source": [
    "\n",
    "- **total_amount**: El monto total cobrado a los pasajeros. No incluye propinas en efectivo.\n",
    "    - Tipo de dato: Numérico  \n",
    "    - Tipo de variable: Salida  \n",
    "    - Ejemplo del dato en el dataset: 9.30\n"
   ]
  },
  {
   "cell_type": "code",
   "execution_count": 26,
   "metadata": {},
   "outputs": [
    {
     "name": "stdout",
     "output_type": "stream",
     "text": [
      "Cantidad de nulos: 0/1571207\n"
     ]
    }
   ],
   "source": [
    "print_null_info(df.total_amount)"
   ]
  },
  {
   "cell_type": "markdown",
   "metadata": {},
   "source": [
    "- **congestion_surcharge**: Importe total recaudado en el viaje por el recargo por congestión del Estado de Nueva York.\n",
    "    - Tipo de dato: Numérico\n",
    "    - Tipo de variable: Salida  \n",
    "    - Ejemplo del dato en el dataset: 0.00\n"
   ]
  },
  {
   "cell_type": "code",
   "execution_count": 27,
   "metadata": {},
   "outputs": [
    {
     "name": "stdout",
     "output_type": "stream",
     "text": [
      "Cantidad de nulos: 15152/1571207\n"
     ]
    }
   ],
   "source": [
    "print_null_info(df.congestion_surcharge)"
   ]
  },
  {
   "cell_type": "markdown",
   "metadata": {},
   "source": [
    "- **airport_fee**: $1.25 para recoger solo en los aeropuertos LaGuardia y John F. Kennedy\n",
    "    - Tipo de dato: Numérico  \n",
    "    - Tipo de variable: Salida\n",
    "    - Ejemplo del dato en el dataset: None"
   ]
  },
  {
   "cell_type": "code",
   "execution_count": 28,
   "metadata": {},
   "outputs": [
    {
     "name": "stdout",
     "output_type": "stream",
     "text": [
      "Cantidad de nulos: 1571207/1571207\n"
     ]
    }
   ],
   "source": [
    "print_null_info(df.airport_fee)"
   ]
  },
  {
   "cell_type": "markdown",
   "metadata": {},
   "source": [
    "## 2. Limpieza de los datos\n"
   ]
  },
  {
   "cell_type": "markdown",
   "metadata": {},
   "source": [
    "### 2.1 Datos faltantes"
   ]
  },
  {
   "cell_type": "code",
   "execution_count": 29,
   "metadata": {},
   "outputs": [
    {
     "data": {
      "text/html": [
       "<div>\n",
       "<style scoped>\n",
       "    .dataframe tbody tr th:only-of-type {\n",
       "        vertical-align: middle;\n",
       "    }\n",
       "\n",
       "    .dataframe tbody tr th {\n",
       "        vertical-align: top;\n",
       "    }\n",
       "\n",
       "    .dataframe thead th {\n",
       "        text-align: right;\n",
       "    }\n",
       "</style>\n",
       "<table border=\"1\" class=\"dataframe\">\n",
       "  <thead>\n",
       "    <tr style=\"text-align: right;\">\n",
       "      <th></th>\n",
       "      <th>VendorID</th>\n",
       "      <th>passenger_count</th>\n",
       "      <th>trip_distance</th>\n",
       "      <th>RatecodeID</th>\n",
       "      <th>PULocationID</th>\n",
       "      <th>DOLocationID</th>\n",
       "      <th>payment_type</th>\n",
       "      <th>fare_amount</th>\n",
       "      <th>extra</th>\n",
       "      <th>mta_tax</th>\n",
       "      <th>tip_amount</th>\n",
       "      <th>tolls_amount</th>\n",
       "      <th>improvement_surcharge</th>\n",
       "      <th>total_amount</th>\n",
       "      <th>congestion_surcharge</th>\n",
       "    </tr>\n",
       "  </thead>\n",
       "  <tbody>\n",
       "    <tr>\n",
       "      <th>count</th>\n",
       "      <td>1571080.000</td>\n",
       "      <td>1556055.000</td>\n",
       "      <td>1571080.000</td>\n",
       "      <td>1556055.000</td>\n",
       "      <td>1571080.000</td>\n",
       "      <td>1571080.000</td>\n",
       "      <td>1571080.000</td>\n",
       "      <td>1571080.000</td>\n",
       "      <td>1571080.000</td>\n",
       "      <td>1571080.000</td>\n",
       "      <td>1571080.000</td>\n",
       "      <td>1571080.000</td>\n",
       "      <td>1571080.000</td>\n",
       "      <td>1571080.000</td>\n",
       "      <td>1556055.000</td>\n",
       "    </tr>\n",
       "    <tr>\n",
       "      <th>mean</th>\n",
       "      <td>1.673</td>\n",
       "      <td>1.501</td>\n",
       "      <td>2.883</td>\n",
       "      <td>1.057</td>\n",
       "      <td>164.483</td>\n",
       "      <td>162.241</td>\n",
       "      <td>1.252</td>\n",
       "      <td>12.611</td>\n",
       "      <td>1.106</td>\n",
       "      <td>0.492</td>\n",
       "      <td>2.193</td>\n",
       "      <td>0.331</td>\n",
       "      <td>0.298</td>\n",
       "      <td>18.556</td>\n",
       "      <td>2.297</td>\n",
       "    </tr>\n",
       "    <tr>\n",
       "      <th>std</th>\n",
       "      <td>0.470</td>\n",
       "      <td>1.142</td>\n",
       "      <td>22.348</td>\n",
       "      <td>0.775</td>\n",
       "      <td>65.788</td>\n",
       "      <td>69.993</td>\n",
       "      <td>0.485</td>\n",
       "      <td>11.656</td>\n",
       "      <td>1.256</td>\n",
       "      <td>0.073</td>\n",
       "      <td>2.672</td>\n",
       "      <td>1.582</td>\n",
       "      <td>0.034</td>\n",
       "      <td>14.241</td>\n",
       "      <td>0.705</td>\n",
       "    </tr>\n",
       "    <tr>\n",
       "      <th>min</th>\n",
       "      <td>1.000</td>\n",
       "      <td>0.000</td>\n",
       "      <td>-26.760</td>\n",
       "      <td>1.000</td>\n",
       "      <td>1.000</td>\n",
       "      <td>1.000</td>\n",
       "      <td>0.000</td>\n",
       "      <td>-280.000</td>\n",
       "      <td>-4.500</td>\n",
       "      <td>-0.500</td>\n",
       "      <td>-10.000</td>\n",
       "      <td>-19.250</td>\n",
       "      <td>-0.300</td>\n",
       "      <td>-280.300</td>\n",
       "      <td>-2.500</td>\n",
       "    </tr>\n",
       "    <tr>\n",
       "      <th>25%</th>\n",
       "      <td>1.000</td>\n",
       "      <td>1.000</td>\n",
       "      <td>0.970</td>\n",
       "      <td>1.000</td>\n",
       "      <td>125.000</td>\n",
       "      <td>113.000</td>\n",
       "      <td>1.000</td>\n",
       "      <td>6.500</td>\n",
       "      <td>0.000</td>\n",
       "      <td>0.500</td>\n",
       "      <td>0.000</td>\n",
       "      <td>0.000</td>\n",
       "      <td>0.300</td>\n",
       "      <td>11.160</td>\n",
       "      <td>2.500</td>\n",
       "    </tr>\n",
       "    <tr>\n",
       "      <th>50%</th>\n",
       "      <td>2.000</td>\n",
       "      <td>1.000</td>\n",
       "      <td>1.600</td>\n",
       "      <td>1.000</td>\n",
       "      <td>162.000</td>\n",
       "      <td>162.000</td>\n",
       "      <td>1.000</td>\n",
       "      <td>9.000</td>\n",
       "      <td>0.500</td>\n",
       "      <td>0.500</td>\n",
       "      <td>1.950</td>\n",
       "      <td>0.000</td>\n",
       "      <td>0.300</td>\n",
       "      <td>14.300</td>\n",
       "      <td>2.500</td>\n",
       "    </tr>\n",
       "    <tr>\n",
       "      <th>75%</th>\n",
       "      <td>2.000</td>\n",
       "      <td>2.000</td>\n",
       "      <td>2.930</td>\n",
       "      <td>1.000</td>\n",
       "      <td>234.000</td>\n",
       "      <td>234.000</td>\n",
       "      <td>2.000</td>\n",
       "      <td>14.000</td>\n",
       "      <td>2.500</td>\n",
       "      <td>0.500</td>\n",
       "      <td>2.860</td>\n",
       "      <td>0.000</td>\n",
       "      <td>0.300</td>\n",
       "      <td>19.890</td>\n",
       "      <td>2.500</td>\n",
       "    </tr>\n",
       "    <tr>\n",
       "      <th>max</th>\n",
       "      <td>6.000</td>\n",
       "      <td>9.000</td>\n",
       "      <td>27620.850</td>\n",
       "      <td>99.000</td>\n",
       "      <td>265.000</td>\n",
       "      <td>265.000</td>\n",
       "      <td>4.000</td>\n",
       "      <td>800.000</td>\n",
       "      <td>90.060</td>\n",
       "      <td>3.300</td>\n",
       "      <td>445.680</td>\n",
       "      <td>149.000</td>\n",
       "      <td>0.300</td>\n",
       "      <td>1040.390</td>\n",
       "      <td>2.750</td>\n",
       "    </tr>\n",
       "  </tbody>\n",
       "</table>\n",
       "</div>"
      ],
      "text/plain": [
       "         VendorID  passenger_count  trip_distance  RatecodeID  PULocationID  \\\n",
       "count 1571080.000      1556055.000    1571080.000 1556055.000   1571080.000   \n",
       "mean        1.673            1.501          2.883       1.057       164.483   \n",
       "std         0.470            1.142         22.348       0.775        65.788   \n",
       "min         1.000            0.000        -26.760       1.000         1.000   \n",
       "25%         1.000            1.000          0.970       1.000       125.000   \n",
       "50%         2.000            1.000          1.600       1.000       162.000   \n",
       "75%         2.000            2.000          2.930       1.000       234.000   \n",
       "max         6.000            9.000      27620.850      99.000       265.000   \n",
       "\n",
       "       DOLocationID  payment_type  fare_amount       extra     mta_tax  \\\n",
       "count   1571080.000   1571080.000  1571080.000 1571080.000 1571080.000   \n",
       "mean        162.241         1.252       12.611       1.106       0.492   \n",
       "std          69.993         0.485       11.656       1.256       0.073   \n",
       "min           1.000         0.000     -280.000      -4.500      -0.500   \n",
       "25%         113.000         1.000        6.500       0.000       0.500   \n",
       "50%         162.000         1.000        9.000       0.500       0.500   \n",
       "75%         234.000         2.000       14.000       2.500       0.500   \n",
       "max         265.000         4.000      800.000      90.060       3.300   \n",
       "\n",
       "       tip_amount  tolls_amount  improvement_surcharge  total_amount  \\\n",
       "count 1571080.000   1571080.000            1571080.000   1571080.000   \n",
       "mean        2.193         0.331                  0.298        18.556   \n",
       "std         2.672         1.582                  0.034        14.241   \n",
       "min       -10.000       -19.250                 -0.300      -280.300   \n",
       "25%         0.000         0.000                  0.300        11.160   \n",
       "50%         1.950         0.000                  0.300        14.300   \n",
       "75%         2.860         0.000                  0.300        19.890   \n",
       "max       445.680       149.000                  0.300      1040.390   \n",
       "\n",
       "       congestion_surcharge  \n",
       "count           1556055.000  \n",
       "mean                  2.297  \n",
       "std                   0.705  \n",
       "min                  -2.500  \n",
       "25%                   2.500  \n",
       "50%                   2.500  \n",
       "75%                   2.500  \n",
       "max                   2.750  "
      ]
     },
     "execution_count": 29,
     "metadata": {},
     "output_type": "execute_result"
    }
   ],
   "source": [
    "# verificamos cantidad de items repetidos y los eliminamos\n",
    "df = df.drop_duplicates()\n",
    "df.describe() #TODO: Agrego describe para que se noten las cantidades eliminadas"
   ]
  },
  {
   "cell_type": "code",
   "execution_count": 30,
   "metadata": {},
   "outputs": [
    {
     "name": "stdout",
     "output_type": "stream",
     "text": [
      "VendorID: 0/1571080\n",
      "tpep_pickup_datetime: 0/1571080\n",
      "tpep_dropoff_datetime: 0/1571080\n",
      "passenger_count: 15025/1571080\n",
      "trip_distance: 0/1571080\n",
      "RatecodeID: 15025/1571080\n",
      "store_and_fwd_flag: 15025/1571080\n",
      "PULocationID: 0/1571080\n",
      "DOLocationID: 0/1571080\n",
      "payment_type: 0/1571080\n",
      "fare_amount: 0/1571080\n",
      "extra: 0/1571080\n",
      "mta_tax: 0/1571080\n",
      "tip_amount: 0/1571080\n",
      "tolls_amount: 0/1571080\n",
      "improvement_surcharge: 0/1571080\n",
      "total_amount: 0/1571080\n",
      "congestion_surcharge: 15025/1571080\n",
      "airport_fee: 1571080/1571080\n"
     ]
    }
   ],
   "source": [
    "# verificamos cantidad de nulos en cada categoría\n",
    "for i in range(len(df.columns)):\n",
    "  col_name = df.columns[i]\n",
    "  col_data = df[col_name]\n",
    "  print(f'{col_name}: {col_data.isnull().sum()}/{col_data.size}')"
   ]
  },
  {
   "cell_type": "markdown",
   "metadata": {},
   "source": [
    "#### 2.1.1 Análisis de faltantes"
   ]
  },
  {
   "cell_type": "markdown",
   "metadata": {},
   "source": [
    "Las categorías con faltantes son las siguientes:\n",
    "\n",
    "* passenger_count: 15180/1571072\n",
    "* RatecodeID: 15180/1571072\n",
    "* store_and_fwd_flag: 15180/1571072\n",
    "* congestion_surcharge: 15180/1571072\n",
    "* airport_fee: 1571072/1571072\n",
    "\n",
    "Para cada una de estas columnas se decide:\n",
    "* __passenger_count__ es ingresado a mano por lo que los datos faltantes suponemos que corresponden a fallas en la carga por parte del conductor. Se decide eliminar los faltantes dado que representan el 1%\n",
    "* __RatecodeID__ no aporta información por lo que se elimina esta feature\n",
    "* __store_and_fwd_flag__ no aporta información por lo que se elimina esta feature\n",
    "* __congestion_surcharge__ : los faltantes representan el 1% por lo que se quitan\n",
    "* __airport_fee__ se quita ya que todos los valores son nulos\n"
   ]
  },
  {
   "cell_type": "code",
   "execution_count": 31,
   "metadata": {},
   "outputs": [
    {
     "data": {
      "text/plain": [
       "1556055"
      ]
     },
     "execution_count": 31,
     "metadata": {},
     "output_type": "execute_result"
    }
   ],
   "source": [
    "# descarto datos nulos de los features con interés (passenger count y congestion_surcharge)\n",
    "df = df.dropna(subset=['passenger_count', 'congestion_surcharge'])\n",
    "len(df['passenger_count'])"
   ]
  },
  {
   "cell_type": "markdown",
   "metadata": {},
   "source": [
    "#### 2.1.2 Datos no nulos inválidos"
   ]
  },
  {
   "cell_type": "markdown",
   "metadata": {},
   "source": [
    "En algunos features se detectan valores fuera del rango esperado (tal como valores negativos o fuera del rango de las categorías definidas)"
   ]
  },
  {
   "cell_type": "code",
   "execution_count": 32,
   "metadata": {},
   "outputs": [
    {
     "name": "stdout",
     "output_type": "stream",
     "text": [
      "trip_distance: 1/1556055\n",
      "fare_amount: 4965/1556055\n",
      "extra: 2342/1556055\n",
      "mta_tax: 4869/1556055\n",
      "tip_amount: 45/1556055\n",
      "tolls_amount: 103/1556055\n",
      "improvement_surcharge: 4964/1556055\n",
      "total_amount: 4964/1556055\n",
      "congestion_surcharge: 3925/1556055\n"
     ]
    }
   ],
   "source": [
    "# verificamos cantidad de negativos en las categorías numéricas\n",
    "cols_to_check = ['trip_distance', 'fare_amount', 'extra', 'mta_tax', 'tip_amount', 'tolls_amount', 'improvement_surcharge', 'total_amount', 'congestion_surcharge']\n",
    "\n",
    "for i, col in enumerate(cols_to_check):\n",
    "  col_data = df[col]\n",
    "  print(f'{col}: {col_data[col_data < 0].count()}/{col_data.size}')\n",
    "  "
   ]
  },
  {
   "cell_type": "code",
   "execution_count": 33,
   "metadata": {},
   "outputs": [],
   "source": [
    "# Funcion para realizar subplots de variables\n",
    "\n",
    "def plotVariables(dataframe, varArray):\n",
    "    fig = plt.figure(figsize=(30,15))\n",
    "    fig.subplots_adjust(hspace=0.4, wspace=0.4)\n",
    "    for j,colName in enumerate(varArray):\n",
    "        plt.subplot(3,3,j+1)\n",
    "        plt.plot(dataframe[colName])\n",
    "        plt.title(colName)\n",
    "        "
   ]
  },
  {
   "cell_type": "markdown",
   "metadata": {},
   "source": [
    "#### Exploración gráfica de variables con datos negativos"
   ]
  },
  {
   "cell_type": "code",
   "execution_count": 34,
   "metadata": {},
   "outputs": [
    {
     "data": {
      "image/png": "[encoded data removed]",
      "text/plain": [
       "<Figure size 2160x1080 with 9 Axes>"
      ]
     },
     "metadata": {
      "needs_background": "light"
     },
     "output_type": "display_data"
    }
   ],
   "source": [
    " #TODO: Agrego graficos para mostrar estos datos anomalos.\n",
    "# Exploración gráfica de variables con datos negativos.\n",
    "\n",
    "colArrays = ['trip_distance', 'fare_amount', 'extra', 'mta_tax', \n",
    "            'tip_amount', 'tolls_amount', 'improvement_surcharge', \n",
    "            'total_amount', 'congestion_surcharge']\n",
    "\n",
    "plotVariables(df,colArrays)\n"
   ]
  },
  {
   "cell_type": "code",
   "execution_count": 35,
   "metadata": {},
   "outputs": [
    {
     "data": {
      "text/plain": [
       "1535710"
      ]
     },
     "execution_count": 35,
     "metadata": {},
     "output_type": "execute_result"
    }
   ],
   "source": [
    "# trip distance: borro <= 0\n",
    "df = df[(df['trip_distance'] > 0)]\n",
    "# fare_amount: borro < 0\n",
    "df = df[(df['fare_amount'] >= 0)]\n",
    "# extra: borro < 0\n",
    "df = df[(df['extra'] >= 0)]\n",
    "# mta_tax: borro < 0\n",
    "df = df[(df['mta_tax'] >= 0)]\n",
    "# tip_amount: borro < 0\n",
    "df = df[(df['tip_amount'] >= 0)]\n",
    "#tolls amount: borro < 0\n",
    "df = df[(df['tolls_amount'] >= 0)]\n",
    "#improvement_surcharge: borro < 0\n",
    "df = df[(df['improvement_surcharge'] >= 0)]\n",
    "#total_amount: borro < 0\n",
    "df = df[(df['total_amount'] >= 0)]\n",
    "#congestion_surcharge: borro < 0\n",
    "df = df[(df['congestion_surcharge'] >= 0)]\n",
    "\n",
    "len(df)\n",
    "\n"
   ]
  },
  {
   "cell_type": "markdown",
   "metadata": {},
   "source": [
    "#### Exploración gráfica de datos filtrados\n"
   ]
  },
  {
   "cell_type": "code",
   "execution_count": 36,
   "metadata": {},
   "outputs": [
    {
     "data": {
      "image/png": "[encoded data removed]",
      "text/plain": [
       "<Figure size 2160x1080 with 9 Axes>"
      ]
     },
     "metadata": {
      "needs_background": "light"
     },
     "output_type": "display_data"
    }
   ],
   "source": [
    "# Datos sin valores negativos\n",
    "plotVariables(df,colArrays)"
   ]
  },
  {
   "cell_type": "markdown",
   "metadata": {},
   "source": [
    "#### 2.1.3 Filtro entradas por tipo de pago\n",
    "Descarto otros pagos diferenes de CREDIT (payment_type = 1)"
   ]
  },
  {
   "cell_type": "code",
   "execution_count": 37,
   "metadata": {},
   "outputs": [
    {
     "data": {
      "text/html": [
       "<div>\n",
       "<style scoped>\n",
       "    .dataframe tbody tr th:only-of-type {\n",
       "        vertical-align: middle;\n",
       "    }\n",
       "\n",
       "    .dataframe tbody tr th {\n",
       "        vertical-align: top;\n",
       "    }\n",
       "\n",
       "    .dataframe thead th {\n",
       "        text-align: right;\n",
       "    }\n",
       "</style>\n",
       "<table border=\"1\" class=\"dataframe\">\n",
       "  <thead>\n",
       "    <tr style=\"text-align: right;\">\n",
       "      <th></th>\n",
       "      <th>VendorID</th>\n",
       "      <th>passenger_count</th>\n",
       "      <th>trip_distance</th>\n",
       "      <th>RatecodeID</th>\n",
       "      <th>PULocationID</th>\n",
       "      <th>DOLocationID</th>\n",
       "      <th>payment_type</th>\n",
       "      <th>fare_amount</th>\n",
       "      <th>extra</th>\n",
       "      <th>mta_tax</th>\n",
       "      <th>tip_amount</th>\n",
       "      <th>tolls_amount</th>\n",
       "      <th>improvement_surcharge</th>\n",
       "      <th>total_amount</th>\n",
       "      <th>congestion_surcharge</th>\n",
       "    </tr>\n",
       "  </thead>\n",
       "  <tbody>\n",
       "    <tr>\n",
       "      <th>count</th>\n",
       "      <td>1151880.000</td>\n",
       "      <td>1151880.000</td>\n",
       "      <td>1151880.000</td>\n",
       "      <td>1151880.000</td>\n",
       "      <td>1151880.000</td>\n",
       "      <td>1151880.000</td>\n",
       "      <td>1151880.000</td>\n",
       "      <td>1151880.000</td>\n",
       "      <td>1151880.000</td>\n",
       "      <td>1151880.000</td>\n",
       "      <td>1151880.000</td>\n",
       "      <td>1151880.000</td>\n",
       "      <td>1151880.000</td>\n",
       "      <td>1151880.000</td>\n",
       "      <td>1151880.000</td>\n",
       "    </tr>\n",
       "    <tr>\n",
       "      <th>mean</th>\n",
       "      <td>1.671</td>\n",
       "      <td>1.493</td>\n",
       "      <td>2.867</td>\n",
       "      <td>1.040</td>\n",
       "      <td>166.144</td>\n",
       "      <td>163.941</td>\n",
       "      <td>1.000</td>\n",
       "      <td>12.462</td>\n",
       "      <td>1.131</td>\n",
       "      <td>0.498</td>\n",
       "      <td>2.948</td>\n",
       "      <td>0.340</td>\n",
       "      <td>0.300</td>\n",
       "      <td>19.279</td>\n",
       "      <td>2.379</td>\n",
       "    </tr>\n",
       "    <tr>\n",
       "      <th>std</th>\n",
       "      <td>0.470</td>\n",
       "      <td>1.139</td>\n",
       "      <td>3.672</td>\n",
       "      <td>0.284</td>\n",
       "      <td>65.247</td>\n",
       "      <td>69.329</td>\n",
       "      <td>0.000</td>\n",
       "      <td>10.908</td>\n",
       "      <td>1.253</td>\n",
       "      <td>0.031</td>\n",
       "      <td>2.624</td>\n",
       "      <td>1.598</td>\n",
       "      <td>0.003</td>\n",
       "      <td>13.980</td>\n",
       "      <td>0.536</td>\n",
       "    </tr>\n",
       "    <tr>\n",
       "      <th>min</th>\n",
       "      <td>1.000</td>\n",
       "      <td>0.000</td>\n",
       "      <td>0.010</td>\n",
       "      <td>1.000</td>\n",
       "      <td>1.000</td>\n",
       "      <td>1.000</td>\n",
       "      <td>1.000</td>\n",
       "      <td>0.000</td>\n",
       "      <td>0.000</td>\n",
       "      <td>0.000</td>\n",
       "      <td>0.000</td>\n",
       "      <td>0.000</td>\n",
       "      <td>0.000</td>\n",
       "      <td>0.000</td>\n",
       "      <td>0.000</td>\n",
       "    </tr>\n",
       "    <tr>\n",
       "      <th>25%</th>\n",
       "      <td>1.000</td>\n",
       "      <td>1.000</td>\n",
       "      <td>1.000</td>\n",
       "      <td>1.000</td>\n",
       "      <td>132.000</td>\n",
       "      <td>113.000</td>\n",
       "      <td>1.000</td>\n",
       "      <td>6.500</td>\n",
       "      <td>0.000</td>\n",
       "      <td>0.500</td>\n",
       "      <td>1.750</td>\n",
       "      <td>0.000</td>\n",
       "      <td>0.300</td>\n",
       "      <td>11.800</td>\n",
       "      <td>2.500</td>\n",
       "    </tr>\n",
       "    <tr>\n",
       "      <th>50%</th>\n",
       "      <td>2.000</td>\n",
       "      <td>1.000</td>\n",
       "      <td>1.650</td>\n",
       "      <td>1.000</td>\n",
       "      <td>162.000</td>\n",
       "      <td>162.000</td>\n",
       "      <td>1.000</td>\n",
       "      <td>9.000</td>\n",
       "      <td>0.500</td>\n",
       "      <td>0.500</td>\n",
       "      <td>2.320</td>\n",
       "      <td>0.000</td>\n",
       "      <td>0.300</td>\n",
       "      <td>14.800</td>\n",
       "      <td>2.500</td>\n",
       "    </tr>\n",
       "    <tr>\n",
       "      <th>75%</th>\n",
       "      <td>2.000</td>\n",
       "      <td>2.000</td>\n",
       "      <td>2.910</td>\n",
       "      <td>1.000</td>\n",
       "      <td>234.000</td>\n",
       "      <td>234.000</td>\n",
       "      <td>1.000</td>\n",
       "      <td>13.500</td>\n",
       "      <td>2.500</td>\n",
       "      <td>0.500</td>\n",
       "      <td>3.260</td>\n",
       "      <td>0.000</td>\n",
       "      <td>0.300</td>\n",
       "      <td>20.380</td>\n",
       "      <td>2.500</td>\n",
       "    </tr>\n",
       "    <tr>\n",
       "      <th>max</th>\n",
       "      <td>2.000</td>\n",
       "      <td>9.000</td>\n",
       "      <td>233.690</td>\n",
       "      <td>6.000</td>\n",
       "      <td>265.000</td>\n",
       "      <td>265.000</td>\n",
       "      <td>1.000</td>\n",
       "      <td>452.000</td>\n",
       "      <td>18.350</td>\n",
       "      <td>0.500</td>\n",
       "      <td>445.680</td>\n",
       "      <td>149.000</td>\n",
       "      <td>0.300</td>\n",
       "      <td>500.980</td>\n",
       "      <td>2.750</td>\n",
       "    </tr>\n",
       "  </tbody>\n",
       "</table>\n",
       "</div>"
      ],
      "text/plain": [
       "         VendorID  passenger_count  trip_distance  RatecodeID  PULocationID  \\\n",
       "count 1151880.000      1151880.000    1151880.000 1151880.000   1151880.000   \n",
       "mean        1.671            1.493          2.867       1.040       166.144   \n",
       "std         0.470            1.139          3.672       0.284        65.247   \n",
       "min         1.000            0.000          0.010       1.000         1.000   \n",
       "25%         1.000            1.000          1.000       1.000       132.000   \n",
       "50%         2.000            1.000          1.650       1.000       162.000   \n",
       "75%         2.000            2.000          2.910       1.000       234.000   \n",
       "max         2.000            9.000        233.690       6.000       265.000   \n",
       "\n",
       "       DOLocationID  payment_type  fare_amount       extra     mta_tax  \\\n",
       "count   1151880.000   1151880.000  1151880.000 1151880.000 1151880.000   \n",
       "mean        163.941         1.000       12.462       1.131       0.498   \n",
       "std          69.329         0.000       10.908       1.253       0.031   \n",
       "min           1.000         1.000        0.000       0.000       0.000   \n",
       "25%         113.000         1.000        6.500       0.000       0.500   \n",
       "50%         162.000         1.000        9.000       0.500       0.500   \n",
       "75%         234.000         1.000       13.500       2.500       0.500   \n",
       "max         265.000         1.000      452.000      18.350       0.500   \n",
       "\n",
       "       tip_amount  tolls_amount  improvement_surcharge  total_amount  \\\n",
       "count 1151880.000   1151880.000            1151880.000   1151880.000   \n",
       "mean        2.948         0.340                  0.300        19.279   \n",
       "std         2.624         1.598                  0.003        13.980   \n",
       "min         0.000         0.000                  0.000         0.000   \n",
       "25%         1.750         0.000                  0.300        11.800   \n",
       "50%         2.320         0.000                  0.300        14.800   \n",
       "75%         3.260         0.000                  0.300        20.380   \n",
       "max       445.680       149.000                  0.300       500.980   \n",
       "\n",
       "       congestion_surcharge  \n",
       "count           1151880.000  \n",
       "mean                  2.379  \n",
       "std                   0.536  \n",
       "min                   0.000  \n",
       "25%                   2.500  \n",
       "50%                   2.500  \n",
       "75%                   2.500  \n",
       "max                   2.750  "
      ]
     },
     "execution_count": 37,
     "metadata": {},
     "output_type": "execute_result"
    }
   ],
   "source": [
    "df = df[df[\"payment_type\"] == 1]\n",
    "df.describe()"
   ]
  },
  {
   "cell_type": "markdown",
   "metadata": {},
   "source": [
    "### 2.2 Ingeniería de datos"
   ]
  },
  {
   "cell_type": "markdown",
   "metadata": {},
   "source": [
    "#### 2.2.1 Features de tiempo y hora del día"
   ]
  },
  {
   "cell_type": "code",
   "execution_count": 38,
   "metadata": {},
   "outputs": [
    {
     "data": {
      "text/plain": [
       "(0, 0, 0)"
      ]
     },
     "execution_count": 38,
     "metadata": {},
     "output_type": "execute_result"
    }
   ],
   "source": [
    "# generamos una nueva columna \"duration\" con el tiempo de viaje\n",
    "ts_init = pd.to_datetime(df['tpep_pickup_datetime']).values.astype(np.int64) / 1000000000\n",
    "ts_end = pd.to_datetime(df['tpep_dropoff_datetime']).values.astype(np.int64) / 1000000000\n",
    "duration = ts_end - ts_init\n",
    "df['duration'] = duration\n",
    "\n",
    "# ademas creamos 3 categorías para el horario en que se inició el viaje: diurno, vespertino y nocturno\n",
    "MORNING_START = 6\n",
    "MORNING_END = 13\n",
    "AFTERNOON_START = 14\n",
    "AFTERNOON_END = 20\n",
    "EVENING_START = 21\n",
    "EVENING_END = 5 \n",
    "\n",
    "day_interval = df['tpep_pickup_datetime'].dt.hour\n",
    "df['morning'] = pd.cut(day_interval, bins=[-float('Inf'), MORNING_START - 1, MORNING_END, float('Inf')], labels=[0, 1, 0], ordered=False)\n",
    "df['afternoon'] = pd.cut(day_interval, bins=[-float('Inf'), AFTERNOON_START - 1, AFTERNOON_END, float('Inf')], labels=[0, 1, 0], ordered=False)\n",
    "df['evening'] = pd.cut(day_interval, bins=[-float('Inf'), 0, EVENING_END, EVENING_START, 23, float('Inf')], labels=[0, 1, 0, 1, 0], ordered=False)\n",
    "\n",
    "# reviso que sean validas \n",
    "df['morning'].values.isnull().sum(), df['afternoon'].values.isnull().sum(), df['evening'].values.isnull().sum()"
   ]
  },
  {
   "cell_type": "code",
   "execution_count": 39,
   "metadata": {},
   "outputs": [],
   "source": [
    "def outlier_diagnostic_plots(df, variable):\n",
    "    fig,axes = plt.subplots(1,3,figsize=(20,4))\n",
    "\n",
    "    sns.histplot(df[variable], bins=30,ax=axes[0], kde=True)\n",
    "    axes[0].set_title('Histograma')\n",
    "    \n",
    "    stats.probplot(df[variable], dist=\"norm\", plot=axes[1])\n",
    "    axes[1].set_title('QQ')\n",
    "    \n",
    "    # boxplot    \n",
    "    sns.boxplot(y=df[variable],ax=axes[2])\n",
    "    axes[2].set_title('Box&Whiskers')"
   ]
  },
  {
   "cell_type": "code",
   "execution_count": 40,
   "metadata": {},
   "outputs": [
    {
     "name": "stdout",
     "output_type": "stream",
     "text": [
      "Duraciones inválidas: 1\n"
     ]
    }
   ],
   "source": [
    "# termino de borrar todos los negativos\n",
    "df['morning'].values.isnull().sum(), df['afternoon'].values.isnull().sum(), df['evening'].values.isnull().sum()\n",
    "\n",
    "# verifico si tengo entradas con duration < 0\n",
    "duration_invalid = df[df['duration'] < 0]['duration'].count()\n",
    "print(f'Duraciones inválidas: {duration_invalid}')"
   ]
  },
  {
   "cell_type": "code",
   "execution_count": 41,
   "metadata": {},
   "outputs": [],
   "source": [
    "# Se eliminan las duraciones invalidas\n",
    "df = df[(df['duration'] >= 0)]"
   ]
  },
  {
   "cell_type": "code",
   "execution_count": 42,
   "metadata": {},
   "outputs": [
    {
     "data": {
      "image/png": "[encoded data removed]",
      "text/plain": [
       "<Figure size 1440x288 with 3 Axes>"
      ]
     },
     "metadata": {
      "needs_background": "light"
     },
     "output_type": "display_data"
    }
   ],
   "source": [
    "# Graficamos las nuevas columnas para observar su distribucion.\n",
    "outlier_diagnostic_plots(df, 'duration')"
   ]
  },
  {
   "cell_type": "markdown",
   "metadata": {},
   "source": [
    "#### Exploración gráfica de Morning, Afternoon, Evening"
   ]
  },
  {
   "cell_type": "code",
   "execution_count": 43,
   "metadata": {},
   "outputs": [
    {
     "data": {
      "text/plain": [
       "Text(0.5, 1.0, 'Evening')"
      ]
     },
     "execution_count": 43,
     "metadata": {},
     "output_type": "execute_result"
    },
    {
     "data": {
      "image/png": "[encoded data removed]",
      "text/plain": [
       "<Figure size 1800x360 with 3 Axes>"
      ]
     },
     "metadata": {
      "needs_background": "light"
     },
     "output_type": "display_data"
    }
   ],
   "source": [
    "fig,axes = plt.subplots(1,3,figsize=(25,5))\n",
    "\n",
    "\n",
    "sns.countplot(x='morning', data=df,ax=axes[0])\n",
    "axes[0].set_title('Morning')\n",
    "\n",
    "sns.countplot(x='afternoon', data=df,ax=axes[1])\n",
    "axes[1].set_title('Afternoon')\n",
    "\n",
    "sns.countplot(x='evening', data=df,ax=axes[2])\n",
    "axes[2].set_title('Evening')\n"
   ]
  },
  {
   "cell_type": "markdown",
   "metadata": {},
   "source": [
    "#### 2.2.2 Codificación del origen y destino"
   ]
  },
  {
   "cell_type": "code",
   "execution_count": 44,
   "metadata": {},
   "outputs": [
    {
     "name": "stdout",
     "output_type": "stream",
     "text": [
      "[(237, 52381), (161, 51686), (236, 50998), (162, 44682), (186, 39406), (230, 38746), (234, 37897), (170, 37096), (142, 35262), (48, 33237)]\n",
      "[(0, 730488), (237, 52381), (161, 51686), (236, 50998), (162, 44682), (186, 39406), (230, 38746), (234, 37897), (170, 37096), (142, 35262), (48, 33237)]\n"
     ]
    },
    {
     "data": {
      "image/png": "[encoded data removed]",
      "text/plain": [
       "<Figure size 432x288 with 1 Axes>"
      ]
     },
     "metadata": {
      "needs_background": "light"
     },
     "output_type": "display_data"
    }
   ],
   "source": [
    "# definimos el umbral mínimo de cantidad de viajes para podar las categorías PULocationID y DOLocationID.\n",
    "# location_id_min_th_count = 0.01\n",
    "# total_items = len(df['PULocationID'])\n",
    "\n",
    "# # convertimos PULocationID usando frequency encoding y me quedo con los que representan al menos 1%\n",
    "# pulocation_id_freq_map = (df['PULocationID'].value_counts(sort=True) / total_items).to_dict()\n",
    "# df['PULocationIDFreq'] = df['PULocationID'].apply(lambda x: pulocation_id_freq_map[x])\n",
    "# # # convertimos DOLocationID\n",
    "# # dolocation_id_freq_map = (df['DOLocationID'].value_counts(sort=True) / total_items).to_dict()\n",
    "# # df['DOLocationIDFreq'] = df['DOLocationID'].apply(lambda x: dolocation_id_freq_map[x])\n",
    "\n",
    "# #pongo en 0 todas las categorías con menor frecuencia que <location_id_min_th_count>\n",
    "# def clear_location_low_values(x, th):\n",
    "#   if x <= th:\n",
    "#     return 0\n",
    "#   return x\n",
    "\n",
    "# df['PULocationIDFreq'] = df['PULocationIDFreq'].apply(lambda x: clear_location_low_values(x, location_id_min_th_count))\n",
    "# # df['DOLocationIDFreq'] = df['DOLocationIDFreq'].apply(lambda x: clear_location_low_values(x, location_id_min_th_count))\n",
    "# Contamos las apariciones de los lugares mas concurridos\n",
    "from turtle import color\n",
    "\n",
    "\n",
    "mostPickUpSites = Counter(df['PULocationID'])\n",
    "\n",
    "# Mostramos los 10 primeros.\n",
    "print(mostPickUpSites.most_common(10))\n",
    "\n",
    "aux = mostPickUpSites.most_common(10)\n",
    "most_pickup_important_places = []\n",
    "for i in aux:\n",
    "    most_pickup_important_places.append(i[0])\n",
    "\n",
    "    \n",
    "# for i, placeValue in enumerate(df['DOLocationID']):\n",
    "#     if (not placeValue in most_important_places):\n",
    "#         df.loc[i,'DOLocationID'] = 0\n",
    "\n",
    "df['PULocationID'] = np.where(df['PULocationID'].isin(most_pickup_important_places), df['PULocationID'], 0)\n",
    "\n",
    "type_feature = df['PULocationID'].value_counts()\n",
    "\n",
    "sns.barplot(x=type_feature.index, y=type_feature.values, data=df['PULocationID'])\n",
    "commonPickUpSites = Counter(df['PULocationID'])\n",
    "# Mostramos los 10 primeros.\n",
    "print(commonPickUpSites.most_common(20))\n"
   ]
  },
  {
   "cell_type": "markdown",
   "metadata": {},
   "source": [
    "#### 2.2.3 Balance de la variable de salida"
   ]
  },
  {
   "cell_type": "code",
   "execution_count": null,
   "metadata": {},
   "outputs": [],
   "source": [
    "#verifico el rango de los ids\n",
    "df['DOLocationID'].min(), df['DOLocationID'].max()\n"
   ]
  },
  {
   "cell_type": "code",
   "execution_count": null,
   "metadata": {},
   "outputs": [],
   "source": [
    "#asigno a la categoria 0 a todos los que aparecen por debajo del 1%\n",
    "# location_id_min_th_count = 0.01 * len(df)\n",
    "# df['DOLocationIDTruncated'] = df['DOLocationID'].apply(lambda x: clear_location_low_values(x, location_id_min_th_count))\n",
    "# df['DOLocationIDTruncated'].values[:10], location_id_min_th_count\n"
   ]
  },
  {
   "cell_type": "code",
   "execution_count": 45,
   "metadata": {},
   "outputs": [
    {
     "name": "stdout",
     "output_type": "stream",
     "text": [
      "[(236, 53970), (237, 47783), (161, 44228), (170, 37476), (162, 35519), (234, 33151), (142, 32904), (239, 32559), (141, 31679), (230, 30585)]\n",
      "[(0, 772025), (236, 53970), (237, 47783), (161, 44228), (170, 37476), (162, 35519), (234, 33151), (142, 32904), (239, 32559), (141, 31679), (230, 30585)]\n"
     ]
    },
    {
     "data": {
      "image/png": "[encoded data removed]",
      "text/plain": [
       "<Figure size 432x288 with 1 Axes>"
      ]
     },
     "metadata": {
      "needs_background": "light"
     },
     "output_type": "display_data"
    }
   ],
   "source": [
    "\n",
    "\n",
    "# Contamos las apariciones de los lugares mas concurridos\n",
    "mostCommonSites = Counter(df['DOLocationID'])\n",
    "\n",
    "# Mostramos los 10 primeros.\n",
    "print(mostCommonSites.most_common(10))\n",
    "\n",
    "aux = mostCommonSites.most_common(10)\n",
    "most_important_places = []\n",
    "for i in aux:\n",
    "    most_important_places.append(i[0])\n",
    "\n",
    "    \n",
    "# for i, placeValue in enumerate(df['DOLocationID']):\n",
    "#     if (not placeValue in most_important_places):\n",
    "#         df.loc[i,'DOLocationID'] = 0\n",
    "\n",
    "df['DOLocationID'] = np.where(df['DOLocationID'].isin(most_important_places), df['DOLocationID'], 0)\n",
    "\n",
    "type_feature = df['DOLocationID'].value_counts()\n",
    "\n",
    "sns.barplot(x=type_feature.index, y=type_feature.values, data=df['DOLocationID'])\n",
    "commonSites = Counter(df['DOLocationID'])\n",
    "# Mostramos los 10 primeros.\n",
    "print(commonSites.most_common(20))"
   ]
  },
  {
   "cell_type": "code",
   "execution_count": null,
   "metadata": {},
   "outputs": [],
   "source": [
    "df.describe()"
   ]
  },
  {
   "cell_type": "markdown",
   "metadata": {},
   "source": [
    "### 2.3 Selección final de las features"
   ]
  },
  {
   "cell_type": "markdown",
   "metadata": {},
   "source": [
    "En base al procesamiento anterior, seleccionamos los siguientes features del dataset:"
   ]
  },
  {
   "cell_type": "code",
   "execution_count": null,
   "metadata": {},
   "outputs": [],
   "source": [
    "\n",
    "feature_cols = [\n",
    "  'passenger_count', 'trip_distance', 'fare_amount', 'extra', \n",
    "  'mta_tax', 'tip_amount', 'tolls_amount', \n",
    "  'improvement_surcharge', 'total_amount', \n",
    "  'congestion_surcharge', 'duration', 'PULocationIDFreq',\n",
    "  'morning', 'afternoon', 'evening']\n",
    "target_col = ['DOLocationID']\n",
    "\n",
    "X = df[feature_cols]\n",
    "y = df[target_col]"
   ]
  },
  {
   "cell_type": "markdown",
   "metadata": {},
   "source": [
    "#### Eliminacion de datos con baja varianza"
   ]
  },
  {
   "cell_type": "code",
   "execution_count": null,
   "metadata": {},
   "outputs": [],
   "source": [
    "# TODO\n",
    "from sklearn.feature_selection import VarianceThreshold\n",
    "\n",
    "constant_filter = VarianceThreshold(threshold=0.01)\n",
    "\n",
    "#Fit and transforming on train data\n",
    "data_constant = constant_filter.fit_transform(X)\n",
    "print(X.shape)\n",
    "print(data_constant.shape)"
   ]
  },
  {
   "cell_type": "code",
   "execution_count": null,
   "metadata": {},
   "outputs": [],
   "source": [
    "X.describe()"
   ]
  },
  {
   "cell_type": "code",
   "execution_count": null,
   "metadata": {},
   "outputs": [],
   "source": [
    "data_constant.dtype"
   ]
  },
  {
   "cell_type": "code",
   "execution_count": null,
   "metadata": {},
   "outputs": [],
   "source": [
    "y.shape"
   ]
  },
  {
   "cell_type": "markdown",
   "metadata": {},
   "source": [
    "## 3.Entrenamiento de modelos \n",
    "### 3.1 Separación de datos\n"
   ]
  },
  {
   "cell_type": "code",
   "execution_count": null,
   "metadata": {},
   "outputs": [],
   "source": [
    "# Particionamos en train y test\n",
    "train_ratio = 0.7\n",
    "test_ratio = 0.3\n",
    "\n",
    "X_train, X_test, y_train, y_test = train_test_split(X, y, stratify=y, random_state=1)\n"
   ]
  },
  {
   "cell_type": "code",
   "execution_count": null,
   "metadata": {},
   "outputs": [],
   "source": [
    "#imprimo tamaños de los dataset de train y test\n",
    "print(f'train len={len(X_train)}')\n",
    "print(f'test len={len(X_test)}')"
   ]
  },
  {
   "cell_type": "markdown",
   "metadata": {},
   "source": [
    "### 3.2 Random Forest"
   ]
  },
  {
   "cell_type": "code",
   "execution_count": null,
   "metadata": {},
   "outputs": [],
   "source": [
    "from sklearn.ensemble import RandomForestClassifier"
   ]
  },
  {
   "cell_type": "code",
   "execution_count": null,
   "metadata": {},
   "outputs": [],
   "source": [
    "total_trees = 100 # number of trees\n",
    "max_depth = 2\n",
    "\n",
    "rf = RandomForestClassifier(n_estimators = total_trees, max_depth = max_depth, random_state=0)"
   ]
  },
  {
   "cell_type": "code",
   "execution_count": null,
   "metadata": {},
   "outputs": [],
   "source": [
    "rf.fit(X_train, y_train.values.reshape(-1))\n"
   ]
  },
  {
   "cell_type": "code",
   "execution_count": null,
   "metadata": {},
   "outputs": [],
   "source": [
    "\n",
    "# Utilizamos el método de predicción en los datos de prueba\n",
    "y_rf_pred = rf.predict(X_test)"
   ]
  },
  {
   "cell_type": "code",
   "execution_count": null,
   "metadata": {},
   "outputs": [],
   "source": [
    "print(classification_report(y_test,y_rf_pred))\n",
    "print('Area bajo la curva ROC:',np.round(roc_auc_score(y_test,y_rf_pred),4))\n",
    "# rf_precision, rf_recall, rf_threshold=precision_recall_curve(y_test, y_rf_pred)\n",
    "# print('Area bajo la curva Precision-Recall:',np.round(auc(rf_recall,rf_precision),4))\n",
    "# plot_confusion_matrix(rf, X_test, y_test,cmap='Blues')"
   ]
  },
  {
   "cell_type": "markdown",
   "metadata": {},
   "source": [
    "### 3.3 Regresión logística"
   ]
  },
  {
   "cell_type": "code",
   "execution_count": null,
   "metadata": {},
   "outputs": [],
   "source": [
    "def logistic_regression_report(X_train,X_test,y_train,y_test):\n",
    "    \n",
    "    scaler=StandardScaler()  \n",
    "    \n",
    "    X_train_sc=scaler.fit_transform(X_train) # Estandarizamos los datos     \n",
    "    X_test_sc=scaler.transform(X_test)\n",
    "        \n",
    "    model=LogisticRegressionCV(scoring='f1')\n",
    "    \n",
    "    model.fit(X_train_sc,y_train)\n",
    "    y_pred=model.predict(X_test_sc)\n",
    "    y_proba=model.predict_proba(X_test_sc)\n",
    "    \n",
    "    print(classification_report(y_test,y_pred))    \n",
    "    print('Area bajo la curva ROC:',np.round(roc_auc_score(y_test,y_proba[:,1]),4))    \n",
    "    precision, recall,threshold=precision_recall_curve(y_test,y_proba[:,1])\n",
    "    print('Area bajo la curva Precision-Recall:',np.round(auc(recall,precision),4))\n",
    "    print(f'Precision:{precision}, Recall: {recall}:')\n",
    "    plot_confusion_matrix(model,X_test_sc,y_test,cmap='Blues')"
   ]
  },
  {
   "cell_type": "code",
   "execution_count": null,
   "metadata": {},
   "outputs": [],
   "source": [
    "#logistic_regression_report(X_train, X_test, y_train, y_test)\n",
    "scaler = StandardScaler()  \n",
    "X_train_sc = scaler.fit_transform(X_train) # Estandarizamos los datos     \n",
    "X_test_sc = scaler.transform(X_test)\n",
    "\n",
    "lr = LogisticRegression(random_state = 1)\n",
    "lr.fit(X_train_sc,y_train)\n",
    "y_lr_pred = lr.predict(X_test_sc)\n",
    "lr_precision, lr_recall, lr_threshold=precision_recall_curve(y_test,y_lr_pred)\n",
    "\n",
    "lr_precision, lr_recall, lr_threshold"
   ]
  },
  {
   "cell_type": "code",
   "execution_count": null,
   "metadata": {},
   "outputs": [],
   "source": [
    "lr_precision"
   ]
  },
  {
   "cell_type": "markdown",
   "metadata": {},
   "source": [
    "# TODO - Falta terminar\n",
    "\n",
    "1. Aplicar filtrado Kendall para analizar las variables de entrada con respecto a la de salida\n",
    "2. Analizar variables con poca varianza\n",
    "3. Quedarse con las 10 Locations mas importantes de Pick Up y Drop Off y todas las otras meterlas en un id 0 (others)\n",
    "4. Correr Random Forest y Linear regression. Obtener los feature importance.\n",
    "5. Ejecutar pyCaret para ver en que concluye el automl"
   ]
  }
 ],
 "metadata": {
  "kernelspec": {
   "display_name": "Python 3.9.13 ('tp-ia')",
   "language": "python",
   "name": "python3"
  },
  "language_info": {
   "codemirror_mode": {
    "name": "ipython",
    "version": 3
   },
   "file_extension": ".py",
   "mimetype": "text/x-python",
   "name": "python",
   "nbconvert_exporter": "python",
   "pygments_lexer": "ipython3",
   "version": "3.9.13"
  },
  "vscode": {
   "interpreter": {
    "hash": "ff0b56c2c11e01fc93064e55eb1d315134029652b3f23c7e2f48e46ed7de5886"
   }
  }
 },
 "nbformat": 4,
 "nbformat_minor": 4
}
