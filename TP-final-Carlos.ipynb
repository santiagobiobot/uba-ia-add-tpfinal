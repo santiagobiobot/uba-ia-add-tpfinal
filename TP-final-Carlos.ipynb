{
 "cells": [
  {
   "cell_type": "markdown",
   "metadata": {
    "slideshow": {
     "slide_type": "slide"
    }
   },
   "source": [
    "# Trabajo Final. Análisis de Datos"
   ]
  },
  {
   "cell_type": "markdown",
   "metadata": {},
   "source": [
    "## Alumnos:\n",
    "\n",
    "### Domenje, Carlos R.\n",
    "\n",
    "### Fux, Santiago.\n",
    "\n",
    "---"
   ]
  },
  {
   "cell_type": "markdown",
   "metadata": {
    "slideshow": {
     "slide_type": "slide"
    }
   },
   "source": [
    "## DATASET: Uso de Taxis Yellow Cab en USA en el año 2020\n",
    "\n",
    "**Problema.** Responderemos a la siguiente pregunta\n",
    "\n",
    "1. ¿Existe una manera de caracterizar los lugares más recurrentes para inicio / fin de viaje?\n"
   ]
  },
  {
   "cell_type": "markdown",
   "metadata": {},
   "source": [
    "## 1. Obtención de datos\n",
    "\n",
    "Para importar los datos, buscamos en la página web brindada por la cátedra:\n",
    "\n",
    "- [Yellow Cab - Dataset](https://www1.nyc.gov/site/tlc/about/tlc-trip-record-data.page)\n",
    "\n",
    "**Nota**: El dataset utilizado será el del año 2020, los tres primeros meses (Enero, Febrero, Marzo) y será descargado en una carpeta llamada \"data\" dentro de la carpeta contenedora del proyecto."
   ]
  },
  {
   "cell_type": "code",
   "execution_count": 2,
   "metadata": {
    "scrolled": true
   },
   "outputs": [],
   "source": [
    "# Path del dataset a utilizar.\n",
    "DATASET_PATH = r'./data'"
   ]
  },
  {
   "cell_type": "code",
   "execution_count": 3,
   "metadata": {},
   "outputs": [
    {
     "name": "stdout",
     "output_type": "stream",
     "text": [
      "yellow_tripdata_2020-01.parquet yellow_tripdata_2020-03.parquet\n",
      "yellow_tripdata_2020-02.parquet\n"
     ]
    }
   ],
   "source": [
    "# listamos los archivos que se encuentran en el path\n",
    "!ls {DATASET_PATH}"
   ]
  },
  {
   "cell_type": "code",
   "execution_count": 4,
   "metadata": {},
   "outputs": [],
   "source": [
    "# Importamos las librerias necesarias para interactuar con el dataset.\n",
    "\n",
    "import pandas as pd\n",
    "import glob\n",
    "import matplotlib\n",
    "import matplotlib.pyplot as plt\n",
    "import numpy as np\n",
    "import seaborn as sns; sns.set()\n",
    "import scipy.stats as stats\n",
    "import sklearn as sk\n",
    "from sklearn.model_selection import train_test_split\n",
    "from sklearn.linear_model import LogisticRegression, LogisticRegressionCV\n",
    "from sklearn.metrics import accuracy_score,plot_confusion_matrix,roc_auc_score, classification_report, confusion_matrix, precision_recall_curve, auc\n",
    "from sklearn.preprocessing import StandardScaler\n",
    "from collections import Counter\n",
    "# Set decimals format with 3 decimals\n",
    "pd.set_option('display.float_format', lambda x: '%.3f' % x)"
   ]
  },
  {
   "cell_type": "code",
   "execution_count": 5,
   "metadata": {},
   "outputs": [
    {
     "data": {
      "text/html": [
       "<div>\n",
       "<style scoped>\n",
       "    .dataframe tbody tr th:only-of-type {\n",
       "        vertical-align: middle;\n",
       "    }\n",
       "\n",
       "    .dataframe tbody tr th {\n",
       "        vertical-align: top;\n",
       "    }\n",
       "\n",
       "    .dataframe thead th {\n",
       "        text-align: right;\n",
       "    }\n",
       "</style>\n",
       "<table border=\"1\" class=\"dataframe\">\n",
       "  <thead>\n",
       "    <tr style=\"text-align: right;\">\n",
       "      <th></th>\n",
       "      <th>VendorID</th>\n",
       "      <th>passenger_count</th>\n",
       "      <th>trip_distance</th>\n",
       "      <th>RatecodeID</th>\n",
       "      <th>PULocationID</th>\n",
       "      <th>DOLocationID</th>\n",
       "      <th>payment_type</th>\n",
       "      <th>fare_amount</th>\n",
       "      <th>extra</th>\n",
       "      <th>mta_tax</th>\n",
       "      <th>tip_amount</th>\n",
       "      <th>tolls_amount</th>\n",
       "      <th>improvement_surcharge</th>\n",
       "      <th>total_amount</th>\n",
       "      <th>congestion_surcharge</th>\n",
       "    </tr>\n",
       "  </thead>\n",
       "  <tbody>\n",
       "    <tr>\n",
       "      <th>count</th>\n",
       "      <td>1571207.000</td>\n",
       "      <td>1556030.000</td>\n",
       "      <td>1571207.000</td>\n",
       "      <td>1556030.000</td>\n",
       "      <td>1571207.000</td>\n",
       "      <td>1571207.000</td>\n",
       "      <td>1571207.000</td>\n",
       "      <td>1571207.000</td>\n",
       "      <td>1571207.000</td>\n",
       "      <td>1571207.000</td>\n",
       "      <td>1571207.000</td>\n",
       "      <td>1571207.000</td>\n",
       "      <td>1571207.000</td>\n",
       "      <td>1571207.000</td>\n",
       "      <td>1556030.000</td>\n",
       "    </tr>\n",
       "    <tr>\n",
       "      <th>mean</th>\n",
       "      <td>1.673</td>\n",
       "      <td>1.503</td>\n",
       "      <td>2.897</td>\n",
       "      <td>1.058</td>\n",
       "      <td>164.493</td>\n",
       "      <td>162.310</td>\n",
       "      <td>1.252</td>\n",
       "      <td>12.610</td>\n",
       "      <td>1.106</td>\n",
       "      <td>0.492</td>\n",
       "      <td>2.190</td>\n",
       "      <td>0.329</td>\n",
       "      <td>0.298</td>\n",
       "      <td>18.551</td>\n",
       "      <td>2.297</td>\n",
       "    </tr>\n",
       "    <tr>\n",
       "      <th>std</th>\n",
       "      <td>0.470</td>\n",
       "      <td>1.144</td>\n",
       "      <td>30.831</td>\n",
       "      <td>0.825</td>\n",
       "      <td>65.760</td>\n",
       "      <td>69.994</td>\n",
       "      <td>0.486</td>\n",
       "      <td>11.686</td>\n",
       "      <td>1.256</td>\n",
       "      <td>0.073</td>\n",
       "      <td>2.688</td>\n",
       "      <td>1.805</td>\n",
       "      <td>0.035</td>\n",
       "      <td>14.292</td>\n",
       "      <td>0.706</td>\n",
       "    </tr>\n",
       "    <tr>\n",
       "      <th>min</th>\n",
       "      <td>1.000</td>\n",
       "      <td>0.000</td>\n",
       "      <td>-30.620</td>\n",
       "      <td>1.000</td>\n",
       "      <td>1.000</td>\n",
       "      <td>1.000</td>\n",
       "      <td>0.000</td>\n",
       "      <td>-500.000</td>\n",
       "      <td>-7.000</td>\n",
       "      <td>-0.500</td>\n",
       "      <td>-55.000</td>\n",
       "      <td>-38.230</td>\n",
       "      <td>-0.300</td>\n",
       "      <td>-500.300</td>\n",
       "      <td>-2.500</td>\n",
       "    </tr>\n",
       "    <tr>\n",
       "      <th>25%</th>\n",
       "      <td>1.000</td>\n",
       "      <td>1.000</td>\n",
       "      <td>0.970</td>\n",
       "      <td>1.000</td>\n",
       "      <td>125.000</td>\n",
       "      <td>113.000</td>\n",
       "      <td>1.000</td>\n",
       "      <td>6.500</td>\n",
       "      <td>0.000</td>\n",
       "      <td>0.500</td>\n",
       "      <td>0.000</td>\n",
       "      <td>0.000</td>\n",
       "      <td>0.300</td>\n",
       "      <td>11.160</td>\n",
       "      <td>2.500</td>\n",
       "    </tr>\n",
       "    <tr>\n",
       "      <th>50%</th>\n",
       "      <td>2.000</td>\n",
       "      <td>1.000</td>\n",
       "      <td>1.600</td>\n",
       "      <td>1.000</td>\n",
       "      <td>162.000</td>\n",
       "      <td>162.000</td>\n",
       "      <td>1.000</td>\n",
       "      <td>9.000</td>\n",
       "      <td>0.500</td>\n",
       "      <td>0.500</td>\n",
       "      <td>1.950</td>\n",
       "      <td>0.000</td>\n",
       "      <td>0.300</td>\n",
       "      <td>14.300</td>\n",
       "      <td>2.500</td>\n",
       "    </tr>\n",
       "    <tr>\n",
       "      <th>75%</th>\n",
       "      <td>2.000</td>\n",
       "      <td>2.000</td>\n",
       "      <td>2.930</td>\n",
       "      <td>1.000</td>\n",
       "      <td>234.000</td>\n",
       "      <td>234.000</td>\n",
       "      <td>2.000</td>\n",
       "      <td>14.000</td>\n",
       "      <td>2.500</td>\n",
       "      <td>0.500</td>\n",
       "      <td>2.860</td>\n",
       "      <td>0.000</td>\n",
       "      <td>0.300</td>\n",
       "      <td>19.890</td>\n",
       "      <td>2.500</td>\n",
       "    </tr>\n",
       "    <tr>\n",
       "      <th>max</th>\n",
       "      <td>6.000</td>\n",
       "      <td>9.000</td>\n",
       "      <td>34325.100</td>\n",
       "      <td>99.000</td>\n",
       "      <td>265.000</td>\n",
       "      <td>265.000</td>\n",
       "      <td>4.000</td>\n",
       "      <td>600.000</td>\n",
       "      <td>87.560</td>\n",
       "      <td>3.300</td>\n",
       "      <td>500.000</td>\n",
       "      <td>925.500</td>\n",
       "      <td>0.300</td>\n",
       "      <td>925.810</td>\n",
       "      <td>2.750</td>\n",
       "    </tr>\n",
       "  </tbody>\n",
       "</table>\n",
       "</div>"
      ],
      "text/plain": [
       "         VendorID  passenger_count  trip_distance  RatecodeID  PULocationID  \\\n",
       "count 1571207.000      1556030.000    1571207.000 1556030.000   1571207.000   \n",
       "mean        1.673            1.503          2.897       1.058       164.493   \n",
       "std         0.470            1.144         30.831       0.825        65.760   \n",
       "min         1.000            0.000        -30.620       1.000         1.000   \n",
       "25%         1.000            1.000          0.970       1.000       125.000   \n",
       "50%         2.000            1.000          1.600       1.000       162.000   \n",
       "75%         2.000            2.000          2.930       1.000       234.000   \n",
       "max         6.000            9.000      34325.100      99.000       265.000   \n",
       "\n",
       "       DOLocationID  payment_type  fare_amount       extra     mta_tax  \\\n",
       "count   1571207.000   1571207.000  1571207.000 1571207.000 1571207.000   \n",
       "mean        162.310         1.252       12.610       1.106       0.492   \n",
       "std          69.994         0.486       11.686       1.256       0.073   \n",
       "min           1.000         0.000     -500.000      -7.000      -0.500   \n",
       "25%         113.000         1.000        6.500       0.000       0.500   \n",
       "50%         162.000         1.000        9.000       0.500       0.500   \n",
       "75%         234.000         2.000       14.000       2.500       0.500   \n",
       "max         265.000         4.000      600.000      87.560       3.300   \n",
       "\n",
       "       tip_amount  tolls_amount  improvement_surcharge  total_amount  \\\n",
       "count 1571207.000   1571207.000            1571207.000   1571207.000   \n",
       "mean        2.190         0.329                  0.298        18.551   \n",
       "std         2.688         1.805                  0.035        14.292   \n",
       "min       -55.000       -38.230                 -0.300      -500.300   \n",
       "25%         0.000         0.000                  0.300        11.160   \n",
       "50%         1.950         0.000                  0.300        14.300   \n",
       "75%         2.860         0.000                  0.300        19.890   \n",
       "max       500.000       925.500                  0.300       925.810   \n",
       "\n",
       "       congestion_surcharge  \n",
       "count           1556030.000  \n",
       "mean                  2.297  \n",
       "std                   0.706  \n",
       "min                  -2.500  \n",
       "25%                   2.500  \n",
       "50%                   2.500  \n",
       "75%                   2.500  \n",
       "max                   2.750  "
      ]
     },
     "execution_count": 5,
     "metadata": {},
     "output_type": "execute_result"
    }
   ],
   "source": [
    "# El archivo del dataset tiene como formato .parquet, el cual es un archivo que esta orientado a columnas. \n",
    "all_files = glob.glob(\"./data/*.parquet\")\n",
    "\n",
    "df_list = []\n",
    "\n",
    "for filename in all_files:\n",
    "    # Se carga el archivo\n",
    "    df = pd.read_parquet(filename)\n",
    "    # Tomo el 10% del dataset total   \n",
    "    df = df.sample(frac=0.1)\n",
    "    # Agrego a la lista\n",
    "    df_list.append(df)\n",
    "\n",
    "\n",
    "df = pd.concat(df_list, axis=0, ignore_index=True)\n",
    "\n",
    "\n",
    "df.describe()"
   ]
  },
  {
   "cell_type": "code",
   "execution_count": 6,
   "metadata": {},
   "outputs": [
    {
     "name": "stdout",
     "output_type": "stream",
     "text": [
      "<class 'pandas.core.frame.DataFrame'>\n",
      "RangeIndex: 1571207 entries, 0 to 1571206\n",
      "Data columns (total 19 columns):\n",
      " #   Column                 Non-Null Count    Dtype         \n",
      "---  ------                 --------------    -----         \n",
      " 0   VendorID               1571207 non-null  int64         \n",
      " 1   tpep_pickup_datetime   1571207 non-null  datetime64[ns]\n",
      " 2   tpep_dropoff_datetime  1571207 non-null  datetime64[ns]\n",
      " 3   passenger_count        1556030 non-null  float64       \n",
      " 4   trip_distance          1571207 non-null  float64       \n",
      " 5   RatecodeID             1556030 non-null  float64       \n",
      " 6   store_and_fwd_flag     1556030 non-null  object        \n",
      " 7   PULocationID           1571207 non-null  int64         \n",
      " 8   DOLocationID           1571207 non-null  int64         \n",
      " 9   payment_type           1571207 non-null  int64         \n",
      " 10  fare_amount            1571207 non-null  float64       \n",
      " 11  extra                  1571207 non-null  float64       \n",
      " 12  mta_tax                1571207 non-null  float64       \n",
      " 13  tip_amount             1571207 non-null  float64       \n",
      " 14  tolls_amount           1571207 non-null  float64       \n",
      " 15  improvement_surcharge  1571207 non-null  float64       \n",
      " 16  total_amount           1571207 non-null  float64       \n",
      " 17  congestion_surcharge   1556030 non-null  float64       \n",
      " 18  airport_fee            0 non-null        object        \n",
      "dtypes: datetime64[ns](2), float64(11), int64(4), object(2)\n",
      "memory usage: 227.8+ MB\n"
     ]
    }
   ],
   "source": [
    "## Para obtener una descripción del tipo de datos que contiene cada columna, utilizamos la funcion info()\n",
    "# Podemos además, obtener una idea general de cuantos datos no nulos contiene.\n",
    "df.info()"
   ]
  },
  {
   "cell_type": "code",
   "execution_count": 7,
   "metadata": {},
   "outputs": [
    {
     "data": {
      "text/html": [
       "<div>\n",
       "<style scoped>\n",
       "    .dataframe tbody tr th:only-of-type {\n",
       "        vertical-align: middle;\n",
       "    }\n",
       "\n",
       "    .dataframe tbody tr th {\n",
       "        vertical-align: top;\n",
       "    }\n",
       "\n",
       "    .dataframe thead th {\n",
       "        text-align: right;\n",
       "    }\n",
       "</style>\n",
       "<table border=\"1\" class=\"dataframe\">\n",
       "  <thead>\n",
       "    <tr style=\"text-align: right;\">\n",
       "      <th></th>\n",
       "      <th>VendorID</th>\n",
       "      <th>passenger_count</th>\n",
       "      <th>trip_distance</th>\n",
       "      <th>RatecodeID</th>\n",
       "      <th>PULocationID</th>\n",
       "      <th>DOLocationID</th>\n",
       "      <th>payment_type</th>\n",
       "      <th>fare_amount</th>\n",
       "      <th>extra</th>\n",
       "      <th>mta_tax</th>\n",
       "      <th>tip_amount</th>\n",
       "      <th>tolls_amount</th>\n",
       "      <th>improvement_surcharge</th>\n",
       "      <th>total_amount</th>\n",
       "      <th>congestion_surcharge</th>\n",
       "    </tr>\n",
       "  </thead>\n",
       "  <tbody>\n",
       "    <tr>\n",
       "      <th>count</th>\n",
       "      <td>1571207.000</td>\n",
       "      <td>1556030.000</td>\n",
       "      <td>1571207.000</td>\n",
       "      <td>1556030.000</td>\n",
       "      <td>1571207.000</td>\n",
       "      <td>1571207.000</td>\n",
       "      <td>1571207.000</td>\n",
       "      <td>1571207.000</td>\n",
       "      <td>1571207.000</td>\n",
       "      <td>1571207.000</td>\n",
       "      <td>1571207.000</td>\n",
       "      <td>1571207.000</td>\n",
       "      <td>1571207.000</td>\n",
       "      <td>1571207.000</td>\n",
       "      <td>1556030.000</td>\n",
       "    </tr>\n",
       "    <tr>\n",
       "      <th>mean</th>\n",
       "      <td>1.673</td>\n",
       "      <td>1.503</td>\n",
       "      <td>2.897</td>\n",
       "      <td>1.058</td>\n",
       "      <td>164.493</td>\n",
       "      <td>162.310</td>\n",
       "      <td>1.252</td>\n",
       "      <td>12.610</td>\n",
       "      <td>1.106</td>\n",
       "      <td>0.492</td>\n",
       "      <td>2.190</td>\n",
       "      <td>0.329</td>\n",
       "      <td>0.298</td>\n",
       "      <td>18.551</td>\n",
       "      <td>2.297</td>\n",
       "    </tr>\n",
       "    <tr>\n",
       "      <th>std</th>\n",
       "      <td>0.470</td>\n",
       "      <td>1.144</td>\n",
       "      <td>30.831</td>\n",
       "      <td>0.825</td>\n",
       "      <td>65.760</td>\n",
       "      <td>69.994</td>\n",
       "      <td>0.486</td>\n",
       "      <td>11.686</td>\n",
       "      <td>1.256</td>\n",
       "      <td>0.073</td>\n",
       "      <td>2.688</td>\n",
       "      <td>1.805</td>\n",
       "      <td>0.035</td>\n",
       "      <td>14.292</td>\n",
       "      <td>0.706</td>\n",
       "    </tr>\n",
       "    <tr>\n",
       "      <th>min</th>\n",
       "      <td>1.000</td>\n",
       "      <td>0.000</td>\n",
       "      <td>-30.620</td>\n",
       "      <td>1.000</td>\n",
       "      <td>1.000</td>\n",
       "      <td>1.000</td>\n",
       "      <td>0.000</td>\n",
       "      <td>-500.000</td>\n",
       "      <td>-7.000</td>\n",
       "      <td>-0.500</td>\n",
       "      <td>-55.000</td>\n",
       "      <td>-38.230</td>\n",
       "      <td>-0.300</td>\n",
       "      <td>-500.300</td>\n",
       "      <td>-2.500</td>\n",
       "    </tr>\n",
       "    <tr>\n",
       "      <th>25%</th>\n",
       "      <td>1.000</td>\n",
       "      <td>1.000</td>\n",
       "      <td>0.970</td>\n",
       "      <td>1.000</td>\n",
       "      <td>125.000</td>\n",
       "      <td>113.000</td>\n",
       "      <td>1.000</td>\n",
       "      <td>6.500</td>\n",
       "      <td>0.000</td>\n",
       "      <td>0.500</td>\n",
       "      <td>0.000</td>\n",
       "      <td>0.000</td>\n",
       "      <td>0.300</td>\n",
       "      <td>11.160</td>\n",
       "      <td>2.500</td>\n",
       "    </tr>\n",
       "    <tr>\n",
       "      <th>50%</th>\n",
       "      <td>2.000</td>\n",
       "      <td>1.000</td>\n",
       "      <td>1.600</td>\n",
       "      <td>1.000</td>\n",
       "      <td>162.000</td>\n",
       "      <td>162.000</td>\n",
       "      <td>1.000</td>\n",
       "      <td>9.000</td>\n",
       "      <td>0.500</td>\n",
       "      <td>0.500</td>\n",
       "      <td>1.950</td>\n",
       "      <td>0.000</td>\n",
       "      <td>0.300</td>\n",
       "      <td>14.300</td>\n",
       "      <td>2.500</td>\n",
       "    </tr>\n",
       "    <tr>\n",
       "      <th>75%</th>\n",
       "      <td>2.000</td>\n",
       "      <td>2.000</td>\n",
       "      <td>2.930</td>\n",
       "      <td>1.000</td>\n",
       "      <td>234.000</td>\n",
       "      <td>234.000</td>\n",
       "      <td>2.000</td>\n",
       "      <td>14.000</td>\n",
       "      <td>2.500</td>\n",
       "      <td>0.500</td>\n",
       "      <td>2.860</td>\n",
       "      <td>0.000</td>\n",
       "      <td>0.300</td>\n",
       "      <td>19.890</td>\n",
       "      <td>2.500</td>\n",
       "    </tr>\n",
       "    <tr>\n",
       "      <th>max</th>\n",
       "      <td>6.000</td>\n",
       "      <td>9.000</td>\n",
       "      <td>34325.100</td>\n",
       "      <td>99.000</td>\n",
       "      <td>265.000</td>\n",
       "      <td>265.000</td>\n",
       "      <td>4.000</td>\n",
       "      <td>600.000</td>\n",
       "      <td>87.560</td>\n",
       "      <td>3.300</td>\n",
       "      <td>500.000</td>\n",
       "      <td>925.500</td>\n",
       "      <td>0.300</td>\n",
       "      <td>925.810</td>\n",
       "      <td>2.750</td>\n",
       "    </tr>\n",
       "  </tbody>\n",
       "</table>\n",
       "</div>"
      ],
      "text/plain": [
       "         VendorID  passenger_count  trip_distance  RatecodeID  PULocationID  \\\n",
       "count 1571207.000      1556030.000    1571207.000 1556030.000   1571207.000   \n",
       "mean        1.673            1.503          2.897       1.058       164.493   \n",
       "std         0.470            1.144         30.831       0.825        65.760   \n",
       "min         1.000            0.000        -30.620       1.000         1.000   \n",
       "25%         1.000            1.000          0.970       1.000       125.000   \n",
       "50%         2.000            1.000          1.600       1.000       162.000   \n",
       "75%         2.000            2.000          2.930       1.000       234.000   \n",
       "max         6.000            9.000      34325.100      99.000       265.000   \n",
       "\n",
       "       DOLocationID  payment_type  fare_amount       extra     mta_tax  \\\n",
       "count   1571207.000   1571207.000  1571207.000 1571207.000 1571207.000   \n",
       "mean        162.310         1.252       12.610       1.106       0.492   \n",
       "std          69.994         0.486       11.686       1.256       0.073   \n",
       "min           1.000         0.000     -500.000      -7.000      -0.500   \n",
       "25%         113.000         1.000        6.500       0.000       0.500   \n",
       "50%         162.000         1.000        9.000       0.500       0.500   \n",
       "75%         234.000         2.000       14.000       2.500       0.500   \n",
       "max         265.000         4.000      600.000      87.560       3.300   \n",
       "\n",
       "       tip_amount  tolls_amount  improvement_surcharge  total_amount  \\\n",
       "count 1571207.000   1571207.000            1571207.000   1571207.000   \n",
       "mean        2.190         0.329                  0.298        18.551   \n",
       "std         2.688         1.805                  0.035        14.292   \n",
       "min       -55.000       -38.230                 -0.300      -500.300   \n",
       "25%         0.000         0.000                  0.300        11.160   \n",
       "50%         1.950         0.000                  0.300        14.300   \n",
       "75%         2.860         0.000                  0.300        19.890   \n",
       "max       500.000       925.500                  0.300       925.810   \n",
       "\n",
       "       congestion_surcharge  \n",
       "count           1556030.000  \n",
       "mean                  2.297  \n",
       "std                   0.706  \n",
       "min                  -2.500  \n",
       "25%                   2.500  \n",
       "50%                   2.500  \n",
       "75%                   2.500  \n",
       "max                   2.750  "
      ]
     },
     "execution_count": 7,
     "metadata": {},
     "output_type": "execute_result"
    }
   ],
   "source": [
    "# La función describe() nos da una vista general de valores de cantidades de datos, media, desv. standard, valores min y max de cada columna.\n",
    "df.describe()"
   ]
  },
  {
   "cell_type": "markdown",
   "metadata": {},
   "source": [
    "### Descripción de Columnas del Dataset.\n"
   ]
  },
  {
   "cell_type": "code",
   "execution_count": 8,
   "metadata": {},
   "outputs": [
    {
     "data": {
      "text/plain": [
       "VendorID                          int64\n",
       "tpep_pickup_datetime     datetime64[ns]\n",
       "tpep_dropoff_datetime    datetime64[ns]\n",
       "passenger_count                 float64\n",
       "trip_distance                   float64\n",
       "RatecodeID                      float64\n",
       "store_and_fwd_flag               object\n",
       "PULocationID                      int64\n",
       "DOLocationID                      int64\n",
       "payment_type                      int64\n",
       "fare_amount                     float64\n",
       "extra                           float64\n",
       "mta_tax                         float64\n",
       "tip_amount                      float64\n",
       "tolls_amount                    float64\n",
       "improvement_surcharge           float64\n",
       "total_amount                    float64\n",
       "congestion_surcharge            float64\n",
       "airport_fee                      object\n",
       "dtype: object"
      ]
     },
     "execution_count": 8,
     "metadata": {},
     "output_type": "execute_result"
    }
   ],
   "source": [
    "# Listado de tipos de variables presentes en el dataset\n",
    "df.dtypes"
   ]
  },
  {
   "cell_type": "code",
   "execution_count": 9,
   "metadata": {},
   "outputs": [],
   "source": [
    "# funcion para plotear las distribuciones de los atributos\n",
    "def display_dataset_distributions(dataset):\n",
    "    fig = dataset.hist(xlabelsize=10, ylabelsize=10,figsize=(18,18))\n",
    "    [x.title.set_size(14) for x in fig.ravel()]\n",
    "    plt.tight_layout\n",
    "    plt.show()\n",
    "    \n",
    "\n",
    "# funcion para imprimir nulos\n",
    "def print_null_info(col):\n",
    "    print(f'Cantidad de nulos: {col.isnull().sum()}/{col.size}')\n",
    "\n",
    "# funcion para imprimir datos de v. categoricas\n",
    "def print_categorical(col):\n",
    "    print(f'Ordinalidad: {col.unique()}')\n",
    "    print_null_info(col)\n",
    "    print('Ocurrencias:')\n",
    "    print(col.value_counts().sort_values())"
   ]
  },
  {
   "cell_type": "code",
   "execution_count": 10,
   "metadata": {},
   "outputs": [
    {
     "data": {
      "image/png": "[encoded data removed]",
      "text/plain": [
       "<Figure size 1296x1296 with 20 Axes>"
      ]
     },
     "metadata": {
      "needs_background": "light"
     },
     "output_type": "display_data"
    }
   ],
   "source": [
    "#imprimo distribuciones \n",
    "display_dataset_distributions(df)"
   ]
  },
  {
   "cell_type": "markdown",
   "metadata": {},
   "source": [
    "\n",
    "- **VendorID**: Proveedor de servicios de tecnologias en taxis (T-PEP)\n",
    "    - Tipo de dato: Categórica ordinal  \n",
    "    - Tipo de variable: Entrada  \n"
   ]
  },
  {
   "cell_type": "code",
   "execution_count": 11,
   "metadata": {},
   "outputs": [
    {
     "name": "stdout",
     "output_type": "stream",
     "text": [
      "Ordinalidad: [2 1 6 5]\n",
      "Cantidad de nulos: 0/1571207\n",
      "Ocurrencias:\n",
      "5          1\n",
      "6         56\n",
      "1     513696\n",
      "2    1057454\n",
      "Name: VendorID, dtype: int64\n"
     ]
    }
   ],
   "source": [
    "print_categorical(df.VendorID)"
   ]
  },
  {
   "cell_type": "markdown",
   "metadata": {},
   "source": [
    "\n",
    "- **tpep_pickup_datetime**: Fecha y hora en el cual el reloj fue activado al iniciar un viaje.\n",
    "    - Tipo de dato: Timestamp compuesto  \n",
    "    - Tipo de variable: Entrada  \n",
    "\n",
    "    - Ejemplo del dato en el dataset: 2020-07-01 00:25:32\n"
   ]
  },
  {
   "cell_type": "code",
   "execution_count": 12,
   "metadata": {},
   "outputs": [
    {
     "name": "stdout",
     "output_type": "stream",
     "text": [
      "Cantidad de nulos: 0/1571207\n"
     ]
    }
   ],
   "source": [
    "print_null_info(df.tpep_pickup_datetime)"
   ]
  },
  {
   "cell_type": "markdown",
   "metadata": {},
   "source": [
    "- **tpep_dropoff_datetime**: Fecha y hora en el cual el reloj fue desactivador al finalizar un viaje.\n",
    "    - Tipo de dato: Timestamp compuesto\n",
    "    - Tipo de variable: Entrada  / Salida\n",
    "\n",
    "    - Ejemplo del dato en el dataset: 2020-07-01 00:33:39\n"
   ]
  },
  {
   "cell_type": "code",
   "execution_count": 13,
   "metadata": {},
   "outputs": [
    {
     "name": "stdout",
     "output_type": "stream",
     "text": [
      "Cantidad de nulos: 0/1571207\n"
     ]
    }
   ],
   "source": [
    "print_null_info(df.tpep_dropoff_datetime)"
   ]
  },
  {
   "cell_type": "markdown",
   "metadata": {},
   "source": [
    "- **passenger_count**: El número de pasajeros en el vehiculo. (Es un dato que lo ingresa el conductor.)\n",
    "    - Tipo de dato: Numérico \n",
    "    - Tipo de variable: Entrada\n",
    "    - Ejemplo del dato en el dataset: 1.0"
   ]
  },
  {
   "cell_type": "code",
   "execution_count": 14,
   "metadata": {},
   "outputs": [
    {
     "name": "stdout",
     "output_type": "stream",
     "text": [
      "Cantidad de nulos: 15177/1571207\n"
     ]
    }
   ],
   "source": [
    "print_null_info(df.passenger_count)"
   ]
  },
  {
   "cell_type": "markdown",
   "metadata": {},
   "source": [
    "\n",
    "- **trip_distance**: La distancia del viaje transcurrido en millas reportada por el taxímetro. \n",
    "    - Tipo de dato: Numérico \n",
    "    - Tipo de variable: Entrada  \n",
    "\n",
    "    - Ejemplo del dato en el dataset: 1.50\n"
   ]
  },
  {
   "cell_type": "code",
   "execution_count": 15,
   "metadata": {},
   "outputs": [
    {
     "name": "stdout",
     "output_type": "stream",
     "text": [
      "Cantidad de nulos: 0/1571207\n"
     ]
    }
   ],
   "source": [
    "print_null_info(df.trip_distance)"
   ]
  },
  {
   "cell_type": "markdown",
   "metadata": {},
   "source": [
    "- **PULocationID**: TLC Zona en la que el taxímetro se activó.\n",
    "    - Tipo de dato: Categórica ordinal\n",
    "    - Tipo de variable: Entrada / Salida\n",
    "\n",
    "    - Ejemplo del dato en el dataset: 238\n"
   ]
  },
  {
   "cell_type": "code",
   "execution_count": 16,
   "metadata": {},
   "outputs": [
    {
     "name": "stdout",
     "output_type": "stream",
     "text": [
      "Ordinalidad: [170 230 236 141  79 231 186  48 234 215  43 237  90 148 132 133 163 166\n",
      "  87  42 249 100 262 246 263 238  68  41  75 138 142 144 113 229 239 233\n",
      " 211 140  29 143 125 137 209 151 158 261 107   4 164 165 162 161  50  77\n",
      "  61 129  62 114  13  45 146  88 232  25  74 264 145 152 224 255  24  47\n",
      " 150  51   8 116 218  89  65  12   9 179  97 235 196 119 193 226   7  95\n",
      " 265 181 168 256 159  52  10 247 244 188  72  39 198 242 203 250  49 155\n",
      "  26 147  66  33 223 157  40  93 192 228  76 260  80  82 185  28 139  19\n",
      "  22 200 182  21 191  20 106  38 130 258 190  85 177 171  35 205 225 197\n",
      " 213  14 227  78 117 202 178  17 241 220 208 112 121  18 222 174 123  36\n",
      "  91 195  70 111 219 167  56 134 216 243 221  92 207 160  37  69 189 180\n",
      " 136  83 131  55 122 127 169 210 194 153   3 102 135 183  58  34   1  63\n",
      " 257 201 254 217  64  94  81 124  23 101 259 149  15 173  53 108  32  16\n",
      "  71 115  96 252 214 126  86  60 187 240  98  54  73  46 175  11 212  67\n",
      " 128 118 154   6 248  44 206 156  31  57 253 109 120   5  99  27 184 245]\n",
      "Cantidad de nulos: 0/1571207\n",
      "Ocurrencias:\n",
      "245        1\n",
      "111        1\n",
      "27         1\n",
      "99         1\n",
      "109        1\n",
      "       ...  \n",
      "230    55089\n",
      "162    57543\n",
      "236    66055\n",
      "161    68287\n",
      "237    70346\n",
      "Name: PULocationID, Length: 252, dtype: int64\n"
     ]
    }
   ],
   "source": [
    "print_categorical(df.PULocationID)"
   ]
  },
  {
   "cell_type": "markdown",
   "metadata": {},
   "source": [
    "\n",
    "- **DOLocationID**: TLC Zona en la que el taxímetro se desactivó.\n",
    "    - Tipo de dato: Categórica ordinal\n",
    "    - Tipo de variable: Entrada / Salida \n",
    "\n",
    "    - Ejemplo del dato en el dataset: 75\n"
   ]
  },
  {
   "cell_type": "code",
   "execution_count": 17,
   "metadata": {},
   "outputs": [
    {
     "name": "stdout",
     "output_type": "stream",
     "text": [
      "Ordinalidad: [224 257 163 229 233 137 209 230 181 170 263 238  68 114 130 234  62 158\n",
      " 161  41 140 147 246 237  48 113 162 239   7  74  90 186 236 142 107  79\n",
      "  24 143  50 231 182  93 264 148 262 100 132 232  87  80 249 165  88 256\n",
      "  13  33  75 164 144  66  35 138 261  77  17   4 223  97  76 166 141 116\n",
      "  43 145 179 151  65 119  47  42  53 211  56  25 265 243  95   1  63 146\n",
      " 196 255 200 127 189 244 129 168 185 216 225 188  16  67 157 125 152 112\n",
      "  10   9  28 203 213  52  70 136  85 247 193 198  89 217 260  37 258 254\n",
      " 242 226 117 218 212  49 118  45 171 197 195 106  14  29 102 248  83 134\n",
      " 159  61 169 155  78  22  92 149  26  71 121 177 174  51  98  82 252 131\n",
      "  36 228  39 253  40  72 202  73 160 133 175 191 235 167 101 241  54 215\n",
      " 178  21 227 135 108 190 126 139 201  20  69 219   6 194 124   3 173 184\n",
      "  18 206  19 221 205 128 222 220  64  34 208  38 207 123  86  91  12 120\n",
      " 259  60  94 150  32   8  11 204 210 153 180  55  15  81 192  99 250 183\n",
      " 245 122  58 214  96 240  59 176  84  46  57  31  44 187 156 154 172   5\n",
      " 115  23 251  27 109 111  30   2]\n",
      "Cantidad de nulos: 0/1571207\n",
      "Ocurrencias:\n",
      "2          1\n",
      "99         7\n",
      "187        8\n",
      "30         8\n",
      "204        9\n",
      "       ...  \n",
      "162    46830\n",
      "170    48255\n",
      "161    60301\n",
      "237    63487\n",
      "236    69471\n",
      "Name: DOLocationID, Length: 260, dtype: int64\n"
     ]
    }
   ],
   "source": [
    "print_categorical(df.DOLocationID)"
   ]
  },
  {
   "cell_type": "markdown",
   "metadata": {},
   "source": [
    "\n",
    "- **RatecodeID**:  El código de tarifa final vigente al final del viaje.\n",
    "    - Tipo de dato: Categórica ordinal\n",
    "    - Tipo de variable: Entrada  \n",
    "\n",
    "    - 1= Standard rate\n",
    "    - 2= JFK \n",
    "    - 3= Newark\n",
    "    - 4= Nassau or Westchester\n",
    "    - 5= Negotiated fare\n",
    "    - 6= Group ride\n"
   ]
  },
  {
   "cell_type": "code",
   "execution_count": 18,
   "metadata": {},
   "outputs": [
    {
     "name": "stdout",
     "output_type": "stream",
     "text": [
      "Ordinalidad: [ 1. nan  2.  5.  3.  4. 99.  6.]\n",
      "Cantidad de nulos: 15177/1571207\n",
      "Ocurrencias:\n",
      "6.000           7\n",
      "99.000         90\n",
      "4.000        1233\n",
      "3.000        3205\n",
      "5.000        8690\n",
      "2.000       35785\n",
      "1.000     1507020\n",
      "Name: RatecodeID, dtype: int64\n"
     ]
    }
   ],
   "source": [
    "print_categorical(df.RatecodeID)"
   ]
  },
  {
   "cell_type": "markdown",
   "metadata": {},
   "source": [
    "- **store_and_fwd_flag**:  Este flag indica si el registro de viaje se llevó a cabo en la memoria del dispositivo del vehiculo antes de enviar al proveedor, también conocido como \"almacenar y reenviar\", porque el vehiculo no tenia conexion al servidor.\n",
    "    - Tipo de dato: Categórica  \n",
    "    - Tipo de variable: Entrada  \n",
    "\n",
    "    - Y= Almacenar y reenviar informacion.\n",
    "    - N= No almacenar y enviar informacion.\n"
   ]
  },
  {
   "cell_type": "code",
   "execution_count": 19,
   "metadata": {},
   "outputs": [
    {
     "name": "stdout",
     "output_type": "stream",
     "text": [
      "Ordinalidad: ['N' None 'Y']\n",
      "Cantidad de nulos: 15177/1571207\n",
      "Ocurrencias:\n",
      "Y      16018\n",
      "N    1540012\n",
      "Name: store_and_fwd_flag, dtype: int64\n"
     ]
    }
   ],
   "source": [
    "print_categorical(df.store_and_fwd_flag)"
   ]
  },
  {
   "cell_type": "markdown",
   "metadata": {},
   "source": [
    "\n",
    "- **payment_type**: Un código numérico que significa cómo el pasajero pagó por el viaje.\n",
    "    - Tipo de dato: Categórica ordinal  \n",
    "    - Tipo de variable: Entrada  \n",
    "\n",
    "    - 1= Credit card\n",
    "    - 2= Cash\n",
    "    - 3= No charge\n",
    "    - 4= Dispute\n",
    "    - 5= Unknown\n",
    "    - 6= Voided trip\n"
   ]
  },
  {
   "cell_type": "code",
   "execution_count": 20,
   "metadata": {},
   "outputs": [
    {
     "name": "stdout",
     "output_type": "stream",
     "text": [
      "Ordinalidad: [1 2 0 3 4]\n",
      "Cantidad de nulos: 0/1571207\n",
      "Ocurrencias:\n",
      "4       4598\n",
      "3       8196\n",
      "0      15177\n",
      "2     381418\n",
      "1    1161818\n",
      "Name: payment_type, dtype: int64\n"
     ]
    }
   ],
   "source": [
    "print_categorical(df.payment_type)"
   ]
  },
  {
   "cell_type": "markdown",
   "metadata": {},
   "source": [
    "- **fare_amount**: La tarifa de tiempo y distancia calculada por el taxímetro.\n",
    "    - Tipo de dato: Numérico  \n",
    "    - Tipo de variable: Salida  \n",
    "\n",
    "    - Ejemplo del dato en el dataset: 8.0\n"
   ]
  },
  {
   "cell_type": "code",
   "execution_count": 21,
   "metadata": {},
   "outputs": [
    {
     "name": "stdout",
     "output_type": "stream",
     "text": [
      "Cantidad de nulos: 0/1571207\n"
     ]
    }
   ],
   "source": [
    "print_null_info(df.fare_amount)"
   ]
  },
  {
   "cell_type": "markdown",
   "metadata": {},
   "source": [
    "- **Extra**: Varios extras y recargos. Actualmente, esto solo incluye los cargos de $0.50 y $1 por la hora pico y por la noche.\n",
    "    - Tipo de dato: Numérico  \n",
    "    - Tipo de variable: Salida  \n",
    "\n",
    "    - Ejemplo del dato en el dataset: 0.5\n"
   ]
  },
  {
   "cell_type": "code",
   "execution_count": 22,
   "metadata": {},
   "outputs": [
    {
     "name": "stdout",
     "output_type": "stream",
     "text": [
      "Cantidad de nulos: 0/1571207\n"
     ]
    }
   ],
   "source": [
    "print_null_info(df.extra)"
   ]
  },
  {
   "cell_type": "markdown",
   "metadata": {},
   "source": [
    "\n",
    "- **mta_tax**: Impuesto MTA de $0.50 que se activa automáticamente según la tasa de uso del medidor.\n",
    "    - Tipo de dato: Numérico\n",
    "    - Tipo de variable: Salida  \n",
    "\n",
    "    - Ejemplo del dato en el dataset: 0.5\n"
   ]
  },
  {
   "cell_type": "code",
   "execution_count": 23,
   "metadata": {},
   "outputs": [
    {
     "name": "stdout",
     "output_type": "stream",
     "text": [
      "Cantidad de nulos: 0/1571207\n"
     ]
    }
   ],
   "source": [
    "print_null_info(df.mta_tax)"
   ]
  },
  {
   "cell_type": "markdown",
   "metadata": {},
   "source": [
    "- **improvement_surcharge**: Recargo de mejora de $ 0.30 en viaje en el descenso de bandera. El recargo por mejora comenzó a cobrarse en 2015.\n",
    "    - Tipo de dato: Numérico  \n",
    "    - Tipo de variable: Salida  \n",
    "\n",
    "    - Ejemplo del dato en el dataset: 0.3\n"
   ]
  },
  {
   "cell_type": "code",
   "execution_count": 24,
   "metadata": {},
   "outputs": [
    {
     "name": "stdout",
     "output_type": "stream",
     "text": [
      "Cantidad de nulos: 0/1571207\n"
     ]
    }
   ],
   "source": [
    "print_null_info(df.improvement_surcharge)"
   ]
  },
  {
   "cell_type": "markdown",
   "metadata": {},
   "source": [
    "- **tip_amount**: Importe de la propina: este campo se completa automáticamente para las propinas de tarjetas de crédito. Las propinas en efectivo no están incluidas.\n",
    "    - Tipo de dato: Numérico\n",
    "    - Tipo de variable: Salida  \n",
    "\n",
    "    - Ejemplo del dato en el dataset: 0.00  \n"
   ]
  },
  {
   "cell_type": "code",
   "execution_count": 25,
   "metadata": {},
   "outputs": [
    {
     "name": "stdout",
     "output_type": "stream",
     "text": [
      "Cantidad de nulos: 0/1571207\n"
     ]
    }
   ],
   "source": [
    "print_null_info(df.tip_amount)"
   ]
  },
  {
   "cell_type": "markdown",
   "metadata": {},
   "source": [
    "- **tolls_amount**: Importe total de todos los peajes pagados en el viaje.\n",
    "    - Tipo de dato: Numérico\n",
    "    - Tipo de variable: Salida  \n",
    "    - Ejemplo del dato en el dataset: 0.00\n"
   ]
  },
  {
   "cell_type": "code",
   "execution_count": 26,
   "metadata": {},
   "outputs": [
    {
     "name": "stdout",
     "output_type": "stream",
     "text": [
      "Cantidad de nulos: 0/1571207\n"
     ]
    }
   ],
   "source": [
    "print_null_info(df.tolls_amount)"
   ]
  },
  {
   "cell_type": "markdown",
   "metadata": {},
   "source": [
    "\n",
    "- **total_amount**: El monto total cobrado a los pasajeros. No incluye propinas en efectivo.\n",
    "    - Tipo de dato: Numérico  \n",
    "    - Tipo de variable: Salida  \n",
    "    - Ejemplo del dato en el dataset: 9.30\n"
   ]
  },
  {
   "cell_type": "code",
   "execution_count": 27,
   "metadata": {},
   "outputs": [
    {
     "name": "stdout",
     "output_type": "stream",
     "text": [
      "Cantidad de nulos: 0/1571207\n"
     ]
    }
   ],
   "source": [
    "print_null_info(df.total_amount)"
   ]
  },
  {
   "cell_type": "markdown",
   "metadata": {},
   "source": [
    "- **congestion_surcharge**: Importe total recaudado en el viaje por el recargo por congestión del Estado de Nueva York.\n",
    "    - Tipo de dato: Numérico\n",
    "    - Tipo de variable: Salida  \n",
    "    - Ejemplo del dato en el dataset: 0.00\n"
   ]
  },
  {
   "cell_type": "code",
   "execution_count": 28,
   "metadata": {},
   "outputs": [
    {
     "name": "stdout",
     "output_type": "stream",
     "text": [
      "Cantidad de nulos: 15177/1571207\n"
     ]
    }
   ],
   "source": [
    "print_null_info(df.congestion_surcharge)"
   ]
  },
  {
   "cell_type": "markdown",
   "metadata": {},
   "source": [
    "- **airport_fee**: $1.25 para recoger solo en los aeropuertos LaGuardia y John F. Kennedy\n",
    "    - Tipo de dato: Numérico  \n",
    "    - Tipo de variable: Salida\n",
    "    - Ejemplo del dato en el dataset: None"
   ]
  },
  {
   "cell_type": "code",
   "execution_count": 29,
   "metadata": {},
   "outputs": [
    {
     "name": "stdout",
     "output_type": "stream",
     "text": [
      "Cantidad de nulos: 1571207/1571207\n"
     ]
    }
   ],
   "source": [
    "print_null_info(df.airport_fee)"
   ]
  },
  {
   "cell_type": "markdown",
   "metadata": {},
   "source": [
    "## 2. Limpieza de los datos\n"
   ]
  },
  {
   "cell_type": "markdown",
   "metadata": {},
   "source": [
    "### 2.1 Datos faltantes"
   ]
  },
  {
   "cell_type": "code",
   "execution_count": 30,
   "metadata": {},
   "outputs": [
    {
     "data": {
      "text/html": [
       "<div>\n",
       "<style scoped>\n",
       "    .dataframe tbody tr th:only-of-type {\n",
       "        vertical-align: middle;\n",
       "    }\n",
       "\n",
       "    .dataframe tbody tr th {\n",
       "        vertical-align: top;\n",
       "    }\n",
       "\n",
       "    .dataframe thead th {\n",
       "        text-align: right;\n",
       "    }\n",
       "</style>\n",
       "<table border=\"1\" class=\"dataframe\">\n",
       "  <thead>\n",
       "    <tr style=\"text-align: right;\">\n",
       "      <th></th>\n",
       "      <th>VendorID</th>\n",
       "      <th>passenger_count</th>\n",
       "      <th>trip_distance</th>\n",
       "      <th>RatecodeID</th>\n",
       "      <th>PULocationID</th>\n",
       "      <th>DOLocationID</th>\n",
       "      <th>payment_type</th>\n",
       "      <th>fare_amount</th>\n",
       "      <th>extra</th>\n",
       "      <th>mta_tax</th>\n",
       "      <th>tip_amount</th>\n",
       "      <th>tolls_amount</th>\n",
       "      <th>improvement_surcharge</th>\n",
       "      <th>total_amount</th>\n",
       "      <th>congestion_surcharge</th>\n",
       "    </tr>\n",
       "  </thead>\n",
       "  <tbody>\n",
       "    <tr>\n",
       "      <th>count</th>\n",
       "      <td>1571089.000</td>\n",
       "      <td>1556030.000</td>\n",
       "      <td>1571089.000</td>\n",
       "      <td>1556030.000</td>\n",
       "      <td>1571089.000</td>\n",
       "      <td>1571089.000</td>\n",
       "      <td>1571089.000</td>\n",
       "      <td>1571089.000</td>\n",
       "      <td>1571089.000</td>\n",
       "      <td>1571089.000</td>\n",
       "      <td>1571089.000</td>\n",
       "      <td>1571089.000</td>\n",
       "      <td>1571089.000</td>\n",
       "      <td>1571089.000</td>\n",
       "      <td>1556030.000</td>\n",
       "    </tr>\n",
       "    <tr>\n",
       "      <th>mean</th>\n",
       "      <td>1.673</td>\n",
       "      <td>1.503</td>\n",
       "      <td>2.897</td>\n",
       "      <td>1.058</td>\n",
       "      <td>164.495</td>\n",
       "      <td>162.313</td>\n",
       "      <td>1.252</td>\n",
       "      <td>12.608</td>\n",
       "      <td>1.106</td>\n",
       "      <td>0.492</td>\n",
       "      <td>2.190</td>\n",
       "      <td>0.329</td>\n",
       "      <td>0.298</td>\n",
       "      <td>18.550</td>\n",
       "      <td>2.297</td>\n",
       "    </tr>\n",
       "    <tr>\n",
       "      <th>std</th>\n",
       "      <td>0.470</td>\n",
       "      <td>1.144</td>\n",
       "      <td>30.832</td>\n",
       "      <td>0.825</td>\n",
       "      <td>65.759</td>\n",
       "      <td>69.993</td>\n",
       "      <td>0.486</td>\n",
       "      <td>11.685</td>\n",
       "      <td>1.256</td>\n",
       "      <td>0.073</td>\n",
       "      <td>2.688</td>\n",
       "      <td>1.805</td>\n",
       "      <td>0.035</td>\n",
       "      <td>14.291</td>\n",
       "      <td>0.706</td>\n",
       "    </tr>\n",
       "    <tr>\n",
       "      <th>min</th>\n",
       "      <td>1.000</td>\n",
       "      <td>0.000</td>\n",
       "      <td>-30.620</td>\n",
       "      <td>1.000</td>\n",
       "      <td>1.000</td>\n",
       "      <td>1.000</td>\n",
       "      <td>0.000</td>\n",
       "      <td>-500.000</td>\n",
       "      <td>-7.000</td>\n",
       "      <td>-0.500</td>\n",
       "      <td>-55.000</td>\n",
       "      <td>-38.230</td>\n",
       "      <td>-0.300</td>\n",
       "      <td>-500.300</td>\n",
       "      <td>-2.500</td>\n",
       "    </tr>\n",
       "    <tr>\n",
       "      <th>25%</th>\n",
       "      <td>1.000</td>\n",
       "      <td>1.000</td>\n",
       "      <td>0.970</td>\n",
       "      <td>1.000</td>\n",
       "      <td>125.000</td>\n",
       "      <td>113.000</td>\n",
       "      <td>1.000</td>\n",
       "      <td>6.500</td>\n",
       "      <td>0.000</td>\n",
       "      <td>0.500</td>\n",
       "      <td>0.000</td>\n",
       "      <td>0.000</td>\n",
       "      <td>0.300</td>\n",
       "      <td>11.160</td>\n",
       "      <td>2.500</td>\n",
       "    </tr>\n",
       "    <tr>\n",
       "      <th>50%</th>\n",
       "      <td>2.000</td>\n",
       "      <td>1.000</td>\n",
       "      <td>1.600</td>\n",
       "      <td>1.000</td>\n",
       "      <td>162.000</td>\n",
       "      <td>162.000</td>\n",
       "      <td>1.000</td>\n",
       "      <td>9.000</td>\n",
       "      <td>0.500</td>\n",
       "      <td>0.500</td>\n",
       "      <td>1.950</td>\n",
       "      <td>0.000</td>\n",
       "      <td>0.300</td>\n",
       "      <td>14.300</td>\n",
       "      <td>2.500</td>\n",
       "    </tr>\n",
       "    <tr>\n",
       "      <th>75%</th>\n",
       "      <td>2.000</td>\n",
       "      <td>2.000</td>\n",
       "      <td>2.930</td>\n",
       "      <td>1.000</td>\n",
       "      <td>234.000</td>\n",
       "      <td>234.000</td>\n",
       "      <td>2.000</td>\n",
       "      <td>14.000</td>\n",
       "      <td>2.500</td>\n",
       "      <td>0.500</td>\n",
       "      <td>2.860</td>\n",
       "      <td>0.000</td>\n",
       "      <td>0.300</td>\n",
       "      <td>19.850</td>\n",
       "      <td>2.500</td>\n",
       "    </tr>\n",
       "    <tr>\n",
       "      <th>max</th>\n",
       "      <td>6.000</td>\n",
       "      <td>9.000</td>\n",
       "      <td>34325.100</td>\n",
       "      <td>99.000</td>\n",
       "      <td>265.000</td>\n",
       "      <td>265.000</td>\n",
       "      <td>4.000</td>\n",
       "      <td>600.000</td>\n",
       "      <td>87.560</td>\n",
       "      <td>3.300</td>\n",
       "      <td>500.000</td>\n",
       "      <td>925.500</td>\n",
       "      <td>0.300</td>\n",
       "      <td>925.810</td>\n",
       "      <td>2.750</td>\n",
       "    </tr>\n",
       "  </tbody>\n",
       "</table>\n",
       "</div>"
      ],
      "text/plain": [
       "         VendorID  passenger_count  trip_distance  RatecodeID  PULocationID  \\\n",
       "count 1571089.000      1556030.000    1571089.000 1556030.000   1571089.000   \n",
       "mean        1.673            1.503          2.897       1.058       164.495   \n",
       "std         0.470            1.144         30.832       0.825        65.759   \n",
       "min         1.000            0.000        -30.620       1.000         1.000   \n",
       "25%         1.000            1.000          0.970       1.000       125.000   \n",
       "50%         2.000            1.000          1.600       1.000       162.000   \n",
       "75%         2.000            2.000          2.930       1.000       234.000   \n",
       "max         6.000            9.000      34325.100      99.000       265.000   \n",
       "\n",
       "       DOLocationID  payment_type  fare_amount       extra     mta_tax  \\\n",
       "count   1571089.000   1571089.000  1571089.000 1571089.000 1571089.000   \n",
       "mean        162.313         1.252       12.608       1.106       0.492   \n",
       "std          69.993         0.486       11.685       1.256       0.073   \n",
       "min           1.000         0.000     -500.000      -7.000      -0.500   \n",
       "25%         113.000         1.000        6.500       0.000       0.500   \n",
       "50%         162.000         1.000        9.000       0.500       0.500   \n",
       "75%         234.000         2.000       14.000       2.500       0.500   \n",
       "max         265.000         4.000      600.000      87.560       3.300   \n",
       "\n",
       "       tip_amount  tolls_amount  improvement_surcharge  total_amount  \\\n",
       "count 1571089.000   1571089.000            1571089.000   1571089.000   \n",
       "mean        2.190         0.329                  0.298        18.550   \n",
       "std         2.688         1.805                  0.035        14.291   \n",
       "min       -55.000       -38.230                 -0.300      -500.300   \n",
       "25%         0.000         0.000                  0.300        11.160   \n",
       "50%         1.950         0.000                  0.300        14.300   \n",
       "75%         2.860         0.000                  0.300        19.850   \n",
       "max       500.000       925.500                  0.300       925.810   \n",
       "\n",
       "       congestion_surcharge  \n",
       "count           1556030.000  \n",
       "mean                  2.297  \n",
       "std                   0.706  \n",
       "min                  -2.500  \n",
       "25%                   2.500  \n",
       "50%                   2.500  \n",
       "75%                   2.500  \n",
       "max                   2.750  "
      ]
     },
     "execution_count": 30,
     "metadata": {},
     "output_type": "execute_result"
    }
   ],
   "source": [
    "# verificamos cantidad de items repetidos y los eliminamos\n",
    "df = df.drop_duplicates()\n",
    "df.describe() #TODO: Agrego describe para que se noten las cantidades eliminadas"
   ]
  },
  {
   "cell_type": "code",
   "execution_count": 31,
   "metadata": {},
   "outputs": [
    {
     "name": "stdout",
     "output_type": "stream",
     "text": [
      "VendorID: 0/1571089\n",
      "tpep_pickup_datetime: 0/1571089\n",
      "tpep_dropoff_datetime: 0/1571089\n",
      "passenger_count: 15059/1571089\n",
      "trip_distance: 0/1571089\n",
      "RatecodeID: 15059/1571089\n",
      "store_and_fwd_flag: 15059/1571089\n",
      "PULocationID: 0/1571089\n",
      "DOLocationID: 0/1571089\n",
      "payment_type: 0/1571089\n",
      "fare_amount: 0/1571089\n",
      "extra: 0/1571089\n",
      "mta_tax: 0/1571089\n",
      "tip_amount: 0/1571089\n",
      "tolls_amount: 0/1571089\n",
      "improvement_surcharge: 0/1571089\n",
      "total_amount: 0/1571089\n",
      "congestion_surcharge: 15059/1571089\n",
      "airport_fee: 1571089/1571089\n"
     ]
    }
   ],
   "source": [
    "# verificamos cantidad de nulos en cada categoría\n",
    "for i in range(len(df.columns)):\n",
    "  col_name = df.columns[i]\n",
    "  col_data = df[col_name]\n",
    "  print(f'{col_name}: {col_data.isnull().sum()}/{col_data.size}')"
   ]
  },
  {
   "cell_type": "markdown",
   "metadata": {},
   "source": [
    "#### 2.1.1 Análisis de faltantes"
   ]
  },
  {
   "cell_type": "markdown",
   "metadata": {},
   "source": [
    "Las categorías con faltantes son las siguientes:\n",
    "\n",
    "* passenger_count: 15180/1571072\n",
    "* RatecodeID: 15180/1571072\n",
    "* store_and_fwd_flag: 15180/1571072\n",
    "* congestion_surcharge: 15180/1571072\n",
    "* airport_fee: 1571072/1571072\n",
    "\n",
    "Para cada una de estas columnas se decide:\n",
    "* __passenger_count__ es ingresado a mano por lo que los datos faltantes suponemos que corresponden a fallas en la carga por parte del conductor. Se decide eliminar los faltantes dado que representan el 1%\n",
    "* __RatecodeID__ no aporta información por lo que se elimina esta feature\n",
    "* __store_and_fwd_flag__ no aporta información por lo que se elimina esta feature\n",
    "* __congestion_surcharge__ : los faltantes representan el 1% por lo que se quitan\n",
    "* __airport_fee__ se quita ya que todos los valores son nulos\n"
   ]
  },
  {
   "cell_type": "code",
   "execution_count": 32,
   "metadata": {},
   "outputs": [
    {
     "data": {
      "text/plain": [
       "1556030"
      ]
     },
     "execution_count": 32,
     "metadata": {},
     "output_type": "execute_result"
    }
   ],
   "source": [
    "# descarto datos nulos de los features con interés (passenger count y congestion_surcharge)\n",
    "df = df.dropna(subset=['passenger_count', 'congestion_surcharge'])\n",
    "len(df['passenger_count'])"
   ]
  },
  {
   "cell_type": "markdown",
   "metadata": {},
   "source": [
    "#### 2.1.2 Datos no nulos inválidos"
   ]
  },
  {
   "cell_type": "markdown",
   "metadata": {},
   "source": [
    "En algunos features se detectan valores fuera del rango esperado (tal como valores negativos o fuera del rango de las categorías definidas)"
   ]
  },
  {
   "cell_type": "code",
   "execution_count": 33,
   "metadata": {},
   "outputs": [
    {
     "name": "stdout",
     "output_type": "stream",
     "text": [
      "trip_distance: 0/1556030\n",
      "fare_amount: 5091/1556030\n",
      "extra: 2458/1556030\n",
      "mta_tax: 4975/1556030\n",
      "tip_amount: 56/1556030\n",
      "tolls_amount: 111/1556030\n",
      "improvement_surcharge: 5087/1556030\n",
      "total_amount: 5091/1556030\n",
      "congestion_surcharge: 4023/1556030\n"
     ]
    }
   ],
   "source": [
    "# verificamos cantidad de negativos en las categorías numéricas\n",
    "cols_to_check = ['trip_distance', 'fare_amount', 'extra', 'mta_tax', 'tip_amount', 'tolls_amount', 'improvement_surcharge', 'total_amount', 'congestion_surcharge']\n",
    "\n",
    "for i, col in enumerate(cols_to_check):\n",
    "  col_data = df[col]\n",
    "  print(f'{col}: {col_data[col_data < 0].count()}/{col_data.size}')\n",
    "  "
   ]
  },
  {
   "cell_type": "code",
   "execution_count": 34,
   "metadata": {},
   "outputs": [],
   "source": [
    "# Funcion para realizar subplots de variables\n",
    "\n",
    "def plotVariables(dataframe, varArray):\n",
    "    fig = plt.figure(figsize=(30,15))\n",
    "    fig.subplots_adjust(hspace=0.4, wspace=0.4)\n",
    "    for j,colName in enumerate(varArray):\n",
    "        plt.subplot(3,3,j+1)\n",
    "        plt.plot(dataframe[colName])\n",
    "        plt.title(colName)\n",
    "        "
   ]
  },
  {
   "cell_type": "markdown",
   "metadata": {},
   "source": [
    "#### Exploración gráfica de variables con datos negativos"
   ]
  },
  {
   "cell_type": "code",
   "execution_count": 35,
   "metadata": {},
   "outputs": [
    {
     "data": {
      "image/png": "[encoded data removed]",
      "text/plain": [
       "<Figure size 2160x1080 with 9 Axes>"
      ]
     },
     "metadata": {
      "needs_background": "light"
     },
     "output_type": "display_data"
    }
   ],
   "source": [
    " #TODO: Agrego graficos para mostrar estos datos anomalos.\n",
    "# Exploración gráfica de variables con datos negativos.\n",
    "\n",
    "colArrays = ['trip_distance', 'fare_amount', 'extra', 'mta_tax', \n",
    "            'tip_amount', 'tolls_amount', 'improvement_surcharge', \n",
    "            'total_amount', 'congestion_surcharge']\n",
    "\n",
    "plotVariables(df,colArrays)\n"
   ]
  },
  {
   "cell_type": "code",
   "execution_count": 36,
   "metadata": {},
   "outputs": [
    {
     "data": {
      "text/plain": [
       "1535521"
      ]
     },
     "execution_count": 36,
     "metadata": {},
     "output_type": "execute_result"
    }
   ],
   "source": [
    "# trip distance: borro <= 0\n",
    "df = df[(df['trip_distance'] > 0)]\n",
    "# fare_amount: borro < 0\n",
    "df = df[(df['fare_amount'] >= 0)]\n",
    "# extra: borro < 0\n",
    "df = df[(df['extra'] >= 0)]\n",
    "# mta_tax: borro < 0\n",
    "df = df[(df['mta_tax'] >= 0)]\n",
    "# tip_amount: borro < 0\n",
    "df = df[(df['tip_amount'] >= 0)]\n",
    "#tolls amount: borro < 0\n",
    "df = df[(df['tolls_amount'] >= 0)]\n",
    "#improvement_surcharge: borro < 0\n",
    "df = df[(df['improvement_surcharge'] >= 0)]\n",
    "#total_amount: borro < 0\n",
    "df = df[(df['total_amount'] >= 0)]\n",
    "#congestion_surcharge: borro < 0\n",
    "df = df[(df['congestion_surcharge'] >= 0)]\n",
    "\n",
    "len(df)\n",
    "\n"
   ]
  },
  {
   "cell_type": "markdown",
   "metadata": {},
   "source": [
    "#### Exploración gráfica de datos filtrados\n"
   ]
  },
  {
   "cell_type": "code",
   "execution_count": 37,
   "metadata": {},
   "outputs": [
    {
     "data": {
      "image/png": "[encoded data removed]",
      "text/plain": [
       "<Figure size 2160x1080 with 9 Axes>"
      ]
     },
     "metadata": {
      "needs_background": "light"
     },
     "output_type": "display_data"
    }
   ],
   "source": [
    "# Datos sin valores negativos\n",
    "plotVariables(df,colArrays)"
   ]
  },
  {
   "cell_type": "markdown",
   "metadata": {},
   "source": [
    "#### 2.1.3 Filtro entradas por tipo de pago\n",
    "Descarto otros pagos diferenes de CREDIT (payment_type = 1)"
   ]
  },
  {
   "cell_type": "code",
   "execution_count": 38,
   "metadata": {},
   "outputs": [
    {
     "data": {
      "text/html": [
       "<div>\n",
       "<style scoped>\n",
       "    .dataframe tbody tr th:only-of-type {\n",
       "        vertical-align: middle;\n",
       "    }\n",
       "\n",
       "    .dataframe tbody tr th {\n",
       "        vertical-align: top;\n",
       "    }\n",
       "\n",
       "    .dataframe thead th {\n",
       "        text-align: right;\n",
       "    }\n",
       "</style>\n",
       "<table border=\"1\" class=\"dataframe\">\n",
       "  <thead>\n",
       "    <tr style=\"text-align: right;\">\n",
       "      <th></th>\n",
       "      <th>VendorID</th>\n",
       "      <th>passenger_count</th>\n",
       "      <th>trip_distance</th>\n",
       "      <th>RatecodeID</th>\n",
       "      <th>PULocationID</th>\n",
       "      <th>DOLocationID</th>\n",
       "      <th>payment_type</th>\n",
       "      <th>fare_amount</th>\n",
       "      <th>extra</th>\n",
       "      <th>mta_tax</th>\n",
       "      <th>tip_amount</th>\n",
       "      <th>tolls_amount</th>\n",
       "      <th>improvement_surcharge</th>\n",
       "      <th>total_amount</th>\n",
       "      <th>congestion_surcharge</th>\n",
       "    </tr>\n",
       "  </thead>\n",
       "  <tbody>\n",
       "    <tr>\n",
       "      <th>count</th>\n",
       "      <td>1151915.000</td>\n",
       "      <td>1151915.000</td>\n",
       "      <td>1151915.000</td>\n",
       "      <td>1151915.000</td>\n",
       "      <td>1151915.000</td>\n",
       "      <td>1151915.000</td>\n",
       "      <td>1151915.000</td>\n",
       "      <td>1151915.000</td>\n",
       "      <td>1151915.000</td>\n",
       "      <td>1151915.000</td>\n",
       "      <td>1151915.000</td>\n",
       "      <td>1151915.000</td>\n",
       "      <td>1151915.000</td>\n",
       "      <td>1151915.000</td>\n",
       "      <td>1151915.000</td>\n",
       "    </tr>\n",
       "    <tr>\n",
       "      <th>mean</th>\n",
       "      <td>1.671</td>\n",
       "      <td>1.495</td>\n",
       "      <td>2.864</td>\n",
       "      <td>1.040</td>\n",
       "      <td>166.115</td>\n",
       "      <td>163.974</td>\n",
       "      <td>1.000</td>\n",
       "      <td>12.454</td>\n",
       "      <td>1.130</td>\n",
       "      <td>0.498</td>\n",
       "      <td>2.945</td>\n",
       "      <td>0.338</td>\n",
       "      <td>0.300</td>\n",
       "      <td>19.266</td>\n",
       "      <td>2.380</td>\n",
       "    </tr>\n",
       "    <tr>\n",
       "      <th>std</th>\n",
       "      <td>0.470</td>\n",
       "      <td>1.141</td>\n",
       "      <td>3.669</td>\n",
       "      <td>0.296</td>\n",
       "      <td>65.235</td>\n",
       "      <td>69.330</td>\n",
       "      <td>0.000</td>\n",
       "      <td>10.911</td>\n",
       "      <td>1.254</td>\n",
       "      <td>0.031</td>\n",
       "      <td>2.651</td>\n",
       "      <td>1.589</td>\n",
       "      <td>0.003</td>\n",
       "      <td>13.989</td>\n",
       "      <td>0.535</td>\n",
       "    </tr>\n",
       "    <tr>\n",
       "      <th>min</th>\n",
       "      <td>1.000</td>\n",
       "      <td>0.000</td>\n",
       "      <td>0.010</td>\n",
       "      <td>1.000</td>\n",
       "      <td>1.000</td>\n",
       "      <td>1.000</td>\n",
       "      <td>1.000</td>\n",
       "      <td>0.000</td>\n",
       "      <td>0.000</td>\n",
       "      <td>0.000</td>\n",
       "      <td>0.000</td>\n",
       "      <td>0.000</td>\n",
       "      <td>0.000</td>\n",
       "      <td>0.000</td>\n",
       "      <td>0.000</td>\n",
       "    </tr>\n",
       "    <tr>\n",
       "      <th>25%</th>\n",
       "      <td>1.000</td>\n",
       "      <td>1.000</td>\n",
       "      <td>1.000</td>\n",
       "      <td>1.000</td>\n",
       "      <td>132.000</td>\n",
       "      <td>113.000</td>\n",
       "      <td>1.000</td>\n",
       "      <td>6.500</td>\n",
       "      <td>0.000</td>\n",
       "      <td>0.500</td>\n",
       "      <td>1.730</td>\n",
       "      <td>0.000</td>\n",
       "      <td>0.300</td>\n",
       "      <td>11.800</td>\n",
       "      <td>2.500</td>\n",
       "    </tr>\n",
       "    <tr>\n",
       "      <th>50%</th>\n",
       "      <td>2.000</td>\n",
       "      <td>1.000</td>\n",
       "      <td>1.650</td>\n",
       "      <td>1.000</td>\n",
       "      <td>162.000</td>\n",
       "      <td>162.000</td>\n",
       "      <td>1.000</td>\n",
       "      <td>9.000</td>\n",
       "      <td>0.500</td>\n",
       "      <td>0.500</td>\n",
       "      <td>2.320</td>\n",
       "      <td>0.000</td>\n",
       "      <td>0.300</td>\n",
       "      <td>14.800</td>\n",
       "      <td>2.500</td>\n",
       "    </tr>\n",
       "    <tr>\n",
       "      <th>75%</th>\n",
       "      <td>2.000</td>\n",
       "      <td>2.000</td>\n",
       "      <td>2.910</td>\n",
       "      <td>1.000</td>\n",
       "      <td>234.000</td>\n",
       "      <td>234.000</td>\n",
       "      <td>1.000</td>\n",
       "      <td>13.500</td>\n",
       "      <td>2.500</td>\n",
       "      <td>0.500</td>\n",
       "      <td>3.260</td>\n",
       "      <td>0.000</td>\n",
       "      <td>0.300</td>\n",
       "      <td>20.350</td>\n",
       "      <td>2.500</td>\n",
       "    </tr>\n",
       "    <tr>\n",
       "      <th>max</th>\n",
       "      <td>2.000</td>\n",
       "      <td>7.000</td>\n",
       "      <td>146.400</td>\n",
       "      <td>99.000</td>\n",
       "      <td>265.000</td>\n",
       "      <td>265.000</td>\n",
       "      <td>1.000</td>\n",
       "      <td>457.500</td>\n",
       "      <td>7.000</td>\n",
       "      <td>3.300</td>\n",
       "      <td>500.000</td>\n",
       "      <td>198.000</td>\n",
       "      <td>0.300</td>\n",
       "      <td>587.300</td>\n",
       "      <td>2.750</td>\n",
       "    </tr>\n",
       "  </tbody>\n",
       "</table>\n",
       "</div>"
      ],
      "text/plain": [
       "         VendorID  passenger_count  trip_distance  RatecodeID  PULocationID  \\\n",
       "count 1151915.000      1151915.000    1151915.000 1151915.000   1151915.000   \n",
       "mean        1.671            1.495          2.864       1.040       166.115   \n",
       "std         0.470            1.141          3.669       0.296        65.235   \n",
       "min         1.000            0.000          0.010       1.000         1.000   \n",
       "25%         1.000            1.000          1.000       1.000       132.000   \n",
       "50%         2.000            1.000          1.650       1.000       162.000   \n",
       "75%         2.000            2.000          2.910       1.000       234.000   \n",
       "max         2.000            7.000        146.400      99.000       265.000   \n",
       "\n",
       "       DOLocationID  payment_type  fare_amount       extra     mta_tax  \\\n",
       "count   1151915.000   1151915.000  1151915.000 1151915.000 1151915.000   \n",
       "mean        163.974         1.000       12.454       1.130       0.498   \n",
       "std          69.330         0.000       10.911       1.254       0.031   \n",
       "min           1.000         1.000        0.000       0.000       0.000   \n",
       "25%         113.000         1.000        6.500       0.000       0.500   \n",
       "50%         162.000         1.000        9.000       0.500       0.500   \n",
       "75%         234.000         1.000       13.500       2.500       0.500   \n",
       "max         265.000         1.000      457.500       7.000       3.300   \n",
       "\n",
       "       tip_amount  tolls_amount  improvement_surcharge  total_amount  \\\n",
       "count 1151915.000   1151915.000            1151915.000   1151915.000   \n",
       "mean        2.945         0.338                  0.300        19.266   \n",
       "std         2.651         1.589                  0.003        13.989   \n",
       "min         0.000         0.000                  0.000         0.000   \n",
       "25%         1.730         0.000                  0.300        11.800   \n",
       "50%         2.320         0.000                  0.300        14.800   \n",
       "75%         3.260         0.000                  0.300        20.350   \n",
       "max       500.000       198.000                  0.300       587.300   \n",
       "\n",
       "       congestion_surcharge  \n",
       "count           1151915.000  \n",
       "mean                  2.380  \n",
       "std                   0.535  \n",
       "min                   0.000  \n",
       "25%                   2.500  \n",
       "50%                   2.500  \n",
       "75%                   2.500  \n",
       "max                   2.750  "
      ]
     },
     "execution_count": 38,
     "metadata": {},
     "output_type": "execute_result"
    }
   ],
   "source": [
    "df = df[df[\"payment_type\"] == 1]\n",
    "df.describe()"
   ]
  },
  {
   "cell_type": "markdown",
   "metadata": {},
   "source": [
    "### 2.2 Ingeniería de datos"
   ]
  },
  {
   "cell_type": "markdown",
   "metadata": {},
   "source": [
    "#### 2.2.1 Features de tiempo y hora del día"
   ]
  },
  {
   "cell_type": "code",
   "execution_count": 39,
   "metadata": {},
   "outputs": [
    {
     "data": {
      "text/plain": [
       "(0, 0, 0)"
      ]
     },
     "execution_count": 39,
     "metadata": {},
     "output_type": "execute_result"
    }
   ],
   "source": [
    "# generamos una nueva columna \"duration\" con el tiempo de viaje\n",
    "ts_init = pd.to_datetime(df['tpep_pickup_datetime']).values.astype(np.int64) / 1000000000\n",
    "ts_end = pd.to_datetime(df['tpep_dropoff_datetime']).values.astype(np.int64) / 1000000000\n",
    "duration = ts_end - ts_init\n",
    "df['duration'] = duration\n",
    "\n",
    "# ademas creamos 3 categorías para el horario en que se inició el viaje: diurno, vespertino y nocturno\n",
    "MORNING_START = 6\n",
    "MORNING_END = 13\n",
    "AFTERNOON_START = 14\n",
    "AFTERNOON_END = 20\n",
    "EVENING_START = 21\n",
    "EVENING_END = 5 \n",
    "\n",
    "day_interval = df['tpep_pickup_datetime'].dt.hour\n",
    "df['morning'] = pd.cut(day_interval, bins=[-float('Inf'), MORNING_START - 1, MORNING_END, float('Inf')], labels=[0, 1, 0], ordered=False)\n",
    "df['afternoon'] = pd.cut(day_interval, bins=[-float('Inf'), AFTERNOON_START - 1, AFTERNOON_END, float('Inf')], labels=[0, 1, 0], ordered=False)\n",
    "df['evening'] = pd.cut(day_interval, bins=[-float('Inf'), 0, EVENING_END, EVENING_START, 23, float('Inf')], labels=[0, 1, 0, 1, 0], ordered=False)\n",
    "\n",
    "# reviso que sean validas \n",
    "df['morning'].values.isnull().sum(), df['afternoon'].values.isnull().sum(), df['evening'].values.isnull().sum()"
   ]
  },
  {
   "cell_type": "code",
   "execution_count": 40,
   "metadata": {},
   "outputs": [
    {
     "name": "stdout",
     "output_type": "stream",
     "text": [
      "Duraciones inválidas: 1\n"
     ]
    }
   ],
   "source": [
    "# termino de borrar todos los negativos\n",
    "df['morning'].values.isnull().sum(), df['afternoon'].values.isnull().sum(), df['evening'].values.isnull().sum()\n",
    "\n",
    "# verifico si tengo entradas con duration < 0\n",
    "duration_invalid = df[df['duration'] < 0]['duration'].count()\n",
    "print(f'Duraciones inválidas: {duration_invalid}')"
   ]
  },
  {
   "cell_type": "code",
   "execution_count": 41,
   "metadata": {},
   "outputs": [],
   "source": [
    "# Se eliminan las duraciones invalidas\n",
    "df = df[(df['duration'] >= 0)]"
   ]
  },
  {
   "cell_type": "markdown",
   "metadata": {},
   "source": [
    "#### 2.2.2 Codificación del origen y destino"
   ]
  },
  {
   "cell_type": "code",
   "execution_count": 42,
   "metadata": {},
   "outputs": [
    {
     "name": "stdout",
     "output_type": "stream",
     "text": [
      "[(237, 52810), (161, 51930), (236, 50833), (162, 44848), (186, 39438), (230, 38924), (234, 37793), (170, 36820), (142, 35317), (48, 33049)]\n",
      "[(0, 730152), (237, 52810), (161, 51930), (236, 50833), (162, 44848), (186, 39438), (230, 38924), (234, 37793), (170, 36820), (142, 35317), (48, 33049)]\n"
     ]
    },
    {
     "data": {
      "image/png": "[encoded data removed]",
      "text/plain": [
       "<Figure size 432x288 with 1 Axes>"
      ]
     },
     "metadata": {
      "needs_background": "light"
     },
     "output_type": "display_data"
    }
   ],
   "source": [
    "# definimos el umbral mínimo de cantidad de viajes para podar las categorías PULocationID y DOLocationID.\n",
    "# location_id_min_th_count = 0.01\n",
    "# total_items = len(df['PULocationID'])\n",
    "\n",
    "# # convertimos PULocationID usando frequency encoding y me quedo con los que representan al menos 1%\n",
    "# pulocation_id_freq_map = (df['PULocationID'].value_counts(sort=True) / total_items).to_dict()\n",
    "# df['PULocationIDFreq'] = df['PULocationID'].apply(lambda x: pulocation_id_freq_map[x])\n",
    "# # # convertimos DOLocationID\n",
    "# # dolocation_id_freq_map = (df['DOLocationID'].value_counts(sort=True) / total_items).to_dict()\n",
    "# # df['DOLocationIDFreq'] = df['DOLocationID'].apply(lambda x: dolocation_id_freq_map[x])\n",
    "\n",
    "# #pongo en 0 todas las categorías con menor frecuencia que <location_id_min_th_count>\n",
    "# def clear_location_low_values(x, th):\n",
    "#   if x <= th:\n",
    "#     return 0\n",
    "#   return x\n",
    "\n",
    "# df['PULocationIDFreq'] = df['PULocationIDFreq'].apply(lambda x: clear_location_low_values(x, location_id_min_th_count))\n",
    "# # df['DOLocationIDFreq'] = df['DOLocationIDFreq'].apply(lambda x: clear_location_low_values(x, location_id_min_th_count))\n",
    "# Contamos las apariciones de los lugares mas concurridos\n",
    "from turtle import color\n",
    "\n",
    "\n",
    "mostPickUpSites = Counter(df['PULocationID'])\n",
    "\n",
    "# Mostramos los 10 primeros.\n",
    "print(mostPickUpSites.most_common(10))\n",
    "\n",
    "aux = mostPickUpSites.most_common(10)\n",
    "most_pickup_important_places = []\n",
    "for i in aux:\n",
    "    most_pickup_important_places.append(i[0])\n",
    "\n",
    "    \n",
    "# for i, placeValue in enumerate(df['DOLocationID']):\n",
    "#     if (not placeValue in most_important_places):\n",
    "#         df.loc[i,'DOLocationID'] = 0\n",
    "\n",
    "df['PULocationID'] = np.where(df['PULocationID'].isin(most_pickup_important_places), df['PULocationID'], 0)\n",
    "\n",
    "type_feature = df['PULocationID'].value_counts()\n",
    "\n",
    "sns.barplot(x=type_feature.index, y=type_feature.values, data=df['PULocationID'])\n",
    "commonPickUpSites = Counter(df['PULocationID'])\n",
    "# Mostramos los 10 primeros.\n",
    "print(commonPickUpSites.most_common(20))\n"
   ]
  },
  {
   "cell_type": "markdown",
   "metadata": {},
   "source": [
    "#### 2.2.3 Balance de la variable de salida"
   ]
  },
  {
   "cell_type": "code",
   "execution_count": 43,
   "metadata": {},
   "outputs": [
    {
     "data": {
      "text/plain": [
       "(1, 265)"
      ]
     },
     "execution_count": 43,
     "metadata": {},
     "output_type": "execute_result"
    }
   ],
   "source": [
    "#verifico el rango de los ids\n",
    "df['DOLocationID'].min(), df['DOLocationID'].max()\n"
   ]
  },
  {
   "cell_type": "code",
   "execution_count": 44,
   "metadata": {},
   "outputs": [],
   "source": [
    "#asigno a la categoria 0 a todos los que aparecen por debajo del 1%\n",
    "# location_id_min_th_count = 0.01 * len(df)\n",
    "# df['DOLocationIDTruncated'] = df['DOLocationID'].apply(lambda x: clear_location_low_values(x, location_id_min_th_count))\n",
    "# df['DOLocationIDTruncated'].values[:10], location_id_min_th_count\n"
   ]
  },
  {
   "cell_type": "code",
   "execution_count": 45,
   "metadata": {},
   "outputs": [
    {
     "name": "stdout",
     "output_type": "stream",
     "text": [
      "[(236, 54043), (237, 47800), (161, 44572), (170, 37449), (162, 35566), (234, 33063), (142, 32709), (239, 32353), (141, 31646), (230, 30688)]\n",
      "[(0, 772025), (236, 54043), (237, 47800), (161, 44572), (170, 37449), (162, 35566), (234, 33063), (142, 32709), (239, 32353), (141, 31646), (230, 30688)]\n"
     ]
    },
    {
     "data": {
      "image/png": "[encoded data removed]",
      "text/plain": [
       "<Figure size 432x288 with 1 Axes>"
      ]
     },
     "metadata": {
      "needs_background": "light"
     },
     "output_type": "display_data"
    }
   ],
   "source": [
    "\n",
    "\n",
    "# Contamos las apariciones de los lugares mas concurridos\n",
    "mostCommonSites = Counter(df['DOLocationID'])\n",
    "\n",
    "# Mostramos los 10 primeros.\n",
    "print(mostCommonSites.most_common(10))\n",
    "\n",
    "aux = mostCommonSites.most_common(10)\n",
    "most_important_places = []\n",
    "for i in aux:\n",
    "    most_important_places.append(i[0])\n",
    "\n",
    "    \n",
    "# for i, placeValue in enumerate(df['DOLocationID']):\n",
    "#     if (not placeValue in most_important_places):\n",
    "#         df.loc[i,'DOLocationID'] = 0\n",
    "\n",
    "df['DOLocationID'] = np.where(df['DOLocationID'].isin(most_important_places), df['DOLocationID'], 0)\n",
    "\n",
    "type_feature = df['DOLocationID'].value_counts()\n",
    "\n",
    "sns.barplot(x=type_feature.index, y=type_feature.values, data=df['DOLocationID'])\n",
    "commonSites = Counter(df['DOLocationID'])\n",
    "# Mostramos los 10 primeros.\n",
    "print(commonSites.most_common(20))"
   ]
  },
  {
   "cell_type": "code",
   "execution_count": 46,
   "metadata": {},
   "outputs": [
    {
     "data": {
      "text/html": [
       "<div>\n",
       "<style scoped>\n",
       "    .dataframe tbody tr th:only-of-type {\n",
       "        vertical-align: middle;\n",
       "    }\n",
       "\n",
       "    .dataframe tbody tr th {\n",
       "        vertical-align: top;\n",
       "    }\n",
       "\n",
       "    .dataframe thead th {\n",
       "        text-align: right;\n",
       "    }\n",
       "</style>\n",
       "<table border=\"1\" class=\"dataframe\">\n",
       "  <thead>\n",
       "    <tr style=\"text-align: right;\">\n",
       "      <th></th>\n",
       "      <th>VendorID</th>\n",
       "      <th>passenger_count</th>\n",
       "      <th>trip_distance</th>\n",
       "      <th>RatecodeID</th>\n",
       "      <th>PULocationID</th>\n",
       "      <th>DOLocationID</th>\n",
       "      <th>payment_type</th>\n",
       "      <th>fare_amount</th>\n",
       "      <th>extra</th>\n",
       "      <th>mta_tax</th>\n",
       "      <th>tip_amount</th>\n",
       "      <th>tolls_amount</th>\n",
       "      <th>improvement_surcharge</th>\n",
       "      <th>total_amount</th>\n",
       "      <th>congestion_surcharge</th>\n",
       "      <th>duration</th>\n",
       "    </tr>\n",
       "  </thead>\n",
       "  <tbody>\n",
       "    <tr>\n",
       "      <th>count</th>\n",
       "      <td>1151914.000</td>\n",
       "      <td>1151914.000</td>\n",
       "      <td>1151914.000</td>\n",
       "      <td>1151914.000</td>\n",
       "      <td>1151914.000</td>\n",
       "      <td>1151914.000</td>\n",
       "      <td>1151914.000</td>\n",
       "      <td>1151914.000</td>\n",
       "      <td>1151914.000</td>\n",
       "      <td>1151914.000</td>\n",
       "      <td>1151914.000</td>\n",
       "      <td>1151914.000</td>\n",
       "      <td>1151914.000</td>\n",
       "      <td>1151914.000</td>\n",
       "      <td>1151914.000</td>\n",
       "      <td>1151914.000</td>\n",
       "    </tr>\n",
       "    <tr>\n",
       "      <th>mean</th>\n",
       "      <td>1.671</td>\n",
       "      <td>1.495</td>\n",
       "      <td>2.864</td>\n",
       "      <td>1.040</td>\n",
       "      <td>67.827</td>\n",
       "      <td>65.127</td>\n",
       "      <td>1.000</td>\n",
       "      <td>12.454</td>\n",
       "      <td>1.130</td>\n",
       "      <td>0.498</td>\n",
       "      <td>2.945</td>\n",
       "      <td>0.338</td>\n",
       "      <td>0.300</td>\n",
       "      <td>19.266</td>\n",
       "      <td>2.380</td>\n",
       "      <td>949.650</td>\n",
       "    </tr>\n",
       "    <tr>\n",
       "      <th>std</th>\n",
       "      <td>0.470</td>\n",
       "      <td>1.141</td>\n",
       "      <td>3.669</td>\n",
       "      <td>0.296</td>\n",
       "      <td>94.865</td>\n",
       "      <td>95.703</td>\n",
       "      <td>0.000</td>\n",
       "      <td>10.910</td>\n",
       "      <td>1.254</td>\n",
       "      <td>0.031</td>\n",
       "      <td>2.651</td>\n",
       "      <td>1.589</td>\n",
       "      <td>0.003</td>\n",
       "      <td>13.989</td>\n",
       "      <td>0.535</td>\n",
       "      <td>3569.593</td>\n",
       "    </tr>\n",
       "    <tr>\n",
       "      <th>min</th>\n",
       "      <td>1.000</td>\n",
       "      <td>0.000</td>\n",
       "      <td>0.010</td>\n",
       "      <td>1.000</td>\n",
       "      <td>0.000</td>\n",
       "      <td>0.000</td>\n",
       "      <td>1.000</td>\n",
       "      <td>0.000</td>\n",
       "      <td>0.000</td>\n",
       "      <td>0.000</td>\n",
       "      <td>0.000</td>\n",
       "      <td>0.000</td>\n",
       "      <td>0.000</td>\n",
       "      <td>0.000</td>\n",
       "      <td>0.000</td>\n",
       "      <td>0.000</td>\n",
       "    </tr>\n",
       "    <tr>\n",
       "      <th>25%</th>\n",
       "      <td>1.000</td>\n",
       "      <td>1.000</td>\n",
       "      <td>1.000</td>\n",
       "      <td>1.000</td>\n",
       "      <td>0.000</td>\n",
       "      <td>0.000</td>\n",
       "      <td>1.000</td>\n",
       "      <td>6.500</td>\n",
       "      <td>0.000</td>\n",
       "      <td>0.500</td>\n",
       "      <td>1.730</td>\n",
       "      <td>0.000</td>\n",
       "      <td>0.300</td>\n",
       "      <td>11.800</td>\n",
       "      <td>2.500</td>\n",
       "      <td>400.000</td>\n",
       "    </tr>\n",
       "    <tr>\n",
       "      <th>50%</th>\n",
       "      <td>2.000</td>\n",
       "      <td>1.000</td>\n",
       "      <td>1.650</td>\n",
       "      <td>1.000</td>\n",
       "      <td>0.000</td>\n",
       "      <td>0.000</td>\n",
       "      <td>1.000</td>\n",
       "      <td>9.000</td>\n",
       "      <td>0.500</td>\n",
       "      <td>0.500</td>\n",
       "      <td>2.320</td>\n",
       "      <td>0.000</td>\n",
       "      <td>0.300</td>\n",
       "      <td>14.800</td>\n",
       "      <td>2.500</td>\n",
       "      <td>645.000</td>\n",
       "    </tr>\n",
       "    <tr>\n",
       "      <th>75%</th>\n",
       "      <td>2.000</td>\n",
       "      <td>2.000</td>\n",
       "      <td>2.910</td>\n",
       "      <td>1.000</td>\n",
       "      <td>162.000</td>\n",
       "      <td>161.000</td>\n",
       "      <td>1.000</td>\n",
       "      <td>13.500</td>\n",
       "      <td>2.500</td>\n",
       "      <td>0.500</td>\n",
       "      <td>3.260</td>\n",
       "      <td>0.000</td>\n",
       "      <td>0.300</td>\n",
       "      <td>20.350</td>\n",
       "      <td>2.500</td>\n",
       "      <td>1022.000</td>\n",
       "    </tr>\n",
       "    <tr>\n",
       "      <th>max</th>\n",
       "      <td>2.000</td>\n",
       "      <td>7.000</td>\n",
       "      <td>146.400</td>\n",
       "      <td>99.000</td>\n",
       "      <td>237.000</td>\n",
       "      <td>239.000</td>\n",
       "      <td>1.000</td>\n",
       "      <td>457.500</td>\n",
       "      <td>7.000</td>\n",
       "      <td>3.300</td>\n",
       "      <td>500.000</td>\n",
       "      <td>198.000</td>\n",
       "      <td>0.300</td>\n",
       "      <td>587.300</td>\n",
       "      <td>2.750</td>\n",
       "      <td>86391.000</td>\n",
       "    </tr>\n",
       "  </tbody>\n",
       "</table>\n",
       "</div>"
      ],
      "text/plain": [
       "         VendorID  passenger_count  trip_distance  RatecodeID  PULocationID  \\\n",
       "count 1151914.000      1151914.000    1151914.000 1151914.000   1151914.000   \n",
       "mean        1.671            1.495          2.864       1.040        67.827   \n",
       "std         0.470            1.141          3.669       0.296        94.865   \n",
       "min         1.000            0.000          0.010       1.000         0.000   \n",
       "25%         1.000            1.000          1.000       1.000         0.000   \n",
       "50%         2.000            1.000          1.650       1.000         0.000   \n",
       "75%         2.000            2.000          2.910       1.000       162.000   \n",
       "max         2.000            7.000        146.400      99.000       237.000   \n",
       "\n",
       "       DOLocationID  payment_type  fare_amount       extra     mta_tax  \\\n",
       "count   1151914.000   1151914.000  1151914.000 1151914.000 1151914.000   \n",
       "mean         65.127         1.000       12.454       1.130       0.498   \n",
       "std          95.703         0.000       10.910       1.254       0.031   \n",
       "min           0.000         1.000        0.000       0.000       0.000   \n",
       "25%           0.000         1.000        6.500       0.000       0.500   \n",
       "50%           0.000         1.000        9.000       0.500       0.500   \n",
       "75%         161.000         1.000       13.500       2.500       0.500   \n",
       "max         239.000         1.000      457.500       7.000       3.300   \n",
       "\n",
       "       tip_amount  tolls_amount  improvement_surcharge  total_amount  \\\n",
       "count 1151914.000   1151914.000            1151914.000   1151914.000   \n",
       "mean        2.945         0.338                  0.300        19.266   \n",
       "std         2.651         1.589                  0.003        13.989   \n",
       "min         0.000         0.000                  0.000         0.000   \n",
       "25%         1.730         0.000                  0.300        11.800   \n",
       "50%         2.320         0.000                  0.300        14.800   \n",
       "75%         3.260         0.000                  0.300        20.350   \n",
       "max       500.000       198.000                  0.300       587.300   \n",
       "\n",
       "       congestion_surcharge    duration  \n",
       "count           1151914.000 1151914.000  \n",
       "mean                  2.380     949.650  \n",
       "std                   0.535    3569.593  \n",
       "min                   0.000       0.000  \n",
       "25%                   2.500     400.000  \n",
       "50%                   2.500     645.000  \n",
       "75%                   2.500    1022.000  \n",
       "max                   2.750   86391.000  "
      ]
     },
     "execution_count": 46,
     "metadata": {},
     "output_type": "execute_result"
    }
   ],
   "source": [
    "df.describe()"
   ]
  },
  {
   "cell_type": "markdown",
   "metadata": {},
   "source": [
    "### 2.3 Selección final de las features"
   ]
  },
  {
   "cell_type": "markdown",
   "metadata": {},
   "source": [
    "En base al procesamiento anterior, seleccionamos los siguientes features del dataset:"
   ]
  },
  {
   "cell_type": "code",
   "execution_count": 47,
   "metadata": {},
   "outputs": [
    {
     "data": {
      "text/html": [
       "<div>\n",
       "<style scoped>\n",
       "    .dataframe tbody tr th:only-of-type {\n",
       "        vertical-align: middle;\n",
       "    }\n",
       "\n",
       "    .dataframe tbody tr th {\n",
       "        vertical-align: top;\n",
       "    }\n",
       "\n",
       "    .dataframe thead th {\n",
       "        text-align: right;\n",
       "    }\n",
       "</style>\n",
       "<table border=\"1\" class=\"dataframe\">\n",
       "  <thead>\n",
       "    <tr style=\"text-align: right;\">\n",
       "      <th></th>\n",
       "      <th>passenger_count</th>\n",
       "      <th>trip_distance</th>\n",
       "      <th>fare_amount</th>\n",
       "      <th>extra</th>\n",
       "      <th>mta_tax</th>\n",
       "      <th>tip_amount</th>\n",
       "      <th>tolls_amount</th>\n",
       "      <th>improvement_surcharge</th>\n",
       "      <th>total_amount</th>\n",
       "      <th>congestion_surcharge</th>\n",
       "      <th>duration</th>\n",
       "      <th>PULocationID</th>\n",
       "      <th>morning</th>\n",
       "      <th>afternoon</th>\n",
       "      <th>evening</th>\n",
       "    </tr>\n",
       "  </thead>\n",
       "  <tbody>\n",
       "    <tr>\n",
       "      <th>0</th>\n",
       "      <td>1.000</td>\n",
       "      <td>2.990</td>\n",
       "      <td>15.500</td>\n",
       "      <td>0.500</td>\n",
       "      <td>0.500</td>\n",
       "      <td>3.860</td>\n",
       "      <td>0.000</td>\n",
       "      <td>0.300</td>\n",
       "      <td>23.160</td>\n",
       "      <td>2.500</td>\n",
       "      <td>1347.000</td>\n",
       "      <td>170</td>\n",
       "      <td>0</td>\n",
       "      <td>0</td>\n",
       "      <td>0</td>\n",
       "    </tr>\n",
       "    <tr>\n",
       "      <th>2</th>\n",
       "      <td>1.000</td>\n",
       "      <td>1.700</td>\n",
       "      <td>10.000</td>\n",
       "      <td>2.500</td>\n",
       "      <td>0.500</td>\n",
       "      <td>2.650</td>\n",
       "      <td>0.000</td>\n",
       "      <td>0.300</td>\n",
       "      <td>15.950</td>\n",
       "      <td>2.500</td>\n",
       "      <td>831.000</td>\n",
       "      <td>236</td>\n",
       "      <td>1</td>\n",
       "      <td>0</td>\n",
       "      <td>0</td>\n",
       "    </tr>\n",
       "    <tr>\n",
       "      <th>3</th>\n",
       "      <td>0.000</td>\n",
       "      <td>1.300</td>\n",
       "      <td>6.500</td>\n",
       "      <td>2.500</td>\n",
       "      <td>0.500</td>\n",
       "      <td>1.000</td>\n",
       "      <td>0.000</td>\n",
       "      <td>0.300</td>\n",
       "      <td>10.800</td>\n",
       "      <td>2.500</td>\n",
       "      <td>318.000</td>\n",
       "      <td>0</td>\n",
       "      <td>1</td>\n",
       "      <td>0</td>\n",
       "      <td>0</td>\n",
       "    </tr>\n",
       "    <tr>\n",
       "      <th>4</th>\n",
       "      <td>1.000</td>\n",
       "      <td>1.770</td>\n",
       "      <td>7.500</td>\n",
       "      <td>0.500</td>\n",
       "      <td>0.500</td>\n",
       "      <td>2.260</td>\n",
       "      <td>0.000</td>\n",
       "      <td>0.300</td>\n",
       "      <td>13.560</td>\n",
       "      <td>2.500</td>\n",
       "      <td>437.000</td>\n",
       "      <td>0</td>\n",
       "      <td>0</td>\n",
       "      <td>0</td>\n",
       "      <td>1</td>\n",
       "    </tr>\n",
       "    <tr>\n",
       "      <th>5</th>\n",
       "      <td>1.000</td>\n",
       "      <td>2.900</td>\n",
       "      <td>13.500</td>\n",
       "      <td>2.500</td>\n",
       "      <td>0.500</td>\n",
       "      <td>0.500</td>\n",
       "      <td>0.000</td>\n",
       "      <td>0.300</td>\n",
       "      <td>17.300</td>\n",
       "      <td>2.500</td>\n",
       "      <td>1063.000</td>\n",
       "      <td>0</td>\n",
       "      <td>0</td>\n",
       "      <td>1</td>\n",
       "      <td>0</td>\n",
       "    </tr>\n",
       "  </tbody>\n",
       "</table>\n",
       "</div>"
      ],
      "text/plain": [
       "   passenger_count  trip_distance  fare_amount  extra  mta_tax  tip_amount  \\\n",
       "0            1.000          2.990       15.500  0.500    0.500       3.860   \n",
       "2            1.000          1.700       10.000  2.500    0.500       2.650   \n",
       "3            0.000          1.300        6.500  2.500    0.500       1.000   \n",
       "4            1.000          1.770        7.500  0.500    0.500       2.260   \n",
       "5            1.000          2.900       13.500  2.500    0.500       0.500   \n",
       "\n",
       "   tolls_amount  improvement_surcharge  total_amount  congestion_surcharge  \\\n",
       "0         0.000                  0.300        23.160                 2.500   \n",
       "2         0.000                  0.300        15.950                 2.500   \n",
       "3         0.000                  0.300        10.800                 2.500   \n",
       "4         0.000                  0.300        13.560                 2.500   \n",
       "5         0.000                  0.300        17.300                 2.500   \n",
       "\n",
       "   duration  PULocationID morning afternoon evening  \n",
       "0  1347.000           170       0         0       0  \n",
       "2   831.000           236       1         0       0  \n",
       "3   318.000             0       1         0       0  \n",
       "4   437.000             0       0         0       1  \n",
       "5  1063.000             0       0         1       0  "
      ]
     },
     "execution_count": 47,
     "metadata": {},
     "output_type": "execute_result"
    }
   ],
   "source": [
    "\n",
    "feature_cols = [\n",
    "  'passenger_count', 'trip_distance', 'fare_amount', 'extra', \n",
    "  'mta_tax', 'tip_amount', 'tolls_amount', \n",
    "  'improvement_surcharge', 'total_amount', \n",
    "  'congestion_surcharge', 'duration', 'PULocationID',\n",
    "  'morning', 'afternoon', 'evening']\n",
    "target_col = ['DOLocationID']\n",
    "\n",
    "X = df[feature_cols]\n",
    "y = df[target_col]\n",
    "\n",
    "X.head()"
   ]
  },
  {
   "cell_type": "markdown",
   "metadata": {},
   "source": [
    "#### Eliminacion de datos con baja varianza"
   ]
  },
  {
   "cell_type": "code",
   "execution_count": 48,
   "metadata": {},
   "outputs": [
    {
     "name": "stdout",
     "output_type": "stream",
     "text": [
      "(1151914, 15)\n",
      "(1151914, 13)\n",
      "2\n",
      "mta_tax\n",
      "improvement_surcharge\n"
     ]
    },
    {
     "data": {
      "text/plain": [
       "(1151914, 13)"
      ]
     },
     "execution_count": 48,
     "metadata": {},
     "output_type": "execute_result"
    }
   ],
   "source": [
    "# TODO\n",
    "from statistics import variance\n",
    "from sklearn.feature_selection import VarianceThreshold\n",
    "\n",
    "constant_filter = VarianceThreshold(threshold=0.01)\n",
    "\n",
    "#Fit and transforming on train data\n",
    "data_constant = constant_filter.fit_transform(X)\n",
    "print(X.shape)\n",
    "print(data_constant.shape)\n",
    "\n",
    "#Extracting all constant columns using get support function of our filter\n",
    "constant_columns = [column for column in X.columns\n",
    "                    if column not in X.columns[constant_filter.get_support()]]\n",
    "\n",
    "#No. of constant columns\n",
    "print(len(constant_columns))\n",
    "\n",
    "#Constant columns names:\n",
    "for column in constant_columns:\n",
    "    print(column)\n",
    "    \n",
    "variance_X = X.drop(constant_columns,axis=1)\n",
    "variance_X.shape"
   ]
  },
  {
   "cell_type": "code",
   "execution_count": 49,
   "metadata": {},
   "outputs": [
    {
     "data": {
      "text/html": [
       "<div>\n",
       "<style scoped>\n",
       "    .dataframe tbody tr th:only-of-type {\n",
       "        vertical-align: middle;\n",
       "    }\n",
       "\n",
       "    .dataframe tbody tr th {\n",
       "        vertical-align: top;\n",
       "    }\n",
       "\n",
       "    .dataframe thead th {\n",
       "        text-align: right;\n",
       "    }\n",
       "</style>\n",
       "<table border=\"1\" class=\"dataframe\">\n",
       "  <thead>\n",
       "    <tr style=\"text-align: right;\">\n",
       "      <th></th>\n",
       "      <th>passenger_count</th>\n",
       "      <th>trip_distance</th>\n",
       "      <th>fare_amount</th>\n",
       "      <th>extra</th>\n",
       "      <th>tip_amount</th>\n",
       "      <th>tolls_amount</th>\n",
       "      <th>total_amount</th>\n",
       "      <th>congestion_surcharge</th>\n",
       "      <th>duration</th>\n",
       "      <th>PULocationID</th>\n",
       "      <th>morning</th>\n",
       "      <th>afternoon</th>\n",
       "      <th>evening</th>\n",
       "    </tr>\n",
       "  </thead>\n",
       "  <tbody>\n",
       "    <tr>\n",
       "      <th>0</th>\n",
       "      <td>1.000</td>\n",
       "      <td>2.990</td>\n",
       "      <td>15.500</td>\n",
       "      <td>0.500</td>\n",
       "      <td>3.860</td>\n",
       "      <td>0.000</td>\n",
       "      <td>23.160</td>\n",
       "      <td>2.500</td>\n",
       "      <td>1347.000</td>\n",
       "      <td>170</td>\n",
       "      <td>0</td>\n",
       "      <td>0</td>\n",
       "      <td>0</td>\n",
       "    </tr>\n",
       "    <tr>\n",
       "      <th>2</th>\n",
       "      <td>1.000</td>\n",
       "      <td>1.700</td>\n",
       "      <td>10.000</td>\n",
       "      <td>2.500</td>\n",
       "      <td>2.650</td>\n",
       "      <td>0.000</td>\n",
       "      <td>15.950</td>\n",
       "      <td>2.500</td>\n",
       "      <td>831.000</td>\n",
       "      <td>236</td>\n",
       "      <td>1</td>\n",
       "      <td>0</td>\n",
       "      <td>0</td>\n",
       "    </tr>\n",
       "    <tr>\n",
       "      <th>3</th>\n",
       "      <td>0.000</td>\n",
       "      <td>1.300</td>\n",
       "      <td>6.500</td>\n",
       "      <td>2.500</td>\n",
       "      <td>1.000</td>\n",
       "      <td>0.000</td>\n",
       "      <td>10.800</td>\n",
       "      <td>2.500</td>\n",
       "      <td>318.000</td>\n",
       "      <td>0</td>\n",
       "      <td>1</td>\n",
       "      <td>0</td>\n",
       "      <td>0</td>\n",
       "    </tr>\n",
       "    <tr>\n",
       "      <th>4</th>\n",
       "      <td>1.000</td>\n",
       "      <td>1.770</td>\n",
       "      <td>7.500</td>\n",
       "      <td>0.500</td>\n",
       "      <td>2.260</td>\n",
       "      <td>0.000</td>\n",
       "      <td>13.560</td>\n",
       "      <td>2.500</td>\n",
       "      <td>437.000</td>\n",
       "      <td>0</td>\n",
       "      <td>0</td>\n",
       "      <td>0</td>\n",
       "      <td>1</td>\n",
       "    </tr>\n",
       "    <tr>\n",
       "      <th>5</th>\n",
       "      <td>1.000</td>\n",
       "      <td>2.900</td>\n",
       "      <td>13.500</td>\n",
       "      <td>2.500</td>\n",
       "      <td>0.500</td>\n",
       "      <td>0.000</td>\n",
       "      <td>17.300</td>\n",
       "      <td>2.500</td>\n",
       "      <td>1063.000</td>\n",
       "      <td>0</td>\n",
       "      <td>0</td>\n",
       "      <td>1</td>\n",
       "      <td>0</td>\n",
       "    </tr>\n",
       "  </tbody>\n",
       "</table>\n",
       "</div>"
      ],
      "text/plain": [
       "   passenger_count  trip_distance  fare_amount  extra  tip_amount  \\\n",
       "0            1.000          2.990       15.500  0.500       3.860   \n",
       "2            1.000          1.700       10.000  2.500       2.650   \n",
       "3            0.000          1.300        6.500  2.500       1.000   \n",
       "4            1.000          1.770        7.500  0.500       2.260   \n",
       "5            1.000          2.900       13.500  2.500       0.500   \n",
       "\n",
       "   tolls_amount  total_amount  congestion_surcharge  duration  PULocationID  \\\n",
       "0         0.000        23.160                 2.500  1347.000           170   \n",
       "2         0.000        15.950                 2.500   831.000           236   \n",
       "3         0.000        10.800                 2.500   318.000             0   \n",
       "4         0.000        13.560                 2.500   437.000             0   \n",
       "5         0.000        17.300                 2.500  1063.000             0   \n",
       "\n",
       "  morning afternoon evening  \n",
       "0       0         0       0  \n",
       "2       1         0       0  \n",
       "3       1         0       0  \n",
       "4       0         0       1  \n",
       "5       0         1       0  "
      ]
     },
     "execution_count": 49,
     "metadata": {},
     "output_type": "execute_result"
    }
   ],
   "source": [
    "variance_X.head()"
   ]
  },
  {
   "cell_type": "markdown",
   "metadata": {},
   "source": [
    "#### Duracion de viaje vs Distancia recorrida."
   ]
  },
  {
   "cell_type": "code",
   "execution_count": 50,
   "metadata": {},
   "outputs": [
    {
     "data": {
      "text/plain": [
       "<AxesSubplot:xlabel='duration', ylabel='trip_distance'>"
      ]
     },
     "execution_count": 50,
     "metadata": {},
     "output_type": "execute_result"
    },
    {
     "data": {
      "image/png": "[encoded data removed]",
      "text/plain": [
       "<Figure size 432x288 with 1 Axes>"
      ]
     },
     "metadata": {
      "needs_background": "light"
     },
     "output_type": "display_data"
    }
   ],
   "source": [
    "# Grafico de duracion de viaje vs distancia recorrida.\n",
    "sns.scatterplot(x='duration', y='trip_distance', data=variance_X)"
   ]
  },
  {
   "cell_type": "markdown",
   "metadata": {},
   "source": [
    "#### Grafico de total cobrado vs distancia del viaje"
   ]
  },
  {
   "cell_type": "code",
   "execution_count": 51,
   "metadata": {},
   "outputs": [
    {
     "data": {
      "text/plain": [
       "<AxesSubplot:xlabel='trip_distance', ylabel='total_amount'>"
      ]
     },
     "execution_count": 51,
     "metadata": {},
     "output_type": "execute_result"
    },
    {
     "data": {
      "image/png": "[encoded data removed]",
      "text/plain": [
       "<Figure size 432x288 with 1 Axes>"
      ]
     },
     "metadata": {
      "needs_background": "light"
     },
     "output_type": "display_data"
    }
   ],
   "source": [
    "# Grafico de duracion de viaje vs total cobrado.\n",
    "sns.scatterplot(x='trip_distance', y='total_amount', data=variance_X)"
   ]
  },
  {
   "cell_type": "markdown",
   "metadata": {},
   "source": [
    "#### Grafico de distancia recorrida vs propina dada"
   ]
  },
  {
   "cell_type": "code",
   "execution_count": 52,
   "metadata": {},
   "outputs": [
    {
     "data": {
      "text/plain": [
       "<AxesSubplot:xlabel='trip_distance', ylabel='tip_amount'>"
      ]
     },
     "execution_count": 52,
     "metadata": {},
     "output_type": "execute_result"
    },
    {
     "data": {
      "image/png": "[encoded data removed]",
      "text/plain": [
       "<Figure size 432x288 with 1 Axes>"
      ]
     },
     "metadata": {
      "needs_background": "light"
     },
     "output_type": "display_data"
    }
   ],
   "source": [
    "# Grafico de duracion de viaje vs propinas.\n",
    "sns.scatterplot(x='trip_distance', y='tip_amount', data=variance_X)"
   ]
  },
  {
   "cell_type": "code",
   "execution_count": 53,
   "metadata": {},
   "outputs": [
    {
     "data": {
      "text/plain": [
       "<AxesSubplot:xlabel='tip_amount', ylabel='total_amount'>"
      ]
     },
     "execution_count": 53,
     "metadata": {},
     "output_type": "execute_result"
    },
    {
     "data": {
      "image/png": "[encoded data removed]",
      "text/plain": [
       "<Figure size 432x288 with 1 Axes>"
      ]
     },
     "metadata": {
      "needs_background": "light"
     },
     "output_type": "display_data"
    }
   ],
   "source": [
    "# Grafico de propinas vs total_cobrado.\n",
    "sns.scatterplot(x='tip_amount', y='total_amount', data=variance_X)"
   ]
  },
  {
   "cell_type": "code",
   "execution_count": 55,
   "metadata": {},
   "outputs": [
    {
     "data": {
      "text/plain": [
       "<AxesSubplot:xlabel='PULocationID', ylabel='total_amount'>"
      ]
     },
     "execution_count": 55,
     "metadata": {},
     "output_type": "execute_result"
    },
    {
     "data": {
      "image/png": "[encoded data removed]",
      "text/plain": [
       "<Figure size 432x288 with 1 Axes>"
      ]
     },
     "metadata": {
      "needs_background": "light"
     },
     "output_type": "display_data"
    }
   ],
   "source": [
    "# Grafico de lugares donde se inicio el viaje con mayor valor cobrado.\n",
    "sns.scatterplot(x='PULocationID', y='total_amount', data=variance_X)"
   ]
  },
  {
   "cell_type": "code",
   "execution_count": 52,
   "metadata": {},
   "outputs": [
    {
     "data": {
      "text/plain": [
       "(1151282, 1)"
      ]
     },
     "execution_count": 52,
     "metadata": {},
     "output_type": "execute_result"
    }
   ],
   "source": [
    "y.shape"
   ]
  },
  {
   "cell_type": "markdown",
   "metadata": {},
   "source": [
    "## 3.Entrenamiento de modelos \n",
    "### 3.1 Separación de datos\n"
   ]
  },
  {
   "cell_type": "code",
   "execution_count": 53,
   "metadata": {},
   "outputs": [],
   "source": [
    "# Particionamos en train y test\n",
    "train_ratio = 0.7\n",
    "test_ratio = 0.3\n",
    "\n",
    "X_train, X_test, y_train, y_test = train_test_split(X, y, stratify=y, random_state=1)\n"
   ]
  },
  {
   "cell_type": "code",
   "execution_count": 54,
   "metadata": {},
   "outputs": [
    {
     "name": "stdout",
     "output_type": "stream",
     "text": [
      "train len=863461\n",
      "test len=287821\n"
     ]
    }
   ],
   "source": [
    "#imprimo tamaños de los dataset de train y test\n",
    "print(f'train len={len(X_train)}')\n",
    "print(f'test len={len(X_test)}')"
   ]
  },
  {
   "cell_type": "markdown",
   "metadata": {},
   "source": [
    "### 3.2 Random Forest"
   ]
  },
  {
   "cell_type": "code",
   "execution_count": 55,
   "metadata": {},
   "outputs": [],
   "source": [
    "from sklearn.ensemble import RandomForestClassifier"
   ]
  },
  {
   "cell_type": "code",
   "execution_count": 56,
   "metadata": {},
   "outputs": [],
   "source": [
    "total_trees = 100 # number of trees\n",
    "max_depth = 2\n",
    "\n",
    "rf = RandomForestClassifier(n_estimators = total_trees, max_depth = max_depth, random_state=0)"
   ]
  },
  {
   "cell_type": "code",
   "execution_count": 57,
   "metadata": {},
   "outputs": [
    {
     "ename": "KeyboardInterrupt",
     "evalue": "",
     "output_type": "error",
     "traceback": [
      "\u001b[0;31m---------------------------------------------------------------------------\u001b[0m",
      "\u001b[0;31mKeyboardInterrupt\u001b[0m                         Traceback (most recent call last)",
      "\u001b[1;32m/Users/carlosdomenje/Documents/CEIA/2do - Bimestre/Repo-AD/uba-ia-add-tpfinal/TP-final-Carlos.ipynb Celda 100\u001b[0m in \u001b[0;36m<cell line: 1>\u001b[0;34m()\u001b[0m\n\u001b[0;32m----> <a href='vscode-notebook-cell:/Users/carlosdomenje/Documents/CEIA/2do%20-%20Bimestre/Repo-AD/uba-ia-add-tpfinal/TP-final-Carlos.ipynb#Y165sZmlsZQ%3D%3D?line=0'>1</a>\u001b[0m rf\u001b[39m.\u001b[39;49mfit(X_train, y_train\u001b[39m.\u001b[39;49mvalues\u001b[39m.\u001b[39;49mreshape(\u001b[39m-\u001b[39;49m\u001b[39m1\u001b[39;49m))\n",
      "File \u001b[0;32m/opt/miniconda3/envs/tp-ia/lib/python3.9/site-packages/sklearn/ensemble/_forest.py:476\u001b[0m, in \u001b[0;36mBaseForest.fit\u001b[0;34m(self, X, y, sample_weight)\u001b[0m\n\u001b[1;32m    465\u001b[0m trees \u001b[39m=\u001b[39m [\n\u001b[1;32m    466\u001b[0m     \u001b[39mself\u001b[39m\u001b[39m.\u001b[39m_make_estimator(append\u001b[39m=\u001b[39m\u001b[39mFalse\u001b[39;00m, random_state\u001b[39m=\u001b[39mrandom_state)\n\u001b[1;32m    467\u001b[0m     \u001b[39mfor\u001b[39;00m i \u001b[39min\u001b[39;00m \u001b[39mrange\u001b[39m(n_more_estimators)\n\u001b[1;32m    468\u001b[0m ]\n\u001b[1;32m    470\u001b[0m \u001b[39m# Parallel loop: we prefer the threading backend as the Cython code\u001b[39;00m\n\u001b[1;32m    471\u001b[0m \u001b[39m# for fitting the trees is internally releasing the Python GIL\u001b[39;00m\n\u001b[1;32m    472\u001b[0m \u001b[39m# making threading more efficient than multiprocessing in\u001b[39;00m\n\u001b[1;32m    473\u001b[0m \u001b[39m# that case. However, for joblib 0.12+ we respect any\u001b[39;00m\n\u001b[1;32m    474\u001b[0m \u001b[39m# parallel_backend contexts set at a higher level,\u001b[39;00m\n\u001b[1;32m    475\u001b[0m \u001b[39m# since correctness does not rely on using threads.\u001b[39;00m\n\u001b[0;32m--> 476\u001b[0m trees \u001b[39m=\u001b[39m Parallel(\n\u001b[1;32m    477\u001b[0m     n_jobs\u001b[39m=\u001b[39;49m\u001b[39mself\u001b[39;49m\u001b[39m.\u001b[39;49mn_jobs,\n\u001b[1;32m    478\u001b[0m     verbose\u001b[39m=\u001b[39;49m\u001b[39mself\u001b[39;49m\u001b[39m.\u001b[39;49mverbose,\n\u001b[1;32m    479\u001b[0m     prefer\u001b[39m=\u001b[39;49m\u001b[39m\"\u001b[39;49m\u001b[39mthreads\u001b[39;49m\u001b[39m\"\u001b[39;49m,\n\u001b[1;32m    480\u001b[0m )(\n\u001b[1;32m    481\u001b[0m     delayed(_parallel_build_trees)(\n\u001b[1;32m    482\u001b[0m         t,\n\u001b[1;32m    483\u001b[0m         \u001b[39mself\u001b[39;49m\u001b[39m.\u001b[39;49mbootstrap,\n\u001b[1;32m    484\u001b[0m         X,\n\u001b[1;32m    485\u001b[0m         y,\n\u001b[1;32m    486\u001b[0m         sample_weight,\n\u001b[1;32m    487\u001b[0m         i,\n\u001b[1;32m    488\u001b[0m         \u001b[39mlen\u001b[39;49m(trees),\n\u001b[1;32m    489\u001b[0m         verbose\u001b[39m=\u001b[39;49m\u001b[39mself\u001b[39;49m\u001b[39m.\u001b[39;49mverbose,\n\u001b[1;32m    490\u001b[0m         class_weight\u001b[39m=\u001b[39;49m\u001b[39mself\u001b[39;49m\u001b[39m.\u001b[39;49mclass_weight,\n\u001b[1;32m    491\u001b[0m         n_samples_bootstrap\u001b[39m=\u001b[39;49mn_samples_bootstrap,\n\u001b[1;32m    492\u001b[0m     )\n\u001b[1;32m    493\u001b[0m     \u001b[39mfor\u001b[39;49;00m i, t \u001b[39min\u001b[39;49;00m \u001b[39menumerate\u001b[39;49m(trees)\n\u001b[1;32m    494\u001b[0m )\n\u001b[1;32m    496\u001b[0m \u001b[39m# Collect newly grown trees\u001b[39;00m\n\u001b[1;32m    497\u001b[0m \u001b[39mself\u001b[39m\u001b[39m.\u001b[39mestimators_\u001b[39m.\u001b[39mextend(trees)\n",
      "File \u001b[0;32m/opt/miniconda3/envs/tp-ia/lib/python3.9/site-packages/joblib/parallel.py:1046\u001b[0m, in \u001b[0;36mParallel.__call__\u001b[0;34m(self, iterable)\u001b[0m\n\u001b[1;32m   1043\u001b[0m \u001b[39mif\u001b[39;00m \u001b[39mself\u001b[39m\u001b[39m.\u001b[39mdispatch_one_batch(iterator):\n\u001b[1;32m   1044\u001b[0m     \u001b[39mself\u001b[39m\u001b[39m.\u001b[39m_iterating \u001b[39m=\u001b[39m \u001b[39mself\u001b[39m\u001b[39m.\u001b[39m_original_iterator \u001b[39mis\u001b[39;00m \u001b[39mnot\u001b[39;00m \u001b[39mNone\u001b[39;00m\n\u001b[0;32m-> 1046\u001b[0m \u001b[39mwhile\u001b[39;00m \u001b[39mself\u001b[39;49m\u001b[39m.\u001b[39;49mdispatch_one_batch(iterator):\n\u001b[1;32m   1047\u001b[0m     \u001b[39mpass\u001b[39;00m\n\u001b[1;32m   1049\u001b[0m \u001b[39mif\u001b[39;00m pre_dispatch \u001b[39m==\u001b[39m \u001b[39m\"\u001b[39m\u001b[39mall\u001b[39m\u001b[39m\"\u001b[39m \u001b[39mor\u001b[39;00m n_jobs \u001b[39m==\u001b[39m \u001b[39m1\u001b[39m:\n\u001b[1;32m   1050\u001b[0m     \u001b[39m# The iterable was consumed all at once by the above for loop.\u001b[39;00m\n\u001b[1;32m   1051\u001b[0m     \u001b[39m# No need to wait for async callbacks to trigger to\u001b[39;00m\n\u001b[1;32m   1052\u001b[0m     \u001b[39m# consumption.\u001b[39;00m\n",
      "File \u001b[0;32m/opt/miniconda3/envs/tp-ia/lib/python3.9/site-packages/joblib/parallel.py:861\u001b[0m, in \u001b[0;36mParallel.dispatch_one_batch\u001b[0;34m(self, iterator)\u001b[0m\n\u001b[1;32m    859\u001b[0m     \u001b[39mreturn\u001b[39;00m \u001b[39mFalse\u001b[39;00m\n\u001b[1;32m    860\u001b[0m \u001b[39melse\u001b[39;00m:\n\u001b[0;32m--> 861\u001b[0m     \u001b[39mself\u001b[39;49m\u001b[39m.\u001b[39;49m_dispatch(tasks)\n\u001b[1;32m    862\u001b[0m     \u001b[39mreturn\u001b[39;00m \u001b[39mTrue\u001b[39;00m\n",
      "File \u001b[0;32m/opt/miniconda3/envs/tp-ia/lib/python3.9/site-packages/joblib/parallel.py:779\u001b[0m, in \u001b[0;36mParallel._dispatch\u001b[0;34m(self, batch)\u001b[0m\n\u001b[1;32m    777\u001b[0m \u001b[39mwith\u001b[39;00m \u001b[39mself\u001b[39m\u001b[39m.\u001b[39m_lock:\n\u001b[1;32m    778\u001b[0m     job_idx \u001b[39m=\u001b[39m \u001b[39mlen\u001b[39m(\u001b[39mself\u001b[39m\u001b[39m.\u001b[39m_jobs)\n\u001b[0;32m--> 779\u001b[0m     job \u001b[39m=\u001b[39m \u001b[39mself\u001b[39;49m\u001b[39m.\u001b[39;49m_backend\u001b[39m.\u001b[39;49mapply_async(batch, callback\u001b[39m=\u001b[39;49mcb)\n\u001b[1;32m    780\u001b[0m     \u001b[39m# A job can complete so quickly than its callback is\u001b[39;00m\n\u001b[1;32m    781\u001b[0m     \u001b[39m# called before we get here, causing self._jobs to\u001b[39;00m\n\u001b[1;32m    782\u001b[0m     \u001b[39m# grow. To ensure correct results ordering, .insert is\u001b[39;00m\n\u001b[1;32m    783\u001b[0m     \u001b[39m# used (rather than .append) in the following line\u001b[39;00m\n\u001b[1;32m    784\u001b[0m     \u001b[39mself\u001b[39m\u001b[39m.\u001b[39m_jobs\u001b[39m.\u001b[39minsert(job_idx, job)\n",
      "File \u001b[0;32m/opt/miniconda3/envs/tp-ia/lib/python3.9/site-packages/joblib/_parallel_backends.py:208\u001b[0m, in \u001b[0;36mSequentialBackend.apply_async\u001b[0;34m(self, func, callback)\u001b[0m\n\u001b[1;32m    206\u001b[0m \u001b[39mdef\u001b[39;00m \u001b[39mapply_async\u001b[39m(\u001b[39mself\u001b[39m, func, callback\u001b[39m=\u001b[39m\u001b[39mNone\u001b[39;00m):\n\u001b[1;32m    207\u001b[0m     \u001b[39m\"\"\"Schedule a func to be run\"\"\"\u001b[39;00m\n\u001b[0;32m--> 208\u001b[0m     result \u001b[39m=\u001b[39m ImmediateResult(func)\n\u001b[1;32m    209\u001b[0m     \u001b[39mif\u001b[39;00m callback:\n\u001b[1;32m    210\u001b[0m         callback(result)\n",
      "File \u001b[0;32m/opt/miniconda3/envs/tp-ia/lib/python3.9/site-packages/joblib/_parallel_backends.py:572\u001b[0m, in \u001b[0;36mImmediateResult.__init__\u001b[0;34m(self, batch)\u001b[0m\n\u001b[1;32m    569\u001b[0m \u001b[39mdef\u001b[39;00m \u001b[39m__init__\u001b[39m(\u001b[39mself\u001b[39m, batch):\n\u001b[1;32m    570\u001b[0m     \u001b[39m# Don't delay the application, to avoid keeping the input\u001b[39;00m\n\u001b[1;32m    571\u001b[0m     \u001b[39m# arguments in memory\u001b[39;00m\n\u001b[0;32m--> 572\u001b[0m     \u001b[39mself\u001b[39m\u001b[39m.\u001b[39mresults \u001b[39m=\u001b[39m batch()\n",
      "File \u001b[0;32m/opt/miniconda3/envs/tp-ia/lib/python3.9/site-packages/joblib/parallel.py:262\u001b[0m, in \u001b[0;36mBatchedCalls.__call__\u001b[0;34m(self)\u001b[0m\n\u001b[1;32m    258\u001b[0m \u001b[39mdef\u001b[39;00m \u001b[39m__call__\u001b[39m(\u001b[39mself\u001b[39m):\n\u001b[1;32m    259\u001b[0m     \u001b[39m# Set the default nested backend to self._backend but do not set the\u001b[39;00m\n\u001b[1;32m    260\u001b[0m     \u001b[39m# change the default number of processes to -1\u001b[39;00m\n\u001b[1;32m    261\u001b[0m     \u001b[39mwith\u001b[39;00m parallel_backend(\u001b[39mself\u001b[39m\u001b[39m.\u001b[39m_backend, n_jobs\u001b[39m=\u001b[39m\u001b[39mself\u001b[39m\u001b[39m.\u001b[39m_n_jobs):\n\u001b[0;32m--> 262\u001b[0m         \u001b[39mreturn\u001b[39;00m [func(\u001b[39m*\u001b[39margs, \u001b[39m*\u001b[39m\u001b[39m*\u001b[39mkwargs)\n\u001b[1;32m    263\u001b[0m                 \u001b[39mfor\u001b[39;00m func, args, kwargs \u001b[39min\u001b[39;00m \u001b[39mself\u001b[39m\u001b[39m.\u001b[39mitems]\n",
      "File \u001b[0;32m/opt/miniconda3/envs/tp-ia/lib/python3.9/site-packages/joblib/parallel.py:262\u001b[0m, in \u001b[0;36m<listcomp>\u001b[0;34m(.0)\u001b[0m\n\u001b[1;32m    258\u001b[0m \u001b[39mdef\u001b[39;00m \u001b[39m__call__\u001b[39m(\u001b[39mself\u001b[39m):\n\u001b[1;32m    259\u001b[0m     \u001b[39m# Set the default nested backend to self._backend but do not set the\u001b[39;00m\n\u001b[1;32m    260\u001b[0m     \u001b[39m# change the default number of processes to -1\u001b[39;00m\n\u001b[1;32m    261\u001b[0m     \u001b[39mwith\u001b[39;00m parallel_backend(\u001b[39mself\u001b[39m\u001b[39m.\u001b[39m_backend, n_jobs\u001b[39m=\u001b[39m\u001b[39mself\u001b[39m\u001b[39m.\u001b[39m_n_jobs):\n\u001b[0;32m--> 262\u001b[0m         \u001b[39mreturn\u001b[39;00m [func(\u001b[39m*\u001b[39;49margs, \u001b[39m*\u001b[39;49m\u001b[39m*\u001b[39;49mkwargs)\n\u001b[1;32m    263\u001b[0m                 \u001b[39mfor\u001b[39;00m func, args, kwargs \u001b[39min\u001b[39;00m \u001b[39mself\u001b[39m\u001b[39m.\u001b[39mitems]\n",
      "File \u001b[0;32m/opt/miniconda3/envs/tp-ia/lib/python3.9/site-packages/sklearn/utils/fixes.py:117\u001b[0m, in \u001b[0;36m_FuncWrapper.__call__\u001b[0;34m(self, *args, **kwargs)\u001b[0m\n\u001b[1;32m    115\u001b[0m \u001b[39mdef\u001b[39;00m \u001b[39m__call__\u001b[39m(\u001b[39mself\u001b[39m, \u001b[39m*\u001b[39margs, \u001b[39m*\u001b[39m\u001b[39m*\u001b[39mkwargs):\n\u001b[1;32m    116\u001b[0m     \u001b[39mwith\u001b[39;00m config_context(\u001b[39m*\u001b[39m\u001b[39m*\u001b[39m\u001b[39mself\u001b[39m\u001b[39m.\u001b[39mconfig):\n\u001b[0;32m--> 117\u001b[0m         \u001b[39mreturn\u001b[39;00m \u001b[39mself\u001b[39;49m\u001b[39m.\u001b[39;49mfunction(\u001b[39m*\u001b[39;49margs, \u001b[39m*\u001b[39;49m\u001b[39m*\u001b[39;49mkwargs)\n",
      "File \u001b[0;32m/opt/miniconda3/envs/tp-ia/lib/python3.9/site-packages/sklearn/ensemble/_forest.py:189\u001b[0m, in \u001b[0;36m_parallel_build_trees\u001b[0;34m(tree, bootstrap, X, y, sample_weight, tree_idx, n_trees, verbose, class_weight, n_samples_bootstrap)\u001b[0m\n\u001b[1;32m    186\u001b[0m     \u001b[39melif\u001b[39;00m class_weight \u001b[39m==\u001b[39m \u001b[39m\"\u001b[39m\u001b[39mbalanced_subsample\u001b[39m\u001b[39m\"\u001b[39m:\n\u001b[1;32m    187\u001b[0m         curr_sample_weight \u001b[39m*\u001b[39m\u001b[39m=\u001b[39m compute_sample_weight(\u001b[39m\"\u001b[39m\u001b[39mbalanced\u001b[39m\u001b[39m\"\u001b[39m, y, indices\u001b[39m=\u001b[39mindices)\n\u001b[0;32m--> 189\u001b[0m     tree\u001b[39m.\u001b[39;49mfit(X, y, sample_weight\u001b[39m=\u001b[39;49mcurr_sample_weight, check_input\u001b[39m=\u001b[39;49m\u001b[39mFalse\u001b[39;49;00m)\n\u001b[1;32m    190\u001b[0m \u001b[39melse\u001b[39;00m:\n\u001b[1;32m    191\u001b[0m     tree\u001b[39m.\u001b[39mfit(X, y, sample_weight\u001b[39m=\u001b[39msample_weight, check_input\u001b[39m=\u001b[39m\u001b[39mFalse\u001b[39;00m)\n",
      "File \u001b[0;32m/opt/miniconda3/envs/tp-ia/lib/python3.9/site-packages/sklearn/tree/_classes.py:969\u001b[0m, in \u001b[0;36mDecisionTreeClassifier.fit\u001b[0;34m(self, X, y, sample_weight, check_input)\u001b[0m\n\u001b[1;32m    939\u001b[0m \u001b[39mdef\u001b[39;00m \u001b[39mfit\u001b[39m(\u001b[39mself\u001b[39m, X, y, sample_weight\u001b[39m=\u001b[39m\u001b[39mNone\u001b[39;00m, check_input\u001b[39m=\u001b[39m\u001b[39mTrue\u001b[39;00m):\n\u001b[1;32m    940\u001b[0m     \u001b[39m\"\"\"Build a decision tree classifier from the training set (X, y).\u001b[39;00m\n\u001b[1;32m    941\u001b[0m \n\u001b[1;32m    942\u001b[0m \u001b[39m    Parameters\u001b[39;00m\n\u001b[0;32m   (...)\u001b[0m\n\u001b[1;32m    966\u001b[0m \u001b[39m        Fitted estimator.\u001b[39;00m\n\u001b[1;32m    967\u001b[0m \u001b[39m    \"\"\"\u001b[39;00m\n\u001b[0;32m--> 969\u001b[0m     \u001b[39msuper\u001b[39;49m()\u001b[39m.\u001b[39;49mfit(\n\u001b[1;32m    970\u001b[0m         X,\n\u001b[1;32m    971\u001b[0m         y,\n\u001b[1;32m    972\u001b[0m         sample_weight\u001b[39m=\u001b[39;49msample_weight,\n\u001b[1;32m    973\u001b[0m         check_input\u001b[39m=\u001b[39;49mcheck_input,\n\u001b[1;32m    974\u001b[0m     )\n\u001b[1;32m    975\u001b[0m     \u001b[39mreturn\u001b[39;00m \u001b[39mself\u001b[39m\n",
      "File \u001b[0;32m/opt/miniconda3/envs/tp-ia/lib/python3.9/site-packages/sklearn/tree/_classes.py:458\u001b[0m, in \u001b[0;36mBaseDecisionTree.fit\u001b[0;34m(self, X, y, sample_weight, check_input)\u001b[0m\n\u001b[1;32m    447\u001b[0m \u001b[39melse\u001b[39;00m:\n\u001b[1;32m    448\u001b[0m     builder \u001b[39m=\u001b[39m BestFirstTreeBuilder(\n\u001b[1;32m    449\u001b[0m         splitter,\n\u001b[1;32m    450\u001b[0m         min_samples_split,\n\u001b[0;32m   (...)\u001b[0m\n\u001b[1;32m    455\u001b[0m         \u001b[39mself\u001b[39m\u001b[39m.\u001b[39mmin_impurity_decrease,\n\u001b[1;32m    456\u001b[0m     )\n\u001b[0;32m--> 458\u001b[0m builder\u001b[39m.\u001b[39;49mbuild(\u001b[39mself\u001b[39;49m\u001b[39m.\u001b[39;49mtree_, X, y, sample_weight)\n\u001b[1;32m    460\u001b[0m \u001b[39mif\u001b[39;00m \u001b[39mself\u001b[39m\u001b[39m.\u001b[39mn_outputs_ \u001b[39m==\u001b[39m \u001b[39m1\u001b[39m \u001b[39mand\u001b[39;00m is_classifier(\u001b[39mself\u001b[39m):\n\u001b[1;32m    461\u001b[0m     \u001b[39mself\u001b[39m\u001b[39m.\u001b[39mn_classes_ \u001b[39m=\u001b[39m \u001b[39mself\u001b[39m\u001b[39m.\u001b[39mn_classes_[\u001b[39m0\u001b[39m]\n",
      "\u001b[0;31mKeyboardInterrupt\u001b[0m: "
     ]
    }
   ],
   "source": [
    "rf.fit(X_train, y_train.values.reshape(-1))\n"
   ]
  },
  {
   "cell_type": "code",
   "execution_count": null,
   "metadata": {},
   "outputs": [],
   "source": [
    "\n",
    "# Utilizamos el método de predicción en los datos de prueba\n",
    "y_rf_pred = rf.predict(X_test)"
   ]
  },
  {
   "cell_type": "code",
   "execution_count": null,
   "metadata": {},
   "outputs": [],
   "source": [
    "print(classification_report(y_test,y_rf_pred))\n",
    "print('Area bajo la curva ROC:',np.round(roc_auc_score(y_test,y_rf_pred),4))\n",
    "# rf_precision, rf_recall, rf_threshold=precision_recall_curve(y_test, y_rf_pred)\n",
    "# print('Area bajo la curva Precision-Recall:',np.round(auc(rf_recall,rf_precision),4))\n",
    "# plot_confusion_matrix(rf, X_test, y_test,cmap='Blues')"
   ]
  },
  {
   "cell_type": "markdown",
   "metadata": {},
   "source": [
    "### 3.3 Regresión logística"
   ]
  },
  {
   "cell_type": "code",
   "execution_count": null,
   "metadata": {},
   "outputs": [],
   "source": [
    "def logistic_regression_report(X_train,X_test,y_train,y_test):\n",
    "    \n",
    "    scaler=StandardScaler()  \n",
    "    \n",
    "    X_train_sc=scaler.fit_transform(X_train) # Estandarizamos los datos     \n",
    "    X_test_sc=scaler.transform(X_test)\n",
    "        \n",
    "    model=LogisticRegressionCV(scoring='f1')\n",
    "    \n",
    "    model.fit(X_train_sc,y_train)\n",
    "    y_pred=model.predict(X_test_sc)\n",
    "    y_proba=model.predict_proba(X_test_sc)\n",
    "    \n",
    "    print(classification_report(y_test,y_pred))    \n",
    "    print('Area bajo la curva ROC:',np.round(roc_auc_score(y_test,y_proba[:,1]),4))    \n",
    "    precision, recall,threshold=precision_recall_curve(y_test,y_proba[:,1])\n",
    "    print('Area bajo la curva Precision-Recall:',np.round(auc(recall,precision),4))\n",
    "    print(f'Precision:{precision}, Recall: {recall}:')\n",
    "    plot_confusion_matrix(model,X_test_sc,y_test,cmap='Blues')"
   ]
  },
  {
   "cell_type": "code",
   "execution_count": null,
   "metadata": {},
   "outputs": [],
   "source": [
    "#logistic_regression_report(X_train, X_test, y_train, y_test)\n",
    "scaler = StandardScaler()  \n",
    "X_train_sc = scaler.fit_transform(X_train) # Estandarizamos los datos     \n",
    "X_test_sc = scaler.transform(X_test)\n",
    "\n",
    "lr = LogisticRegression(random_state = 1)\n",
    "lr.fit(X_train_sc,y_train)\n",
    "y_lr_pred = lr.predict(X_test_sc)\n",
    "lr_precision, lr_recall, lr_threshold=precision_recall_curve(y_test,y_lr_pred)\n",
    "\n",
    "lr_precision, lr_recall, lr_threshold"
   ]
  },
  {
   "cell_type": "code",
   "execution_count": null,
   "metadata": {},
   "outputs": [],
   "source": [
    "lr_precision"
   ]
  },
  {
   "cell_type": "markdown",
   "metadata": {},
   "source": [
    "# TODO - Falta terminar\n",
    "\n",
    "1. Aplicar filtrado Kendall para analizar las variables de entrada con respecto a la de salida\n",
    "2. Analizar variables con poca varianza\n",
    "3. Quedarse con las 10 Locations mas importantes de Pick Up y Drop Off y todas las otras meterlas en un id 0 (others)\n",
    "4. Correr Random Forest y Linear regression. Obtener los feature importance.\n",
    "5. Ejecutar pyCaret para ver en que concluye el automl"
   ]
  }
 ],
 "metadata": {
  "kernelspec": {
   "display_name": "Python 3.9.13 ('tp-ia')",
   "language": "python",
   "name": "python3"
  },
  "language_info": {
   "codemirror_mode": {
    "name": "ipython",
    "version": 3
   },
   "file_extension": ".py",
   "mimetype": "text/x-python",
   "name": "python",
   "nbconvert_exporter": "python",
   "pygments_lexer": "ipython3",
   "version": "3.9.13"
  },
  "vscode": {
   "interpreter": {
    "hash": "ff0b56c2c11e01fc93064e55eb1d315134029652b3f23c7e2f48e46ed7de5886"
   }
  }
 },
 "nbformat": 4,
 "nbformat_minor": 4
}
