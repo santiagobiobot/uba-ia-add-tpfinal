{
 "cells": [
  {
   "cell_type": "markdown",
   "metadata": {
    "slideshow": {
     "slide_type": "slide"
    }
   },
   "source": [
    "# Trabajo Final. Análisis de Datos"
   ]
  },
  {
   "cell_type": "markdown",
   "metadata": {},
   "source": [
    "## Alumnos:\n",
    "\n",
    "### Domenje, Carlos R.\n",
    "\n",
    "### Fux, Santiago.\n",
    "\n",
    "---"
   ]
  },
  {
   "cell_type": "markdown",
   "metadata": {
    "slideshow": {
     "slide_type": "slide"
    }
   },
   "source": [
    "## DATASET: Uso de Taxis Yellow Cab en USA en el año 2020\n",
    "\n",
    "**Problema.** Responderemos a la siguiente pregunta\n",
    "\n",
    "1. ¿Existe una manera de caracterizar los lugares más recurrentes para inicio / fin de viaje?\n"
   ]
  },
  {
   "cell_type": "markdown",
   "metadata": {},
   "source": [
    "## 1. Obtención de datos\n",
    "\n",
    "Para importar los datos, buscamos en la página web brindada por la cátedra:\n",
    "\n",
    "- [Yellow Cab - Dataset](https://www1.nyc.gov/site/tlc/about/tlc-trip-record-data.page)\n",
    "\n",
    "**Nota**: El dataset utilizado será el del año 2020, los tres primeros meses (Enero, Febrero, Marzo) y será descargado en una carpeta llamada \"data\" dentro de la carpeta contenedora del proyecto."
   ]
  },
  {
   "cell_type": "code",
   "execution_count": 1,
   "metadata": {
    "scrolled": true
   },
   "outputs": [],
   "source": [
    "# Path del dataset a utilizar.\n",
    "DATASET_PATH = r'./data'"
   ]
  },
  {
   "cell_type": "code",
   "execution_count": 2,
   "metadata": {},
   "outputs": [
    {
     "name": "stdout",
     "output_type": "stream",
     "text": [
      "yellow_tripdata_2020-01.parquet yellow_tripdata_2020-03.parquet\n",
      "yellow_tripdata_2020-02.parquet\n"
     ]
    }
   ],
   "source": [
    "# listamos los archivos que se encuentran en el path\n",
    "!ls {DATASET_PATH}"
   ]
  },
  {
   "cell_type": "code",
   "execution_count": 3,
   "metadata": {},
   "outputs": [],
   "source": [
    "# Importamos las librerias necesarias para interactuar con el dataset.\n",
    "\n",
    "import pandas as pd\n",
    "import glob\n",
    "import matplotlib\n",
    "import matplotlib.pyplot as plt\n",
    "import numpy as np\n",
    "import seaborn as sns; sns.set()\n",
    "import scipy.stats as stats\n",
    "import sklearn as sk\n",
    "from sklearn.model_selection import train_test_split\n",
    "from sklearn.linear_model import LogisticRegression, LogisticRegressionCV\n",
    "from sklearn.metrics import accuracy_score,plot_confusion_matrix,roc_auc_score, classification_report, confusion_matrix, precision_recall_curve, auc\n",
    "from sklearn.preprocessing import StandardScaler\n",
    "from collections import Counter\n",
    "# Set decimals format with 3 decimals\n",
    "pd.set_option('display.float_format', lambda x: '%.3f' % x)"
   ]
  },
  {
   "cell_type": "code",
   "execution_count": 4,
   "metadata": {},
   "outputs": [
    {
     "data": {
      "text/html": [
       "<div>\n",
       "<style scoped>\n",
       "    .dataframe tbody tr th:only-of-type {\n",
       "        vertical-align: middle;\n",
       "    }\n",
       "\n",
       "    .dataframe tbody tr th {\n",
       "        vertical-align: top;\n",
       "    }\n",
       "\n",
       "    .dataframe thead th {\n",
       "        text-align: right;\n",
       "    }\n",
       "</style>\n",
       "<table border=\"1\" class=\"dataframe\">\n",
       "  <thead>\n",
       "    <tr style=\"text-align: right;\">\n",
       "      <th></th>\n",
       "      <th>VendorID</th>\n",
       "      <th>passenger_count</th>\n",
       "      <th>trip_distance</th>\n",
       "      <th>RatecodeID</th>\n",
       "      <th>PULocationID</th>\n",
       "      <th>DOLocationID</th>\n",
       "      <th>payment_type</th>\n",
       "      <th>fare_amount</th>\n",
       "      <th>extra</th>\n",
       "      <th>mta_tax</th>\n",
       "      <th>tip_amount</th>\n",
       "      <th>tolls_amount</th>\n",
       "      <th>improvement_surcharge</th>\n",
       "      <th>total_amount</th>\n",
       "      <th>congestion_surcharge</th>\n",
       "    </tr>\n",
       "  </thead>\n",
       "  <tbody>\n",
       "    <tr>\n",
       "      <th>count</th>\n",
       "      <td>1571207.000</td>\n",
       "      <td>1555914.000</td>\n",
       "      <td>1571207.000</td>\n",
       "      <td>1555914.000</td>\n",
       "      <td>1571207.000</td>\n",
       "      <td>1571207.000</td>\n",
       "      <td>1571207.000</td>\n",
       "      <td>1571207.000</td>\n",
       "      <td>1571207.000</td>\n",
       "      <td>1571207.000</td>\n",
       "      <td>1571207.000</td>\n",
       "      <td>1571207.000</td>\n",
       "      <td>1571207.000</td>\n",
       "      <td>1571207.000</td>\n",
       "      <td>1555914.000</td>\n",
       "    </tr>\n",
       "    <tr>\n",
       "      <th>mean</th>\n",
       "      <td>1.673</td>\n",
       "      <td>1.503</td>\n",
       "      <td>2.952</td>\n",
       "      <td>1.055</td>\n",
       "      <td>164.377</td>\n",
       "      <td>162.263</td>\n",
       "      <td>1.253</td>\n",
       "      <td>12.613</td>\n",
       "      <td>1.106</td>\n",
       "      <td>0.492</td>\n",
       "      <td>2.192</td>\n",
       "      <td>0.330</td>\n",
       "      <td>0.298</td>\n",
       "      <td>18.555</td>\n",
       "      <td>2.296</td>\n",
       "    </tr>\n",
       "    <tr>\n",
       "      <th>std</th>\n",
       "      <td>0.470</td>\n",
       "      <td>1.144</td>\n",
       "      <td>70.082</td>\n",
       "      <td>0.715</td>\n",
       "      <td>65.722</td>\n",
       "      <td>70.048</td>\n",
       "      <td>0.486</td>\n",
       "      <td>12.480</td>\n",
       "      <td>1.256</td>\n",
       "      <td>0.074</td>\n",
       "      <td>2.709</td>\n",
       "      <td>1.578</td>\n",
       "      <td>0.035</td>\n",
       "      <td>14.931</td>\n",
       "      <td>0.707</td>\n",
       "    </tr>\n",
       "    <tr>\n",
       "      <th>min</th>\n",
       "      <td>1.000</td>\n",
       "      <td>0.000</td>\n",
       "      <td>-30.620</td>\n",
       "      <td>1.000</td>\n",
       "      <td>1.000</td>\n",
       "      <td>1.000</td>\n",
       "      <td>0.000</td>\n",
       "      <td>-1238.000</td>\n",
       "      <td>-17.690</td>\n",
       "      <td>-0.500</td>\n",
       "      <td>-40.000</td>\n",
       "      <td>-25.000</td>\n",
       "      <td>-0.300</td>\n",
       "      <td>-1242.300</td>\n",
       "      <td>-2.500</td>\n",
       "    </tr>\n",
       "    <tr>\n",
       "      <th>25%</th>\n",
       "      <td>1.000</td>\n",
       "      <td>1.000</td>\n",
       "      <td>0.970</td>\n",
       "      <td>1.000</td>\n",
       "      <td>125.000</td>\n",
       "      <td>113.000</td>\n",
       "      <td>1.000</td>\n",
       "      <td>6.500</td>\n",
       "      <td>0.000</td>\n",
       "      <td>0.500</td>\n",
       "      <td>0.000</td>\n",
       "      <td>0.000</td>\n",
       "      <td>0.300</td>\n",
       "      <td>11.160</td>\n",
       "      <td>2.500</td>\n",
       "    </tr>\n",
       "    <tr>\n",
       "      <th>50%</th>\n",
       "      <td>2.000</td>\n",
       "      <td>1.000</td>\n",
       "      <td>1.600</td>\n",
       "      <td>1.000</td>\n",
       "      <td>162.000</td>\n",
       "      <td>162.000</td>\n",
       "      <td>1.000</td>\n",
       "      <td>9.000</td>\n",
       "      <td>0.500</td>\n",
       "      <td>0.500</td>\n",
       "      <td>1.950</td>\n",
       "      <td>0.000</td>\n",
       "      <td>0.300</td>\n",
       "      <td>14.300</td>\n",
       "      <td>2.500</td>\n",
       "    </tr>\n",
       "    <tr>\n",
       "      <th>75%</th>\n",
       "      <td>2.000</td>\n",
       "      <td>2.000</td>\n",
       "      <td>2.930</td>\n",
       "      <td>1.000</td>\n",
       "      <td>234.000</td>\n",
       "      <td>234.000</td>\n",
       "      <td>2.000</td>\n",
       "      <td>14.000</td>\n",
       "      <td>2.500</td>\n",
       "      <td>0.500</td>\n",
       "      <td>2.860</td>\n",
       "      <td>0.000</td>\n",
       "      <td>0.300</td>\n",
       "      <td>19.890</td>\n",
       "      <td>2.500</td>\n",
       "    </tr>\n",
       "    <tr>\n",
       "      <th>max</th>\n",
       "      <td>6.000</td>\n",
       "      <td>9.000</td>\n",
       "      <td>70137.720</td>\n",
       "      <td>99.000</td>\n",
       "      <td>265.000</td>\n",
       "      <td>265.000</td>\n",
       "      <td>4.000</td>\n",
       "      <td>4265.000</td>\n",
       "      <td>87.560</td>\n",
       "      <td>18.490</td>\n",
       "      <td>500.000</td>\n",
       "      <td>198.000</td>\n",
       "      <td>0.300</td>\n",
       "      <td>4268.300</td>\n",
       "      <td>2.750</td>\n",
       "    </tr>\n",
       "  </tbody>\n",
       "</table>\n",
       "</div>"
      ],
      "text/plain": [
       "         VendorID  passenger_count  trip_distance  RatecodeID  PULocationID  \\\n",
       "count 1571207.000      1555914.000    1571207.000 1555914.000   1571207.000   \n",
       "mean        1.673            1.503          2.952       1.055       164.377   \n",
       "std         0.470            1.144         70.082       0.715        65.722   \n",
       "min         1.000            0.000        -30.620       1.000         1.000   \n",
       "25%         1.000            1.000          0.970       1.000       125.000   \n",
       "50%         2.000            1.000          1.600       1.000       162.000   \n",
       "75%         2.000            2.000          2.930       1.000       234.000   \n",
       "max         6.000            9.000      70137.720      99.000       265.000   \n",
       "\n",
       "       DOLocationID  payment_type  fare_amount       extra     mta_tax  \\\n",
       "count   1571207.000   1571207.000  1571207.000 1571207.000 1571207.000   \n",
       "mean        162.263         1.253       12.613       1.106       0.492   \n",
       "std          70.048         0.486       12.480       1.256       0.074   \n",
       "min           1.000         0.000    -1238.000     -17.690      -0.500   \n",
       "25%         113.000         1.000        6.500       0.000       0.500   \n",
       "50%         162.000         1.000        9.000       0.500       0.500   \n",
       "75%         234.000         2.000       14.000       2.500       0.500   \n",
       "max         265.000         4.000     4265.000      87.560      18.490   \n",
       "\n",
       "       tip_amount  tolls_amount  improvement_surcharge  total_amount  \\\n",
       "count 1571207.000   1571207.000            1571207.000   1571207.000   \n",
       "mean        2.192         0.330                  0.298        18.555   \n",
       "std         2.709         1.578                  0.035        14.931   \n",
       "min       -40.000       -25.000                 -0.300     -1242.300   \n",
       "25%         0.000         0.000                  0.300        11.160   \n",
       "50%         1.950         0.000                  0.300        14.300   \n",
       "75%         2.860         0.000                  0.300        19.890   \n",
       "max       500.000       198.000                  0.300      4268.300   \n",
       "\n",
       "       congestion_surcharge  \n",
       "count           1555914.000  \n",
       "mean                  2.296  \n",
       "std                   0.707  \n",
       "min                  -2.500  \n",
       "25%                   2.500  \n",
       "50%                   2.500  \n",
       "75%                   2.500  \n",
       "max                   2.750  "
      ]
     },
     "execution_count": 4,
     "metadata": {},
     "output_type": "execute_result"
    }
   ],
   "source": [
    "# El archivo del dataset tiene como formato .parquet, el cual es un archivo que esta orientado a columnas. \n",
    "all_files = glob.glob(\"./data/*.parquet\")\n",
    "\n",
    "df_list = []\n",
    "\n",
    "for filename in all_files:\n",
    "    # Se carga el archivo\n",
    "    df = pd.read_parquet(filename)\n",
    "    # Tomo el 10% del dataset total   \n",
    "    df = df.sample(frac=0.1)\n",
    "    # Agrego a la lista\n",
    "    df_list.append(df)\n",
    "\n",
    "\n",
    "df = pd.concat(df_list, axis=0, ignore_index=True)\n",
    "\n",
    "\n",
    "df.describe()"
   ]
  },
  {
   "cell_type": "code",
   "execution_count": 5,
   "metadata": {},
   "outputs": [
    {
     "name": "stdout",
     "output_type": "stream",
     "text": [
      "<class 'pandas.core.frame.DataFrame'>\n",
      "RangeIndex: 1571207 entries, 0 to 1571206\n",
      "Data columns (total 19 columns):\n",
      " #   Column                 Non-Null Count    Dtype         \n",
      "---  ------                 --------------    -----         \n",
      " 0   VendorID               1571207 non-null  int64         \n",
      " 1   tpep_pickup_datetime   1571207 non-null  datetime64[ns]\n",
      " 2   tpep_dropoff_datetime  1571207 non-null  datetime64[ns]\n",
      " 3   passenger_count        1555914 non-null  float64       \n",
      " 4   trip_distance          1571207 non-null  float64       \n",
      " 5   RatecodeID             1555914 non-null  float64       \n",
      " 6   store_and_fwd_flag     1555914 non-null  object        \n",
      " 7   PULocationID           1571207 non-null  int64         \n",
      " 8   DOLocationID           1571207 non-null  int64         \n",
      " 9   payment_type           1571207 non-null  int64         \n",
      " 10  fare_amount            1571207 non-null  float64       \n",
      " 11  extra                  1571207 non-null  float64       \n",
      " 12  mta_tax                1571207 non-null  float64       \n",
      " 13  tip_amount             1571207 non-null  float64       \n",
      " 14  tolls_amount           1571207 non-null  float64       \n",
      " 15  improvement_surcharge  1571207 non-null  float64       \n",
      " 16  total_amount           1571207 non-null  float64       \n",
      " 17  congestion_surcharge   1555914 non-null  float64       \n",
      " 18  airport_fee            0 non-null        object        \n",
      "dtypes: datetime64[ns](2), float64(11), int64(4), object(2)\n",
      "memory usage: 227.8+ MB\n"
     ]
    }
   ],
   "source": [
    "## Para obtener una descripción del tipo de datos que contiene cada columna, utilizamos la funcion info()\n",
    "# Podemos además, obtener una idea general de cuantos datos no nulos contiene.\n",
    "df.info()"
   ]
  },
  {
   "cell_type": "code",
   "execution_count": 6,
   "metadata": {},
   "outputs": [
    {
     "data": {
      "text/html": [
       "<div>\n",
       "<style scoped>\n",
       "    .dataframe tbody tr th:only-of-type {\n",
       "        vertical-align: middle;\n",
       "    }\n",
       "\n",
       "    .dataframe tbody tr th {\n",
       "        vertical-align: top;\n",
       "    }\n",
       "\n",
       "    .dataframe thead th {\n",
       "        text-align: right;\n",
       "    }\n",
       "</style>\n",
       "<table border=\"1\" class=\"dataframe\">\n",
       "  <thead>\n",
       "    <tr style=\"text-align: right;\">\n",
       "      <th></th>\n",
       "      <th>VendorID</th>\n",
       "      <th>passenger_count</th>\n",
       "      <th>trip_distance</th>\n",
       "      <th>RatecodeID</th>\n",
       "      <th>PULocationID</th>\n",
       "      <th>DOLocationID</th>\n",
       "      <th>payment_type</th>\n",
       "      <th>fare_amount</th>\n",
       "      <th>extra</th>\n",
       "      <th>mta_tax</th>\n",
       "      <th>tip_amount</th>\n",
       "      <th>tolls_amount</th>\n",
       "      <th>improvement_surcharge</th>\n",
       "      <th>total_amount</th>\n",
       "      <th>congestion_surcharge</th>\n",
       "    </tr>\n",
       "  </thead>\n",
       "  <tbody>\n",
       "    <tr>\n",
       "      <th>count</th>\n",
       "      <td>1571207.000</td>\n",
       "      <td>1555914.000</td>\n",
       "      <td>1571207.000</td>\n",
       "      <td>1555914.000</td>\n",
       "      <td>1571207.000</td>\n",
       "      <td>1571207.000</td>\n",
       "      <td>1571207.000</td>\n",
       "      <td>1571207.000</td>\n",
       "      <td>1571207.000</td>\n",
       "      <td>1571207.000</td>\n",
       "      <td>1571207.000</td>\n",
       "      <td>1571207.000</td>\n",
       "      <td>1571207.000</td>\n",
       "      <td>1571207.000</td>\n",
       "      <td>1555914.000</td>\n",
       "    </tr>\n",
       "    <tr>\n",
       "      <th>mean</th>\n",
       "      <td>1.673</td>\n",
       "      <td>1.503</td>\n",
       "      <td>2.952</td>\n",
       "      <td>1.055</td>\n",
       "      <td>164.377</td>\n",
       "      <td>162.263</td>\n",
       "      <td>1.253</td>\n",
       "      <td>12.613</td>\n",
       "      <td>1.106</td>\n",
       "      <td>0.492</td>\n",
       "      <td>2.192</td>\n",
       "      <td>0.330</td>\n",
       "      <td>0.298</td>\n",
       "      <td>18.555</td>\n",
       "      <td>2.296</td>\n",
       "    </tr>\n",
       "    <tr>\n",
       "      <th>std</th>\n",
       "      <td>0.470</td>\n",
       "      <td>1.144</td>\n",
       "      <td>70.082</td>\n",
       "      <td>0.715</td>\n",
       "      <td>65.722</td>\n",
       "      <td>70.048</td>\n",
       "      <td>0.486</td>\n",
       "      <td>12.480</td>\n",
       "      <td>1.256</td>\n",
       "      <td>0.074</td>\n",
       "      <td>2.709</td>\n",
       "      <td>1.578</td>\n",
       "      <td>0.035</td>\n",
       "      <td>14.931</td>\n",
       "      <td>0.707</td>\n",
       "    </tr>\n",
       "    <tr>\n",
       "      <th>min</th>\n",
       "      <td>1.000</td>\n",
       "      <td>0.000</td>\n",
       "      <td>-30.620</td>\n",
       "      <td>1.000</td>\n",
       "      <td>1.000</td>\n",
       "      <td>1.000</td>\n",
       "      <td>0.000</td>\n",
       "      <td>-1238.000</td>\n",
       "      <td>-17.690</td>\n",
       "      <td>-0.500</td>\n",
       "      <td>-40.000</td>\n",
       "      <td>-25.000</td>\n",
       "      <td>-0.300</td>\n",
       "      <td>-1242.300</td>\n",
       "      <td>-2.500</td>\n",
       "    </tr>\n",
       "    <tr>\n",
       "      <th>25%</th>\n",
       "      <td>1.000</td>\n",
       "      <td>1.000</td>\n",
       "      <td>0.970</td>\n",
       "      <td>1.000</td>\n",
       "      <td>125.000</td>\n",
       "      <td>113.000</td>\n",
       "      <td>1.000</td>\n",
       "      <td>6.500</td>\n",
       "      <td>0.000</td>\n",
       "      <td>0.500</td>\n",
       "      <td>0.000</td>\n",
       "      <td>0.000</td>\n",
       "      <td>0.300</td>\n",
       "      <td>11.160</td>\n",
       "      <td>2.500</td>\n",
       "    </tr>\n",
       "    <tr>\n",
       "      <th>50%</th>\n",
       "      <td>2.000</td>\n",
       "      <td>1.000</td>\n",
       "      <td>1.600</td>\n",
       "      <td>1.000</td>\n",
       "      <td>162.000</td>\n",
       "      <td>162.000</td>\n",
       "      <td>1.000</td>\n",
       "      <td>9.000</td>\n",
       "      <td>0.500</td>\n",
       "      <td>0.500</td>\n",
       "      <td>1.950</td>\n",
       "      <td>0.000</td>\n",
       "      <td>0.300</td>\n",
       "      <td>14.300</td>\n",
       "      <td>2.500</td>\n",
       "    </tr>\n",
       "    <tr>\n",
       "      <th>75%</th>\n",
       "      <td>2.000</td>\n",
       "      <td>2.000</td>\n",
       "      <td>2.930</td>\n",
       "      <td>1.000</td>\n",
       "      <td>234.000</td>\n",
       "      <td>234.000</td>\n",
       "      <td>2.000</td>\n",
       "      <td>14.000</td>\n",
       "      <td>2.500</td>\n",
       "      <td>0.500</td>\n",
       "      <td>2.860</td>\n",
       "      <td>0.000</td>\n",
       "      <td>0.300</td>\n",
       "      <td>19.890</td>\n",
       "      <td>2.500</td>\n",
       "    </tr>\n",
       "    <tr>\n",
       "      <th>max</th>\n",
       "      <td>6.000</td>\n",
       "      <td>9.000</td>\n",
       "      <td>70137.720</td>\n",
       "      <td>99.000</td>\n",
       "      <td>265.000</td>\n",
       "      <td>265.000</td>\n",
       "      <td>4.000</td>\n",
       "      <td>4265.000</td>\n",
       "      <td>87.560</td>\n",
       "      <td>18.490</td>\n",
       "      <td>500.000</td>\n",
       "      <td>198.000</td>\n",
       "      <td>0.300</td>\n",
       "      <td>4268.300</td>\n",
       "      <td>2.750</td>\n",
       "    </tr>\n",
       "  </tbody>\n",
       "</table>\n",
       "</div>"
      ],
      "text/plain": [
       "         VendorID  passenger_count  trip_distance  RatecodeID  PULocationID  \\\n",
       "count 1571207.000      1555914.000    1571207.000 1555914.000   1571207.000   \n",
       "mean        1.673            1.503          2.952       1.055       164.377   \n",
       "std         0.470            1.144         70.082       0.715        65.722   \n",
       "min         1.000            0.000        -30.620       1.000         1.000   \n",
       "25%         1.000            1.000          0.970       1.000       125.000   \n",
       "50%         2.000            1.000          1.600       1.000       162.000   \n",
       "75%         2.000            2.000          2.930       1.000       234.000   \n",
       "max         6.000            9.000      70137.720      99.000       265.000   \n",
       "\n",
       "       DOLocationID  payment_type  fare_amount       extra     mta_tax  \\\n",
       "count   1571207.000   1571207.000  1571207.000 1571207.000 1571207.000   \n",
       "mean        162.263         1.253       12.613       1.106       0.492   \n",
       "std          70.048         0.486       12.480       1.256       0.074   \n",
       "min           1.000         0.000    -1238.000     -17.690      -0.500   \n",
       "25%         113.000         1.000        6.500       0.000       0.500   \n",
       "50%         162.000         1.000        9.000       0.500       0.500   \n",
       "75%         234.000         2.000       14.000       2.500       0.500   \n",
       "max         265.000         4.000     4265.000      87.560      18.490   \n",
       "\n",
       "       tip_amount  tolls_amount  improvement_surcharge  total_amount  \\\n",
       "count 1571207.000   1571207.000            1571207.000   1571207.000   \n",
       "mean        2.192         0.330                  0.298        18.555   \n",
       "std         2.709         1.578                  0.035        14.931   \n",
       "min       -40.000       -25.000                 -0.300     -1242.300   \n",
       "25%         0.000         0.000                  0.300        11.160   \n",
       "50%         1.950         0.000                  0.300        14.300   \n",
       "75%         2.860         0.000                  0.300        19.890   \n",
       "max       500.000       198.000                  0.300      4268.300   \n",
       "\n",
       "       congestion_surcharge  \n",
       "count           1555914.000  \n",
       "mean                  2.296  \n",
       "std                   0.707  \n",
       "min                  -2.500  \n",
       "25%                   2.500  \n",
       "50%                   2.500  \n",
       "75%                   2.500  \n",
       "max                   2.750  "
      ]
     },
     "execution_count": 6,
     "metadata": {},
     "output_type": "execute_result"
    }
   ],
   "source": [
    "# La función describe() nos da una vista general de valores de cantidades de datos, media, desv. standard, valores min y max de cada columna.\n",
    "df.describe()"
   ]
  },
  {
   "cell_type": "markdown",
   "metadata": {},
   "source": [
    "### Descripción de Columnas del Dataset.\n"
   ]
  },
  {
   "cell_type": "code",
   "execution_count": 7,
   "metadata": {},
   "outputs": [
    {
     "data": {
      "text/plain": [
       "VendorID                          int64\n",
       "tpep_pickup_datetime     datetime64[ns]\n",
       "tpep_dropoff_datetime    datetime64[ns]\n",
       "passenger_count                 float64\n",
       "trip_distance                   float64\n",
       "RatecodeID                      float64\n",
       "store_and_fwd_flag               object\n",
       "PULocationID                      int64\n",
       "DOLocationID                      int64\n",
       "payment_type                      int64\n",
       "fare_amount                     float64\n",
       "extra                           float64\n",
       "mta_tax                         float64\n",
       "tip_amount                      float64\n",
       "tolls_amount                    float64\n",
       "improvement_surcharge           float64\n",
       "total_amount                    float64\n",
       "congestion_surcharge            float64\n",
       "airport_fee                      object\n",
       "dtype: object"
      ]
     },
     "execution_count": 7,
     "metadata": {},
     "output_type": "execute_result"
    }
   ],
   "source": [
    "# Listado de tipos de variables presentes en el dataset\n",
    "df.dtypes"
   ]
  },
  {
   "cell_type": "code",
   "execution_count": 8,
   "metadata": {},
   "outputs": [],
   "source": [
    "# funcion para plotear las distribuciones de los atributos\n",
    "def display_dataset_distributions(dataset):\n",
    "    fig = dataset.hist(xlabelsize=10, ylabelsize=10,figsize=(18,18))\n",
    "    [x.title.set_size(14) for x in fig.ravel()]\n",
    "    plt.tight_layout\n",
    "    plt.show()\n",
    "    \n",
    "\n",
    "# funcion para imprimir nulos\n",
    "def print_null_info(col):\n",
    "    print(f'Cantidad de nulos: {col.isnull().sum()}/{col.size}')\n",
    "\n",
    "# funcion para imprimir datos de v. categoricas\n",
    "def print_categorical(col):\n",
    "    print(f'Ordinalidad: {col.unique()}')\n",
    "    print_null_info(col)\n",
    "    print('Ocurrencias:')\n",
    "    print(col.value_counts().sort_values())"
   ]
  },
  {
   "cell_type": "code",
   "execution_count": 9,
   "metadata": {},
   "outputs": [
    {
     "data": {
      "image/png": "[encoded data removed]",
      "text/plain": [
       "<Figure size 1296x1296 with 20 Axes>"
      ]
     },
     "metadata": {
      "needs_background": "light"
     },
     "output_type": "display_data"
    }
   ],
   "source": [
    "#imprimo distribuciones \n",
    "display_dataset_distributions(df)"
   ]
  },
  {
   "cell_type": "markdown",
   "metadata": {},
   "source": [
    "\n",
    "- **VendorID**: Proveedor de servicios de tecnologias en taxis (T-PEP)\n",
    "    - Tipo de dato: Categórica ordinal  \n",
    "    - Tipo de variable: Entrada  \n"
   ]
  },
  {
   "cell_type": "code",
   "execution_count": 10,
   "metadata": {},
   "outputs": [
    {
     "name": "stdout",
     "output_type": "stream",
     "text": [
      "Ordinalidad: [2 1 6 5]\n",
      "Cantidad de nulos: 0/1571207\n",
      "Ocurrencias:\n",
      "5          2\n",
      "6         66\n",
      "1     513904\n",
      "2    1057235\n",
      "Name: VendorID, dtype: int64\n"
     ]
    }
   ],
   "source": [
    "print_categorical(df.VendorID)"
   ]
  },
  {
   "cell_type": "markdown",
   "metadata": {},
   "source": [
    "\n",
    "- **tpep_pickup_datetime**: Fecha y hora en el cual el reloj fue activado al iniciar un viaje.\n",
    "    - Tipo de dato: Timestamp compuesto  \n",
    "    - Tipo de variable: Entrada  \n",
    "\n",
    "    - Ejemplo del dato en el dataset: 2020-07-01 00:25:32\n"
   ]
  },
  {
   "cell_type": "code",
   "execution_count": 11,
   "metadata": {},
   "outputs": [
    {
     "name": "stdout",
     "output_type": "stream",
     "text": [
      "Cantidad de nulos: 0/1571207\n"
     ]
    }
   ],
   "source": [
    "print_null_info(df.tpep_pickup_datetime)"
   ]
  },
  {
   "cell_type": "markdown",
   "metadata": {},
   "source": [
    "- **tpep_dropoff_datetime**: Fecha y hora en el cual el reloj fue desactivador al finalizar un viaje.\n",
    "    - Tipo de dato: Timestamp compuesto\n",
    "    - Tipo de variable: Entrada  / Salida\n",
    "\n",
    "    - Ejemplo del dato en el dataset: 2020-07-01 00:33:39\n"
   ]
  },
  {
   "cell_type": "code",
   "execution_count": 12,
   "metadata": {},
   "outputs": [
    {
     "name": "stdout",
     "output_type": "stream",
     "text": [
      "Cantidad de nulos: 0/1571207\n"
     ]
    }
   ],
   "source": [
    "print_null_info(df.tpep_dropoff_datetime)"
   ]
  },
  {
   "cell_type": "markdown",
   "metadata": {},
   "source": [
    "- **passenger_count**: El número de pasajeros en el vehiculo. (Es un dato que lo ingresa el conductor.)\n",
    "    - Tipo de dato: Numérico \n",
    "    - Tipo de variable: Entrada\n",
    "    - Ejemplo del dato en el dataset: 1.0"
   ]
  },
  {
   "cell_type": "code",
   "execution_count": 13,
   "metadata": {},
   "outputs": [
    {
     "name": "stdout",
     "output_type": "stream",
     "text": [
      "Cantidad de nulos: 15293/1571207\n"
     ]
    }
   ],
   "source": [
    "print_null_info(df.passenger_count)"
   ]
  },
  {
   "cell_type": "markdown",
   "metadata": {},
   "source": [
    "\n",
    "- **trip_distance**: La distancia del viaje transcurrido en millas reportada por el taxímetro. \n",
    "    - Tipo de dato: Numérico \n",
    "    - Tipo de variable: Entrada  \n",
    "\n",
    "    - Ejemplo del dato en el dataset: 1.50\n"
   ]
  },
  {
   "cell_type": "code",
   "execution_count": 14,
   "metadata": {},
   "outputs": [
    {
     "name": "stdout",
     "output_type": "stream",
     "text": [
      "Cantidad de nulos: 0/1571207\n"
     ]
    }
   ],
   "source": [
    "print_null_info(df.trip_distance)"
   ]
  },
  {
   "cell_type": "markdown",
   "metadata": {},
   "source": [
    "- **PULocationID**: TLC Zona en la que el taxímetro se activó.\n",
    "    - Tipo de dato: Categórica ordinal\n",
    "    - Tipo de variable: Entrada / Salida\n",
    "\n",
    "    - Ejemplo del dato en el dataset: 238\n"
   ]
  },
  {
   "cell_type": "code",
   "execution_count": 15,
   "metadata": {},
   "outputs": [
    {
     "name": "stdout",
     "output_type": "stream",
     "text": [
      "Ordinalidad: [ 43 246 158 140 142 151 170  50 125 229 234 107 132 148 236  90 163 249\n",
      " 216 161 186 239 146  66 162  68  48 164 237 137 143 113 174 230 100  79\n",
      " 138 238 263   7 232  75 224 129 145 114 141  13 131  23 262 264 260 231\n",
      "  42 193  37 116 139 261  74 233 166 212  87 211 226  88  97 144 108 244\n",
      " 209 255  41  89  93   4 168  28  25 202 112  45 191 265  76  52 181  12\n",
      "  24 152  33 242 228 188 106 197  82  70  65  17 223  10  83 218  61  32\n",
      " 256 119 225  56  20 185  95 102  77  26 220  92  14  63 179  81  39  85\n",
      "  21 250 175 198 205 222 203 241 215   9  72 165 243 130  49   1 167 133\n",
      "  40 136 153  29 219  80  34 159 258 157  69  35 182 177 254  38 208 171\n",
      " 169 117 227  62 160 135  55 147  22 127 248  36  71 257 196  91  51 195\n",
      " 189 207 259 217 192 184  47 122  11   8 213 123 149 194 134   3  18 235\n",
      "  78 178 101  86 155 190 247 210 201 183  98 187 150 252 173 128  67 200\n",
      " 121  53 214  54  73 180 126 109  94  15  44  16 240 118 105 206  60  59\n",
      " 124  19  27  64  96 115   6 253 120  46  57  58 154  31   2 156 221   5\n",
      "  84 251 111]\n",
      "Cantidad de nulos: 0/1571207\n",
      "Ocurrencias:\n",
      "111        1\n",
      "105        1\n",
      "221        1\n",
      "251        1\n",
      "84         1\n",
      "       ...  \n",
      "230    55121\n",
      "162    57581\n",
      "236    65993\n",
      "161    68088\n",
      "237    70232\n",
      "Name: PULocationID, Length: 255, dtype: int64\n"
     ]
    }
   ],
   "source": [
    "print_categorical(df.PULocationID)"
   ]
  },
  {
   "cell_type": "markdown",
   "metadata": {},
   "source": [
    "\n",
    "- **DOLocationID**: TLC Zona en la que el taxímetro se desactivó.\n",
    "    - Tipo de dato: Categórica ordinal\n",
    "    - Tipo de variable: Entrada / Salida \n",
    "\n",
    "    - Ejemplo del dato en el dataset: 75\n"
   ]
  },
  {
   "cell_type": "code",
   "execution_count": 16,
   "metadata": {},
   "outputs": [
    {
     "name": "stdout",
     "output_type": "stream",
     "text": [
      "Ordinalidad: [151 163  68 263 236  74 234 220  82 138 113 107  93 181 186 239  88 237\n",
      "   4  95 142 162 170 129  33  75 137 143 229 231 211 140  48 249 195 114\n",
      " 238 148  69 132 100 164  17  41  90 131 168 262  50   7  10 230   1  79\n",
      "  43  80 265 146 233 161 232 224 141 216 219 115 127  87 260 246 244 213\n",
      " 193 261  83 166 198 169 205 158 145  24 136 225 264 196  52  25  42  89\n",
      "  66 185 119  37  13 258 144 209  65 255 247  40 116 256 125 243  97  14\n",
      "  73 223 165 177 248 112 227  45 257  72 210 155  56  39  26  11 152  54\n",
      "  49 215 212 200 202 182 228  91  61 217 252 226 189 101 179  20 123  94\n",
      " 130 128  16 173  36 221  76 106 254  71   9 242 126 159 133  81  28 194\n",
      " 250 134 188  62  12 235  18  19  92  47 197 175 124  67 160 139 108 135\n",
      "  70  86 157 259 241 191 180 167  85 176  77  78  29 218 203  53 251  58\n",
      " 222  35  38  51  64 190  55 117 122  15 178 154  46  22  23 192 174 121\n",
      "  98 245 102 208   3  21  57 149 184 147 207 206  63  96  60  32  34  27\n",
      " 240 171 214 201 183 150   6 187 172 120  44  31  30  84 111 253 118 153\n",
      " 204   8  59  99 109   5   2 156]\n",
      "Cantidad de nulos: 0/1571207\n",
      "Ocurrencias:\n",
      "99         4\n",
      "2          5\n",
      "187        7\n",
      "30         8\n",
      "204        9\n",
      "       ...  \n",
      "162    46315\n",
      "170    48195\n",
      "161    60241\n",
      "237    63062\n",
      "236    69985\n",
      "Name: DOLocationID, Length: 260, dtype: int64\n"
     ]
    }
   ],
   "source": [
    "print_categorical(df.DOLocationID)"
   ]
  },
  {
   "cell_type": "markdown",
   "metadata": {},
   "source": [
    "\n",
    "- **RatecodeID**:  El código de tarifa final vigente al final del viaje.\n",
    "    - Tipo de dato: Categórica ordinal\n",
    "    - Tipo de variable: Entrada  \n",
    "\n",
    "    - 1= Standard rate\n",
    "    - 2= JFK \n",
    "    - 3= Newark\n",
    "    - 4= Nassau or Westchester\n",
    "    - 5= Negotiated fare\n",
    "    - 6= Group ride\n"
   ]
  },
  {
   "cell_type": "code",
   "execution_count": 17,
   "metadata": {},
   "outputs": [
    {
     "name": "stdout",
     "output_type": "stream",
     "text": [
      "Ordinalidad: [ 1.  2.  5. nan  3.  4. 99.  6.]\n",
      "Cantidad de nulos: 15293/1571207\n",
      "Ocurrencias:\n",
      "6.000          12\n",
      "99.000         63\n",
      "4.000        1151\n",
      "3.000        3210\n",
      "5.000        8470\n",
      "2.000       35634\n",
      "1.000     1507374\n",
      "Name: RatecodeID, dtype: int64\n"
     ]
    }
   ],
   "source": [
    "print_categorical(df.RatecodeID)"
   ]
  },
  {
   "cell_type": "markdown",
   "metadata": {},
   "source": [
    "- **store_and_fwd_flag**:  Este flag indica si el registro de viaje se llevó a cabo en la memoria del dispositivo del vehiculo antes de enviar al proveedor, también conocido como \"almacenar y reenviar\", porque el vehiculo no tenia conexion al servidor.\n",
    "    - Tipo de dato: Categórica  \n",
    "    - Tipo de variable: Entrada  \n",
    "\n",
    "    - Y= Almacenar y reenviar informacion.\n",
    "    - N= No almacenar y enviar informacion.\n"
   ]
  },
  {
   "cell_type": "code",
   "execution_count": 18,
   "metadata": {},
   "outputs": [
    {
     "name": "stdout",
     "output_type": "stream",
     "text": [
      "Ordinalidad: ['N' 'Y' None]\n",
      "Cantidad de nulos: 15293/1571207\n",
      "Ocurrencias:\n",
      "Y      15885\n",
      "N    1540029\n",
      "Name: store_and_fwd_flag, dtype: int64\n"
     ]
    }
   ],
   "source": [
    "print_categorical(df.store_and_fwd_flag)"
   ]
  },
  {
   "cell_type": "markdown",
   "metadata": {},
   "source": [
    "\n",
    "- **payment_type**: Un código numérico que significa cómo el pasajero pagó por el viaje.\n",
    "    - Tipo de dato: Categórica ordinal  \n",
    "    - Tipo de variable: Entrada  \n",
    "\n",
    "    - 1= Credit card\n",
    "    - 2= Cash\n",
    "    - 3= No charge\n",
    "    - 4= Dispute\n",
    "    - 5= Unknown\n",
    "    - 6= Voided trip\n"
   ]
  },
  {
   "cell_type": "code",
   "execution_count": 19,
   "metadata": {},
   "outputs": [
    {
     "name": "stdout",
     "output_type": "stream",
     "text": [
      "Ordinalidad: [1 2 4 0 3]\n",
      "Cantidad de nulos: 0/1571207\n",
      "Ocurrencias:\n",
      "4       4570\n",
      "3       8256\n",
      "0      15293\n",
      "2     382152\n",
      "1    1160936\n",
      "Name: payment_type, dtype: int64\n"
     ]
    }
   ],
   "source": [
    "print_categorical(df.payment_type)"
   ]
  },
  {
   "cell_type": "markdown",
   "metadata": {},
   "source": [
    "- **fare_amount**: La tarifa de tiempo y distancia calculada por el taxímetro.\n",
    "    - Tipo de dato: Numérico  \n",
    "    - Tipo de variable: Salida  \n",
    "\n",
    "    - Ejemplo del dato en el dataset: 8.0\n"
   ]
  },
  {
   "cell_type": "code",
   "execution_count": 20,
   "metadata": {},
   "outputs": [
    {
     "name": "stdout",
     "output_type": "stream",
     "text": [
      "Cantidad de nulos: 0/1571207\n"
     ]
    }
   ],
   "source": [
    "print_null_info(df.fare_amount)"
   ]
  },
  {
   "cell_type": "markdown",
   "metadata": {},
   "source": [
    "- **Extra**: Varios extras y recargos. Actualmente, esto solo incluye los cargos de $0.50 y $1 por la hora pico y por la noche.\n",
    "    - Tipo de dato: Numérico  \n",
    "    - Tipo de variable: Salida  \n",
    "\n",
    "    - Ejemplo del dato en el dataset: 0.5\n"
   ]
  },
  {
   "cell_type": "code",
   "execution_count": 21,
   "metadata": {},
   "outputs": [
    {
     "name": "stdout",
     "output_type": "stream",
     "text": [
      "Cantidad de nulos: 0/1571207\n"
     ]
    }
   ],
   "source": [
    "print_null_info(df.extra)"
   ]
  },
  {
   "cell_type": "markdown",
   "metadata": {},
   "source": [
    "\n",
    "- **mta_tax**: Impuesto MTA de $0.50 que se activa automáticamente según la tasa de uso del medidor.\n",
    "    - Tipo de dato: Numérico\n",
    "    - Tipo de variable: Salida  \n",
    "\n",
    "    - Ejemplo del dato en el dataset: 0.5\n"
   ]
  },
  {
   "cell_type": "code",
   "execution_count": 22,
   "metadata": {},
   "outputs": [
    {
     "name": "stdout",
     "output_type": "stream",
     "text": [
      "Cantidad de nulos: 0/1571207\n"
     ]
    }
   ],
   "source": [
    "print_null_info(df.mta_tax)"
   ]
  },
  {
   "cell_type": "markdown",
   "metadata": {},
   "source": [
    "- **improvement_surcharge**: Recargo de mejora de $ 0.30 en viaje en el descenso de bandera. El recargo por mejora comenzó a cobrarse en 2015.\n",
    "    - Tipo de dato: Numérico  \n",
    "    - Tipo de variable: Salida  \n",
    "\n",
    "    - Ejemplo del dato en el dataset: 0.3\n"
   ]
  },
  {
   "cell_type": "code",
   "execution_count": 23,
   "metadata": {},
   "outputs": [
    {
     "name": "stdout",
     "output_type": "stream",
     "text": [
      "Cantidad de nulos: 0/1571207\n"
     ]
    }
   ],
   "source": [
    "print_null_info(df.improvement_surcharge)"
   ]
  },
  {
   "cell_type": "markdown",
   "metadata": {},
   "source": [
    "- **tip_amount**: Importe de la propina: este campo se completa automáticamente para las propinas de tarjetas de crédito. Las propinas en efectivo no están incluidas.\n",
    "    - Tipo de dato: Numérico\n",
    "    - Tipo de variable: Salida  \n",
    "\n",
    "    - Ejemplo del dato en el dataset: 0.00  \n"
   ]
  },
  {
   "cell_type": "code",
   "execution_count": 24,
   "metadata": {},
   "outputs": [
    {
     "name": "stdout",
     "output_type": "stream",
     "text": [
      "Cantidad de nulos: 0/1571207\n"
     ]
    }
   ],
   "source": [
    "print_null_info(df.tip_amount)"
   ]
  },
  {
   "cell_type": "markdown",
   "metadata": {},
   "source": [
    "- **tolls_amount**: Importe total de todos los peajes pagados en el viaje.\n",
    "    - Tipo de dato: Numérico\n",
    "    - Tipo de variable: Salida  \n",
    "    - Ejemplo del dato en el dataset: 0.00\n"
   ]
  },
  {
   "cell_type": "code",
   "execution_count": 25,
   "metadata": {},
   "outputs": [
    {
     "name": "stdout",
     "output_type": "stream",
     "text": [
      "Cantidad de nulos: 0/1571207\n"
     ]
    }
   ],
   "source": [
    "print_null_info(df.tolls_amount)"
   ]
  },
  {
   "cell_type": "markdown",
   "metadata": {},
   "source": [
    "\n",
    "- **total_amount**: El monto total cobrado a los pasajeros. No incluye propinas en efectivo.\n",
    "    - Tipo de dato: Numérico  \n",
    "    - Tipo de variable: Salida  \n",
    "    - Ejemplo del dato en el dataset: 9.30\n"
   ]
  },
  {
   "cell_type": "code",
   "execution_count": 26,
   "metadata": {},
   "outputs": [
    {
     "name": "stdout",
     "output_type": "stream",
     "text": [
      "Cantidad de nulos: 0/1571207\n"
     ]
    }
   ],
   "source": [
    "print_null_info(df.total_amount)"
   ]
  },
  {
   "cell_type": "markdown",
   "metadata": {},
   "source": [
    "- **congestion_surcharge**: Importe total recaudado en el viaje por el recargo por congestión del Estado de Nueva York.\n",
    "    - Tipo de dato: Numérico\n",
    "    - Tipo de variable: Salida  \n",
    "    - Ejemplo del dato en el dataset: 0.00\n"
   ]
  },
  {
   "cell_type": "code",
   "execution_count": 27,
   "metadata": {},
   "outputs": [
    {
     "name": "stdout",
     "output_type": "stream",
     "text": [
      "Cantidad de nulos: 15293/1571207\n"
     ]
    }
   ],
   "source": [
    "print_null_info(df.congestion_surcharge)"
   ]
  },
  {
   "cell_type": "markdown",
   "metadata": {},
   "source": [
    "- **airport_fee**: $1.25 para recoger solo en los aeropuertos LaGuardia y John F. Kennedy\n",
    "    - Tipo de dato: Numérico  \n",
    "    - Tipo de variable: Salida\n",
    "    - Ejemplo del dato en el dataset: None"
   ]
  },
  {
   "cell_type": "code",
   "execution_count": 28,
   "metadata": {},
   "outputs": [
    {
     "name": "stdout",
     "output_type": "stream",
     "text": [
      "Cantidad de nulos: 1571207/1571207\n"
     ]
    }
   ],
   "source": [
    "print_null_info(df.airport_fee)"
   ]
  },
  {
   "cell_type": "markdown",
   "metadata": {},
   "source": [
    "## 2. Limpieza de los datos\n"
   ]
  },
  {
   "cell_type": "markdown",
   "metadata": {},
   "source": [
    "### 2.1 Datos faltantes"
   ]
  },
  {
   "cell_type": "code",
   "execution_count": 29,
   "metadata": {},
   "outputs": [
    {
     "data": {
      "text/html": [
       "<div>\n",
       "<style scoped>\n",
       "    .dataframe tbody tr th:only-of-type {\n",
       "        vertical-align: middle;\n",
       "    }\n",
       "\n",
       "    .dataframe tbody tr th {\n",
       "        vertical-align: top;\n",
       "    }\n",
       "\n",
       "    .dataframe thead th {\n",
       "        text-align: right;\n",
       "    }\n",
       "</style>\n",
       "<table border=\"1\" class=\"dataframe\">\n",
       "  <thead>\n",
       "    <tr style=\"text-align: right;\">\n",
       "      <th></th>\n",
       "      <th>VendorID</th>\n",
       "      <th>passenger_count</th>\n",
       "      <th>trip_distance</th>\n",
       "      <th>RatecodeID</th>\n",
       "      <th>PULocationID</th>\n",
       "      <th>DOLocationID</th>\n",
       "      <th>payment_type</th>\n",
       "      <th>fare_amount</th>\n",
       "      <th>extra</th>\n",
       "      <th>mta_tax</th>\n",
       "      <th>tip_amount</th>\n",
       "      <th>tolls_amount</th>\n",
       "      <th>improvement_surcharge</th>\n",
       "      <th>total_amount</th>\n",
       "      <th>congestion_surcharge</th>\n",
       "    </tr>\n",
       "  </thead>\n",
       "  <tbody>\n",
       "    <tr>\n",
       "      <th>count</th>\n",
       "      <td>1571088.000</td>\n",
       "      <td>1555914.000</td>\n",
       "      <td>1571088.000</td>\n",
       "      <td>1555914.000</td>\n",
       "      <td>1571088.000</td>\n",
       "      <td>1571088.000</td>\n",
       "      <td>1571088.000</td>\n",
       "      <td>1571088.000</td>\n",
       "      <td>1571088.000</td>\n",
       "      <td>1571088.000</td>\n",
       "      <td>1571088.000</td>\n",
       "      <td>1571088.000</td>\n",
       "      <td>1571088.000</td>\n",
       "      <td>1571088.000</td>\n",
       "      <td>1555914.000</td>\n",
       "    </tr>\n",
       "    <tr>\n",
       "      <th>mean</th>\n",
       "      <td>1.673</td>\n",
       "      <td>1.503</td>\n",
       "      <td>2.952</td>\n",
       "      <td>1.055</td>\n",
       "      <td>164.379</td>\n",
       "      <td>162.265</td>\n",
       "      <td>1.253</td>\n",
       "      <td>12.612</td>\n",
       "      <td>1.106</td>\n",
       "      <td>0.492</td>\n",
       "      <td>2.192</td>\n",
       "      <td>0.330</td>\n",
       "      <td>0.298</td>\n",
       "      <td>18.554</td>\n",
       "      <td>2.296</td>\n",
       "    </tr>\n",
       "    <tr>\n",
       "      <th>std</th>\n",
       "      <td>0.470</td>\n",
       "      <td>1.144</td>\n",
       "      <td>70.085</td>\n",
       "      <td>0.715</td>\n",
       "      <td>65.721</td>\n",
       "      <td>70.047</td>\n",
       "      <td>0.486</td>\n",
       "      <td>12.479</td>\n",
       "      <td>1.256</td>\n",
       "      <td>0.074</td>\n",
       "      <td>2.709</td>\n",
       "      <td>1.578</td>\n",
       "      <td>0.035</td>\n",
       "      <td>14.930</td>\n",
       "      <td>0.707</td>\n",
       "    </tr>\n",
       "    <tr>\n",
       "      <th>min</th>\n",
       "      <td>1.000</td>\n",
       "      <td>0.000</td>\n",
       "      <td>-30.620</td>\n",
       "      <td>1.000</td>\n",
       "      <td>1.000</td>\n",
       "      <td>1.000</td>\n",
       "      <td>0.000</td>\n",
       "      <td>-1238.000</td>\n",
       "      <td>-17.690</td>\n",
       "      <td>-0.500</td>\n",
       "      <td>-40.000</td>\n",
       "      <td>-25.000</td>\n",
       "      <td>-0.300</td>\n",
       "      <td>-1242.300</td>\n",
       "      <td>-2.500</td>\n",
       "    </tr>\n",
       "    <tr>\n",
       "      <th>25%</th>\n",
       "      <td>1.000</td>\n",
       "      <td>1.000</td>\n",
       "      <td>0.970</td>\n",
       "      <td>1.000</td>\n",
       "      <td>125.000</td>\n",
       "      <td>113.000</td>\n",
       "      <td>1.000</td>\n",
       "      <td>6.500</td>\n",
       "      <td>0.000</td>\n",
       "      <td>0.500</td>\n",
       "      <td>0.000</td>\n",
       "      <td>0.000</td>\n",
       "      <td>0.300</td>\n",
       "      <td>11.160</td>\n",
       "      <td>2.500</td>\n",
       "    </tr>\n",
       "    <tr>\n",
       "      <th>50%</th>\n",
       "      <td>2.000</td>\n",
       "      <td>1.000</td>\n",
       "      <td>1.600</td>\n",
       "      <td>1.000</td>\n",
       "      <td>162.000</td>\n",
       "      <td>162.000</td>\n",
       "      <td>1.000</td>\n",
       "      <td>9.000</td>\n",
       "      <td>0.500</td>\n",
       "      <td>0.500</td>\n",
       "      <td>1.950</td>\n",
       "      <td>0.000</td>\n",
       "      <td>0.300</td>\n",
       "      <td>14.300</td>\n",
       "      <td>2.500</td>\n",
       "    </tr>\n",
       "    <tr>\n",
       "      <th>75%</th>\n",
       "      <td>2.000</td>\n",
       "      <td>2.000</td>\n",
       "      <td>2.930</td>\n",
       "      <td>1.000</td>\n",
       "      <td>234.000</td>\n",
       "      <td>234.000</td>\n",
       "      <td>2.000</td>\n",
       "      <td>14.000</td>\n",
       "      <td>2.500</td>\n",
       "      <td>0.500</td>\n",
       "      <td>2.860</td>\n",
       "      <td>0.000</td>\n",
       "      <td>0.300</td>\n",
       "      <td>19.890</td>\n",
       "      <td>2.500</td>\n",
       "    </tr>\n",
       "    <tr>\n",
       "      <th>max</th>\n",
       "      <td>6.000</td>\n",
       "      <td>9.000</td>\n",
       "      <td>70137.720</td>\n",
       "      <td>99.000</td>\n",
       "      <td>265.000</td>\n",
       "      <td>265.000</td>\n",
       "      <td>4.000</td>\n",
       "      <td>4265.000</td>\n",
       "      <td>87.560</td>\n",
       "      <td>18.490</td>\n",
       "      <td>500.000</td>\n",
       "      <td>198.000</td>\n",
       "      <td>0.300</td>\n",
       "      <td>4268.300</td>\n",
       "      <td>2.750</td>\n",
       "    </tr>\n",
       "  </tbody>\n",
       "</table>\n",
       "</div>"
      ],
      "text/plain": [
       "         VendorID  passenger_count  trip_distance  RatecodeID  PULocationID  \\\n",
       "count 1571088.000      1555914.000    1571088.000 1555914.000   1571088.000   \n",
       "mean        1.673            1.503          2.952       1.055       164.379   \n",
       "std         0.470            1.144         70.085       0.715        65.721   \n",
       "min         1.000            0.000        -30.620       1.000         1.000   \n",
       "25%         1.000            1.000          0.970       1.000       125.000   \n",
       "50%         2.000            1.000          1.600       1.000       162.000   \n",
       "75%         2.000            2.000          2.930       1.000       234.000   \n",
       "max         6.000            9.000      70137.720      99.000       265.000   \n",
       "\n",
       "       DOLocationID  payment_type  fare_amount       extra     mta_tax  \\\n",
       "count   1571088.000   1571088.000  1571088.000 1571088.000 1571088.000   \n",
       "mean        162.265         1.253       12.612       1.106       0.492   \n",
       "std          70.047         0.486       12.479       1.256       0.074   \n",
       "min           1.000         0.000    -1238.000     -17.690      -0.500   \n",
       "25%         113.000         1.000        6.500       0.000       0.500   \n",
       "50%         162.000         1.000        9.000       0.500       0.500   \n",
       "75%         234.000         2.000       14.000       2.500       0.500   \n",
       "max         265.000         4.000     4265.000      87.560      18.490   \n",
       "\n",
       "       tip_amount  tolls_amount  improvement_surcharge  total_amount  \\\n",
       "count 1571088.000   1571088.000            1571088.000   1571088.000   \n",
       "mean        2.192         0.330                  0.298        18.554   \n",
       "std         2.709         1.578                  0.035        14.930   \n",
       "min       -40.000       -25.000                 -0.300     -1242.300   \n",
       "25%         0.000         0.000                  0.300        11.160   \n",
       "50%         1.950         0.000                  0.300        14.300   \n",
       "75%         2.860         0.000                  0.300        19.890   \n",
       "max       500.000       198.000                  0.300      4268.300   \n",
       "\n",
       "       congestion_surcharge  \n",
       "count           1555914.000  \n",
       "mean                  2.296  \n",
       "std                   0.707  \n",
       "min                  -2.500  \n",
       "25%                   2.500  \n",
       "50%                   2.500  \n",
       "75%                   2.500  \n",
       "max                   2.750  "
      ]
     },
     "execution_count": 29,
     "metadata": {},
     "output_type": "execute_result"
    }
   ],
   "source": [
    "# verificamos cantidad de items repetidos y los eliminamos\n",
    "df = df.drop_duplicates()\n",
    "df.describe() #TODO: Agrego describe para que se noten las cantidades eliminadas"
   ]
  },
  {
   "cell_type": "code",
   "execution_count": 30,
   "metadata": {},
   "outputs": [
    {
     "name": "stdout",
     "output_type": "stream",
     "text": [
      "VendorID: 0/1571088\n",
      "tpep_pickup_datetime: 0/1571088\n",
      "tpep_dropoff_datetime: 0/1571088\n",
      "passenger_count: 15174/1571088\n",
      "trip_distance: 0/1571088\n",
      "RatecodeID: 15174/1571088\n",
      "store_and_fwd_flag: 15174/1571088\n",
      "PULocationID: 0/1571088\n",
      "DOLocationID: 0/1571088\n",
      "payment_type: 0/1571088\n",
      "fare_amount: 0/1571088\n",
      "extra: 0/1571088\n",
      "mta_tax: 0/1571088\n",
      "tip_amount: 0/1571088\n",
      "tolls_amount: 0/1571088\n",
      "improvement_surcharge: 0/1571088\n",
      "total_amount: 0/1571088\n",
      "congestion_surcharge: 15174/1571088\n",
      "airport_fee: 1571088/1571088\n"
     ]
    }
   ],
   "source": [
    "# verificamos cantidad de nulos en cada categoría\n",
    "for i in range(len(df.columns)):\n",
    "  col_name = df.columns[i]\n",
    "  col_data = df[col_name]\n",
    "  print(f'{col_name}: {col_data.isnull().sum()}/{col_data.size}')"
   ]
  },
  {
   "cell_type": "markdown",
   "metadata": {},
   "source": [
    "#### 2.1.1 Análisis de faltantes"
   ]
  },
  {
   "cell_type": "markdown",
   "metadata": {},
   "source": [
    "Las categorías con faltantes son las siguientes:\n",
    "\n",
    "* passenger_count: 15180/1571072\n",
    "* RatecodeID: 15180/1571072\n",
    "* store_and_fwd_flag: 15180/1571072\n",
    "* congestion_surcharge: 15180/1571072\n",
    "* airport_fee: 1571072/1571072\n",
    "\n",
    "Para cada una de estas columnas se decide:\n",
    "* __passenger_count__ es ingresado a mano por lo que los datos faltantes suponemos que corresponden a fallas en la carga por parte del conductor. Se decide eliminar los faltantes dado que representan el 1%\n",
    "* __RatecodeID__ no aporta información por lo que se elimina esta feature\n",
    "* __store_and_fwd_flag__ no aporta información por lo que se elimina esta feature\n",
    "* __congestion_surcharge__ : los faltantes representan el 1% por lo que se quitan\n",
    "* __airport_fee__ se quita ya que todos los valores son nulos\n"
   ]
  },
  {
   "cell_type": "code",
   "execution_count": 31,
   "metadata": {},
   "outputs": [
    {
     "data": {
      "text/plain": [
       "1555914"
      ]
     },
     "execution_count": 31,
     "metadata": {},
     "output_type": "execute_result"
    }
   ],
   "source": [
    "# descarto datos nulos de los features con interés (passenger count y congestion_surcharge)\n",
    "df = df.dropna(subset=['passenger_count', 'congestion_surcharge'])\n",
    "len(df['passenger_count'])"
   ]
  },
  {
   "cell_type": "markdown",
   "metadata": {},
   "source": [
    "#### 2.1.2 Datos no nulos inválidos"
   ]
  },
  {
   "cell_type": "markdown",
   "metadata": {},
   "source": [
    "En algunos features se detectan valores fuera del rango esperado (tal como valores negativos o fuera del rango de las categorías definidas)"
   ]
  },
  {
   "cell_type": "code",
   "execution_count": 32,
   "metadata": {},
   "outputs": [
    {
     "name": "stdout",
     "output_type": "stream",
     "text": [
      "trip_distance: 1/1555914\n",
      "fare_amount: 5006/1555914\n",
      "extra: 2405/1555914\n",
      "mta_tax: 4884/1555914\n",
      "tip_amount: 44/1555914\n",
      "tolls_amount: 97/1555914\n",
      "improvement_surcharge: 5004/1555914\n",
      "total_amount: 5004/1555914\n",
      "congestion_surcharge: 3947/1555914\n"
     ]
    }
   ],
   "source": [
    "# verificamos cantidad de negativos en las categorías numéricas\n",
    "cols_to_check = ['trip_distance', 'fare_amount', 'extra', 'mta_tax', 'tip_amount', 'tolls_amount', 'improvement_surcharge', 'total_amount', 'congestion_surcharge']\n",
    "\n",
    "for i, col in enumerate(cols_to_check):\n",
    "  col_data = df[col]\n",
    "  print(f'{col}: {col_data[col_data < 0].count()}/{col_data.size}')\n",
    "  "
   ]
  },
  {
   "cell_type": "code",
   "execution_count": 33,
   "metadata": {},
   "outputs": [],
   "source": [
    "# Funcion para realizar subplots de variables\n",
    "\n",
    "def plotVariables(dataframe, varArray):\n",
    "    fig = plt.figure(figsize=(30,15))\n",
    "    fig.subplots_adjust(hspace=0.4, wspace=0.4)\n",
    "    for j,colName in enumerate(varArray):\n",
    "        plt.subplot(3,3,j+1)\n",
    "        plt.plot(dataframe[colName])\n",
    "        plt.title(colName)\n",
    "        "
   ]
  },
  {
   "cell_type": "markdown",
   "metadata": {},
   "source": [
    "#### Exploración gráfica de variables con datos negativos"
   ]
  },
  {
   "cell_type": "code",
   "execution_count": 34,
   "metadata": {},
   "outputs": [
    {
     "data": {
      "image/png": "[encoded data removed]",
      "text/plain": [
       "<Figure size 2160x1080 with 9 Axes>"
      ]
     },
     "metadata": {
      "needs_background": "light"
     },
     "output_type": "display_data"
    }
   ],
   "source": [
    " #TODO: Agrego graficos para mostrar estos datos anomalos.\n",
    "# Exploración gráfica de variables con datos negativos.\n",
    "\n",
    "colArrays = ['trip_distance', 'fare_amount', 'extra', 'mta_tax', \n",
    "            'tip_amount', 'tolls_amount', 'improvement_surcharge', \n",
    "            'total_amount', 'congestion_surcharge']\n",
    "\n",
    "plotVariables(df,colArrays)\n"
   ]
  },
  {
   "cell_type": "code",
   "execution_count": 35,
   "metadata": {},
   "outputs": [
    {
     "data": {
      "text/plain": [
       "1535576"
      ]
     },
     "execution_count": 35,
     "metadata": {},
     "output_type": "execute_result"
    }
   ],
   "source": [
    "# trip distance: borro <= 0\n",
    "df = df[(df['trip_distance'] > 0)]\n",
    "# fare_amount: borro < 0\n",
    "df = df[(df['fare_amount'] >= 0)]\n",
    "# extra: borro < 0\n",
    "df = df[(df['extra'] >= 0)]\n",
    "# mta_tax: borro < 0\n",
    "df = df[(df['mta_tax'] >= 0)]\n",
    "# tip_amount: borro < 0\n",
    "df = df[(df['tip_amount'] >= 0)]\n",
    "#tolls amount: borro < 0\n",
    "df = df[(df['tolls_amount'] >= 0)]\n",
    "#improvement_surcharge: borro < 0\n",
    "df = df[(df['improvement_surcharge'] >= 0)]\n",
    "#total_amount: borro < 0\n",
    "df = df[(df['total_amount'] >= 0)]\n",
    "#congestion_surcharge: borro < 0\n",
    "df = df[(df['congestion_surcharge'] >= 0)]\n",
    "\n",
    "len(df)\n",
    "\n"
   ]
  },
  {
   "cell_type": "markdown",
   "metadata": {},
   "source": [
    "#### Exploración gráfica de datos filtrados\n"
   ]
  },
  {
   "cell_type": "code",
   "execution_count": 36,
   "metadata": {},
   "outputs": [
    {
     "data": {
      "image/png": "[encoded data removed]",
      "text/plain": [
       "<Figure size 2160x1080 with 9 Axes>"
      ]
     },
     "metadata": {
      "needs_background": "light"
     },
     "output_type": "display_data"
    }
   ],
   "source": [
    "# Datos sin valores negativos\n",
    "plotVariables(df,colArrays)"
   ]
  },
  {
   "cell_type": "markdown",
   "metadata": {},
   "source": [
    "#### 2.1.3 Filtro entradas por tipo de pago\n",
    "Descarto otros pagos diferenes de CREDIT (payment_type = 1)"
   ]
  },
  {
   "cell_type": "code",
   "execution_count": 37,
   "metadata": {},
   "outputs": [
    {
     "data": {
      "text/html": [
       "<div>\n",
       "<style scoped>\n",
       "    .dataframe tbody tr th:only-of-type {\n",
       "        vertical-align: middle;\n",
       "    }\n",
       "\n",
       "    .dataframe tbody tr th {\n",
       "        vertical-align: top;\n",
       "    }\n",
       "\n",
       "    .dataframe thead th {\n",
       "        text-align: right;\n",
       "    }\n",
       "</style>\n",
       "<table border=\"1\" class=\"dataframe\">\n",
       "  <thead>\n",
       "    <tr style=\"text-align: right;\">\n",
       "      <th></th>\n",
       "      <th>VendorID</th>\n",
       "      <th>passenger_count</th>\n",
       "      <th>trip_distance</th>\n",
       "      <th>RatecodeID</th>\n",
       "      <th>PULocationID</th>\n",
       "      <th>DOLocationID</th>\n",
       "      <th>payment_type</th>\n",
       "      <th>fare_amount</th>\n",
       "      <th>extra</th>\n",
       "      <th>mta_tax</th>\n",
       "      <th>tip_amount</th>\n",
       "      <th>tolls_amount</th>\n",
       "      <th>improvement_surcharge</th>\n",
       "      <th>total_amount</th>\n",
       "      <th>congestion_surcharge</th>\n",
       "    </tr>\n",
       "  </thead>\n",
       "  <tbody>\n",
       "    <tr>\n",
       "      <th>count</th>\n",
       "      <td>1151201.000</td>\n",
       "      <td>1151201.000</td>\n",
       "      <td>1151201.000</td>\n",
       "      <td>1151201.000</td>\n",
       "      <td>1151201.000</td>\n",
       "      <td>1151201.000</td>\n",
       "      <td>1151201.000</td>\n",
       "      <td>1151201.000</td>\n",
       "      <td>1151201.000</td>\n",
       "      <td>1151201.000</td>\n",
       "      <td>1151201.000</td>\n",
       "      <td>1151201.000</td>\n",
       "      <td>1151201.000</td>\n",
       "      <td>1151201.000</td>\n",
       "      <td>1151201.000</td>\n",
       "    </tr>\n",
       "    <tr>\n",
       "      <th>mean</th>\n",
       "      <td>1.671</td>\n",
       "      <td>1.496</td>\n",
       "      <td>2.868</td>\n",
       "      <td>1.039</td>\n",
       "      <td>166.015</td>\n",
       "      <td>163.962</td>\n",
       "      <td>1.000</td>\n",
       "      <td>12.452</td>\n",
       "      <td>1.130</td>\n",
       "      <td>0.498</td>\n",
       "      <td>2.949</td>\n",
       "      <td>0.339</td>\n",
       "      <td>0.300</td>\n",
       "      <td>19.268</td>\n",
       "      <td>2.379</td>\n",
       "    </tr>\n",
       "    <tr>\n",
       "      <th>std</th>\n",
       "      <td>0.470</td>\n",
       "      <td>1.143</td>\n",
       "      <td>3.678</td>\n",
       "      <td>0.278</td>\n",
       "      <td>65.163</td>\n",
       "      <td>69.361</td>\n",
       "      <td>0.000</td>\n",
       "      <td>10.879</td>\n",
       "      <td>1.255</td>\n",
       "      <td>0.031</td>\n",
       "      <td>2.674</td>\n",
       "      <td>1.581</td>\n",
       "      <td>0.003</td>\n",
       "      <td>13.971</td>\n",
       "      <td>0.537</td>\n",
       "    </tr>\n",
       "    <tr>\n",
       "      <th>min</th>\n",
       "      <td>1.000</td>\n",
       "      <td>0.000</td>\n",
       "      <td>0.010</td>\n",
       "      <td>1.000</td>\n",
       "      <td>1.000</td>\n",
       "      <td>1.000</td>\n",
       "      <td>1.000</td>\n",
       "      <td>0.000</td>\n",
       "      <td>0.000</td>\n",
       "      <td>0.000</td>\n",
       "      <td>0.000</td>\n",
       "      <td>0.000</td>\n",
       "      <td>0.000</td>\n",
       "      <td>0.000</td>\n",
       "      <td>0.000</td>\n",
       "    </tr>\n",
       "    <tr>\n",
       "      <th>25%</th>\n",
       "      <td>1.000</td>\n",
       "      <td>1.000</td>\n",
       "      <td>1.000</td>\n",
       "      <td>1.000</td>\n",
       "      <td>132.000</td>\n",
       "      <td>113.000</td>\n",
       "      <td>1.000</td>\n",
       "      <td>6.500</td>\n",
       "      <td>0.000</td>\n",
       "      <td>0.500</td>\n",
       "      <td>1.730</td>\n",
       "      <td>0.000</td>\n",
       "      <td>0.300</td>\n",
       "      <td>11.800</td>\n",
       "      <td>2.500</td>\n",
       "    </tr>\n",
       "    <tr>\n",
       "      <th>50%</th>\n",
       "      <td>2.000</td>\n",
       "      <td>1.000</td>\n",
       "      <td>1.650</td>\n",
       "      <td>1.000</td>\n",
       "      <td>162.000</td>\n",
       "      <td>162.000</td>\n",
       "      <td>1.000</td>\n",
       "      <td>9.000</td>\n",
       "      <td>0.500</td>\n",
       "      <td>0.500</td>\n",
       "      <td>2.320</td>\n",
       "      <td>0.000</td>\n",
       "      <td>0.300</td>\n",
       "      <td>14.800</td>\n",
       "      <td>2.500</td>\n",
       "    </tr>\n",
       "    <tr>\n",
       "      <th>75%</th>\n",
       "      <td>2.000</td>\n",
       "      <td>2.000</td>\n",
       "      <td>2.910</td>\n",
       "      <td>1.000</td>\n",
       "      <td>234.000</td>\n",
       "      <td>234.000</td>\n",
       "      <td>1.000</td>\n",
       "      <td>13.500</td>\n",
       "      <td>2.500</td>\n",
       "      <td>0.500</td>\n",
       "      <td>3.260</td>\n",
       "      <td>0.000</td>\n",
       "      <td>0.300</td>\n",
       "      <td>20.350</td>\n",
       "      <td>2.500</td>\n",
       "    </tr>\n",
       "    <tr>\n",
       "      <th>max</th>\n",
       "      <td>2.000</td>\n",
       "      <td>9.000</td>\n",
       "      <td>211.700</td>\n",
       "      <td>6.000</td>\n",
       "      <td>265.000</td>\n",
       "      <td>265.000</td>\n",
       "      <td>1.000</td>\n",
       "      <td>550.000</td>\n",
       "      <td>18.350</td>\n",
       "      <td>3.300</td>\n",
       "      <td>500.000</td>\n",
       "      <td>198.000</td>\n",
       "      <td>0.300</td>\n",
       "      <td>674.310</td>\n",
       "      <td>2.750</td>\n",
       "    </tr>\n",
       "  </tbody>\n",
       "</table>\n",
       "</div>"
      ],
      "text/plain": [
       "         VendorID  passenger_count  trip_distance  RatecodeID  PULocationID  \\\n",
       "count 1151201.000      1151201.000    1151201.000 1151201.000   1151201.000   \n",
       "mean        1.671            1.496          2.868       1.039       166.015   \n",
       "std         0.470            1.143          3.678       0.278        65.163   \n",
       "min         1.000            0.000          0.010       1.000         1.000   \n",
       "25%         1.000            1.000          1.000       1.000       132.000   \n",
       "50%         2.000            1.000          1.650       1.000       162.000   \n",
       "75%         2.000            2.000          2.910       1.000       234.000   \n",
       "max         2.000            9.000        211.700       6.000       265.000   \n",
       "\n",
       "       DOLocationID  payment_type  fare_amount       extra     mta_tax  \\\n",
       "count   1151201.000   1151201.000  1151201.000 1151201.000 1151201.000   \n",
       "mean        163.962         1.000       12.452       1.130       0.498   \n",
       "std          69.361         0.000       10.879       1.255       0.031   \n",
       "min           1.000         1.000        0.000       0.000       0.000   \n",
       "25%         113.000         1.000        6.500       0.000       0.500   \n",
       "50%         162.000         1.000        9.000       0.500       0.500   \n",
       "75%         234.000         1.000       13.500       2.500       0.500   \n",
       "max         265.000         1.000      550.000      18.350       3.300   \n",
       "\n",
       "       tip_amount  tolls_amount  improvement_surcharge  total_amount  \\\n",
       "count 1151201.000   1151201.000            1151201.000   1151201.000   \n",
       "mean        2.949         0.339                  0.300        19.268   \n",
       "std         2.674         1.581                  0.003        13.971   \n",
       "min         0.000         0.000                  0.000         0.000   \n",
       "25%         1.730         0.000                  0.300        11.800   \n",
       "50%         2.320         0.000                  0.300        14.800   \n",
       "75%         3.260         0.000                  0.300        20.350   \n",
       "max       500.000       198.000                  0.300       674.310   \n",
       "\n",
       "       congestion_surcharge  \n",
       "count           1151201.000  \n",
       "mean                  2.379  \n",
       "std                   0.537  \n",
       "min                   0.000  \n",
       "25%                   2.500  \n",
       "50%                   2.500  \n",
       "75%                   2.500  \n",
       "max                   2.750  "
      ]
     },
     "execution_count": 37,
     "metadata": {},
     "output_type": "execute_result"
    }
   ],
   "source": [
    "df = df[df[\"payment_type\"] == 1]\n",
    "df.describe()"
   ]
  },
  {
   "cell_type": "markdown",
   "metadata": {},
   "source": [
    "### 2.2 Ingeniería de datos"
   ]
  },
  {
   "cell_type": "markdown",
   "metadata": {},
   "source": [
    "#### 2.2.1 Features de tiempo y hora del día"
   ]
  },
  {
   "cell_type": "code",
   "execution_count": 38,
   "metadata": {},
   "outputs": [
    {
     "data": {
      "text/plain": [
       "(0, 0, 0)"
      ]
     },
     "execution_count": 38,
     "metadata": {},
     "output_type": "execute_result"
    }
   ],
   "source": [
    "# generamos una nueva columna \"duration\" con el tiempo de viaje\n",
    "ts_init = pd.to_datetime(df['tpep_pickup_datetime']).values.astype(np.int64) / 1000000000\n",
    "ts_end = pd.to_datetime(df['tpep_dropoff_datetime']).values.astype(np.int64) / 1000000000\n",
    "duration = ts_end - ts_init\n",
    "df['duration'] = duration\n",
    "\n",
    "# ademas creamos 3 categorías para el horario en que se inició el viaje: diurno, vespertino y nocturno\n",
    "MORNING_START = 6\n",
    "MORNING_END = 13\n",
    "AFTERNOON_START = 14\n",
    "AFTERNOON_END = 20\n",
    "EVENING_START = 21\n",
    "EVENING_END = 5 \n",
    "\n",
    "day_interval = df['tpep_pickup_datetime'].dt.hour\n",
    "df['morning'] = pd.cut(day_interval, bins=[-float('Inf'), MORNING_START - 1, MORNING_END, float('Inf')], labels=[0, 1, 0], ordered=False)\n",
    "df['afternoon'] = pd.cut(day_interval, bins=[-float('Inf'), AFTERNOON_START - 1, AFTERNOON_END, float('Inf')], labels=[0, 1, 0], ordered=False)\n",
    "df['evening'] = pd.cut(day_interval, bins=[-float('Inf'), 0, EVENING_END, EVENING_START, 23, float('Inf')], labels=[0, 1, 0, 1, 0], ordered=False)\n",
    "\n",
    "# reviso que sean validas \n",
    "df['morning'].values.isnull().sum(), df['afternoon'].values.isnull().sum(), df['evening'].values.isnull().sum()"
   ]
  },
  {
   "cell_type": "code",
   "execution_count": 39,
   "metadata": {},
   "outputs": [],
   "source": [
    "def outlier_diagnostic_plots(df, variable):\n",
    "    fig,axes = plt.subplots(1,3,figsize=(20,4))\n",
    "\n",
    "    sns.histplot(df[variable], bins=30,ax=axes[0], kde=True)\n",
    "    axes[0].set_title('Histograma')\n",
    "    \n",
    "    stats.probplot(df[variable], dist=\"norm\", plot=axes[1])\n",
    "    axes[1].set_title('QQ')\n",
    "    \n",
    "    # boxplot    \n",
    "    sns.boxplot(y=df[variable],ax=axes[2])\n",
    "    axes[2].set_title('Box&Whiskers')"
   ]
  },
  {
   "cell_type": "code",
   "execution_count": 40,
   "metadata": {},
   "outputs": [
    {
     "name": "stdout",
     "output_type": "stream",
     "text": [
      "Duraciones inválidas: 0\n"
     ]
    }
   ],
   "source": [
    "# termino de borrar todos los negativos\n",
    "df['morning'].values.isnull().sum(), df['afternoon'].values.isnull().sum(), df['evening'].values.isnull().sum()\n",
    "\n",
    "# verifico si tengo entradas con duration < 0\n",
    "duration_invalid = df[df['duration'] < 0]['duration'].count()\n",
    "print(f'Duraciones inválidas: {duration_invalid}')"
   ]
  },
  {
   "cell_type": "code",
   "execution_count": 41,
   "metadata": {},
   "outputs": [],
   "source": [
    "# Se eliminan las duraciones invalidas\n",
    "df = df[(df['duration'] >= 0)]"
   ]
  },
  {
   "cell_type": "code",
   "execution_count": 42,
   "metadata": {},
   "outputs": [
    {
     "data": {
      "image/png": "[encoded data removed]",
      "text/plain": [
       "<Figure size 1440x288 with 3 Axes>"
      ]
     },
     "metadata": {
      "needs_background": "light"
     },
     "output_type": "display_data"
    }
   ],
   "source": [
    "# Graficamos las nuevas columnas para observar su distribucion.\n",
    "outlier_diagnostic_plots(df, 'duration')"
   ]
  },
  {
   "cell_type": "markdown",
   "metadata": {},
   "source": [
    "#### Exploración gráfica de Morning, Afternoon, Evening"
   ]
  },
  {
   "cell_type": "code",
   "execution_count": 43,
   "metadata": {},
   "outputs": [
    {
     "data": {
      "text/plain": [
       "Text(0.5, 1.0, 'Evening')"
      ]
     },
     "execution_count": 43,
     "metadata": {},
     "output_type": "execute_result"
    },
    {
     "data": {
      "image/png": "[encoded data removed]",
      "text/plain": [
       "<Figure size 1800x360 with 3 Axes>"
      ]
     },
     "metadata": {
      "needs_background": "light"
     },
     "output_type": "display_data"
    }
   ],
   "source": [
    "fig,axes = plt.subplots(1,3,figsize=(25,5))\n",
    "\n",
    "\n",
    "sns.countplot(x='morning', data=df,ax=axes[0])\n",
    "axes[0].set_title('Morning')\n",
    "\n",
    "sns.countplot(x='afternoon', data=df,ax=axes[1])\n",
    "axes[1].set_title('Afternoon')\n",
    "\n",
    "sns.countplot(x='evening', data=df,ax=axes[2])\n",
    "axes[2].set_title('Evening')\n"
   ]
  },
  {
   "cell_type": "markdown",
   "metadata": {},
   "source": [
    "#### 2.2.2 Codificación del origen y destino"
   ]
  },
  {
   "cell_type": "code",
   "execution_count": 44,
   "metadata": {},
   "outputs": [
    {
     "name": "stdout",
     "output_type": "stream",
     "text": [
      "[(237, 52520), (161, 51734), (236, 50901), (162, 44930), (186, 39500), (230, 38671), (234, 37360), (170, 37250), (142, 35612), (48, 32952)]\n",
      "[(0, 729771), (237, 52520), (161, 51734), (236, 50901), (162, 44930), (186, 39500), (230, 38671), (234, 37360), (170, 37250), (142, 35612), (48, 32952)]\n"
     ]
    },
    {
     "data": {
      "image/png": "[encoded data removed]",
      "text/plain": [
       "<Figure size 432x288 with 1 Axes>"
      ]
     },
     "metadata": {
      "needs_background": "light"
     },
     "output_type": "display_data"
    }
   ],
   "source": [
    "# definimos el umbral mínimo de cantidad de viajes para podar las categorías PULocationID y DOLocationID.\n",
    "# location_id_min_th_count = 0.01\n",
    "# total_items = len(df['PULocationID'])\n",
    "\n",
    "# # convertimos PULocationID usando frequency encoding y me quedo con los que representan al menos 1%\n",
    "# pulocation_id_freq_map = (df['PULocationID'].value_counts(sort=True) / total_items).to_dict()\n",
    "# df['PULocationIDFreq'] = df['PULocationID'].apply(lambda x: pulocation_id_freq_map[x])\n",
    "# # # convertimos DOLocationID\n",
    "# # dolocation_id_freq_map = (df['DOLocationID'].value_counts(sort=True) / total_items).to_dict()\n",
    "# # df['DOLocationIDFreq'] = df['DOLocationID'].apply(lambda x: dolocation_id_freq_map[x])\n",
    "\n",
    "# #pongo en 0 todas las categorías con menor frecuencia que <location_id_min_th_count>\n",
    "# def clear_location_low_values(x, th):\n",
    "#   if x <= th:\n",
    "#     return 0\n",
    "#   return x\n",
    "\n",
    "# df['PULocationIDFreq'] = df['PULocationIDFreq'].apply(lambda x: clear_location_low_values(x, location_id_min_th_count))\n",
    "# # df['DOLocationIDFreq'] = df['DOLocationIDFreq'].apply(lambda x: clear_location_low_values(x, location_id_min_th_count))\n",
    "# Contamos las apariciones de los lugares mas concurridos\n",
    "from turtle import color\n",
    "\n",
    "\n",
    "mostPickUpSites = Counter(df['PULocationID'])\n",
    "\n",
    "# Mostramos los 10 primeros.\n",
    "print(mostPickUpSites.most_common(10))\n",
    "\n",
    "aux = mostPickUpSites.most_common(10)\n",
    "most_pickup_important_places = []\n",
    "for i in aux:\n",
    "    most_pickup_important_places.append(i[0])\n",
    "\n",
    "    \n",
    "# for i, placeValue in enumerate(df['DOLocationID']):\n",
    "#     if (not placeValue in most_important_places):\n",
    "#         df.loc[i,'DOLocationID'] = 0\n",
    "\n",
    "df['PULocationID'] = np.where(df['PULocationID'].isin(most_pickup_important_places), df['PULocationID'], 0)\n",
    "\n",
    "type_feature = df['PULocationID'].value_counts()\n",
    "\n",
    "sns.barplot(x=type_feature.index, y=type_feature.values, data=df['PULocationID'])\n",
    "commonPickUpSites = Counter(df['PULocationID'])\n",
    "# Mostramos los 10 primeros.\n",
    "print(commonPickUpSites.most_common(20))\n"
   ]
  },
  {
   "cell_type": "markdown",
   "metadata": {},
   "source": [
    "#### 2.2.3 Balance de la variable de salida"
   ]
  },
  {
   "cell_type": "code",
   "execution_count": 45,
   "metadata": {},
   "outputs": [
    {
     "data": {
      "text/plain": [
       "(1, 265)"
      ]
     },
     "execution_count": 45,
     "metadata": {},
     "output_type": "execute_result"
    }
   ],
   "source": [
    "#verifico el rango de los ids\n",
    "df['DOLocationID'].min(), df['DOLocationID'].max()\n"
   ]
  },
  {
   "cell_type": "code",
   "execution_count": 46,
   "metadata": {},
   "outputs": [],
   "source": [
    "#asigno a la categoria 0 a todos los que aparecen por debajo del 1%\n",
    "# location_id_min_th_count = 0.01 * len(df)\n",
    "# df['DOLocationIDTruncated'] = df['DOLocationID'].apply(lambda x: clear_location_low_values(x, location_id_min_th_count))\n",
    "# df['DOLocationIDTruncated'].values[:10], location_id_min_th_count\n"
   ]
  },
  {
   "cell_type": "code",
   "execution_count": 47,
   "metadata": {},
   "outputs": [
    {
     "name": "stdout",
     "output_type": "stream",
     "text": [
      "[(236, 54376), (237, 47446), (161, 44520), (170, 37360), (162, 35127), (234, 32960), (142, 32591), (239, 32238), (141, 31756), (230, 30582)]\n",
      "[(0, 772245), (236, 54376), (237, 47446), (161, 44520), (170, 37360), (162, 35127), (234, 32960), (142, 32591), (239, 32238), (141, 31756), (230, 30582)]\n"
     ]
    },
    {
     "data": {
      "image/png": "[encoded data removed]",
      "text/plain": [
       "<Figure size 432x288 with 1 Axes>"
      ]
     },
     "metadata": {
      "needs_background": "light"
     },
     "output_type": "display_data"
    }
   ],
   "source": [
    "\n",
    "\n",
    "# Contamos las apariciones de los lugares mas concurridos\n",
    "mostCommonSites = Counter(df['DOLocationID'])\n",
    "\n",
    "# Mostramos los 10 primeros.\n",
    "print(mostCommonSites.most_common(10))\n",
    "\n",
    "aux = mostCommonSites.most_common(10)\n",
    "most_important_places = []\n",
    "for i in aux:\n",
    "    most_important_places.append(i[0])\n",
    "\n",
    "    \n",
    "# for i, placeValue in enumerate(df['DOLocationID']):\n",
    "#     if (not placeValue in most_important_places):\n",
    "#         df.loc[i,'DOLocationID'] = 0\n",
    "\n",
    "df['DOLocationID'] = np.where(df['DOLocationID'].isin(most_important_places), df['DOLocationID'], 0)\n",
    "\n",
    "type_feature = df['DOLocationID'].value_counts()\n",
    "\n",
    "sns.barplot(x=type_feature.index, y=type_feature.values, data=df['DOLocationID'])\n",
    "commonSites = Counter(df['DOLocationID'])\n",
    "# Mostramos los 10 primeros.\n",
    "print(commonSites.most_common(20))"
   ]
  },
  {
   "cell_type": "code",
   "execution_count": 48,
   "metadata": {},
   "outputs": [
    {
     "data": {
      "text/html": [
       "<div>\n",
       "<style scoped>\n",
       "    .dataframe tbody tr th:only-of-type {\n",
       "        vertical-align: middle;\n",
       "    }\n",
       "\n",
       "    .dataframe tbody tr th {\n",
       "        vertical-align: top;\n",
       "    }\n",
       "\n",
       "    .dataframe thead th {\n",
       "        text-align: right;\n",
       "    }\n",
       "</style>\n",
       "<table border=\"1\" class=\"dataframe\">\n",
       "  <thead>\n",
       "    <tr style=\"text-align: right;\">\n",
       "      <th></th>\n",
       "      <th>VendorID</th>\n",
       "      <th>passenger_count</th>\n",
       "      <th>trip_distance</th>\n",
       "      <th>RatecodeID</th>\n",
       "      <th>PULocationID</th>\n",
       "      <th>DOLocationID</th>\n",
       "      <th>payment_type</th>\n",
       "      <th>fare_amount</th>\n",
       "      <th>extra</th>\n",
       "      <th>mta_tax</th>\n",
       "      <th>tip_amount</th>\n",
       "      <th>tolls_amount</th>\n",
       "      <th>improvement_surcharge</th>\n",
       "      <th>total_amount</th>\n",
       "      <th>congestion_surcharge</th>\n",
       "      <th>duration</th>\n",
       "    </tr>\n",
       "  </thead>\n",
       "  <tbody>\n",
       "    <tr>\n",
       "      <th>count</th>\n",
       "      <td>1151201.000</td>\n",
       "      <td>1151201.000</td>\n",
       "      <td>1151201.000</td>\n",
       "      <td>1151201.000</td>\n",
       "      <td>1151201.000</td>\n",
       "      <td>1151201.000</td>\n",
       "      <td>1151201.000</td>\n",
       "      <td>1151201.000</td>\n",
       "      <td>1151201.000</td>\n",
       "      <td>1151201.000</td>\n",
       "      <td>1151201.000</td>\n",
       "      <td>1151201.000</td>\n",
       "      <td>1151201.000</td>\n",
       "      <td>1151201.000</td>\n",
       "      <td>1151201.000</td>\n",
       "      <td>1151201.000</td>\n",
       "    </tr>\n",
       "    <tr>\n",
       "      <th>mean</th>\n",
       "      <td>1.671</td>\n",
       "      <td>1.496</td>\n",
       "      <td>2.868</td>\n",
       "      <td>1.039</td>\n",
       "      <td>67.775</td>\n",
       "      <td>65.014</td>\n",
       "      <td>1.000</td>\n",
       "      <td>12.452</td>\n",
       "      <td>1.130</td>\n",
       "      <td>0.498</td>\n",
       "      <td>2.949</td>\n",
       "      <td>0.339</td>\n",
       "      <td>0.300</td>\n",
       "      <td>19.268</td>\n",
       "      <td>2.379</td>\n",
       "      <td>943.320</td>\n",
       "    </tr>\n",
       "    <tr>\n",
       "      <th>std</th>\n",
       "      <td>0.470</td>\n",
       "      <td>1.143</td>\n",
       "      <td>3.678</td>\n",
       "      <td>0.278</td>\n",
       "      <td>94.799</td>\n",
       "      <td>95.666</td>\n",
       "      <td>0.000</td>\n",
       "      <td>10.879</td>\n",
       "      <td>1.255</td>\n",
       "      <td>0.031</td>\n",
       "      <td>2.674</td>\n",
       "      <td>1.581</td>\n",
       "      <td>0.003</td>\n",
       "      <td>13.971</td>\n",
       "      <td>0.537</td>\n",
       "      <td>3492.428</td>\n",
       "    </tr>\n",
       "    <tr>\n",
       "      <th>min</th>\n",
       "      <td>1.000</td>\n",
       "      <td>0.000</td>\n",
       "      <td>0.010</td>\n",
       "      <td>1.000</td>\n",
       "      <td>0.000</td>\n",
       "      <td>0.000</td>\n",
       "      <td>1.000</td>\n",
       "      <td>0.000</td>\n",
       "      <td>0.000</td>\n",
       "      <td>0.000</td>\n",
       "      <td>0.000</td>\n",
       "      <td>0.000</td>\n",
       "      <td>0.000</td>\n",
       "      <td>0.000</td>\n",
       "      <td>0.000</td>\n",
       "      <td>0.000</td>\n",
       "    </tr>\n",
       "    <tr>\n",
       "      <th>25%</th>\n",
       "      <td>1.000</td>\n",
       "      <td>1.000</td>\n",
       "      <td>1.000</td>\n",
       "      <td>1.000</td>\n",
       "      <td>0.000</td>\n",
       "      <td>0.000</td>\n",
       "      <td>1.000</td>\n",
       "      <td>6.500</td>\n",
       "      <td>0.000</td>\n",
       "      <td>0.500</td>\n",
       "      <td>1.730</td>\n",
       "      <td>0.000</td>\n",
       "      <td>0.300</td>\n",
       "      <td>11.800</td>\n",
       "      <td>2.500</td>\n",
       "      <td>400.000</td>\n",
       "    </tr>\n",
       "    <tr>\n",
       "      <th>50%</th>\n",
       "      <td>2.000</td>\n",
       "      <td>1.000</td>\n",
       "      <td>1.650</td>\n",
       "      <td>1.000</td>\n",
       "      <td>0.000</td>\n",
       "      <td>0.000</td>\n",
       "      <td>1.000</td>\n",
       "      <td>9.000</td>\n",
       "      <td>0.500</td>\n",
       "      <td>0.500</td>\n",
       "      <td>2.320</td>\n",
       "      <td>0.000</td>\n",
       "      <td>0.300</td>\n",
       "      <td>14.800</td>\n",
       "      <td>2.500</td>\n",
       "      <td>645.000</td>\n",
       "    </tr>\n",
       "    <tr>\n",
       "      <th>75%</th>\n",
       "      <td>2.000</td>\n",
       "      <td>2.000</td>\n",
       "      <td>2.910</td>\n",
       "      <td>1.000</td>\n",
       "      <td>162.000</td>\n",
       "      <td>161.000</td>\n",
       "      <td>1.000</td>\n",
       "      <td>13.500</td>\n",
       "      <td>2.500</td>\n",
       "      <td>0.500</td>\n",
       "      <td>3.260</td>\n",
       "      <td>0.000</td>\n",
       "      <td>0.300</td>\n",
       "      <td>20.350</td>\n",
       "      <td>2.500</td>\n",
       "      <td>1023.000</td>\n",
       "    </tr>\n",
       "    <tr>\n",
       "      <th>max</th>\n",
       "      <td>2.000</td>\n",
       "      <td>9.000</td>\n",
       "      <td>211.700</td>\n",
       "      <td>6.000</td>\n",
       "      <td>237.000</td>\n",
       "      <td>239.000</td>\n",
       "      <td>1.000</td>\n",
       "      <td>550.000</td>\n",
       "      <td>18.350</td>\n",
       "      <td>3.300</td>\n",
       "      <td>500.000</td>\n",
       "      <td>198.000</td>\n",
       "      <td>0.300</td>\n",
       "      <td>674.310</td>\n",
       "      <td>2.750</td>\n",
       "      <td>86376.000</td>\n",
       "    </tr>\n",
       "  </tbody>\n",
       "</table>\n",
       "</div>"
      ],
      "text/plain": [
       "         VendorID  passenger_count  trip_distance  RatecodeID  PULocationID  \\\n",
       "count 1151201.000      1151201.000    1151201.000 1151201.000   1151201.000   \n",
       "mean        1.671            1.496          2.868       1.039        67.775   \n",
       "std         0.470            1.143          3.678       0.278        94.799   \n",
       "min         1.000            0.000          0.010       1.000         0.000   \n",
       "25%         1.000            1.000          1.000       1.000         0.000   \n",
       "50%         2.000            1.000          1.650       1.000         0.000   \n",
       "75%         2.000            2.000          2.910       1.000       162.000   \n",
       "max         2.000            9.000        211.700       6.000       237.000   \n",
       "\n",
       "       DOLocationID  payment_type  fare_amount       extra     mta_tax  \\\n",
       "count   1151201.000   1151201.000  1151201.000 1151201.000 1151201.000   \n",
       "mean         65.014         1.000       12.452       1.130       0.498   \n",
       "std          95.666         0.000       10.879       1.255       0.031   \n",
       "min           0.000         1.000        0.000       0.000       0.000   \n",
       "25%           0.000         1.000        6.500       0.000       0.500   \n",
       "50%           0.000         1.000        9.000       0.500       0.500   \n",
       "75%         161.000         1.000       13.500       2.500       0.500   \n",
       "max         239.000         1.000      550.000      18.350       3.300   \n",
       "\n",
       "       tip_amount  tolls_amount  improvement_surcharge  total_amount  \\\n",
       "count 1151201.000   1151201.000            1151201.000   1151201.000   \n",
       "mean        2.949         0.339                  0.300        19.268   \n",
       "std         2.674         1.581                  0.003        13.971   \n",
       "min         0.000         0.000                  0.000         0.000   \n",
       "25%         1.730         0.000                  0.300        11.800   \n",
       "50%         2.320         0.000                  0.300        14.800   \n",
       "75%         3.260         0.000                  0.300        20.350   \n",
       "max       500.000       198.000                  0.300       674.310   \n",
       "\n",
       "       congestion_surcharge    duration  \n",
       "count           1151201.000 1151201.000  \n",
       "mean                  2.379     943.320  \n",
       "std                   0.537    3492.428  \n",
       "min                   0.000       0.000  \n",
       "25%                   2.500     400.000  \n",
       "50%                   2.500     645.000  \n",
       "75%                   2.500    1023.000  \n",
       "max                   2.750   86376.000  "
      ]
     },
     "execution_count": 48,
     "metadata": {},
     "output_type": "execute_result"
    }
   ],
   "source": [
    "df.describe()"
   ]
  },
  {
   "cell_type": "markdown",
   "metadata": {},
   "source": [
    "### 2.3 Selección final de las features"
   ]
  },
  {
   "cell_type": "markdown",
   "metadata": {},
   "source": [
    "En base al procesamiento anterior, seleccionamos los siguientes features del dataset:"
   ]
  },
  {
   "cell_type": "code",
   "execution_count": 49,
   "metadata": {},
   "outputs": [],
   "source": [
    "\n",
    "feature_cols = [\n",
    "  'passenger_count', 'trip_distance', 'fare_amount', 'extra', \n",
    "  'mta_tax', 'tip_amount', 'tolls_amount', \n",
    "  'improvement_surcharge', 'total_amount', \n",
    "  'congestion_surcharge', 'duration', 'PULocationID',\n",
    "  'morning', 'afternoon', 'evening']\n",
    "target_col = ['DOLocationID']\n",
    "\n",
    "X = df[feature_cols]\n",
    "y = df[target_col]"
   ]
  },
  {
   "cell_type": "markdown",
   "metadata": {},
   "source": [
    "#### Eliminacion de datos con baja varianza"
   ]
  },
  {
   "cell_type": "code",
   "execution_count": 50,
   "metadata": {},
   "outputs": [
    {
     "name": "stdout",
     "output_type": "stream",
     "text": [
      "(1151201, 15)\n",
      "(1151201, 13)\n",
      "2\n",
      "mta_tax\n",
      "improvement_surcharge\n"
     ]
    },
    {
     "data": {
      "text/plain": [
       "(1151201, 13)"
      ]
     },
     "execution_count": 50,
     "metadata": {},
     "output_type": "execute_result"
    }
   ],
   "source": [
    "# TODO\n",
    "from statistics import variance\n",
    "from sklearn.feature_selection import VarianceThreshold\n",
    "\n",
    "constant_filter = VarianceThreshold(threshold=0.01)\n",
    "\n",
    "#Fit and transforming on train data\n",
    "data_constant = constant_filter.fit_transform(X)\n",
    "print(X.shape)\n",
    "print(data_constant.shape)\n",
    "\n",
    "#Extracting all constant columns using get support function of our filter\n",
    "constant_columns = [column for column in X.columns\n",
    "                    if column not in X.columns[constant_filter.get_support()]]\n",
    "\n",
    "#No. of constant columns\n",
    "print(len(constant_columns))\n",
    "\n",
    "#Constant columns names:\n",
    "for column in constant_columns:\n",
    "    print(column)\n",
    "    \n",
    "variance_X = X.drop(constant_columns,axis=1)\n",
    "variance_X.shape"
   ]
  },
  {
   "cell_type": "code",
   "execution_count": 51,
   "metadata": {},
   "outputs": [
    {
     "data": {
      "text/html": [
       "<div>\n",
       "<style scoped>\n",
       "    .dataframe tbody tr th:only-of-type {\n",
       "        vertical-align: middle;\n",
       "    }\n",
       "\n",
       "    .dataframe tbody tr th {\n",
       "        vertical-align: top;\n",
       "    }\n",
       "\n",
       "    .dataframe thead th {\n",
       "        text-align: right;\n",
       "    }\n",
       "</style>\n",
       "<table border=\"1\" class=\"dataframe\">\n",
       "  <thead>\n",
       "    <tr style=\"text-align: right;\">\n",
       "      <th></th>\n",
       "      <th>passenger_count</th>\n",
       "      <th>trip_distance</th>\n",
       "      <th>fare_amount</th>\n",
       "      <th>extra</th>\n",
       "      <th>tip_amount</th>\n",
       "      <th>tolls_amount</th>\n",
       "      <th>total_amount</th>\n",
       "      <th>congestion_surcharge</th>\n",
       "      <th>duration</th>\n",
       "      <th>PULocationID</th>\n",
       "    </tr>\n",
       "  </thead>\n",
       "  <tbody>\n",
       "    <tr>\n",
       "      <th>count</th>\n",
       "      <td>1151201.000</td>\n",
       "      <td>1151201.000</td>\n",
       "      <td>1151201.000</td>\n",
       "      <td>1151201.000</td>\n",
       "      <td>1151201.000</td>\n",
       "      <td>1151201.000</td>\n",
       "      <td>1151201.000</td>\n",
       "      <td>1151201.000</td>\n",
       "      <td>1151201.000</td>\n",
       "      <td>1151201.000</td>\n",
       "    </tr>\n",
       "    <tr>\n",
       "      <th>mean</th>\n",
       "      <td>1.496</td>\n",
       "      <td>2.868</td>\n",
       "      <td>12.452</td>\n",
       "      <td>1.130</td>\n",
       "      <td>2.949</td>\n",
       "      <td>0.339</td>\n",
       "      <td>19.268</td>\n",
       "      <td>2.379</td>\n",
       "      <td>943.320</td>\n",
       "      <td>67.775</td>\n",
       "    </tr>\n",
       "    <tr>\n",
       "      <th>std</th>\n",
       "      <td>1.143</td>\n",
       "      <td>3.678</td>\n",
       "      <td>10.879</td>\n",
       "      <td>1.255</td>\n",
       "      <td>2.674</td>\n",
       "      <td>1.581</td>\n",
       "      <td>13.971</td>\n",
       "      <td>0.537</td>\n",
       "      <td>3492.428</td>\n",
       "      <td>94.799</td>\n",
       "    </tr>\n",
       "    <tr>\n",
       "      <th>min</th>\n",
       "      <td>0.000</td>\n",
       "      <td>0.010</td>\n",
       "      <td>0.000</td>\n",
       "      <td>0.000</td>\n",
       "      <td>0.000</td>\n",
       "      <td>0.000</td>\n",
       "      <td>0.000</td>\n",
       "      <td>0.000</td>\n",
       "      <td>0.000</td>\n",
       "      <td>0.000</td>\n",
       "    </tr>\n",
       "    <tr>\n",
       "      <th>25%</th>\n",
       "      <td>1.000</td>\n",
       "      <td>1.000</td>\n",
       "      <td>6.500</td>\n",
       "      <td>0.000</td>\n",
       "      <td>1.730</td>\n",
       "      <td>0.000</td>\n",
       "      <td>11.800</td>\n",
       "      <td>2.500</td>\n",
       "      <td>400.000</td>\n",
       "      <td>0.000</td>\n",
       "    </tr>\n",
       "    <tr>\n",
       "      <th>50%</th>\n",
       "      <td>1.000</td>\n",
       "      <td>1.650</td>\n",
       "      <td>9.000</td>\n",
       "      <td>0.500</td>\n",
       "      <td>2.320</td>\n",
       "      <td>0.000</td>\n",
       "      <td>14.800</td>\n",
       "      <td>2.500</td>\n",
       "      <td>645.000</td>\n",
       "      <td>0.000</td>\n",
       "    </tr>\n",
       "    <tr>\n",
       "      <th>75%</th>\n",
       "      <td>2.000</td>\n",
       "      <td>2.910</td>\n",
       "      <td>13.500</td>\n",
       "      <td>2.500</td>\n",
       "      <td>3.260</td>\n",
       "      <td>0.000</td>\n",
       "      <td>20.350</td>\n",
       "      <td>2.500</td>\n",
       "      <td>1023.000</td>\n",
       "      <td>162.000</td>\n",
       "    </tr>\n",
       "    <tr>\n",
       "      <th>max</th>\n",
       "      <td>9.000</td>\n",
       "      <td>211.700</td>\n",
       "      <td>550.000</td>\n",
       "      <td>18.350</td>\n",
       "      <td>500.000</td>\n",
       "      <td>198.000</td>\n",
       "      <td>674.310</td>\n",
       "      <td>2.750</td>\n",
       "      <td>86376.000</td>\n",
       "      <td>237.000</td>\n",
       "    </tr>\n",
       "  </tbody>\n",
       "</table>\n",
       "</div>"
      ],
      "text/plain": [
       "       passenger_count  trip_distance  fare_amount       extra  tip_amount  \\\n",
       "count      1151201.000    1151201.000  1151201.000 1151201.000 1151201.000   \n",
       "mean             1.496          2.868       12.452       1.130       2.949   \n",
       "std              1.143          3.678       10.879       1.255       2.674   \n",
       "min              0.000          0.010        0.000       0.000       0.000   \n",
       "25%              1.000          1.000        6.500       0.000       1.730   \n",
       "50%              1.000          1.650        9.000       0.500       2.320   \n",
       "75%              2.000          2.910       13.500       2.500       3.260   \n",
       "max              9.000        211.700      550.000      18.350     500.000   \n",
       "\n",
       "       tolls_amount  total_amount  congestion_surcharge    duration  \\\n",
       "count   1151201.000   1151201.000           1151201.000 1151201.000   \n",
       "mean          0.339        19.268                 2.379     943.320   \n",
       "std           1.581        13.971                 0.537    3492.428   \n",
       "min           0.000         0.000                 0.000       0.000   \n",
       "25%           0.000        11.800                 2.500     400.000   \n",
       "50%           0.000        14.800                 2.500     645.000   \n",
       "75%           0.000        20.350                 2.500    1023.000   \n",
       "max         198.000       674.310                 2.750   86376.000   \n",
       "\n",
       "       PULocationID  \n",
       "count   1151201.000  \n",
       "mean         67.775  \n",
       "std          94.799  \n",
       "min           0.000  \n",
       "25%           0.000  \n",
       "50%           0.000  \n",
       "75%         162.000  \n",
       "max         237.000  "
      ]
     },
     "execution_count": 51,
     "metadata": {},
     "output_type": "execute_result"
    }
   ],
   "source": [
    "variance_X.describe()"
   ]
  },
  {
   "cell_type": "code",
   "execution_count": 52,
   "metadata": {},
   "outputs": [
    {
     "data": {
      "text/plain": [
       "(1151201, 1)"
      ]
     },
     "execution_count": 52,
     "metadata": {},
     "output_type": "execute_result"
    }
   ],
   "source": [
    "y.shape"
   ]
  },
  {
   "cell_type": "markdown",
   "metadata": {},
   "source": [
    "## 3.Entrenamiento de modelos \n",
    "### 3.1 Separación de datos\n"
   ]
  },
  {
   "cell_type": "code",
   "execution_count": null,
   "metadata": {},
   "outputs": [],
   "source": [
    "# Particionamos en train y test\n",
    "train_ratio = 0.7\n",
    "test_ratio = 0.3\n",
    "\n",
    "X_train, X_test, y_train, y_test = train_test_split(X, y, stratify=y, random_state=1)\n"
   ]
  },
  {
   "cell_type": "code",
   "execution_count": null,
   "metadata": {},
   "outputs": [],
   "source": [
    "#imprimo tamaños de los dataset de train y test\n",
    "print(f'train len={len(X_train)}')\n",
    "print(f'test len={len(X_test)}')"
   ]
  },
  {
   "cell_type": "markdown",
   "metadata": {},
   "source": [
    "### 3.2 Random Forest"
   ]
  },
  {
   "cell_type": "code",
   "execution_count": null,
   "metadata": {},
   "outputs": [],
   "source": [
    "from sklearn.ensemble import RandomForestClassifier"
   ]
  },
  {
   "cell_type": "code",
   "execution_count": null,
   "metadata": {},
   "outputs": [],
   "source": [
    "total_trees = 100 # number of trees\n",
    "max_depth = 2\n",
    "\n",
    "rf = RandomForestClassifier(n_estimators = total_trees, max_depth = max_depth, random_state=0)"
   ]
  },
  {
   "cell_type": "code",
   "execution_count": null,
   "metadata": {},
   "outputs": [],
   "source": [
    "rf.fit(X_train, y_train.values.reshape(-1))\n"
   ]
  },
  {
   "cell_type": "code",
   "execution_count": null,
   "metadata": {},
   "outputs": [],
   "source": [
    "\n",
    "# Utilizamos el método de predicción en los datos de prueba\n",
    "y_rf_pred = rf.predict(X_test)"
   ]
  },
  {
   "cell_type": "code",
   "execution_count": null,
   "metadata": {},
   "outputs": [],
   "source": [
    "print(classification_report(y_test,y_rf_pred))\n",
    "print('Area bajo la curva ROC:',np.round(roc_auc_score(y_test,y_rf_pred),4))\n",
    "# rf_precision, rf_recall, rf_threshold=precision_recall_curve(y_test, y_rf_pred)\n",
    "# print('Area bajo la curva Precision-Recall:',np.round(auc(rf_recall,rf_precision),4))\n",
    "# plot_confusion_matrix(rf, X_test, y_test,cmap='Blues')"
   ]
  },
  {
   "cell_type": "markdown",
   "metadata": {},
   "source": [
    "### 3.3 Regresión logística"
   ]
  },
  {
   "cell_type": "code",
   "execution_count": null,
   "metadata": {},
   "outputs": [],
   "source": [
    "def logistic_regression_report(X_train,X_test,y_train,y_test):\n",
    "    \n",
    "    scaler=StandardScaler()  \n",
    "    \n",
    "    X_train_sc=scaler.fit_transform(X_train) # Estandarizamos los datos     \n",
    "    X_test_sc=scaler.transform(X_test)\n",
    "        \n",
    "    model=LogisticRegressionCV(scoring='f1')\n",
    "    \n",
    "    model.fit(X_train_sc,y_train)\n",
    "    y_pred=model.predict(X_test_sc)\n",
    "    y_proba=model.predict_proba(X_test_sc)\n",
    "    \n",
    "    print(classification_report(y_test,y_pred))    \n",
    "    print('Area bajo la curva ROC:',np.round(roc_auc_score(y_test,y_proba[:,1]),4))    \n",
    "    precision, recall,threshold=precision_recall_curve(y_test,y_proba[:,1])\n",
    "    print('Area bajo la curva Precision-Recall:',np.round(auc(recall,precision),4))\n",
    "    print(f'Precision:{precision}, Recall: {recall}:')\n",
    "    plot_confusion_matrix(model,X_test_sc,y_test,cmap='Blues')"
   ]
  },
  {
   "cell_type": "code",
   "execution_count": null,
   "metadata": {},
   "outputs": [],
   "source": [
    "#logistic_regression_report(X_train, X_test, y_train, y_test)\n",
    "scaler = StandardScaler()  \n",
    "X_train_sc = scaler.fit_transform(X_train) # Estandarizamos los datos     \n",
    "X_test_sc = scaler.transform(X_test)\n",
    "\n",
    "lr = LogisticRegression(random_state = 1)\n",
    "lr.fit(X_train_sc,y_train)\n",
    "y_lr_pred = lr.predict(X_test_sc)\n",
    "lr_precision, lr_recall, lr_threshold=precision_recall_curve(y_test,y_lr_pred)\n",
    "\n",
    "lr_precision, lr_recall, lr_threshold"
   ]
  },
  {
   "cell_type": "code",
   "execution_count": null,
   "metadata": {},
   "outputs": [],
   "source": [
    "lr_precision"
   ]
  },
  {
   "cell_type": "markdown",
   "metadata": {},
   "source": [
    "# TODO - Falta terminar\n",
    "\n",
    "1. Aplicar filtrado Kendall para analizar las variables de entrada con respecto a la de salida\n",
    "2. Analizar variables con poca varianza\n",
    "3. Quedarse con las 10 Locations mas importantes de Pick Up y Drop Off y todas las otras meterlas en un id 0 (others)\n",
    "4. Correr Random Forest y Linear regression. Obtener los feature importance.\n",
    "5. Ejecutar pyCaret para ver en que concluye el automl"
   ]
  }
 ],
 "metadata": {
  "kernelspec": {
   "display_name": "Python 3.9.13 ('tp-ia')",
   "language": "python",
   "name": "python3"
  },
  "language_info": {
   "codemirror_mode": {
    "name": "ipython",
    "version": 3
   },
   "file_extension": ".py",
   "mimetype": "text/x-python",
   "name": "python",
   "nbconvert_exporter": "python",
   "pygments_lexer": "ipython3",
   "version": "3.9.13"
  },
  "vscode": {
   "interpreter": {
    "hash": "ff0b56c2c11e01fc93064e55eb1d315134029652b3f23c7e2f48e46ed7de5886"
   }
  }
 },
 "nbformat": 4,
 "nbformat_minor": 4
}
